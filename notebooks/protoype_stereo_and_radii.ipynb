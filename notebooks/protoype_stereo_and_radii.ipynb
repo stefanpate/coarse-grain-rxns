{
 "cells": [
  {
   "cell_type": "code",
   "execution_count": 1,
   "id": "09380d89",
   "metadata": {},
   "outputs": [],
   "source": [
    "import re\n",
    "import pandas as pd\n",
    "import numpy as np\n",
    "from rdkit import Chem\n",
    "from rdkit.Chem import AllChem, Draw, rdChemReactions, rdFMCS, inchi, rdDepictor\n",
    "from rdchiral.main import rdchiralRun, rdchiralRunText, rdchiralReaction, rdchiralReactants\n",
    "\n",
    "from rdkit.Chem.Draw import IPythonConsole, rdMolDraw2D\n",
    "from IPython.display import SVG\n",
    "from copy import deepcopy\n",
    "\n",
    "import warnings\n",
    "warnings.filterwarnings(\"ignore\", category=pd.errors.SettingWithCopyWarning)"
   ]
  },
  {
   "cell_type": "markdown",
   "id": "139ce08e",
   "metadata": {},
   "source": [
    "### Step 1: Extract all alcohol dehydrogenase reactions from EnzymeMap's MetaCyc V27 dataset."
   ]
  },
  {
   "cell_type": "code",
   "execution_count": 2,
   "id": "7a48d6da",
   "metadata": {},
   "outputs": [],
   "source": [
    "JN1224MIN_rules_df = pd.read_csv('./JN1224MIN_rules.tsv', delimiter = '\\t')\n",
    "M27_df = pd.read_csv('./Esther_Heid_MetaCyc_processed.csv')"
   ]
  },
  {
   "cell_type": "code",
   "execution_count": 3,
   "id": "52d32644",
   "metadata": {},
   "outputs": [],
   "source": [
    "JN_labelled_rules = []\n",
    "for rule in list(M27_df['rule']):\n",
    "    try:\n",
    "        JN_labelled_rules.append(list(JN1224MIN_rules_df[JN1224MIN_rules_df['SMARTS']==rule]['Name'])[0])\n",
    "    except IndexError:\n",
    "        JN_labelled_rules.append(None)\n",
    "        \n",
    "M27_df['JN_labelled_rule'] = JN_labelled_rules\n",
    "AdH_rxns_df = M27_df[ (M27_df['JN_labelled_rule']=='rule0002') & (M27_df['source']=='direct')]"
   ]
  },
  {
   "cell_type": "code",
   "execution_count": 4,
   "id": "596a6068",
   "metadata": {},
   "outputs": [],
   "source": [
    "AdH_rxns_df = AdH_rxns_df.drop_duplicates(subset=['mapped', 'unmapped'], keep='first')"
   ]
  },
  {
   "cell_type": "markdown",
   "id": "0e954777",
   "metadata": {},
   "source": [
    "### Step 2: Define a function to extract the atom index of the carbon atom within the substrate that specifically undergoes dehydrogenation."
   ]
  },
  {
   "cell_type": "code",
   "execution_count": 5,
   "id": "9dca3e9f",
   "metadata": {},
   "outputs": [],
   "source": [
    "# Helper function to extract atom-mapped bonds\n",
    "def get_mapped_bonds(mol):\n",
    "    bonds = set()\n",
    "    for bond in mol.GetBonds():\n",
    "        begin_atom = bond.GetBeginAtom()\n",
    "        end_atom = bond.GetEndAtom()\n",
    "\n",
    "        # Only consider atom-mapped atoms\n",
    "        if begin_atom.GetAtomMapNum() > 0 and end_atom.GetAtomMapNum() > 0:\n",
    "            bond_tuple = (begin_atom.GetAtomMapNum(), end_atom.GetAtomMapNum(), bond.GetBondType())\n",
    "            bonds.add(bond_tuple)\n",
    "    return bonds"
   ]
  },
  {
   "cell_type": "code",
   "execution_count": 6,
   "id": "2a5df358",
   "metadata": {},
   "outputs": [],
   "source": [
    "def get_changed_atoms(reaction_smarts):\n",
    "    # Create an RDKit reaction object from SMARTS\n",
    "    reaction = Chem.AllChem.ReactionFromSmarts(reaction_smarts)\n",
    "    \n",
    "    reactants = reaction.GetReactants()\n",
    "    products = reaction.GetProducts()\n",
    "    \n",
    "    reactant_bonds = set()\n",
    "    product_bonds = set()\n",
    "    \n",
    "    # Collect bonds from all reactants\n",
    "    for reactant in reactants:\n",
    "        reactant_bonds |= get_mapped_bonds(reactant)\n",
    "    \n",
    "    # Collect bonds from all products\n",
    "    for product in products:\n",
    "        product_bonds |= get_mapped_bonds(product)\n",
    "    \n",
    "    # Identify broken and formed bonds\n",
    "    broken_bonds = reactant_bonds - product_bonds  # Bonds present in reactants but not in products\n",
    "    formed_bonds = product_bonds - reactant_bonds  # Bonds present in products but not in reactants\n",
    "    \n",
    "    # Collect atom map numbers involved in broken or formed bonds\n",
    "    changed_atoms = set()\n",
    "    for bond in broken_bonds.union(formed_bonds):\n",
    "        changed_atoms.add(bond[0])  # Atom map number of the first atom\n",
    "        changed_atoms.add(bond[1])  # Atom map number of the second atom\n",
    "    \n",
    "    return changed_atoms, broken_bonds, formed_bonds"
   ]
  },
  {
   "cell_type": "code",
   "execution_count": 7,
   "id": "4664f2b7",
   "metadata": {},
   "outputs": [],
   "source": [
    "def check_if_cofactor(atom_mapped_smarts: str) -> bool:\n",
    "    \"\"\"\n",
    "    Takes an atom-mapped smarts string corresponding to a species then checks if this is a cofactor\n",
    "    Returns True if species is a cofactor and False if it is a substrate or product\n",
    "    \"\"\"\n",
    "    \n",
    "    nad_plus_smiles = '[NH2]C(=O)c1[cH][cH][cH][n+]([C@@H]2O[C@H]([CH2]OP(=O)([OH])OP(=O)([OH])O[CH2][C@H]3O[C@@H](n4[cH]nc5c([NH2])n[cH]nc54)[C@H]([OH])[C@@H]3[OH])[C@@H]([OH])[C@H]2[OH])[cH]1'\n",
    "    nadp_plus_smiles = '[NH2]C(=O)c1[cH][cH][cH][n+]([C@@H]2O[C@H]([CH2]OP(=O)([OH])OP(=O)([OH])O[CH2][C@H]3O[C@@H](n4[cH]nc5c([NH2])n[cH]nc54)[C@H](OP(=O)([OH])[OH])[C@@H]3[OH])[C@@H]([OH])[C@H]2[OH])[cH]1'\n",
    "    \n",
    "    nadh_smiles = '[NH2]C(=O)C1=[CH]N([C@@H]2O[C@H]([CH2]OP(=O)([OH])OP(=O)([OH])O[CH2][C@H]3O[C@@H](n4[cH]nc5c([NH2])n[cH]nc54)[C@H]([OH])[C@@H]3[OH])[C@@H]([OH])[C@H]2[OH])[CH]=[CH][CH2]1'\n",
    "    nadph_smiles = '[NH2]C(=O)C1=[CH]N([C@@H]2O[C@H]([CH2]OP(=O)([OH])OP(=O)([OH])O[CH2][C@H]3O[C@@H](n4[cH]nc5c([NH2])n[cH]nc54)[C@H](OP(=O)([OH])[OH])[C@@H]3[OH])[C@@H]([OH])[C@H]2[OH])[CH]=[CH][CH2]1'\n",
    "    \n",
    "    cofactors_list = [nad_plus_smiles, nadp_plus_smiles, nadh_smiles, nadph_smiles]\n",
    "    \n",
    "    mol = Chem.MolFromSmarts(atom_mapped_smarts)\n",
    "    \n",
    "    # remove atom mapping numbers\n",
    "    for atom in mol.GetAtoms():\n",
    "        atom.SetAtomMapNum(0)\n",
    "    \n",
    "    # convert the molecule back to a SMILES string without atom mapping numbers\n",
    "    smiles_string = Chem.MolToSmiles(mol, isomericSmiles = True, canonical = True)\n",
    "    \n",
    "    if smiles_string in cofactors_list:\n",
    "        return True\n",
    "                                     \n",
    "    else:\n",
    "        return False"
   ]
  },
  {
   "cell_type": "code",
   "execution_count": 8,
   "id": "4bb64c33",
   "metadata": {},
   "outputs": [],
   "source": [
    "def check_if_changed_atom_in_substrate(changed_atom_indices: set, reaction_smarts: str):\n",
    "    \n",
    "    # initialize an empty list to store the atom index where a reaction occurs on a substrate\n",
    "    reactive_site_index = []\n",
    "    \n",
    "    reactants_list = reaction_smarts.split('>>')[0].split('.')\n",
    "    \n",
    "    # for each atom-mapped reactant\n",
    "    for reactant_smarts in reactants_list:\n",
    "        \n",
    "        # check first each atom index corresponding to a changed atom undergoes a change is in this reactant\n",
    "        for atom_idx in list(changed_atom_indices):\n",
    "            if f':{atom_idx}' in reactant_smarts:\n",
    "                \n",
    "                # if reactant species holding this atom index is a cofactor, dont store atom index as reactive site\n",
    "                if check_if_cofactor(reactant_smarts):\n",
    "                    pass\n",
    "                \n",
    "                # if reactant species holding this atom index is indeed a substrate, save it as a reactive site\n",
    "                else:\n",
    "                    pattern = re.compile(r'\\[[Cc][^\\]]*:' + str(atom_idx) + r'\\]')\n",
    "                    match = pattern.findall(reactant_smarts)\n",
    "                    if match:\n",
    "                        reactive_site_index.append(atom_idx)\n",
    "\n",
    "    return reactive_site_index"
   ]
  },
  {
   "cell_type": "code",
   "execution_count": 9,
   "id": "0e93ce4d",
   "metadata": {},
   "outputs": [],
   "source": [
    "rxn_idx = 0"
   ]
  },
  {
   "cell_type": "code",
   "execution_count": 10,
   "id": "a6808a63",
   "metadata": {},
   "outputs": [],
   "source": [
    "changed_atoms, broken_bonds, formed_bonds = get_changed_atoms(list(AdH_rxns_df['mapped'])[rxn_idx])"
   ]
  },
  {
   "cell_type": "code",
   "execution_count": 11,
   "id": "fea24613",
   "metadata": {
    "scrolled": true
   },
   "outputs": [],
   "source": [
    "reaction_smarts = list(AdH_rxns_df['mapped'])[rxn_idx]"
   ]
  },
  {
   "cell_type": "code",
   "execution_count": 12,
   "id": "2f15c3cb",
   "metadata": {},
   "outputs": [
    {
     "data": {
      "text/plain": [
       "[2]"
      ]
     },
     "execution_count": 12,
     "metadata": {},
     "output_type": "execute_result"
    }
   ],
   "source": [
    "check_if_changed_atom_in_substrate(changed_atoms, reaction_smarts)"
   ]
  },
  {
   "cell_type": "code",
   "execution_count": 13,
   "id": "8ce78ee4",
   "metadata": {},
   "outputs": [
    {
     "data": {
      "text/plain": [
       "'[CH3:1][CH2:2][OH:3].[NH2:4][C:5](=[O:6])[c:7]1[cH:8][cH:9][cH:10][n+:11]([C@@H:12]2[O:13][C@H:14]([CH2:15][O:16][P:17](=[O:18])([OH:19])[O:20][P:21](=[O:22])([OH:23])[O:24][CH2:25][C@H:26]3[O:27][C@@H:28]([n:29]4[cH:30][n:31][c:32]5[c:33]([NH2:34])[n:35][cH:36][n:37][c:38]45)[C@H:39]([OH:40])[C@@H:41]3[OH:42])[C@@H:43]([OH:44])[C@H:45]2[OH:46])[cH:47]1>>[CH3:1][CH:2]=[O:3].[H+].[NH2:4][C:5](=[O:6])[C:7]1=[CH:47][N:11]([C@@H:12]2[O:13][C@H:14]([CH2:15][O:16][P:17](=[O:18])([OH:19])[O:20][P:21](=[O:22])([OH:23])[O:24][CH2:25][C@H:26]3[O:27][C@@H:28]([n:29]4[cH:30][n:31][c:32]5[c:33]([NH2:34])[n:35][cH:36][n:37][c:38]45)[C@H:39]([OH:40])[C@@H:41]3[OH:42])[C@@H:43]([OH:44])[C@H:45]2[OH:46])[CH:10]=[CH:9][CH2:8]1'"
      ]
     },
     "execution_count": 13,
     "metadata": {},
     "output_type": "execute_result"
    }
   ],
   "source": [
    "list(AdH_rxns_df['mapped'])[rxn_idx]"
   ]
  },
  {
   "cell_type": "code",
   "execution_count": 14,
   "id": "30207c59",
   "metadata": {},
   "outputs": [
    {
     "data": {
      "image/png": "[encoded data removed]",
      "text/plain": [
       "<rdkit.Chem.rdchem.Mol at 0x7fc73900b900>"
      ]
     },
     "execution_count": 14,
     "metadata": {},
     "output_type": "execute_result"
    }
   ],
   "source": [
    "Chem.MolFromSmiles('[CH3:1]/[C:2](=[CH:3]/[CH2:4][OH:5])[CH2:6][CH2:7][CH2:8][C@H:9]([CH3:10])[CH2:11][CH2:12][CH2:13][C@H:14]([CH3:15])[CH2:16][CH2:17][CH2:18][CH:19]([CH3:20])[CH3:21]')"
   ]
  },
  {
   "cell_type": "markdown",
   "id": "dfac4455",
   "metadata": {},
   "source": [
    "### Step 3: Deploy this function to get the index of the carbon atom that will undergo dehydrogenation for every alcohol dehydrogenation reaction in MetaCyc V27."
   ]
  },
  {
   "cell_type": "code",
   "execution_count": 15,
   "id": "3c2950fd",
   "metadata": {},
   "outputs": [],
   "source": [
    "all_rxn_site_coordinates = []\n",
    "idx_to_keep = []\n",
    "\n",
    "for rxn_idx in range(0,AdH_rxns_df.shape[0]):\n",
    "    changed_atoms, broken_bonds, formed_bonds = get_changed_atoms(list(AdH_rxns_df['mapped'])[rxn_idx])\n",
    "    reaction_smarts = list(AdH_rxns_df['mapped'])[rxn_idx]\n",
    "    reactive_site = check_if_changed_atom_in_substrate(changed_atoms, reaction_smarts)\n",
    "    \n",
    "    if len(reactive_site) == 1:\n",
    "        all_rxn_site_coordinates.append(reactive_site[0])\n",
    "        idx_to_keep.append(rxn_idx)"
   ]
  },
  {
   "cell_type": "code",
   "execution_count": 16,
   "id": "e26ac3ba",
   "metadata": {},
   "outputs": [
    {
     "name": "stdout",
     "output_type": "stream",
     "text": [
      "The reactive carbon atoms undergoing dehydrogenation were successfully obtained for 380 reactions\n"
     ]
    }
   ],
   "source": [
    "print(f'The reactive carbon atoms undergoing dehydrogenation were successfully obtained for {len(all_rxn_site_coordinates)} reactions')\n"
   ]
  },
  {
   "cell_type": "code",
   "execution_count": 17,
   "id": "2ad9b4a0",
   "metadata": {},
   "outputs": [],
   "source": [
    "AdH_rxns_df = AdH_rxns_df.iloc[idx_to_keep, :]"
   ]
  },
  {
   "cell_type": "code",
   "execution_count": 18,
   "id": "a091da04",
   "metadata": {},
   "outputs": [],
   "source": [
    "AdH_rxns_df.loc[:,'Reaction_site_idx'] = all_rxn_site_coordinates"
   ]
  },
  {
   "cell_type": "code",
   "execution_count": 19,
   "id": "f34bf579",
   "metadata": {},
   "outputs": [
    {
     "data": {
      "text/html": [
       "<div>\n",
       "<style scoped>\n",
       "    .dataframe tbody tr th:only-of-type {\n",
       "        vertical-align: middle;\n",
       "    }\n",
       "\n",
       "    .dataframe tbody tr th {\n",
       "        vertical-align: top;\n",
       "    }\n",
       "\n",
       "    .dataframe thead th {\n",
       "        text-align: right;\n",
       "    }\n",
       "</style>\n",
       "<table border=\"1\" class=\"dataframe\">\n",
       "  <thead>\n",
       "    <tr style=\"text-align: right;\">\n",
       "      <th></th>\n",
       "      <th>rxn_idx</th>\n",
       "      <th>mapped</th>\n",
       "      <th>unmapped</th>\n",
       "      <th>orig_rxn_text</th>\n",
       "      <th>rule</th>\n",
       "      <th>rule_id</th>\n",
       "      <th>source</th>\n",
       "      <th>steps</th>\n",
       "      <th>quality</th>\n",
       "      <th>natural</th>\n",
       "      <th>organism</th>\n",
       "      <th>protein_refs</th>\n",
       "      <th>protein_db</th>\n",
       "      <th>ec_num</th>\n",
       "      <th>JN_labelled_rule</th>\n",
       "      <th>Reaction_site_idx</th>\n",
       "    </tr>\n",
       "  </thead>\n",
       "  <tbody>\n",
       "    <tr>\n",
       "      <th>0</th>\n",
       "      <td>903</td>\n",
       "      <td>[CH3:1][CH2:2][OH:3].[NH2:4][C:5](=[O:6])[c:7]...</td>\n",
       "      <td>CCO.NC(=O)c1ccc[n+]([C@@H]2O[C@H](COP(=O)(O)OP...</td>\n",
       "      <td>ALCOHOL-DEHYDROG-RXN</td>\n",
       "      <td>[#6:1]-[#8:2].[#6:3]1:[#6:4]:[#6:5]:[#6:6]:[#7...</td>\n",
       "      <td>1</td>\n",
       "      <td>direct</td>\n",
       "      <td>single</td>\n",
       "      <td>1.0</td>\n",
       "      <td>NaN</td>\n",
       "      <td>NaN</td>\n",
       "      <td>[]</td>\n",
       "      <td>NaN</td>\n",
       "      <td>1.1.1.1</td>\n",
       "      <td>rule0002</td>\n",
       "      <td>2</td>\n",
       "    </tr>\n",
       "    <tr>\n",
       "      <th>4</th>\n",
       "      <td>2324</td>\n",
       "      <td>[CH3:1][O:2][c:3]1[cH:4][c:5]([C@@H:6]([OH:7])...</td>\n",
       "      <td>COc1cc([C@@H](O)CO)ccc1O.NC(=O)c1ccc[n+]([C@@H...</td>\n",
       "      <td>RXN-10915</td>\n",
       "      <td>[#6:1]-[#8:2].[#6:3]1:[#6:4]:[#6:5]:[#6:6]:[#7...</td>\n",
       "      <td>1</td>\n",
       "      <td>direct</td>\n",
       "      <td>single</td>\n",
       "      <td>1.0</td>\n",
       "      <td>NaN</td>\n",
       "      <td>NaN</td>\n",
       "      <td>[]</td>\n",
       "      <td>NaN</td>\n",
       "      <td>1.1.1.1</td>\n",
       "      <td>rule0002</td>\n",
       "      <td>8</td>\n",
       "    </tr>\n",
       "    <tr>\n",
       "      <th>7</th>\n",
       "      <td>5135</td>\n",
       "      <td>[CH3:1][C@@H:2]([OH:3])[CH2:4][CH2:5][OH:6].[N...</td>\n",
       "      <td>C[C@@H](O)CCO.NC(=O)c1ccc[n+]([C@@H]2O[C@H](CO...</td>\n",
       "      <td>RXN-21862</td>\n",
       "      <td>[#6:1]-[#8:2].[#6:3]1:[#6:4]:[#6:5]:[#6:6]:[#7...</td>\n",
       "      <td>1</td>\n",
       "      <td>direct</td>\n",
       "      <td>single</td>\n",
       "      <td>1.0</td>\n",
       "      <td>NaN</td>\n",
       "      <td>NaN</td>\n",
       "      <td>[]</td>\n",
       "      <td>NaN</td>\n",
       "      <td>1.1.1.1</td>\n",
       "      <td>rule0002</td>\n",
       "      <td>5</td>\n",
       "    </tr>\n",
       "    <tr>\n",
       "      <th>9</th>\n",
       "      <td>5743</td>\n",
       "      <td>[CH3:1][CH:2]([CH3:3])[CH2:4][OH:5].[NH2:6][C:...</td>\n",
       "      <td>CC(C)CO.NC(=O)c1ccc[n+]([C@@H]2O[C@H](COP(=O)(...</td>\n",
       "      <td>RXN-7657</td>\n",
       "      <td>[#6:1]-[#8:2].[#6:3]1:[#6:4]:[#6:5]:[#6:6]:[#7...</td>\n",
       "      <td>1</td>\n",
       "      <td>direct</td>\n",
       "      <td>single</td>\n",
       "      <td>1.0</td>\n",
       "      <td>NaN</td>\n",
       "      <td>NaN</td>\n",
       "      <td>[]</td>\n",
       "      <td>NaN</td>\n",
       "      <td>1.1.1.1</td>\n",
       "      <td>rule0002</td>\n",
       "      <td>4</td>\n",
       "    </tr>\n",
       "    <tr>\n",
       "      <th>11</th>\n",
       "      <td>5751</td>\n",
       "      <td>[CH3:1][CH:2]([CH3:3])[CH2:4][CH2:5][OH:6].[NH...</td>\n",
       "      <td>CC(C)CCO.NC(=O)c1ccc[n+]([C@@H]2O[C@H](COP(=O)...</td>\n",
       "      <td>RXN-7693</td>\n",
       "      <td>[#6:1]-[#8:2].[#6:3]1:[#6:4]:[#6:5]:[#6:6]:[#7...</td>\n",
       "      <td>1</td>\n",
       "      <td>direct</td>\n",
       "      <td>single</td>\n",
       "      <td>1.0</td>\n",
       "      <td>NaN</td>\n",
       "      <td>NaN</td>\n",
       "      <td>[]</td>\n",
       "      <td>NaN</td>\n",
       "      <td>1.1.1.1</td>\n",
       "      <td>rule0002</td>\n",
       "      <td>5</td>\n",
       "    </tr>\n",
       "  </tbody>\n",
       "</table>\n",
       "</div>"
      ],
      "text/plain": [
       "    rxn_idx                                             mapped  \\\n",
       "0       903  [CH3:1][CH2:2][OH:3].[NH2:4][C:5](=[O:6])[c:7]...   \n",
       "4      2324  [CH3:1][O:2][c:3]1[cH:4][c:5]([C@@H:6]([OH:7])...   \n",
       "7      5135  [CH3:1][C@@H:2]([OH:3])[CH2:4][CH2:5][OH:6].[N...   \n",
       "9      5743  [CH3:1][CH:2]([CH3:3])[CH2:4][OH:5].[NH2:6][C:...   \n",
       "11     5751  [CH3:1][CH:2]([CH3:3])[CH2:4][CH2:5][OH:6].[NH...   \n",
       "\n",
       "                                             unmapped         orig_rxn_text  \\\n",
       "0   CCO.NC(=O)c1ccc[n+]([C@@H]2O[C@H](COP(=O)(O)OP...  ALCOHOL-DEHYDROG-RXN   \n",
       "4   COc1cc([C@@H](O)CO)ccc1O.NC(=O)c1ccc[n+]([C@@H...             RXN-10915   \n",
       "7   C[C@@H](O)CCO.NC(=O)c1ccc[n+]([C@@H]2O[C@H](CO...             RXN-21862   \n",
       "9   CC(C)CO.NC(=O)c1ccc[n+]([C@@H]2O[C@H](COP(=O)(...              RXN-7657   \n",
       "11  CC(C)CCO.NC(=O)c1ccc[n+]([C@@H]2O[C@H](COP(=O)...              RXN-7693   \n",
       "\n",
       "                                                 rule  rule_id  source  \\\n",
       "0   [#6:1]-[#8:2].[#6:3]1:[#6:4]:[#6:5]:[#6:6]:[#7...        1  direct   \n",
       "4   [#6:1]-[#8:2].[#6:3]1:[#6:4]:[#6:5]:[#6:6]:[#7...        1  direct   \n",
       "7   [#6:1]-[#8:2].[#6:3]1:[#6:4]:[#6:5]:[#6:6]:[#7...        1  direct   \n",
       "9   [#6:1]-[#8:2].[#6:3]1:[#6:4]:[#6:5]:[#6:6]:[#7...        1  direct   \n",
       "11  [#6:1]-[#8:2].[#6:3]1:[#6:4]:[#6:5]:[#6:6]:[#7...        1  direct   \n",
       "\n",
       "     steps  quality  natural  organism protein_refs  protein_db   ec_num  \\\n",
       "0   single      1.0      NaN       NaN           []         NaN  1.1.1.1   \n",
       "4   single      1.0      NaN       NaN           []         NaN  1.1.1.1   \n",
       "7   single      1.0      NaN       NaN           []         NaN  1.1.1.1   \n",
       "9   single      1.0      NaN       NaN           []         NaN  1.1.1.1   \n",
       "11  single      1.0      NaN       NaN           []         NaN  1.1.1.1   \n",
       "\n",
       "   JN_labelled_rule  Reaction_site_idx  \n",
       "0          rule0002                  2  \n",
       "4          rule0002                  8  \n",
       "7          rule0002                  5  \n",
       "9          rule0002                  4  \n",
       "11         rule0002                  5  "
      ]
     },
     "execution_count": 19,
     "metadata": {},
     "output_type": "execute_result"
    }
   ],
   "source": [
    "AdH_rxns_df.head(5)"
   ]
  },
  {
   "cell_type": "markdown",
   "id": "a813bde8",
   "metadata": {},
   "source": [
    "### Step 4: With the reactive carbon undergoing dehydrogenation obtained for each alcohol dehydrogenation reaction, extract the chemical environments around such carbons at radii of 1, 2, 3, and 4 bonds around this carbon."
   ]
  },
  {
   "cell_type": "code",
   "execution_count": 20,
   "id": "dea951d5",
   "metadata": {},
   "outputs": [],
   "source": [
    "def get_env_around_reaction_site_single_reactant(atom_mapped_substrate_smarts: str, \n",
    "                                                 radius: int, \n",
    "                                                 starting_atom_idx: int):\n",
    "    \n",
    "    \"\"\"\n",
    "    Extract the chemical environment around the specified reactive carbon atom at a specified bond radius.\n",
    "    The resulting chemical environment is returned as a SMARTS string\n",
    "    \n",
    "    Example usage:\n",
    "    \n",
    "    atom_mapped_substrate_smarts = '[CH3:1][O:2][c:3]1[cH:4][c:5]([C@@H:6]([OH:7])[CH:8][O:9])[cH:10][cH:11][c:12]1[OH:13]'\n",
    "    starting_atom_idx = 8\n",
    "    \n",
    "    radius = 1\n",
    "    get_env_around_reaction_site_single_reactant(atom_mapped_substrate_smarts, radius, starting_atom_idx)\n",
    "    >> [C&H1:8][O:9]\n",
    "    \n",
    "    radius = 2\n",
    "    get_env_around_reaction_site_single_reactant(atom_mapped_substrate_smarts, radius, starting_atom_idx)\n",
    "    >> [C&H1:8]([C@@&H1:6])[O:9]\n",
    "    \n",
    "    radius = 3\n",
    "    get_env_around_reaction_site_single_reactant(atom_mapped_substrate_smarts, radius, starting_atom_idx)\n",
    "    >> [c:5][C@@&H1:6]([O&H1:7])[C&H1:8][O:9]\n",
    "    \n",
    "    radius = 4\n",
    "    get_env_around_reaction_site_single_reactant(atom_mapped_substrate_smarts, radius, starting_atom_idx)\n",
    "    >> [c&H1:4][c:5]([C@@&H1:6]([O&H1:7])[C&H1:8][O:9])[c&H1:10]\n",
    "    \"\"\"\n",
    "    \n",
    "    substrate_mol = Chem.MolFromSmarts(atom_mapped_substrate_smarts)\n",
    "    \n",
    "    # get initial reaction environment\n",
    "    reaction_environment = Chem.FindAtomEnvironmentOfRadiusN(mol = substrate_mol, \n",
    "                                                             radius = radius, \n",
    "                                                             rootedAtAtom = starting_atom_idx)\n",
    "    \n",
    "    # from this initial reaction environment around the reactive site, extract bond indices\n",
    "    bond_indices = list(reaction_environment)\n",
    "    \n",
    "    # with these bond_indices, collect the atom_indices of atoms linked by these bonds\n",
    "    atom_indices = set()\n",
    "    \n",
    "    for bond_idx in bond_indices:\n",
    "        bond = substrate_mol.GetBondWithIdx(bond_idx)\n",
    "        atom_indices.add(bond.GetBeginAtomIdx())\n",
    "        atom_indices.add(bond.GetEndAtomIdx())\n",
    "        \n",
    "    final_env_smarts = Chem.MolFragmentToSmarts(substrate_mol, atomsToUse=list(atom_indices))\n",
    "    \n",
    "    return final_env_smarts"
   ]
  },
  {
   "cell_type": "code",
   "execution_count": 21,
   "id": "951a6640",
   "metadata": {},
   "outputs": [],
   "source": [
    "def fix_rxn_site_number(reactant_smarts: str, \n",
    "                        reactive_carbon_idx_from_atom_map: str):\n",
    "    \"\"\"\n",
    "    The index of the reactive carbon atom obtained previously is that obtained from atom mapping.\n",
    "    This index, however, does not necessarily correspond to that internally used by RDKit.\n",
    "    Consequently, we run a correction step wherein we iterate over \n",
    "    \"\"\"\n",
    "    \n",
    "    reactant_mol = Chem.MolFromSmarts(reactant_smarts)\n",
    "    \n",
    "    for atom in reactant_mol.GetAtoms():\n",
    "        if atom.GetAtomMapNum() == reactive_carbon_idx_from_atom_map:\n",
    "            corrected_reactive_atom_idx = atom.GetIdx()\n",
    "            \n",
    "    return corrected_reactive_atom_idx"
   ]
  },
  {
   "cell_type": "code",
   "execution_count": 285,
   "id": "be54752a",
   "metadata": {},
   "outputs": [],
   "source": [
    "### Here, we extract chemical environments with some predetermined radius\n",
    "radius = 4\n",
    "\n",
    "# initialize a list to store all substructure environments in terms of their SMARTS\n",
    "all_env_smarts = []\n",
    "\n",
    "# initialize an empty list to store the indexes of all rows to keep\n",
    "idx_to_keep = []\n",
    "\n",
    "for rxn_idx in range(0, AdH_rxns_df.shape[0]):\n",
    "    \n",
    "    rxn_smarts = AdH_rxns_df.iloc[rxn_idx,:]['mapped']\n",
    "    reactive_carbon_idx = AdH_rxns_df.iloc[rxn_idx,:]['Reaction_site_idx']\n",
    "    \n",
    "    reactant_smarts_list, product_smarts_list = rxn_smarts.split('>>')\n",
    "    \n",
    "    for reactant_smarts in reactant_smarts_list.split('.'):\n",
    "        \n",
    "        if check_if_cofactor(reactant_smarts) == False:\n",
    "            \n",
    "            corrected_atom_idx = fix_rxn_site_number(reactant_smarts = reactant_smarts, \n",
    "                                                      reactive_carbon_idx_from_atom_map = reactive_carbon_idx)\n",
    "            \n",
    "            try:\n",
    "                \n",
    "                env_smarts = get_env_around_reaction_site_single_reactant(reactant_smarts, \n",
    "                                                                          radius, \n",
    "                                                                          corrected_atom_idx)\n",
    "                \n",
    "                all_env_smarts.append(env_smarts)\n",
    "                idx_to_keep.append(rxn_idx)\n",
    "            \n",
    "            except:\n",
    "                pass"
   ]
  },
  {
   "cell_type": "code",
   "execution_count": 286,
   "id": "26a45507",
   "metadata": {},
   "outputs": [],
   "source": [
    "AdH_rxns_df_w_substructs = AdH_rxns_df.iloc[idx_to_keep,:]"
   ]
  },
  {
   "cell_type": "code",
   "execution_count": 287,
   "id": "1a5a01d5",
   "metadata": {},
   "outputs": [],
   "source": [
    "AdH_rxns_df_w_substructs['substructure_environments'] = all_env_smarts"
   ]
  },
  {
   "cell_type": "code",
   "execution_count": 288,
   "id": "57876280",
   "metadata": {},
   "outputs": [
    {
     "data": {
      "text/plain": [
       "'[O&H1:49][C&H2:50][C@@&H1:51]([O&H1:52])[C@&H1:53]([O&H1:54])[C@@&H1:55]([O&H1:56])[C&H2:57][O&H1:58]'"
      ]
     },
     "execution_count": 288,
     "metadata": {},
     "output_type": "execute_result"
    }
   ],
   "source": [
    "AdH_rxns_df_w_substructs.iloc[3,:]['substructure_environments']"
   ]
  },
  {
   "cell_type": "code",
   "execution_count": 289,
   "id": "6c07fa6c",
   "metadata": {},
   "outputs": [
    {
     "data": {
      "text/plain": [
       "'NC(=O)c1ccc[n+]([C@@H]2O[C@H](COP(=O)(O)OP(=O)(O)OC[C@H]3O[C@@H](n4cnc5c(N)ncnc54)[C@H](OP(=O)(O)O)[C@@H]3O)[C@@H](O)[C@H]2O)c1.OC[C@@H](O)[C@H](O)[C@@H](O)CO>>NC(=O)C1=CN([C@@H]2O[C@H](COP(=O)(O)OP(=O)(O)OC[C@H]3O[C@@H](n4cnc5c(N)ncnc54)[C@H](OP(=O)(O)O)[C@@H]3O)[C@@H](O)[C@H]2O)C=CC1.O=C(CO)[C@H](O)[C@@H](O)CO.[H+]'"
      ]
     },
     "execution_count": 289,
     "metadata": {},
     "output_type": "execute_result"
    }
   ],
   "source": [
    "AdH_rxns_df_w_substructs.iloc[3,:]['unmapped']"
   ]
  },
  {
   "cell_type": "code",
   "execution_count": 290,
   "id": "b00040a5",
   "metadata": {},
   "outputs": [
    {
     "data": {
      "text/plain": [
       "'[O&H1:45][C&H2:46][C&H2:47][c:48]([c&H1:49][c&H1:50])[c&H1:53][c&H1:52]'"
      ]
     },
     "execution_count": 290,
     "metadata": {},
     "output_type": "execute_result"
    }
   ],
   "source": [
    "list(AdH_rxns_df_w_substructs[AdH_rxns_df_w_substructs['unmapped']=='NC(=O)c1ccc[n+]([C@@H]2O[C@H](COP(=O)(O)OP(=O)(O)OC[C@H]3O[C@@H](n4cnc5c(N)ncnc54)[C@H](O)[C@@H]3O)[C@@H](O)[C@H]2O)c1.OCCc1ccccc1>>NC(=O)C1=CN([C@@H]2O[C@H](COP(=O)(O)OP(=O)(O)OC[C@H]3O[C@@H](n4cnc5c(N)ncnc54)[C@H](O)[C@@H]3O)[C@@H](O)[C@H]2O)C=CC1.O=CCc1ccccc1.[H+]']['substructure_environments'])[0]\n"
   ]
  },
  {
   "cell_type": "code",
   "execution_count": 292,
   "id": "9637878a",
   "metadata": {},
   "outputs": [
    {
     "data": {
      "image/svg+xml": [
       "<svg xmlns=\"http://www.w3.org/2000/svg\" xmlns:rdkit=\"http://www.rdkit.org/xml\" xmlns:xlink=\"http://www.w3.org/1999/xlink\" version=\"1.1\" baseProfile=\"full\" xml:space=\"preserve\" width=\"400px\" height=\"200px\" viewBox=\"0 0 400 200\">\n",
       "<!-- END OF HEADER -->\n",
       "<rect style=\"opacity:1.0;fill:#FFFFFF;stroke:none\" width=\"400.0\" height=\"200.0\" x=\"0.0\" y=\"0.0\"> </rect>\n",
       "<path class=\"bond-0 atom-0 atom-1\" d=\"M 127.9,73.8 L 123.0,90.4 L 58.6,106.0 L 55.0,91.4 Z\" style=\"fill:#FF7F7F;fill-rule:evenodd;fill-opacity:1;stroke:#FF7F7F;stroke-width:0.0px;stroke-linecap:butt;stroke-linejoin:miter;stroke-opacity:1;\"/>\n",
       "<path class=\"bond-1 atom-1 atom-2\" d=\"M 127.9,73.8 L 176.6,124.9 L 171.7,141.6 L 123.0,90.4 Z\" style=\"fill:#FF7F7F;fill-rule:evenodd;fill-opacity:1;stroke:#FF7F7F;stroke-width:0.0px;stroke-linecap:butt;stroke-linejoin:miter;stroke-opacity:1;\"/>\n",
       "<path class=\"bond-2 atom-2 atom-3\" d=\"M 236.8,110.3 L 242.8,116.6 L 240.3,125.0 L 171.7,141.6 L 176.6,124.9 Z\" style=\"fill:#FF7F7F;fill-rule:evenodd;fill-opacity:1;stroke:#FF7F7F;stroke-width:0.0px;stroke-linecap:butt;stroke-linejoin:miter;stroke-opacity:1;\"/>\n",
       "<path class=\"bond-3 atom-3 atom-4\" d=\"M 256.7,42.6 L 268.7,55.2 L 251.2,114.6 L 242.8,116.6 L 236.8,110.3 Z\" style=\"fill:#FF7F7F;fill-rule:evenodd;fill-opacity:1;stroke:#FF7F7F;stroke-width:0.0px;stroke-linecap:butt;stroke-linejoin:miter;stroke-opacity:1;\"/>\n",
       "<path class=\"bond-8 atom-3 atom-8\" d=\"M 251.2,114.6 L 293.9,159.4 L 289.0,176.1 L 240.3,125.0 L 242.8,116.6 Z\" style=\"fill:#FF7F7F;fill-rule:evenodd;fill-opacity:1;stroke:#FF7F7F;stroke-width:0.0px;stroke-linecap:butt;stroke-linejoin:miter;stroke-opacity:1;\"/>\n",
       "<path class=\"bond-4 atom-4 atom-5\" d=\"M 329.5,24.9 L 333.1,39.6 L 268.7,55.2 L 256.7,42.6 Z\" style=\"fill:#FF7F7F;fill-rule:evenodd;fill-opacity:1;stroke:#FF7F7F;stroke-width:0.0px;stroke-linecap:butt;stroke-linejoin:miter;stroke-opacity:1;\"/>\n",
       "<path class=\"bond-7 atom-7 atom-8\" d=\"M 358.3,143.8 L 361.8,158.4 L 289.0,176.1 L 293.9,159.4 Z\" style=\"fill:#FF7F7F;fill-rule:evenodd;fill-opacity:1;stroke:#FF7F7F;stroke-width:0.0px;stroke-linecap:butt;stroke-linejoin:miter;stroke-opacity:1;\"/>\n",
       "<ellipse cx=\"46.9\" cy=\"98.9\" rx=\"26.9\" ry=\"14.5\" class=\"atom-0\" style=\"fill:#FF7F7F;fill-rule:evenodd;stroke:#FF7F7F;stroke-width:1.0px;stroke-linecap:butt;stroke-linejoin:miter;stroke-opacity:1\"/>\n",
       "<ellipse cx=\"125.4\" cy=\"82.1\" rx=\"14.1\" ry=\"14.1\" class=\"atom-1\" style=\"fill:#FF7F7F;fill-rule:evenodd;stroke:#FF7F7F;stroke-width:1.0px;stroke-linecap:butt;stroke-linejoin:miter;stroke-opacity:1\"/>\n",
       "<ellipse cx=\"174.1\" cy=\"133.2\" rx=\"14.1\" ry=\"14.1\" class=\"atom-2\" style=\"fill:#FF7F7F;fill-rule:evenodd;stroke:#FF7F7F;stroke-width:1.0px;stroke-linecap:butt;stroke-linejoin:miter;stroke-opacity:1\"/>\n",
       "<ellipse cx=\"242.8\" cy=\"116.6\" rx=\"14.1\" ry=\"14.1\" class=\"atom-3\" style=\"fill:#FF7F7F;fill-rule:evenodd;stroke:#FF7F7F;stroke-width:1.0px;stroke-linecap:butt;stroke-linejoin:miter;stroke-opacity:1\"/>\n",
       "<ellipse cx=\"262.7\" cy=\"48.9\" rx=\"14.1\" ry=\"14.1\" class=\"atom-4\" style=\"fill:#FF7F7F;fill-rule:evenodd;stroke:#FF7F7F;stroke-width:1.0px;stroke-linecap:butt;stroke-linejoin:miter;stroke-opacity:1\"/>\n",
       "<ellipse cx=\"331.3\" cy=\"32.3\" rx=\"14.1\" ry=\"14.1\" class=\"atom-5\" style=\"fill:#FF7F7F;fill-rule:evenodd;stroke:#FF7F7F;stroke-width:1.0px;stroke-linecap:butt;stroke-linejoin:miter;stroke-opacity:1\"/>\n",
       "<ellipse cx=\"360.1\" cy=\"151.1\" rx=\"14.1\" ry=\"14.1\" class=\"atom-7\" style=\"fill:#FF7F7F;fill-rule:evenodd;stroke:#FF7F7F;stroke-width:1.0px;stroke-linecap:butt;stroke-linejoin:miter;stroke-opacity:1\"/>\n",
       "<ellipse cx=\"291.5\" cy=\"167.7\" rx=\"14.1\" ry=\"14.1\" class=\"atom-8\" style=\"fill:#FF7F7F;fill-rule:evenodd;stroke:#FF7F7F;stroke-width:1.0px;stroke-linecap:butt;stroke-linejoin:miter;stroke-opacity:1\"/>\n",
       "<path class=\"bond-0 atom-0 atom-1\" d=\"M 68.3,95.9 L 96.9,89.0\" style=\"fill:none;fill-rule:evenodd;stroke:#FF0000;stroke-width:2.0px;stroke-linecap:butt;stroke-linejoin:miter;stroke-opacity:1\"/>\n",
       "<path class=\"bond-0 atom-0 atom-1\" d=\"M 96.9,89.0 L 125.4,82.1\" style=\"fill:none;fill-rule:evenodd;stroke:#000000;stroke-width:2.0px;stroke-linecap:butt;stroke-linejoin:miter;stroke-opacity:1\"/>\n",
       "<path class=\"bond-1 atom-1 atom-2\" d=\"M 125.4,82.1 L 174.1,133.2\" style=\"fill:none;fill-rule:evenodd;stroke:#000000;stroke-width:2.0px;stroke-linecap:butt;stroke-linejoin:miter;stroke-opacity:1\"/>\n",
       "<path class=\"bond-2 atom-2 atom-3\" d=\"M 174.1,133.2 L 242.8,116.6\" style=\"fill:none;fill-rule:evenodd;stroke:#000000;stroke-width:2.0px;stroke-linecap:butt;stroke-linejoin:miter;stroke-opacity:1\"/>\n",
       "<path class=\"bond-3 atom-3 atom-4\" d=\"M 242.8,116.6 L 262.7,48.9\" style=\"fill:none;fill-rule:evenodd;stroke:#000000;stroke-width:2.0px;stroke-linecap:butt;stroke-linejoin:miter;stroke-opacity:1\"/>\n",
       "<path class=\"bond-3 atom-3 atom-4\" d=\"M 254.6,113.7 L 271.1,57.7\" style=\"fill:none;fill-rule:evenodd;stroke:#000000;stroke-width:2.0px;stroke-linecap:butt;stroke-linejoin:miter;stroke-opacity:1\"/>\n",
       "<path class=\"bond-4 atom-4 atom-5\" d=\"M 262.7,48.9 L 331.3,32.3\" style=\"fill:none;fill-rule:evenodd;stroke:#000000;stroke-width:2.0px;stroke-linecap:butt;stroke-linejoin:miter;stroke-opacity:1\"/>\n",
       "<path class=\"bond-5 atom-5 atom-6\" d=\"M 331.3,32.3 L 380.0,83.4\" style=\"fill:none;fill-rule:evenodd;stroke:#000000;stroke-width:2.0px;stroke-linecap:butt;stroke-linejoin:miter;stroke-opacity:1\"/>\n",
       "<path class=\"bond-5 atom-5 atom-6\" d=\"M 327.9,44.0 L 368.1,86.3\" style=\"fill:none;fill-rule:evenodd;stroke:#000000;stroke-width:2.0px;stroke-linecap:butt;stroke-linejoin:miter;stroke-opacity:1\"/>\n",
       "<path class=\"bond-6 atom-6 atom-7\" d=\"M 380.0,83.4 L 360.1,151.1\" style=\"fill:none;fill-rule:evenodd;stroke:#000000;stroke-width:2.0px;stroke-linecap:butt;stroke-linejoin:miter;stroke-opacity:1\"/>\n",
       "<path class=\"bond-7 atom-7 atom-8\" d=\"M 360.1,151.1 L 291.5,167.7\" style=\"fill:none;fill-rule:evenodd;stroke:#000000;stroke-width:2.0px;stroke-linecap:butt;stroke-linejoin:miter;stroke-opacity:1\"/>\n",
       "<path class=\"bond-7 atom-7 atom-8\" d=\"M 351.6,142.3 L 294.9,156.0\" style=\"fill:none;fill-rule:evenodd;stroke:#000000;stroke-width:2.0px;stroke-linecap:butt;stroke-linejoin:miter;stroke-opacity:1\"/>\n",
       "<path class=\"bond-8 atom-8 atom-3\" d=\"M 291.5,167.7 L 242.8,116.6\" style=\"fill:none;fill-rule:evenodd;stroke:#000000;stroke-width:2.0px;stroke-linecap:butt;stroke-linejoin:miter;stroke-opacity:1\"/>\n",
       "<path d=\"M 124.0,82.4 L 125.4,82.1 L 127.9,84.7\" style=\"fill:none;stroke:#000000;stroke-width:2.0px;stroke-linecap:butt;stroke-linejoin:miter;stroke-opacity:1;\"/>\n",
       "<path d=\"M 171.7,130.7 L 174.1,133.2 L 177.6,132.4\" style=\"fill:none;stroke:#000000;stroke-width:2.0px;stroke-linecap:butt;stroke-linejoin:miter;stroke-opacity:1;\"/>\n",
       "<path d=\"M 261.7,52.3 L 262.7,48.9 L 266.1,48.0\" style=\"fill:none;stroke:#000000;stroke-width:2.0px;stroke-linecap:butt;stroke-linejoin:miter;stroke-opacity:1;\"/>\n",
       "<path d=\"M 327.9,33.1 L 331.3,32.3 L 333.7,34.8\" style=\"fill:none;stroke:#000000;stroke-width:2.0px;stroke-linecap:butt;stroke-linejoin:miter;stroke-opacity:1;\"/>\n",
       "<path d=\"M 377.6,80.8 L 380.0,83.4 L 379.0,86.8\" style=\"fill:none;stroke:#000000;stroke-width:2.0px;stroke-linecap:butt;stroke-linejoin:miter;stroke-opacity:1;\"/>\n",
       "<path d=\"M 361.1,147.7 L 360.1,151.1 L 356.6,152.0\" style=\"fill:none;stroke:#000000;stroke-width:2.0px;stroke-linecap:butt;stroke-linejoin:miter;stroke-opacity:1;\"/>\n",
       "<path d=\"M 294.9,166.9 L 291.5,167.7 L 289.0,165.2\" style=\"fill:none;stroke:#000000;stroke-width:2.0px;stroke-linecap:butt;stroke-linejoin:miter;stroke-opacity:1;\"/>\n",
       "<path class=\"atom-0\" d=\"M 27.9 88.8 L 30.6 88.8 L 30.6 97.3 L 40.8 97.3 L 40.8 88.8 L 43.5 88.8 L 43.5 108.8 L 40.8 108.8 L 40.8 99.6 L 30.6 99.6 L 30.6 108.8 L 27.9 108.8 L 27.9 88.8 \" fill=\"#FF0000\"/>\n",
       "<path class=\"atom-0\" d=\"M 47.6 98.8 Q 47.6 94.0, 50.0 91.3 Q 52.4 88.6, 56.8 88.6 Q 61.3 88.6, 63.6 91.3 Q 66.0 94.0, 66.0 98.8 Q 66.0 103.6, 63.6 106.4 Q 61.2 109.1, 56.8 109.1 Q 52.4 109.1, 50.0 106.4 Q 47.6 103.6, 47.6 98.8 M 56.8 106.9 Q 59.9 106.9, 61.5 104.8 Q 63.2 102.8, 63.2 98.8 Q 63.2 94.8, 61.5 92.9 Q 59.9 90.9, 56.8 90.9 Q 53.8 90.9, 52.1 92.8 Q 50.5 94.8, 50.5 98.8 Q 50.5 102.8, 52.1 104.8 Q 53.8 106.9, 56.8 106.9 \" fill=\"#FF0000\"/>\n",
       "</svg>"
      ],
      "text/plain": [
       "<IPython.core.display.SVG object>"
      ]
     },
     "execution_count": 292,
     "metadata": {},
     "output_type": "execute_result"
    }
   ],
   "source": [
    "def increase_resolution(mol, substructure, size=(400, 200)):\n",
    "    \n",
    "    mol = deepcopy(mol)\n",
    "    substructure = deepcopy(substructure)\n",
    "    drawer = rdMolDraw2D.MolDraw2DSVG(size[0], size[1])\n",
    "    \n",
    "    # highlightAtoms expects only one tuple, not tuple of tuples. So it needs to be merged into a single tuple\n",
    "    matches = sum(mol.GetSubstructMatches(substructure, useChirality = True), ())\n",
    "    drawer.DrawMolecule(mol, highlightAtoms=matches)\n",
    "    \n",
    "    drawer.FinishDrawing()\n",
    "    svg = drawer.GetDrawingText()\n",
    "    \n",
    "    return svg.replace('svg:','')\n",
    "\n",
    "\n",
    "mol = Chem.MolFromSmiles('OCCc1ccccc1')\n",
    "substructure = Chem.MolFromSmarts('[O&H1:45][C&H2:46][C&H2:47][c:48]([c&H1:49][c&H1:50])[c&H1:53][c&H1:52]')\n",
    "SVG(increase_resolution(mol, substructure))"
   ]
  },
  {
   "cell_type": "code",
   "execution_count": null,
   "id": "40cbdf69",
   "metadata": {},
   "outputs": [],
   "source": []
  },
  {
   "cell_type": "code",
   "execution_count": null,
   "id": "66ab4541",
   "metadata": {},
   "outputs": [],
   "source": []
  },
  {
   "cell_type": "code",
   "execution_count": null,
   "id": "20713495",
   "metadata": {},
   "outputs": [],
   "source": []
  },
  {
   "cell_type": "code",
   "execution_count": null,
   "id": "d6a19e21",
   "metadata": {},
   "outputs": [],
   "source": []
  },
  {
   "cell_type": "code",
   "execution_count": 168,
   "id": "a2214294",
   "metadata": {},
   "outputs": [],
   "source": [
    "# Function to reset atom map numbers sequentially\n",
    "def reset_atom_map_numbers(smarts):\n",
    "    mol = Chem.MolFromSmarts(smarts)\n",
    "    \n",
    "    # Sequentially assign new atom map numbers (starting from 1)\n",
    "    for i, atom in enumerate(mol.GetAtoms()):\n",
    "        atom.SetAtomMapNum(i + 1)\n",
    "    \n",
    "    # Convert back to SMARTS with the new atom map numbers\n",
    "    return Chem.MolToSmarts(mol)"
   ]
  },
  {
   "cell_type": "code",
   "execution_count": 169,
   "id": "a7e24e53",
   "metadata": {},
   "outputs": [],
   "source": [
    "rule_smarts_reset = []\n",
    "strip_stereochemistry = False\n",
    "\n",
    "for r in list(AdH_rxns_df_w_substructs['substructure_environments']):\n",
    "    \n",
    "    if strip_stereochemistry:\n",
    "        r = r.replace('@', '') # remove stereochemistry if specified\n",
    "        rule_smarts_reset.append(reset_atom_map_numbers(r))\n",
    "    \n",
    "    else:\n",
    "        rule_smarts_reset.append(reset_atom_map_numbers(r))"
   ]
  },
  {
   "cell_type": "code",
   "execution_count": 170,
   "id": "ba1064ae",
   "metadata": {
    "scrolled": true
   },
   "outputs": [
    {
     "name": "stdout",
     "output_type": "stream",
     "text": [
      "Group (SMARTS): [c&H1:1][c:2]([C@@&H1:3]([O&H1:4])[C&H2:5][O&H1:6])[c&H1:7]\n",
      "Row indices: [0]\n",
      "Group number: 1\n",
      "\n",
      "Group (SMARTS): [C&H3:1][C@@&H1:2]([O&H1:3])[C&H2:4][C&H2:5][O&H1:6]\n",
      "Row indices: [1]\n",
      "Group number: 2\n",
      "\n",
      "Group (SMARTS): [C&H3:1][C&H1:2]([C&H3:3])[C&H2:4][C&H2:5][O&H1:6]\n",
      "Row indices: [2]\n",
      "Group number: 3\n",
      "\n",
      "Group (SMARTS): [O&H1:1][C&H2:2][C&H2:3][c:4]([c&H1:5])[c&H1:6]\n",
      "Row indices: [3]\n",
      "Group number: 4\n",
      "\n",
      "Group (SMARTS): [C&H3:1]/[C:2](=[C&H1:3]/[C&H2:4][O&H1:5])[C&H2:6]\n",
      "Row indices: [4]\n",
      "Group number: 5\n",
      "\n",
      "Group (SMARTS): [O&H1:1][C&H2:2][C@@&H1:3]([O&H1:4])[C@&H1:5]([O&H1:6])[C@@&H1:7]([O&H1:8])[C&H2:9]\n",
      "Row indices: [5, 76, 343]\n",
      "Group number: 6\n",
      "\n",
      "Group (SMARTS): [C&H3:1][C@@&H1:2]([O&H1:3])[C@&H1:4]([N&H3&+:5])[C:6](=[O:7])[O&-:8]\n",
      "Row indices: [6]\n",
      "Group number: 7\n",
      "\n",
      "Group (SMARTS): [C:1][C@@&H1:2]1[C&H2:3][C@&H1:4]([O&H1:5])[C&H2:6][N&H2&+:7]1\n",
      "Row indices: [7]\n",
      "Group number: 8\n",
      "\n",
      "Group (SMARTS): [C&H3:1][C:2](=[C&H1:3][C&H2:4][O&H1:5])-[C&H1:6]\n",
      "Row indices: [8, 202]\n",
      "Group number: 9\n",
      "\n",
      "Group (SMARTS): [C&H3:1][C:2]([C&H3:3])([C&H2:4][O&H1:5])[C@@&H1:6]([O&H1:7])[C:8]\n",
      "Row indices: [9]\n",
      "Group number: 10\n",
      "\n",
      "Group (SMARTS): [C&H3:1][N&+:2]([C&H3:3])([C&H3:4])[C&H2:5][C@&H1:6]([O&H1:7])[C&H2:8][C:9](=[O:10])[O&-:11]\n",
      "Row indices: [10]\n",
      "Group number: 11\n",
      "\n",
      "Group (SMARTS): [O&H1:1][C&H2:2][C@@&H1:3]([O&H1:4])[C&H1:5]([O&H1:6])[C@&H1:7]([O&H1:8])[C&H2:9]\n",
      "Row indices: [11, 158, 182, 183]\n",
      "Group number: 12\n",
      "\n",
      "Group (SMARTS): [C&H2:1][C@&H1:2]1[O:3][C&H1:4]([O&H1:5])[C@@&H1:6]([O&H1:7])[C@@&H1:8]1[O&H1:9]\n",
      "Row indices: [12, 13]\n",
      "Group number: 13\n",
      "\n",
      "Group (SMARTS): [C&H2:1][C@&H1:2]1[O:3][C&H1:4]([O&H1:5])[C@&H1:6]([O&H1:7])[C@@&H1:8]([O&H1:9])[C@&H1:10]1\n",
      "Row indices: [14, 15, 269, 270, 286]\n",
      "Group number: 14\n",
      "\n",
      "Group (SMARTS): [O&H1:1][C&H2:2][C@&H1:3]([O&H1:4])[C&H1:5]([O&H1:6])[C@@&H1:7]([O&H1:8])[C&H2:9]\n",
      "Row indices: [16, 24]\n",
      "Group number: 15\n",
      "\n",
      "Group (SMARTS): [C&H2:1][C@&H1:2]1[O:3][C&H1:4]([O&H1:5])[C@&H1:6]([O&H1:7])[C@@&H1:8]([O&H1:9])[C@@&H1:10]1\n",
      "Row indices: [17, 265]\n",
      "Group number: 16\n",
      "\n",
      "Group (SMARTS): [C&H2:1][C&H1:2]1[O:3][C&H1:4]([O&H1:5])[C&H1:6]([O&H1:7])[C&H1:8]([O&H1:9])[C&H1:10]1\n",
      "Row indices: [18, 264]\n",
      "Group number: 17\n",
      "\n",
      "Group (SMARTS): [C:1][C@@&H1:2]([O&H1:3])[C@&H1:4]([O&H1:5])[C@@&H1:6]([O&H1:7])[C&H2:8][O&H1:9]\n",
      "Row indices: [19]\n",
      "Group number: 18\n",
      "\n",
      "Group (SMARTS): [C:1][C@@&H1:2]([O&H1:3])[C@&H1:4]([O&H1:5])[C@&H1:6]([O&H1:7])[C&H2:8][O&H1:9]\n",
      "Row indices: [20, 172]\n",
      "Group number: 19\n",
      "\n",
      "Group (SMARTS): [O:1]=[C:2]([O&-:3])[C&H2:4][C@@&H1:5]([O&H1:6])[C@&H1:7]([O&H1:8])[C@&H1:9]([O&H1:10])[C&H2:11]\n",
      "Row indices: [21]\n",
      "Group number: 20\n",
      "\n",
      "Group (SMARTS): [C:1][C&H2:2][C@&H1:3]([O&H1:4])[C@&H1:5]([O&H1:6])[C&H2:7][O&H1:8]\n",
      "Row indices: [22]\n",
      "Group number: 21\n",
      "\n",
      "Group (SMARTS): [O:1]=[C:2]([O&-:3])[C@&H1:4]([O&H1:5])[C@@&H1:6]([O&H1:7])[C&H2:8][O&H1:9]\n",
      "Row indices: [23, 309]\n",
      "Group number: 22\n",
      "\n",
      "Group (SMARTS): [O:1]=[C:2]([O&-:3])[C@@&H1:4]([O&H1:5])[C:6](=[O:7])[C@&H1:8]([O&H1:9])[C@@&H1:10]\n",
      "Row indices: [25, 26]\n",
      "Group number: 23\n",
      "\n",
      "Group (SMARTS): [O&H1:1][C@@&H1:2]([C@@&H1:3])[C@&H1:4]([O&H1:5])[C&H2:6][O&H1:7]\n",
      "Row indices: [27, 28]\n",
      "Group number: 24\n",
      "\n",
      "Group (SMARTS): [O:1]1[C@@&H1:2][C@@&H1:3]([C@@&H1:4]([C@&H1:5]([C@@&H1:6]1[C&H3:7])[O&H1:8])[O&H1:9])[O&H1:10]\n",
      "Row indices: [29]\n",
      "Group number: 25\n",
      "\n",
      "Group (SMARTS): [O:1]1[C@@&H1:2][C@@&H1:3]([C@@&H1:4]([C@@&H1:5]([C@@&H1:6]1[C&H3:7])[O&H1:8])[O&H1:9])[O&H1:10]\n",
      "Row indices: [30, 233]\n",
      "Group number: 26\n",
      "\n",
      "Group (SMARTS): [C&H2:1][C@@&H1:2]([O&H1:3])[C@@&H1:4]([O&H1:5])[C@@&H1:6]([O&H1:7])[C&H2:8][O&H1:9]\n",
      "Row indices: [31]\n",
      "Group number: 27\n",
      "\n",
      "Group (SMARTS): [O&H1:1][C&H2:2][C@@&H1:3]([O&H1:4])[C@@&H1:5]([O&H1:6])[C@&H1:7]([O&H1:8])[C@&H1:9]\n",
      "Row indices: [32, 337]\n",
      "Group number: 28\n",
      "\n",
      "Group (SMARTS): [O&H1:1][C&H2:2][C@&H1:3]([O&H1:4])[C@@&H1:5]([O&H1:6])[C@&H1:7]([O&H1:8])[C@@&H1:9]\n",
      "Row indices: [33]\n",
      "Group number: 29\n",
      "\n",
      "Group (SMARTS): [O&H1:1][C&H2:2][C@@&H1:3]([O&H1:4])[C@@&H1:5]([O&H1:6])[C@&H1:7]([O&H1:8])[C@@&H1:9]\n",
      "Row indices: [34, 184, 338]\n",
      "Group number: 30\n",
      "\n",
      "Group (SMARTS): [O&H1:1][C@&H1:2]([C@@&H1:3])[C@&H1:4]([O&H1:5])[C@@&H1:6]([O&H1:7])[C&H2:8][O&H1:9]\n",
      "Row indices: [35, 281]\n",
      "Group number: 31\n",
      "\n",
      "Group (SMARTS): [C&H2:1][C&H2:2][C&H2:3][C@&H1:4]([O&H1:5])/[C&H1:6]=[C&H1:7]/[C@@&H1:8]\n",
      "Row indices: [36, 41, 42, 106, 107, 108]\n",
      "Group number: 32\n",
      "\n",
      "Group (SMARTS): [C&H2:1][C&H2:2][C&H2:3][C@&H1:4]([O&H1:5])/[C&H1:6]=[C&H1:7]/[C:8]\n",
      "Row indices: [37]\n",
      "Group number: 33\n",
      "\n",
      "Group (SMARTS): [C&H2:1][C&H2:2][C&H2:3][C@&H1:4]([O&H1:5])/[C&H1:6]=[C&H1:7]/[C@&H1:8]\n",
      "Row indices: [38, 48, 142]\n",
      "Group number: 34\n",
      "\n",
      "Group (SMARTS): [C&H2:1][C&H2:2][C&H2:3][C@&H1:4]([O&H1:5])/[C&H1:6]=[C&H1:7]/[C&H1:8]\n",
      "Row indices: [39, 143, 144]\n",
      "Group number: 35\n",
      "\n",
      "Group (SMARTS): [C&H2:1][C&H2:2][C&H2:3][C&H1:4]([O&H1:5])/[C&H1:6]=[C&H1:7]/[C@@&H1:8]\n",
      "Row indices: [40]\n",
      "Group number: 36\n",
      "\n",
      "Group (SMARTS): [C&H3:1][C&H2:2][C@@&H1:3]([O&H1:4])/[C&H1:5]=[C&H1:6]/[C&H1:7]\n",
      "Row indices: [43]\n",
      "Group number: 37\n",
      "\n",
      "Group (SMARTS): [C&H1:1]/[C&H1:2]=[C&H1:3]/[C@@&H1:4]([O&H1:5])[C@@&H1:6]([O&H1:7])[C&H2:8]-[C&H1:9]\n",
      "Row indices: [44]\n",
      "Group number: 38\n",
      "\n",
      "Group (SMARTS): [C&H1:1]=[C&H1:2]-[C&H2:3][C@&H1:4]([O&H1:5])/[C&H1:6]=[C&H1:7]/[C&H1:8]\n",
      "Row indices: [45]\n",
      "Group number: 39\n",
      "\n",
      "Group (SMARTS): [C&H1:1]/[C&H1:2]=[C&H1:3]/[C@@&H1:4]([O&H1:5])[C&H2:6]-[C&H1:7]=[C&H1:8]\n",
      "Row indices: [46]\n",
      "Group number: 40\n",
      "\n",
      "Group (SMARTS): [C&H1:1]-[C&H2:2][C@&H1:3]([O&H1:4])[C@&H1:5]([O&H1:6])/[C&H1:7]=[C&H1:8]/[C&H1:9]\n",
      "Row indices: [47]\n",
      "Group number: 41\n",
      "\n",
      "Group (SMARTS): [C&H1:1]=[C&H1:2]-[C&H2:3][C@&H1:4]([O&H1:5])/[C&H1:6]=[C&H1:7]/[C@&H1:8]\n",
      "Row indices: [49]\n",
      "Group number: 42\n",
      "\n",
      "Group (SMARTS): [C&H1:1]=[C&H1:2]-[C&H2:3][C@&H1:4]([O&H1:5])/[C&H1:6]=[C&H1:7]/[C@@&H1:8]\n",
      "Row indices: [50]\n",
      "Group number: 43\n",
      "\n",
      "Group (SMARTS): [O:1][C@&H1:2]1[C@&H1:3]([O&H1:4])[C@@&H1:5]([O&H1:6])[C@@&H1:7]([O&H1:8])[C@&H1:9]([O&H1:10])[C@&H1:11]1\n",
      "Row indices: [51]\n",
      "Group number: 44\n",
      "\n",
      "Group (SMARTS): [C&H2:1][C&H1:2]=[C:3]([C&H2:4][O&H1:5])[C&H2:6][C&H2:7]\n",
      "Row indices: [52, 53, 54]\n",
      "Group number: 45\n",
      "\n",
      "Group (SMARTS): [C&H1:1]=[C:2]1[C&H2:3][C@@&H1:4]([O&H1:5])[C&H2:6][C&H2:7][C@:8]1\n",
      "Row indices: [55, 57, 60, 61]\n",
      "Group number: 46\n",
      "\n",
      "Group (SMARTS): [C&H2:1][C&H2:2][C@@&H1:3]1[C@&H1:4]([O&H1:5])[C&H2:6][C&H2:7][C@:8][C@&H1:9]1[C&H2:10]\n",
      "Row indices: [56]\n",
      "Group number: 47\n",
      "\n",
      "Group (SMARTS): [C&H1:1]=[C:2]1[C&H2:3][C@@&H1:4]([O&H1:5])[C&H2:6][C&H2:7][C@@:8]1\n",
      "Row indices: [58, 59]\n",
      "Group number: 48\n",
      "\n",
      "Group (SMARTS): [C&H3:1][C@:2]([C&H2:3])([C:4])[C@@&H1:5]1[C@@&H1:6]([C&H2:7])[C@@&H1:8][C@@:9]([C&H2:10][C@@&H1:11]1[O&H1:12])([C&H3:13])[C@:14]\n",
      "Row indices: [62]\n",
      "Group number: 49\n",
      "\n",
      "Group (SMARTS): [C&H3:1][C@@:2]1([C&H2:3][C@&H1:4]([O&H1:5])[C@&H1:6]([C@@&H1:7]([C&H2:8])[C@&H1:9]1)[C@:10]([C:11])([C&H2:12])[C&H3:13])[C@&H1:14]\n",
      "Row indices: [63]\n",
      "Group number: 50\n",
      "\n",
      "Group (SMARTS): [C&H3:1][C@:2]([C&H2:3])([C:4])[C@@&H1:5]1[C@@&H1:6]([C&H2:7])[C@@&H1:8][C@@:9]([C&H2:10][C@@&H1:11]1[O&H1:12])([C&H3:13])[C:14]\n",
      "Row indices: [64]\n",
      "Group number: 51\n",
      "\n",
      "Group (SMARTS): [C&H3:1][C@:2]([C&H2:3])([C@&H1:4])[C@@&H1:5]1[C@@&H1:6]([C&H2:7])[C@@&H1:8][C@@:9]([C&H2:10][C@@&H1:11]1[O&H1:12])([C&H3:13])[C:14]\n",
      "Row indices: [65]\n",
      "Group number: 52\n",
      "\n",
      "Group (SMARTS): [C&H3:1][C@:2]([C&H2:3])([C@&H1:4])[C@&H1:5]1[C@@&H1:6]([C&H2:7])[C@@&H1:8][C@@:9]([C&H2:10][C@@&H1:11]1[O&H1:12])([C&H3:13])[C@@&H1:14]\n",
      "Row indices: [66]\n",
      "Group number: 53\n",
      "\n",
      "Group (SMARTS): [C&H3:1][C@@:2]1([C&H2:3][C@&H1:4]([O&H1:5])[C@@&H1:6]([C@@&H1:7]([C&H2:8])[C@&H1:9]1)[C@:10]([C:11])([C&H2:12])[C&H3:13])[C@&H1:14]\n",
      "Row indices: [67]\n",
      "Group number: 54\n",
      "\n",
      "Group (SMARTS): [C&H3:1][C:2]1([C&H2:3])[C&H1:4]([C&H1:5])[C&H2:6][C@@&H1:7]([O&H1:8])[C&H2:9]1\n",
      "Row indices: [68, 69]\n",
      "Group number: 55\n",
      "\n",
      "Group (SMARTS): [C&H3:1][C@:2]1([C&H2:3][C&H2:4])[C@&H1:5]([C@&H1:6])[C&H2:7][C&H2:8][C@&H1:9]1[O&H1:10]\n",
      "Row indices: [70, 71]\n",
      "Group number: 56\n",
      "\n",
      "Group (SMARTS): [C&H3:1][C@&H1:2]([O&H1:3])[C@@:4]1([O&H1:5])[C&H2:6][C&H2:7][C@@&H1:8][C@@:9]1([C&H2:10])[C&H3:11]\n",
      "Row indices: [72, 73]\n",
      "Group number: 57\n",
      "\n",
      "Group (SMARTS): [C&H3:1][C@&H1:2]([O&H1:3])[C@&H1:4]1[C&H2:5][C&H2:6][C@@&H1:7][C@@:8]1([C&H2:9])[C&H3:10]\n",
      "Row indices: [74]\n",
      "Group number: 58\n",
      "\n",
      "Group (SMARTS): [O&H1:1][C&H2:2][C@@&H1:3]([O&H1:4])[C@&H1:5]([O&H1:6])[C@@&H1:7]([O&H1:8])[C@&H1:9]\n",
      "Row indices: [75]\n",
      "Group number: 59\n",
      "\n",
      "Group (SMARTS): [O&H1:1][C&H2:2][C@@&H1:3]([O&H1:4])[C@&H1:5]([O&H1:6])[C@@&H1:7]([O&H1:8])[C@@&H1:9]\n",
      "Row indices: [77]\n",
      "Group number: 60\n",
      "\n",
      "Group (SMARTS): [O&H1:1][C&H2:2][C@@&H1:3]([O&H1:4])[C@&H1:5]([O&H1:6])[C@&H1:7]([O&H1:8])[C@&H1:9]\n",
      "Row indices: [78, 307]\n",
      "Group number: 61\n",
      "\n",
      "Group (SMARTS): [C&H2:1][C@@&H1:2]([C@:3])[C&H2:4][C&H2:5][O&H1:6]\n",
      "Row indices: [79, 80]\n",
      "Group number: 62\n",
      "\n",
      "Group (SMARTS): [C&H2:1]1[C@:2][C@@&H1:3]([C&H2:4][C@@&H1:5]([C&H2:6]1)[O&H1:7])[C&H2:8]\n",
      "Row indices: [81]\n",
      "Group number: 63\n",
      "\n",
      "Group (SMARTS): [N&H2:1][C:2](=[O:3])[N&H1:4][C@&H1:5]([O&H1:6])[C:7](=[O:8])[O&-:9]\n",
      "Row indices: [82, 83]\n",
      "Group number: 64\n",
      "\n",
      "Group (SMARTS): [C&H2:1][C@@&H1:2]([C@@&H1:3]1[C@&H1:4]([O&H1:5])[C&H2:6][C@&H1:7]([C&H2:8])[C@:9][C@&H1:10]1[C&H2:11])[C@:12]\n",
      "Row indices: [84, 85]\n",
      "Group number: 65\n",
      "\n",
      "Group (SMARTS): [O&H1:1][C&H2:2][C@@&H1:3]([O&H1:4])[C@&H1:5]([O&H1:6])[C@&H1:7]([O&H1:8])[C@@&H1:9]\n",
      "Row indices: [86, 306]\n",
      "Group number: 66\n",
      "\n",
      "Group (SMARTS): [c:1][c:2]1[c:3]([c&H1:4][c&H1:5])[C&H1:6]([C&H2:7][C&H2:8][C&H2:9]1)[O&H1:10]\n",
      "Row indices: [87]\n",
      "Group number: 67\n",
      "\n",
      "Group (SMARTS): [O&H1:1][C&H2:2][C@@&H1:3]([O&H1:4])[C@&H1:5]([O&H1:6])[C&H2:7][O&H1:8]\n",
      "Row indices: [88, 305]\n",
      "Group number: 68\n",
      "\n",
      "Group (SMARTS): [O&H1:1][C&H1:2]1[C&H2:3][C&H2:4][C&H2:5][C&H2:6]1\n",
      "Row indices: [89]\n",
      "Group number: 69\n",
      "\n",
      "Group (SMARTS): [C&H2:1][C&H2:2][C&H2:3][C&H2:4][O&H1:5]\n",
      "Row indices: [90, 165, 336, 342]\n",
      "Group number: 70\n",
      "\n",
      "Group (SMARTS): [O&H1:1][C&H2:2][C:3]#[C:4][C&H2:5]\n",
      "Row indices: [91]\n",
      "Group number: 71\n",
      "\n",
      "Group (SMARTS): [C:1][C&H1:2]1[C&H2:3][C&H2:4][C&H1:5]([O&H1:6])[C&H1:7]([O&H1:8])[C&H2:9]1\n",
      "Row indices: [92]\n",
      "Group number: 72\n",
      "\n",
      "Group (SMARTS): [C&H2:1][C&H2:2][C&H2:3][C&H1:4]([O&H1:5])[C:6](=[O:7])[O&-:8]\n",
      "Row indices: [93]\n",
      "Group number: 73\n",
      "\n",
      "Group (SMARTS): [O:1]1[C@@&H1:2]([C@&H1:3])[C@&H1:4]([C@&H1:5]([C&H1:6]1[O&H1:7])[O&H1:8])[O&H1:9]\n",
      "Row indices: [94, 279]\n",
      "Group number: 74\n",
      "\n",
      "Group (SMARTS): [O&H1:1][C&H1:2]1[C&H2:3][C&H2:4][C&H2:5][C&H2:6][C&H1:7]1[O&H1:8]\n",
      "Row indices: [95]\n",
      "Group number: 75\n",
      "\n",
      "Group (SMARTS): [O&H1:1][C&H1:2]1[O:3][C&H2:4][C@@&H1:5][C@&H1:6]([O&H1:7])[C@&H1:8]1[O&H1:9]\n",
      "Row indices: [96, 101]\n",
      "Group number: 76\n",
      "\n",
      "Group (SMARTS): [C&H2:1]1[C@&H1:2]([C@&H1:3])[C@@:4]2([C@@&H1:5]([C&H2:6]1)[C@&H1:7][C@@&H1:8]([C@:9])[C&H2:10][C@@&H1:11]2[O&H1:12])[C&H3:13]\n",
      "Row indices: [97, 98]\n",
      "Group number: 77\n",
      "\n",
      "Group (SMARTS): [O:1][C&H2:2][C@&H1:3]([O&H1:4])[C&H2:5][O&H1:6]\n",
      "Row indices: [99]\n",
      "Group number: 78\n",
      "\n",
      "Group (SMARTS): [C&H3:1][C@&H1:2]([O&H1:3])[C@&H1:4]([C&H3:5])[C:6](=[O:7])[S:8]\n",
      "Row indices: [100]\n",
      "Group number: 79\n",
      "\n",
      "Group (SMARTS): [O&H1:1][C@&H1:2]1[C@&H1:3]([O&H1:4])[C@&H1:5]([O&H1:6])[C@@&H1:7][C@&H1:8]([O&H1:9])[C@&H1:10]1[O&H1:11]\n",
      "Row indices: [102]\n",
      "Group number: 80\n",
      "\n",
      "Group (SMARTS): [C&H2:1]/[C:2]([C&H3:3])=[C&H1:4]\\[C&H2:5][O&H1:6]\n",
      "Row indices: [103, 130, 234, 260]\n",
      "Group number: 81\n",
      "\n",
      "Group (SMARTS): [O&H1:1][C&H2:2]/[C&H1:3]=[C&H1:4]/[c:5]\n",
      "Row indices: [104]\n",
      "Group number: 82\n",
      "\n",
      "Group (SMARTS): [c:1]/[C&H1:2]=[C&H1:3]/[C&H2:4][O&H1:5]\n",
      "Row indices: [105]\n",
      "Group number: 83\n",
      "\n",
      "Group (SMARTS): [C&H3:1][C:2]1([C&H3:3])[C@&H1:4]2[C&H2:5][C&H2:6][C@@:7]1([C&H3:8])[C&H1:9]([O&H1:10])[C&H2:11]2\n",
      "Row indices: [109]\n",
      "Group number: 84\n",
      "\n",
      "Group (SMARTS): [O&H1:1][C&H2:2][C&H2:3][c:4]([c&H1:5])[c:6]\n",
      "Row indices: [110]\n",
      "Group number: 85\n",
      "\n",
      "Group (SMARTS): [C&H3:1][C&H2:2][C&H2:3][C&H2:4][O&H1:5]\n",
      "Row indices: [111]\n",
      "Group number: 86\n",
      "\n",
      "Group (SMARTS): [C&H2:1]/[C&H1:2]=[C&H1:3]/[C&H2:4][O&H1:5]\n",
      "Row indices: [112]\n",
      "Group number: 87\n",
      "\n",
      "Group (SMARTS): [O&H1:1][C&H2:2][C@@&H1:3]([O&H1:4])[C@@&H1:5]([O&H1:6])[C&H2:7]\n",
      "Row indices: [113, 114]\n",
      "Group number: 88\n",
      "\n",
      "Group (SMARTS): [C&H3:1][C:2]([C&H3:3])=[C&H1:4][C&H2:5][O&H1:6]\n",
      "Row indices: [115]\n",
      "Group number: 89\n",
      "\n",
      "Group (SMARTS): [O&H1:1][C&H2:2][C&H2:3][C&H1:4]([O&H1:5])[C&H2:6]\n",
      "Row indices: [116]\n",
      "Group number: 90\n",
      "\n",
      "Group (SMARTS): [O:1][C@&H1:2]([C@@&H1:3]([O&H1:4])[C&H2:5][O&H1:6])[C@&H1:7]\n",
      "Row indices: [117]\n",
      "Group number: 91\n",
      "\n",
      "Group (SMARTS): [C&H2:1][C@@&H1:2]([C@@&H1:3]1[C@@&H1:4]([O&H1:5])[C&H2:6][C@&H1:7]([C&H2:8])[C@:9][C@&H1:10]1[C&H2:11])[C@:12]\n",
      "Row indices: [118, 119]\n",
      "Group number: 92\n",
      "\n",
      "Group (SMARTS): [O&H1:1][C&H2:2][C&H2:3][C&H2:4][O&H1:5]\n",
      "Row indices: [120]\n",
      "Group number: 93\n",
      "\n",
      "Group (SMARTS): [C:1][C@&H1:2]1[O:3][C@@&H1:4]([O&H1:5])[C@&H1:6]([O&H1:7])[C@&H1:8]([O&H1:9])[C@&H1:10]1\n",
      "Row indices: [121]\n",
      "Group number: 94\n",
      "\n",
      "Group (SMARTS): [C:1][C@&H1:2]1[O:3][C@@&H1:4]([O&H1:5])[C@&H1:6]([O&H1:7])[C@@&H1:8]([O&H1:9])[C@@&H1:10]1\n",
      "Row indices: [122]\n",
      "Group number: 95\n",
      "\n",
      "Group (SMARTS): [N&H1&+:1]1[C@@&H1:2]2[C&H2:3][C&H2:4][C@@&H1:5]1[C&H2:6][C&H1:7]([O&H1:8])[C&H2:9]2\n",
      "Row indices: [123]\n",
      "Group number: 96\n",
      "\n",
      "Group (SMARTS): [O&H1:1][C&H2:2][C@&H1:3]([O&H1:4])[C&H1:5]([O&H1:6])[C@@&H1:7]\n",
      "Row indices: [124]\n",
      "Group number: 97\n",
      "\n",
      "Group (SMARTS): [C&H1:1]([C@&H1:2])([O&H1:3])[C@@&H1:4]([O&H1:5])[C&H2:6][O&H1:7]\n",
      "Row indices: [125]\n",
      "Group number: 98\n",
      "\n",
      "Group (SMARTS): [C&H2:1]1[C@:2][C@&H1:3]([C&H2:4][C@@&H1:5]([C&H2:6]1)[O&H1:7])[C&H2:8]\n",
      "Row indices: [126, 129, 261, 262]\n",
      "Group number: 99\n",
      "\n",
      "Group (SMARTS): [C&H2:1][C&H2:2][C&H2:3][C@&H1:4]([O&H1:5])[C&H2:6][C:7](=[O:8])[S:9]\n",
      "Row indices: [127, 128, 238, 243, 244, 245, 246, 247, 251, 252]\n",
      "Group number: 100\n",
      "\n",
      "Group (SMARTS): [C&H3:1][C@&H1:2]([O&H1:3])[C@@&H1:4]([C&H3:5])[C:6](=[O:7])[O:8]\n",
      "Row indices: [131]\n",
      "Group number: 101\n",
      "\n",
      "Group (SMARTS): [C&H2:1][C@:2]12[c:3][c:4][O:5][C@&H1:6]1[C@@&H1:7]([O&H1:8])[C&H1:9]=[C&H1:10][C@@&H1:11]2\n",
      "Row indices: [132, 133]\n",
      "Group number: 102\n",
      "\n",
      "Group (SMARTS): [C&H1:1](\\[C@@:2])=[C&H1:3]/[C@@&H1:4]([C&H3:5])[O&H1:6]\n",
      "Row indices: [134]\n",
      "Group number: 103\n",
      "\n",
      "Group (SMARTS): [C&H2:1]=[C:2]([C&H3:3])[C@&H1:4]1[C&H2:5][C&H2:6][C:7]([C&H3:8])=[C&H1:9][C@@&H1:10]1[O&H1:11]\n",
      "Row indices: [135]\n",
      "Group number: 104\n",
      "\n",
      "Group (SMARTS): [O&H1:1][C&H1:2]1[C:3]2([Cl:4])[C:5]3([Cl:6])[C:7][C:8]2([C:9]2([C:10][C:11]3([Cl:12])[C:13]12[Cl:14])[Cl:15])[Cl:16]\n",
      "Row indices: [136]\n",
      "Group number: 105\n",
      "\n",
      "Group (SMARTS): [C&H2:1]1[C@@&H1:2][C&H2:3][C&H2:4][C@&H1:5]([C&H2:6]1)[O&H1:7]\n",
      "Row indices: [137]\n",
      "Group number: 106\n",
      "\n",
      "Group (SMARTS): [C&H3:1][C:2]1([C&H3:3])[C@@&H1:4]2[C&H2:5][C&H2:6][C@:7]1([C&H3:8])[C&H1:9]([O&H1:10])[C&H2:11]2\n",
      "Row indices: [138]\n",
      "Group number: 107\n",
      "\n",
      "Group (SMARTS): [C&H2:1]=[C:2]1[C@&H1:3]([O&H1:4])[C&H2:5][C@@:6]2([C&H1:7])[C&H2:8][C@&H1:9]12\n",
      "Row indices: [139]\n",
      "Group number: 108\n",
      "\n",
      "Group (SMARTS): [O:1][C:2](=[O:3])[C@&H1:4]([C&H3:5])[C@@&H1:6]([O&H1:7])[C:8](=[O:9])[O:10][C&H2:11]\n",
      "Row indices: [140]\n",
      "Group number: 109\n",
      "\n",
      "Group (SMARTS): [C&H3:1][C:2]1([C&H3:3])[C&H1:4]([C&H2:5])[C@@:6][C&H2:7][C&H2:8][C@&H1:9]1[O&H1:10]\n",
      "Row indices: [141]\n",
      "Group number: 110\n",
      "\n",
      "Group (SMARTS): [C&H2:1]1[C@&H1:2]([C@&H1:3])[C@@:4]2([C@@&H1:5]([C&H2:6]1)[C@&H1:7][C@@&H1:8]([C@:9])[C&H2:10][C@&H1:11]2[O&H1:12])[C&H3:13]\n",
      "Row indices: [145]\n",
      "Group number: 111\n",
      "\n",
      "Group (SMARTS): [C&H3:1][C@:2]1([C&H2:3][C&H2:4])[C@&H1:5]([C@&H1:6])[C&H2:7][C&H2:8][C@@&H1:9]1[O&H1:10]\n",
      "Row indices: [146, 333]\n",
      "Group number: 112\n",
      "\n",
      "Group (SMARTS): [C&H3:1][C@:2]1([C&H2:3][C@&H1:4])[C@&H1:5]([C@@&H1:6])[C&H2:7][C&H2:8][C@@&H1:9]1[O&H1:10]\n",
      "Row indices: [147]\n",
      "Group number: 113\n",
      "\n",
      "Group (SMARTS): [C&H3:1][C@:2]1([C&H2:3][C:4])[C@&H1:5]([C@@&H1:6])[C&H2:7][C&H2:8][C@@&H1:9]1[O&H1:10]\n",
      "Row indices: [148]\n",
      "Group number: 114\n",
      "\n",
      "Group (SMARTS): [C&H2:1][C&H2:2][C@:3]1([C&H3:4])[C@@&H1:5]([O&H1:6])[C&H2:7][C&H2:8][C@&H1:9]1[C@&H1:10]\n",
      "Row indices: [149]\n",
      "Group number: 115\n",
      "\n",
      "Group (SMARTS): [C&H2:1]([C@@&H1:2])[C@:3]1([C&H3:4])[C@@&H1:5]([O&H1:6])[C&H2:7][C&H2:8][C@&H1:9]1[C@&H1:10]\n",
      "Row indices: [150]\n",
      "Group number: 116\n",
      "\n",
      "Group (SMARTS): [C&H3:1][C@:2]1([C&H2:3][C&H2:4])[C@&H1:5]([C@@&H1:6])[C&H2:7][C&H2:8][C@@&H1:9]1[O&H1:10]\n",
      "Row indices: [151, 322]\n",
      "Group number: 117\n",
      "\n",
      "Group (SMARTS): [C:1][C@:2]1([O&H1:3])[C&H2:4][C@@&H1:5]([O&H1:6])[C@@&H1:7]([O&H1:8])[C@&H1:9]([O&H1:10])[C&H2:11]1\n",
      "Row indices: [152, 178]\n",
      "Group number: 118\n",
      "\n",
      "Group (SMARTS): [C:1][C:2]1=[C&H1:3][C@@&H1:4]([O&H1:5])[C@@&H1:6]([O&H1:7])[C@&H1:8]([O&H1:9])[C&H2:10]1\n",
      "Row indices: [153, 179]\n",
      "Group number: 119\n",
      "\n",
      "Group (SMARTS): [C:1]1[O:2][C@:3]2([C&H3:4])[C&H2:5][C&H2:6][C@@&H1:7]1[C&H2:8][C@@&H1:9]2[O&H1:10]\n",
      "Row indices: [154]\n",
      "Group number: 120\n",
      "\n",
      "Group (SMARTS): [C:1][C@@&H1:2]1[C&H2:3][C&H1:4]=[C:5]([C&H3:6])[C@@&H1:7]([O&H1:8])[C&H2:9]1\n",
      "Row indices: [155]\n",
      "Group number: 121\n",
      "\n",
      "Group (SMARTS): [O&H1:1][C&H1:2]1[C&H2:3][C&H2:4][C&H2:5][C&H2:6][C&H2:7]1\n",
      "Row indices: [156]\n",
      "Group number: 122\n",
      "\n",
      "Group (SMARTS): [C&H3:1][O:2][C:3]1=[C&H1:4][C@@:5][C:6]([C@&H1:7])=[C&H1:8][C@@&H1:9]1[O&H1:10]\n",
      "Row indices: [157]\n",
      "Group number: 123\n",
      "\n",
      "Group (SMARTS): [O&H1:1][C@&H1:2]([C@&H1:3])[C@@&H1:4]([O&H1:5])[C@&H1:6]([O&H1:7])[C&H2:8][O&H1:9]\n",
      "Row indices: [159]\n",
      "Group number: 124\n",
      "\n",
      "Group (SMARTS): [C&H3:1][N&+:2]([C&H3:3])([C&H3:4])[C&H2:5][C@@&H1:6]([O&H1:7])[C&H2:8][C:9](=[O:10])[O&-:11]\n",
      "Row indices: [160]\n",
      "Group number: 125\n",
      "\n",
      "Group (SMARTS): [O&H1:1][C&H2:2][C@@&H1:3]([O&H1:4])[C@@&H1:5]([O&H1:6])[C@&H1:7]\n",
      "Row indices: [161]\n",
      "Group number: 126\n",
      "\n",
      "Group (SMARTS): [O&H1:1][C&H1:2]1[c:3]([c&H1:4][c&H1:5])[c:6]([c&H1:7])-[c:8]([c&H1:9])[c:10]1[c&H1:11][c&H1:12]\n",
      "Row indices: [162, 163]\n",
      "Group number: 127\n",
      "\n",
      "Group (SMARTS): [c&H1:1][c&H1:2][c:3]([C&H2:4][O&H1:5])[c&H1:6][c&H1:7]\n",
      "Row indices: [164, 349]\n",
      "Group number: 128\n",
      "\n",
      "Group (SMARTS): [S:1][C:2](=[O:3])[C&H2:4][C&H1:5]([O&H1:6])[C&H2:7][C&H2:8][C&H2:9]\n",
      "Row indices: [166]\n",
      "Group number: 129\n",
      "\n",
      "Group (SMARTS): [C&H1:1][C&H2:2][C&H2:3][C&H1:4]([C&H3:5])[O&H1:6]\n",
      "Row indices: [167]\n",
      "Group number: 130\n",
      "\n",
      "Group (SMARTS): [O&H1:1][C@&H1:2]([C@&H1:3])[C@&H1:4]([O&H1:5])[C@@&H1:6]([O&H1:7])[C&H2:8][O&H1:9]\n",
      "Row indices: [168, 169]\n",
      "Group number: 131\n",
      "\n",
      "Group (SMARTS): [C&H3:1][C@@&H1:2]([O&H1:3])[C&H2:4][S:5][C&H2:6]\n",
      "Row indices: [170]\n",
      "Group number: 132\n",
      "\n",
      "Group (SMARTS): [C&H3:1][C@&H1:2]([O&H1:3])[C&H2:4][S:5][C&H2:6]\n",
      "Row indices: [171]\n",
      "Group number: 133\n",
      "\n",
      "Group (SMARTS): [C:1][C@&H1:2]1[C&H2:3][C&H1:4]=[C:5]([C&H3:6])[C@&H1:7]([O&H1:8])[C&H2:9]1\n",
      "Row indices: [173]\n",
      "Group number: 134\n",
      "\n",
      "Group (SMARTS): [C&H2:1][C@@&H1:2]1[C&H2:3][C@@&H1:4]([O&H1:5])[C&H2:6][C&H2:7][C@:8]1\n",
      "Row indices: [174, 287, 288, 289]\n",
      "Group number: 135\n",
      "\n",
      "Group (SMARTS): [C&H2:1][C@&H1:2]1[C&H2:3][C@@&H1:4]([O&H1:5])[C&H2:6][C&H2:7][C@:8]1\n",
      "Row indices: [175]\n",
      "Group number: 136\n",
      "\n",
      "Group (SMARTS): [C&H3:1][C&H2:2][C&H2:3][C@@&H1:4]([O&H1:5])[C&H2:6][C:7](=[O:8])[O:9]\n",
      "Row indices: [176]\n",
      "Group number: 137\n",
      "\n",
      "Group (SMARTS): [C&H3:1][C&H2:2][C&H2:3][C@&H1:4]([O&H1:5])[C&H2:6][C:7](=[O:8])[O:9]\n",
      "Row indices: [177]\n",
      "Group number: 138\n",
      "\n",
      "Group (SMARTS): [C&H2:1]([C@@&H1:2])[S:3][C&H2:4][O&H1:5]\n",
      "Row indices: [180, 181, 205, 206]\n",
      "Group number: 139\n",
      "\n",
      "Group (SMARTS): [O:1]=[C:2]([O&-:3])[C@&H1:4]([O&H1:5])[C@&H1:6]([O&H1:7])[C&H2:8][O:9]\n",
      "Row indices: [185]\n",
      "Group number: 140\n",
      "\n",
      "Group (SMARTS): [C&H1:1]1[O:2][C:3](=[O:4])[C@@:5]2([C&H3:6])[C&H1:7]([O&H1:8])[C&H2:9][C&H2:10][C@@:11][C&H1:12]12\n",
      "Row indices: [186, 187]\n",
      "Group number: 141\n",
      "\n",
      "Group (SMARTS): [C:1][C&H1:2]1[C&H2:3][C&H2:4][C&H1:5]([C&H3:6])[C&H1:7]([O&H1:8])[C&H2:9]1\n",
      "Row indices: [188]\n",
      "Group number: 142\n",
      "\n",
      "Group (SMARTS): [C:1][C@@&H1:2]1[C&H2:3][C&H2:4][C@@&H1:5]([C&H3:6])[C@@&H1:7]([O&H1:8])[C&H2:9]1\n",
      "Row indices: [189]\n",
      "Group number: 143\n",
      "\n",
      "Group (SMARTS): [C:1][C@@&H1:2]1[C&H2:3][C&H2:4][C@@&H1:5]([C&H3:6])[C@&H1:7]([O&H1:8])[C&H2:9]1\n",
      "Row indices: [190]\n",
      "Group number: 144\n",
      "\n",
      "Group (SMARTS): [C:1][C@&H1:2]1[C&H2:3][C&H2:4][C@@&H1:5]([C&H3:6])[C@@&H1:7]([O&H1:8])[C&H2:9]1\n",
      "Row indices: [191]\n",
      "Group number: 145\n",
      "\n",
      "Group (SMARTS): [C:1][C@&H1:2]1[C&H2:3][C&H2:4][C@@&H1:5]([C&H3:6])[C@&H1:7]([O&H1:8])[C&H2:9]1\n",
      "Row indices: [192]\n",
      "Group number: 146\n",
      "\n",
      "Group (SMARTS): [C:1][C@&H1:2]1[C&H2:3][C&H2:4][C@&H1:5]([C&H3:6])[C@@&H1:7]([O&H1:8])[C&H2:9]1\n",
      "Row indices: [193]\n",
      "Group number: 147\n",
      "\n",
      "Group (SMARTS): [C:1][C@&H1:2]1[C&H2:3][C&H2:4][C@&H1:5]([C&H3:6])[C@&H1:7]([O&H1:8])[C&H2:9]1\n",
      "Row indices: [194]\n",
      "Group number: 148\n",
      "\n",
      "Group (SMARTS): [C:1][C@@&H1:2]1[C&H2:3][C&H2:4][C@&H1:5]([C&H3:6])[C@@&H1:7]([O&H1:8])[C&H2:9]1\n",
      "Row indices: [195]\n",
      "Group number: 149\n",
      "\n",
      "Group (SMARTS): [C:1][C@@&H1:2]1[C&H2:3][C&H2:4][C@&H1:5]([C&H3:6])[C@&H1:7]([O&H1:8])[C&H2:9]1\n",
      "Row indices: [196]\n",
      "Group number: 150\n",
      "\n",
      "Group (SMARTS): [C:1][C@&H1:2]1[C&H2:3][C&H2:4][C@@:5]([C&H3:6])([O&H1:7])[C@&H1:8]([O&H1:9])[C&H2:10]1\n",
      "Row indices: [197]\n",
      "Group number: 151\n",
      "\n",
      "Group (SMARTS): [C:1][C@@&H1:2]1[C&H2:3][C&H2:4][C@:5]([C&H3:6])([O&H1:7])[C@@&H1:8]([O&H1:9])[C&H2:10]1\n",
      "Row indices: [198]\n",
      "Group number: 152\n",
      "\n",
      "Group (SMARTS): [O:1]=[C:2]([O&-:3])[C&H2:4][C@&H1:5]([O&H1:6])[C:7](=[O:8])[O&-:9]\n",
      "Row indices: [199, 200]\n",
      "Group number: 153\n",
      "\n",
      "Group (SMARTS): [C&H3:1][C@@&H1:2]([O&H1:3])[C&H2:4][C:5](=[O:6])[O&-:7]\n",
      "Row indices: [201]\n",
      "Group number: 154\n",
      "\n",
      "Group (SMARTS): [C&H2:1][C@@&H1:2]([O&H1:3])[C@&H1:4]([O&H1:5])[C@&H1:6]([O&H1:7])[C&H2:8][O&H1:9]\n",
      "Row indices: [203]\n",
      "Group number: 155\n",
      "\n",
      "Group (SMARTS): [C&H2:1][C@@&H1:2]([O&H1:3])[C@&H1:4]([O&H1:5])[C@@&H1:6]([O&H1:7])[C&H2:8][O&H1:9]\n",
      "Row indices: [204]\n",
      "Group number: 156\n",
      "\n",
      "Group (SMARTS): [O:1]=[P:2]([O&-:3])([O&H1:4])[C&H2:5][C&H2:6][O&H1:7]\n",
      "Row indices: [207]\n",
      "Group number: 157\n",
      "\n",
      "Group (SMARTS): [C&H3:1][C@@&H1:2]([C&H2:3][O&H1:4])[C:5](=[O:6])[O&-:7]\n",
      "Row indices: [208]\n",
      "Group number: 158\n",
      "\n",
      "Group (SMARTS): [O:1]=[C:2]([O&-:3])[C@&H1:4]([O&H1:5])[C&H2:6][S:7](=[O:8])(=[O:9])[O&-:10]\n",
      "Row indices: [209]\n",
      "Group number: 159\n",
      "\n",
      "Group (SMARTS): [C&H3:1][C@&H1:2]([O&H1:3])[c:4]([c&H1:5][c&H1:6])[c&H1:7][c&H1:8]\n",
      "Row indices: [210]\n",
      "Group number: 160\n",
      "\n",
      "Group (SMARTS): [O:1]=[C:2]([c:3]([c&H1:4])[c&H1:5])[C@@&H1:6]([O&H1:7])[c:8]([c&H1:9][c&H1:10])[c&H1:11][c&H1:12]\n",
      "Row indices: [211]\n",
      "Group number: 161\n",
      "\n",
      "Group (SMARTS): [C&H3:1][C&H1:2]([O&H1:3])[C:4](=[O:5])[c:6]([c&H1:7])[c&H1:8]\n",
      "Row indices: [212]\n",
      "Group number: 162\n",
      "\n",
      "Group (SMARTS): [O:1]=[C:2]([c:3]([c&H1:4])[c&H1:5])[C@&H1:6]([O&H1:7])[c:8]([c&H1:9][c&H1:10])[c&H1:11][c&H1:12]\n",
      "Row indices: [213]\n",
      "Group number: 163\n",
      "\n",
      "Group (SMARTS): [C&H3:1][C:2]1([C&H3:3])[C@&H1:4]2[C&H2:5][C&H2:6][C@:7]([C&H3:8])([C&H2:9]2)[C@@&H1:10]1[O&H1:11]\n",
      "Row indices: [214, 215]\n",
      "Group number: 164\n",
      "\n",
      "Group (SMARTS): [C&H1:1][C@:2]12[C&H2:3][C@&H1:4]([O&H1:5])[C@@&H1:6]([C&H3:7])[C@@&H1:8]1[C&H2:9]2\n",
      "Row indices: [216, 217]\n",
      "Group number: 165\n",
      "\n",
      "Group (SMARTS): [C&H2:1][C:2]([C&H3:3])=[C&H1:4][C&H2:5][O&H1:6]\n",
      "Row indices: [218, 221]\n",
      "Group number: 166\n",
      "\n",
      "Group (SMARTS): [C&H3:1][C:2](=[C&H1:3][C&H2:4])[C&H2:5][O&H1:6]\n",
      "Row indices: [219, 220]\n",
      "Group number: 167\n",
      "\n",
      "Group (SMARTS): [C:1]/[C&H1:2]=[C&H1:3]/[C&H1:4]([O&H1:5])/[C:6]([C&H3:7])=[C&H1:8]/[C&H2:9]\n",
      "Row indices: [222]\n",
      "Group number: 168\n",
      "\n",
      "Group (SMARTS): [C&H3:1][C:2]1([C&H3:3])[C@@&H1:4]2[C&H2:5][C:6][C@@:7]1([C&H3:8])[C&H2:9][C@&H1:10]2[O&H1:11]\n",
      "Row indices: [223]\n",
      "Group number: 169\n",
      "\n",
      "Group (SMARTS): [N&H3&+:1][C@&H1:2]1[C&H2:3][C@@&H1:4]([O&H1:5])[C@&H1:6]([O&H1:7])[C@@&H1:8]([O&H1:9])[C@&H1:10]1\n",
      "Row indices: [224, 225]\n",
      "Group number: 170\n",
      "\n",
      "Group (SMARTS): [C&H2:1][C&H2:2][C&H2:3][C@@&H1:4]([O&H1:5])[C&H2:6][C:7](=[O:8])[S:9]\n",
      "Row indices: [226, 227]\n",
      "Group number: 171\n",
      "\n",
      "Group (SMARTS): [C&H1:1](\\[C@@&H1:2])=[C:3](\\[C&H3:4])[C&H2:5][O&H1:6]\n",
      "Row indices: [228]\n",
      "Group number: 172\n",
      "\n",
      "Group (SMARTS): [C:1][N&H1:2][C@&H1:3]1[C@@&H1:4]([O:5])[O:6][C@&H1:7]([C:8])[C@@&H1:9]([O&H1:10])[C@@&H1:11]1[O&H1:12]\n",
      "Row indices: [229]\n",
      "Group number: 173\n",
      "\n",
      "Group (SMARTS): [O:1]=[C:2]([O&-:3])[C@@&H1:4]([O&H1:5])[C&H2:6][S:7](=[O:8])(=[O:9])[O&-:10]\n",
      "Row indices: [230, 231]\n",
      "Group number: 174\n",
      "\n",
      "Group (SMARTS): [C&H3:1][C@@&H1:2]1[C@&H1:3]([O&H1:4])[C&H2:5][C@@&H1:6]([C:7])[C@:8]1([C@&H1:9])[C&H2:10]\n",
      "Row indices: [232]\n",
      "Group number: 175\n",
      "\n",
      "Group (SMARTS): [C&H2:1][C&H2:2][C&H2:3][C@&H1:4]([O&H1:5])[c:6]([c:7]([O&-:8])[c&H1:9])[c:10]([c:11])[O&H1:12]\n",
      "Row indices: [235]\n",
      "Group number: 176\n",
      "\n",
      "Group (SMARTS): [S:1][C:2](=[O:3])[C&H2:4][C@&H1:5]([O&H1:6])[c:7]([c&H1:8][c&H1:9])[c&H1:10][c&H1:11]\n",
      "Row indices: [236, 250]\n",
      "Group number: 177\n",
      "\n",
      "Group (SMARTS): [C&H3:1][C@&H1:2]([O&H1:3])[C&H2:4][C:5](=[O:6])[S:7]\n",
      "Row indices: [237]\n",
      "Group number: 178\n",
      "\n",
      "Group (SMARTS): [C&H3:1][C&H2:2][C&H2:3][C@&H1:4]([O&H1:5])[C&H2:6][C:7](=[O:8])[S:9]\n",
      "Row indices: [239]\n",
      "Group number: 179\n",
      "\n",
      "Group (SMARTS): [C&H3:1][C&H1:2]([C:3](=[O:4])[S:5])[C&H1:6]([O&H1:7])[C&H2:8][C&H2:9][C@@&H1:10]\n",
      "Row indices: [240]\n",
      "Group number: 180\n",
      "\n",
      "Group (SMARTS): [S:1][C:2](=[O:3])[C&H2:4][C&H1:5]([O&H1:6])[C@&H1:7]([C@&H1:8]([O&H1:9])[C&H2:10])[C@@&H1:11]([C@:12])[C&H2:13]\n",
      "Row indices: [241]\n",
      "Group number: 181\n",
      "\n",
      "Group (SMARTS): [C&H1:1]=[C&H1:2]-[C&H2:3][C@&H1:4]([O&H1:5])[C&H2:6][C:7](=[O:8])[S:9]\n",
      "Row indices: [242, 248]\n",
      "Group number: 182\n",
      "\n",
      "Group (SMARTS): [C&H3:1][C&H1:2]([C:3](=[O:4])[C&H2:5])[C@&H1:6]([O&H1:7])[C&H2:8][C:9](=[O:10])[S:11]\n",
      "Row indices: [249]\n",
      "Group number: 183\n",
      "\n",
      "Group (SMARTS): [S:1][C:2](=[O:3])[C&H2:4][C@@&H1:5]([O&H1:6])[C&H2:7][O&H1:8]\n",
      "Row indices: [253]\n",
      "Group number: 184\n",
      "\n",
      "Group (SMARTS): [C&H3:1][C&H1:2]([C:3](=[O:4])[S:5])[C@@&H1:6]([O&H1:7])[C&H2:8][C&H2:9][C@:10]\n",
      "Row indices: [254]\n",
      "Group number: 185\n",
      "\n",
      "Group (SMARTS): [C&H2:1][C&H2:2][C&H1:3]([C:4](=[O:5])[S:6])[C@@&H1:7]([O&H1:8])[C&H2:9][C&H3:10]\n",
      "Row indices: [255]\n",
      "Group number: 186\n",
      "\n",
      "Group (SMARTS): [C&H3:1][C&H2:2][C@&H1:3]([O&H1:4])[C&H2:5][C:6](=[O:7])[S:8]\n",
      "Row indices: [256]\n",
      "Group number: 187\n",
      "\n",
      "Group (SMARTS): [S:1][C:2](=[O:3])[C&H2:4][C@@&H1:5]([O&H1:6])[C&H2:7][C&H2:8][C:9]\n",
      "Row indices: [257]\n",
      "Group number: 188\n",
      "\n",
      "Group (SMARTS): [C&H3:1][C@&H1:2]([O&H1:3])[C&H2:4][C&H2:5][C&H2:6]\n",
      "Row indices: [258]\n",
      "Group number: 189\n",
      "\n",
      "Group (SMARTS): [C&H3:1][C@@&H1:2]([O&H1:3])[C&H2:4][C&H2:5][C&H2:6]\n",
      "Row indices: [259]\n",
      "Group number: 190\n",
      "\n",
      "Group (SMARTS): [C&H2:1][C:2]1=[C&H1:3][C@@&H1:4]([O&H1:5])[C&H2:6][C&H2:7][C@:8]1\n",
      "Row indices: [263]\n",
      "Group number: 191\n",
      "\n",
      "Group (SMARTS): [C&H3:1][C&H2:2][C@@&H1:3]([O&H1:4])[C&H2:5][C:6](=[O:7])[S:8]\n",
      "Row indices: [266]\n",
      "Group number: 192\n",
      "\n",
      "Group (SMARTS): [C&H2:1][C@&H1:2]1[O:3][C&H1:4]([O&H1:5])[C@&H1:6]([O&H1:7])[C@@&H1:8]([O&H1:9])[C@@&H1:10]1[O&H1:11]\n",
      "Row indices: [267]\n",
      "Group number: 193\n",
      "\n",
      "Group (SMARTS): [C&H2:1][C@@:2]1([O&H1:3])[C&H2:4][C@&H1:5]([O&H1:6])[c:7]([c:8]([O&H1:9])[c:10])[c:11]([c:12])[C@@&H1:13]1\n",
      "Row indices: [268]\n",
      "Group number: 194\n",
      "\n",
      "Group (SMARTS): [N&H1:1][C@&H1:2]1[C@@&H1:3][O:4][C@@&H1:5]([C&H3:6])[C@@&H1:7]([O&H1:8])[C@&H1:9]1[O&H1:10]\n",
      "Row indices: [271, 272]\n",
      "Group number: 195\n",
      "\n",
      "Group (SMARTS): [S:1][C:2](=[O:3])[C:4]1=[C&H1:5][C&H2:6][C&H2:7][C&H2:8][C&H1:9]1[O&H1:10]\n",
      "Row indices: [273]\n",
      "Group number: 196\n",
      "\n",
      "Group (SMARTS): [O&H1:1][C@&H1:2]1[C@&H1:3][C@@&H1:4]([O&H1:5])[C@&H1:6]([O&H1:7])[C@@&H1:8]([O&H1:9])[C@&H1:10]1[O&H1:11]\n",
      "Row indices: [274]\n",
      "Group number: 197\n",
      "\n",
      "Group (SMARTS): [O&H1:1][C@&H1:2]1[C@&H1:3]([O&H1:4])[C@@&H1:5]([O&H1:6])[C@&H1:7][C@@&H1:8]([O&H1:9])[C@&H1:10]1[O&H1:11]\n",
      "Row indices: [275, 276]\n",
      "Group number: 198\n",
      "\n",
      "Group (SMARTS): [O&H1:1][C&H2:2][C&H1:3]([O&H1:4])[C&H2:5][O&H1:6]\n",
      "Row indices: [277]\n",
      "Group number: 199\n",
      "\n",
      "Group (SMARTS): [C:1][N&H1:2][C@&H1:3]1[C@@&H1:4]([O:5])[O:6][C@&H1:7]([C&H2:8])[C@@&H1:9]([O&H1:10])[C@@&H1:11]1[O&H1:12]\n",
      "Row indices: [278]\n",
      "Group number: 200\n",
      "\n",
      "Group (SMARTS): [O:1]=[C:2]([O&-:3])[C@&H1:4]([O&H1:5])[c:6]([c&H1:7][c&H1:8])[c&H1:9][c&H1:10]\n",
      "Row indices: [280]\n",
      "Group number: 201\n",
      "\n",
      "Group (SMARTS): [C&H2:1]1[C@&H1:2][C@@&H1:3]2[C@&H1:4]([C@@&H1:5]([C&H2:6]1)[O&H1:7])[O:8]2\n",
      "Row indices: [282]\n",
      "Group number: 202\n",
      "\n",
      "Group (SMARTS): [C&H1:1][C:2](=[C&H2:3])[C&H2:4][C@@&H1:5]([O&H1:6])[C&H1:7]=[C:8]([C&H3:9])[C&H3:10]\n",
      "Row indices: [283, 284]\n",
      "Group number: 203\n",
      "\n",
      "Group (SMARTS): [C:1][C&H2:2][C@&H1:3]([O&H1:4])[C@@&H1:5]([O&H1:6])[C&H2:7][O&H1:8]\n",
      "Row indices: [285]\n",
      "Group number: 204\n",
      "\n",
      "Group (SMARTS): [C&H2:1][C@@&H1:2]1[C&H2:3][C@&H1:4]([O&H1:5])[C&H2:6][C&H2:7][C@:8]1\n",
      "Row indices: [290, 291, 292, 293, 294, 295, 297, 323, 324, 325, 326]\n",
      "Group number: 205\n",
      "\n",
      "Group (SMARTS): [C&H2:1][C&H1:2]1[C&H2:3][C@&H1:4]([O&H1:5])[C&H2:6][C&H2:7][C:8]1\n",
      "Row indices: [296]\n",
      "Group number: 206\n",
      "\n",
      "Group (SMARTS): [C&H1:1]-[c:2]1[c:3]([C&H1:4]([C&H3:5])[O&H1:6])[c:7]([C&H3:8])[c:9][n:10]1\n",
      "Row indices: [298, 299]\n",
      "Group number: 207\n",
      "\n",
      "Group (SMARTS): [C:1][C&H2:2][C&H2:3][C@@&H1:4]([O&H1:5])[C:6](=[O:7])[O&-:8]\n",
      "Row indices: [300]\n",
      "Group number: 208\n",
      "\n",
      "Group (SMARTS): [C:1][C&H2:2][C&H2:3][C@&H1:4]([O&H1:5])[C:6](=[O:7])[O&-:8]\n",
      "Row indices: [301]\n",
      "Group number: 209\n",
      "\n",
      "Group (SMARTS): [C&H3:1][C@&H1:2]([O&H1:3])[C@&H1:4]([O&H1:5])[C&H2:6][C:7](=[O:8])[C:9]\n",
      "Row indices: [302]\n",
      "Group number: 210\n",
      "\n",
      "Group (SMARTS): [C:1][C:2](=[O:3])[C&H2:4][C@@&H1:5]([O&H1:6])[C&H2:7][O&H1:8]\n",
      "Row indices: [303]\n",
      "Group number: 211\n",
      "\n",
      "Group (SMARTS): [P:1][O:2][C&H2:3][C@&H1:4]([O&H1:5])[C@&H1:6]([O&H1:7])[C&H2:8][O&H1:9]\n",
      "Row indices: [304]\n",
      "Group number: 212\n",
      "\n",
      "Group (SMARTS): [O:1]=[C:2]([O&-:3])[C@&H1:4]([O&H1:5])[C@&H1:6]([O&H1:7])[C&H2:8][O&H1:9]\n",
      "Row indices: [308]\n",
      "Group number: 213\n",
      "\n",
      "Group (SMARTS): [O&H1:1][C@@&H1:2]([C@@&H1:3])[C@&H1:4]([O&H1:5])[C@@&H1:6]([O&H1:7])[C&H2:8][O&H1:9]\n",
      "Row indices: [310]\n",
      "Group number: 214\n",
      "\n",
      "Group (SMARTS): [c:1][c:2]([c:3]1[c:4]([c&H1:5])[C@&H1:6]([O:7][C&H1:8]1[O&H1:9])[C@@&H1:10])[O:11]\n",
      "Row indices: [311]\n",
      "Group number: 215\n",
      "\n",
      "Group (SMARTS): [C:1]1=[C&H1:2][O:3][C&H1:4]([O&H1:5])[C@&H1:6]2[C@@&H1:7]1[C&H2:8][C&H2:9][C@@&H1:10]2[C&H3:11]\n",
      "Row indices: [312]\n",
      "Group number: 216\n",
      "\n",
      "Group (SMARTS): [C:1]1=[C&H1:2][O:3][C&H1:4]([O&H1:5])[C@&H1:6]2[C@@&H1:7]([C&H3:8])[C&H2:9][C&H2:10][C@@&H1:11]12\n",
      "Row indices: [313]\n",
      "Group number: 217\n",
      "\n",
      "Group (SMARTS): [C&H2:1][C@@:2]1([O&H1:3])[C&H2:4][O:5][C&H1:6]([O&H1:7])[C@@&H1:8]1[O&H1:9]\n",
      "Row indices: [314]\n",
      "Group number: 218\n",
      "\n",
      "Group (SMARTS): [O&H1:1][C@@&H1:2]1[C@@&H1:3]([O&H1:4])[C@@&H1:5]2[O:6][C&H2:7][C@@&H1:8]([O:9]2)[C@&H1:10]1[O&H1:11]\n",
      "Row indices: [315]\n",
      "Group number: 219\n",
      "\n",
      "Group (SMARTS): [S:1][C:2](=[O:3])[C@@&H1:4]([C&H2:5][C:6])[C@@&H1:7]([O&H1:8])[c:9]([c&H1:10][c&H1:11])[c&H1:12][c&H1:13]\n",
      "Row indices: [316]\n",
      "Group number: 220\n",
      "\n",
      "Group (SMARTS): [C&H3:1][C@&H1:2]([O&H1:3])[C@@&H1:4]([O&H1:5])[C&H2:6][C:7](=[O:8])[C:9]\n",
      "Row indices: [317]\n",
      "Group number: 221\n",
      "\n",
      "Group (SMARTS): [C:1][C:2](=[O:3])[C&H2:4][C@&H1:5]([O&H1:6])[C&H2:7][O&H1:8]\n",
      "Row indices: [318]\n",
      "Group number: 222\n",
      "\n",
      "Group (SMARTS): [C&H3:1][C@@&H1:2]1[O:3][C@&H1:4]([O&H1:5])[C@@&H1:6]([O&H1:7])[C@&H1:8]([O&H1:9])[C@&H1:10]1\n",
      "Row indices: [319]\n",
      "Group number: 223\n",
      "\n",
      "Group (SMARTS): [O:1]=[C:2]([O&-:3])[C@@&H1:4]([O&H1:5])[C@@&H1:6]([O&H1:7])[C@&H1:8]([O&H1:9])[C@@&H1:10]([O&H1:11])[C&H2:12]\n",
      "Row indices: [320]\n",
      "Group number: 224\n",
      "\n",
      "Group (SMARTS): [C&H2:1][C@@&H1:2]1[O:3][C&H1:4]([O&H1:5])[C@&H1:6]([O&H1:7])[C@&H1:8]1[O&H1:9]\n",
      "Row indices: [321]\n",
      "Group number: 225\n",
      "\n",
      "Group (SMARTS): [C&H2:1][C&H1:2]1[C&H2:3][C@&H1:4]([O&H1:5])[C&H2:6][C&H2:7][C@:8]1\n",
      "Row indices: [327]\n",
      "Group number: 226\n",
      "\n",
      "Group (SMARTS): [O&H1:1][C&H2:2][C@@&H1:3]([O&H1:4])[C@@&H1:5]([O&H1:6])[C@@&H1:7]([O&H1:8])[C&H2:9]\n",
      "Row indices: [328]\n",
      "Group number: 227\n",
      "\n",
      "Group (SMARTS): [O&H1:1][C@&H1:2]([C@@&H1:3])[C@&H1:4]([O&H1:5])[C@&H1:6]([O&H1:7])[C&H2:8][O&H1:9]\n",
      "Row indices: [329]\n",
      "Group number: 228\n",
      "\n",
      "Group (SMARTS): [O&H1:1][C@@&H1:2]([C@@&H1:3])[C@&H1:4]([O&H1:5])[C@&H1:6]([O&H1:7])[C&H2:8][O&H1:9]\n",
      "Row indices: [330]\n",
      "Group number: 229\n",
      "\n",
      "Group (SMARTS): [O:1]=[C:2]([O&-:3])[C&H2:4][C&H2:5][O&H1:6]\n",
      "Row indices: [331]\n",
      "Group number: 230\n",
      "\n",
      "Group (SMARTS): [O:1]=[C:2]([O&-:3])[C@&H1:4]([O&H1:5])[C&H2:6][O&H1:7]\n",
      "Row indices: [332]\n",
      "Group number: 231\n",
      "\n",
      "Group (SMARTS): [C:1][C&H2:2][C@:3]1([C&H3:4])[C@@&H1:5]([O&H1:6])[C&H2:7][C&H2:8][C@&H1:9]1[C@&H1:10]\n",
      "Row indices: [334]\n",
      "Group number: 232\n",
      "\n",
      "Group (SMARTS): [c:1][c:2]([c:3]([c:4]([c&H1:5])[C&H2:6])[C&H2:7][O&H1:8])[O&H1:9]\n",
      "Row indices: [335]\n",
      "Group number: 233\n",
      "\n",
      "Group (SMARTS): [O&H1:1][C@&H1:2]([C@&H1:3])[C@&H1:4]([O&H1:5])[C@&H1:6]([O&H1:7])[C&H2:8][O&H1:9]\n",
      "Row indices: [339, 340]\n",
      "Group number: 234\n",
      "\n",
      "Group (SMARTS): [C&H3:1][C&H1:2]([O&H1:3])[C&H2:4][O:5][P:6]\n",
      "Row indices: [341]\n",
      "Group number: 235\n",
      "\n",
      "Group (SMARTS): [O&H1:1][C&H2:2][c:3]([c&H1:4][c&H1:5])[c&H1:6][c&H1:7]\n",
      "Row indices: [344, 354]\n",
      "Group number: 236\n",
      "\n",
      "Group (SMARTS): [O&H1:1][C&H2:2][c:3]([c&H1:4][c&H1:5])[c&H1:6][c:7]\n",
      "Row indices: [345, 350, 356]\n",
      "Group number: 237\n",
      "\n",
      "Group (SMARTS): [c&H1:1][c&H1:2][c:3]([C&H2:4][O&H1:5])[c&H1:6][c:7]\n",
      "Row indices: [346]\n",
      "Group number: 238\n",
      "\n",
      "Group (SMARTS): [c:1][c&H1:2][c:3]([c&H1:4][c:5])[C&H2:6][O&H1:7]\n",
      "Row indices: [347]\n",
      "Group number: 239\n",
      "\n",
      "Group (SMARTS): [c:1][c&H1:2][c:3]([c&H1:4][c&H1:5])[C&H2:6][O&H1:7]\n",
      "Row indices: [348]\n",
      "Group number: 240\n",
      "\n",
      "Group (SMARTS): [O:1]=[C:2]([O&-:3])[C@@&H1:4]([O&H1:5])[C@@&H1:6]([O&H1:7])[C:8](=[O:9])[O&-:10]\n",
      "Row indices: [351]\n",
      "Group number: 241\n",
      "\n",
      "Group (SMARTS): [O:1]=[C:2]([O&-:3])[C@&H1:4]([O&H1:5])[C@@&H1:6]([O&H1:7])[C:8](=[O:9])[O&-:10]\n",
      "Row indices: [352]\n",
      "Group number: 242\n",
      "\n",
      "Group (SMARTS): [O:1]=[C:2]([O&-:3])[C@&H1:4]([O&H1:5])[C&H2:6][O:7][P:8]\n",
      "Row indices: [353]\n",
      "Group number: 243\n",
      "\n",
      "Group (SMARTS): [O:1]=[C:2]([O&-:3])[C&H1:4]([O&H1:5])[C&H2:6][c:7]([c&H1:8])[c&H1:9]\n",
      "Row indices: [355]\n",
      "Group number: 244\n",
      "\n",
      "Group (SMARTS): [C&H2:1][C&H2:2][C&H2:3][C@@&H1:4]([O&H1:5])[C:6](=[O:7])[O&-:8]\n",
      "Row indices: [357]\n",
      "Group number: 245\n",
      "\n",
      "Group (SMARTS): [C&H2:1][C&H2:2][C&H2:3][C@&H1:4]([O&H1:5])[C:6](=[O:7])[O&-:8]\n",
      "Row indices: [358]\n",
      "Group number: 246\n",
      "\n",
      "Group (SMARTS): [O&H1:1][C@&H1:2]1[c:3]([c&H1:4][c&H1:5])[c:6]([c:7])[c:8]([c&H1:9])[C@@&H1:10]1[O&H1:11]\n",
      "Row indices: [359]\n",
      "Group number: 247\n",
      "\n",
      "Group (SMARTS): [O:1]=[C:2]1[c:3]([c&H1:4])[c:5]([c:6])[c:7]([c&H1:8][c&H1:9])[C@@&H1:10]1[O&H1:11]\n",
      "Row indices: [360]\n",
      "Group number: 248\n",
      "\n"
     ]
    }
   ],
   "source": [
    "# Dictionary to store groupings based on exact SMARTS string\n",
    "grouped_smarts = {}\n",
    "\n",
    "# Group the SMARTS strings by their exact content\n",
    "for idx, smarts in enumerate(rule_smarts_reset):\n",
    "    if smarts not in grouped_smarts:\n",
    "        grouped_smarts[smarts] = []\n",
    "    grouped_smarts[smarts].append(idx)\n",
    "\n",
    "# Output the groupings\n",
    "group_memberships = np.zeros(len(rule_smarts_reset))\n",
    "group_number = 0\n",
    "for group, indices in grouped_smarts.items():\n",
    "    \n",
    "    group_number += 1\n",
    "    print(f\"Group (SMARTS): {group}\")\n",
    "    print(f\"Row indices: {indices}\")\n",
    "    print(f\"Group number: {group_number}\")\n",
    "    print()\n",
    "    \n",
    "    for idx in indices:\n",
    "        group_memberships[idx] = group_number"
   ]
  },
  {
   "cell_type": "code",
   "execution_count": 171,
   "id": "14a6c03a",
   "metadata": {},
   "outputs": [],
   "source": [
    "AdH_rxns_df_w_substructs['Group'] = group_memberships"
   ]
  },
  {
   "cell_type": "code",
   "execution_count": 172,
   "id": "e2a67427",
   "metadata": {
    "scrolled": true
   },
   "outputs": [
    {
     "name": "stdout",
     "output_type": "stream",
     "text": [
      "NC(=O)c1ccc[n+]([C@@H]2O[C@H](COP(=O)(O)OP(=O)(O)OC[C@H]3O[C@@H](n4cnc5c(N)ncnc54)[C@H](OP(=O)(O)O)[C@@H]3O)[C@@H](O)[C@H]2O)c1.OC[C@H](O)C(O)[C@@H](O)CO>>NC(=O)C1=CN([C@@H]2O[C@H](COP(=O)(O)OP(=O)(O)OC[C@H]3O[C@@H](n4cnc5c(N)ncnc54)[C@H](OP(=O)(O)O)[C@@H]3O)[C@@H](O)[C@H]2O)C=CC1.O=C[C@H](O)C(O)[C@@H](O)CO.[H+]\n",
      "\n"
     ]
    }
   ],
   "source": [
    "for x in list(AdH_rxns_df_w_substructs[AdH_rxns_df_w_substructs['Group']==98]['unmapped']):\n",
    "    print(x)\n",
    "    print('')"
   ]
  },
  {
   "cell_type": "code",
   "execution_count": 173,
   "id": "c8e8540a",
   "metadata": {},
   "outputs": [
    {
     "data": {
      "text/plain": [
       "'CC(C)CCO.NC(=O)c1ccc[n+]([C@@H]2O[C@H](COP(=O)(O)OP(=O)(O)OC[C@H]3O[C@@H](n4cnc5c(N)ncnc54)[C@H](O)[C@@H]3O)[C@@H](O)[C@H]2O)c1>>CC(C)CC=O.NC(=O)C1=CN([C@@H]2O[C@H](COP(=O)(O)OP(=O)(O)OC[C@H]3O[C@@H](n4cnc5c(N)ncnc54)[C@H](O)[C@@H]3O)[C@@H](O)[C@H]2O)C=CC1.[H+]'"
      ]
     },
     "execution_count": 173,
     "metadata": {},
     "output_type": "execute_result"
    }
   ],
   "source": [
    "list(AdH_rxns_df_w_substructs['unmapped'])[2]"
   ]
  },
  {
   "cell_type": "code",
   "execution_count": 176,
   "id": "c8875c41",
   "metadata": {},
   "outputs": [
    {
     "data": {
      "text/plain": [
       "'[C&H3:1][C@@&H1:2]([O&H1:3])[C&H2:4][C&H2:5][O&H1:6]'"
      ]
     },
     "execution_count": 176,
     "metadata": {},
     "output_type": "execute_result"
    }
   ],
   "source": [
    "rxn_str = 'C[C@@H](O)CCO.NC(=O)c1ccc[n+]([C@@H]2O[C@H](COP(=O)(O)OP(=O)(O)OC[C@H]3O[C@@H](n4cnc5c(N)ncnc54)[C@H](O)[C@@H]3O)[C@@H](O)[C@H]2O)c1>>C[C@@H](O)CC=O.NC(=O)C1=CN([C@@H]2O[C@H](COP(=O)(O)OP(=O)(O)OC[C@H]3O[C@@H](n4cnc5c(N)ncnc54)[C@H](O)[C@@H]3O)[C@@H](O)[C@H]2O)C=CC1.[H+]'\n",
    "list(AdH_rxns_df_w_substructs[AdH_rxns_df_w_substructs['unmapped']==rxn_str]['substructure_environments'])[0]\n"
   ]
  },
  {
   "cell_type": "code",
   "execution_count": null,
   "id": "4dc6a1fe",
   "metadata": {},
   "outputs": [],
   "source": []
  },
  {
   "cell_type": "code",
   "execution_count": 107,
   "id": "678c8c19",
   "metadata": {
    "scrolled": true
   },
   "outputs": [
    {
     "data": {
      "text/plain": [
       "'CC(C)CCO.NC(=O)c1ccc[n+]([C@@H]2O[C@H](COP(=O)(O)OP(=O)(O)OC[C@H]3O[C@@H](n4cnc5c(N)ncnc54)[C@H](O)[C@@H]3O)[C@@H](O)[C@H]2O)c1>>CC(C)CC=O.NC(=O)C1=CN([C@@H]2O[C@H](COP(=O)(O)OP(=O)(O)OC[C@H]3O[C@@H](n4cnc5c(N)ncnc54)[C@H](O)[C@@H]3O)[C@@H](O)[C@H]2O)C=CC1.[H+]'"
      ]
     },
     "execution_count": 107,
     "metadata": {},
     "output_type": "execute_result"
    }
   ],
   "source": [
    "list(AdH_rxns_df_w_substructs['unmapped'])[4]"
   ]
  },
  {
   "cell_type": "code",
   "execution_count": 108,
   "id": "62ed000c",
   "metadata": {},
   "outputs": [
    {
     "data": {
      "text/html": [
       "<div>\n",
       "<style scoped>\n",
       "    .dataframe tbody tr th:only-of-type {\n",
       "        vertical-align: middle;\n",
       "    }\n",
       "\n",
       "    .dataframe tbody tr th {\n",
       "        vertical-align: top;\n",
       "    }\n",
       "\n",
       "    .dataframe thead th {\n",
       "        text-align: right;\n",
       "    }\n",
       "</style>\n",
       "<table border=\"1\" class=\"dataframe\">\n",
       "  <thead>\n",
       "    <tr style=\"text-align: right;\">\n",
       "      <th></th>\n",
       "      <th>rxn_idx</th>\n",
       "      <th>mapped</th>\n",
       "      <th>unmapped</th>\n",
       "      <th>orig_rxn_text</th>\n",
       "      <th>rule</th>\n",
       "      <th>rule_id</th>\n",
       "      <th>source</th>\n",
       "      <th>steps</th>\n",
       "      <th>quality</th>\n",
       "      <th>natural</th>\n",
       "      <th>organism</th>\n",
       "      <th>protein_refs</th>\n",
       "      <th>protein_db</th>\n",
       "      <th>ec_num</th>\n",
       "      <th>JN_labelled_rule</th>\n",
       "      <th>Reaction_site_idx</th>\n",
       "      <th>substructure_environments</th>\n",
       "      <th>Group</th>\n",
       "    </tr>\n",
       "  </thead>\n",
       "  <tbody>\n",
       "    <tr>\n",
       "      <th>11</th>\n",
       "      <td>5751</td>\n",
       "      <td>[CH3:1][CH:2]([CH3:3])[CH2:4][CH2:5][OH:6].[NH...</td>\n",
       "      <td>CC(C)CCO.NC(=O)c1ccc[n+]([C@@H]2O[C@H](COP(=O)...</td>\n",
       "      <td>RXN-7693</td>\n",
       "      <td>[#6:1]-[#8:2].[#6:3]1:[#6:4]:[#6:5]:[#6:6]:[#7...</td>\n",
       "      <td>1</td>\n",
       "      <td>direct</td>\n",
       "      <td>single</td>\n",
       "      <td>1.0</td>\n",
       "      <td>NaN</td>\n",
       "      <td>NaN</td>\n",
       "      <td>[]</td>\n",
       "      <td>NaN</td>\n",
       "      <td>1.1.1.1</td>\n",
       "      <td>rule0002</td>\n",
       "      <td>5</td>\n",
       "      <td>[C&amp;H2:4][C&amp;H2:5][O&amp;H1:6]</td>\n",
       "      <td>3.0</td>\n",
       "    </tr>\n",
       "  </tbody>\n",
       "</table>\n",
       "</div>"
      ],
      "text/plain": [
       "    rxn_idx                                             mapped  \\\n",
       "11     5751  [CH3:1][CH:2]([CH3:3])[CH2:4][CH2:5][OH:6].[NH...   \n",
       "\n",
       "                                             unmapped orig_rxn_text  \\\n",
       "11  CC(C)CCO.NC(=O)c1ccc[n+]([C@@H]2O[C@H](COP(=O)...      RXN-7693   \n",
       "\n",
       "                                                 rule  rule_id  source  \\\n",
       "11  [#6:1]-[#8:2].[#6:3]1:[#6:4]:[#6:5]:[#6:6]:[#7...        1  direct   \n",
       "\n",
       "     steps  quality  natural  organism protein_refs  protein_db   ec_num  \\\n",
       "11  single      1.0      NaN       NaN           []         NaN  1.1.1.1   \n",
       "\n",
       "   JN_labelled_rule  Reaction_site_idx substructure_environments  Group  \n",
       "11         rule0002                  5  [C&H2:4][C&H2:5][O&H1:6]    3.0  "
      ]
     },
     "execution_count": 108,
     "metadata": {},
     "output_type": "execute_result"
    }
   ],
   "source": [
    "rxn_str = 'CC(C)CCO.NC(=O)c1ccc[n+]([C@@H]2O[C@H](COP(=O)(O)OP(=O)(O)OC[C@H]3O[C@@H](n4cnc5c(N)ncnc54)[C@H](O)[C@@H]3O)[C@@H](O)[C@H]2O)c1>>CC(C)CC=O.NC(=O)C1=CN([C@@H]2O[C@H](COP(=O)(O)OP(=O)(O)OC[C@H]3O[C@@H](n4cnc5c(N)ncnc54)[C@H](O)[C@@H]3O)[C@@H](O)[C@H]2O)C=CC1.[H+]'\n",
    "AdH_rxns_df_w_substructs[AdH_rxns_df_w_substructs['unmapped']==rxn_str]\n"
   ]
  },
  {
   "cell_type": "code",
   "execution_count": null,
   "id": "32aaf092",
   "metadata": {},
   "outputs": [],
   "source": []
  },
  {
   "cell_type": "code",
   "execution_count": 109,
   "id": "1cb4fd37",
   "metadata": {
    "scrolled": true
   },
   "outputs": [
    {
     "data": {
      "text/plain": [
       "'C[C@]12CC[C@H]3[C@@H](CCC4CCCC[C@@]43C)[C@@H]1CC[C@@H]2CCO.NC(=O)c1ccc[n+]([C@@H]2O[C@H](COP(=O)(O)OP(=O)(O)OC[C@H]3O[C@@H](n4cnc5c(N)ncnc54)[C@H](O)[C@@H]3O)[C@@H](O)[C@H]2O)c1>>C[C@]12CC[C@H]3[C@@H](CCC4CCCC[C@@]43C)[C@@H]1CC[C@@H]2CC=O.NC(=O)C1=CN([C@@H]2O[C@H](COP(=O)(O)OP(=O)(O)OC[C@H]3O[C@@H](n4cnc5c(N)ncnc54)[C@H](O)[C@@H]3O)[C@@H](O)[C@H]2O)C=CC1.[H+]'"
      ]
     },
     "execution_count": 109,
     "metadata": {},
     "output_type": "execute_result"
    }
   ],
   "source": [
    "list(AdH_rxns_df_w_substructs['unmapped'])[81]"
   ]
  },
  {
   "cell_type": "code",
   "execution_count": 110,
   "id": "d29682c8",
   "metadata": {},
   "outputs": [
    {
     "data": {
      "text/html": [
       "<div>\n",
       "<style scoped>\n",
       "    .dataframe tbody tr th:only-of-type {\n",
       "        vertical-align: middle;\n",
       "    }\n",
       "\n",
       "    .dataframe tbody tr th {\n",
       "        vertical-align: top;\n",
       "    }\n",
       "\n",
       "    .dataframe thead th {\n",
       "        text-align: right;\n",
       "    }\n",
       "</style>\n",
       "<table border=\"1\" class=\"dataframe\">\n",
       "  <thead>\n",
       "    <tr style=\"text-align: right;\">\n",
       "      <th></th>\n",
       "      <th>rxn_idx</th>\n",
       "      <th>mapped</th>\n",
       "      <th>unmapped</th>\n",
       "      <th>orig_rxn_text</th>\n",
       "      <th>rule</th>\n",
       "      <th>rule_id</th>\n",
       "      <th>source</th>\n",
       "      <th>steps</th>\n",
       "      <th>quality</th>\n",
       "      <th>natural</th>\n",
       "      <th>organism</th>\n",
       "      <th>protein_refs</th>\n",
       "      <th>protein_db</th>\n",
       "      <th>ec_num</th>\n",
       "      <th>JN_labelled_rule</th>\n",
       "      <th>Reaction_site_idx</th>\n",
       "      <th>substructure_environments</th>\n",
       "      <th>Group</th>\n",
       "    </tr>\n",
       "  </thead>\n",
       "  <tbody>\n",
       "    <tr>\n",
       "      <th>149</th>\n",
       "      <td>18</td>\n",
       "      <td>[CH3:1][C@:2]12[CH2:3][CH2:4][C@H:5]3[C@@H:6](...</td>\n",
       "      <td>C[C@]12CC[C@H]3[C@@H](CCC4CCCC[C@@]43C)[C@@H]1...</td>\n",
       "      <td>1.1.1.150-RXN</td>\n",
       "      <td>[#6:1]-[#8:2].[#6:3]1:[#6:4]:[#6:5]:[#6:6]:[#7...</td>\n",
       "      <td>1</td>\n",
       "      <td>direct</td>\n",
       "      <td>single</td>\n",
       "      <td>1.0</td>\n",
       "      <td>NaN</td>\n",
       "      <td>NaN</td>\n",
       "      <td>[]</td>\n",
       "      <td>NaN</td>\n",
       "      <td>1.1.1.150</td>\n",
       "      <td>rule0002</td>\n",
       "      <td>21</td>\n",
       "      <td>[C&amp;H2:20][C&amp;H2:21][O&amp;H1:22]</td>\n",
       "      <td>3.0</td>\n",
       "    </tr>\n",
       "  </tbody>\n",
       "</table>\n",
       "</div>"
      ],
      "text/plain": [
       "     rxn_idx                                             mapped  \\\n",
       "149       18  [CH3:1][C@:2]12[CH2:3][CH2:4][C@H:5]3[C@@H:6](...   \n",
       "\n",
       "                                              unmapped  orig_rxn_text  \\\n",
       "149  C[C@]12CC[C@H]3[C@@H](CCC4CCCC[C@@]43C)[C@@H]1...  1.1.1.150-RXN   \n",
       "\n",
       "                                                  rule  rule_id  source  \\\n",
       "149  [#6:1]-[#8:2].[#6:3]1:[#6:4]:[#6:5]:[#6:6]:[#7...        1  direct   \n",
       "\n",
       "      steps  quality  natural  organism protein_refs  protein_db     ec_num  \\\n",
       "149  single      1.0      NaN       NaN           []         NaN  1.1.1.150   \n",
       "\n",
       "    JN_labelled_rule  Reaction_site_idx    substructure_environments  Group  \n",
       "149         rule0002                 21  [C&H2:20][C&H2:21][O&H1:22]    3.0  "
      ]
     },
     "execution_count": 110,
     "metadata": {},
     "output_type": "execute_result"
    }
   ],
   "source": [
    "rxn_str = 'C[C@]12CC[C@H]3[C@@H](CCC4CCCC[C@@]43C)[C@@H]1CC[C@@H]2CCO.NC(=O)c1ccc[n+]([C@@H]2O[C@H](COP(=O)(O)OP(=O)(O)OC[C@H]3O[C@@H](n4cnc5c(N)ncnc54)[C@H](O)[C@@H]3O)[C@@H](O)[C@H]2O)c1>>C[C@]12CC[C@H]3[C@@H](CCC4CCCC[C@@]43C)[C@@H]1CC[C@@H]2CC=O.NC(=O)C1=CN([C@@H]2O[C@H](COP(=O)(O)OP(=O)(O)OC[C@H]3O[C@@H](n4cnc5c(N)ncnc54)[C@H](O)[C@@H]3O)[C@@H](O)[C@H]2O)C=CC1.[H+]'\n",
    "AdH_rxns_df_w_substructs[AdH_rxns_df_w_substructs['unmapped']==rxn_str]\n"
   ]
  },
  {
   "cell_type": "code",
   "execution_count": null,
   "id": "0a97912b",
   "metadata": {},
   "outputs": [],
   "source": []
  },
  {
   "cell_type": "code",
   "execution_count": 111,
   "id": "075142ab",
   "metadata": {},
   "outputs": [
    {
     "data": {
      "text/plain": [
       "'CCCCCCCCCCCCCCCCO.NC(=O)c1ccc[n+]([C@@H]2O[C@H](COP(=O)(O)OP(=O)(O)OC[C@H]3O[C@@H](n4cnc5c(N)ncnc54)[C@H](O)[C@@H]3O)[C@@H](O)[C@H]2O)c1>>CCCCCCCCCCCCCCCC=O.NC(=O)C1=CN([C@@H]2O[C@H](COP(=O)(O)OP(=O)(O)OC[C@H]3O[C@@H](n4cnc5c(N)ncnc54)[C@H](O)[C@@H]3O)[C@@H](O)[C@H]2O)C=CC1.[H+]'"
      ]
     },
     "execution_count": 111,
     "metadata": {},
     "output_type": "execute_result"
    }
   ],
   "source": [
    "list(AdH_rxns_df_w_substructs['unmapped'])[93]"
   ]
  },
  {
   "cell_type": "code",
   "execution_count": 112,
   "id": "68bf11ed",
   "metadata": {},
   "outputs": [
    {
     "data": {
      "text/html": [
       "<div>\n",
       "<style scoped>\n",
       "    .dataframe tbody tr th:only-of-type {\n",
       "        vertical-align: middle;\n",
       "    }\n",
       "\n",
       "    .dataframe tbody tr th {\n",
       "        vertical-align: top;\n",
       "    }\n",
       "\n",
       "    .dataframe thead th {\n",
       "        text-align: right;\n",
       "    }\n",
       "</style>\n",
       "<table border=\"1\" class=\"dataframe\">\n",
       "  <thead>\n",
       "    <tr style=\"text-align: right;\">\n",
       "      <th></th>\n",
       "      <th>rxn_idx</th>\n",
       "      <th>mapped</th>\n",
       "      <th>unmapped</th>\n",
       "      <th>orig_rxn_text</th>\n",
       "      <th>rule</th>\n",
       "      <th>rule_id</th>\n",
       "      <th>source</th>\n",
       "      <th>steps</th>\n",
       "      <th>quality</th>\n",
       "      <th>natural</th>\n",
       "      <th>organism</th>\n",
       "      <th>protein_refs</th>\n",
       "      <th>protein_db</th>\n",
       "      <th>ec_num</th>\n",
       "      <th>JN_labelled_rule</th>\n",
       "      <th>Reaction_site_idx</th>\n",
       "      <th>substructure_environments</th>\n",
       "      <th>Group</th>\n",
       "    </tr>\n",
       "  </thead>\n",
       "  <tbody>\n",
       "    <tr>\n",
       "      <th>167</th>\n",
       "      <td>1520</td>\n",
       "      <td>[CH3:1][CH2:2][CH2:3][CH2:4][CH2:5][CH2:6][CH2...</td>\n",
       "      <td>CCCCCCCCCCCCCCCCO.NC(=O)c1ccc[n+]([C@@H]2O[C@H...</td>\n",
       "      <td>HEXADECANOL-DEHYDROGENASE-RXN</td>\n",
       "      <td>[#6:1]-[#8:2].[#6:3]1:[#6:4]:[#6:5]:[#6:6]:[#7...</td>\n",
       "      <td>1</td>\n",
       "      <td>direct</td>\n",
       "      <td>single</td>\n",
       "      <td>1.0</td>\n",
       "      <td>NaN</td>\n",
       "      <td>NaN</td>\n",
       "      <td>[]</td>\n",
       "      <td>NaN</td>\n",
       "      <td>1.1.1.164</td>\n",
       "      <td>rule0002</td>\n",
       "      <td>16</td>\n",
       "      <td>[C&amp;H2:15][C&amp;H2:16][O&amp;H1:17]</td>\n",
       "      <td>3.0</td>\n",
       "    </tr>\n",
       "  </tbody>\n",
       "</table>\n",
       "</div>"
      ],
      "text/plain": [
       "     rxn_idx                                             mapped  \\\n",
       "167     1520  [CH3:1][CH2:2][CH2:3][CH2:4][CH2:5][CH2:6][CH2...   \n",
       "\n",
       "                                              unmapped  \\\n",
       "167  CCCCCCCCCCCCCCCCO.NC(=O)c1ccc[n+]([C@@H]2O[C@H...   \n",
       "\n",
       "                     orig_rxn_text  \\\n",
       "167  HEXADECANOL-DEHYDROGENASE-RXN   \n",
       "\n",
       "                                                  rule  rule_id  source  \\\n",
       "167  [#6:1]-[#8:2].[#6:3]1:[#6:4]:[#6:5]:[#6:6]:[#7...        1  direct   \n",
       "\n",
       "      steps  quality  natural  organism protein_refs  protein_db     ec_num  \\\n",
       "167  single      1.0      NaN       NaN           []         NaN  1.1.1.164   \n",
       "\n",
       "    JN_labelled_rule  Reaction_site_idx    substructure_environments  Group  \n",
       "167         rule0002                 16  [C&H2:15][C&H2:16][O&H1:17]    3.0  "
      ]
     },
     "execution_count": 112,
     "metadata": {},
     "output_type": "execute_result"
    }
   ],
   "source": [
    "rxn_str = 'CCCCCCCCCCCCCCCCO.NC(=O)c1ccc[n+]([C@@H]2O[C@H](COP(=O)(O)OP(=O)(O)OC[C@H]3O[C@@H](n4cnc5c(N)ncnc54)[C@H](O)[C@@H]3O)[C@@H](O)[C@H]2O)c1>>CCCCCCCCCCCCCCCC=O.NC(=O)C1=CN([C@@H]2O[C@H](COP(=O)(O)OP(=O)(O)OC[C@H]3O[C@@H](n4cnc5c(N)ncnc54)[C@H](O)[C@@H]3O)[C@@H](O)[C@H]2O)C=CC1.[H+]'\n",
    "AdH_rxns_df_w_substructs[AdH_rxns_df_w_substructs['unmapped']==rxn_str]\n"
   ]
  },
  {
   "cell_type": "code",
   "execution_count": null,
   "id": "78e710cc",
   "metadata": {},
   "outputs": [],
   "source": []
  },
  {
   "cell_type": "code",
   "execution_count": 113,
   "id": "6b9be3f5",
   "metadata": {},
   "outputs": [
    {
     "data": {
      "text/plain": [
       "'CCCCO.NC(=O)c1ccc[n+]([C@@H]2O[C@H](COP(=O)(O)OP(=O)(O)OC[C@H]3O[C@@H](n4cnc5c(N)ncnc54)[C@H](OP(=O)(O)O)[C@@H]3O)[C@@H](O)[C@H]2O)c1>>CCCC=O.NC(=O)C1=CN([C@@H]2O[C@H](COP(=O)(O)OP(=O)(O)OC[C@H]3O[C@@H](n4cnc5c(N)ncnc54)[C@H](OP(=O)(O)O)[C@@H]3O)[C@@H](O)[C@H]2O)C=CC1.[H+]'"
      ]
     },
     "execution_count": 113,
     "metadata": {},
     "output_type": "execute_result"
    }
   ],
   "source": [
    "list(AdH_rxns_df_w_substructs['unmapped'])[115]"
   ]
  },
  {
   "cell_type": "code",
   "execution_count": 114,
   "id": "83a56aff",
   "metadata": {},
   "outputs": [
    {
     "data": {
      "text/html": [
       "<div>\n",
       "<style scoped>\n",
       "    .dataframe tbody tr th:only-of-type {\n",
       "        vertical-align: middle;\n",
       "    }\n",
       "\n",
       "    .dataframe tbody tr th {\n",
       "        vertical-align: top;\n",
       "    }\n",
       "\n",
       "    .dataframe thead th {\n",
       "        text-align: right;\n",
       "    }\n",
       "</style>\n",
       "<table border=\"1\" class=\"dataframe\">\n",
       "  <thead>\n",
       "    <tr style=\"text-align: right;\">\n",
       "      <th></th>\n",
       "      <th>rxn_idx</th>\n",
       "      <th>mapped</th>\n",
       "      <th>unmapped</th>\n",
       "      <th>orig_rxn_text</th>\n",
       "      <th>rule</th>\n",
       "      <th>rule_id</th>\n",
       "      <th>source</th>\n",
       "      <th>steps</th>\n",
       "      <th>quality</th>\n",
       "      <th>natural</th>\n",
       "      <th>organism</th>\n",
       "      <th>protein_refs</th>\n",
       "      <th>protein_db</th>\n",
       "      <th>ec_num</th>\n",
       "      <th>JN_labelled_rule</th>\n",
       "      <th>Reaction_site_idx</th>\n",
       "      <th>substructure_environments</th>\n",
       "      <th>Group</th>\n",
       "    </tr>\n",
       "  </thead>\n",
       "  <tbody>\n",
       "    <tr>\n",
       "      <th>215</th>\n",
       "      <td>1296</td>\n",
       "      <td>[CH3:1][CH2:2][CH2:3][CH2:4][OH:5].[NH2:6][C:7...</td>\n",
       "      <td>CCCCO.NC(=O)c1ccc[n+]([C@@H]2O[C@H](COP(=O)(O)...</td>\n",
       "      <td>ENZRXN-201-RXN</td>\n",
       "      <td>[#6:1]-[#8:2].[#6:3]1:[#6:4]:[#6:5]:[#6:6]:[#7...</td>\n",
       "      <td>1</td>\n",
       "      <td>direct</td>\n",
       "      <td>single</td>\n",
       "      <td>1.0</td>\n",
       "      <td>NaN</td>\n",
       "      <td>NaN</td>\n",
       "      <td>[]</td>\n",
       "      <td>NaN</td>\n",
       "      <td>1.1.1.2</td>\n",
       "      <td>rule0002</td>\n",
       "      <td>4</td>\n",
       "      <td>[C&amp;H2:3][C&amp;H2:4][O&amp;H1:5]</td>\n",
       "      <td>3.0</td>\n",
       "    </tr>\n",
       "  </tbody>\n",
       "</table>\n",
       "</div>"
      ],
      "text/plain": [
       "     rxn_idx                                             mapped  \\\n",
       "215     1296  [CH3:1][CH2:2][CH2:3][CH2:4][OH:5].[NH2:6][C:7...   \n",
       "\n",
       "                                              unmapped   orig_rxn_text  \\\n",
       "215  CCCCO.NC(=O)c1ccc[n+]([C@@H]2O[C@H](COP(=O)(O)...  ENZRXN-201-RXN   \n",
       "\n",
       "                                                  rule  rule_id  source  \\\n",
       "215  [#6:1]-[#8:2].[#6:3]1:[#6:4]:[#6:5]:[#6:6]:[#7...        1  direct   \n",
       "\n",
       "      steps  quality  natural  organism protein_refs  protein_db   ec_num  \\\n",
       "215  single      1.0      NaN       NaN           []         NaN  1.1.1.2   \n",
       "\n",
       "    JN_labelled_rule  Reaction_site_idx substructure_environments  Group  \n",
       "215         rule0002                  4  [C&H2:3][C&H2:4][O&H1:5]    3.0  "
      ]
     },
     "execution_count": 114,
     "metadata": {},
     "output_type": "execute_result"
    }
   ],
   "source": [
    "rxn_str = 'CCCCO.NC(=O)c1ccc[n+]([C@@H]2O[C@H](COP(=O)(O)OP(=O)(O)OC[C@H]3O[C@@H](n4cnc5c(N)ncnc54)[C@H](OP(=O)(O)O)[C@@H]3O)[C@@H](O)[C@H]2O)c1>>CCCC=O.NC(=O)C1=CN([C@@H]2O[C@H](COP(=O)(O)OP(=O)(O)OC[C@H]3O[C@@H](n4cnc5c(N)ncnc54)[C@H](OP(=O)(O)O)[C@@H]3O)[C@@H](O)[C@H]2O)C=CC1.[H+]'\n",
    "AdH_rxns_df_w_substructs[AdH_rxns_df_w_substructs['unmapped']==rxn_str]\n"
   ]
  },
  {
   "cell_type": "code",
   "execution_count": null,
   "id": "a6436020",
   "metadata": {},
   "outputs": [],
   "source": []
  },
  {
   "cell_type": "code",
   "execution_count": 115,
   "id": "906d48fd",
   "metadata": {},
   "outputs": [
    {
     "data": {
      "text/plain": [
       "'NC(=O)c1ccc[n+]([C@@H]2O[C@H](COP(=O)(O)OP(=O)(O)OC[C@H]3O[C@@H](n4cnc5c(N)ncnc54)[C@H](O)[C@@H]3O)[C@@H](O)[C@H]2O)c1.O=C([O-])CCCCCO>>NC(=O)C1=CN([C@@H]2O[C@H](COP(=O)(O)OP(=O)(O)OC[C@H]3O[C@@H](n4cnc5c(N)ncnc54)[C@H](O)[C@@H]3O)[C@@H](O)[C@H]2O)C=CC1.O=CCCCCC(=O)[O-].[H+]'"
      ]
     },
     "execution_count": 115,
     "metadata": {},
     "output_type": "execute_result"
    }
   ],
   "source": [
    "list(AdH_rxns_df_w_substructs['unmapped'])[172]"
   ]
  },
  {
   "cell_type": "code",
   "execution_count": 116,
   "id": "d5d8af7e",
   "metadata": {},
   "outputs": [
    {
     "data": {
      "text/html": [
       "<div>\n",
       "<style scoped>\n",
       "    .dataframe tbody tr th:only-of-type {\n",
       "        vertical-align: middle;\n",
       "    }\n",
       "\n",
       "    .dataframe tbody tr th {\n",
       "        vertical-align: top;\n",
       "    }\n",
       "\n",
       "    .dataframe thead th {\n",
       "        text-align: right;\n",
       "    }\n",
       "</style>\n",
       "<table border=\"1\" class=\"dataframe\">\n",
       "  <thead>\n",
       "    <tr style=\"text-align: right;\">\n",
       "      <th></th>\n",
       "      <th>rxn_idx</th>\n",
       "      <th>mapped</th>\n",
       "      <th>unmapped</th>\n",
       "      <th>orig_rxn_text</th>\n",
       "      <th>rule</th>\n",
       "      <th>rule_id</th>\n",
       "      <th>source</th>\n",
       "      <th>steps</th>\n",
       "      <th>quality</th>\n",
       "      <th>natural</th>\n",
       "      <th>organism</th>\n",
       "      <th>protein_refs</th>\n",
       "      <th>protein_db</th>\n",
       "      <th>ec_num</th>\n",
       "      <th>JN_labelled_rule</th>\n",
       "      <th>Reaction_site_idx</th>\n",
       "      <th>substructure_environments</th>\n",
       "      <th>Group</th>\n",
       "    </tr>\n",
       "  </thead>\n",
       "  <tbody>\n",
       "    <tr>\n",
       "      <th>346</th>\n",
       "      <td>799</td>\n",
       "      <td>[NH2:1][C:2](=[O:3])[c:4]1[cH:5][cH:6][cH:7][n...</td>\n",
       "      <td>NC(=O)c1ccc[n+]([C@@H]2O[C@H](COP(=O)(O)OP(=O)...</td>\n",
       "      <td>6-HYDROXYHEXANOATE-OXIDATION-RXN</td>\n",
       "      <td>[#6:1]-[#8:2].[#6:3]1:[#6:4]:[#6:5]:[#6:6]:[#7...</td>\n",
       "      <td>1</td>\n",
       "      <td>direct</td>\n",
       "      <td>single</td>\n",
       "      <td>1.0</td>\n",
       "      <td>NaN</td>\n",
       "      <td>NaN</td>\n",
       "      <td>[]</td>\n",
       "      <td>NaN</td>\n",
       "      <td>1.1.1.258</td>\n",
       "      <td>rule0002</td>\n",
       "      <td>52</td>\n",
       "      <td>[C&amp;H2:51][C&amp;H2:52][O&amp;H1:53]</td>\n",
       "      <td>3.0</td>\n",
       "    </tr>\n",
       "  </tbody>\n",
       "</table>\n",
       "</div>"
      ],
      "text/plain": [
       "     rxn_idx                                             mapped  \\\n",
       "346      799  [NH2:1][C:2](=[O:3])[c:4]1[cH:5][cH:6][cH:7][n...   \n",
       "\n",
       "                                              unmapped  \\\n",
       "346  NC(=O)c1ccc[n+]([C@@H]2O[C@H](COP(=O)(O)OP(=O)...   \n",
       "\n",
       "                        orig_rxn_text  \\\n",
       "346  6-HYDROXYHEXANOATE-OXIDATION-RXN   \n",
       "\n",
       "                                                  rule  rule_id  source  \\\n",
       "346  [#6:1]-[#8:2].[#6:3]1:[#6:4]:[#6:5]:[#6:6]:[#7...        1  direct   \n",
       "\n",
       "      steps  quality  natural  organism protein_refs  protein_db     ec_num  \\\n",
       "346  single      1.0      NaN       NaN           []         NaN  1.1.1.258   \n",
       "\n",
       "    JN_labelled_rule  Reaction_site_idx    substructure_environments  Group  \n",
       "346         rule0002                 52  [C&H2:51][C&H2:52][O&H1:53]    3.0  "
      ]
     },
     "execution_count": 116,
     "metadata": {},
     "output_type": "execute_result"
    }
   ],
   "source": [
    "rxn_str = 'NC(=O)c1ccc[n+]([C@@H]2O[C@H](COP(=O)(O)OP(=O)(O)OC[C@H]3O[C@@H](n4cnc5c(N)ncnc54)[C@H](O)[C@@H]3O)[C@@H](O)[C@H]2O)c1.O=C([O-])CCCCCO>>NC(=O)C1=CN([C@@H]2O[C@H](COP(=O)(O)OP(=O)(O)OC[C@H]3O[C@@H](n4cnc5c(N)ncnc54)[C@H](O)[C@@H]3O)[C@@H](O)[C@H]2O)C=CC1.O=CCCCCC(=O)[O-].[H+]'\n",
    "AdH_rxns_df_w_substructs[AdH_rxns_df_w_substructs['unmapped']==rxn_str]\n"
   ]
  },
  {
   "cell_type": "code",
   "execution_count": null,
   "id": "c203a6ab",
   "metadata": {},
   "outputs": [],
   "source": []
  },
  {
   "cell_type": "code",
   "execution_count": 117,
   "id": "e9dce83a",
   "metadata": {},
   "outputs": [
    {
     "data": {
      "text/plain": [
       "'NC(=O)c1ccc[n+]([C@@H]2O[C@H](COP(=O)(O)OP(=O)(O)OC[C@H]3O[C@@H](n4cnc5c(N)ncnc54)[C@H](O)[C@@H]3O)[C@@H](O)[C@H]2O)c1.O=P([O-])(O)CCO>>NC(=O)C1=CN([C@@H]2O[C@H](COP(=O)(O)OP(=O)(O)OC[C@H]3O[C@@H](n4cnc5c(N)ncnc54)[C@H](O)[C@@H]3O)[C@@H](O)[C@H]2O)C=CC1.O=CCP(=O)([O-])O.[H+]'"
      ]
     },
     "execution_count": 117,
     "metadata": {},
     "output_type": "execute_result"
    }
   ],
   "source": [
    "list(AdH_rxns_df_w_substructs['unmapped'])[219]"
   ]
  },
  {
   "cell_type": "code",
   "execution_count": 118,
   "id": "aefec9cb",
   "metadata": {},
   "outputs": [
    {
     "data": {
      "text/html": [
       "<div>\n",
       "<style scoped>\n",
       "    .dataframe tbody tr th:only-of-type {\n",
       "        vertical-align: middle;\n",
       "    }\n",
       "\n",
       "    .dataframe tbody tr th {\n",
       "        vertical-align: top;\n",
       "    }\n",
       "\n",
       "    .dataframe thead th {\n",
       "        text-align: right;\n",
       "    }\n",
       "</style>\n",
       "<table border=\"1\" class=\"dataframe\">\n",
       "  <thead>\n",
       "    <tr style=\"text-align: right;\">\n",
       "      <th></th>\n",
       "      <th>rxn_idx</th>\n",
       "      <th>mapped</th>\n",
       "      <th>unmapped</th>\n",
       "      <th>orig_rxn_text</th>\n",
       "      <th>rule</th>\n",
       "      <th>rule_id</th>\n",
       "      <th>source</th>\n",
       "      <th>steps</th>\n",
       "      <th>quality</th>\n",
       "      <th>natural</th>\n",
       "      <th>organism</th>\n",
       "      <th>protein_refs</th>\n",
       "      <th>protein_db</th>\n",
       "      <th>ec_num</th>\n",
       "      <th>JN_labelled_rule</th>\n",
       "      <th>Reaction_site_idx</th>\n",
       "      <th>substructure_environments</th>\n",
       "      <th>Group</th>\n",
       "    </tr>\n",
       "  </thead>\n",
       "  <tbody>\n",
       "    <tr>\n",
       "      <th>459</th>\n",
       "      <td>6140</td>\n",
       "      <td>[NH2:1][C:2](=[O:3])[c:4]1[cH:5][cH:6][cH:7][n...</td>\n",
       "      <td>NC(=O)c1ccc[n+]([C@@H]2O[C@H](COP(=O)(O)OP(=O)...</td>\n",
       "      <td>RXN-9009</td>\n",
       "      <td>[#6:1]-[#8:2].[#6:3]1:[#6:4]:[#6:5]:[#6:6]:[#7...</td>\n",
       "      <td>1</td>\n",
       "      <td>direct</td>\n",
       "      <td>single</td>\n",
       "      <td>1.0</td>\n",
       "      <td>NaN</td>\n",
       "      <td>NaN</td>\n",
       "      <td>[]</td>\n",
       "      <td>NaN</td>\n",
       "      <td>1.1.1.309</td>\n",
       "      <td>rule0002</td>\n",
       "      <td>50</td>\n",
       "      <td>[C&amp;H2:49][C&amp;H2:50][O&amp;H1:51]</td>\n",
       "      <td>3.0</td>\n",
       "    </tr>\n",
       "  </tbody>\n",
       "</table>\n",
       "</div>"
      ],
      "text/plain": [
       "     rxn_idx                                             mapped  \\\n",
       "459     6140  [NH2:1][C:2](=[O:3])[c:4]1[cH:5][cH:6][cH:7][n...   \n",
       "\n",
       "                                              unmapped orig_rxn_text  \\\n",
       "459  NC(=O)c1ccc[n+]([C@@H]2O[C@H](COP(=O)(O)OP(=O)...      RXN-9009   \n",
       "\n",
       "                                                  rule  rule_id  source  \\\n",
       "459  [#6:1]-[#8:2].[#6:3]1:[#6:4]:[#6:5]:[#6:6]:[#7...        1  direct   \n",
       "\n",
       "      steps  quality  natural  organism protein_refs  protein_db     ec_num  \\\n",
       "459  single      1.0      NaN       NaN           []         NaN  1.1.1.309   \n",
       "\n",
       "    JN_labelled_rule  Reaction_site_idx    substructure_environments  Group  \n",
       "459         rule0002                 50  [C&H2:49][C&H2:50][O&H1:51]    3.0  "
      ]
     },
     "execution_count": 118,
     "metadata": {},
     "output_type": "execute_result"
    }
   ],
   "source": [
    "rxn_str = 'NC(=O)c1ccc[n+]([C@@H]2O[C@H](COP(=O)(O)OP(=O)(O)OC[C@H]3O[C@@H](n4cnc5c(N)ncnc54)[C@H](O)[C@@H]3O)[C@@H](O)[C@H]2O)c1.O=P([O-])(O)CCO>>NC(=O)C1=CN([C@@H]2O[C@H](COP(=O)(O)OP(=O)(O)OC[C@H]3O[C@@H](n4cnc5c(N)ncnc54)[C@H](O)[C@@H]3O)[C@@H](O)[C@H]2O)C=CC1.O=CCP(=O)([O-])O.[H+]'\n",
    "AdH_rxns_df_w_substructs[AdH_rxns_df_w_substructs['unmapped']==rxn_str]\n"
   ]
  },
  {
   "cell_type": "code",
   "execution_count": 119,
   "id": "3d3eb0a0",
   "metadata": {},
   "outputs": [
    {
     "data": {
      "text/plain": [
       "'NC(=O)c1ccc[n+]([C@@H]2O[C@H](COP(=O)(O)OP(=O)(O)OC[C@H]3O[C@@H](n4cnc5c(N)ncnc54)[C@H](O)[C@@H]3O)[C@@H](O)[C@H]2O)c1.O=C([O-])CCO>>NC(=O)C1=CN([C@@H]2O[C@H](COP(=O)(O)OP(=O)(O)OC[C@H]3O[C@@H](n4cnc5c(N)ncnc54)[C@H](O)[C@@H]3O)[C@@H](O)[C@H]2O)C=CC1.O=CCC(=O)[O-].[H+]'"
      ]
     },
     "execution_count": 119,
     "metadata": {},
     "output_type": "execute_result"
    }
   ],
   "source": [
    "list(AdH_rxns_df_w_substructs['unmapped'])[345]"
   ]
  },
  {
   "cell_type": "code",
   "execution_count": 120,
   "id": "3bb3f2ab",
   "metadata": {},
   "outputs": [
    {
     "data": {
      "text/html": [
       "<div>\n",
       "<style scoped>\n",
       "    .dataframe tbody tr th:only-of-type {\n",
       "        vertical-align: middle;\n",
       "    }\n",
       "\n",
       "    .dataframe tbody tr th {\n",
       "        vertical-align: top;\n",
       "    }\n",
       "\n",
       "    .dataframe thead th {\n",
       "        text-align: right;\n",
       "    }\n",
       "</style>\n",
       "<table border=\"1\" class=\"dataframe\">\n",
       "  <thead>\n",
       "    <tr style=\"text-align: right;\">\n",
       "      <th></th>\n",
       "      <th>rxn_idx</th>\n",
       "      <th>mapped</th>\n",
       "      <th>unmapped</th>\n",
       "      <th>orig_rxn_text</th>\n",
       "      <th>rule</th>\n",
       "      <th>rule_id</th>\n",
       "      <th>source</th>\n",
       "      <th>steps</th>\n",
       "      <th>quality</th>\n",
       "      <th>natural</th>\n",
       "      <th>organism</th>\n",
       "      <th>protein_refs</th>\n",
       "      <th>protein_db</th>\n",
       "      <th>ec_num</th>\n",
       "      <th>JN_labelled_rule</th>\n",
       "      <th>Reaction_site_idx</th>\n",
       "      <th>substructure_environments</th>\n",
       "      <th>Group</th>\n",
       "    </tr>\n",
       "  </thead>\n",
       "  <tbody>\n",
       "    <tr>\n",
       "      <th>755</th>\n",
       "      <td>568</td>\n",
       "      <td>[NH2:1][C:2](=[O:3])[c:4]1[cH:5][cH:6][cH:7][n...</td>\n",
       "      <td>NC(=O)c1ccc[n+]([C@@H]2O[C@H](COP(=O)(O)OP(=O)...</td>\n",
       "      <td>3-HYDROXYPROPIONATE-DEHYDROGENASE-RXN</td>\n",
       "      <td>[#6:1]-[#8:2].[#6:3]1:[#6:4]:[#6:5]:[#6:6]:[#7...</td>\n",
       "      <td>1</td>\n",
       "      <td>direct</td>\n",
       "      <td>single</td>\n",
       "      <td>1.0</td>\n",
       "      <td>NaN</td>\n",
       "      <td>NaN</td>\n",
       "      <td>[]</td>\n",
       "      <td>NaN</td>\n",
       "      <td>1.1.1.59</td>\n",
       "      <td>rule0002</td>\n",
       "      <td>49</td>\n",
       "      <td>[C&amp;H2:48][C&amp;H2:49][O&amp;H1:50]</td>\n",
       "      <td>3.0</td>\n",
       "    </tr>\n",
       "  </tbody>\n",
       "</table>\n",
       "</div>"
      ],
      "text/plain": [
       "     rxn_idx                                             mapped  \\\n",
       "755      568  [NH2:1][C:2](=[O:3])[c:4]1[cH:5][cH:6][cH:7][n...   \n",
       "\n",
       "                                              unmapped  \\\n",
       "755  NC(=O)c1ccc[n+]([C@@H]2O[C@H](COP(=O)(O)OP(=O)...   \n",
       "\n",
       "                             orig_rxn_text  \\\n",
       "755  3-HYDROXYPROPIONATE-DEHYDROGENASE-RXN   \n",
       "\n",
       "                                                  rule  rule_id  source  \\\n",
       "755  [#6:1]-[#8:2].[#6:3]1:[#6:4]:[#6:5]:[#6:6]:[#7...        1  direct   \n",
       "\n",
       "      steps  quality  natural  organism protein_refs  protein_db    ec_num  \\\n",
       "755  single      1.0      NaN       NaN           []         NaN  1.1.1.59   \n",
       "\n",
       "    JN_labelled_rule  Reaction_site_idx    substructure_environments  Group  \n",
       "755         rule0002                 49  [C&H2:48][C&H2:49][O&H1:50]    3.0  "
      ]
     },
     "execution_count": 120,
     "metadata": {},
     "output_type": "execute_result"
    }
   ],
   "source": [
    "rxn_str = 'NC(=O)c1ccc[n+]([C@@H]2O[C@H](COP(=O)(O)OP(=O)(O)OC[C@H]3O[C@@H](n4cnc5c(N)ncnc54)[C@H](O)[C@@H]3O)[C@@H](O)[C@H]2O)c1.O=C([O-])CCO>>NC(=O)C1=CN([C@@H]2O[C@H](COP(=O)(O)OP(=O)(O)OC[C@H]3O[C@@H](n4cnc5c(N)ncnc54)[C@H](O)[C@@H]3O)[C@@H](O)[C@H]2O)C=CC1.O=CCC(=O)[O-].[H+]'\n",
    "AdH_rxns_df_w_substructs[AdH_rxns_df_w_substructs['unmapped']==rxn_str]\n"
   ]
  },
  {
   "cell_type": "code",
   "execution_count": null,
   "id": "0860fd30",
   "metadata": {},
   "outputs": [],
   "source": []
  },
  {
   "cell_type": "code",
   "execution_count": 121,
   "id": "a8b0a0ee",
   "metadata": {},
   "outputs": [
    {
     "data": {
      "text/plain": [
       "'NC(=O)c1ccc[n+]([C@@H]2O[C@H](COP(=O)(O)OP(=O)(O)OC[C@H]3O[C@@H](n4cnc5c(N)ncnc54)[C@H](O)[C@@H]3O)[C@@H](O)[C@H]2O)c1.O=C([O-])CCCCCCCCCO>>NC(=O)C1=CN([C@@H]2O[C@H](COP(=O)(O)OP(=O)(O)OC[C@H]3O[C@@H](n4cnc5c(N)ncnc54)[C@H](O)[C@@H]3O)[C@@H](O)[C@H]2O)C=CC1.O=CCCCCCCCCC(=O)[O-].[H+]'"
      ]
     },
     "execution_count": 121,
     "metadata": {},
     "output_type": "execute_result"
    }
   ],
   "source": [
    "list(AdH_rxns_df_w_substructs['unmapped'])[351]"
   ]
  },
  {
   "cell_type": "code",
   "execution_count": 122,
   "id": "6b06835c",
   "metadata": {},
   "outputs": [
    {
     "data": {
      "text/html": [
       "<div>\n",
       "<style scoped>\n",
       "    .dataframe tbody tr th:only-of-type {\n",
       "        vertical-align: middle;\n",
       "    }\n",
       "\n",
       "    .dataframe tbody tr th {\n",
       "        vertical-align: top;\n",
       "    }\n",
       "\n",
       "    .dataframe thead th {\n",
       "        text-align: right;\n",
       "    }\n",
       "</style>\n",
       "<table border=\"1\" class=\"dataframe\">\n",
       "  <thead>\n",
       "    <tr style=\"text-align: right;\">\n",
       "      <th></th>\n",
       "      <th>rxn_idx</th>\n",
       "      <th>mapped</th>\n",
       "      <th>unmapped</th>\n",
       "      <th>orig_rxn_text</th>\n",
       "      <th>rule</th>\n",
       "      <th>rule_id</th>\n",
       "      <th>source</th>\n",
       "      <th>steps</th>\n",
       "      <th>quality</th>\n",
       "      <th>natural</th>\n",
       "      <th>organism</th>\n",
       "      <th>protein_refs</th>\n",
       "      <th>protein_db</th>\n",
       "      <th>ec_num</th>\n",
       "      <th>JN_labelled_rule</th>\n",
       "      <th>Reaction_site_idx</th>\n",
       "      <th>substructure_environments</th>\n",
       "      <th>Group</th>\n",
       "    </tr>\n",
       "  </thead>\n",
       "  <tbody>\n",
       "    <tr>\n",
       "      <th>774</th>\n",
       "      <td>1867</td>\n",
       "      <td>[NH2:1][C:2](=[O:3])[c:4]1[cH:5][cH:6][cH:7][n...</td>\n",
       "      <td>NC(=O)c1ccc[n+]([C@@H]2O[C@H](COP(=O)(O)OP(=O)...</td>\n",
       "      <td>OMEGA-HYDROXYDECANOATE-DEHYDROGENASE-RXN</td>\n",
       "      <td>[#6:1]-[#8:2].[#6:3]1:[#6:4]:[#6:5]:[#6:6]:[#7...</td>\n",
       "      <td>1</td>\n",
       "      <td>direct</td>\n",
       "      <td>single</td>\n",
       "      <td>1.0</td>\n",
       "      <td>NaN</td>\n",
       "      <td>NaN</td>\n",
       "      <td>[]</td>\n",
       "      <td>NaN</td>\n",
       "      <td>1.1.1.66</td>\n",
       "      <td>rule0002</td>\n",
       "      <td>56</td>\n",
       "      <td>[C&amp;H2:55][C&amp;H2:56][O&amp;H1:57]</td>\n",
       "      <td>3.0</td>\n",
       "    </tr>\n",
       "  </tbody>\n",
       "</table>\n",
       "</div>"
      ],
      "text/plain": [
       "     rxn_idx                                             mapped  \\\n",
       "774     1867  [NH2:1][C:2](=[O:3])[c:4]1[cH:5][cH:6][cH:7][n...   \n",
       "\n",
       "                                              unmapped  \\\n",
       "774  NC(=O)c1ccc[n+]([C@@H]2O[C@H](COP(=O)(O)OP(=O)...   \n",
       "\n",
       "                                orig_rxn_text  \\\n",
       "774  OMEGA-HYDROXYDECANOATE-DEHYDROGENASE-RXN   \n",
       "\n",
       "                                                  rule  rule_id  source  \\\n",
       "774  [#6:1]-[#8:2].[#6:3]1:[#6:4]:[#6:5]:[#6:6]:[#7...        1  direct   \n",
       "\n",
       "      steps  quality  natural  organism protein_refs  protein_db    ec_num  \\\n",
       "774  single      1.0      NaN       NaN           []         NaN  1.1.1.66   \n",
       "\n",
       "    JN_labelled_rule  Reaction_site_idx    substructure_environments  Group  \n",
       "774         rule0002                 56  [C&H2:55][C&H2:56][O&H1:57]    3.0  "
      ]
     },
     "execution_count": 122,
     "metadata": {},
     "output_type": "execute_result"
    }
   ],
   "source": [
    "rxn_str = 'NC(=O)c1ccc[n+]([C@@H]2O[C@H](COP(=O)(O)OP(=O)(O)OC[C@H]3O[C@@H](n4cnc5c(N)ncnc54)[C@H](O)[C@@H]3O)[C@@H](O)[C@H]2O)c1.O=C([O-])CCCCCCCCCO>>NC(=O)C1=CN([C@@H]2O[C@H](COP(=O)(O)OP(=O)(O)OC[C@H]3O[C@@H](n4cnc5c(N)ncnc54)[C@H](O)[C@@H]3O)[C@@H](O)[C@H]2O)C=CC1.O=CCCCCCCCCC(=O)[O-].[H+]'\n",
    "AdH_rxns_df_w_substructs[AdH_rxns_df_w_substructs['unmapped']==rxn_str]\n"
   ]
  },
  {
   "cell_type": "code",
   "execution_count": 46,
   "id": "d45fa44a",
   "metadata": {},
   "outputs": [
    {
     "data": {
      "text/plain": [
       "'CCCCCCCCO.NC(=O)c1ccc[n+]([C@@H]2O[C@H](COP(=O)(O)OP(=O)(O)OC[C@H]3O[C@@H](n4cnc5c(N)ncnc54)[C@H](O)[C@@H]3O)[C@@H](O)[C@H]2O)c1>>CCCCCCCC=O.NC(=O)C1=CN([C@@H]2O[C@H](COP(=O)(O)OP(=O)(O)OC[C@H]3O[C@@H](n4cnc5c(N)ncnc54)[C@H](O)[C@@H]3O)[C@@H](O)[C@H]2O)C=CC1.[H+]'"
      ]
     },
     "execution_count": 46,
     "metadata": {},
     "output_type": "execute_result"
    }
   ],
   "source": [
    "list(AdH_rxns_df_w_substructs['unmapped'])[357]"
   ]
  },
  {
   "cell_type": "code",
   "execution_count": 94,
   "id": "c8ccef9c",
   "metadata": {},
   "outputs": [
    {
     "data": {
      "text/html": [
       "<div>\n",
       "<style scoped>\n",
       "    .dataframe tbody tr th:only-of-type {\n",
       "        vertical-align: middle;\n",
       "    }\n",
       "\n",
       "    .dataframe tbody tr th {\n",
       "        vertical-align: top;\n",
       "    }\n",
       "\n",
       "    .dataframe thead th {\n",
       "        text-align: right;\n",
       "    }\n",
       "</style>\n",
       "<table border=\"1\" class=\"dataframe\">\n",
       "  <thead>\n",
       "    <tr style=\"text-align: right;\">\n",
       "      <th></th>\n",
       "      <th>rxn_idx</th>\n",
       "      <th>mapped</th>\n",
       "      <th>unmapped</th>\n",
       "      <th>orig_rxn_text</th>\n",
       "      <th>rule</th>\n",
       "      <th>rule_id</th>\n",
       "      <th>source</th>\n",
       "      <th>steps</th>\n",
       "      <th>quality</th>\n",
       "      <th>natural</th>\n",
       "      <th>organism</th>\n",
       "      <th>protein_refs</th>\n",
       "      <th>protein_db</th>\n",
       "      <th>ec_num</th>\n",
       "      <th>JN_labelled_rule</th>\n",
       "      <th>Reaction_site_idx</th>\n",
       "      <th>substructure_environments</th>\n",
       "      <th>Group</th>\n",
       "    </tr>\n",
       "  </thead>\n",
       "  <tbody>\n",
       "    <tr>\n",
       "      <th>784</th>\n",
       "      <td>1861</td>\n",
       "      <td>[CH3:1][CH2:2][CH2:3][CH2:4][CH2:5][CH2:6][CH2...</td>\n",
       "      <td>CCCCCCCCO.NC(=O)c1ccc[n+]([C@@H]2O[C@H](COP(=O...</td>\n",
       "      <td>OCTANOL-DEHYDROGENASE-RXN</td>\n",
       "      <td>[#6:1]-[#8:2].[#6:3]1:[#6:4]:[#6:5]:[#6:6]:[#7...</td>\n",
       "      <td>1</td>\n",
       "      <td>direct</td>\n",
       "      <td>single</td>\n",
       "      <td>1.0</td>\n",
       "      <td>NaN</td>\n",
       "      <td>NaN</td>\n",
       "      <td>[]</td>\n",
       "      <td>NaN</td>\n",
       "      <td>1.1.1.73</td>\n",
       "      <td>rule0002</td>\n",
       "      <td>8</td>\n",
       "      <td>[C&amp;H2:6][C&amp;H2:7][C&amp;H2:8][O&amp;H1:9]</td>\n",
       "      <td>59.0</td>\n",
       "    </tr>\n",
       "  </tbody>\n",
       "</table>\n",
       "</div>"
      ],
      "text/plain": [
       "     rxn_idx                                             mapped  \\\n",
       "784     1861  [CH3:1][CH2:2][CH2:3][CH2:4][CH2:5][CH2:6][CH2...   \n",
       "\n",
       "                                              unmapped  \\\n",
       "784  CCCCCCCCO.NC(=O)c1ccc[n+]([C@@H]2O[C@H](COP(=O...   \n",
       "\n",
       "                 orig_rxn_text  \\\n",
       "784  OCTANOL-DEHYDROGENASE-RXN   \n",
       "\n",
       "                                                  rule  rule_id  source  \\\n",
       "784  [#6:1]-[#8:2].[#6:3]1:[#6:4]:[#6:5]:[#6:6]:[#7...        1  direct   \n",
       "\n",
       "      steps  quality  natural  organism protein_refs  protein_db    ec_num  \\\n",
       "784  single      1.0      NaN       NaN           []         NaN  1.1.1.73   \n",
       "\n",
       "    JN_labelled_rule  Reaction_site_idx         substructure_environments  \\\n",
       "784         rule0002                  8  [C&H2:6][C&H2:7][C&H2:8][O&H1:9]   \n",
       "\n",
       "     Group  \n",
       "784   59.0  "
      ]
     },
     "execution_count": 94,
     "metadata": {},
     "output_type": "execute_result"
    }
   ],
   "source": [
    "rxn_str = 'CCCCCCCCO.NC(=O)c1ccc[n+]([C@@H]2O[C@H](COP(=O)(O)OP(=O)(O)OC[C@H]3O[C@@H](n4cnc5c(N)ncnc54)[C@H](O)[C@@H]3O)[C@@H](O)[C@H]2O)c1>>CCCCCCCC=O.NC(=O)C1=CN([C@@H]2O[C@H](COP(=O)(O)OP(=O)(O)OC[C@H]3O[C@@H](n4cnc5c(N)ncnc54)[C@H](O)[C@@H]3O)[C@@H](O)[C@H]2O)C=CC1.[H+]'\n",
    "AdH_rxns_df_w_substructs[AdH_rxns_df_w_substructs['unmapped']==rxn_str]\n"
   ]
  },
  {
   "cell_type": "code",
   "execution_count": null,
   "id": "d6ce8980",
   "metadata": {},
   "outputs": [],
   "source": []
  },
  {
   "cell_type": "code",
   "execution_count": 247,
   "id": "997279f2",
   "metadata": {},
   "outputs": [
    {
     "data": {
      "image/svg+xml": [
       "<svg xmlns=\"http://www.w3.org/2000/svg\" xmlns:rdkit=\"http://www.rdkit.org/xml\" xmlns:xlink=\"http://www.w3.org/1999/xlink\" version=\"1.1\" baseProfile=\"full\" xml:space=\"preserve\" width=\"400px\" height=\"200px\" viewBox=\"0 0 400 200\">\n",
       "<!-- END OF HEADER -->\n",
       "<rect style=\"opacity:1.0;fill:#FFFFFF;stroke:none\" width=\"400.0\" height=\"200.0\" x=\"0.0\" y=\"0.0\"> </rect>\n",
       "<path class=\"bond-0 atom-0 atom-1\" d=\"M 127.9,66.7 L 123.0,83.4 L 58.6,99.0 L 55.0,84.3 Z\" style=\"fill:#FF7F7F;fill-rule:evenodd;fill-opacity:1;stroke:#FF7F7F;stroke-width:0.0px;stroke-linecap:butt;stroke-linejoin:miter;stroke-opacity:1;\"/>\n",
       "<path class=\"bond-1 atom-1 atom-2\" d=\"M 127.9,66.7 L 176.6,117.8 L 171.7,134.5 L 123.0,83.4 Z\" style=\"fill:#FF7F7F;fill-rule:evenodd;fill-opacity:1;stroke:#FF7F7F;stroke-width:0.0px;stroke-linecap:butt;stroke-linejoin:miter;stroke-opacity:1;\"/>\n",
       "<path class=\"bond-2 atom-2 atom-3\" d=\"M 236.8,103.3 L 242.8,109.5 L 240.3,117.9 L 171.7,134.5 L 176.6,117.8 Z\" style=\"fill:#FF7F7F;fill-rule:evenodd;fill-opacity:1;stroke:#FF7F7F;stroke-width:0.0px;stroke-linecap:butt;stroke-linejoin:miter;stroke-opacity:1;\"/>\n",
       "<path class=\"bond-3 atom-3 atom-4\" d=\"M 255.5,39.7 L 269.9,43.9 L 251.2,107.5 L 242.8,109.5 L 236.8,103.3 Z\" style=\"fill:#FF7F7F;fill-rule:evenodd;fill-opacity:1;stroke:#FF7F7F;stroke-width:0.0px;stroke-linecap:butt;stroke-linejoin:miter;stroke-opacity:1;\"/>\n",
       "<path class=\"bond-8 atom-3 atom-8\" d=\"M 251.2,107.5 L 296.9,155.5 L 286.0,165.9 L 240.3,117.9 L 242.8,109.5 Z\" style=\"fill:#FF7F7F;fill-rule:evenodd;fill-opacity:1;stroke:#FF7F7F;stroke-width:0.0px;stroke-linecap:butt;stroke-linejoin:miter;stroke-opacity:1;\"/>\n",
       "<ellipse cx=\"46.9\" cy=\"91.8\" rx=\"26.9\" ry=\"14.5\" class=\"atom-0\" style=\"fill:#FF7F7F;fill-rule:evenodd;stroke:#FF7F7F;stroke-width:1.0px;stroke-linecap:butt;stroke-linejoin:miter;stroke-opacity:1\"/>\n",
       "<ellipse cx=\"125.4\" cy=\"75.0\" rx=\"14.1\" ry=\"14.1\" class=\"atom-1\" style=\"fill:#FF7F7F;fill-rule:evenodd;stroke:#FF7F7F;stroke-width:1.0px;stroke-linecap:butt;stroke-linejoin:miter;stroke-opacity:1\"/>\n",
       "<ellipse cx=\"174.1\" cy=\"126.2\" rx=\"14.1\" ry=\"14.1\" class=\"atom-2\" style=\"fill:#FF7F7F;fill-rule:evenodd;stroke:#FF7F7F;stroke-width:1.0px;stroke-linecap:butt;stroke-linejoin:miter;stroke-opacity:1\"/>\n",
       "<ellipse cx=\"242.8\" cy=\"109.5\" rx=\"14.1\" ry=\"14.1\" class=\"atom-3\" style=\"fill:#FF7F7F;fill-rule:evenodd;stroke:#FF7F7F;stroke-width:1.0px;stroke-linecap:butt;stroke-linejoin:miter;stroke-opacity:1\"/>\n",
       "<ellipse cx=\"262.7\" cy=\"41.8\" rx=\"14.1\" ry=\"14.1\" class=\"atom-4\" style=\"fill:#FF7F7F;fill-rule:evenodd;stroke:#FF7F7F;stroke-width:1.0px;stroke-linecap:butt;stroke-linejoin:miter;stroke-opacity:1\"/>\n",
       "<ellipse cx=\"291.5\" cy=\"160.7\" rx=\"14.1\" ry=\"14.1\" class=\"atom-8\" style=\"fill:#FF7F7F;fill-rule:evenodd;stroke:#FF7F7F;stroke-width:1.0px;stroke-linecap:butt;stroke-linejoin:miter;stroke-opacity:1\"/>\n",
       "<path class=\"bond-0 atom-0 atom-1\" d=\"M 68.3,88.9 L 96.9,81.9\" style=\"fill:none;fill-rule:evenodd;stroke:#FF0000;stroke-width:2.0px;stroke-linecap:butt;stroke-linejoin:miter;stroke-opacity:1\"/>\n",
       "<path class=\"bond-0 atom-0 atom-1\" d=\"M 96.9,81.9 L 125.4,75.0\" style=\"fill:none;fill-rule:evenodd;stroke:#000000;stroke-width:2.0px;stroke-linecap:butt;stroke-linejoin:miter;stroke-opacity:1\"/>\n",
       "<path class=\"bond-1 atom-1 atom-2\" d=\"M 125.4,75.0 L 174.1,126.2\" style=\"fill:none;fill-rule:evenodd;stroke:#000000;stroke-width:2.0px;stroke-linecap:butt;stroke-linejoin:miter;stroke-opacity:1\"/>\n",
       "<path class=\"bond-2 atom-2 atom-3\" d=\"M 174.1,126.2 L 242.8,109.5\" style=\"fill:none;fill-rule:evenodd;stroke:#000000;stroke-width:2.0px;stroke-linecap:butt;stroke-linejoin:miter;stroke-opacity:1\"/>\n",
       "<path class=\"bond-3 atom-3 atom-4\" d=\"M 242.8,109.5 L 262.7,41.8\" style=\"fill:none;fill-rule:evenodd;stroke:#000000;stroke-width:2.0px;stroke-linecap:butt;stroke-linejoin:miter;stroke-opacity:1\"/>\n",
       "<path class=\"bond-3 atom-3 atom-4\" d=\"M 254.6,106.7 L 271.1,50.7\" style=\"fill:none;fill-rule:evenodd;stroke:#000000;stroke-width:2.0px;stroke-linecap:butt;stroke-linejoin:miter;stroke-opacity:1\"/>\n",
       "<path class=\"bond-4 atom-4 atom-5\" d=\"M 262.7,41.8 L 331.3,25.2\" style=\"fill:none;fill-rule:evenodd;stroke:#000000;stroke-width:2.0px;stroke-linecap:butt;stroke-linejoin:miter;stroke-opacity:1\"/>\n",
       "<path class=\"bond-5 atom-5 atom-6\" d=\"M 331.3,25.2 L 380.0,76.3\" style=\"fill:none;fill-rule:evenodd;stroke:#000000;stroke-width:2.0px;stroke-linecap:butt;stroke-linejoin:miter;stroke-opacity:1\"/>\n",
       "<path class=\"bond-5 atom-5 atom-6\" d=\"M 327.9,36.9 L 368.1,79.2\" style=\"fill:none;fill-rule:evenodd;stroke:#000000;stroke-width:2.0px;stroke-linecap:butt;stroke-linejoin:miter;stroke-opacity:1\"/>\n",
       "<path class=\"bond-6 atom-6 atom-7\" d=\"M 380.0,76.3 L 360.1,144.1\" style=\"fill:none;fill-rule:evenodd;stroke:#000000;stroke-width:2.0px;stroke-linecap:butt;stroke-linejoin:miter;stroke-opacity:1\"/>\n",
       "<path class=\"bond-7 atom-7 atom-8\" d=\"M 360.1,144.1 L 291.5,160.7\" style=\"fill:none;fill-rule:evenodd;stroke:#000000;stroke-width:2.0px;stroke-linecap:butt;stroke-linejoin:miter;stroke-opacity:1\"/>\n",
       "<path class=\"bond-7 atom-7 atom-8\" d=\"M 351.6,135.2 L 294.9,148.9\" style=\"fill:none;fill-rule:evenodd;stroke:#000000;stroke-width:2.0px;stroke-linecap:butt;stroke-linejoin:miter;stroke-opacity:1\"/>\n",
       "<path class=\"bond-8 atom-8 atom-3\" d=\"M 291.5,160.7 L 242.8,109.5\" style=\"fill:none;fill-rule:evenodd;stroke:#000000;stroke-width:2.0px;stroke-linecap:butt;stroke-linejoin:miter;stroke-opacity:1\"/>\n",
       "<path d=\"M 124.0,75.4 L 125.4,75.0 L 127.9,77.6\" style=\"fill:none;stroke:#000000;stroke-width:2.0px;stroke-linecap:butt;stroke-linejoin:miter;stroke-opacity:1;\"/>\n",
       "<path d=\"M 171.7,123.6 L 174.1,126.2 L 177.6,125.3\" style=\"fill:none;stroke:#000000;stroke-width:2.0px;stroke-linecap:butt;stroke-linejoin:miter;stroke-opacity:1;\"/>\n",
       "<path d=\"M 261.7,45.2 L 262.7,41.8 L 266.1,41.0\" style=\"fill:none;stroke:#000000;stroke-width:2.0px;stroke-linecap:butt;stroke-linejoin:miter;stroke-opacity:1;\"/>\n",
       "<path d=\"M 327.9,26.0 L 331.3,25.2 L 333.7,27.8\" style=\"fill:none;stroke:#000000;stroke-width:2.0px;stroke-linecap:butt;stroke-linejoin:miter;stroke-opacity:1;\"/>\n",
       "<path d=\"M 377.6,73.8 L 380.0,76.3 L 379.0,79.7\" style=\"fill:none;stroke:#000000;stroke-width:2.0px;stroke-linecap:butt;stroke-linejoin:miter;stroke-opacity:1;\"/>\n",
       "<path d=\"M 361.1,140.7 L 360.1,144.1 L 356.6,144.9\" style=\"fill:none;stroke:#000000;stroke-width:2.0px;stroke-linecap:butt;stroke-linejoin:miter;stroke-opacity:1;\"/>\n",
       "<path d=\"M 294.9,159.8 L 291.5,160.7 L 289.0,158.1\" style=\"fill:none;stroke:#000000;stroke-width:2.0px;stroke-linecap:butt;stroke-linejoin:miter;stroke-opacity:1;\"/>\n",
       "<path class=\"atom-0\" d=\"M 27.9 81.8 L 30.6 81.8 L 30.6 90.3 L 40.8 90.3 L 40.8 81.8 L 43.5 81.8 L 43.5 101.8 L 40.8 101.8 L 40.8 92.5 L 30.6 92.5 L 30.6 101.8 L 27.9 101.8 L 27.9 81.8 \" fill=\"#FF0000\"/>\n",
       "<path class=\"atom-0\" d=\"M 47.6 91.7 Q 47.6 86.9, 50.0 84.2 Q 52.4 81.5, 56.8 81.5 Q 61.3 81.5, 63.6 84.2 Q 66.0 86.9, 66.0 91.7 Q 66.0 96.6, 63.6 99.3 Q 61.2 102.1, 56.8 102.1 Q 52.4 102.1, 50.0 99.3 Q 47.6 96.6, 47.6 91.7 M 56.8 99.8 Q 59.9 99.8, 61.5 97.8 Q 63.2 95.7, 63.2 91.7 Q 63.2 87.8, 61.5 85.8 Q 59.9 83.8, 56.8 83.8 Q 53.8 83.8, 52.1 85.8 Q 50.5 87.7, 50.5 91.7 Q 50.5 95.7, 52.1 97.8 Q 53.8 99.8, 56.8 99.8 \" fill=\"#FF0000\"/>\n",
       "</svg>"
      ],
      "text/plain": [
       "<IPython.core.display.SVG object>"
      ]
     },
     "execution_count": 247,
     "metadata": {},
     "output_type": "execute_result"
    }
   ],
   "source": [
    "def increase_resolution(mol, substructure, size=(400, 200)):\n",
    "    \n",
    "    mol = deepcopy(mol)\n",
    "    substructure = deepcopy(substructure)\n",
    "    drawer = rdMolDraw2D.MolDraw2DSVG(size[0], size[1])\n",
    "    \n",
    "    # highlightAtoms expects only one tuple, not tuple of tuples. So it needs to be merged into a single tuple\n",
    "    matches = sum(mol.GetSubstructMatches(substructure, useChirality = True), ())\n",
    "    drawer.DrawMolecule(mol, highlightAtoms=matches)\n",
    "    \n",
    "    drawer.FinishDrawing()\n",
    "    svg = drawer.GetDrawingText()\n",
    "    \n",
    "    return svg.replace('svg:','')\n",
    "\n",
    "\n",
    "mol = Chem.MolFromSmiles('OCCc1ccccc1')\n",
    "substructure = Chem.MolFromSmarts('[O&H1:45][C&H2:46][C&H2:47][c:48]([c&H1:49])[c&H1:53]')\n",
    "SVG(increase_resolution(mol, substructure))"
   ]
  },
  {
   "cell_type": "code",
   "execution_count": 124,
   "id": "7bd4c4c7",
   "metadata": {},
   "outputs": [
    {
     "data": {
      "image/png": "[encoded data removed]",
      "text/plain": [
       "<rdkit.Chem.rdchem.Mol at 0x7fc73d3dec10>"
      ]
     },
     "execution_count": 124,
     "metadata": {},
     "output_type": "execute_result"
    }
   ],
   "source": [
    "Chem.MolFromSmarts('')"
   ]
  },
  {
   "cell_type": "code",
   "execution_count": null,
   "id": "50ab81c3",
   "metadata": {},
   "outputs": [],
   "source": []
  },
  {
   "cell_type": "code",
   "execution_count": 232,
   "id": "6ab0812e",
   "metadata": {},
   "outputs": [
    {
     "data": {
      "image/svg+xml": [
       "<svg xmlns=\"http://www.w3.org/2000/svg\" xmlns:rdkit=\"http://www.rdkit.org/xml\" xmlns:xlink=\"http://www.w3.org/1999/xlink\" version=\"1.1\" baseProfile=\"full\" xml:space=\"preserve\" width=\"400px\" height=\"200px\" viewBox=\"0 0 400 200\">\n",
       "<!-- END OF HEADER -->\n",
       "<rect style=\"opacity:1.0;fill:#FFFFFF;stroke:none\" width=\"400.0\" height=\"200.0\" x=\"0.0\" y=\"0.0\"> </rect>\n",
       "<path class=\"bond-0 atom-0 atom-1\" d=\"M 28.3,28.2 L 30.3,51.2\" style=\"fill:none;fill-rule:evenodd;stroke:#FF0000;stroke-width:2.0px;stroke-linecap:butt;stroke-linejoin:miter;stroke-opacity:1\"/>\n",
       "<path class=\"bond-0 atom-0 atom-1\" d=\"M 30.3,51.2 L 32.2,74.2\" style=\"fill:none;fill-rule:evenodd;stroke:#000000;stroke-width:2.0px;stroke-linecap:butt;stroke-linejoin:miter;stroke-opacity:1\"/>\n",
       "<path class=\"bond-1 atom-1 atom-2\" d=\"M 32.2,74.2 L 83.3,98.1\" style=\"fill:none;fill-rule:evenodd;stroke:#000000;stroke-width:2.0px;stroke-linecap:butt;stroke-linejoin:miter;stroke-opacity:1\"/>\n",
       "<path class=\"bond-2 atom-2 atom-3\" d=\"M 83.3,98.1 L 88.1,154.3\" style=\"fill:none;fill-rule:evenodd;stroke:#000000;stroke-width:2.0px;stroke-linecap:butt;stroke-linejoin:miter;stroke-opacity:1\"/>\n",
       "<path class=\"bond-3 atom-3 atom-4\" d=\"M 88.1,154.3 L 139.2,178.2\" style=\"fill:none;fill-rule:evenodd;stroke:#000000;stroke-width:2.0px;stroke-linecap:butt;stroke-linejoin:miter;stroke-opacity:1\"/>\n",
       "<path class=\"bond-4 atom-4 atom-5\" d=\"M 139.2,178.2 L 185.4,145.9\" style=\"fill:none;fill-rule:evenodd;stroke:#000000;stroke-width:2.0px;stroke-linecap:butt;stroke-linejoin:miter;stroke-opacity:1\"/>\n",
       "<path class=\"bond-5 atom-5 atom-6\" d=\"M 185.4,145.9 L 236.4,169.8\" style=\"fill:none;fill-rule:evenodd;stroke:#000000;stroke-width:2.0px;stroke-linecap:butt;stroke-linejoin:miter;stroke-opacity:1\"/>\n",
       "<path class=\"bond-6 atom-6 atom-7\" d=\"M 236.4,169.8 L 282.6,137.5\" style=\"fill:none;fill-rule:evenodd;stroke:#000000;stroke-width:2.0px;stroke-linecap:butt;stroke-linejoin:miter;stroke-opacity:1\"/>\n",
       "<path class=\"bond-7 atom-7 atom-8\" d=\"M 282.6,137.5 L 277.8,81.4\" style=\"fill:none;fill-rule:evenodd;stroke:#000000;stroke-width:2.0px;stroke-linecap:butt;stroke-linejoin:miter;stroke-opacity:1\"/>\n",
       "<path class=\"bond-8 atom-8 atom-9\" d=\"M 277.8,81.4 L 324.0,49.1\" style=\"fill:none;fill-rule:evenodd;stroke:#000000;stroke-width:2.0px;stroke-linecap:butt;stroke-linejoin:miter;stroke-opacity:1\"/>\n",
       "<path class=\"bond-9 atom-9 atom-10\" d=\"M 324.0,49.1 L 375.1,73.0\" style=\"fill:none;fill-rule:evenodd;stroke:#000000;stroke-width:2.0px;stroke-linecap:butt;stroke-linejoin:miter;stroke-opacity:1\"/>\n",
       "<path class=\"bond-10 atom-10 atom-11\" d=\"M 375.1,73.0 L 379.9,129.2\" style=\"fill:none;fill-rule:evenodd;stroke:#000000;stroke-width:2.0px;stroke-linecap:butt;stroke-linejoin:miter;stroke-opacity:1\"/>\n",
       "<path class=\"bond-11 atom-11 atom-12\" d=\"M 379.9,129.2 L 333.7,161.4\" style=\"fill:none;fill-rule:evenodd;stroke:#000000;stroke-width:2.0px;stroke-linecap:butt;stroke-linejoin:miter;stroke-opacity:1\"/>\n",
       "<path class=\"bond-12 atom-3 atom-13\" d=\"M 85.4,156.5 L 85.1,156.1\" style=\"fill:none;fill-rule:evenodd;stroke:#000000;stroke-width:1.0px;stroke-linecap:butt;stroke-linejoin:miter;stroke-opacity:1\"/>\n",
       "<path class=\"bond-12 atom-3 atom-13\" d=\"M 82.6,158.7 L 82.0,157.9\" style=\"fill:none;fill-rule:evenodd;stroke:#000000;stroke-width:1.0px;stroke-linecap:butt;stroke-linejoin:miter;stroke-opacity:1\"/>\n",
       "<path class=\"bond-12 atom-3 atom-13\" d=\"M 79.9,161.0 L 79.0,159.7\" style=\"fill:none;fill-rule:evenodd;stroke:#000000;stroke-width:1.0px;stroke-linecap:butt;stroke-linejoin:miter;stroke-opacity:1\"/>\n",
       "<path class=\"bond-12 atom-3 atom-13\" d=\"M 77.2,163.2 L 76.0,161.5\" style=\"fill:none;fill-rule:evenodd;stroke:#000000;stroke-width:1.0px;stroke-linecap:butt;stroke-linejoin:miter;stroke-opacity:1\"/>\n",
       "<path class=\"bond-12 atom-3 atom-13\" d=\"M 74.4,165.4 L 72.9,163.3\" style=\"fill:none;fill-rule:evenodd;stroke:#000000;stroke-width:1.0px;stroke-linecap:butt;stroke-linejoin:miter;stroke-opacity:1\"/>\n",
       "<path class=\"bond-12 atom-3 atom-13\" d=\"M 71.7,167.7 L 69.9,165.1\" style=\"fill:none;fill-rule:evenodd;stroke:#000000;stroke-width:1.0px;stroke-linecap:butt;stroke-linejoin:miter;stroke-opacity:1\"/>\n",
       "<path class=\"bond-12 atom-3 atom-13\" d=\"M 69.0,169.9 L 66.8,166.9\" style=\"fill:none;fill-rule:evenodd;stroke:#000000;stroke-width:1.0px;stroke-linecap:butt;stroke-linejoin:miter;stroke-opacity:1\"/>\n",
       "<path class=\"bond-12 atom-3 atom-13\" d=\"M 66.2,172.1 L 63.8,168.7\" style=\"fill:none;fill-rule:evenodd;stroke:#000000;stroke-width:1.0px;stroke-linecap:butt;stroke-linejoin:miter;stroke-opacity:1\"/>\n",
       "<path class=\"bond-12 atom-3 atom-13\" d=\"M 63.5,174.4 L 60.8,170.5\" style=\"fill:none;fill-rule:evenodd;stroke:#000000;stroke-width:1.0px;stroke-linecap:butt;stroke-linejoin:miter;stroke-opacity:1\"/>\n",
       "<path class=\"bond-12 atom-3 atom-13\" d=\"M 60.8,176.6 L 57.7,172.3\" style=\"fill:none;fill-rule:evenodd;stroke:#000000;stroke-width:1.0px;stroke-linecap:butt;stroke-linejoin:miter;stroke-opacity:1\"/>\n",
       "<path class=\"bond-12 atom-3 atom-13\" d=\"M 58.0,178.8 L 54.7,174.1\" style=\"fill:none;fill-rule:evenodd;stroke:#000000;stroke-width:1.0px;stroke-linecap:butt;stroke-linejoin:miter;stroke-opacity:1\"/>\n",
       "<path class=\"bond-12 atom-3 atom-13\" d=\"M 55.3,181.1 L 51.6,175.9\" style=\"fill:none;fill-rule:evenodd;stroke:#000000;stroke-width:1.0px;stroke-linecap:butt;stroke-linejoin:miter;stroke-opacity:1\"/>\n",
       "<path class=\"bond-12 atom-3 atom-13\" d=\"M 52.5,183.3 L 48.6,177.7\" style=\"fill:none;fill-rule:evenodd;stroke:#000000;stroke-width:1.0px;stroke-linecap:butt;stroke-linejoin:miter;stroke-opacity:1\"/>\n",
       "<path class=\"bond-12 atom-3 atom-13\" d=\"M 49.8,185.5 L 45.6,179.5\" style=\"fill:none;fill-rule:evenodd;stroke:#000000;stroke-width:1.0px;stroke-linecap:butt;stroke-linejoin:miter;stroke-opacity:1\"/>\n",
       "<path class=\"bond-12 atom-3 atom-13\" d=\"M 47.1,187.8 L 42.5,181.3\" style=\"fill:none;fill-rule:evenodd;stroke:#000000;stroke-width:1.0px;stroke-linecap:butt;stroke-linejoin:miter;stroke-opacity:1\"/>\n",
       "<path class=\"bond-12 atom-3 atom-13\" d=\"M 44.3,190.0 L 39.5,183.1\" style=\"fill:none;fill-rule:evenodd;stroke:#000000;stroke-width:1.0px;stroke-linecap:butt;stroke-linejoin:miter;stroke-opacity:1\"/>\n",
       "<path class=\"bond-13 atom-12 atom-7\" d=\"M 333.7,161.4 L 282.6,137.5\" style=\"fill:none;fill-rule:evenodd;stroke:#000000;stroke-width:2.0px;stroke-linecap:butt;stroke-linejoin:miter;stroke-opacity:1\"/>\n",
       "<path d=\"M 32.1,73.1 L 32.2,74.2 L 34.8,75.4\" style=\"fill:none;stroke:#000000;stroke-width:2.0px;stroke-linecap:butt;stroke-linejoin:miter;stroke-opacity:1;\"/>\n",
       "<path d=\"M 80.7,96.9 L 83.3,98.1 L 83.5,100.9\" style=\"fill:none;stroke:#000000;stroke-width:2.0px;stroke-linecap:butt;stroke-linejoin:miter;stroke-opacity:1;\"/>\n",
       "<path d=\"M 87.9,151.5 L 88.1,154.3 L 90.7,155.5\" style=\"fill:none;stroke:#000000;stroke-width:2.0px;stroke-linecap:butt;stroke-linejoin:miter;stroke-opacity:1;\"/>\n",
       "<path d=\"M 136.6,177.0 L 139.2,178.2 L 141.5,176.6\" style=\"fill:none;stroke:#000000;stroke-width:2.0px;stroke-linecap:butt;stroke-linejoin:miter;stroke-opacity:1;\"/>\n",
       "<path d=\"M 183.1,147.5 L 185.4,145.9 L 187.9,147.1\" style=\"fill:none;stroke:#000000;stroke-width:2.0px;stroke-linecap:butt;stroke-linejoin:miter;stroke-opacity:1;\"/>\n",
       "<path d=\"M 233.9,168.6 L 236.4,169.8 L 238.7,168.2\" style=\"fill:none;stroke:#000000;stroke-width:2.0px;stroke-linecap:butt;stroke-linejoin:miter;stroke-opacity:1;\"/>\n",
       "<path d=\"M 278.1,84.2 L 277.8,81.4 L 280.1,79.8\" style=\"fill:none;stroke:#000000;stroke-width:2.0px;stroke-linecap:butt;stroke-linejoin:miter;stroke-opacity:1;\"/>\n",
       "<path d=\"M 321.7,50.7 L 324.0,49.1 L 326.6,50.3\" style=\"fill:none;stroke:#000000;stroke-width:2.0px;stroke-linecap:butt;stroke-linejoin:miter;stroke-opacity:1;\"/>\n",
       "<path d=\"M 372.5,71.8 L 375.1,73.0 L 375.3,75.8\" style=\"fill:none;stroke:#000000;stroke-width:2.0px;stroke-linecap:butt;stroke-linejoin:miter;stroke-opacity:1;\"/>\n",
       "<path d=\"M 379.7,126.4 L 379.9,129.2 L 377.6,130.8\" style=\"fill:none;stroke:#000000;stroke-width:2.0px;stroke-linecap:butt;stroke-linejoin:miter;stroke-opacity:1;\"/>\n",
       "<path d=\"M 336.0,159.8 L 333.7,161.4 L 331.1,160.2\" style=\"fill:none;stroke:#000000;stroke-width:2.0px;stroke-linecap:butt;stroke-linejoin:miter;stroke-opacity:1;\"/>\n",
       "<path class=\"atom-0\" d=\"M 20.1 18.1 Q 20.1 14.3, 22.0 12.1 Q 23.9 10.0, 27.4 10.0 Q 31.0 10.0, 32.9 12.1 Q 34.7 14.3, 34.7 18.1 Q 34.7 22.0, 32.8 24.2 Q 30.9 26.4, 27.4 26.4 Q 23.9 26.4, 22.0 24.2 Q 20.1 22.0, 20.1 18.1 M 27.4 24.6 Q 29.9 24.6, 31.2 23.0 Q 32.5 21.3, 32.5 18.1 Q 32.5 15.0, 31.2 13.4 Q 29.9 11.8, 27.4 11.8 Q 25.0 11.8, 23.7 13.4 Q 22.3 15.0, 22.3 18.1 Q 22.3 21.3, 23.7 23.0 Q 25.0 24.6, 27.4 24.6 \" fill=\"#FF0000\"/>\n",
       "<path class=\"atom-0\" d=\"M 37.2 10.2 L 39.4 10.2 L 39.4 17.0 L 47.6 17.0 L 47.6 10.2 L 49.7 10.2 L 49.7 26.1 L 47.6 26.1 L 47.6 18.8 L 39.4 18.8 L 39.4 26.1 L 37.2 26.1 L 37.2 10.2 \" fill=\"#FF0000\"/>\n",
       "</svg>"
      ],
      "text/plain": [
       "<IPython.core.display.SVG object>"
      ]
     },
     "execution_count": 232,
     "metadata": {},
     "output_type": "execute_result"
    }
   ],
   "source": [
    "def increase_resolution(mol, substructure, size=(400, 200)):\n",
    "    \n",
    "    mol = deepcopy(mol)\n",
    "    substructure = deepcopy(substructure)\n",
    "    drawer = rdMolDraw2D.MolDraw2DSVG(size[0], size[1])\n",
    "    \n",
    "    # highlightAtoms expects only one tuple, not tuple of tuples. So it needs to be merged into a single tuple\n",
    "    matches = sum(mol.GetSubstructMatches(substructure, useChirality = True), ())\n",
    "    drawer.DrawMolecule(mol, highlightAtoms=matches)\n",
    "    \n",
    "    drawer.FinishDrawing()\n",
    "    svg = drawer.GetDrawingText()\n",
    "    \n",
    "    return svg.replace('svg:','')\n",
    "\n",
    "\n",
    "mol = Chem.MolFromSmiles('OCC[C@H](CCCC1CCCCC1)C')\n",
    "substructure = Chem.MolFromSmarts('[C&H2:2]([C@@&H1:1]([C&H2:5])[C&H3])[C&H2:3][O&H1:4]')\n",
    "SVG(increase_resolution(mol, substructure))"
   ]
  },
  {
   "cell_type": "code",
   "execution_count": 235,
   "id": "7cccfda5",
   "metadata": {},
   "outputs": [
    {
     "data": {
      "image/png": "[encoded data removed]",
      "text/plain": [
       "<rdkit.Chem.rdchem.Mol at 0x7fc73e3c5c10>"
      ]
     },
     "execution_count": 235,
     "metadata": {},
     "output_type": "execute_result"
    }
   ],
   "source": [
    "mol = Chem.MolFromSmiles('O=CC[C@@H](CCCC1CCCCC1)C')\n",
    "mol"
   ]
  },
  {
   "cell_type": "markdown",
   "id": "bff428a4",
   "metadata": {},
   "source": [
    "# Examine the molecules in each group"
   ]
  },
  {
   "cell_type": "code",
   "execution_count": null,
   "id": "10a70a26",
   "metadata": {},
   "outputs": [],
   "source": []
  },
  {
   "cell_type": "code",
   "execution_count": null,
   "id": "d2736313",
   "metadata": {},
   "outputs": [],
   "source": []
  },
  {
   "cell_type": "code",
   "execution_count": null,
   "id": "bf0d3a3e",
   "metadata": {},
   "outputs": [],
   "source": []
  },
  {
   "cell_type": "code",
   "execution_count": null,
   "id": "2fe01561",
   "metadata": {},
   "outputs": [],
   "source": []
  },
  {
   "cell_type": "code",
   "execution_count": null,
   "id": "abdcfbf1",
   "metadata": {},
   "outputs": [],
   "source": []
  },
  {
   "cell_type": "code",
   "execution_count": null,
   "id": "04b8c2a9",
   "metadata": {},
   "outputs": [],
   "source": []
  },
  {
   "cell_type": "code",
   "execution_count": null,
   "id": "7176196b",
   "metadata": {},
   "outputs": [],
   "source": []
  },
  {
   "cell_type": "code",
   "execution_count": null,
   "id": "a7cce1c1",
   "metadata": {},
   "outputs": [],
   "source": []
  },
  {
   "cell_type": "code",
   "execution_count": null,
   "id": "983da3e1",
   "metadata": {},
   "outputs": [],
   "source": []
  },
  {
   "cell_type": "code",
   "execution_count": null,
   "id": "44494ab9",
   "metadata": {},
   "outputs": [],
   "source": []
  },
  {
   "cell_type": "code",
   "execution_count": null,
   "id": "a1a89e01",
   "metadata": {},
   "outputs": [],
   "source": []
  },
  {
   "cell_type": "code",
   "execution_count": null,
   "id": "502bcef0",
   "metadata": {},
   "outputs": [],
   "source": []
  },
  {
   "cell_type": "code",
   "execution_count": 59,
   "id": "87a112a0",
   "metadata": {},
   "outputs": [
    {
     "data": {
      "image/svg+xml": [
       "<svg xmlns=\"http://www.w3.org/2000/svg\" xmlns:rdkit=\"http://www.rdkit.org/xml\" xmlns:xlink=\"http://www.w3.org/1999/xlink\" version=\"1.1\" baseProfile=\"full\" xml:space=\"preserve\" width=\"400px\" height=\"200px\" viewBox=\"0 0 400 200\">\n",
       "<!-- END OF HEADER -->\n",
       "<rect style=\"opacity:1.0;fill:#FFFFFF;stroke:none\" width=\"400.0\" height=\"200.0\" x=\"0.0\" y=\"0.0\"> </rect>\n",
       "<path class=\"bond-0 atom-0 atom-1\" d=\"M 112.8,118.3 L 112.8,126.5 L 93.6,155.8 L 86.1,150.9 L 105.3,121.6 Z\" style=\"fill:#FF7F7F;fill-rule:evenodd;fill-opacity:1;stroke:#FF7F7F;stroke-width:0.0px;stroke-linecap:butt;stroke-linejoin:miter;stroke-opacity:1;\"/>\n",
       "<path class=\"bond-1 atom-1 atom-2\" d=\"M 117.9,118.1 L 139.2,151.1 L 131.6,156.0 L 112.8,126.5 L 112.8,118.3 Z\" style=\"fill:#FF7F7F;fill-rule:evenodd;fill-opacity:1;stroke:#FF7F7F;stroke-width:0.0px;stroke-linecap:butt;stroke-linejoin:miter;stroke-opacity:1;\"/>\n",
       "<path class=\"bond-19 atom-1 atom-15\" d=\"M 137.4,80.3 L 117.9,118.1 L 112.8,118.3 L 110.3,113.4 L 126.5,82.0 Z\" style=\"fill:#FF7F7F;fill-rule:evenodd;fill-opacity:1;stroke:#FF7F7F;stroke-width:0.0px;stroke-linecap:butt;stroke-linejoin:miter;stroke-opacity:1;\"/>\n",
       "<path class=\"bond-20 atom-1 atom-18\" d=\"M 75.4,107.7 L 110.3,113.4 L 112.8,118.3 L 105.3,121.6 L 73.1,116.4 L 71.5,111.6 Z\" style=\"fill:#FF7F7F;fill-rule:evenodd;fill-opacity:1;stroke:#FF7F7F;stroke-width:0.0px;stroke-linecap:butt;stroke-linejoin:miter;stroke-opacity:1;\"/>\n",
       "<path class=\"bond-15 atom-15 atom-16\" d=\"M 103.4,46.0 L 137.4,80.3 L 126.5,82.0 L 101.7,56.9 Z\" style=\"fill:#FF7F7F;fill-rule:evenodd;fill-opacity:1;stroke:#FF7F7F;stroke-width:0.0px;stroke-linecap:butt;stroke-linejoin:miter;stroke-opacity:1;\"/>\n",
       "<path class=\"bond-16 atom-16 atom-17\" d=\"M 103.4,46.0 L 101.7,56.9 L 70.1,72.8 L 60.3,67.7 Z\" style=\"fill:#FF7F7F;fill-rule:evenodd;fill-opacity:1;stroke:#FF7F7F;stroke-width:0.0px;stroke-linecap:butt;stroke-linejoin:miter;stroke-opacity:1;\"/>\n",
       "<path class=\"bond-17 atom-17 atom-18\" d=\"M 60.3,67.7 L 70.1,72.8 L 75.4,107.7 L 71.5,111.6 L 66.8,110.0 Z\" style=\"fill:#FF7F7F;fill-rule:evenodd;fill-opacity:1;stroke:#FF7F7F;stroke-width:0.0px;stroke-linecap:butt;stroke-linejoin:miter;stroke-opacity:1;\"/>\n",
       "<path class=\"bond-18 atom-18 atom-19\" d=\"M 66.8,110.0 L 71.5,111.6 L 73.1,116.4 L 44.9,144.2 L 38.7,137.8 Z\" style=\"fill:#FF7F7F;fill-rule:evenodd;fill-opacity:1;stroke:#FF7F7F;stroke-width:0.0px;stroke-linecap:butt;stroke-linejoin:miter;stroke-opacity:1;\"/>\n",
       "<ellipse cx=\"89.8\" cy=\"153.3\" rx=\"8.4\" ry=\"8.4\" class=\"atom-0\" style=\"fill:#FF7F7F;fill-rule:evenodd;stroke:#FF7F7F;stroke-width:1.0px;stroke-linecap:butt;stroke-linejoin:miter;stroke-opacity:1\"/>\n",
       "<ellipse cx=\"112.8\" cy=\"118.3\" rx=\"8.4\" ry=\"8.4\" class=\"atom-1\" style=\"fill:#FF7F7F;fill-rule:evenodd;stroke:#FF7F7F;stroke-width:1.0px;stroke-linecap:butt;stroke-linejoin:miter;stroke-opacity:1\"/>\n",
       "<ellipse cx=\"135.4\" cy=\"153.5\" rx=\"8.4\" ry=\"8.4\" class=\"atom-2\" style=\"fill:#FF7F7F;fill-rule:evenodd;stroke:#FF7F7F;stroke-width:1.0px;stroke-linecap:butt;stroke-linejoin:miter;stroke-opacity:1\"/>\n",
       "<ellipse cx=\"132.0\" cy=\"81.2\" rx=\"8.4\" ry=\"8.4\" class=\"atom-15\" style=\"fill:#FF7F7F;fill-rule:evenodd;stroke:#FF7F7F;stroke-width:1.0px;stroke-linecap:butt;stroke-linejoin:miter;stroke-opacity:1\"/>\n",
       "<ellipse cx=\"102.6\" cy=\"51.5\" rx=\"8.4\" ry=\"8.4\" class=\"atom-16\" style=\"fill:#FF7F7F;fill-rule:evenodd;stroke:#FF7F7F;stroke-width:1.0px;stroke-linecap:butt;stroke-linejoin:miter;stroke-opacity:1\"/>\n",
       "<ellipse cx=\"65.2\" cy=\"70.3\" rx=\"8.4\" ry=\"8.4\" class=\"atom-17\" style=\"fill:#FF7F7F;fill-rule:evenodd;stroke:#FF7F7F;stroke-width:1.0px;stroke-linecap:butt;stroke-linejoin:miter;stroke-opacity:1\"/>\n",
       "<ellipse cx=\"71.5\" cy=\"111.6\" rx=\"8.4\" ry=\"8.4\" class=\"atom-18\" style=\"fill:#FF7F7F;fill-rule:evenodd;stroke:#FF7F7F;stroke-width:1.0px;stroke-linecap:butt;stroke-linejoin:miter;stroke-opacity:1\"/>\n",
       "<ellipse cx=\"36.0\" cy=\"141.1\" rx=\"16.0\" ry=\"8.6\" class=\"atom-19\" style=\"fill:#FF7F7F;fill-rule:evenodd;stroke:#FF7F7F;stroke-width:1.0px;stroke-linecap:butt;stroke-linejoin:miter;stroke-opacity:1\"/>\n",
       "<path class=\"bond-0 atom-1 atom-0\" d=\"M 112.8,118.3 L 92.5,155.0 L 87.2,151.6 Z\" style=\"fill:#000000;fill-rule:evenodd;fill-opacity:1;stroke:#000000;stroke-width:0.5px;stroke-linecap:butt;stroke-linejoin:miter;stroke-opacity:1;\"/>\n",
       "<path class=\"bond-1 atom-1 atom-2\" d=\"M 112.8,118.3 L 135.4,153.5\" style=\"fill:none;fill-rule:evenodd;stroke:#000000;stroke-width:2.0px;stroke-linecap:butt;stroke-linejoin:miter;stroke-opacity:1\"/>\n",
       "<path class=\"bond-2 atom-2 atom-3\" d=\"M 135.4,153.5 L 177.2,151.6\" style=\"fill:none;fill-rule:evenodd;stroke:#000000;stroke-width:2.0px;stroke-linecap:butt;stroke-linejoin:miter;stroke-opacity:1\"/>\n",
       "<path class=\"bond-3 atom-3 atom-4\" d=\"M 177.2,151.6 L 196.4,114.4\" style=\"fill:none;fill-rule:evenodd;stroke:#000000;stroke-width:2.0px;stroke-linecap:butt;stroke-linejoin:miter;stroke-opacity:1\"/>\n",
       "<path class=\"bond-4 atom-4 atom-5\" d=\"M 196.4,114.4 L 238.1,112.4\" style=\"fill:none;fill-rule:evenodd;stroke:#000000;stroke-width:2.0px;stroke-linecap:butt;stroke-linejoin:miter;stroke-opacity:1\"/>\n",
       "<path class=\"bond-5 atom-5 atom-6\" d=\"M 238.1,112.4 L 260.7,147.6\" style=\"fill:none;fill-rule:evenodd;stroke:#000000;stroke-width:2.0px;stroke-linecap:butt;stroke-linejoin:miter;stroke-opacity:1\"/>\n",
       "<path class=\"bond-5 atom-5 atom-6\" d=\"M 245.4,112.1 L 264.0,141.2\" style=\"fill:none;fill-rule:evenodd;stroke:#000000;stroke-width:2.0px;stroke-linecap:butt;stroke-linejoin:miter;stroke-opacity:1\"/>\n",
       "<path class=\"bond-6 atom-6 atom-7\" d=\"M 260.7,147.6 L 302.5,145.6\" style=\"fill:none;fill-rule:evenodd;stroke:#000000;stroke-width:2.0px;stroke-linecap:butt;stroke-linejoin:miter;stroke-opacity:1\"/>\n",
       "<path class=\"bond-7 atom-7 atom-8\" d=\"M 302.5,145.6 L 321.7,108.5\" style=\"fill:none;fill-rule:evenodd;stroke:#000000;stroke-width:2.0px;stroke-linecap:butt;stroke-linejoin:miter;stroke-opacity:1\"/>\n",
       "<path class=\"bond-7 atom-7 atom-8\" d=\"M 298.6,139.5 L 314.4,108.8\" style=\"fill:none;fill-rule:evenodd;stroke:#000000;stroke-width:2.0px;stroke-linecap:butt;stroke-linejoin:miter;stroke-opacity:1\"/>\n",
       "<path class=\"bond-8 atom-8 atom-9\" d=\"M 321.7,108.5 L 339.2,107.6\" style=\"fill:none;fill-rule:evenodd;stroke:#000000;stroke-width:2.0px;stroke-linecap:butt;stroke-linejoin:miter;stroke-opacity:1\"/>\n",
       "<path class=\"bond-8 atom-8 atom-9\" d=\"M 339.2,107.6 L 356.6,106.8\" style=\"fill:none;fill-rule:evenodd;stroke:#FF0000;stroke-width:2.0px;stroke-linecap:butt;stroke-linejoin:miter;stroke-opacity:1\"/>\n",
       "<path class=\"bond-9 atom-8 atom-10\" d=\"M 321.7,108.5 L 299.1,73.3\" style=\"fill:none;fill-rule:evenodd;stroke:#000000;stroke-width:2.0px;stroke-linecap:butt;stroke-linejoin:miter;stroke-opacity:1\"/>\n",
       "<path class=\"bond-10 atom-10 atom-11\" d=\"M 299.1,73.3 L 257.3,75.3\" style=\"fill:none;fill-rule:evenodd;stroke:#000000;stroke-width:2.0px;stroke-linecap:butt;stroke-linejoin:miter;stroke-opacity:1\"/>\n",
       "<path class=\"bond-10 atom-10 atom-11\" d=\"M 295.8,79.7 L 261.2,81.4\" style=\"fill:none;fill-rule:evenodd;stroke:#000000;stroke-width:2.0px;stroke-linecap:butt;stroke-linejoin:miter;stroke-opacity:1\"/>\n",
       "<path class=\"bond-11 atom-11 atom-12\" d=\"M 257.3,75.3 L 234.7,40.1\" style=\"fill:none;fill-rule:evenodd;stroke:#000000;stroke-width:2.0px;stroke-linecap:butt;stroke-linejoin:miter;stroke-opacity:1\"/>\n",
       "<path class=\"bond-12 atom-12 atom-13\" d=\"M 234.7,40.1 L 192.9,42.0\" style=\"fill:none;fill-rule:evenodd;stroke:#000000;stroke-width:2.0px;stroke-linecap:butt;stroke-linejoin:miter;stroke-opacity:1\"/>\n",
       "<path class=\"bond-13 atom-13 atom-14\" d=\"M 192.9,42.0 L 173.8,79.2\" style=\"fill:none;fill-rule:evenodd;stroke:#000000;stroke-width:2.0px;stroke-linecap:butt;stroke-linejoin:miter;stroke-opacity:1\"/>\n",
       "<path class=\"bond-14 atom-14 atom-15\" d=\"M 173.8,79.2 L 132.0,81.2\" style=\"fill:none;fill-rule:evenodd;stroke:#000000;stroke-width:2.0px;stroke-linecap:butt;stroke-linejoin:miter;stroke-opacity:1\"/>\n",
       "<path class=\"bond-15 atom-15 atom-16\" d=\"M 132.0,81.2 L 102.6,51.5\" style=\"fill:none;fill-rule:evenodd;stroke:#000000;stroke-width:2.0px;stroke-linecap:butt;stroke-linejoin:miter;stroke-opacity:1\"/>\n",
       "<path class=\"bond-16 atom-16 atom-17\" d=\"M 102.6,51.5 L 65.2,70.3\" style=\"fill:none;fill-rule:evenodd;stroke:#000000;stroke-width:2.0px;stroke-linecap:butt;stroke-linejoin:miter;stroke-opacity:1\"/>\n",
       "<path class=\"bond-17 atom-17 atom-18\" d=\"M 65.2,70.3 L 71.5,111.6\" style=\"fill:none;fill-rule:evenodd;stroke:#000000;stroke-width:2.0px;stroke-linecap:butt;stroke-linejoin:miter;stroke-opacity:1\"/>\n",
       "<path class=\"bond-18 atom-18 atom-19\" d=\"M 71.5,111.6 L 61.9,123.4 L 59.7,121.1 Z\" style=\"fill:#000000;fill-rule:evenodd;fill-opacity:1;stroke:#000000;stroke-width:0.5px;stroke-linecap:butt;stroke-linejoin:miter;stroke-opacity:1;\"/>\n",
       "<path class=\"bond-18 atom-18 atom-19\" d=\"M 61.9,123.4 L 47.8,130.7 L 52.2,135.1 Z\" style=\"fill:#FF0000;fill-rule:evenodd;fill-opacity:1;stroke:#FF0000;stroke-width:0.5px;stroke-linecap:butt;stroke-linejoin:miter;stroke-opacity:1;\"/>\n",
       "<path class=\"bond-18 atom-18 atom-19\" d=\"M 61.9,123.4 L 59.7,121.1 L 47.8,130.7 Z\" style=\"fill:#FF0000;fill-rule:evenodd;fill-opacity:1;stroke:#FF0000;stroke-width:0.5px;stroke-linecap:butt;stroke-linejoin:miter;stroke-opacity:1;\"/>\n",
       "<path class=\"bond-19 atom-15 atom-1\" d=\"M 132.0,81.2 L 112.8,118.3\" style=\"fill:none;fill-rule:evenodd;stroke:#000000;stroke-width:2.0px;stroke-linecap:butt;stroke-linejoin:miter;stroke-opacity:1\"/>\n",
       "<path class=\"bond-20 atom-18 atom-1\" d=\"M 71.5,111.6 L 112.8,118.3\" style=\"fill:none;fill-rule:evenodd;stroke:#000000;stroke-width:2.0px;stroke-linecap:butt;stroke-linejoin:miter;stroke-opacity:1\"/>\n",
       "<path class=\"bond-21 atom-14 atom-4\" d=\"M 173.8,79.2 L 196.4,114.4\" style=\"fill:none;fill-rule:evenodd;stroke:#000000;stroke-width:2.0px;stroke-linecap:butt;stroke-linejoin:miter;stroke-opacity:1\"/>\n",
       "<path class=\"bond-22 atom-11 atom-5\" d=\"M 257.3,75.3 L 238.1,112.4\" style=\"fill:none;fill-rule:evenodd;stroke:#000000;stroke-width:2.0px;stroke-linecap:butt;stroke-linejoin:miter;stroke-opacity:1\"/>\n",
       "<path class=\"bond-23 atom-4 atom-20\" d=\"M 198.5,117.2 L 198.0,117.5\" style=\"fill:none;fill-rule:evenodd;stroke:#000000;stroke-width:1.0px;stroke-linecap:butt;stroke-linejoin:miter;stroke-opacity:1\"/>\n",
       "<path class=\"bond-23 atom-4 atom-20\" d=\"M 200.7,119.9 L 199.5,120.7\" style=\"fill:none;fill-rule:evenodd;stroke:#000000;stroke-width:1.0px;stroke-linecap:butt;stroke-linejoin:miter;stroke-opacity:1\"/>\n",
       "<path class=\"bond-23 atom-4 atom-20\" d=\"M 202.9,122.7 L 201.1,123.8\" style=\"fill:none;fill-rule:evenodd;stroke:#000000;stroke-width:1.0px;stroke-linecap:butt;stroke-linejoin:miter;stroke-opacity:1\"/>\n",
       "<path class=\"bond-23 atom-4 atom-20\" d=\"M 205.1,125.4 L 202.7,126.9\" style=\"fill:none;fill-rule:evenodd;stroke:#000000;stroke-width:1.0px;stroke-linecap:butt;stroke-linejoin:miter;stroke-opacity:1\"/>\n",
       "<path class=\"bond-23 atom-4 atom-20\" d=\"M 207.3,128.2 L 204.3,130.1\" style=\"fill:none;fill-rule:evenodd;stroke:#000000;stroke-width:1.0px;stroke-linecap:butt;stroke-linejoin:miter;stroke-opacity:1\"/>\n",
       "<path class=\"bond-23 atom-4 atom-20\" d=\"M 209.5,130.9 L 205.9,133.2\" style=\"fill:none;fill-rule:evenodd;stroke:#000000;stroke-width:1.0px;stroke-linecap:butt;stroke-linejoin:miter;stroke-opacity:1\"/>\n",
       "<path class=\"bond-23 atom-4 atom-20\" d=\"M 211.6,133.7 L 207.5,136.3\" style=\"fill:none;fill-rule:evenodd;stroke:#000000;stroke-width:1.0px;stroke-linecap:butt;stroke-linejoin:miter;stroke-opacity:1\"/>\n",
       "<path class=\"bond-23 atom-4 atom-20\" d=\"M 213.8,136.5 L 209.1,139.5\" style=\"fill:none;fill-rule:evenodd;stroke:#000000;stroke-width:1.0px;stroke-linecap:butt;stroke-linejoin:miter;stroke-opacity:1\"/>\n",
       "<path class=\"bond-23 atom-4 atom-20\" d=\"M 216.0,139.2 L 210.7,142.6\" style=\"fill:none;fill-rule:evenodd;stroke:#000000;stroke-width:1.0px;stroke-linecap:butt;stroke-linejoin:miter;stroke-opacity:1\"/>\n",
       "<path class=\"bond-24 atom-14 atom-21\" d=\"M 171.6,76.5 L 172.2,76.1\" style=\"fill:none;fill-rule:evenodd;stroke:#000000;stroke-width:1.0px;stroke-linecap:butt;stroke-linejoin:miter;stroke-opacity:1\"/>\n",
       "<path class=\"bond-24 atom-14 atom-21\" d=\"M 169.4,73.7 L 170.6,72.9\" style=\"fill:none;fill-rule:evenodd;stroke:#000000;stroke-width:1.0px;stroke-linecap:butt;stroke-linejoin:miter;stroke-opacity:1\"/>\n",
       "<path class=\"bond-24 atom-14 atom-21\" d=\"M 167.2,70.9 L 169.0,69.8\" style=\"fill:none;fill-rule:evenodd;stroke:#000000;stroke-width:1.0px;stroke-linecap:butt;stroke-linejoin:miter;stroke-opacity:1\"/>\n",
       "<path class=\"bond-24 atom-14 atom-21\" d=\"M 165.0,68.2 L 167.4,66.7\" style=\"fill:none;fill-rule:evenodd;stroke:#000000;stroke-width:1.0px;stroke-linecap:butt;stroke-linejoin:miter;stroke-opacity:1\"/>\n",
       "<path class=\"bond-24 atom-14 atom-21\" d=\"M 162.8,65.4 L 165.8,63.5\" style=\"fill:none;fill-rule:evenodd;stroke:#000000;stroke-width:1.0px;stroke-linecap:butt;stroke-linejoin:miter;stroke-opacity:1\"/>\n",
       "<path class=\"bond-24 atom-14 atom-21\" d=\"M 160.6,62.7 L 164.2,60.4\" style=\"fill:none;fill-rule:evenodd;stroke:#000000;stroke-width:1.0px;stroke-linecap:butt;stroke-linejoin:miter;stroke-opacity:1\"/>\n",
       "<path class=\"bond-24 atom-14 atom-21\" d=\"M 158.5,59.9 L 162.6,57.3\" style=\"fill:none;fill-rule:evenodd;stroke:#000000;stroke-width:1.0px;stroke-linecap:butt;stroke-linejoin:miter;stroke-opacity:1\"/>\n",
       "<path class=\"bond-24 atom-14 atom-21\" d=\"M 156.3,57.2 L 161.0,54.1\" style=\"fill:none;fill-rule:evenodd;stroke:#000000;stroke-width:1.0px;stroke-linecap:butt;stroke-linejoin:miter;stroke-opacity:1\"/>\n",
       "<path class=\"bond-24 atom-14 atom-21\" d=\"M 154.1,54.4 L 159.4,51.0\" style=\"fill:none;fill-rule:evenodd;stroke:#000000;stroke-width:1.0px;stroke-linecap:butt;stroke-linejoin:miter;stroke-opacity:1\"/>\n",
       "<path class=\"bond-25 atom-15 atom-22\" d=\"M 128.9,82.7 L 128.7,82.1\" style=\"fill:none;fill-rule:evenodd;stroke:#000000;stroke-width:1.0px;stroke-linecap:butt;stroke-linejoin:miter;stroke-opacity:1\"/>\n",
       "<path class=\"bond-25 atom-15 atom-22\" d=\"M 125.9,84.2 L 125.4,83.0\" style=\"fill:none;fill-rule:evenodd;stroke:#000000;stroke-width:1.0px;stroke-linecap:butt;stroke-linejoin:miter;stroke-opacity:1\"/>\n",
       "<path class=\"bond-25 atom-15 atom-22\" d=\"M 122.8,85.7 L 122.1,83.9\" style=\"fill:none;fill-rule:evenodd;stroke:#000000;stroke-width:1.0px;stroke-linecap:butt;stroke-linejoin:miter;stroke-opacity:1\"/>\n",
       "<path class=\"bond-25 atom-15 atom-22\" d=\"M 119.7,87.2 L 118.8,84.8\" style=\"fill:none;fill-rule:evenodd;stroke:#000000;stroke-width:1.0px;stroke-linecap:butt;stroke-linejoin:miter;stroke-opacity:1\"/>\n",
       "<path class=\"bond-25 atom-15 atom-22\" d=\"M 116.7,88.6 L 115.6,85.7\" style=\"fill:none;fill-rule:evenodd;stroke:#000000;stroke-width:1.0px;stroke-linecap:butt;stroke-linejoin:miter;stroke-opacity:1\"/>\n",
       "<path class=\"bond-25 atom-15 atom-22\" d=\"M 113.6,90.1 L 112.3,86.6\" style=\"fill:none;fill-rule:evenodd;stroke:#000000;stroke-width:1.0px;stroke-linecap:butt;stroke-linejoin:miter;stroke-opacity:1\"/>\n",
       "<path class=\"bond-25 atom-15 atom-22\" d=\"M 110.5,91.6 L 109.0,87.5\" style=\"fill:none;fill-rule:evenodd;stroke:#000000;stroke-width:1.0px;stroke-linecap:butt;stroke-linejoin:miter;stroke-opacity:1\"/>\n",
       "<path class=\"bond-25 atom-15 atom-22\" d=\"M 107.5,93.1 L 105.7,88.4\" style=\"fill:none;fill-rule:evenodd;stroke:#000000;stroke-width:1.0px;stroke-linecap:butt;stroke-linejoin:miter;stroke-opacity:1\"/>\n",
       "<path class=\"bond-25 atom-15 atom-22\" d=\"M 104.4,94.6 L 102.4,89.3\" style=\"fill:none;fill-rule:evenodd;stroke:#000000;stroke-width:1.0px;stroke-linecap:butt;stroke-linejoin:miter;stroke-opacity:1\"/>\n",
       "<path class=\"bond-25 atom-15 atom-22\" d=\"M 101.4,96.1 L 99.1,90.2\" style=\"fill:none;fill-rule:evenodd;stroke:#000000;stroke-width:1.0px;stroke-linecap:butt;stroke-linejoin:miter;stroke-opacity:1\"/>\n",
       "<path d=\"M 134.3,151.8 L 135.4,153.5 L 137.5,153.4\" style=\"fill:none;stroke:#000000;stroke-width:2.0px;stroke-linecap:butt;stroke-linejoin:miter;stroke-opacity:1;\"/>\n",
       "<path d=\"M 175.1,151.7 L 177.2,151.6 L 178.1,149.7\" style=\"fill:none;stroke:#000000;stroke-width:2.0px;stroke-linecap:butt;stroke-linejoin:miter;stroke-opacity:1;\"/>\n",
       "<path d=\"M 259.6,145.9 L 260.7,147.6 L 262.8,147.5\" style=\"fill:none;stroke:#000000;stroke-width:2.0px;stroke-linecap:butt;stroke-linejoin:miter;stroke-opacity:1;\"/>\n",
       "<path d=\"M 300.4,145.7 L 302.5,145.6 L 303.5,143.8\" style=\"fill:none;stroke:#000000;stroke-width:2.0px;stroke-linecap:butt;stroke-linejoin:miter;stroke-opacity:1;\"/>\n",
       "<path d=\"M 300.2,75.0 L 299.1,73.3 L 297.0,73.4\" style=\"fill:none;stroke:#000000;stroke-width:2.0px;stroke-linecap:butt;stroke-linejoin:miter;stroke-opacity:1;\"/>\n",
       "<path d=\"M 235.8,41.8 L 234.7,40.1 L 232.6,40.2\" style=\"fill:none;stroke:#000000;stroke-width:2.0px;stroke-linecap:butt;stroke-linejoin:miter;stroke-opacity:1;\"/>\n",
       "<path d=\"M 195.0,41.9 L 192.9,42.0 L 192.0,43.9\" style=\"fill:none;stroke:#000000;stroke-width:2.0px;stroke-linecap:butt;stroke-linejoin:miter;stroke-opacity:1;\"/>\n",
       "<path d=\"M 104.0,52.9 L 102.6,51.5 L 100.7,52.4\" style=\"fill:none;stroke:#000000;stroke-width:2.0px;stroke-linecap:butt;stroke-linejoin:miter;stroke-opacity:1;\"/>\n",
       "<path d=\"M 67.1,69.3 L 65.2,70.3 L 65.5,72.3\" style=\"fill:none;stroke:#000000;stroke-width:2.0px;stroke-linecap:butt;stroke-linejoin:miter;stroke-opacity:1;\"/>\n",
       "<path d=\"M 71.2,109.5 L 71.5,111.6 L 73.6,111.9\" style=\"fill:none;stroke:#000000;stroke-width:2.0px;stroke-linecap:butt;stroke-linejoin:miter;stroke-opacity:1;\"/>\n",
       "<path class=\"atom-9\" d=\"M 358.0 106.5 Q 358.0 103.7, 359.4 102.1 Q 360.8 100.5, 363.5 100.5 Q 366.1 100.5, 367.5 102.1 Q 368.9 103.7, 368.9 106.5 Q 368.9 109.4, 367.5 111.0 Q 366.0 112.7, 363.5 112.7 Q 360.8 112.7, 359.4 111.0 Q 358.0 109.4, 358.0 106.5 M 363.5 111.3 Q 365.3 111.3, 366.2 110.1 Q 367.2 108.9, 367.2 106.5 Q 367.2 104.2, 366.2 103.0 Q 365.3 101.8, 363.5 101.8 Q 361.6 101.8, 360.7 103.0 Q 359.7 104.2, 359.7 106.5 Q 359.7 108.9, 360.7 110.1 Q 361.6 111.3, 363.5 111.3 \" fill=\"#FF0000\"/>\n",
       "<path class=\"atom-9\" d=\"M 370.7 100.6 L 372.3 100.6 L 372.3 105.7 L 378.4 105.7 L 378.4 100.6 L 380.0 100.6 L 380.0 112.5 L 378.4 112.5 L 378.4 107.0 L 372.3 107.0 L 372.3 112.5 L 370.7 112.5 L 370.7 100.6 \" fill=\"#FF0000\"/>\n",
       "<path class=\"atom-19\" d=\"M 24.7 135.2 L 26.3 135.2 L 26.3 140.2 L 32.3 140.2 L 32.3 135.2 L 33.9 135.2 L 33.9 147.0 L 32.3 147.0 L 32.3 141.5 L 26.3 141.5 L 26.3 147.0 L 24.7 147.0 L 24.7 135.2 \" fill=\"#FF0000\"/>\n",
       "<path class=\"atom-19\" d=\"M 36.4 141.1 Q 36.4 138.2, 37.8 136.6 Q 39.2 135.0, 41.8 135.0 Q 44.4 135.0, 45.8 136.6 Q 47.2 138.2, 47.2 141.1 Q 47.2 143.9, 45.8 145.6 Q 44.4 147.2, 41.8 147.2 Q 39.2 147.2, 37.8 145.6 Q 36.4 143.9, 36.4 141.1 M 41.8 145.9 Q 43.6 145.9, 44.6 144.6 Q 45.6 143.4, 45.6 141.1 Q 45.6 138.7, 44.6 137.6 Q 43.6 136.4, 41.8 136.4 Q 40.0 136.4, 39.0 137.5 Q 38.0 138.7, 38.0 141.1 Q 38.0 143.4, 39.0 144.6 Q 40.0 145.9, 41.8 145.9 \" fill=\"#FF0000\"/>\n",
       "<path class=\"atom-20\" d=\"M 214.3 143.7 L 215.9 143.7 L 215.9 148.7 L 222.0 148.7 L 222.0 143.7 L 223.6 143.7 L 223.6 155.5 L 222.0 155.5 L 222.0 150.0 L 215.9 150.0 L 215.9 155.5 L 214.3 155.5 L 214.3 143.7 \" fill=\"#000000\"/>\n",
       "<path class=\"atom-21\" d=\"M 146.5 38.1 L 148.1 38.1 L 148.1 43.1 L 154.2 43.1 L 154.2 38.1 L 155.8 38.1 L 155.8 49.9 L 154.2 49.9 L 154.2 44.5 L 148.1 44.5 L 148.1 49.9 L 146.5 49.9 L 146.5 38.1 \" fill=\"#000000\"/>\n",
       "<path class=\"atom-22\" d=\"M 88.2 90.0 L 89.8 90.0 L 89.8 95.1 L 95.9 95.1 L 95.9 90.0 L 97.5 90.0 L 97.5 101.9 L 95.9 101.9 L 95.9 96.4 L 89.8 96.4 L 89.8 101.9 L 88.2 101.9 L 88.2 90.0 \" fill=\"#000000\"/>\n",
       "</svg>"
      ],
      "text/plain": [
       "<IPython.core.display.SVG object>"
      ]
     },
     "execution_count": 59,
     "metadata": {},
     "output_type": "execute_result"
    }
   ],
   "source": [
    "def increase_resolution(mol, substructure, size=(400, 200)):\n",
    "    \n",
    "    mol = deepcopy(mol)\n",
    "    substructure = deepcopy(substructure)\n",
    "    drawer = rdMolDraw2D.MolDraw2DSVG(size[0], size[1])\n",
    "    \n",
    "    # highlightAtoms expects only one tuple, not tuple of tuples. So it needs to be merged into a single tuple\n",
    "    matches = sum(mol.GetSubstructMatches(substructure, useChirality = True), ())\n",
    "    drawer.DrawMolecule(mol, highlightAtoms=matches)\n",
    "    \n",
    "    drawer.FinishDrawing()\n",
    "    svg = drawer.GetDrawingText()\n",
    "    \n",
    "    return svg.replace('svg:','')\n",
    "\n",
    "\n",
    "mol = Chem.MolFromSmiles('C[C@]12CC[C@@H]3c4ccc(O)cc4CC[C@@H]3[C@@H]1CC[C@@H]2O')\n",
    "substructure = Chem.MolFromSmarts('[C&H3:1][C@:2]1([C&H2:3])[C@&H1:4][C&H2:5][C&H2:6][C@@&H1:7]1[O&H1:8]')\n",
    "SVG(increase_resolution(mol, substructure))"
   ]
  },
  {
   "cell_type": "code",
   "execution_count": 60,
   "id": "c4661e36",
   "metadata": {},
   "outputs": [
    {
     "data": {
      "image/svg+xml": [
       "<svg xmlns=\"http://www.w3.org/2000/svg\" xmlns:rdkit=\"http://www.rdkit.org/xml\" xmlns:xlink=\"http://www.w3.org/1999/xlink\" version=\"1.1\" baseProfile=\"full\" xml:space=\"preserve\" width=\"400px\" height=\"200px\" viewBox=\"0 0 400 200\">\n",
       "<!-- END OF HEADER -->\n",
       "<rect style=\"opacity:1.0;fill:#FFFFFF;stroke:none\" width=\"400.0\" height=\"200.0\" x=\"0.0\" y=\"0.0\"> </rect>\n",
       "<path class=\"bond-0 atom-0 atom-1\" d=\"M 96.0,58.1 L 115.7,88.3 L 115.7,96.8 L 108.0,93.4 L 88.3,63.2 Z\" style=\"fill:#FF7F7F;fill-rule:evenodd;fill-opacity:1;stroke:#FF7F7F;stroke-width:0.0px;stroke-linecap:butt;stroke-linejoin:miter;stroke-opacity:1;\"/>\n",
       "<path class=\"bond-1 atom-1 atom-2\" d=\"M 135.3,58.0 L 143.0,63.0 L 121.0,97.1 L 115.7,96.8 L 115.7,88.3 Z\" style=\"fill:#FF7F7F;fill-rule:evenodd;fill-opacity:1;stroke:#FF7F7F;stroke-width:0.0px;stroke-linecap:butt;stroke-linejoin:miter;stroke-opacity:1;\"/>\n",
       "<path class=\"bond-21 atom-1 atom-17\" d=\"M 115.7,96.8 L 121.0,97.1 L 141.0,136.1 L 129.8,134.3 L 113.1,101.9 Z\" style=\"fill:#FF7F7F;fill-rule:evenodd;fill-opacity:1;stroke:#FF7F7F;stroke-width:0.0px;stroke-linecap:butt;stroke-linejoin:miter;stroke-opacity:1;\"/>\n",
       "<path class=\"bond-22 atom-1 atom-20\" d=\"M 108.0,93.4 L 115.7,96.8 L 113.1,101.9 L 77.1,107.7 L 73.1,103.6 L 74.7,98.7 Z\" style=\"fill:#FF7F7F;fill-rule:evenodd;fill-opacity:1;stroke:#FF7F7F;stroke-width:0.0px;stroke-linecap:butt;stroke-linejoin:miter;stroke-opacity:1;\"/>\n",
       "<path class=\"bond-17 atom-17 atom-18\" d=\"M 129.8,134.3 L 141.0,136.1 L 105.8,171.4 L 104.0,160.2 Z\" style=\"fill:#FF7F7F;fill-rule:evenodd;fill-opacity:1;stroke:#FF7F7F;stroke-width:0.0px;stroke-linecap:butt;stroke-linejoin:miter;stroke-opacity:1;\"/>\n",
       "<path class=\"bond-18 atom-18 atom-19\" d=\"M 71.5,143.7 L 104.0,160.2 L 105.8,171.4 L 61.4,148.9 Z\" style=\"fill:#FF7F7F;fill-rule:evenodd;fill-opacity:1;stroke:#FF7F7F;stroke-width:0.0px;stroke-linecap:butt;stroke-linejoin:miter;stroke-opacity:1;\"/>\n",
       "<path class=\"bond-19 atom-19 atom-20\" d=\"M 73.1,103.6 L 77.1,107.7 L 71.5,143.7 L 61.4,148.9 L 68.2,105.2 Z\" style=\"fill:#FF7F7F;fill-rule:evenodd;fill-opacity:1;stroke:#FF7F7F;stroke-width:0.0px;stroke-linecap:butt;stroke-linejoin:miter;stroke-opacity:1;\"/>\n",
       "<path class=\"bond-20 atom-20 atom-21\" d=\"M 45.8,69.9 L 74.7,98.7 L 73.1,103.6 L 68.2,105.2 L 39.3,76.4 Z\" style=\"fill:#FF7F7F;fill-rule:evenodd;fill-opacity:1;stroke:#FF7F7F;stroke-width:0.0px;stroke-linecap:butt;stroke-linejoin:miter;stroke-opacity:1;\"/>\n",
       "<ellipse cx=\"92.1\" cy=\"60.6\" rx=\"8.6\" ry=\"8.6\" class=\"atom-0\" style=\"fill:#FF7F7F;fill-rule:evenodd;stroke:#FF7F7F;stroke-width:1.0px;stroke-linecap:butt;stroke-linejoin:miter;stroke-opacity:1\"/>\n",
       "<ellipse cx=\"115.7\" cy=\"96.8\" rx=\"8.6\" ry=\"8.6\" class=\"atom-1\" style=\"fill:#FF7F7F;fill-rule:evenodd;stroke:#FF7F7F;stroke-width:1.0px;stroke-linecap:butt;stroke-linejoin:miter;stroke-opacity:1\"/>\n",
       "<ellipse cx=\"139.1\" cy=\"60.5\" rx=\"8.6\" ry=\"8.6\" class=\"atom-2\" style=\"fill:#FF7F7F;fill-rule:evenodd;stroke:#FF7F7F;stroke-width:1.0px;stroke-linecap:butt;stroke-linejoin:miter;stroke-opacity:1\"/>\n",
       "<ellipse cx=\"135.4\" cy=\"135.2\" rx=\"8.6\" ry=\"8.6\" class=\"atom-17\" style=\"fill:#FF7F7F;fill-rule:evenodd;stroke:#FF7F7F;stroke-width:1.0px;stroke-linecap:butt;stroke-linejoin:miter;stroke-opacity:1\"/>\n",
       "<ellipse cx=\"104.9\" cy=\"165.8\" rx=\"8.6\" ry=\"8.6\" class=\"atom-18\" style=\"fill:#FF7F7F;fill-rule:evenodd;stroke:#FF7F7F;stroke-width:1.0px;stroke-linecap:butt;stroke-linejoin:miter;stroke-opacity:1\"/>\n",
       "<ellipse cx=\"66.4\" cy=\"146.3\" rx=\"8.6\" ry=\"8.6\" class=\"atom-19\" style=\"fill:#FF7F7F;fill-rule:evenodd;stroke:#FF7F7F;stroke-width:1.0px;stroke-linecap:butt;stroke-linejoin:miter;stroke-opacity:1\"/>\n",
       "<ellipse cx=\"73.1\" cy=\"103.6\" rx=\"8.6\" ry=\"8.6\" class=\"atom-20\" style=\"fill:#FF7F7F;fill-rule:evenodd;stroke:#FF7F7F;stroke-width:1.0px;stroke-linecap:butt;stroke-linejoin:miter;stroke-opacity:1\"/>\n",
       "<ellipse cx=\"36.5\" cy=\"73.3\" rx=\"16.5\" ry=\"8.9\" class=\"atom-21\" style=\"fill:#FF7F7F;fill-rule:evenodd;stroke:#FF7F7F;stroke-width:1.0px;stroke-linecap:butt;stroke-linejoin:miter;stroke-opacity:1\"/>\n",
       "<path class=\"bond-0 atom-1 atom-0\" d=\"M 113.5,93.9 L 114.0,93.6\" style=\"fill:none;fill-rule:evenodd;stroke:#000000;stroke-width:1.0px;stroke-linecap:butt;stroke-linejoin:miter;stroke-opacity:1\"/>\n",
       "<path class=\"bond-0 atom-1 atom-0\" d=\"M 111.3,91.1 L 112.2,90.5\" style=\"fill:none;fill-rule:evenodd;stroke:#000000;stroke-width:1.0px;stroke-linecap:butt;stroke-linejoin:miter;stroke-opacity:1\"/>\n",
       "<path class=\"bond-0 atom-1 atom-0\" d=\"M 109.1,88.2 L 110.5,87.3\" style=\"fill:none;fill-rule:evenodd;stroke:#000000;stroke-width:1.0px;stroke-linecap:butt;stroke-linejoin:miter;stroke-opacity:1\"/>\n",
       "<path class=\"bond-0 atom-1 atom-0\" d=\"M 107.0,85.3 L 108.8,84.1\" style=\"fill:none;fill-rule:evenodd;stroke:#000000;stroke-width:1.0px;stroke-linecap:butt;stroke-linejoin:miter;stroke-opacity:1\"/>\n",
       "<path class=\"bond-0 atom-1 atom-0\" d=\"M 104.8,82.5 L 107.0,81.0\" style=\"fill:none;fill-rule:evenodd;stroke:#000000;stroke-width:1.0px;stroke-linecap:butt;stroke-linejoin:miter;stroke-opacity:1\"/>\n",
       "<path class=\"bond-0 atom-1 atom-0\" d=\"M 102.6,79.6 L 105.3,77.8\" style=\"fill:none;fill-rule:evenodd;stroke:#000000;stroke-width:1.0px;stroke-linecap:butt;stroke-linejoin:miter;stroke-opacity:1\"/>\n",
       "<path class=\"bond-0 atom-1 atom-0\" d=\"M 100.4,76.7 L 103.5,74.7\" style=\"fill:none;fill-rule:evenodd;stroke:#000000;stroke-width:1.0px;stroke-linecap:butt;stroke-linejoin:miter;stroke-opacity:1\"/>\n",
       "<path class=\"bond-0 atom-1 atom-0\" d=\"M 98.2,73.9 L 101.8,71.5\" style=\"fill:none;fill-rule:evenodd;stroke:#000000;stroke-width:1.0px;stroke-linecap:butt;stroke-linejoin:miter;stroke-opacity:1\"/>\n",
       "<path class=\"bond-0 atom-1 atom-0\" d=\"M 96.0,71.0 L 100.1,68.3\" style=\"fill:none;fill-rule:evenodd;stroke:#000000;stroke-width:1.0px;stroke-linecap:butt;stroke-linejoin:miter;stroke-opacity:1\"/>\n",
       "<path class=\"bond-0 atom-1 atom-0\" d=\"M 93.8,68.1 L 98.3,65.2\" style=\"fill:none;fill-rule:evenodd;stroke:#000000;stroke-width:1.0px;stroke-linecap:butt;stroke-linejoin:miter;stroke-opacity:1\"/>\n",
       "<path class=\"bond-0 atom-1 atom-0\" d=\"M 91.6,65.3 L 96.6,62.0\" style=\"fill:none;fill-rule:evenodd;stroke:#000000;stroke-width:1.0px;stroke-linecap:butt;stroke-linejoin:miter;stroke-opacity:1\"/>\n",
       "<path class=\"bond-0 atom-1 atom-0\" d=\"M 89.4,62.4 L 94.8,58.9\" style=\"fill:none;fill-rule:evenodd;stroke:#000000;stroke-width:1.0px;stroke-linecap:butt;stroke-linejoin:miter;stroke-opacity:1\"/>\n",
       "<path class=\"bond-1 atom-1 atom-2\" d=\"M 115.7,96.8 L 139.1,60.5\" style=\"fill:none;fill-rule:evenodd;stroke:#000000;stroke-width:2.0px;stroke-linecap:butt;stroke-linejoin:miter;stroke-opacity:1\"/>\n",
       "<path class=\"bond-2 atom-2 atom-3\" d=\"M 139.1,60.5 L 182.3,62.7\" style=\"fill:none;fill-rule:evenodd;stroke:#000000;stroke-width:2.0px;stroke-linecap:butt;stroke-linejoin:miter;stroke-opacity:1\"/>\n",
       "<path class=\"bond-3 atom-3 atom-4\" d=\"M 183.9,59.5 L 184.5,59.9\" style=\"fill:none;fill-rule:evenodd;stroke:#000000;stroke-width:1.0px;stroke-linecap:butt;stroke-linejoin:miter;stroke-opacity:1\"/>\n",
       "<path class=\"bond-3 atom-3 atom-4\" d=\"M 185.5,56.3 L 186.7,57.1\" style=\"fill:none;fill-rule:evenodd;stroke:#000000;stroke-width:1.0px;stroke-linecap:butt;stroke-linejoin:miter;stroke-opacity:1\"/>\n",
       "<path class=\"bond-3 atom-3 atom-4\" d=\"M 187.2,53.1 L 189.0,54.3\" style=\"fill:none;fill-rule:evenodd;stroke:#000000;stroke-width:1.0px;stroke-linecap:butt;stroke-linejoin:miter;stroke-opacity:1\"/>\n",
       "<path class=\"bond-3 atom-3 atom-4\" d=\"M 188.8,49.9 L 191.2,51.5\" style=\"fill:none;fill-rule:evenodd;stroke:#000000;stroke-width:1.0px;stroke-linecap:butt;stroke-linejoin:miter;stroke-opacity:1\"/>\n",
       "<path class=\"bond-3 atom-3 atom-4\" d=\"M 190.5,46.7 L 193.5,48.7\" style=\"fill:none;fill-rule:evenodd;stroke:#FF0000;stroke-width:1.0px;stroke-linecap:butt;stroke-linejoin:miter;stroke-opacity:1\"/>\n",
       "<path class=\"bond-3 atom-3 atom-4\" d=\"M 192.1,43.5 L 195.7,45.8\" style=\"fill:none;fill-rule:evenodd;stroke:#FF0000;stroke-width:1.0px;stroke-linecap:butt;stroke-linejoin:miter;stroke-opacity:1\"/>\n",
       "<path class=\"bond-3 atom-3 atom-4\" d=\"M 193.7,40.3 L 198.0,43.0\" style=\"fill:none;fill-rule:evenodd;stroke:#FF0000;stroke-width:1.0px;stroke-linecap:butt;stroke-linejoin:miter;stroke-opacity:1\"/>\n",
       "<path class=\"bond-3 atom-3 atom-4\" d=\"M 195.4,37.1 L 200.2,40.2\" style=\"fill:none;fill-rule:evenodd;stroke:#FF0000;stroke-width:1.0px;stroke-linecap:butt;stroke-linejoin:miter;stroke-opacity:1\"/>\n",
       "<path class=\"bond-3 atom-3 atom-4\" d=\"M 197.0,33.9 L 202.5,37.4\" style=\"fill:none;fill-rule:evenodd;stroke:#FF0000;stroke-width:1.0px;stroke-linecap:butt;stroke-linejoin:miter;stroke-opacity:1\"/>\n",
       "<path class=\"bond-4 atom-3 atom-5\" d=\"M 182.3,62.7 L 201.9,101.1\" style=\"fill:none;fill-rule:evenodd;stroke:#000000;stroke-width:2.0px;stroke-linecap:butt;stroke-linejoin:miter;stroke-opacity:1\"/>\n",
       "<path class=\"bond-5 atom-5 atom-6\" d=\"M 201.9,101.1 L 178.5,137.4\" style=\"fill:none;fill-rule:evenodd;stroke:#000000;stroke-width:2.0px;stroke-linecap:butt;stroke-linejoin:miter;stroke-opacity:1\"/>\n",
       "<path class=\"bond-6 atom-6 atom-7\" d=\"M 178.5,137.4 L 198.2,175.8\" style=\"fill:none;fill-rule:evenodd;stroke:#000000;stroke-width:2.0px;stroke-linecap:butt;stroke-linejoin:miter;stroke-opacity:1\"/>\n",
       "<path class=\"bond-7 atom-7 atom-8\" d=\"M 198.2,175.8 L 241.3,178.0\" style=\"fill:none;fill-rule:evenodd;stroke:#000000;stroke-width:2.0px;stroke-linecap:butt;stroke-linejoin:miter;stroke-opacity:1\"/>\n",
       "<path class=\"bond-8 atom-8 atom-9\" d=\"M 241.3,178.0 L 264.7,141.7\" style=\"fill:none;fill-rule:evenodd;stroke:#000000;stroke-width:2.0px;stroke-linecap:butt;stroke-linejoin:miter;stroke-opacity:1\"/>\n",
       "<path class=\"bond-9 atom-9 atom-10\" d=\"M 264.7,141.7 L 307.8,143.9\" style=\"fill:none;fill-rule:evenodd;stroke:#000000;stroke-width:2.0px;stroke-linecap:butt;stroke-linejoin:miter;stroke-opacity:1\"/>\n",
       "<path class=\"bond-9 atom-9 atom-10\" d=\"M 268.8,135.4 L 304.4,137.2\" style=\"fill:none;fill-rule:evenodd;stroke:#000000;stroke-width:2.0px;stroke-linecap:butt;stroke-linejoin:miter;stroke-opacity:1\"/>\n",
       "<path class=\"bond-10 atom-10 atom-11\" d=\"M 307.8,143.9 L 331.3,107.6\" style=\"fill:none;fill-rule:evenodd;stroke:#000000;stroke-width:2.0px;stroke-linecap:butt;stroke-linejoin:miter;stroke-opacity:1\"/>\n",
       "<path class=\"bond-11 atom-11 atom-12\" d=\"M 329.2,110.7 L 348.2,111.7\" style=\"fill:none;fill-rule:evenodd;stroke:#000000;stroke-width:2.0px;stroke-linecap:butt;stroke-linejoin:miter;stroke-opacity:1\"/>\n",
       "<path class=\"bond-11 atom-11 atom-12\" d=\"M 348.2,111.7 L 367.2,112.7\" style=\"fill:none;fill-rule:evenodd;stroke:#FF0000;stroke-width:2.0px;stroke-linecap:butt;stroke-linejoin:miter;stroke-opacity:1\"/>\n",
       "<path class=\"bond-11 atom-11 atom-12\" d=\"M 329.6,104.3 L 348.5,105.2\" style=\"fill:none;fill-rule:evenodd;stroke:#000000;stroke-width:2.0px;stroke-linecap:butt;stroke-linejoin:miter;stroke-opacity:1\"/>\n",
       "<path class=\"bond-11 atom-11 atom-12\" d=\"M 348.5,105.2 L 367.5,106.2\" style=\"fill:none;fill-rule:evenodd;stroke:#FF0000;stroke-width:2.0px;stroke-linecap:butt;stroke-linejoin:miter;stroke-opacity:1\"/>\n",
       "<path class=\"bond-12 atom-11 atom-13\" d=\"M 331.3,107.6 L 311.6,69.2\" style=\"fill:none;fill-rule:evenodd;stroke:#000000;stroke-width:2.0px;stroke-linecap:butt;stroke-linejoin:miter;stroke-opacity:1\"/>\n",
       "<path class=\"bond-13 atom-13 atom-14\" d=\"M 311.6,69.2 L 268.5,67.0\" style=\"fill:none;fill-rule:evenodd;stroke:#000000;stroke-width:2.0px;stroke-linecap:butt;stroke-linejoin:miter;stroke-opacity:1\"/>\n",
       "<path class=\"bond-14 atom-14 atom-15\" d=\"M 268.5,67.0 L 245.1,103.3\" style=\"fill:none;fill-rule:evenodd;stroke:#000000;stroke-width:2.0px;stroke-linecap:butt;stroke-linejoin:miter;stroke-opacity:1\"/>\n",
       "<path class=\"bond-15 atom-15 atom-16\" d=\"M 243.3,106.4 L 242.9,106.2\" style=\"fill:none;fill-rule:evenodd;stroke:#000000;stroke-width:1.0px;stroke-linecap:butt;stroke-linejoin:miter;stroke-opacity:1\"/>\n",
       "<path class=\"bond-15 atom-15 atom-16\" d=\"M 241.6,109.6 L 240.7,109.0\" style=\"fill:none;fill-rule:evenodd;stroke:#000000;stroke-width:1.0px;stroke-linecap:butt;stroke-linejoin:miter;stroke-opacity:1\"/>\n",
       "<path class=\"bond-15 atom-15 atom-16\" d=\"M 239.9,112.8 L 238.5,111.9\" style=\"fill:none;fill-rule:evenodd;stroke:#000000;stroke-width:1.0px;stroke-linecap:butt;stroke-linejoin:miter;stroke-opacity:1\"/>\n",
       "<path class=\"bond-15 atom-15 atom-16\" d=\"M 238.1,116.0 L 236.3,114.8\" style=\"fill:none;fill-rule:evenodd;stroke:#000000;stroke-width:1.0px;stroke-linecap:butt;stroke-linejoin:miter;stroke-opacity:1\"/>\n",
       "<path class=\"bond-15 atom-15 atom-16\" d=\"M 236.4,119.1 L 234.2,117.7\" style=\"fill:none;fill-rule:evenodd;stroke:#000000;stroke-width:1.0px;stroke-linecap:butt;stroke-linejoin:miter;stroke-opacity:1\"/>\n",
       "<path class=\"bond-15 atom-15 atom-16\" d=\"M 234.7,122.3 L 232.0,120.5\" style=\"fill:none;fill-rule:evenodd;stroke:#000000;stroke-width:1.0px;stroke-linecap:butt;stroke-linejoin:miter;stroke-opacity:1\"/>\n",
       "<path class=\"bond-15 atom-15 atom-16\" d=\"M 233.0,125.5 L 229.8,123.4\" style=\"fill:none;fill-rule:evenodd;stroke:#000000;stroke-width:1.0px;stroke-linecap:butt;stroke-linejoin:miter;stroke-opacity:1\"/>\n",
       "<path class=\"bond-15 atom-15 atom-16\" d=\"M 231.2,128.6 L 227.6,126.3\" style=\"fill:none;fill-rule:evenodd;stroke:#000000;stroke-width:1.0px;stroke-linecap:butt;stroke-linejoin:miter;stroke-opacity:1\"/>\n",
       "<path class=\"bond-15 atom-15 atom-16\" d=\"M 229.5,131.8 L 225.4,129.2\" style=\"fill:none;fill-rule:evenodd;stroke:#000000;stroke-width:1.0px;stroke-linecap:butt;stroke-linejoin:miter;stroke-opacity:1\"/>\n",
       "<path class=\"bond-15 atom-15 atom-16\" d=\"M 227.8,135.0 L 223.3,132.0\" style=\"fill:none;fill-rule:evenodd;stroke:#000000;stroke-width:1.0px;stroke-linecap:butt;stroke-linejoin:miter;stroke-opacity:1\"/>\n",
       "<path class=\"bond-15 atom-15 atom-16\" d=\"M 226.1,138.1 L 221.1,134.9\" style=\"fill:none;fill-rule:evenodd;stroke:#000000;stroke-width:1.0px;stroke-linecap:butt;stroke-linejoin:miter;stroke-opacity:1\"/>\n",
       "<path class=\"bond-15 atom-15 atom-16\" d=\"M 224.3,141.3 L 218.9,137.8\" style=\"fill:none;fill-rule:evenodd;stroke:#000000;stroke-width:1.0px;stroke-linecap:butt;stroke-linejoin:miter;stroke-opacity:1\"/>\n",
       "<path class=\"bond-16 atom-6 atom-17\" d=\"M 178.5,137.4 L 135.4,135.2\" style=\"fill:none;fill-rule:evenodd;stroke:#000000;stroke-width:2.0px;stroke-linecap:butt;stroke-linejoin:miter;stroke-opacity:1\"/>\n",
       "<path class=\"bond-17 atom-17 atom-18\" d=\"M 135.4,135.2 L 104.9,165.8\" style=\"fill:none;fill-rule:evenodd;stroke:#000000;stroke-width:2.0px;stroke-linecap:butt;stroke-linejoin:miter;stroke-opacity:1\"/>\n",
       "<path class=\"bond-18 atom-18 atom-19\" d=\"M 104.9,165.8 L 66.4,146.3\" style=\"fill:none;fill-rule:evenodd;stroke:#000000;stroke-width:2.0px;stroke-linecap:butt;stroke-linejoin:miter;stroke-opacity:1\"/>\n",
       "<path class=\"bond-19 atom-19 atom-20\" d=\"M 66.4,146.3 L 73.1,103.6\" style=\"fill:none;fill-rule:evenodd;stroke:#000000;stroke-width:2.0px;stroke-linecap:butt;stroke-linejoin:miter;stroke-opacity:1\"/>\n",
       "<path class=\"bond-20 atom-20 atom-21\" d=\"M 70.4,101.4 L 70.9,100.9\" style=\"fill:none;fill-rule:evenodd;stroke:#000000;stroke-width:1.0px;stroke-linecap:butt;stroke-linejoin:miter;stroke-opacity:1\"/>\n",
       "<path class=\"bond-20 atom-20 atom-21\" d=\"M 67.7,99.2 L 68.7,98.2\" style=\"fill:none;fill-rule:evenodd;stroke:#000000;stroke-width:1.0px;stroke-linecap:butt;stroke-linejoin:miter;stroke-opacity:1\"/>\n",
       "<path class=\"bond-20 atom-20 atom-21\" d=\"M 65.0,97.1 L 66.5,95.5\" style=\"fill:none;fill-rule:evenodd;stroke:#000000;stroke-width:1.0px;stroke-linecap:butt;stroke-linejoin:miter;stroke-opacity:1\"/>\n",
       "<path class=\"bond-20 atom-20 atom-21\" d=\"M 62.2,94.9 L 64.3,92.8\" style=\"fill:none;fill-rule:evenodd;stroke:#000000;stroke-width:1.0px;stroke-linecap:butt;stroke-linejoin:miter;stroke-opacity:1\"/>\n",
       "<path class=\"bond-20 atom-20 atom-21\" d=\"M 59.5,92.7 L 62.1,90.1\" style=\"fill:none;fill-rule:evenodd;stroke:#FF0000;stroke-width:1.0px;stroke-linecap:butt;stroke-linejoin:miter;stroke-opacity:1\"/>\n",
       "<path class=\"bond-20 atom-20 atom-21\" d=\"M 56.8,90.5 L 59.9,87.4\" style=\"fill:none;fill-rule:evenodd;stroke:#FF0000;stroke-width:1.0px;stroke-linecap:butt;stroke-linejoin:miter;stroke-opacity:1\"/>\n",
       "<path class=\"bond-20 atom-20 atom-21\" d=\"M 54.1,88.3 L 57.7,84.7\" style=\"fill:none;fill-rule:evenodd;stroke:#FF0000;stroke-width:1.0px;stroke-linecap:butt;stroke-linejoin:miter;stroke-opacity:1\"/>\n",
       "<path class=\"bond-20 atom-20 atom-21\" d=\"M 51.4,86.1 L 55.5,82.0\" style=\"fill:none;fill-rule:evenodd;stroke:#FF0000;stroke-width:1.0px;stroke-linecap:butt;stroke-linejoin:miter;stroke-opacity:1\"/>\n",
       "<path class=\"bond-20 atom-20 atom-21\" d=\"M 48.7,83.9 L 53.3,79.3\" style=\"fill:none;fill-rule:evenodd;stroke:#FF0000;stroke-width:1.0px;stroke-linecap:butt;stroke-linejoin:miter;stroke-opacity:1\"/>\n",
       "<path class=\"bond-21 atom-17 atom-1\" d=\"M 135.4,135.2 L 115.7,96.8\" style=\"fill:none;fill-rule:evenodd;stroke:#000000;stroke-width:2.0px;stroke-linecap:butt;stroke-linejoin:miter;stroke-opacity:1\"/>\n",
       "<path class=\"bond-22 atom-20 atom-1\" d=\"M 73.1,103.6 L 115.7,96.8\" style=\"fill:none;fill-rule:evenodd;stroke:#000000;stroke-width:2.0px;stroke-linecap:butt;stroke-linejoin:miter;stroke-opacity:1\"/>\n",
       "<path class=\"bond-23 atom-15 atom-5\" d=\"M 245.1,103.3 L 201.9,101.1\" style=\"fill:none;fill-rule:evenodd;stroke:#000000;stroke-width:2.0px;stroke-linecap:butt;stroke-linejoin:miter;stroke-opacity:1\"/>\n",
       "<path class=\"bond-24 atom-15 atom-9\" d=\"M 245.1,103.3 L 264.7,141.7\" style=\"fill:none;fill-rule:evenodd;stroke:#000000;stroke-width:2.0px;stroke-linecap:butt;stroke-linejoin:miter;stroke-opacity:1\"/>\n",
       "<path class=\"bond-25 atom-5 atom-22\" d=\"M 203.6,97.9 L 204.2,98.3\" style=\"fill:none;fill-rule:evenodd;stroke:#000000;stroke-width:1.0px;stroke-linecap:butt;stroke-linejoin:miter;stroke-opacity:1\"/>\n",
       "<path class=\"bond-25 atom-5 atom-22\" d=\"M 205.3,94.7 L 206.5,95.4\" style=\"fill:none;fill-rule:evenodd;stroke:#000000;stroke-width:1.0px;stroke-linecap:butt;stroke-linejoin:miter;stroke-opacity:1\"/>\n",
       "<path class=\"bond-25 atom-5 atom-22\" d=\"M 206.9,91.4 L 208.7,92.6\" style=\"fill:none;fill-rule:evenodd;stroke:#000000;stroke-width:1.0px;stroke-linecap:butt;stroke-linejoin:miter;stroke-opacity:1\"/>\n",
       "<path class=\"bond-25 atom-5 atom-22\" d=\"M 208.6,88.2 L 211.0,89.8\" style=\"fill:none;fill-rule:evenodd;stroke:#000000;stroke-width:1.0px;stroke-linecap:butt;stroke-linejoin:miter;stroke-opacity:1\"/>\n",
       "<path class=\"bond-25 atom-5 atom-22\" d=\"M 210.2,85.0 L 213.3,86.9\" style=\"fill:none;fill-rule:evenodd;stroke:#000000;stroke-width:1.0px;stroke-linecap:butt;stroke-linejoin:miter;stroke-opacity:1\"/>\n",
       "<path class=\"bond-25 atom-5 atom-22\" d=\"M 211.9,81.8 L 215.5,84.1\" style=\"fill:none;fill-rule:evenodd;stroke:#000000;stroke-width:1.0px;stroke-linecap:butt;stroke-linejoin:miter;stroke-opacity:1\"/>\n",
       "<path class=\"bond-25 atom-5 atom-22\" d=\"M 213.5,78.5 L 217.8,81.3\" style=\"fill:none;fill-rule:evenodd;stroke:#000000;stroke-width:1.0px;stroke-linecap:butt;stroke-linejoin:miter;stroke-opacity:1\"/>\n",
       "<path class=\"bond-25 atom-5 atom-22\" d=\"M 215.2,75.3 L 220.0,78.4\" style=\"fill:none;fill-rule:evenodd;stroke:#000000;stroke-width:1.0px;stroke-linecap:butt;stroke-linejoin:miter;stroke-opacity:1\"/>\n",
       "<path class=\"bond-25 atom-5 atom-22\" d=\"M 216.9,72.1 L 222.3,75.6\" style=\"fill:none;fill-rule:evenodd;stroke:#000000;stroke-width:1.0px;stroke-linecap:butt;stroke-linejoin:miter;stroke-opacity:1\"/>\n",
       "<path class=\"bond-26 atom-6 atom-23\" d=\"M 176.9,140.6 L 176.2,140.2\" style=\"fill:none;fill-rule:evenodd;stroke:#000000;stroke-width:1.0px;stroke-linecap:butt;stroke-linejoin:miter;stroke-opacity:1\"/>\n",
       "<path class=\"bond-26 atom-6 atom-23\" d=\"M 175.2,143.8 L 174.0,143.0\" style=\"fill:none;fill-rule:evenodd;stroke:#000000;stroke-width:1.0px;stroke-linecap:butt;stroke-linejoin:miter;stroke-opacity:1\"/>\n",
       "<path class=\"bond-26 atom-6 atom-23\" d=\"M 173.5,147.1 L 171.7,145.9\" style=\"fill:none;fill-rule:evenodd;stroke:#000000;stroke-width:1.0px;stroke-linecap:butt;stroke-linejoin:miter;stroke-opacity:1\"/>\n",
       "<path class=\"bond-26 atom-6 atom-23\" d=\"M 171.9,150.3 L 169.5,148.7\" style=\"fill:none;fill-rule:evenodd;stroke:#000000;stroke-width:1.0px;stroke-linecap:butt;stroke-linejoin:miter;stroke-opacity:1\"/>\n",
       "<path class=\"bond-26 atom-6 atom-23\" d=\"M 170.2,153.5 L 167.2,151.6\" style=\"fill:none;fill-rule:evenodd;stroke:#000000;stroke-width:1.0px;stroke-linecap:butt;stroke-linejoin:miter;stroke-opacity:1\"/>\n",
       "<path class=\"bond-26 atom-6 atom-23\" d=\"M 168.6,156.7 L 164.9,154.4\" style=\"fill:none;fill-rule:evenodd;stroke:#000000;stroke-width:1.0px;stroke-linecap:butt;stroke-linejoin:miter;stroke-opacity:1\"/>\n",
       "<path class=\"bond-26 atom-6 atom-23\" d=\"M 166.9,160.0 L 162.7,157.2\" style=\"fill:none;fill-rule:evenodd;stroke:#000000;stroke-width:1.0px;stroke-linecap:butt;stroke-linejoin:miter;stroke-opacity:1\"/>\n",
       "<path class=\"bond-26 atom-6 atom-23\" d=\"M 165.3,163.2 L 160.4,160.1\" style=\"fill:none;fill-rule:evenodd;stroke:#000000;stroke-width:1.0px;stroke-linecap:butt;stroke-linejoin:miter;stroke-opacity:1\"/>\n",
       "<path class=\"bond-26 atom-6 atom-23\" d=\"M 163.6,166.4 L 158.2,162.9\" style=\"fill:none;fill-rule:evenodd;stroke:#000000;stroke-width:1.0px;stroke-linecap:butt;stroke-linejoin:miter;stroke-opacity:1\"/>\n",
       "<path class=\"bond-27 atom-17 atom-24\" d=\"M 135.4,135.2 L 101.5,125.8 L 103.9,119.7 Z\" style=\"fill:#000000;fill-rule:evenodd;fill-opacity:1;stroke:#000000;stroke-width:0.5px;stroke-linecap:butt;stroke-linejoin:miter;stroke-opacity:1;\"/>\n",
       "<path d=\"M 138.0,62.3 L 139.1,60.5 L 141.3,60.6\" style=\"fill:none;stroke:#000000;stroke-width:2.0px;stroke-linecap:butt;stroke-linejoin:miter;stroke-opacity:1;\"/>\n",
       "<path d=\"M 180.1,62.6 L 182.3,62.7 L 183.2,64.6\" style=\"fill:none;stroke:#000000;stroke-width:2.0px;stroke-linecap:butt;stroke-linejoin:miter;stroke-opacity:1;\"/>\n",
       "<path d=\"M 197.2,173.9 L 198.2,175.8 L 200.3,175.9\" style=\"fill:none;stroke:#000000;stroke-width:2.0px;stroke-linecap:butt;stroke-linejoin:miter;stroke-opacity:1;\"/>\n",
       "<path d=\"M 239.1,177.8 L 241.3,178.0 L 242.5,176.1\" style=\"fill:none;stroke:#000000;stroke-width:2.0px;stroke-linecap:butt;stroke-linejoin:miter;stroke-opacity:1;\"/>\n",
       "<path d=\"M 305.7,143.8 L 307.8,143.9 L 309.0,142.0\" style=\"fill:none;stroke:#000000;stroke-width:2.0px;stroke-linecap:butt;stroke-linejoin:miter;stroke-opacity:1;\"/>\n",
       "<path d=\"M 330.1,109.4 L 331.3,107.6 L 330.3,105.7\" style=\"fill:none;stroke:#000000;stroke-width:2.0px;stroke-linecap:butt;stroke-linejoin:miter;stroke-opacity:1;\"/>\n",
       "<path d=\"M 312.6,71.1 L 311.6,69.2 L 309.4,69.1\" style=\"fill:none;stroke:#000000;stroke-width:2.0px;stroke-linecap:butt;stroke-linejoin:miter;stroke-opacity:1;\"/>\n",
       "<path d=\"M 270.6,67.1 L 268.5,67.0 L 267.3,68.8\" style=\"fill:none;stroke:#000000;stroke-width:2.0px;stroke-linecap:butt;stroke-linejoin:miter;stroke-opacity:1;\"/>\n",
       "<path d=\"M 106.5,164.3 L 104.9,165.8 L 103.0,164.8\" style=\"fill:none;stroke:#000000;stroke-width:2.0px;stroke-linecap:butt;stroke-linejoin:miter;stroke-opacity:1;\"/>\n",
       "<path d=\"M 68.4,147.3 L 66.4,146.3 L 66.8,144.2\" style=\"fill:none;stroke:#000000;stroke-width:2.0px;stroke-linecap:butt;stroke-linejoin:miter;stroke-opacity:1;\"/>\n",
       "<path d=\"M 72.8,105.8 L 73.1,103.6 L 75.2,103.3\" style=\"fill:none;stroke:#000000;stroke-width:2.0px;stroke-linecap:butt;stroke-linejoin:miter;stroke-opacity:1;\"/>\n",
       "<path class=\"atom-4\" d=\"M 200.1 26.5 Q 200.1 23.5, 201.5 21.9 Q 203.0 20.3, 205.7 20.3 Q 208.4 20.3, 209.9 21.9 Q 211.3 23.5, 211.3 26.5 Q 211.3 29.4, 209.8 31.1 Q 208.4 32.8, 205.7 32.8 Q 203.0 32.8, 201.5 31.1 Q 200.1 29.5, 200.1 26.5 M 205.7 31.4 Q 207.6 31.4, 208.6 30.2 Q 209.6 28.9, 209.6 26.5 Q 209.6 24.1, 208.6 22.9 Q 207.6 21.6, 205.7 21.6 Q 203.8 21.6, 202.8 22.9 Q 201.8 24.1, 201.8 26.5 Q 201.8 28.9, 202.8 30.2 Q 203.8 31.4, 205.7 31.4 \" fill=\"#FF0000\"/>\n",
       "<path class=\"atom-4\" d=\"M 213.2 20.4 L 214.9 20.4 L 214.9 25.6 L 221.1 25.6 L 221.1 20.4 L 222.8 20.4 L 222.8 32.6 L 221.1 32.6 L 221.1 27.0 L 214.9 27.0 L 214.9 32.6 L 213.2 32.6 L 213.2 20.4 \" fill=\"#FF0000\"/>\n",
       "<path class=\"atom-12\" d=\"M 368.8 109.8 Q 368.8 106.9, 370.2 105.2 Q 371.7 103.6, 374.4 103.6 Q 377.1 103.6, 378.5 105.2 Q 380.0 106.9, 380.0 109.8 Q 380.0 112.8, 378.5 114.5 Q 377.1 116.1, 374.4 116.1 Q 371.7 116.1, 370.2 114.5 Q 368.8 112.8, 368.8 109.8 M 374.4 114.8 Q 376.3 114.8, 377.3 113.5 Q 378.3 112.3, 378.3 109.8 Q 378.3 107.4, 377.3 106.2 Q 376.3 105.0, 374.4 105.0 Q 372.5 105.0, 371.5 106.2 Q 370.5 107.4, 370.5 109.8 Q 370.5 112.3, 371.5 113.5 Q 372.5 114.8, 374.4 114.8 \" fill=\"#FF0000\"/>\n",
       "<path class=\"atom-21\" d=\"M 24.8 67.1 L 26.5 67.1 L 26.5 72.3 L 32.7 72.3 L 32.7 67.1 L 34.4 67.1 L 34.4 79.4 L 32.7 79.4 L 32.7 73.7 L 26.5 73.7 L 26.5 79.4 L 24.8 79.4 L 24.8 67.1 \" fill=\"#FF0000\"/>\n",
       "<path class=\"atom-21\" d=\"M 36.9 73.2 Q 36.9 70.3, 38.3 68.6 Q 39.8 67.0, 42.5 67.0 Q 45.2 67.0, 46.7 68.6 Q 48.1 70.3, 48.1 73.2 Q 48.1 76.2, 46.7 77.9 Q 45.2 79.6, 42.5 79.6 Q 39.8 79.6, 38.3 77.9 Q 36.9 76.2, 36.9 73.2 M 42.5 78.2 Q 44.4 78.2, 45.4 76.9 Q 46.4 75.7, 46.4 73.2 Q 46.4 70.8, 45.4 69.6 Q 44.4 68.4, 42.5 68.4 Q 40.6 68.4, 39.6 69.6 Q 38.6 70.8, 38.6 73.2 Q 38.6 75.7, 39.6 76.9 Q 40.6 78.2, 42.5 78.2 \" fill=\"#FF0000\"/>\n",
       "<path class=\"atom-22\" d=\"M 220.6 58.8 L 222.2 58.8 L 222.2 63.9 L 228.5 63.9 L 228.5 58.8 L 230.2 58.8 L 230.2 71.0 L 228.5 71.0 L 228.5 65.3 L 222.2 65.3 L 222.2 71.0 L 220.6 71.0 L 220.6 58.8 \" fill=\"#000000\"/>\n",
       "<path class=\"atom-23\" d=\"M 150.3 167.5 L 152.0 167.5 L 152.0 172.7 L 158.2 172.7 L 158.2 167.5 L 159.9 167.5 L 159.9 179.7 L 158.2 179.7 L 158.2 174.1 L 152.0 174.1 L 152.0 179.7 L 150.3 179.7 L 150.3 167.5 \" fill=\"#000000\"/>\n",
       "<path class=\"atom-24\" d=\"M 90.3 113.7 L 91.9 113.7 L 91.9 118.9 L 98.2 118.9 L 98.2 113.7 L 99.9 113.7 L 99.9 125.9 L 98.2 125.9 L 98.2 120.3 L 91.9 120.3 L 91.9 125.9 L 90.3 125.9 L 90.3 113.7 \" fill=\"#000000\"/>\n",
       "</svg>"
      ],
      "text/plain": [
       "<IPython.core.display.SVG object>"
      ]
     },
     "execution_count": 60,
     "metadata": {},
     "output_type": "execute_result"
    }
   ],
   "source": [
    "def increase_resolution(mol, substructure, size=(400, 200)):\n",
    "    \n",
    "    mol = deepcopy(mol)\n",
    "    substructure = deepcopy(substructure)\n",
    "    drawer = rdMolDraw2D.MolDraw2DSVG(size[0], size[1])\n",
    "    \n",
    "    # highlightAtoms expects only one tuple, not tuple of tuples. So it needs to be merged into a single tuple\n",
    "    matches = sum(mol.GetSubstructMatches(substructure, useChirality = True), ())\n",
    "    drawer.DrawMolecule(mol, highlightAtoms=matches)\n",
    "    \n",
    "    drawer.FinishDrawing()\n",
    "    svg = drawer.GetDrawingText()\n",
    "    \n",
    "    return svg.replace('svg:','')\n",
    "\n",
    "\n",
    "mol = Chem.MolFromSmiles('C[C@]12C[C@H](O)[C@@H]3[C@@H](CCC4=CC(=O)CC[C@@]43C)[C@@H]1CC[C@@H]2O')\n",
    "substructure = Chem.MolFromSmarts('[C&H3:1][C@:2]1([C&H2:3])[C@&H1:4][C&H2:5][C&H2:6][C@@&H1:7]1[O&H1:8]')\n",
    "SVG(increase_resolution(mol, substructure))"
   ]
  },
  {
   "cell_type": "code",
   "execution_count": 61,
   "id": "329843c8",
   "metadata": {},
   "outputs": [
    {
     "data": {
      "image/svg+xml": [
       "<svg xmlns=\"http://www.w3.org/2000/svg\" xmlns:rdkit=\"http://www.rdkit.org/xml\" xmlns:xlink=\"http://www.w3.org/1999/xlink\" version=\"1.1\" baseProfile=\"full\" xml:space=\"preserve\" width=\"400px\" height=\"200px\" viewBox=\"0 0 400 200\">\n",
       "<!-- END OF HEADER -->\n",
       "<rect style=\"opacity:1.0;fill:#FFFFFF;stroke:none\" width=\"400.0\" height=\"200.0\" x=\"0.0\" y=\"0.0\"> </rect>\n",
       "<path class=\"bond-0 atom-0 atom-1\" d=\"M 96.0,58.1 L 115.7,88.3 L 115.7,96.8 L 108.0,93.4 L 88.3,63.2 Z\" style=\"fill:#FF7F7F;fill-rule:evenodd;fill-opacity:1;stroke:#FF7F7F;stroke-width:0.0px;stroke-linecap:butt;stroke-linejoin:miter;stroke-opacity:1;\"/>\n",
       "<path class=\"bond-1 atom-1 atom-2\" d=\"M 135.3,58.0 L 143.0,63.0 L 121.0,97.1 L 115.7,96.8 L 115.7,88.3 Z\" style=\"fill:#FF7F7F;fill-rule:evenodd;fill-opacity:1;stroke:#FF7F7F;stroke-width:0.0px;stroke-linecap:butt;stroke-linejoin:miter;stroke-opacity:1;\"/>\n",
       "<path class=\"bond-21 atom-1 atom-17\" d=\"M 115.7,96.8 L 121.0,97.1 L 141.0,136.1 L 129.8,134.3 L 113.1,101.9 Z\" style=\"fill:#FF7F7F;fill-rule:evenodd;fill-opacity:1;stroke:#FF7F7F;stroke-width:0.0px;stroke-linecap:butt;stroke-linejoin:miter;stroke-opacity:1;\"/>\n",
       "<path class=\"bond-22 atom-1 atom-20\" d=\"M 108.0,93.4 L 115.7,96.8 L 113.1,101.9 L 77.1,107.7 L 73.1,103.6 L 74.7,98.7 Z\" style=\"fill:#FF7F7F;fill-rule:evenodd;fill-opacity:1;stroke:#FF7F7F;stroke-width:0.0px;stroke-linecap:butt;stroke-linejoin:miter;stroke-opacity:1;\"/>\n",
       "<path class=\"bond-17 atom-17 atom-18\" d=\"M 129.8,134.3 L 141.0,136.1 L 105.8,171.4 L 104.0,160.2 Z\" style=\"fill:#FF7F7F;fill-rule:evenodd;fill-opacity:1;stroke:#FF7F7F;stroke-width:0.0px;stroke-linecap:butt;stroke-linejoin:miter;stroke-opacity:1;\"/>\n",
       "<path class=\"bond-18 atom-18 atom-19\" d=\"M 71.5,143.7 L 104.0,160.2 L 105.8,171.4 L 61.4,148.9 Z\" style=\"fill:#FF7F7F;fill-rule:evenodd;fill-opacity:1;stroke:#FF7F7F;stroke-width:0.0px;stroke-linecap:butt;stroke-linejoin:miter;stroke-opacity:1;\"/>\n",
       "<path class=\"bond-19 atom-19 atom-20\" d=\"M 73.1,103.6 L 77.1,107.7 L 71.5,143.7 L 61.4,148.9 L 68.2,105.2 Z\" style=\"fill:#FF7F7F;fill-rule:evenodd;fill-opacity:1;stroke:#FF7F7F;stroke-width:0.0px;stroke-linecap:butt;stroke-linejoin:miter;stroke-opacity:1;\"/>\n",
       "<path class=\"bond-20 atom-20 atom-21\" d=\"M 45.8,69.9 L 74.7,98.7 L 73.1,103.6 L 68.2,105.2 L 39.3,76.4 Z\" style=\"fill:#FF7F7F;fill-rule:evenodd;fill-opacity:1;stroke:#FF7F7F;stroke-width:0.0px;stroke-linecap:butt;stroke-linejoin:miter;stroke-opacity:1;\"/>\n",
       "<ellipse cx=\"92.1\" cy=\"60.6\" rx=\"8.6\" ry=\"8.6\" class=\"atom-0\" style=\"fill:#FF7F7F;fill-rule:evenodd;stroke:#FF7F7F;stroke-width:1.0px;stroke-linecap:butt;stroke-linejoin:miter;stroke-opacity:1\"/>\n",
       "<ellipse cx=\"115.7\" cy=\"96.8\" rx=\"8.6\" ry=\"8.6\" class=\"atom-1\" style=\"fill:#FF7F7F;fill-rule:evenodd;stroke:#FF7F7F;stroke-width:1.0px;stroke-linecap:butt;stroke-linejoin:miter;stroke-opacity:1\"/>\n",
       "<ellipse cx=\"139.1\" cy=\"60.5\" rx=\"8.6\" ry=\"8.6\" class=\"atom-2\" style=\"fill:#FF7F7F;fill-rule:evenodd;stroke:#FF7F7F;stroke-width:1.0px;stroke-linecap:butt;stroke-linejoin:miter;stroke-opacity:1\"/>\n",
       "<ellipse cx=\"135.4\" cy=\"135.2\" rx=\"8.6\" ry=\"8.6\" class=\"atom-17\" style=\"fill:#FF7F7F;fill-rule:evenodd;stroke:#FF7F7F;stroke-width:1.0px;stroke-linecap:butt;stroke-linejoin:miter;stroke-opacity:1\"/>\n",
       "<ellipse cx=\"104.9\" cy=\"165.8\" rx=\"8.6\" ry=\"8.6\" class=\"atom-18\" style=\"fill:#FF7F7F;fill-rule:evenodd;stroke:#FF7F7F;stroke-width:1.0px;stroke-linecap:butt;stroke-linejoin:miter;stroke-opacity:1\"/>\n",
       "<ellipse cx=\"66.4\" cy=\"146.3\" rx=\"8.6\" ry=\"8.6\" class=\"atom-19\" style=\"fill:#FF7F7F;fill-rule:evenodd;stroke:#FF7F7F;stroke-width:1.0px;stroke-linecap:butt;stroke-linejoin:miter;stroke-opacity:1\"/>\n",
       "<ellipse cx=\"73.1\" cy=\"103.6\" rx=\"8.6\" ry=\"8.6\" class=\"atom-20\" style=\"fill:#FF7F7F;fill-rule:evenodd;stroke:#FF7F7F;stroke-width:1.0px;stroke-linecap:butt;stroke-linejoin:miter;stroke-opacity:1\"/>\n",
       "<ellipse cx=\"36.5\" cy=\"73.3\" rx=\"16.5\" ry=\"8.9\" class=\"atom-21\" style=\"fill:#FF7F7F;fill-rule:evenodd;stroke:#FF7F7F;stroke-width:1.0px;stroke-linecap:butt;stroke-linejoin:miter;stroke-opacity:1\"/>\n",
       "<path class=\"bond-0 atom-1 atom-0\" d=\"M 113.5,93.9 L 114.0,93.6\" style=\"fill:none;fill-rule:evenodd;stroke:#000000;stroke-width:1.0px;stroke-linecap:butt;stroke-linejoin:miter;stroke-opacity:1\"/>\n",
       "<path class=\"bond-0 atom-1 atom-0\" d=\"M 111.3,91.1 L 112.2,90.5\" style=\"fill:none;fill-rule:evenodd;stroke:#000000;stroke-width:1.0px;stroke-linecap:butt;stroke-linejoin:miter;stroke-opacity:1\"/>\n",
       "<path class=\"bond-0 atom-1 atom-0\" d=\"M 109.1,88.2 L 110.5,87.3\" style=\"fill:none;fill-rule:evenodd;stroke:#000000;stroke-width:1.0px;stroke-linecap:butt;stroke-linejoin:miter;stroke-opacity:1\"/>\n",
       "<path class=\"bond-0 atom-1 atom-0\" d=\"M 107.0,85.3 L 108.8,84.1\" style=\"fill:none;fill-rule:evenodd;stroke:#000000;stroke-width:1.0px;stroke-linecap:butt;stroke-linejoin:miter;stroke-opacity:1\"/>\n",
       "<path class=\"bond-0 atom-1 atom-0\" d=\"M 104.8,82.5 L 107.0,81.0\" style=\"fill:none;fill-rule:evenodd;stroke:#000000;stroke-width:1.0px;stroke-linecap:butt;stroke-linejoin:miter;stroke-opacity:1\"/>\n",
       "<path class=\"bond-0 atom-1 atom-0\" d=\"M 102.6,79.6 L 105.3,77.8\" style=\"fill:none;fill-rule:evenodd;stroke:#000000;stroke-width:1.0px;stroke-linecap:butt;stroke-linejoin:miter;stroke-opacity:1\"/>\n",
       "<path class=\"bond-0 atom-1 atom-0\" d=\"M 100.4,76.7 L 103.5,74.7\" style=\"fill:none;fill-rule:evenodd;stroke:#000000;stroke-width:1.0px;stroke-linecap:butt;stroke-linejoin:miter;stroke-opacity:1\"/>\n",
       "<path class=\"bond-0 atom-1 atom-0\" d=\"M 98.2,73.9 L 101.8,71.5\" style=\"fill:none;fill-rule:evenodd;stroke:#000000;stroke-width:1.0px;stroke-linecap:butt;stroke-linejoin:miter;stroke-opacity:1\"/>\n",
       "<path class=\"bond-0 atom-1 atom-0\" d=\"M 96.0,71.0 L 100.1,68.3\" style=\"fill:none;fill-rule:evenodd;stroke:#000000;stroke-width:1.0px;stroke-linecap:butt;stroke-linejoin:miter;stroke-opacity:1\"/>\n",
       "<path class=\"bond-0 atom-1 atom-0\" d=\"M 93.8,68.1 L 98.3,65.2\" style=\"fill:none;fill-rule:evenodd;stroke:#000000;stroke-width:1.0px;stroke-linecap:butt;stroke-linejoin:miter;stroke-opacity:1\"/>\n",
       "<path class=\"bond-0 atom-1 atom-0\" d=\"M 91.6,65.3 L 96.6,62.0\" style=\"fill:none;fill-rule:evenodd;stroke:#000000;stroke-width:1.0px;stroke-linecap:butt;stroke-linejoin:miter;stroke-opacity:1\"/>\n",
       "<path class=\"bond-0 atom-1 atom-0\" d=\"M 89.4,62.4 L 94.8,58.9\" style=\"fill:none;fill-rule:evenodd;stroke:#000000;stroke-width:1.0px;stroke-linecap:butt;stroke-linejoin:miter;stroke-opacity:1\"/>\n",
       "<path class=\"bond-1 atom-1 atom-2\" d=\"M 115.7,96.8 L 139.1,60.5\" style=\"fill:none;fill-rule:evenodd;stroke:#000000;stroke-width:2.0px;stroke-linecap:butt;stroke-linejoin:miter;stroke-opacity:1\"/>\n",
       "<path class=\"bond-2 atom-2 atom-3\" d=\"M 139.1,60.5 L 182.3,62.7\" style=\"fill:none;fill-rule:evenodd;stroke:#000000;stroke-width:2.0px;stroke-linecap:butt;stroke-linejoin:miter;stroke-opacity:1\"/>\n",
       "<path class=\"bond-3 atom-3 atom-4\" d=\"M 184.0,66.0 L 193.7,51.0\" style=\"fill:none;fill-rule:evenodd;stroke:#000000;stroke-width:2.0px;stroke-linecap:butt;stroke-linejoin:miter;stroke-opacity:1\"/>\n",
       "<path class=\"bond-3 atom-3 atom-4\" d=\"M 193.7,51.0 L 203.4,36.0\" style=\"fill:none;fill-rule:evenodd;stroke:#FF0000;stroke-width:2.0px;stroke-linecap:butt;stroke-linejoin:miter;stroke-opacity:1\"/>\n",
       "<path class=\"bond-3 atom-3 atom-4\" d=\"M 178.5,62.5 L 188.2,47.5\" style=\"fill:none;fill-rule:evenodd;stroke:#000000;stroke-width:2.0px;stroke-linecap:butt;stroke-linejoin:miter;stroke-opacity:1\"/>\n",
       "<path class=\"bond-3 atom-3 atom-4\" d=\"M 188.2,47.5 L 197.9,32.5\" style=\"fill:none;fill-rule:evenodd;stroke:#FF0000;stroke-width:2.0px;stroke-linecap:butt;stroke-linejoin:miter;stroke-opacity:1\"/>\n",
       "<path class=\"bond-4 atom-3 atom-5\" d=\"M 182.3,62.7 L 201.9,101.1\" style=\"fill:none;fill-rule:evenodd;stroke:#000000;stroke-width:2.0px;stroke-linecap:butt;stroke-linejoin:miter;stroke-opacity:1\"/>\n",
       "<path class=\"bond-5 atom-5 atom-6\" d=\"M 201.9,101.1 L 178.5,137.4\" style=\"fill:none;fill-rule:evenodd;stroke:#000000;stroke-width:2.0px;stroke-linecap:butt;stroke-linejoin:miter;stroke-opacity:1\"/>\n",
       "<path class=\"bond-6 atom-6 atom-7\" d=\"M 178.5,137.4 L 198.2,175.8\" style=\"fill:none;fill-rule:evenodd;stroke:#000000;stroke-width:2.0px;stroke-linecap:butt;stroke-linejoin:miter;stroke-opacity:1\"/>\n",
       "<path class=\"bond-7 atom-7 atom-8\" d=\"M 198.2,175.8 L 241.3,178.0\" style=\"fill:none;fill-rule:evenodd;stroke:#000000;stroke-width:2.0px;stroke-linecap:butt;stroke-linejoin:miter;stroke-opacity:1\"/>\n",
       "<path class=\"bond-8 atom-8 atom-9\" d=\"M 241.3,178.0 L 264.7,141.7\" style=\"fill:none;fill-rule:evenodd;stroke:#000000;stroke-width:2.0px;stroke-linecap:butt;stroke-linejoin:miter;stroke-opacity:1\"/>\n",
       "<path class=\"bond-9 atom-9 atom-10\" d=\"M 264.7,141.7 L 307.8,143.9\" style=\"fill:none;fill-rule:evenodd;stroke:#000000;stroke-width:2.0px;stroke-linecap:butt;stroke-linejoin:miter;stroke-opacity:1\"/>\n",
       "<path class=\"bond-9 atom-9 atom-10\" d=\"M 268.8,135.4 L 304.4,137.2\" style=\"fill:none;fill-rule:evenodd;stroke:#000000;stroke-width:2.0px;stroke-linecap:butt;stroke-linejoin:miter;stroke-opacity:1\"/>\n",
       "<path class=\"bond-10 atom-10 atom-11\" d=\"M 307.8,143.9 L 331.3,107.6\" style=\"fill:none;fill-rule:evenodd;stroke:#000000;stroke-width:2.0px;stroke-linecap:butt;stroke-linejoin:miter;stroke-opacity:1\"/>\n",
       "<path class=\"bond-11 atom-11 atom-12\" d=\"M 329.2,110.7 L 348.2,111.7\" style=\"fill:none;fill-rule:evenodd;stroke:#000000;stroke-width:2.0px;stroke-linecap:butt;stroke-linejoin:miter;stroke-opacity:1\"/>\n",
       "<path class=\"bond-11 atom-11 atom-12\" d=\"M 348.2,111.7 L 367.2,112.7\" style=\"fill:none;fill-rule:evenodd;stroke:#FF0000;stroke-width:2.0px;stroke-linecap:butt;stroke-linejoin:miter;stroke-opacity:1\"/>\n",
       "<path class=\"bond-11 atom-11 atom-12\" d=\"M 329.6,104.3 L 348.5,105.2\" style=\"fill:none;fill-rule:evenodd;stroke:#000000;stroke-width:2.0px;stroke-linecap:butt;stroke-linejoin:miter;stroke-opacity:1\"/>\n",
       "<path class=\"bond-11 atom-11 atom-12\" d=\"M 348.5,105.2 L 367.5,106.2\" style=\"fill:none;fill-rule:evenodd;stroke:#FF0000;stroke-width:2.0px;stroke-linecap:butt;stroke-linejoin:miter;stroke-opacity:1\"/>\n",
       "<path class=\"bond-12 atom-11 atom-13\" d=\"M 331.3,107.6 L 311.6,69.2\" style=\"fill:none;fill-rule:evenodd;stroke:#000000;stroke-width:2.0px;stroke-linecap:butt;stroke-linejoin:miter;stroke-opacity:1\"/>\n",
       "<path class=\"bond-13 atom-13 atom-14\" d=\"M 311.6,69.2 L 268.5,67.0\" style=\"fill:none;fill-rule:evenodd;stroke:#000000;stroke-width:2.0px;stroke-linecap:butt;stroke-linejoin:miter;stroke-opacity:1\"/>\n",
       "<path class=\"bond-14 atom-14 atom-15\" d=\"M 268.5,67.0 L 245.1,103.3\" style=\"fill:none;fill-rule:evenodd;stroke:#000000;stroke-width:2.0px;stroke-linecap:butt;stroke-linejoin:miter;stroke-opacity:1\"/>\n",
       "<path class=\"bond-15 atom-15 atom-16\" d=\"M 243.3,106.4 L 242.9,106.2\" style=\"fill:none;fill-rule:evenodd;stroke:#000000;stroke-width:1.0px;stroke-linecap:butt;stroke-linejoin:miter;stroke-opacity:1\"/>\n",
       "<path class=\"bond-15 atom-15 atom-16\" d=\"M 241.6,109.6 L 240.7,109.0\" style=\"fill:none;fill-rule:evenodd;stroke:#000000;stroke-width:1.0px;stroke-linecap:butt;stroke-linejoin:miter;stroke-opacity:1\"/>\n",
       "<path class=\"bond-15 atom-15 atom-16\" d=\"M 239.9,112.8 L 238.5,111.9\" style=\"fill:none;fill-rule:evenodd;stroke:#000000;stroke-width:1.0px;stroke-linecap:butt;stroke-linejoin:miter;stroke-opacity:1\"/>\n",
       "<path class=\"bond-15 atom-15 atom-16\" d=\"M 238.1,116.0 L 236.3,114.8\" style=\"fill:none;fill-rule:evenodd;stroke:#000000;stroke-width:1.0px;stroke-linecap:butt;stroke-linejoin:miter;stroke-opacity:1\"/>\n",
       "<path class=\"bond-15 atom-15 atom-16\" d=\"M 236.4,119.1 L 234.2,117.7\" style=\"fill:none;fill-rule:evenodd;stroke:#000000;stroke-width:1.0px;stroke-linecap:butt;stroke-linejoin:miter;stroke-opacity:1\"/>\n",
       "<path class=\"bond-15 atom-15 atom-16\" d=\"M 234.7,122.3 L 232.0,120.5\" style=\"fill:none;fill-rule:evenodd;stroke:#000000;stroke-width:1.0px;stroke-linecap:butt;stroke-linejoin:miter;stroke-opacity:1\"/>\n",
       "<path class=\"bond-15 atom-15 atom-16\" d=\"M 233.0,125.5 L 229.8,123.4\" style=\"fill:none;fill-rule:evenodd;stroke:#000000;stroke-width:1.0px;stroke-linecap:butt;stroke-linejoin:miter;stroke-opacity:1\"/>\n",
       "<path class=\"bond-15 atom-15 atom-16\" d=\"M 231.2,128.6 L 227.6,126.3\" style=\"fill:none;fill-rule:evenodd;stroke:#000000;stroke-width:1.0px;stroke-linecap:butt;stroke-linejoin:miter;stroke-opacity:1\"/>\n",
       "<path class=\"bond-15 atom-15 atom-16\" d=\"M 229.5,131.8 L 225.4,129.2\" style=\"fill:none;fill-rule:evenodd;stroke:#000000;stroke-width:1.0px;stroke-linecap:butt;stroke-linejoin:miter;stroke-opacity:1\"/>\n",
       "<path class=\"bond-15 atom-15 atom-16\" d=\"M 227.8,135.0 L 223.3,132.0\" style=\"fill:none;fill-rule:evenodd;stroke:#000000;stroke-width:1.0px;stroke-linecap:butt;stroke-linejoin:miter;stroke-opacity:1\"/>\n",
       "<path class=\"bond-15 atom-15 atom-16\" d=\"M 226.1,138.1 L 221.1,134.9\" style=\"fill:none;fill-rule:evenodd;stroke:#000000;stroke-width:1.0px;stroke-linecap:butt;stroke-linejoin:miter;stroke-opacity:1\"/>\n",
       "<path class=\"bond-15 atom-15 atom-16\" d=\"M 224.3,141.3 L 218.9,137.8\" style=\"fill:none;fill-rule:evenodd;stroke:#000000;stroke-width:1.0px;stroke-linecap:butt;stroke-linejoin:miter;stroke-opacity:1\"/>\n",
       "<path class=\"bond-16 atom-6 atom-17\" d=\"M 178.5,137.4 L 135.4,135.2\" style=\"fill:none;fill-rule:evenodd;stroke:#000000;stroke-width:2.0px;stroke-linecap:butt;stroke-linejoin:miter;stroke-opacity:1\"/>\n",
       "<path class=\"bond-17 atom-17 atom-18\" d=\"M 135.4,135.2 L 104.9,165.8\" style=\"fill:none;fill-rule:evenodd;stroke:#000000;stroke-width:2.0px;stroke-linecap:butt;stroke-linejoin:miter;stroke-opacity:1\"/>\n",
       "<path class=\"bond-18 atom-18 atom-19\" d=\"M 104.9,165.8 L 66.4,146.3\" style=\"fill:none;fill-rule:evenodd;stroke:#000000;stroke-width:2.0px;stroke-linecap:butt;stroke-linejoin:miter;stroke-opacity:1\"/>\n",
       "<path class=\"bond-19 atom-19 atom-20\" d=\"M 66.4,146.3 L 73.1,103.6\" style=\"fill:none;fill-rule:evenodd;stroke:#000000;stroke-width:2.0px;stroke-linecap:butt;stroke-linejoin:miter;stroke-opacity:1\"/>\n",
       "<path class=\"bond-20 atom-20 atom-21\" d=\"M 70.4,101.4 L 70.9,100.9\" style=\"fill:none;fill-rule:evenodd;stroke:#000000;stroke-width:1.0px;stroke-linecap:butt;stroke-linejoin:miter;stroke-opacity:1\"/>\n",
       "<path class=\"bond-20 atom-20 atom-21\" d=\"M 67.7,99.2 L 68.7,98.2\" style=\"fill:none;fill-rule:evenodd;stroke:#000000;stroke-width:1.0px;stroke-linecap:butt;stroke-linejoin:miter;stroke-opacity:1\"/>\n",
       "<path class=\"bond-20 atom-20 atom-21\" d=\"M 65.0,97.1 L 66.5,95.5\" style=\"fill:none;fill-rule:evenodd;stroke:#000000;stroke-width:1.0px;stroke-linecap:butt;stroke-linejoin:miter;stroke-opacity:1\"/>\n",
       "<path class=\"bond-20 atom-20 atom-21\" d=\"M 62.2,94.9 L 64.3,92.8\" style=\"fill:none;fill-rule:evenodd;stroke:#000000;stroke-width:1.0px;stroke-linecap:butt;stroke-linejoin:miter;stroke-opacity:1\"/>\n",
       "<path class=\"bond-20 atom-20 atom-21\" d=\"M 59.5,92.7 L 62.1,90.1\" style=\"fill:none;fill-rule:evenodd;stroke:#FF0000;stroke-width:1.0px;stroke-linecap:butt;stroke-linejoin:miter;stroke-opacity:1\"/>\n",
       "<path class=\"bond-20 atom-20 atom-21\" d=\"M 56.8,90.5 L 59.9,87.4\" style=\"fill:none;fill-rule:evenodd;stroke:#FF0000;stroke-width:1.0px;stroke-linecap:butt;stroke-linejoin:miter;stroke-opacity:1\"/>\n",
       "<path class=\"bond-20 atom-20 atom-21\" d=\"M 54.1,88.3 L 57.7,84.7\" style=\"fill:none;fill-rule:evenodd;stroke:#FF0000;stroke-width:1.0px;stroke-linecap:butt;stroke-linejoin:miter;stroke-opacity:1\"/>\n",
       "<path class=\"bond-20 atom-20 atom-21\" d=\"M 51.4,86.1 L 55.5,82.0\" style=\"fill:none;fill-rule:evenodd;stroke:#FF0000;stroke-width:1.0px;stroke-linecap:butt;stroke-linejoin:miter;stroke-opacity:1\"/>\n",
       "<path class=\"bond-20 atom-20 atom-21\" d=\"M 48.7,83.9 L 53.3,79.3\" style=\"fill:none;fill-rule:evenodd;stroke:#FF0000;stroke-width:1.0px;stroke-linecap:butt;stroke-linejoin:miter;stroke-opacity:1\"/>\n",
       "<path class=\"bond-21 atom-17 atom-1\" d=\"M 135.4,135.2 L 115.7,96.8\" style=\"fill:none;fill-rule:evenodd;stroke:#000000;stroke-width:2.0px;stroke-linecap:butt;stroke-linejoin:miter;stroke-opacity:1\"/>\n",
       "<path class=\"bond-22 atom-20 atom-1\" d=\"M 73.1,103.6 L 115.7,96.8\" style=\"fill:none;fill-rule:evenodd;stroke:#000000;stroke-width:2.0px;stroke-linecap:butt;stroke-linejoin:miter;stroke-opacity:1\"/>\n",
       "<path class=\"bond-23 atom-15 atom-5\" d=\"M 245.1,103.3 L 201.9,101.1\" style=\"fill:none;fill-rule:evenodd;stroke:#000000;stroke-width:2.0px;stroke-linecap:butt;stroke-linejoin:miter;stroke-opacity:1\"/>\n",
       "<path class=\"bond-24 atom-15 atom-9\" d=\"M 245.1,103.3 L 264.7,141.7\" style=\"fill:none;fill-rule:evenodd;stroke:#000000;stroke-width:2.0px;stroke-linecap:butt;stroke-linejoin:miter;stroke-opacity:1\"/>\n",
       "<path class=\"bond-25 atom-5 atom-22\" d=\"M 203.6,97.9 L 204.2,98.3\" style=\"fill:none;fill-rule:evenodd;stroke:#000000;stroke-width:1.0px;stroke-linecap:butt;stroke-linejoin:miter;stroke-opacity:1\"/>\n",
       "<path class=\"bond-25 atom-5 atom-22\" d=\"M 205.3,94.7 L 206.5,95.4\" style=\"fill:none;fill-rule:evenodd;stroke:#000000;stroke-width:1.0px;stroke-linecap:butt;stroke-linejoin:miter;stroke-opacity:1\"/>\n",
       "<path class=\"bond-25 atom-5 atom-22\" d=\"M 206.9,91.4 L 208.7,92.6\" style=\"fill:none;fill-rule:evenodd;stroke:#000000;stroke-width:1.0px;stroke-linecap:butt;stroke-linejoin:miter;stroke-opacity:1\"/>\n",
       "<path class=\"bond-25 atom-5 atom-22\" d=\"M 208.6,88.2 L 211.0,89.8\" style=\"fill:none;fill-rule:evenodd;stroke:#000000;stroke-width:1.0px;stroke-linecap:butt;stroke-linejoin:miter;stroke-opacity:1\"/>\n",
       "<path class=\"bond-25 atom-5 atom-22\" d=\"M 210.2,85.0 L 213.3,86.9\" style=\"fill:none;fill-rule:evenodd;stroke:#000000;stroke-width:1.0px;stroke-linecap:butt;stroke-linejoin:miter;stroke-opacity:1\"/>\n",
       "<path class=\"bond-25 atom-5 atom-22\" d=\"M 211.9,81.8 L 215.5,84.1\" style=\"fill:none;fill-rule:evenodd;stroke:#000000;stroke-width:1.0px;stroke-linecap:butt;stroke-linejoin:miter;stroke-opacity:1\"/>\n",
       "<path class=\"bond-25 atom-5 atom-22\" d=\"M 213.5,78.5 L 217.8,81.3\" style=\"fill:none;fill-rule:evenodd;stroke:#000000;stroke-width:1.0px;stroke-linecap:butt;stroke-linejoin:miter;stroke-opacity:1\"/>\n",
       "<path class=\"bond-25 atom-5 atom-22\" d=\"M 215.2,75.3 L 220.0,78.4\" style=\"fill:none;fill-rule:evenodd;stroke:#000000;stroke-width:1.0px;stroke-linecap:butt;stroke-linejoin:miter;stroke-opacity:1\"/>\n",
       "<path class=\"bond-25 atom-5 atom-22\" d=\"M 216.9,72.1 L 222.3,75.6\" style=\"fill:none;fill-rule:evenodd;stroke:#000000;stroke-width:1.0px;stroke-linecap:butt;stroke-linejoin:miter;stroke-opacity:1\"/>\n",
       "<path class=\"bond-26 atom-6 atom-23\" d=\"M 176.9,140.6 L 176.2,140.2\" style=\"fill:none;fill-rule:evenodd;stroke:#000000;stroke-width:1.0px;stroke-linecap:butt;stroke-linejoin:miter;stroke-opacity:1\"/>\n",
       "<path class=\"bond-26 atom-6 atom-23\" d=\"M 175.2,143.8 L 174.0,143.0\" style=\"fill:none;fill-rule:evenodd;stroke:#000000;stroke-width:1.0px;stroke-linecap:butt;stroke-linejoin:miter;stroke-opacity:1\"/>\n",
       "<path class=\"bond-26 atom-6 atom-23\" d=\"M 173.5,147.1 L 171.7,145.9\" style=\"fill:none;fill-rule:evenodd;stroke:#000000;stroke-width:1.0px;stroke-linecap:butt;stroke-linejoin:miter;stroke-opacity:1\"/>\n",
       "<path class=\"bond-26 atom-6 atom-23\" d=\"M 171.9,150.3 L 169.5,148.7\" style=\"fill:none;fill-rule:evenodd;stroke:#000000;stroke-width:1.0px;stroke-linecap:butt;stroke-linejoin:miter;stroke-opacity:1\"/>\n",
       "<path class=\"bond-26 atom-6 atom-23\" d=\"M 170.2,153.5 L 167.2,151.6\" style=\"fill:none;fill-rule:evenodd;stroke:#000000;stroke-width:1.0px;stroke-linecap:butt;stroke-linejoin:miter;stroke-opacity:1\"/>\n",
       "<path class=\"bond-26 atom-6 atom-23\" d=\"M 168.6,156.7 L 164.9,154.4\" style=\"fill:none;fill-rule:evenodd;stroke:#000000;stroke-width:1.0px;stroke-linecap:butt;stroke-linejoin:miter;stroke-opacity:1\"/>\n",
       "<path class=\"bond-26 atom-6 atom-23\" d=\"M 166.9,160.0 L 162.7,157.2\" style=\"fill:none;fill-rule:evenodd;stroke:#000000;stroke-width:1.0px;stroke-linecap:butt;stroke-linejoin:miter;stroke-opacity:1\"/>\n",
       "<path class=\"bond-26 atom-6 atom-23\" d=\"M 165.3,163.2 L 160.4,160.1\" style=\"fill:none;fill-rule:evenodd;stroke:#000000;stroke-width:1.0px;stroke-linecap:butt;stroke-linejoin:miter;stroke-opacity:1\"/>\n",
       "<path class=\"bond-26 atom-6 atom-23\" d=\"M 163.6,166.4 L 158.2,162.9\" style=\"fill:none;fill-rule:evenodd;stroke:#000000;stroke-width:1.0px;stroke-linecap:butt;stroke-linejoin:miter;stroke-opacity:1\"/>\n",
       "<path class=\"bond-27 atom-17 atom-24\" d=\"M 135.4,135.2 L 101.5,125.8 L 103.9,119.7 Z\" style=\"fill:#000000;fill-rule:evenodd;fill-opacity:1;stroke:#000000;stroke-width:0.5px;stroke-linecap:butt;stroke-linejoin:miter;stroke-opacity:1;\"/>\n",
       "<path d=\"M 138.0,62.3 L 139.1,60.5 L 141.3,60.6\" style=\"fill:none;stroke:#000000;stroke-width:2.0px;stroke-linecap:butt;stroke-linejoin:miter;stroke-opacity:1;\"/>\n",
       "<path d=\"M 180.1,62.6 L 182.3,62.7 L 183.2,64.6\" style=\"fill:none;stroke:#000000;stroke-width:2.0px;stroke-linecap:butt;stroke-linejoin:miter;stroke-opacity:1;\"/>\n",
       "<path d=\"M 197.2,173.9 L 198.2,175.8 L 200.3,175.9\" style=\"fill:none;stroke:#000000;stroke-width:2.0px;stroke-linecap:butt;stroke-linejoin:miter;stroke-opacity:1;\"/>\n",
       "<path d=\"M 239.1,177.8 L 241.3,178.0 L 242.5,176.1\" style=\"fill:none;stroke:#000000;stroke-width:2.0px;stroke-linecap:butt;stroke-linejoin:miter;stroke-opacity:1;\"/>\n",
       "<path d=\"M 305.7,143.8 L 307.8,143.9 L 309.0,142.0\" style=\"fill:none;stroke:#000000;stroke-width:2.0px;stroke-linecap:butt;stroke-linejoin:miter;stroke-opacity:1;\"/>\n",
       "<path d=\"M 330.1,109.4 L 331.3,107.6 L 330.3,105.7\" style=\"fill:none;stroke:#000000;stroke-width:2.0px;stroke-linecap:butt;stroke-linejoin:miter;stroke-opacity:1;\"/>\n",
       "<path d=\"M 312.6,71.1 L 311.6,69.2 L 309.4,69.1\" style=\"fill:none;stroke:#000000;stroke-width:2.0px;stroke-linecap:butt;stroke-linejoin:miter;stroke-opacity:1;\"/>\n",
       "<path d=\"M 270.6,67.1 L 268.5,67.0 L 267.3,68.8\" style=\"fill:none;stroke:#000000;stroke-width:2.0px;stroke-linecap:butt;stroke-linejoin:miter;stroke-opacity:1;\"/>\n",
       "<path d=\"M 106.5,164.3 L 104.9,165.8 L 103.0,164.8\" style=\"fill:none;stroke:#000000;stroke-width:2.0px;stroke-linecap:butt;stroke-linejoin:miter;stroke-opacity:1;\"/>\n",
       "<path d=\"M 68.4,147.3 L 66.4,146.3 L 66.8,144.2\" style=\"fill:none;stroke:#000000;stroke-width:2.0px;stroke-linecap:butt;stroke-linejoin:miter;stroke-opacity:1;\"/>\n",
       "<path d=\"M 72.8,105.8 L 73.1,103.6 L 75.2,103.3\" style=\"fill:none;stroke:#000000;stroke-width:2.0px;stroke-linecap:butt;stroke-linejoin:miter;stroke-opacity:1;\"/>\n",
       "<path class=\"atom-4\" d=\"M 200.1 26.5 Q 200.1 23.5, 201.5 21.9 Q 203.0 20.3, 205.7 20.3 Q 208.4 20.3, 209.9 21.9 Q 211.3 23.5, 211.3 26.5 Q 211.3 29.4, 209.8 31.1 Q 208.4 32.8, 205.7 32.8 Q 203.0 32.8, 201.5 31.1 Q 200.1 29.5, 200.1 26.5 M 205.7 31.4 Q 207.6 31.4, 208.6 30.2 Q 209.6 28.9, 209.6 26.5 Q 209.6 24.1, 208.6 22.9 Q 207.6 21.6, 205.7 21.6 Q 203.8 21.6, 202.8 22.9 Q 201.8 24.1, 201.8 26.5 Q 201.8 28.9, 202.8 30.2 Q 203.8 31.4, 205.7 31.4 \" fill=\"#FF0000\"/>\n",
       "<path class=\"atom-12\" d=\"M 368.8 109.8 Q 368.8 106.9, 370.2 105.2 Q 371.7 103.6, 374.4 103.6 Q 377.1 103.6, 378.5 105.2 Q 380.0 106.9, 380.0 109.8 Q 380.0 112.8, 378.5 114.5 Q 377.1 116.1, 374.4 116.1 Q 371.7 116.1, 370.2 114.5 Q 368.8 112.8, 368.8 109.8 M 374.4 114.8 Q 376.3 114.8, 377.3 113.5 Q 378.3 112.3, 378.3 109.8 Q 378.3 107.4, 377.3 106.2 Q 376.3 105.0, 374.4 105.0 Q 372.5 105.0, 371.5 106.2 Q 370.5 107.4, 370.5 109.8 Q 370.5 112.3, 371.5 113.5 Q 372.5 114.8, 374.4 114.8 \" fill=\"#FF0000\"/>\n",
       "<path class=\"atom-21\" d=\"M 24.8 67.1 L 26.5 67.1 L 26.5 72.3 L 32.7 72.3 L 32.7 67.1 L 34.4 67.1 L 34.4 79.4 L 32.7 79.4 L 32.7 73.7 L 26.5 73.7 L 26.5 79.4 L 24.8 79.4 L 24.8 67.1 \" fill=\"#FF0000\"/>\n",
       "<path class=\"atom-21\" d=\"M 36.9 73.2 Q 36.9 70.3, 38.3 68.6 Q 39.8 67.0, 42.5 67.0 Q 45.2 67.0, 46.7 68.6 Q 48.1 70.3, 48.1 73.2 Q 48.1 76.2, 46.7 77.9 Q 45.2 79.6, 42.5 79.6 Q 39.8 79.6, 38.3 77.9 Q 36.9 76.2, 36.9 73.2 M 42.5 78.2 Q 44.4 78.2, 45.4 76.9 Q 46.4 75.7, 46.4 73.2 Q 46.4 70.8, 45.4 69.6 Q 44.4 68.4, 42.5 68.4 Q 40.6 68.4, 39.6 69.6 Q 38.6 70.8, 38.6 73.2 Q 38.6 75.7, 39.6 76.9 Q 40.6 78.2, 42.5 78.2 \" fill=\"#FF0000\"/>\n",
       "<path class=\"atom-22\" d=\"M 220.6 58.8 L 222.2 58.8 L 222.2 63.9 L 228.5 63.9 L 228.5 58.8 L 230.2 58.8 L 230.2 71.0 L 228.5 71.0 L 228.5 65.3 L 222.2 65.3 L 222.2 71.0 L 220.6 71.0 L 220.6 58.8 \" fill=\"#000000\"/>\n",
       "<path class=\"atom-23\" d=\"M 150.3 167.5 L 152.0 167.5 L 152.0 172.7 L 158.2 172.7 L 158.2 167.5 L 159.9 167.5 L 159.9 179.7 L 158.2 179.7 L 158.2 174.1 L 152.0 174.1 L 152.0 179.7 L 150.3 179.7 L 150.3 167.5 \" fill=\"#000000\"/>\n",
       "<path class=\"atom-24\" d=\"M 90.3 113.7 L 91.9 113.7 L 91.9 118.9 L 98.2 118.9 L 98.2 113.7 L 99.9 113.7 L 99.9 125.9 L 98.2 125.9 L 98.2 120.3 L 91.9 120.3 L 91.9 125.9 L 90.3 125.9 L 90.3 113.7 \" fill=\"#000000\"/>\n",
       "</svg>"
      ],
      "text/plain": [
       "<IPython.core.display.SVG object>"
      ]
     },
     "execution_count": 61,
     "metadata": {},
     "output_type": "execute_result"
    }
   ],
   "source": [
    "def increase_resolution(mol, substructure, size=(400, 200)):\n",
    "    \n",
    "    mol = deepcopy(mol)\n",
    "    substructure = deepcopy(substructure)\n",
    "    drawer = rdMolDraw2D.MolDraw2DSVG(size[0], size[1])\n",
    "    \n",
    "    # highlightAtoms expects only one tuple, not tuple of tuples. So it needs to be merged into a single tuple\n",
    "    matches = sum(mol.GetSubstructMatches(substructure, useChirality = True), ())\n",
    "    drawer.DrawMolecule(mol, highlightAtoms=matches)\n",
    "    \n",
    "    drawer.FinishDrawing()\n",
    "    svg = drawer.GetDrawingText()\n",
    "    \n",
    "    return svg.replace('svg:','')\n",
    "\n",
    "\n",
    "mol = Chem.MolFromSmiles('C[C@]12CC(=O)[C@@H]3[C@@H](CCC4=CC(=O)CC[C@@]43C)[C@@H]1CC[C@@H]2O')\n",
    "substructure = Chem.MolFromSmarts('[C&H3:1][C@:2]1([C&H2:3])[C@&H1:4][C&H2:5][C&H2:6][C@@&H1:7]1[O&H1:8]')\n",
    "SVG(increase_resolution(mol, substructure))"
   ]
  },
  {
   "cell_type": "code",
   "execution_count": 67,
   "id": "ec30406e",
   "metadata": {},
   "outputs": [
    {
     "data": {
      "image/svg+xml": [
       "<svg xmlns=\"http://www.w3.org/2000/svg\" xmlns:rdkit=\"http://www.rdkit.org/xml\" xmlns:xlink=\"http://www.w3.org/1999/xlink\" version=\"1.1\" baseProfile=\"full\" xml:space=\"preserve\" width=\"400px\" height=\"200px\" viewBox=\"0 0 400 200\">\n",
       "<!-- END OF HEADER -->\n",
       "<rect style=\"opacity:1.0;fill:#FFFFFF;stroke:none\" width=\"400.0\" height=\"200.0\" x=\"0.0\" y=\"0.0\"> </rect>\n",
       "<path class=\"bond-0 atom-0 atom-1\" d=\"M 112.8,118.3 L 112.8,126.5 L 93.6,155.8 L 86.1,150.9 L 105.3,121.6 Z\" style=\"fill:#FF7F7F;fill-rule:evenodd;fill-opacity:1;stroke:#FF7F7F;stroke-width:0.0px;stroke-linecap:butt;stroke-linejoin:miter;stroke-opacity:1;\"/>\n",
       "<path class=\"bond-1 atom-1 atom-2\" d=\"M 117.9,118.1 L 139.2,151.1 L 131.6,156.0 L 112.8,126.5 L 112.8,118.3 Z\" style=\"fill:#FF7F7F;fill-rule:evenodd;fill-opacity:1;stroke:#FF7F7F;stroke-width:0.0px;stroke-linecap:butt;stroke-linejoin:miter;stroke-opacity:1;\"/>\n",
       "<path class=\"bond-19 atom-1 atom-15\" d=\"M 137.4,80.3 L 117.9,118.1 L 112.8,118.3 L 110.3,113.4 L 126.5,82.0 Z\" style=\"fill:#FF7F7F;fill-rule:evenodd;fill-opacity:1;stroke:#FF7F7F;stroke-width:0.0px;stroke-linecap:butt;stroke-linejoin:miter;stroke-opacity:1;\"/>\n",
       "<path class=\"bond-20 atom-1 atom-18\" d=\"M 75.4,107.7 L 110.3,113.4 L 112.8,118.3 L 105.3,121.6 L 73.1,116.4 L 71.5,111.6 Z\" style=\"fill:#FF7F7F;fill-rule:evenodd;fill-opacity:1;stroke:#FF7F7F;stroke-width:0.0px;stroke-linecap:butt;stroke-linejoin:miter;stroke-opacity:1;\"/>\n",
       "<path class=\"bond-15 atom-15 atom-16\" d=\"M 103.4,46.0 L 137.4,80.3 L 126.5,82.0 L 101.7,56.9 Z\" style=\"fill:#FF7F7F;fill-rule:evenodd;fill-opacity:1;stroke:#FF7F7F;stroke-width:0.0px;stroke-linecap:butt;stroke-linejoin:miter;stroke-opacity:1;\"/>\n",
       "<path class=\"bond-16 atom-16 atom-17\" d=\"M 103.4,46.0 L 101.7,56.9 L 70.1,72.8 L 60.3,67.7 Z\" style=\"fill:#FF7F7F;fill-rule:evenodd;fill-opacity:1;stroke:#FF7F7F;stroke-width:0.0px;stroke-linecap:butt;stroke-linejoin:miter;stroke-opacity:1;\"/>\n",
       "<path class=\"bond-17 atom-17 atom-18\" d=\"M 60.3,67.7 L 70.1,72.8 L 75.4,107.7 L 71.5,111.6 L 66.8,110.0 Z\" style=\"fill:#FF7F7F;fill-rule:evenodd;fill-opacity:1;stroke:#FF7F7F;stroke-width:0.0px;stroke-linecap:butt;stroke-linejoin:miter;stroke-opacity:1;\"/>\n",
       "<path class=\"bond-18 atom-18 atom-19\" d=\"M 66.8,110.0 L 71.5,111.6 L 73.1,116.4 L 44.9,144.2 L 38.7,137.8 Z\" style=\"fill:#FF7F7F;fill-rule:evenodd;fill-opacity:1;stroke:#FF7F7F;stroke-width:0.0px;stroke-linecap:butt;stroke-linejoin:miter;stroke-opacity:1;\"/>\n",
       "<ellipse cx=\"89.8\" cy=\"153.3\" rx=\"8.4\" ry=\"8.4\" class=\"atom-0\" style=\"fill:#FF7F7F;fill-rule:evenodd;stroke:#FF7F7F;stroke-width:1.0px;stroke-linecap:butt;stroke-linejoin:miter;stroke-opacity:1\"/>\n",
       "<ellipse cx=\"112.8\" cy=\"118.3\" rx=\"8.4\" ry=\"8.4\" class=\"atom-1\" style=\"fill:#FF7F7F;fill-rule:evenodd;stroke:#FF7F7F;stroke-width:1.0px;stroke-linecap:butt;stroke-linejoin:miter;stroke-opacity:1\"/>\n",
       "<ellipse cx=\"135.4\" cy=\"153.5\" rx=\"8.4\" ry=\"8.4\" class=\"atom-2\" style=\"fill:#FF7F7F;fill-rule:evenodd;stroke:#FF7F7F;stroke-width:1.0px;stroke-linecap:butt;stroke-linejoin:miter;stroke-opacity:1\"/>\n",
       "<ellipse cx=\"132.0\" cy=\"81.2\" rx=\"8.4\" ry=\"8.4\" class=\"atom-15\" style=\"fill:#FF7F7F;fill-rule:evenodd;stroke:#FF7F7F;stroke-width:1.0px;stroke-linecap:butt;stroke-linejoin:miter;stroke-opacity:1\"/>\n",
       "<ellipse cx=\"102.6\" cy=\"51.5\" rx=\"8.4\" ry=\"8.4\" class=\"atom-16\" style=\"fill:#FF7F7F;fill-rule:evenodd;stroke:#FF7F7F;stroke-width:1.0px;stroke-linecap:butt;stroke-linejoin:miter;stroke-opacity:1\"/>\n",
       "<ellipse cx=\"65.2\" cy=\"70.3\" rx=\"8.4\" ry=\"8.4\" class=\"atom-17\" style=\"fill:#FF7F7F;fill-rule:evenodd;stroke:#FF7F7F;stroke-width:1.0px;stroke-linecap:butt;stroke-linejoin:miter;stroke-opacity:1\"/>\n",
       "<ellipse cx=\"71.5\" cy=\"111.6\" rx=\"8.4\" ry=\"8.4\" class=\"atom-18\" style=\"fill:#FF7F7F;fill-rule:evenodd;stroke:#FF7F7F;stroke-width:1.0px;stroke-linecap:butt;stroke-linejoin:miter;stroke-opacity:1\"/>\n",
       "<ellipse cx=\"36.0\" cy=\"141.1\" rx=\"16.0\" ry=\"8.6\" class=\"atom-19\" style=\"fill:#FF7F7F;fill-rule:evenodd;stroke:#FF7F7F;stroke-width:1.0px;stroke-linecap:butt;stroke-linejoin:miter;stroke-opacity:1\"/>\n",
       "<path class=\"bond-0 atom-1 atom-0\" d=\"M 112.8,118.3 L 92.5,155.0 L 87.2,151.6 Z\" style=\"fill:#000000;fill-rule:evenodd;fill-opacity:1;stroke:#000000;stroke-width:0.5px;stroke-linecap:butt;stroke-linejoin:miter;stroke-opacity:1;\"/>\n",
       "<path class=\"bond-1 atom-1 atom-2\" d=\"M 112.8,118.3 L 135.4,153.5\" style=\"fill:none;fill-rule:evenodd;stroke:#000000;stroke-width:2.0px;stroke-linecap:butt;stroke-linejoin:miter;stroke-opacity:1\"/>\n",
       "<path class=\"bond-2 atom-2 atom-3\" d=\"M 135.4,153.5 L 177.2,151.6\" style=\"fill:none;fill-rule:evenodd;stroke:#000000;stroke-width:2.0px;stroke-linecap:butt;stroke-linejoin:miter;stroke-opacity:1\"/>\n",
       "<path class=\"bond-3 atom-3 atom-4\" d=\"M 177.2,151.6 L 196.4,114.4\" style=\"fill:none;fill-rule:evenodd;stroke:#000000;stroke-width:2.0px;stroke-linecap:butt;stroke-linejoin:miter;stroke-opacity:1\"/>\n",
       "<path class=\"bond-4 atom-4 atom-5\" d=\"M 196.4,114.4 L 238.1,112.4\" style=\"fill:none;fill-rule:evenodd;stroke:#000000;stroke-width:2.0px;stroke-linecap:butt;stroke-linejoin:miter;stroke-opacity:1\"/>\n",
       "<path class=\"bond-5 atom-5 atom-6\" d=\"M 238.1,112.4 L 260.7,147.6\" style=\"fill:none;fill-rule:evenodd;stroke:#000000;stroke-width:2.0px;stroke-linecap:butt;stroke-linejoin:miter;stroke-opacity:1\"/>\n",
       "<path class=\"bond-5 atom-5 atom-6\" d=\"M 245.4,112.1 L 264.0,141.2\" style=\"fill:none;fill-rule:evenodd;stroke:#000000;stroke-width:2.0px;stroke-linecap:butt;stroke-linejoin:miter;stroke-opacity:1\"/>\n",
       "<path class=\"bond-6 atom-6 atom-7\" d=\"M 260.7,147.6 L 302.5,145.6\" style=\"fill:none;fill-rule:evenodd;stroke:#000000;stroke-width:2.0px;stroke-linecap:butt;stroke-linejoin:miter;stroke-opacity:1\"/>\n",
       "<path class=\"bond-7 atom-7 atom-8\" d=\"M 302.5,145.6 L 321.7,108.5\" style=\"fill:none;fill-rule:evenodd;stroke:#000000;stroke-width:2.0px;stroke-linecap:butt;stroke-linejoin:miter;stroke-opacity:1\"/>\n",
       "<path class=\"bond-7 atom-7 atom-8\" d=\"M 298.6,139.5 L 314.4,108.8\" style=\"fill:none;fill-rule:evenodd;stroke:#000000;stroke-width:2.0px;stroke-linecap:butt;stroke-linejoin:miter;stroke-opacity:1\"/>\n",
       "<path class=\"bond-8 atom-8 atom-9\" d=\"M 321.7,108.5 L 339.2,107.6\" style=\"fill:none;fill-rule:evenodd;stroke:#000000;stroke-width:2.0px;stroke-linecap:butt;stroke-linejoin:miter;stroke-opacity:1\"/>\n",
       "<path class=\"bond-8 atom-8 atom-9\" d=\"M 339.2,107.6 L 356.6,106.8\" style=\"fill:none;fill-rule:evenodd;stroke:#FF0000;stroke-width:2.0px;stroke-linecap:butt;stroke-linejoin:miter;stroke-opacity:1\"/>\n",
       "<path class=\"bond-9 atom-8 atom-10\" d=\"M 321.7,108.5 L 299.1,73.3\" style=\"fill:none;fill-rule:evenodd;stroke:#000000;stroke-width:2.0px;stroke-linecap:butt;stroke-linejoin:miter;stroke-opacity:1\"/>\n",
       "<path class=\"bond-10 atom-10 atom-11\" d=\"M 299.1,73.3 L 257.3,75.3\" style=\"fill:none;fill-rule:evenodd;stroke:#000000;stroke-width:2.0px;stroke-linecap:butt;stroke-linejoin:miter;stroke-opacity:1\"/>\n",
       "<path class=\"bond-10 atom-10 atom-11\" d=\"M 295.8,79.7 L 261.2,81.4\" style=\"fill:none;fill-rule:evenodd;stroke:#000000;stroke-width:2.0px;stroke-linecap:butt;stroke-linejoin:miter;stroke-opacity:1\"/>\n",
       "<path class=\"bond-11 atom-11 atom-12\" d=\"M 257.3,75.3 L 234.7,40.1\" style=\"fill:none;fill-rule:evenodd;stroke:#000000;stroke-width:2.0px;stroke-linecap:butt;stroke-linejoin:miter;stroke-opacity:1\"/>\n",
       "<path class=\"bond-12 atom-12 atom-13\" d=\"M 234.7,40.1 L 192.9,42.0\" style=\"fill:none;fill-rule:evenodd;stroke:#000000;stroke-width:2.0px;stroke-linecap:butt;stroke-linejoin:miter;stroke-opacity:1\"/>\n",
       "<path class=\"bond-13 atom-13 atom-14\" d=\"M 192.9,42.0 L 173.8,79.2\" style=\"fill:none;fill-rule:evenodd;stroke:#000000;stroke-width:2.0px;stroke-linecap:butt;stroke-linejoin:miter;stroke-opacity:1\"/>\n",
       "<path class=\"bond-14 atom-14 atom-15\" d=\"M 173.8,79.2 L 132.0,81.2\" style=\"fill:none;fill-rule:evenodd;stroke:#000000;stroke-width:2.0px;stroke-linecap:butt;stroke-linejoin:miter;stroke-opacity:1\"/>\n",
       "<path class=\"bond-15 atom-15 atom-16\" d=\"M 132.0,81.2 L 102.6,51.5\" style=\"fill:none;fill-rule:evenodd;stroke:#000000;stroke-width:2.0px;stroke-linecap:butt;stroke-linejoin:miter;stroke-opacity:1\"/>\n",
       "<path class=\"bond-16 atom-16 atom-17\" d=\"M 102.6,51.5 L 65.2,70.3\" style=\"fill:none;fill-rule:evenodd;stroke:#000000;stroke-width:2.0px;stroke-linecap:butt;stroke-linejoin:miter;stroke-opacity:1\"/>\n",
       "<path class=\"bond-17 atom-17 atom-18\" d=\"M 65.2,70.3 L 71.5,111.6\" style=\"fill:none;fill-rule:evenodd;stroke:#000000;stroke-width:2.0px;stroke-linecap:butt;stroke-linejoin:miter;stroke-opacity:1\"/>\n",
       "<path class=\"bond-18 atom-18 atom-19\" d=\"M 71.5,111.6 L 61.9,123.4 L 59.7,121.1 Z\" style=\"fill:#000000;fill-rule:evenodd;fill-opacity:1;stroke:#000000;stroke-width:0.5px;stroke-linecap:butt;stroke-linejoin:miter;stroke-opacity:1;\"/>\n",
       "<path class=\"bond-18 atom-18 atom-19\" d=\"M 61.9,123.4 L 47.8,130.7 L 52.2,135.1 Z\" style=\"fill:#FF0000;fill-rule:evenodd;fill-opacity:1;stroke:#FF0000;stroke-width:0.5px;stroke-linecap:butt;stroke-linejoin:miter;stroke-opacity:1;\"/>\n",
       "<path class=\"bond-18 atom-18 atom-19\" d=\"M 61.9,123.4 L 59.7,121.1 L 47.8,130.7 Z\" style=\"fill:#FF0000;fill-rule:evenodd;fill-opacity:1;stroke:#FF0000;stroke-width:0.5px;stroke-linecap:butt;stroke-linejoin:miter;stroke-opacity:1;\"/>\n",
       "<path class=\"bond-19 atom-15 atom-1\" d=\"M 132.0,81.2 L 112.8,118.3\" style=\"fill:none;fill-rule:evenodd;stroke:#000000;stroke-width:2.0px;stroke-linecap:butt;stroke-linejoin:miter;stroke-opacity:1\"/>\n",
       "<path class=\"bond-20 atom-18 atom-1\" d=\"M 71.5,111.6 L 112.8,118.3\" style=\"fill:none;fill-rule:evenodd;stroke:#000000;stroke-width:2.0px;stroke-linecap:butt;stroke-linejoin:miter;stroke-opacity:1\"/>\n",
       "<path class=\"bond-21 atom-14 atom-4\" d=\"M 173.8,79.2 L 196.4,114.4\" style=\"fill:none;fill-rule:evenodd;stroke:#000000;stroke-width:2.0px;stroke-linecap:butt;stroke-linejoin:miter;stroke-opacity:1\"/>\n",
       "<path class=\"bond-22 atom-11 atom-5\" d=\"M 257.3,75.3 L 238.1,112.4\" style=\"fill:none;fill-rule:evenodd;stroke:#000000;stroke-width:2.0px;stroke-linecap:butt;stroke-linejoin:miter;stroke-opacity:1\"/>\n",
       "<path class=\"bond-23 atom-4 atom-20\" d=\"M 198.5,117.2 L 198.0,117.5\" style=\"fill:none;fill-rule:evenodd;stroke:#000000;stroke-width:1.0px;stroke-linecap:butt;stroke-linejoin:miter;stroke-opacity:1\"/>\n",
       "<path class=\"bond-23 atom-4 atom-20\" d=\"M 200.7,119.9 L 199.5,120.7\" style=\"fill:none;fill-rule:evenodd;stroke:#000000;stroke-width:1.0px;stroke-linecap:butt;stroke-linejoin:miter;stroke-opacity:1\"/>\n",
       "<path class=\"bond-23 atom-4 atom-20\" d=\"M 202.9,122.7 L 201.1,123.8\" style=\"fill:none;fill-rule:evenodd;stroke:#000000;stroke-width:1.0px;stroke-linecap:butt;stroke-linejoin:miter;stroke-opacity:1\"/>\n",
       "<path class=\"bond-23 atom-4 atom-20\" d=\"M 205.1,125.4 L 202.7,126.9\" style=\"fill:none;fill-rule:evenodd;stroke:#000000;stroke-width:1.0px;stroke-linecap:butt;stroke-linejoin:miter;stroke-opacity:1\"/>\n",
       "<path class=\"bond-23 atom-4 atom-20\" d=\"M 207.3,128.2 L 204.3,130.1\" style=\"fill:none;fill-rule:evenodd;stroke:#000000;stroke-width:1.0px;stroke-linecap:butt;stroke-linejoin:miter;stroke-opacity:1\"/>\n",
       "<path class=\"bond-23 atom-4 atom-20\" d=\"M 209.5,130.9 L 205.9,133.2\" style=\"fill:none;fill-rule:evenodd;stroke:#000000;stroke-width:1.0px;stroke-linecap:butt;stroke-linejoin:miter;stroke-opacity:1\"/>\n",
       "<path class=\"bond-23 atom-4 atom-20\" d=\"M 211.6,133.7 L 207.5,136.3\" style=\"fill:none;fill-rule:evenodd;stroke:#000000;stroke-width:1.0px;stroke-linecap:butt;stroke-linejoin:miter;stroke-opacity:1\"/>\n",
       "<path class=\"bond-23 atom-4 atom-20\" d=\"M 213.8,136.5 L 209.1,139.5\" style=\"fill:none;fill-rule:evenodd;stroke:#000000;stroke-width:1.0px;stroke-linecap:butt;stroke-linejoin:miter;stroke-opacity:1\"/>\n",
       "<path class=\"bond-23 atom-4 atom-20\" d=\"M 216.0,139.2 L 210.7,142.6\" style=\"fill:none;fill-rule:evenodd;stroke:#000000;stroke-width:1.0px;stroke-linecap:butt;stroke-linejoin:miter;stroke-opacity:1\"/>\n",
       "<path class=\"bond-24 atom-14 atom-21\" d=\"M 171.6,76.5 L 172.2,76.1\" style=\"fill:none;fill-rule:evenodd;stroke:#000000;stroke-width:1.0px;stroke-linecap:butt;stroke-linejoin:miter;stroke-opacity:1\"/>\n",
       "<path class=\"bond-24 atom-14 atom-21\" d=\"M 169.4,73.7 L 170.6,72.9\" style=\"fill:none;fill-rule:evenodd;stroke:#000000;stroke-width:1.0px;stroke-linecap:butt;stroke-linejoin:miter;stroke-opacity:1\"/>\n",
       "<path class=\"bond-24 atom-14 atom-21\" d=\"M 167.2,70.9 L 169.0,69.8\" style=\"fill:none;fill-rule:evenodd;stroke:#000000;stroke-width:1.0px;stroke-linecap:butt;stroke-linejoin:miter;stroke-opacity:1\"/>\n",
       "<path class=\"bond-24 atom-14 atom-21\" d=\"M 165.0,68.2 L 167.4,66.7\" style=\"fill:none;fill-rule:evenodd;stroke:#000000;stroke-width:1.0px;stroke-linecap:butt;stroke-linejoin:miter;stroke-opacity:1\"/>\n",
       "<path class=\"bond-24 atom-14 atom-21\" d=\"M 162.8,65.4 L 165.8,63.5\" style=\"fill:none;fill-rule:evenodd;stroke:#000000;stroke-width:1.0px;stroke-linecap:butt;stroke-linejoin:miter;stroke-opacity:1\"/>\n",
       "<path class=\"bond-24 atom-14 atom-21\" d=\"M 160.6,62.7 L 164.2,60.4\" style=\"fill:none;fill-rule:evenodd;stroke:#000000;stroke-width:1.0px;stroke-linecap:butt;stroke-linejoin:miter;stroke-opacity:1\"/>\n",
       "<path class=\"bond-24 atom-14 atom-21\" d=\"M 158.5,59.9 L 162.6,57.3\" style=\"fill:none;fill-rule:evenodd;stroke:#000000;stroke-width:1.0px;stroke-linecap:butt;stroke-linejoin:miter;stroke-opacity:1\"/>\n",
       "<path class=\"bond-24 atom-14 atom-21\" d=\"M 156.3,57.2 L 161.0,54.1\" style=\"fill:none;fill-rule:evenodd;stroke:#000000;stroke-width:1.0px;stroke-linecap:butt;stroke-linejoin:miter;stroke-opacity:1\"/>\n",
       "<path class=\"bond-24 atom-14 atom-21\" d=\"M 154.1,54.4 L 159.4,51.0\" style=\"fill:none;fill-rule:evenodd;stroke:#000000;stroke-width:1.0px;stroke-linecap:butt;stroke-linejoin:miter;stroke-opacity:1\"/>\n",
       "<path class=\"bond-25 atom-15 atom-22\" d=\"M 128.9,82.7 L 128.7,82.1\" style=\"fill:none;fill-rule:evenodd;stroke:#000000;stroke-width:1.0px;stroke-linecap:butt;stroke-linejoin:miter;stroke-opacity:1\"/>\n",
       "<path class=\"bond-25 atom-15 atom-22\" d=\"M 125.9,84.2 L 125.4,83.0\" style=\"fill:none;fill-rule:evenodd;stroke:#000000;stroke-width:1.0px;stroke-linecap:butt;stroke-linejoin:miter;stroke-opacity:1\"/>\n",
       "<path class=\"bond-25 atom-15 atom-22\" d=\"M 122.8,85.7 L 122.1,83.9\" style=\"fill:none;fill-rule:evenodd;stroke:#000000;stroke-width:1.0px;stroke-linecap:butt;stroke-linejoin:miter;stroke-opacity:1\"/>\n",
       "<path class=\"bond-25 atom-15 atom-22\" d=\"M 119.7,87.2 L 118.8,84.8\" style=\"fill:none;fill-rule:evenodd;stroke:#000000;stroke-width:1.0px;stroke-linecap:butt;stroke-linejoin:miter;stroke-opacity:1\"/>\n",
       "<path class=\"bond-25 atom-15 atom-22\" d=\"M 116.7,88.6 L 115.6,85.7\" style=\"fill:none;fill-rule:evenodd;stroke:#000000;stroke-width:1.0px;stroke-linecap:butt;stroke-linejoin:miter;stroke-opacity:1\"/>\n",
       "<path class=\"bond-25 atom-15 atom-22\" d=\"M 113.6,90.1 L 112.3,86.6\" style=\"fill:none;fill-rule:evenodd;stroke:#000000;stroke-width:1.0px;stroke-linecap:butt;stroke-linejoin:miter;stroke-opacity:1\"/>\n",
       "<path class=\"bond-25 atom-15 atom-22\" d=\"M 110.5,91.6 L 109.0,87.5\" style=\"fill:none;fill-rule:evenodd;stroke:#000000;stroke-width:1.0px;stroke-linecap:butt;stroke-linejoin:miter;stroke-opacity:1\"/>\n",
       "<path class=\"bond-25 atom-15 atom-22\" d=\"M 107.5,93.1 L 105.7,88.4\" style=\"fill:none;fill-rule:evenodd;stroke:#000000;stroke-width:1.0px;stroke-linecap:butt;stroke-linejoin:miter;stroke-opacity:1\"/>\n",
       "<path class=\"bond-25 atom-15 atom-22\" d=\"M 104.4,94.6 L 102.4,89.3\" style=\"fill:none;fill-rule:evenodd;stroke:#000000;stroke-width:1.0px;stroke-linecap:butt;stroke-linejoin:miter;stroke-opacity:1\"/>\n",
       "<path class=\"bond-25 atom-15 atom-22\" d=\"M 101.4,96.1 L 99.1,90.2\" style=\"fill:none;fill-rule:evenodd;stroke:#000000;stroke-width:1.0px;stroke-linecap:butt;stroke-linejoin:miter;stroke-opacity:1\"/>\n",
       "<path d=\"M 134.3,151.8 L 135.4,153.5 L 137.5,153.4\" style=\"fill:none;stroke:#000000;stroke-width:2.0px;stroke-linecap:butt;stroke-linejoin:miter;stroke-opacity:1;\"/>\n",
       "<path d=\"M 175.1,151.7 L 177.2,151.6 L 178.1,149.7\" style=\"fill:none;stroke:#000000;stroke-width:2.0px;stroke-linecap:butt;stroke-linejoin:miter;stroke-opacity:1;\"/>\n",
       "<path d=\"M 259.6,145.9 L 260.7,147.6 L 262.8,147.5\" style=\"fill:none;stroke:#000000;stroke-width:2.0px;stroke-linecap:butt;stroke-linejoin:miter;stroke-opacity:1;\"/>\n",
       "<path d=\"M 300.4,145.7 L 302.5,145.6 L 303.5,143.8\" style=\"fill:none;stroke:#000000;stroke-width:2.0px;stroke-linecap:butt;stroke-linejoin:miter;stroke-opacity:1;\"/>\n",
       "<path d=\"M 300.2,75.0 L 299.1,73.3 L 297.0,73.4\" style=\"fill:none;stroke:#000000;stroke-width:2.0px;stroke-linecap:butt;stroke-linejoin:miter;stroke-opacity:1;\"/>\n",
       "<path d=\"M 235.8,41.8 L 234.7,40.1 L 232.6,40.2\" style=\"fill:none;stroke:#000000;stroke-width:2.0px;stroke-linecap:butt;stroke-linejoin:miter;stroke-opacity:1;\"/>\n",
       "<path d=\"M 195.0,41.9 L 192.9,42.0 L 192.0,43.9\" style=\"fill:none;stroke:#000000;stroke-width:2.0px;stroke-linecap:butt;stroke-linejoin:miter;stroke-opacity:1;\"/>\n",
       "<path d=\"M 104.0,52.9 L 102.6,51.5 L 100.7,52.4\" style=\"fill:none;stroke:#000000;stroke-width:2.0px;stroke-linecap:butt;stroke-linejoin:miter;stroke-opacity:1;\"/>\n",
       "<path d=\"M 67.1,69.3 L 65.2,70.3 L 65.5,72.3\" style=\"fill:none;stroke:#000000;stroke-width:2.0px;stroke-linecap:butt;stroke-linejoin:miter;stroke-opacity:1;\"/>\n",
       "<path d=\"M 71.2,109.5 L 71.5,111.6 L 73.6,111.9\" style=\"fill:none;stroke:#000000;stroke-width:2.0px;stroke-linecap:butt;stroke-linejoin:miter;stroke-opacity:1;\"/>\n",
       "<path class=\"atom-9\" d=\"M 358.0 106.5 Q 358.0 103.7, 359.4 102.1 Q 360.8 100.5, 363.5 100.5 Q 366.1 100.5, 367.5 102.1 Q 368.9 103.7, 368.9 106.5 Q 368.9 109.4, 367.5 111.0 Q 366.0 112.7, 363.5 112.7 Q 360.8 112.7, 359.4 111.0 Q 358.0 109.4, 358.0 106.5 M 363.5 111.3 Q 365.3 111.3, 366.2 110.1 Q 367.2 108.9, 367.2 106.5 Q 367.2 104.2, 366.2 103.0 Q 365.3 101.8, 363.5 101.8 Q 361.6 101.8, 360.7 103.0 Q 359.7 104.2, 359.7 106.5 Q 359.7 108.9, 360.7 110.1 Q 361.6 111.3, 363.5 111.3 \" fill=\"#FF0000\"/>\n",
       "<path class=\"atom-9\" d=\"M 370.7 100.6 L 372.3 100.6 L 372.3 105.7 L 378.4 105.7 L 378.4 100.6 L 380.0 100.6 L 380.0 112.5 L 378.4 112.5 L 378.4 107.0 L 372.3 107.0 L 372.3 112.5 L 370.7 112.5 L 370.7 100.6 \" fill=\"#FF0000\"/>\n",
       "<path class=\"atom-19\" d=\"M 24.7 135.2 L 26.3 135.2 L 26.3 140.2 L 32.3 140.2 L 32.3 135.2 L 33.9 135.2 L 33.9 147.0 L 32.3 147.0 L 32.3 141.5 L 26.3 141.5 L 26.3 147.0 L 24.7 147.0 L 24.7 135.2 \" fill=\"#FF0000\"/>\n",
       "<path class=\"atom-19\" d=\"M 36.4 141.1 Q 36.4 138.2, 37.8 136.6 Q 39.2 135.0, 41.8 135.0 Q 44.4 135.0, 45.8 136.6 Q 47.2 138.2, 47.2 141.1 Q 47.2 143.9, 45.8 145.6 Q 44.4 147.2, 41.8 147.2 Q 39.2 147.2, 37.8 145.6 Q 36.4 143.9, 36.4 141.1 M 41.8 145.9 Q 43.6 145.9, 44.6 144.6 Q 45.6 143.4, 45.6 141.1 Q 45.6 138.7, 44.6 137.6 Q 43.6 136.4, 41.8 136.4 Q 40.0 136.4, 39.0 137.5 Q 38.0 138.7, 38.0 141.1 Q 38.0 143.4, 39.0 144.6 Q 40.0 145.9, 41.8 145.9 \" fill=\"#FF0000\"/>\n",
       "<path class=\"atom-20\" d=\"M 214.3 143.7 L 215.9 143.7 L 215.9 148.7 L 222.0 148.7 L 222.0 143.7 L 223.6 143.7 L 223.6 155.5 L 222.0 155.5 L 222.0 150.0 L 215.9 150.0 L 215.9 155.5 L 214.3 155.5 L 214.3 143.7 \" fill=\"#000000\"/>\n",
       "<path class=\"atom-21\" d=\"M 146.5 38.1 L 148.1 38.1 L 148.1 43.1 L 154.2 43.1 L 154.2 38.1 L 155.8 38.1 L 155.8 49.9 L 154.2 49.9 L 154.2 44.5 L 148.1 44.5 L 148.1 49.9 L 146.5 49.9 L 146.5 38.1 \" fill=\"#000000\"/>\n",
       "<path class=\"atom-22\" d=\"M 88.2 90.0 L 89.8 90.0 L 89.8 95.1 L 95.9 95.1 L 95.9 90.0 L 97.5 90.0 L 97.5 101.9 L 95.9 101.9 L 95.9 96.4 L 89.8 96.4 L 89.8 101.9 L 88.2 101.9 L 88.2 90.0 \" fill=\"#000000\"/>\n",
       "</svg>"
      ],
      "text/plain": [
       "<IPython.core.display.SVG object>"
      ]
     },
     "execution_count": 67,
     "metadata": {},
     "output_type": "execute_result"
    }
   ],
   "source": [
    "def increase_resolution(mol, substructure, size=(400, 200)):\n",
    "    \n",
    "    mol = deepcopy(mol)\n",
    "    substructure = deepcopy(substructure)\n",
    "    drawer = rdMolDraw2D.MolDraw2DSVG(size[0], size[1])\n",
    "    \n",
    "    # highlightAtoms expects only one tuple, not tuple of tuples. So it needs to be merged into a single tuple\n",
    "    matches = sum(mol.GetSubstructMatches(substructure, useChirality = True), ())\n",
    "    drawer.DrawMolecule(mol, highlightAtoms=matches)\n",
    "    \n",
    "    drawer.FinishDrawing()\n",
    "    svg = drawer.GetDrawingText()\n",
    "    \n",
    "    return svg.replace('svg:','')\n",
    "\n",
    "\n",
    "mol = Chem.MolFromSmiles('C[C@]12CC[C@@H]3c4ccc(O)cc4CC[C@@H]3[C@@H]1CC[C@@H]2O')\n",
    "substructure = Chem.MolFromSmarts('[C&H3:1][C@:2]1([C&H2:3])[C@&H1:4][C&H2:5][C&H2:6][C@@&H1:7]1[O&H1:8]')\n",
    "SVG(increase_resolution(mol, substructure))"
   ]
  },
  {
   "cell_type": "code",
   "execution_count": 65,
   "id": "2df9fe81",
   "metadata": {},
   "outputs": [
    {
     "name": "stdout",
     "output_type": "stream",
     "text": [
      "Is the smaller molecule a subset of the larger one? False\n"
     ]
    }
   ],
   "source": [
    "# Define the smaller (query) and larger (target) molecules\n",
    "smaller_molecule = Chem.MolFromSmarts('[C&H3:1][C@:2]1([C&H2:3])[C@&H1:4][C&H2:5][C&H2:6][C@@&H1:7]1[O&H1:8]')  # e.g., ethanol\n",
    "larger_molecule = Chem.MolFromSmiles('C[C@]12CC[C@@H]3c4ccc(O)cc4CC[C@@H]3[C@@H]1CC[C@@H]2O')  # e.g., butanol\n",
    "\n",
    "# Check if the smaller molecule is a substructure of the larger molecule\n",
    "is_subset = larger_molecule.HasSubstructMatch(smaller_molecule, useChirality = True)\n",
    "\n",
    "# Output the result\n",
    "print(f\"Is the smaller molecule a subset of the larger one? {is_subset}\")"
   ]
  },
  {
   "cell_type": "code",
   "execution_count": null,
   "id": "78e14b70",
   "metadata": {},
   "outputs": [],
   "source": []
  },
  {
   "cell_type": "code",
   "execution_count": 2,
   "id": "e906be06",
   "metadata": {},
   "outputs": [
    {
     "data": {
      "image/svg+xml": [
       "<svg xmlns=\"http://www.w3.org/2000/svg\" xmlns:rdkit=\"http://www.rdkit.org/xml\" xmlns:xlink=\"http://www.w3.org/1999/xlink\" version=\"1.1\" baseProfile=\"full\" xml:space=\"preserve\" width=\"400px\" height=\"200px\" viewBox=\"0 0 400 200\">\n",
       "<!-- END OF HEADER -->\n",
       "<rect style=\"opacity:1.0;fill:#FFFFFF;stroke:none\" width=\"400.0\" height=\"200.0\" x=\"0.0\" y=\"0.0\"> </rect>\n",
       "<path class=\"bond-5 atom-5 atom-6\" d=\"M 153.0,99.5 L 142.7,157.2 L 131.1,155.1 L 140.2,104.1 Z\" style=\"fill:#FF7F7F;fill-rule:evenodd;fill-opacity:1;stroke:#FF7F7F;stroke-width:0.0px;stroke-linecap:butt;stroke-linejoin:miter;stroke-opacity:1;\"/>\n",
       "<path class=\"bond-6 atom-5 atom-7\" d=\"M 105.6,59.5 L 153.0,99.5 L 140.2,104.1 L 103.2,72.8 Z\" style=\"fill:#FF7F7F;fill-rule:evenodd;fill-opacity:1;stroke:#FF7F7F;stroke-width:0.0px;stroke-linecap:butt;stroke-linejoin:miter;stroke-opacity:1;\"/>\n",
       "<path class=\"bond-7 atom-7 atom-8\" d=\"M 105.6,59.5 L 103.2,72.8 L 54.5,90.4 L 50.5,79.3 Z\" style=\"fill:#FF7F7F;fill-rule:evenodd;fill-opacity:1;stroke:#FF7F7F;stroke-width:0.0px;stroke-linecap:butt;stroke-linejoin:miter;stroke-opacity:1;\"/>\n",
       "<ellipse cx=\"146.6\" cy=\"101.8\" rx=\"11.0\" ry=\"11.0\" class=\"atom-5\" style=\"fill:#FF7F7F;fill-rule:evenodd;stroke:#FF7F7F;stroke-width:1.0px;stroke-linecap:butt;stroke-linejoin:miter;stroke-opacity:1\"/>\n",
       "<ellipse cx=\"144.2\" cy=\"156.3\" rx=\"20.5\" ry=\"11.4\" class=\"atom-6\" style=\"fill:#FF7F7F;fill-rule:evenodd;stroke:#FF7F7F;stroke-width:1.0px;stroke-linecap:butt;stroke-linejoin:miter;stroke-opacity:1\"/>\n",
       "<ellipse cx=\"104.4\" cy=\"66.1\" rx=\"11.0\" ry=\"11.0\" class=\"atom-7\" style=\"fill:#FF7F7F;fill-rule:evenodd;stroke:#FF7F7F;stroke-width:1.0px;stroke-linecap:butt;stroke-linejoin:miter;stroke-opacity:1\"/>\n",
       "<ellipse cx=\"44.8\" cy=\"85.0\" rx=\"21.1\" ry=\"11.4\" class=\"atom-8\" style=\"fill:#FF7F7F;fill-rule:evenodd;stroke:#FF7F7F;stroke-width:1.0px;stroke-linecap:butt;stroke-linejoin:miter;stroke-opacity:1\"/>\n",
       "<path class=\"bond-0 atom-0 atom-1\" d=\"M 325.2,190.0 L 329.1,167.8\" style=\"fill:none;fill-rule:evenodd;stroke:#000000;stroke-width:2.0px;stroke-linecap:butt;stroke-linejoin:miter;stroke-opacity:1\"/>\n",
       "<path class=\"bond-0 atom-0 atom-1\" d=\"M 329.1,167.8 L 333.1,145.6\" style=\"fill:none;fill-rule:evenodd;stroke:#FF0000;stroke-width:2.0px;stroke-linecap:butt;stroke-linejoin:miter;stroke-opacity:1\"/>\n",
       "<path class=\"bond-1 atom-1 atom-2\" d=\"M 325.9,128.0 L 309.3,114.0\" style=\"fill:none;fill-rule:evenodd;stroke:#FF0000;stroke-width:2.0px;stroke-linecap:butt;stroke-linejoin:miter;stroke-opacity:1\"/>\n",
       "<path class=\"bond-1 atom-1 atom-2\" d=\"M 309.3,114.0 L 292.7,100.0\" style=\"fill:none;fill-rule:evenodd;stroke:#000000;stroke-width:2.0px;stroke-linecap:butt;stroke-linejoin:miter;stroke-opacity:1\"/>\n",
       "<path class=\"bond-2 atom-2 atom-3\" d=\"M 292.7,100.0 L 240.8,118.7\" style=\"fill:none;fill-rule:evenodd;stroke:#000000;stroke-width:2.0px;stroke-linecap:butt;stroke-linejoin:miter;stroke-opacity:1\"/>\n",
       "<path class=\"bond-2 atom-2 atom-3\" d=\"M 285.4,93.8 L 242.5,109.3\" style=\"fill:none;fill-rule:evenodd;stroke:#000000;stroke-width:2.0px;stroke-linecap:butt;stroke-linejoin:miter;stroke-opacity:1\"/>\n",
       "<path class=\"bond-3 atom-3 atom-4\" d=\"M 240.8,118.7 L 198.6,83.1\" style=\"fill:none;fill-rule:evenodd;stroke:#000000;stroke-width:2.0px;stroke-linecap:butt;stroke-linejoin:miter;stroke-opacity:1\"/>\n",
       "<path class=\"bond-4 atom-4 atom-5\" d=\"M 198.6,83.1 L 146.6,101.8\" style=\"fill:none;fill-rule:evenodd;stroke:#000000;stroke-width:2.0px;stroke-linecap:butt;stroke-linejoin:miter;stroke-opacity:1\"/>\n",
       "<path class=\"bond-5 atom-5 atom-6\" d=\"M 146.6,101.8 L 144.8,123.6 L 140.7,122.8 Z\" style=\"fill:#000000;fill-rule:evenodd;fill-opacity:1;stroke:#000000;stroke-width:0.5px;stroke-linecap:butt;stroke-linejoin:miter;stroke-opacity:1;\"/>\n",
       "<path class=\"bond-5 atom-5 atom-6\" d=\"M 144.8,123.6 L 134.9,143.9 L 143.0,145.3 Z\" style=\"fill:#FF0000;fill-rule:evenodd;fill-opacity:1;stroke:#FF0000;stroke-width:0.5px;stroke-linecap:butt;stroke-linejoin:miter;stroke-opacity:1;\"/>\n",
       "<path class=\"bond-5 atom-5 atom-6\" d=\"M 144.8,123.6 L 140.7,122.8 L 134.9,143.9 Z\" style=\"fill:#FF0000;fill-rule:evenodd;fill-opacity:1;stroke:#FF0000;stroke-width:0.5px;stroke-linecap:butt;stroke-linejoin:miter;stroke-opacity:1;\"/>\n",
       "<path class=\"bond-6 atom-5 atom-7\" d=\"M 146.6,101.8 L 104.4,66.1\" style=\"fill:none;fill-rule:evenodd;stroke:#000000;stroke-width:2.0px;stroke-linecap:butt;stroke-linejoin:miter;stroke-opacity:1\"/>\n",
       "<path class=\"bond-7 atom-7 atom-8\" d=\"M 104.4,66.1 L 83.0,73.9\" style=\"fill:none;fill-rule:evenodd;stroke:#000000;stroke-width:2.0px;stroke-linecap:butt;stroke-linejoin:miter;stroke-opacity:1\"/>\n",
       "<path class=\"bond-7 atom-7 atom-8\" d=\"M 83.0,73.9 L 61.5,81.6\" style=\"fill:none;fill-rule:evenodd;stroke:#FF0000;stroke-width:2.0px;stroke-linecap:butt;stroke-linejoin:miter;stroke-opacity:1\"/>\n",
       "<path class=\"bond-8 atom-4 atom-9\" d=\"M 198.6,83.1 L 208.4,28.7\" style=\"fill:none;fill-rule:evenodd;stroke:#000000;stroke-width:2.0px;stroke-linecap:butt;stroke-linejoin:miter;stroke-opacity:1\"/>\n",
       "<path class=\"bond-8 atom-4 atom-9\" d=\"M 207.6,79.8 L 215.7,34.9\" style=\"fill:none;fill-rule:evenodd;stroke:#000000;stroke-width:2.0px;stroke-linecap:butt;stroke-linejoin:miter;stroke-opacity:1\"/>\n",
       "<path class=\"bond-9 atom-9 atom-10\" d=\"M 208.4,28.7 L 260.3,10.0\" style=\"fill:none;fill-rule:evenodd;stroke:#000000;stroke-width:2.0px;stroke-linecap:butt;stroke-linejoin:miter;stroke-opacity:1\"/>\n",
       "<path class=\"bond-10 atom-10 atom-11\" d=\"M 260.3,10.0 L 302.5,45.6\" style=\"fill:none;fill-rule:evenodd;stroke:#000000;stroke-width:2.0px;stroke-linecap:butt;stroke-linejoin:miter;stroke-opacity:1\"/>\n",
       "<path class=\"bond-10 atom-10 atom-11\" d=\"M 258.6,19.4 L 293.5,48.9\" style=\"fill:none;fill-rule:evenodd;stroke:#000000;stroke-width:2.0px;stroke-linecap:butt;stroke-linejoin:miter;stroke-opacity:1\"/>\n",
       "<path class=\"bond-11 atom-11 atom-12\" d=\"M 302.5,45.6 L 324.0,37.9\" style=\"fill:none;fill-rule:evenodd;stroke:#000000;stroke-width:2.0px;stroke-linecap:butt;stroke-linejoin:miter;stroke-opacity:1\"/>\n",
       "<path class=\"bond-11 atom-11 atom-12\" d=\"M 324.0,37.9 L 345.5,30.2\" style=\"fill:none;fill-rule:evenodd;stroke:#FF0000;stroke-width:2.0px;stroke-linecap:butt;stroke-linejoin:miter;stroke-opacity:1\"/>\n",
       "<path class=\"bond-12 atom-11 atom-2\" d=\"M 302.5,45.6 L 292.7,100.0\" style=\"fill:none;fill-rule:evenodd;stroke:#000000;stroke-width:2.0px;stroke-linecap:butt;stroke-linejoin:miter;stroke-opacity:1\"/>\n",
       "<path d=\"M 243.4,117.8 L 240.8,118.7 L 238.7,116.9\" style=\"fill:none;stroke:#000000;stroke-width:2.0px;stroke-linecap:butt;stroke-linejoin:miter;stroke-opacity:1;\"/>\n",
       "<path d=\"M 149.2,100.9 L 146.6,101.8 L 144.5,100.0\" style=\"fill:none;stroke:#000000;stroke-width:2.0px;stroke-linecap:butt;stroke-linejoin:miter;stroke-opacity:1;\"/>\n",
       "<path d=\"M 106.5,67.9 L 104.4,66.1 L 103.4,66.5\" style=\"fill:none;stroke:#000000;stroke-width:2.0px;stroke-linecap:butt;stroke-linejoin:miter;stroke-opacity:1;\"/>\n",
       "<path d=\"M 207.9,31.4 L 208.4,28.7 L 211.0,27.8\" style=\"fill:none;stroke:#000000;stroke-width:2.0px;stroke-linecap:butt;stroke-linejoin:miter;stroke-opacity:1;\"/>\n",
       "<path d=\"M 257.7,10.9 L 260.3,10.0 L 262.4,11.8\" style=\"fill:none;stroke:#000000;stroke-width:2.0px;stroke-linecap:butt;stroke-linejoin:miter;stroke-opacity:1;\"/>\n",
       "<path class=\"atom-1\" d=\"M 327.7 135.7 Q 327.7 131.9, 329.6 129.8 Q 331.5 127.7, 334.9 127.7 Q 338.4 127.7, 340.3 129.8 Q 342.1 131.9, 342.1 135.7 Q 342.1 139.5, 340.2 141.7 Q 338.4 143.8, 334.9 143.8 Q 331.5 143.8, 329.6 141.7 Q 327.7 139.5, 327.7 135.7 M 334.9 142.0 Q 337.3 142.0, 338.6 140.4 Q 339.9 138.8, 339.9 135.7 Q 339.9 132.6, 338.6 131.1 Q 337.3 129.5, 334.9 129.5 Q 332.5 129.5, 331.2 131.0 Q 330.0 132.6, 330.0 135.7 Q 330.0 138.8, 331.2 140.4 Q 332.5 142.0, 334.9 142.0 \" fill=\"#FF0000\"/>\n",
       "<path class=\"atom-6\" d=\"M 129.7 156.2 Q 129.7 152.4, 131.5 150.3 Q 133.4 148.2, 136.9 148.2 Q 140.3 148.2, 142.2 150.3 Q 144.0 152.4, 144.0 156.2 Q 144.0 160.0, 142.2 162.2 Q 140.3 164.3, 136.9 164.3 Q 133.4 164.3, 131.5 162.2 Q 129.7 160.0, 129.7 156.2 M 136.9 162.5 Q 139.2 162.5, 140.5 160.9 Q 141.8 159.3, 141.8 156.2 Q 141.8 153.1, 140.5 151.6 Q 139.2 150.0, 136.9 150.0 Q 134.5 150.0, 133.2 151.6 Q 131.9 153.1, 131.9 156.2 Q 131.9 159.4, 133.2 160.9 Q 134.5 162.5, 136.9 162.5 \" fill=\"#FF0000\"/>\n",
       "<path class=\"atom-6\" d=\"M 146.5 148.4 L 148.6 148.4 L 148.6 155.1 L 156.6 155.1 L 156.6 148.4 L 158.7 148.4 L 158.7 164.1 L 156.6 164.1 L 156.6 156.8 L 148.6 156.8 L 148.6 164.1 L 146.5 164.1 L 146.5 148.4 \" fill=\"#FF0000\"/>\n",
       "<path class=\"atom-8\" d=\"M 29.8 77.1 L 32.0 77.1 L 32.0 83.8 L 40.0 83.8 L 40.0 77.1 L 42.1 77.1 L 42.1 92.8 L 40.0 92.8 L 40.0 85.5 L 32.0 85.5 L 32.0 92.8 L 29.8 92.8 L 29.8 77.1 \" fill=\"#FF0000\"/>\n",
       "<path class=\"atom-8\" d=\"M 45.3 84.9 Q 45.3 81.2, 47.2 79.1 Q 49.0 77.0, 52.5 77.0 Q 55.9 77.0, 57.8 79.1 Q 59.7 81.2, 59.7 84.9 Q 59.7 88.7, 57.8 90.9 Q 55.9 93.0, 52.5 93.0 Q 49.0 93.0, 47.2 90.9 Q 45.3 88.7, 45.3 84.9 M 52.5 91.2 Q 54.9 91.2, 56.1 89.7 Q 57.4 88.0, 57.4 84.9 Q 57.4 81.8, 56.1 80.3 Q 54.9 78.7, 52.5 78.7 Q 50.1 78.7, 48.8 80.3 Q 47.5 81.8, 47.5 84.9 Q 47.5 88.1, 48.8 89.7 Q 50.1 91.2, 52.5 91.2 \" fill=\"#FF0000\"/>\n",
       "<path class=\"atom-12\" d=\"M 347.3 27.0 Q 347.3 23.2, 349.1 21.1 Q 351.0 19.0, 354.5 19.0 Q 357.9 19.0, 359.8 21.1 Q 361.7 23.2, 361.7 27.0 Q 361.7 30.8, 359.8 32.9 Q 357.9 35.1, 354.5 35.1 Q 351.0 35.1, 349.1 32.9 Q 347.3 30.8, 347.3 27.0 M 354.5 33.3 Q 356.9 33.3, 358.1 31.7 Q 359.4 30.1, 359.4 27.0 Q 359.4 23.9, 358.1 22.4 Q 356.9 20.8, 354.5 20.8 Q 352.1 20.8, 350.8 22.3 Q 349.5 23.9, 349.5 27.0 Q 349.5 30.1, 350.8 31.7 Q 352.1 33.3, 354.5 33.3 \" fill=\"#FF0000\"/>\n",
       "<path class=\"atom-12\" d=\"M 364.1 19.2 L 366.2 19.2 L 366.2 25.8 L 374.2 25.8 L 374.2 19.2 L 376.3 19.2 L 376.3 34.8 L 374.2 34.8 L 374.2 27.6 L 366.2 27.6 L 366.2 34.8 L 364.1 34.8 L 364.1 19.2 \" fill=\"#FF0000\"/>\n",
       "</svg>"
      ],
      "text/plain": [
       "<IPython.core.display.SVG object>"
      ]
     },
     "execution_count": 2,
     "metadata": {},
     "output_type": "execute_result"
    }
   ],
   "source": [
    "def increase_resolution(mol, substructure, size=(400, 200)):\n",
    "    \n",
    "    mol = deepcopy(mol)\n",
    "    substructure = deepcopy(substructure)\n",
    "    drawer = rdMolDraw2D.MolDraw2DSVG(size[0], size[1])\n",
    "    \n",
    "    # highlightAtoms expects only one tuple, not tuple of tuples. So it needs to be merged into a single tuple\n",
    "    matches = sum(mol.GetSubstructMatches(substructure, useChirality = True), ())\n",
    "    drawer.DrawMolecule(mol, highlightAtoms=matches)\n",
    "    \n",
    "    drawer.FinishDrawing()\n",
    "    svg = drawer.GetDrawingText()\n",
    "    \n",
    "    return svg.replace('svg:','')\n",
    "\n",
    "\n",
    "mol = Chem.MolFromSmiles('COc1cc([C@@H](O)CO)ccc1O')\n",
    "substructure = Chem.MolFromSmarts('[C@@H:6]([OH:7])[CH2:8][OH:9]')\n",
    "SVG(increase_resolution(mol, substructure))"
   ]
  },
  {
   "cell_type": "code",
   "execution_count": 3,
   "id": "086abd28",
   "metadata": {},
   "outputs": [
    {
     "ename": "NameError",
     "evalue": "name 'smaller_molecule' is not defined",
     "output_type": "error",
     "traceback": [
      "\u001b[0;31m---------------------------------------------------------------------------\u001b[0m",
      "\u001b[0;31mNameError\u001b[0m                                 Traceback (most recent call last)",
      "Cell \u001b[0;32mIn[3], line 1\u001b[0m\n\u001b[0;32m----> 1\u001b[0m smaller_smiles \u001b[38;5;241m=\u001b[39m Chem\u001b[38;5;241m.\u001b[39mMolToSmiles(\u001b[43msmaller_molecule\u001b[49m, isomericSmiles\u001b[38;5;241m=\u001b[39m\u001b[38;5;28;01mTrue\u001b[39;00m)\n\u001b[1;32m      2\u001b[0m larger_smiles \u001b[38;5;241m=\u001b[39m Chem\u001b[38;5;241m.\u001b[39mMolToSmiles(larger_molecule, isomericSmiles\u001b[38;5;241m=\u001b[39m\u001b[38;5;28;01mTrue\u001b[39;00m)\n\u001b[1;32m      4\u001b[0m \u001b[38;5;28mprint\u001b[39m(\u001b[38;5;124m\"\u001b[39m\u001b[38;5;124mSmaller molecule SMILES:\u001b[39m\u001b[38;5;124m\"\u001b[39m, smaller_smiles)\n",
      "\u001b[0;31mNameError\u001b[0m: name 'smaller_molecule' is not defined"
     ]
    }
   ],
   "source": [
    "smaller_smiles = Chem.MolToSmiles(smaller_molecule, isomericSmiles=True)\n",
    "larger_smiles = Chem.MolToSmiles(larger_molecule, isomericSmiles=True)\n",
    "\n",
    "print(\"Smaller molecule SMILES:\", smaller_smiles)\n",
    "print(\"Larger molecule SMILES:\", larger_smiles)\n"
   ]
  },
  {
   "cell_type": "code",
   "execution_count": null,
   "id": "4d2c425d",
   "metadata": {},
   "outputs": [],
   "source": [
    "Chem.MolFromSmarts('[CH3:1][O:2][c:3]1[cH:4][c:5]([C@@H:6]([OH:7])[CH2:8][OH:9])[cH:10][cH:11][c:12]1[OH:13]')"
   ]
  },
  {
   "cell_type": "code",
   "execution_count": null,
   "id": "a33aef65",
   "metadata": {},
   "outputs": [],
   "source": [
    "Chem.MolFromSmarts('[C@@H:1]([OH:2])[CH2:3][OH:4]')"
   ]
  },
  {
   "cell_type": "code",
   "execution_count": 4,
   "id": "b89456fd",
   "metadata": {},
   "outputs": [
    {
     "name": "stdout",
     "output_type": "stream",
     "text": [
      "Chiral centers in query: [(1, 'R')]\n",
      "Chiral centers in target: [(5, 'S')]\n",
      "Is the smaller molecule a subset of the larger one? False\n",
      "Matches: ()\n"
     ]
    }
   ],
   "source": [
    "from rdkit import Chem\n",
    "\n",
    "# Define the smaller (query) molecule with additional context\n",
    "smaller_molecule = Chem.MolFromSmarts('[C:5][C@@H:6]([OH:7])[CH2:8][OH:9]')\n",
    "Chem.SanitizeMol(smaller_molecule)\n",
    "smaller_molecule = Chem.AddHs(smaller_molecule)\n",
    "Chem.AssignStereochemistry(smaller_molecule, force=True)\n",
    "\n",
    "# Define the larger (target) molecule\n",
    "larger_molecule = Chem.MolFromSmiles('COc1cc([C@H](O)CO)ccc1O')\n",
    "Chem.SanitizeMol(larger_molecule)\n",
    "larger_molecule = Chem.AddHs(larger_molecule)\n",
    "Chem.AssignStereochemistry(larger_molecule, force=True)\n",
    "\n",
    "# Verify chiral centers\n",
    "print(\"Chiral centers in query:\", Chem.FindMolChiralCenters(smaller_molecule, includeUnassigned=True))\n",
    "print(\"Chiral centers in target:\", Chem.FindMolChiralCenters(larger_molecule, includeUnassigned=True))\n",
    "\n",
    "# Perform substructure matching\n",
    "is_subset = larger_molecule.HasSubstructMatch(smaller_molecule, useChirality=True)\n",
    "print(f\"Is the smaller molecule a subset of the larger one? {is_subset}\")\n",
    "\n",
    "# Get and print matches\n",
    "matches = larger_molecule.GetSubstructMatches(smaller_molecule, useChirality=True)\n",
    "print(\"Matches:\", matches)"
   ]
  },
  {
   "cell_type": "code",
   "execution_count": null,
   "id": "64eb0279",
   "metadata": {},
   "outputs": [],
   "source": []
  },
  {
   "cell_type": "code",
   "execution_count": 5,
   "id": "191734a9",
   "metadata": {},
   "outputs": [
    {
     "name": "stdout",
     "output_type": "stream",
     "text": [
      "Is the smaller molecule a subset of the larger one? True\n",
      "(5, 6, 7, 8, 17, 18, 19, 20, 21)\n"
     ]
    }
   ],
   "source": [
    "# Define the smaller (query) and larger (target) molecules\n",
    "#smaller_molecule = Chem.MolFromSmarts('[CH3:1][O:2][c:3]1[cH:4][c:5]([C@@H:6]([OH:7])[CH2:8][OH:9])[cH:10][cH:11][c:12]1[OH:13]')  # e.g., ethanol\n",
    "smaller_molecule = Chem.MolFromSmarts('[C@@H:6]([OH:7])[CH2:8][OH:9]')\n",
    "Chem.SanitizeMol(smaller_molecule, Chem.SanitizeFlags.SANITIZE_ALL)\n",
    "smaller_molecule = Chem.AddHs(smaller_molecule)\n",
    "\n",
    "larger_molecule = Chem.MolFromSmiles('COc1cc([C@H](O)CO)ccc1O')  # e.g., butanol\n",
    "Chem.SanitizeMol(larger_molecule, Chem.SanitizeFlags.SANITIZE_ALL)\n",
    "larger_molecule = Chem.AddHs(larger_molecule)\n",
    "\n",
    "Chem.AssignStereochemistry(smaller_molecule, cleanIt=True, force=True)\n",
    "Chem.AssignStereochemistry(larger_molecule, cleanIt=True, force=True)\n",
    "\n",
    "# Check if the smaller molecule is a substructure of the larger molecule\n",
    "is_subset = larger_molecule.HasSubstructMatch(smaller_molecule, useChirality = True)\n",
    "\n",
    "# Output the result\n",
    "print(f\"Is the smaller molecule a subset of the larger one? {is_subset}\")\n",
    "\n",
    "for match in larger_molecule.GetSubstructMatches(smaller_molecule):\n",
    "    print(match)"
   ]
  },
  {
   "cell_type": "code",
   "execution_count": 6,
   "id": "4b1ca504",
   "metadata": {},
   "outputs": [
    {
     "name": "stdout",
     "output_type": "stream",
     "text": [
      "Is the smaller molecule a subset of the larger one? True\n",
      "(5, 6, 7, 8, 9)\n"
     ]
    }
   ],
   "source": [
    "# Define the smaller (query) and larger (target) molecules\n",
    "smaller_molecule = Chem.MolFromSmarts('[O:1][C@@&H1:2]([O&H1:3])[C@@&H1:4][O&H1:5]')  # e.g., ethanol\n",
    "Chem.SanitizeMol(smaller_molecule, Chem.SanitizeFlags.SANITIZE_ALL)\n",
    "smaller_molecule = Chem.AddHs(smaller_molecule)\n",
    "\n",
    "larger_molecule = Chem.MolFromSmiles('O[C@H]1[C@@H](CO)O[C@H](O)[C@H](O)[C@H]1O')  # e.g., butanol\n",
    "Chem.SanitizeMol(larger_molecule, Chem.SanitizeFlags.SANITIZE_ALL)\n",
    "larger_molecule = Chem.AddHs(larger_molecule)\n",
    "\n",
    "Chem.AssignStereochemistry(smaller_molecule, cleanIt=True, force=True)\n",
    "Chem.AssignStereochemistry(larger_molecule, cleanIt=True, force=True)\n",
    "\n",
    "# Check if the smaller molecule is a substructure of the larger molecule\n",
    "is_subset = larger_molecule.HasSubstructMatch(smaller_molecule, useChirality = True)\n",
    "\n",
    "# Output the result\n",
    "print(f\"Is the smaller molecule a subset of the larger one? {is_subset}\")\n",
    "\n",
    "for match in larger_molecule.GetSubstructMatches(smaller_molecule):\n",
    "    print(match)"
   ]
  },
  {
   "cell_type": "code",
   "execution_count": 7,
   "id": "f73e2407",
   "metadata": {},
   "outputs": [
    {
     "name": "stdout",
     "output_type": "stream",
     "text": [
      "Matches: ((5, 6, 7, 8, 9),)\n"
     ]
    }
   ],
   "source": [
    "matches = larger_molecule.GetSubstructMatches(smaller_molecule, useChirality=True)\n",
    "print(f\"Matches: {matches}\")\n"
   ]
  },
  {
   "cell_type": "code",
   "execution_count": 8,
   "id": "16c7b4d6",
   "metadata": {},
   "outputs": [
    {
     "data": {
      "text/plain": [
       "True"
      ]
     },
     "execution_count": 8,
     "metadata": {},
     "output_type": "execute_result"
    }
   ],
   "source": [
    "molecule = Chem.MolFromSmiles('[C@H](Cl)(Br)I')\n",
    "shouldMatch = Chem.MolFromSmarts('[C@H](Cl)(Br)I')\n",
    "shouldNotMatch = Chem.MolFromSmarts('[C@@H](Cl)(Br)I')\n",
    "molecule.HasSubstructMatch(shouldMatch, useChirality=True)"
   ]
  },
  {
   "cell_type": "code",
   "execution_count": 9,
   "id": "c883e950",
   "metadata": {},
   "outputs": [
    {
     "data": {
      "text/plain": [
       "False"
      ]
     },
     "execution_count": 9,
     "metadata": {},
     "output_type": "execute_result"
    }
   ],
   "source": [
    "\n",
    "molecule.HasSubstructMatch(shouldNotMatch, useChirality=True)\n",
    "#True"
   ]
  },
  {
   "cell_type": "code",
   "execution_count": 11,
   "id": "25de037c",
   "metadata": {},
   "outputs": [
    {
     "data": {
      "image/png": "[encoded data removed]",
      "text/plain": [
       "<rdkit.Chem.rdchem.Mol at 0x7f8dd233bdd0>"
      ]
     },
     "execution_count": 11,
     "metadata": {},
     "output_type": "execute_result"
    }
   ],
   "source": [
    "Chem.MolFromSmiles('O[C@H]1[C@H](O)[C@@H](O)[C@H](O)[C@@H](CO)O1')"
   ]
  },
  {
   "cell_type": "code",
   "execution_count": 52,
   "id": "faffe53b",
   "metadata": {},
   "outputs": [
    {
     "data": {
      "image/svg+xml": [
       "<svg xmlns=\"http://www.w3.org/2000/svg\" xmlns:rdkit=\"http://www.rdkit.org/xml\" xmlns:xlink=\"http://www.w3.org/1999/xlink\" version=\"1.1\" baseProfile=\"full\" xml:space=\"preserve\" width=\"400px\" height=\"200px\" viewBox=\"0 0 400 200\">\n",
       "<!-- END OF HEADER -->\n",
       "<rect style=\"opacity:1.0;fill:#FFFFFF;stroke:none\" width=\"400.0\" height=\"200.0\" x=\"0.0\" y=\"0.0\"> </rect>\n",
       "<path class=\"bond-0 atom-1 atom-0\" d=\"M 167.2,141.5 L 161.0,158.3 L 157.9,156.8 Z\" style=\"fill:#000000;fill-rule:evenodd;fill-opacity:1;stroke:#000000;stroke-width:0.5px;stroke-linecap:butt;stroke-linejoin:miter;stroke-opacity:1;\"/>\n",
       "<path class=\"bond-0 atom-1 atom-0\" d=\"M 161.0,158.3 L 148.6,172.0 L 154.8,175.0 Z\" style=\"fill:#FF0000;fill-rule:evenodd;fill-opacity:1;stroke:#FF0000;stroke-width:0.5px;stroke-linecap:butt;stroke-linejoin:miter;stroke-opacity:1;\"/>\n",
       "<path class=\"bond-0 atom-1 atom-0\" d=\"M 161.0,158.3 L 157.9,156.8 L 148.6,172.0 Z\" style=\"fill:#FF0000;fill-rule:evenodd;fill-opacity:1;stroke:#FF0000;stroke-width:0.5px;stroke-linecap:butt;stroke-linejoin:miter;stroke-opacity:1;\"/>\n",
       "<path class=\"bond-1 atom-1 atom-2\" d=\"M 167.2,141.5 L 141.2,103.3\" style=\"fill:none;fill-rule:evenodd;stroke:#000000;stroke-width:2.0px;stroke-linecap:butt;stroke-linejoin:miter;stroke-opacity:1\"/>\n",
       "<path class=\"bond-2 atom-2 atom-3\" d=\"M 137.9,103.8 L 137.8,103.2\" style=\"fill:none;fill-rule:evenodd;stroke:#000000;stroke-width:1.0px;stroke-linecap:butt;stroke-linejoin:miter;stroke-opacity:1\"/>\n",
       "<path class=\"bond-2 atom-2 atom-3\" d=\"M 134.5,104.4 L 134.4,103.1\" style=\"fill:none;fill-rule:evenodd;stroke:#000000;stroke-width:1.0px;stroke-linecap:butt;stroke-linejoin:miter;stroke-opacity:1\"/>\n",
       "<path class=\"bond-2 atom-2 atom-3\" d=\"M 131.2,104.9 L 131.0,103.1\" style=\"fill:none;fill-rule:evenodd;stroke:#000000;stroke-width:1.0px;stroke-linecap:butt;stroke-linejoin:miter;stroke-opacity:1\"/>\n",
       "<path class=\"bond-2 atom-2 atom-3\" d=\"M 127.8,105.5 L 127.6,103.0\" style=\"fill:none;fill-rule:evenodd;stroke:#000000;stroke-width:1.0px;stroke-linecap:butt;stroke-linejoin:miter;stroke-opacity:1\"/>\n",
       "<path class=\"bond-2 atom-2 atom-3\" d=\"M 124.5,106.1 L 124.2,102.9\" style=\"fill:none;fill-rule:evenodd;stroke:#000000;stroke-width:1.0px;stroke-linecap:butt;stroke-linejoin:miter;stroke-opacity:1\"/>\n",
       "<path class=\"bond-2 atom-2 atom-3\" d=\"M 121.1,106.6 L 120.8,102.9\" style=\"fill:none;fill-rule:evenodd;stroke:#FF0000;stroke-width:1.0px;stroke-linecap:butt;stroke-linejoin:miter;stroke-opacity:1\"/>\n",
       "<path class=\"bond-2 atom-2 atom-3\" d=\"M 117.8,107.2 L 117.4,102.8\" style=\"fill:none;fill-rule:evenodd;stroke:#FF0000;stroke-width:1.0px;stroke-linecap:butt;stroke-linejoin:miter;stroke-opacity:1\"/>\n",
       "<path class=\"bond-2 atom-2 atom-3\" d=\"M 114.4,107.8 L 114.1,102.7\" style=\"fill:none;fill-rule:evenodd;stroke:#FF0000;stroke-width:1.0px;stroke-linecap:butt;stroke-linejoin:miter;stroke-opacity:1\"/>\n",
       "<path class=\"bond-2 atom-2 atom-3\" d=\"M 111.1,108.3 L 110.7,102.6\" style=\"fill:none;fill-rule:evenodd;stroke:#FF0000;stroke-width:1.0px;stroke-linecap:butt;stroke-linejoin:miter;stroke-opacity:1\"/>\n",
       "<path class=\"bond-2 atom-2 atom-3\" d=\"M 107.7,108.9 L 107.3,102.6\" style=\"fill:none;fill-rule:evenodd;stroke:#FF0000;stroke-width:1.0px;stroke-linecap:butt;stroke-linejoin:miter;stroke-opacity:1\"/>\n",
       "<path class=\"bond-2 atom-2 atom-3\" d=\"M 104.4,109.4 L 103.9,102.5\" style=\"fill:none;fill-rule:evenodd;stroke:#FF0000;stroke-width:1.0px;stroke-linecap:butt;stroke-linejoin:miter;stroke-opacity:1\"/>\n",
       "<path class=\"bond-3 atom-2 atom-4\" d=\"M 141.2,103.3 L 161.3,61.6\" style=\"fill:none;fill-rule:evenodd;stroke:#000000;stroke-width:2.0px;stroke-linecap:butt;stroke-linejoin:miter;stroke-opacity:1\"/>\n",
       "<path class=\"bond-4 atom-4 atom-5\" d=\"M 161.3,61.6 L 150.3,48.4 L 153.1,46.5 Z\" style=\"fill:#000000;fill-rule:evenodd;fill-opacity:1;stroke:#000000;stroke-width:0.5px;stroke-linecap:butt;stroke-linejoin:miter;stroke-opacity:1;\"/>\n",
       "<path class=\"bond-4 atom-4 atom-5\" d=\"M 150.3,48.4 L 144.9,31.3 L 139.2,35.2 Z\" style=\"fill:#FF0000;fill-rule:evenodd;fill-opacity:1;stroke:#FF0000;stroke-width:0.5px;stroke-linecap:butt;stroke-linejoin:miter;stroke-opacity:1;\"/>\n",
       "<path class=\"bond-4 atom-4 atom-5\" d=\"M 150.3,48.4 L 153.1,46.5 L 144.9,31.3 Z\" style=\"fill:#FF0000;fill-rule:evenodd;fill-opacity:1;stroke:#FF0000;stroke-width:0.5px;stroke-linecap:butt;stroke-linejoin:miter;stroke-opacity:1;\"/>\n",
       "<path class=\"bond-5 atom-4 atom-6\" d=\"M 161.3,61.6 L 207.5,58.3\" style=\"fill:none;fill-rule:evenodd;stroke:#000000;stroke-width:2.0px;stroke-linecap:butt;stroke-linejoin:miter;stroke-opacity:1\"/>\n",
       "<path class=\"bond-6 atom-6 atom-7\" d=\"M 208.7,54.9 L 209.3,55.2\" style=\"fill:none;fill-rule:evenodd;stroke:#000000;stroke-width:1.0px;stroke-linecap:butt;stroke-linejoin:miter;stroke-opacity:1\"/>\n",
       "<path class=\"bond-6 atom-6 atom-7\" d=\"M 209.9,51.6 L 211.2,52.2\" style=\"fill:none;fill-rule:evenodd;stroke:#000000;stroke-width:1.0px;stroke-linecap:butt;stroke-linejoin:miter;stroke-opacity:1\"/>\n",
       "<path class=\"bond-6 atom-6 atom-7\" d=\"M 211.2,48.3 L 213.0,49.2\" style=\"fill:none;fill-rule:evenodd;stroke:#000000;stroke-width:1.0px;stroke-linecap:butt;stroke-linejoin:miter;stroke-opacity:1\"/>\n",
       "<path class=\"bond-6 atom-6 atom-7\" d=\"M 212.4,45.0 L 214.9,46.2\" style=\"fill:none;fill-rule:evenodd;stroke:#000000;stroke-width:1.0px;stroke-linecap:butt;stroke-linejoin:miter;stroke-opacity:1\"/>\n",
       "<path class=\"bond-6 atom-6 atom-7\" d=\"M 213.6,41.6 L 216.7,43.1\" style=\"fill:none;fill-rule:evenodd;stroke:#000000;stroke-width:1.0px;stroke-linecap:butt;stroke-linejoin:miter;stroke-opacity:1\"/>\n",
       "<path class=\"bond-6 atom-6 atom-7\" d=\"M 214.8,38.3 L 218.6,40.1\" style=\"fill:none;fill-rule:evenodd;stroke:#FF0000;stroke-width:1.0px;stroke-linecap:butt;stroke-linejoin:miter;stroke-opacity:1\"/>\n",
       "<path class=\"bond-6 atom-6 atom-7\" d=\"M 216.1,35.0 L 220.4,37.1\" style=\"fill:none;fill-rule:evenodd;stroke:#FF0000;stroke-width:1.0px;stroke-linecap:butt;stroke-linejoin:miter;stroke-opacity:1\"/>\n",
       "<path class=\"bond-6 atom-6 atom-7\" d=\"M 217.3,31.6 L 222.3,34.1\" style=\"fill:none;fill-rule:evenodd;stroke:#FF0000;stroke-width:1.0px;stroke-linecap:butt;stroke-linejoin:miter;stroke-opacity:1\"/>\n",
       "<path class=\"bond-6 atom-6 atom-7\" d=\"M 218.5,28.3 L 224.1,31.0\" style=\"fill:none;fill-rule:evenodd;stroke:#FF0000;stroke-width:1.0px;stroke-linecap:butt;stroke-linejoin:miter;stroke-opacity:1\"/>\n",
       "<path class=\"bond-6 atom-6 atom-7\" d=\"M 219.7,25.0 L 226.0,28.0\" style=\"fill:none;fill-rule:evenodd;stroke:#FF0000;stroke-width:1.0px;stroke-linecap:butt;stroke-linejoin:miter;stroke-opacity:1\"/>\n",
       "<path class=\"bond-7 atom-6 atom-8\" d=\"M 207.5,58.3 L 233.5,96.5\" style=\"fill:none;fill-rule:evenodd;stroke:#000000;stroke-width:2.0px;stroke-linecap:butt;stroke-linejoin:miter;stroke-opacity:1\"/>\n",
       "<path class=\"bond-8 atom-8 atom-9\" d=\"M 233.5,96.5 L 277.4,90.0 L 282.0,96.6 Z\" style=\"fill:#000000;fill-rule:evenodd;fill-opacity:1;stroke:#000000;stroke-width:0.5px;stroke-linecap:butt;stroke-linejoin:miter;stroke-opacity:1;\"/>\n",
       "<path class=\"bond-9 atom-9 atom-10\" d=\"M 277.4,90.0 L 289.8,108.2\" style=\"fill:none;fill-rule:evenodd;stroke:#000000;stroke-width:2.0px;stroke-linecap:butt;stroke-linejoin:miter;stroke-opacity:1\"/>\n",
       "<path class=\"bond-9 atom-9 atom-10\" d=\"M 289.8,108.2 L 300.0,123.3\" style=\"fill:none;fill-rule:evenodd;stroke:#FF0000;stroke-width:2.0px;stroke-linecap:butt;stroke-linejoin:miter;stroke-opacity:1\"/>\n",
       "<path class=\"bond-10 atom-8 atom-11\" d=\"M 233.5,96.5 L 225.4,113.3\" style=\"fill:none;fill-rule:evenodd;stroke:#000000;stroke-width:2.0px;stroke-linecap:butt;stroke-linejoin:miter;stroke-opacity:1\"/>\n",
       "<path class=\"bond-10 atom-8 atom-11\" d=\"M 225.4,113.3 L 217.3,130.0\" style=\"fill:none;fill-rule:evenodd;stroke:#FF0000;stroke-width:2.0px;stroke-linecap:butt;stroke-linejoin:miter;stroke-opacity:1\"/>\n",
       "<path class=\"bond-11 atom-11 atom-1\" d=\"M 205.8,138.7 L 186.5,140.1\" style=\"fill:none;fill-rule:evenodd;stroke:#FF0000;stroke-width:2.0px;stroke-linecap:butt;stroke-linejoin:miter;stroke-opacity:1\"/>\n",
       "<path class=\"bond-11 atom-11 atom-1\" d=\"M 186.5,140.1 L 167.2,141.5\" style=\"fill:none;fill-rule:evenodd;stroke:#000000;stroke-width:2.0px;stroke-linecap:butt;stroke-linejoin:miter;stroke-opacity:1\"/>\n",
       "<path d=\"M 165.9,139.6 L 167.2,141.5 L 168.1,141.5\" style=\"fill:none;stroke:#000000;stroke-width:2.0px;stroke-linecap:butt;stroke-linejoin:miter;stroke-opacity:1;\"/>\n",
       "<path d=\"M 142.5,105.2 L 141.2,103.3 L 142.2,101.2\" style=\"fill:none;stroke:#000000;stroke-width:2.0px;stroke-linecap:butt;stroke-linejoin:miter;stroke-opacity:1;\"/>\n",
       "<path d=\"M 160.3,63.7 L 161.3,61.6 L 163.7,61.5\" style=\"fill:none;stroke:#000000;stroke-width:2.0px;stroke-linecap:butt;stroke-linejoin:miter;stroke-opacity:1;\"/>\n",
       "<path d=\"M 205.2,58.4 L 207.5,58.3 L 208.8,60.2\" style=\"fill:none;stroke:#000000;stroke-width:2.0px;stroke-linecap:butt;stroke-linejoin:miter;stroke-opacity:1;\"/>\n",
       "<path d=\"M 232.2,94.6 L 233.5,96.5 L 233.1,97.4\" style=\"fill:none;stroke:#000000;stroke-width:2.0px;stroke-linecap:butt;stroke-linejoin:miter;stroke-opacity:1;\"/>\n",
       "<path class=\"atom-0\" d=\"M 128.1 176.7 L 129.9 176.7 L 129.9 182.3 L 136.6 182.3 L 136.6 176.7 L 138.3 176.7 L 138.3 189.8 L 136.6 189.8 L 136.6 183.7 L 129.9 183.7 L 129.9 189.8 L 128.1 189.8 L 128.1 176.7 \" fill=\"#FF0000\"/>\n",
       "<path class=\"atom-0\" d=\"M 141.0 183.2 Q 141.0 180.1, 142.6 178.3 Q 144.1 176.5, 147.0 176.5 Q 149.9 176.5, 151.5 178.3 Q 153.0 180.1, 153.0 183.2 Q 153.0 186.4, 151.5 188.2 Q 149.9 190.0, 147.0 190.0 Q 144.1 190.0, 142.6 188.2 Q 141.0 186.4, 141.0 183.2 M 147.0 188.5 Q 149.0 188.5, 150.1 187.2 Q 151.2 185.8, 151.2 183.2 Q 151.2 180.6, 150.1 179.3 Q 149.0 178.0, 147.0 178.0 Q 145.0 178.0, 143.9 179.3 Q 142.9 180.6, 142.9 183.2 Q 142.9 185.9, 143.9 187.2 Q 145.0 188.5, 147.0 188.5 \" fill=\"#FF0000\"/>\n",
       "<path class=\"atom-3\" d=\"M 76.1 100.2 L 77.9 100.2 L 77.9 105.7 L 84.6 105.7 L 84.6 100.2 L 86.4 100.2 L 86.4 113.3 L 84.6 113.3 L 84.6 107.2 L 77.9 107.2 L 77.9 113.3 L 76.1 113.3 L 76.1 100.2 \" fill=\"#FF0000\"/>\n",
       "<path class=\"atom-3\" d=\"M 89.1 106.7 Q 89.1 103.5, 90.6 101.8 Q 92.2 100.0, 95.1 100.0 Q 98.0 100.0, 99.5 101.8 Q 101.1 103.5, 101.1 106.7 Q 101.1 109.9, 99.5 111.7 Q 97.9 113.5, 95.1 113.5 Q 92.2 113.5, 90.6 111.7 Q 89.1 109.9, 89.1 106.7 M 95.1 112.0 Q 97.1 112.0, 98.1 110.6 Q 99.2 109.3, 99.2 106.7 Q 99.2 104.1, 98.1 102.8 Q 97.1 101.5, 95.1 101.5 Q 93.1 101.5, 92.0 102.8 Q 90.9 104.1, 90.9 106.7 Q 90.9 109.3, 92.0 110.6 Q 93.1 112.0, 95.1 112.0 \" fill=\"#FF0000\"/>\n",
       "<path class=\"atom-5\" d=\"M 116.4 16.9 L 118.2 16.9 L 118.2 22.5 L 124.9 22.5 L 124.9 16.9 L 126.7 16.9 L 126.7 30.0 L 124.9 30.0 L 124.9 23.9 L 118.2 23.9 L 118.2 30.0 L 116.4 30.0 L 116.4 16.9 \" fill=\"#FF0000\"/>\n",
       "<path class=\"atom-5\" d=\"M 129.4 23.4 Q 129.4 20.3, 130.9 18.5 Q 132.5 16.7, 135.4 16.7 Q 138.3 16.7, 139.8 18.5 Q 141.4 20.3, 141.4 23.4 Q 141.4 26.6, 139.8 28.4 Q 138.2 30.2, 135.4 30.2 Q 132.5 30.2, 130.9 28.4 Q 129.4 26.6, 129.4 23.4 M 135.4 28.7 Q 137.4 28.7, 138.4 27.4 Q 139.5 26.0, 139.5 23.4 Q 139.5 20.8, 138.4 19.5 Q 137.4 18.2, 135.4 18.2 Q 133.4 18.2, 132.3 19.5 Q 131.2 20.8, 131.2 23.4 Q 131.2 26.0, 132.3 27.4 Q 133.4 28.7, 135.4 28.7 \" fill=\"#FF0000\"/>\n",
       "<path class=\"atom-7\" d=\"M 221.6 16.7 Q 221.6 13.5, 223.2 11.8 Q 224.7 10.0, 227.6 10.0 Q 230.5 10.0, 232.1 11.8 Q 233.6 13.5, 233.6 16.7 Q 233.6 19.8, 232.1 21.7 Q 230.5 23.5, 227.6 23.5 Q 224.7 23.5, 223.2 21.7 Q 221.6 19.9, 221.6 16.7 M 227.6 22.0 Q 229.6 22.0, 230.7 20.6 Q 231.8 19.3, 231.8 16.7 Q 231.8 14.1, 230.7 12.8 Q 229.6 11.5, 227.6 11.5 Q 225.6 11.5, 224.5 12.8 Q 223.5 14.1, 223.5 16.7 Q 223.5 19.3, 224.5 20.6 Q 225.6 22.0, 227.6 22.0 \" fill=\"#FF0000\"/>\n",
       "<path class=\"atom-7\" d=\"M 235.7 10.1 L 237.5 10.1 L 237.5 15.7 L 244.2 15.7 L 244.2 10.1 L 245.9 10.1 L 245.9 23.2 L 244.2 23.2 L 244.2 17.2 L 237.5 17.2 L 237.5 23.2 L 235.7 23.2 L 235.7 10.1 \" fill=\"#FF0000\"/>\n",
       "<path class=\"atom-10\" d=\"M 299.6 131.5 Q 299.6 128.3, 301.1 126.6 Q 302.7 124.8, 305.6 124.8 Q 308.5 124.8, 310.0 126.6 Q 311.6 128.3, 311.6 131.5 Q 311.6 134.7, 310.0 136.5 Q 308.5 138.3, 305.6 138.3 Q 302.7 138.3, 301.1 136.5 Q 299.6 134.7, 299.6 131.5 M 305.6 136.8 Q 307.6 136.8, 308.7 135.4 Q 309.7 134.1, 309.7 131.5 Q 309.7 128.9, 308.7 127.6 Q 307.6 126.3, 305.6 126.3 Q 303.6 126.3, 302.5 127.6 Q 301.4 128.9, 301.4 131.5 Q 301.4 134.1, 302.5 135.4 Q 303.6 136.8, 305.6 136.8 \" fill=\"#FF0000\"/>\n",
       "<path class=\"atom-10\" d=\"M 313.6 125.0 L 315.4 125.0 L 315.4 130.5 L 322.1 130.5 L 322.1 125.0 L 323.9 125.0 L 323.9 138.1 L 322.1 138.1 L 322.1 132.0 L 315.4 132.0 L 315.4 138.1 L 313.6 138.1 L 313.6 125.0 \" fill=\"#FF0000\"/>\n",
       "<path class=\"atom-11\" d=\"M 207.3 138.2 Q 207.3 135.1, 208.9 133.3 Q 210.4 131.5, 213.3 131.5 Q 216.2 131.5, 217.8 133.3 Q 219.3 135.1, 219.3 138.2 Q 219.3 141.4, 217.8 143.2 Q 216.2 145.0, 213.3 145.0 Q 210.4 145.0, 208.9 143.2 Q 207.3 141.4, 207.3 138.2 M 213.3 143.5 Q 215.3 143.5, 216.4 142.2 Q 217.5 140.8, 217.5 138.2 Q 217.5 135.6, 216.4 134.3 Q 215.3 133.0, 213.3 133.0 Q 211.3 133.0, 210.2 134.3 Q 209.2 135.6, 209.2 138.2 Q 209.2 140.9, 210.2 142.2 Q 211.3 143.5, 213.3 143.5 \" fill=\"#FF0000\"/>\n",
       "</svg>"
      ],
      "text/plain": [
       "<IPython.core.display.SVG object>"
      ]
     },
     "execution_count": 52,
     "metadata": {},
     "output_type": "execute_result"
    }
   ],
   "source": [
    "def increase_resolution(mol, substructure, size=(400, 200)):\n",
    "    \n",
    "    mol = deepcopy(mol)\n",
    "    substructure = deepcopy(substructure)\n",
    "    drawer = rdMolDraw2D.MolDraw2DSVG(size[0], size[1])\n",
    "    \n",
    "    # highlightAtoms expects only one tuple, not tuple of tuples. So it needs to be merged into a single tuple\n",
    "    matches = sum(mol.GetSubstructMatches(substructure, useChirality = True), ())\n",
    "    drawer.DrawMolecule(mol, highlightAtoms=matches)\n",
    "    \n",
    "    drawer.FinishDrawing()\n",
    "    svg = drawer.GetDrawingText()\n",
    "    \n",
    "    return svg.replace('svg:','')\n",
    "\n",
    "\n",
    "mol = Chem.MolFromSmiles('O[C@H]1[C@H](O)[C@@H](O)[C@H](O)[C@@H](CO)O1')\n",
    "substructure = Chem.MolFromSmarts('[C&H1:1][C@H:2]([O:3])[O&H1:4]')\n",
    "SVG(increase_resolution(mol, substructure))"
   ]
  },
  {
   "cell_type": "code",
   "execution_count": null,
   "id": "f6a90138",
   "metadata": {},
   "outputs": [],
   "source": []
  },
  {
   "cell_type": "code",
   "execution_count": 51,
   "id": "9632021c",
   "metadata": {},
   "outputs": [
    {
     "name": "stdout",
     "output_type": "stream",
     "text": [
      "\n",
      "Reaction SMARTS: [C&H1:1][C@H:2]([O:3])[O&H1:4]>>[C&H1:1][C@@H:2]([O:3])[O&H1:4]\n"
     ]
    },
    {
     "data": {
      "image/png": "[encoded data removed]",
      "text/plain": [
       "<rdkit.Chem.rdchem.Mol at 0x7f8dd2533eb0>"
      ]
     },
     "metadata": {},
     "output_type": "display_data"
    },
    {
     "name": "stdout",
     "output_type": "stream",
     "text": [
      "\n",
      "Input SMILES: O[C@H]1[C@H](O)[C@@H](O)[C@H](O)[C@@H](CO)O1\n"
     ]
    },
    {
     "data": {
      "image/png": "[encoded data removed]",
      "text/plain": [
       "<rdkit.Chem.rdchem.Mol at 0x7f8dd2533040>"
      ]
     },
     "metadata": {},
     "output_type": "display_data"
    },
    {
     "name": "stdout",
     "output_type": "stream",
     "text": [
      "\n",
      "1 RDKit outcomes: OC[C@H]1O[C@H](O)[C@H](O)[C@@H](O)[C@@H]1O\n"
     ]
    },
    {
     "data": {
      "image/png": "[encoded data removed]",
      "text/plain": [
       "<rdkit.Chem.rdchem.Mol at 0x7f8dd2533f90>"
      ]
     },
     "metadata": {},
     "output_type": "display_data"
    },
    {
     "name": "stdout",
     "output_type": "stream",
     "text": [
      "1 RDChiral outcomes: OC[C@H]1O[C@H](O)[C@H](O)[C@@H](O)[C@@H]1O\n"
     ]
    }
   ],
   "source": [
    "reaction_smarts = '[C&H1:1][C@H:2]([O:3])[O&H1:4]>>[C&H1:1][C@@H:2]([O:3])[O&H1:4]'\n",
    "show_outcomes(reaction_smarts, reactant_smiles = 'O[C@H]1[C@H](O)[C@@H](O)[C@H](O)[C@@H](CO)O1')\n"
   ]
  },
  {
   "cell_type": "code",
   "execution_count": null,
   "id": "e49f2c1b",
   "metadata": {},
   "outputs": [],
   "source": []
  },
  {
   "cell_type": "code",
   "execution_count": null,
   "id": "da5242a9",
   "metadata": {},
   "outputs": [],
   "source": []
  },
  {
   "cell_type": "code",
   "execution_count": null,
   "id": "b7b5ddaa",
   "metadata": {},
   "outputs": [],
   "source": []
  },
  {
   "cell_type": "code",
   "execution_count": null,
   "id": "8c99b9c7",
   "metadata": {},
   "outputs": [],
   "source": []
  },
  {
   "cell_type": "code",
   "execution_count": null,
   "id": "174e255f",
   "metadata": {},
   "outputs": [],
   "source": []
  },
  {
   "cell_type": "code",
   "execution_count": null,
   "id": "97636643",
   "metadata": {},
   "outputs": [],
   "source": []
  },
  {
   "cell_type": "code",
   "execution_count": null,
   "id": "a1bc2a62",
   "metadata": {},
   "outputs": [],
   "source": []
  },
  {
   "cell_type": "code",
   "execution_count": null,
   "id": "c4bce8e0",
   "metadata": {},
   "outputs": [],
   "source": []
  },
  {
   "cell_type": "code",
   "execution_count": null,
   "id": "93c32e7f",
   "metadata": {},
   "outputs": [],
   "source": []
  },
  {
   "cell_type": "code",
   "execution_count": 33,
   "id": "6824594e",
   "metadata": {},
   "outputs": [],
   "source": [
    "# With the substructures extracted above, we generate chiral reaction fingerprints and group reactions together\n",
    "useChirality = False\n",
    "\n",
    "# initialize an empty numpy array on which we will vertically stack morgan fingerprints\n",
    "all_fps = np.empty((0, nBits))\n",
    "\n",
    "# Generate the Morgan fingerprint for the substructure only\n",
    "for env_smarts in list(AdH_rxns_df_w_substructs['substructure_environments']):\n",
    "    env_mol = Chem.MolFromSmarts(env_smarts)\n",
    "    Chem.SanitizeMol(env_mol, Chem.SanitizeFlags.SANITIZE_ALL)\n",
    "    chiral_fingerprint_env = np.array(AllChem.GetMorganFingerprintAsBitVect(env_mol, \n",
    "                                                                            radius = radius, \n",
    "                                                                            nBits = nBits, \n",
    "                                                                            useChirality = False))\n",
    "\n",
    "    all_fps = np.vstack((all_fps, chiral_fingerprint_env))"
   ]
  },
  {
   "cell_type": "code",
   "execution_count": null,
   "id": "dc30555f",
   "metadata": {},
   "outputs": [],
   "source": []
  },
  {
   "cell_type": "code",
   "execution_count": 34,
   "id": "796d5686",
   "metadata": {},
   "outputs": [
    {
     "name": "stdout",
     "output_type": "stream",
     "text": [
      "\n",
      "Number of unique groups: 74\n",
      "\n",
      "Groups of identical rows: {0: [311, 355], 1: [177, 184], 2: [7], 3: [45, 48], 4: [138], 5: [357], 6: [46, 47, 50, 51], 7: [139], 8: [161], 9: [75, 103, 135], 10: [95], 11: [322], 12: [9, 119, 211, 227, 230], 13: [116], 14: [216], 15: [1, 3, 4, 80, 81, 92, 113, 114, 120, 124, 169, 342, 348, 354], 16: [93], 17: [376], 18: [69, 70, 91], 19: [5, 106, 107, 108, 115, 134, 243, 269], 20: [219, 307, 308], 21: [289], 22: [238, 287], 23: [194, 319, 320, 367, 368], 24: [30, 31, 52, 105, 242, 276, 280, 281, 283, 284, 285, 326, 331], 25: [71, 72, 112, 142, 150, 151, 152, 153, 154, 155, 333, 345, 346], 26: [15, 16, 18, 19, 99, 104, 125, 126, 273, 274, 278, 279, 295, 330], 27: [323, 324], 28: [83, 84], 29: [237], 30: [171], 31: [85, 343], 32: [168, 347, 360, 361, 362, 363, 364, 365, 366, 370, 372], 33: [2, 217], 34: [0, 28, 29, 102, 117, 118, 121, 128, 129, 165, 286, 344, 353, 356], 35: [6, 12, 17, 20, 21, 23, 24, 25, 32, 33, 34, 35, 36, 76, 77, 78, 79, 88, 90, 162, 163, 173, 174, 179, 190, 191, 192, 212, 213, 290, 294, 315, 316, 317, 318, 321, 339, 340, 341, 349, 350, 351, 352, 359], 36: [223, 224], 37: [221], 38: [26, 27], 39: [220, 222], 40: [225, 226, 232, 241], 41: [53, 54, 55, 228, 229], 42: [188, 189, 214, 215], 43: [10], 44: [73, 74], 45: [312], 46: [140], 47: [375], 48: [175, 176], 49: [166, 167], 50: [144], 51: [327], 52: [193, 358, 369], 53: [218, 239, 240], 54: [231], 55: [8], 56: [143], 57: [272, 292, 293], 58: [251, 257], 59: [159, 180, 282], 60: [37, 38, 39, 40, 41, 42, 43, 44, 49, 109, 110, 111, 146, 147, 148], 61: [172, 210, 246, 267, 268], 62: [89, 244, 245, 259, 277], 63: [56, 58, 59, 60, 61, 62, 82, 127, 130, 131, 132, 133, 141, 160, 170, 181, 182, 183, 185, 235, 236, 247, 248, 252, 253, 254, 255, 256, 260, 261, 265, 266, 270, 271, 275, 296, 297, 298, 299, 300, 301, 302, 303, 304, 305, 306, 334, 335, 336, 337, 338], 64: [57, 63, 64, 65, 66, 67, 68, 86, 87, 122, 123, 197, 198, 199, 200, 201, 202, 203, 204, 205, 249, 250, 258, 263, 264], 65: [136, 137, 157, 187], 66: [22, 94, 98, 156, 186, 233, 234, 313, 328], 67: [262, 314, 329], 68: [100, 101, 145, 149, 195, 196], 69: [158, 206, 207], 70: [96, 178, 208, 209, 309, 310, 371, 373, 374], 71: [11, 164], 72: [291], 73: [13, 14, 97, 288, 325, 332]}\n"
     ]
    }
   ],
   "source": [
    "### Perform groupings here\n",
    "\n",
    "# Step 1: Identify unique rows and group identical rows together\n",
    "unique_rows, indices, inverse_indices = np.unique(all_fps, axis=0, return_index=True, return_inverse=True)\n",
    "\n",
    "# Step 2: Count the number of unique groups\n",
    "num_groups = unique_rows.shape[0]\n",
    "\n",
    "# Step 3: Grouping rows by identical entries using inverse_indices\n",
    "groups = {i: np.where(inverse_indices == i)[0].tolist() for i in range(num_groups)}\n",
    "\n",
    "# Output the result\n",
    "print(f\"\\nNumber of unique groups: {num_groups}\")\n",
    "print(f\"\\nGroups of identical rows: {groups}\")"
   ]
  },
  {
   "cell_type": "code",
   "execution_count": 35,
   "id": "032daecd",
   "metadata": {},
   "outputs": [],
   "source": [
    "dummy_group_numbers = np.zeros(all_fps.shape[0])\n",
    "for group_num in list(groups.keys()):\n",
    "    row_indexes = groups[group_num]\n",
    "    dummy_group_numbers[row_indexes] = int(group_num)"
   ]
  },
  {
   "cell_type": "code",
   "execution_count": 36,
   "id": "53a2832b",
   "metadata": {},
   "outputs": [
    {
     "name": "stderr",
     "output_type": "stream",
     "text": [
      "/var/folders/g7/7p1djmms7lxdrm3nk5jjxs680000gn/T/ipykernel_63439/3616583253.py:1: SettingWithCopyWarning: \n",
      "A value is trying to be set on a copy of a slice from a DataFrame.\n",
      "Try using .loc[row_indexer,col_indexer] = value instead\n",
      "\n",
      "See the caveats in the documentation: https://pandas.pydata.org/pandas-docs/stable/user_guide/indexing.html#returning-a-view-versus-a-copy\n",
      "  AdH_rxns_df_w_substructs['subrule_group'] = dummy_group_numbers\n"
     ]
    }
   ],
   "source": [
    "AdH_rxns_df_w_substructs['subrule_group'] = dummy_group_numbers"
   ]
  },
  {
   "cell_type": "code",
   "execution_count": 37,
   "id": "ff811901",
   "metadata": {},
   "outputs": [
    {
     "data": {
      "text/html": [
       "<div>\n",
       "<style scoped>\n",
       "    .dataframe tbody tr th:only-of-type {\n",
       "        vertical-align: middle;\n",
       "    }\n",
       "\n",
       "    .dataframe tbody tr th {\n",
       "        vertical-align: top;\n",
       "    }\n",
       "\n",
       "    .dataframe thead th {\n",
       "        text-align: right;\n",
       "    }\n",
       "</style>\n",
       "<table border=\"1\" class=\"dataframe\">\n",
       "  <thead>\n",
       "    <tr style=\"text-align: right;\">\n",
       "      <th></th>\n",
       "      <th>rxn_idx</th>\n",
       "      <th>mapped</th>\n",
       "      <th>unmapped</th>\n",
       "      <th>orig_rxn_text</th>\n",
       "      <th>rule</th>\n",
       "      <th>rule_id</th>\n",
       "      <th>source</th>\n",
       "      <th>steps</th>\n",
       "      <th>quality</th>\n",
       "      <th>natural</th>\n",
       "      <th>organism</th>\n",
       "      <th>protein_refs</th>\n",
       "      <th>protein_db</th>\n",
       "      <th>ec_num</th>\n",
       "      <th>JN_labelled_rule</th>\n",
       "      <th>Reaction_site_idx</th>\n",
       "      <th>substructure_environments</th>\n",
       "      <th>Group</th>\n",
       "      <th>subrule_group</th>\n",
       "    </tr>\n",
       "  </thead>\n",
       "  <tbody>\n",
       "    <tr>\n",
       "      <th>4</th>\n",
       "      <td>2324</td>\n",
       "      <td>[CH3:1][O:2][c:3]1[cH:4][c:5]([C@@H:6]([OH:7])...</td>\n",
       "      <td>COc1cc([C@@H](O)CO)ccc1O.NC(=O)c1ccc[n+]([C@@H...</td>\n",
       "      <td>RXN-10915</td>\n",
       "      <td>[#6:1]-[#8:2].[#6:3]1:[#6:4]:[#6:5]:[#6:6]:[#7...</td>\n",
       "      <td>1</td>\n",
       "      <td>direct</td>\n",
       "      <td>single</td>\n",
       "      <td>1.0</td>\n",
       "      <td>NaN</td>\n",
       "      <td>NaN</td>\n",
       "      <td>[]</td>\n",
       "      <td>NaN</td>\n",
       "      <td>1.1.1.1</td>\n",
       "      <td>rule0002</td>\n",
       "      <td>8</td>\n",
       "      <td>[c:5][C@@&amp;H1:6]([O&amp;H1:7])[C&amp;H2:8][O&amp;H1:9]</td>\n",
       "      <td>1.0</td>\n",
       "      <td>34.0</td>\n",
       "    </tr>\n",
       "    <tr>\n",
       "      <th>7</th>\n",
       "      <td>5135</td>\n",
       "      <td>[CH3:1][C@@H:2]([OH:3])[CH2:4][CH2:5][OH:6].[N...</td>\n",
       "      <td>C[C@@H](O)CCO.NC(=O)c1ccc[n+]([C@@H]2O[C@H](CO...</td>\n",
       "      <td>RXN-21862</td>\n",
       "      <td>[#6:1]-[#8:2].[#6:3]1:[#6:4]:[#6:5]:[#6:6]:[#7...</td>\n",
       "      <td>1</td>\n",
       "      <td>direct</td>\n",
       "      <td>single</td>\n",
       "      <td>1.0</td>\n",
       "      <td>NaN</td>\n",
       "      <td>NaN</td>\n",
       "      <td>[]</td>\n",
       "      <td>NaN</td>\n",
       "      <td>1.1.1.1</td>\n",
       "      <td>rule0002</td>\n",
       "      <td>5</td>\n",
       "      <td>[C&amp;H2:4]([C@@&amp;H1:2])[C&amp;H2:5][O&amp;H1:6]</td>\n",
       "      <td>2.0</td>\n",
       "      <td>15.0</td>\n",
       "    </tr>\n",
       "    <tr>\n",
       "      <th>9</th>\n",
       "      <td>5743</td>\n",
       "      <td>[CH3:1][CH:2]([CH3:3])[CH2:4][OH:5].[NH2:6][C:...</td>\n",
       "      <td>CC(C)CO.NC(=O)c1ccc[n+]([C@@H]2O[C@H](COP(=O)(...</td>\n",
       "      <td>RXN-7657</td>\n",
       "      <td>[#6:1]-[#8:2].[#6:3]1:[#6:4]:[#6:5]:[#6:6]:[#7...</td>\n",
       "      <td>1</td>\n",
       "      <td>direct</td>\n",
       "      <td>single</td>\n",
       "      <td>1.0</td>\n",
       "      <td>NaN</td>\n",
       "      <td>NaN</td>\n",
       "      <td>[]</td>\n",
       "      <td>NaN</td>\n",
       "      <td>1.1.1.1</td>\n",
       "      <td>rule0002</td>\n",
       "      <td>4</td>\n",
       "      <td>[C&amp;H3:1][C&amp;H1:2]([C&amp;H3:3])[C&amp;H2:4][O&amp;H1:5]</td>\n",
       "      <td>3.0</td>\n",
       "      <td>33.0</td>\n",
       "    </tr>\n",
       "    <tr>\n",
       "      <th>11</th>\n",
       "      <td>5751</td>\n",
       "      <td>[CH3:1][CH:2]([CH3:3])[CH2:4][CH2:5][OH:6].[NH...</td>\n",
       "      <td>CC(C)CCO.NC(=O)c1ccc[n+]([C@@H]2O[C@H](COP(=O)...</td>\n",
       "      <td>RXN-7693</td>\n",
       "      <td>[#6:1]-[#8:2].[#6:3]1:[#6:4]:[#6:5]:[#6:6]:[#7...</td>\n",
       "      <td>1</td>\n",
       "      <td>direct</td>\n",
       "      <td>single</td>\n",
       "      <td>1.0</td>\n",
       "      <td>NaN</td>\n",
       "      <td>NaN</td>\n",
       "      <td>[]</td>\n",
       "      <td>NaN</td>\n",
       "      <td>1.1.1.1</td>\n",
       "      <td>rule0002</td>\n",
       "      <td>5</td>\n",
       "      <td>[C&amp;H1:2][C&amp;H2:4][C&amp;H2:5][O&amp;H1:6]</td>\n",
       "      <td>4.0</td>\n",
       "      <td>15.0</td>\n",
       "    </tr>\n",
       "    <tr>\n",
       "      <th>14</th>\n",
       "      <td>5753</td>\n",
       "      <td>[NH2:1][C:2](=[O:3])[c:4]1[cH:5][cH:6][cH:7][n...</td>\n",
       "      <td>NC(=O)c1ccc[n+]([C@@H]2O[C@H](COP(=O)(O)OP(=O)...</td>\n",
       "      <td>RXN-7700</td>\n",
       "      <td>[#6:1]-[#8:2].[#6:3]1:[#6:4]:[#6:5]:[#6:6]:[#7...</td>\n",
       "      <td>1</td>\n",
       "      <td>direct</td>\n",
       "      <td>single</td>\n",
       "      <td>1.0</td>\n",
       "      <td>NaN</td>\n",
       "      <td>NaN</td>\n",
       "      <td>[]</td>\n",
       "      <td>NaN</td>\n",
       "      <td>1.1.1.1</td>\n",
       "      <td>rule0002</td>\n",
       "      <td>46</td>\n",
       "      <td>[O&amp;H1:45][C&amp;H2:46][C&amp;H2:47][c:48]</td>\n",
       "      <td>5.0</td>\n",
       "      <td>15.0</td>\n",
       "    </tr>\n",
       "    <tr>\n",
       "      <th>...</th>\n",
       "      <td>...</td>\n",
       "      <td>...</td>\n",
       "      <td>...</td>\n",
       "      <td>...</td>\n",
       "      <td>...</td>\n",
       "      <td>...</td>\n",
       "      <td>...</td>\n",
       "      <td>...</td>\n",
       "      <td>...</td>\n",
       "      <td>...</td>\n",
       "      <td>...</td>\n",
       "      <td>...</td>\n",
       "      <td>...</td>\n",
       "      <td>...</td>\n",
       "      <td>...</td>\n",
       "      <td>...</td>\n",
       "      <td>...</td>\n",
       "      <td>...</td>\n",
       "      <td>...</td>\n",
       "    </tr>\n",
       "    <tr>\n",
       "      <th>835</th>\n",
       "      <td>95</td>\n",
       "      <td>[NH2:1][C:2](=[O:3])[c:4]1[cH:5][cH:6][cH:7][n...</td>\n",
       "      <td>NC(=O)c1ccc[n+]([C@@H]2O[C@H](COP(=O)(O)OP(=O)...</td>\n",
       "      <td>1.1.1.97-RXN</td>\n",
       "      <td>[#6:1]-[#8:2].[#6:3]1:[#6:4]:[#6:5]:[#6:6]:[#7...</td>\n",
       "      <td>1</td>\n",
       "      <td>direct</td>\n",
       "      <td>single</td>\n",
       "      <td>1.0</td>\n",
       "      <td>NaN</td>\n",
       "      <td>NaN</td>\n",
       "      <td>[]</td>\n",
       "      <td>NaN</td>\n",
       "      <td>1.1.1.97</td>\n",
       "      <td>rule0002</td>\n",
       "      <td>50</td>\n",
       "      <td>[O&amp;H1:49][C&amp;H2:50][c:51]([c&amp;H1:52])[c&amp;H1:57]</td>\n",
       "      <td>213.0</td>\n",
       "      <td>32.0</td>\n",
       "    </tr>\n",
       "    <tr>\n",
       "      <th>836</th>\n",
       "      <td>96</td>\n",
       "      <td>[CH3:1][CH2:2][CH2:3][CH2:4][CH2:5][CH2:6][CH2...</td>\n",
       "      <td>CCCCCCCCCCCCCCCC[C@@H](O)C(=O)[O-].NC(=O)c1ccc...</td>\n",
       "      <td>1.1.1.98-RXN</td>\n",
       "      <td>[#6:1]-[#8:2].[#6:3]1:[#6:4]:[#6:5]:[#6:6]:[#7...</td>\n",
       "      <td>1</td>\n",
       "      <td>direct</td>\n",
       "      <td>single</td>\n",
       "      <td>1.0</td>\n",
       "      <td>NaN</td>\n",
       "      <td>NaN</td>\n",
       "      <td>[]</td>\n",
       "      <td>NaN</td>\n",
       "      <td>1.1.1.98</td>\n",
       "      <td>rule0002</td>\n",
       "      <td>17</td>\n",
       "      <td>[C&amp;H2:15][C&amp;H2:16][C@@&amp;H1:17]([O&amp;H1:18])[C:19]...</td>\n",
       "      <td>185.0</td>\n",
       "      <td>70.0</td>\n",
       "    </tr>\n",
       "    <tr>\n",
       "      <th>837</th>\n",
       "      <td>97</td>\n",
       "      <td>[CH3:1][CH2:2][CH2:3][CH2:4][CH2:5][CH2:6][CH2...</td>\n",
       "      <td>CCCCCCCCCCCCCCCC[C@H](O)C(=O)[O-].NC(=O)c1ccc[...</td>\n",
       "      <td>1.1.1.99-RXN</td>\n",
       "      <td>[#6:1]-[#8:2].[#6:3]1:[#6:4]:[#6:5]:[#6:6]:[#7...</td>\n",
       "      <td>1</td>\n",
       "      <td>direct</td>\n",
       "      <td>single</td>\n",
       "      <td>1.0</td>\n",
       "      <td>NaN</td>\n",
       "      <td>NaN</td>\n",
       "      <td>[]</td>\n",
       "      <td>NaN</td>\n",
       "      <td>1.1.1.99</td>\n",
       "      <td>rule0002</td>\n",
       "      <td>17</td>\n",
       "      <td>[C&amp;H2:15][C&amp;H2:16][C@&amp;H1:17]([O&amp;H1:18])[C:19](...</td>\n",
       "      <td>186.0</td>\n",
       "      <td>70.0</td>\n",
       "    </tr>\n",
       "    <tr>\n",
       "      <th>881</th>\n",
       "      <td>105</td>\n",
       "      <td>[NH2:1][C:2](=[O:3])[c:4]1[cH:5][cH:6][cH:7][n...</td>\n",
       "      <td>NC(=O)c1ccc[n+]([C@@H]2O[C@H](COP(=O)(O)OP(=O)...</td>\n",
       "      <td>1.10.1.1-RXN</td>\n",
       "      <td>[#6:1]-[#8:2].[#6:3]1:[#6:4]:[#6:5]:[#6:6]:[#7...</td>\n",
       "      <td>1</td>\n",
       "      <td>direct</td>\n",
       "      <td>single from multi</td>\n",
       "      <td>1.0</td>\n",
       "      <td>NaN</td>\n",
       "      <td>NaN</td>\n",
       "      <td>[]</td>\n",
       "      <td>NaN</td>\n",
       "      <td>1.10.1.1</td>\n",
       "      <td>rule0002</td>\n",
       "      <td>50</td>\n",
       "      <td>[O&amp;H1:49][C@&amp;H1:50]1[c:51]([c&amp;H1:52])[c:60][c:...</td>\n",
       "      <td>218.0</td>\n",
       "      <td>47.0</td>\n",
       "    </tr>\n",
       "    <tr>\n",
       "      <th>882</th>\n",
       "      <td>105</td>\n",
       "      <td>[NH2:1][C:2](=[O:3])[c:4]1[cH:5][cH:6][cH:7][n...</td>\n",
       "      <td>NC(=O)c1ccc[n+]([C@@H]2O[C@H](COP(=O)(O)OP(=O)...</td>\n",
       "      <td>1.10.1.1-RXN</td>\n",
       "      <td>[#6:1]-[#8:2].[#6:3]1:[#6:4]:[#6:5]:[#6:6]:[#7...</td>\n",
       "      <td>1</td>\n",
       "      <td>direct</td>\n",
       "      <td>single from multi</td>\n",
       "      <td>1.0</td>\n",
       "      <td>NaN</td>\n",
       "      <td>NaN</td>\n",
       "      <td>[]</td>\n",
       "      <td>NaN</td>\n",
       "      <td>1.10.1.1</td>\n",
       "      <td>rule0002</td>\n",
       "      <td>61</td>\n",
       "      <td>[O:49]=[C:50]1[c:51][c:60][c:59]([c&amp;H1:58])[C@...</td>\n",
       "      <td>219.0</td>\n",
       "      <td>17.0</td>\n",
       "    </tr>\n",
       "  </tbody>\n",
       "</table>\n",
       "<p>377 rows × 19 columns</p>\n",
       "</div>"
      ],
      "text/plain": [
       "     rxn_idx                                             mapped  \\\n",
       "4       2324  [CH3:1][O:2][c:3]1[cH:4][c:5]([C@@H:6]([OH:7])...   \n",
       "7       5135  [CH3:1][C@@H:2]([OH:3])[CH2:4][CH2:5][OH:6].[N...   \n",
       "9       5743  [CH3:1][CH:2]([CH3:3])[CH2:4][OH:5].[NH2:6][C:...   \n",
       "11      5751  [CH3:1][CH:2]([CH3:3])[CH2:4][CH2:5][OH:6].[NH...   \n",
       "14      5753  [NH2:1][C:2](=[O:3])[c:4]1[cH:5][cH:6][cH:7][n...   \n",
       "..       ...                                                ...   \n",
       "835       95  [NH2:1][C:2](=[O:3])[c:4]1[cH:5][cH:6][cH:7][n...   \n",
       "836       96  [CH3:1][CH2:2][CH2:3][CH2:4][CH2:5][CH2:6][CH2...   \n",
       "837       97  [CH3:1][CH2:2][CH2:3][CH2:4][CH2:5][CH2:6][CH2...   \n",
       "881      105  [NH2:1][C:2](=[O:3])[c:4]1[cH:5][cH:6][cH:7][n...   \n",
       "882      105  [NH2:1][C:2](=[O:3])[c:4]1[cH:5][cH:6][cH:7][n...   \n",
       "\n",
       "                                              unmapped orig_rxn_text  \\\n",
       "4    COc1cc([C@@H](O)CO)ccc1O.NC(=O)c1ccc[n+]([C@@H...     RXN-10915   \n",
       "7    C[C@@H](O)CCO.NC(=O)c1ccc[n+]([C@@H]2O[C@H](CO...     RXN-21862   \n",
       "9    CC(C)CO.NC(=O)c1ccc[n+]([C@@H]2O[C@H](COP(=O)(...      RXN-7657   \n",
       "11   CC(C)CCO.NC(=O)c1ccc[n+]([C@@H]2O[C@H](COP(=O)...      RXN-7693   \n",
       "14   NC(=O)c1ccc[n+]([C@@H]2O[C@H](COP(=O)(O)OP(=O)...      RXN-7700   \n",
       "..                                                 ...           ...   \n",
       "835  NC(=O)c1ccc[n+]([C@@H]2O[C@H](COP(=O)(O)OP(=O)...  1.1.1.97-RXN   \n",
       "836  CCCCCCCCCCCCCCCC[C@@H](O)C(=O)[O-].NC(=O)c1ccc...  1.1.1.98-RXN   \n",
       "837  CCCCCCCCCCCCCCCC[C@H](O)C(=O)[O-].NC(=O)c1ccc[...  1.1.1.99-RXN   \n",
       "881  NC(=O)c1ccc[n+]([C@@H]2O[C@H](COP(=O)(O)OP(=O)...  1.10.1.1-RXN   \n",
       "882  NC(=O)c1ccc[n+]([C@@H]2O[C@H](COP(=O)(O)OP(=O)...  1.10.1.1-RXN   \n",
       "\n",
       "                                                  rule  rule_id  source  \\\n",
       "4    [#6:1]-[#8:2].[#6:3]1:[#6:4]:[#6:5]:[#6:6]:[#7...        1  direct   \n",
       "7    [#6:1]-[#8:2].[#6:3]1:[#6:4]:[#6:5]:[#6:6]:[#7...        1  direct   \n",
       "9    [#6:1]-[#8:2].[#6:3]1:[#6:4]:[#6:5]:[#6:6]:[#7...        1  direct   \n",
       "11   [#6:1]-[#8:2].[#6:3]1:[#6:4]:[#6:5]:[#6:6]:[#7...        1  direct   \n",
       "14   [#6:1]-[#8:2].[#6:3]1:[#6:4]:[#6:5]:[#6:6]:[#7...        1  direct   \n",
       "..                                                 ...      ...     ...   \n",
       "835  [#6:1]-[#8:2].[#6:3]1:[#6:4]:[#6:5]:[#6:6]:[#7...        1  direct   \n",
       "836  [#6:1]-[#8:2].[#6:3]1:[#6:4]:[#6:5]:[#6:6]:[#7...        1  direct   \n",
       "837  [#6:1]-[#8:2].[#6:3]1:[#6:4]:[#6:5]:[#6:6]:[#7...        1  direct   \n",
       "881  [#6:1]-[#8:2].[#6:3]1:[#6:4]:[#6:5]:[#6:6]:[#7...        1  direct   \n",
       "882  [#6:1]-[#8:2].[#6:3]1:[#6:4]:[#6:5]:[#6:6]:[#7...        1  direct   \n",
       "\n",
       "                 steps  quality  natural  organism protein_refs  protein_db  \\\n",
       "4               single      1.0      NaN       NaN           []         NaN   \n",
       "7               single      1.0      NaN       NaN           []         NaN   \n",
       "9               single      1.0      NaN       NaN           []         NaN   \n",
       "11              single      1.0      NaN       NaN           []         NaN   \n",
       "14              single      1.0      NaN       NaN           []         NaN   \n",
       "..                 ...      ...      ...       ...          ...         ...   \n",
       "835             single      1.0      NaN       NaN           []         NaN   \n",
       "836             single      1.0      NaN       NaN           []         NaN   \n",
       "837             single      1.0      NaN       NaN           []         NaN   \n",
       "881  single from multi      1.0      NaN       NaN           []         NaN   \n",
       "882  single from multi      1.0      NaN       NaN           []         NaN   \n",
       "\n",
       "       ec_num JN_labelled_rule  Reaction_site_idx  \\\n",
       "4     1.1.1.1         rule0002                  8   \n",
       "7     1.1.1.1         rule0002                  5   \n",
       "9     1.1.1.1         rule0002                  4   \n",
       "11    1.1.1.1         rule0002                  5   \n",
       "14    1.1.1.1         rule0002                 46   \n",
       "..        ...              ...                ...   \n",
       "835  1.1.1.97         rule0002                 50   \n",
       "836  1.1.1.98         rule0002                 17   \n",
       "837  1.1.1.99         rule0002                 17   \n",
       "881  1.10.1.1         rule0002                 50   \n",
       "882  1.10.1.1         rule0002                 61   \n",
       "\n",
       "                             substructure_environments  Group  subrule_group  \n",
       "4            [c:5][C@@&H1:6]([O&H1:7])[C&H2:8][O&H1:9]    1.0           34.0  \n",
       "7                 [C&H2:4]([C@@&H1:2])[C&H2:5][O&H1:6]    2.0           15.0  \n",
       "9           [C&H3:1][C&H1:2]([C&H3:3])[C&H2:4][O&H1:5]    3.0           33.0  \n",
       "11                    [C&H1:2][C&H2:4][C&H2:5][O&H1:6]    4.0           15.0  \n",
       "14                   [O&H1:45][C&H2:46][C&H2:47][c:48]    5.0           15.0  \n",
       "..                                                 ...    ...            ...  \n",
       "835       [O&H1:49][C&H2:50][c:51]([c&H1:52])[c&H1:57]  213.0           32.0  \n",
       "836  [C&H2:15][C&H2:16][C@@&H1:17]([O&H1:18])[C:19]...  185.0           70.0  \n",
       "837  [C&H2:15][C&H2:16][C@&H1:17]([O&H1:18])[C:19](...  186.0           70.0  \n",
       "881  [O&H1:49][C@&H1:50]1[c:51]([c&H1:52])[c:60][c:...  218.0           47.0  \n",
       "882  [O:49]=[C:50]1[c:51][c:60][c:59]([c&H1:58])[C@...  219.0           17.0  \n",
       "\n",
       "[377 rows x 19 columns]"
      ]
     },
     "execution_count": 37,
     "metadata": {},
     "output_type": "execute_result"
    }
   ],
   "source": [
    "AdH_rxns_df_w_substructs"
   ]
  },
  {
   "cell_type": "code",
   "execution_count": 38,
   "id": "e15d30da",
   "metadata": {},
   "outputs": [
    {
     "data": {
      "text/plain": [
       "['[C&H1:14]=[C&H1:15]/[C@@&H1:16]([O&H1:17])[C@@&H1:18]([O&H1:19])[C&H2:20]',\n",
       " '[C&H2:5][C@&H1:6]([O&H1:7])[C@&H1:8]([O&H1:9])/[C&H1:10]=[C&H1:11]']"
      ]
     },
     "execution_count": 38,
     "metadata": {},
     "output_type": "execute_result"
    }
   ],
   "source": [
    "list(AdH_rxns_df_w_substructs[AdH_rxns_df_w_substructs['subrule_group']==3]['substructure_environments'])"
   ]
  },
  {
   "cell_type": "code",
   "execution_count": 39,
   "id": "e70e804d",
   "metadata": {},
   "outputs": [
    {
     "name": "stdout",
     "output_type": "stream",
     "text": [
      "CC/C=C\\C[C@H](O)/C=C/C=C\\C=C\\C=C\\[C@@H](O)[C@@H](O)C/C=C\\CCC(=O)[O-].NC(=O)c1ccc[n+]([C@@H]2O[C@H](COP(=O)(O)OP(=O)(O)OC[C@H]3O[C@@H](n4cnc5c(N)ncnc54)[C@H](O)[C@@H]3O)[C@@H](O)[C@H]2O)c1>>CC/C=C\\C[C@H](O)/C=C/C=C\\C=C\\C=C\\C(=O)[C@@H](O)C/C=C\\CCC(=O)[O-].NC(=O)C1=CN([C@@H]2O[C@H](COP(=O)(O)OP(=O)(O)OC[C@H]3O[C@@H](n4cnc5c(N)ncnc54)[C@H](O)[C@@H]3O)[C@@H](O)[C@H]2O)C=CC1.[H+]\n",
      "\n",
      "CC/C=C\\C[C@H](O)[C@H](O)/C=C/C=C/C=C\\C=C\\[C@@H](O)C/C=C\\CCC(=O)[O-].NC(=O)c1ccc[n+]([C@@H]2O[C@H](COP(=O)(O)OP(=O)(O)OC[C@H]3O[C@@H](n4cnc5c(N)ncnc54)[C@H](O)[C@@H]3O)[C@@H](O)[C@H]2O)c1>>CC/C=C\\C[C@H](O)C(=O)/C=C/C=C/C=C\\C=C\\[C@@H](O)C/C=C\\CCC(=O)[O-].NC(=O)C1=CN([C@@H]2O[C@H](COP(=O)(O)OP(=O)(O)OC[C@H]3O[C@@H](n4cnc5c(N)ncnc54)[C@H](O)[C@@H]3O)[C@@H](O)[C@H]2O)C=CC1.[H+]\n",
      "\n"
     ]
    }
   ],
   "source": [
    "for r in list(AdH_rxns_df_w_substructs[AdH_rxns_df_w_substructs['subrule_group']==3]['unmapped']):\n",
    "    print(r)\n",
    "    print()"
   ]
  },
  {
   "cell_type": "code",
   "execution_count": 40,
   "id": "19459f17",
   "metadata": {},
   "outputs": [
    {
     "data": {
      "image/svg+xml": [
       "<svg xmlns=\"http://www.w3.org/2000/svg\" xmlns:rdkit=\"http://www.rdkit.org/xml\" xmlns:xlink=\"http://www.w3.org/1999/xlink\" version=\"1.1\" baseProfile=\"full\" xml:space=\"preserve\" width=\"400px\" height=\"200px\" viewBox=\"0 0 400 200\">\n",
       "<!-- END OF HEADER -->\n",
       "<rect style=\"opacity:1.0;fill:#FFFFFF;stroke:none\" width=\"400.0\" height=\"200.0\" x=\"0.0\" y=\"0.0\"> </rect>\n",
       "<path class=\"bond-0 atom-0 atom-1\" d=\"M 61.8,110.2 L 118.5,147.2 L 117.5,165.0 L 53.4,123.1 Z\" style=\"fill:#FF7F7F;fill-rule:evenodd;fill-opacity:1;stroke:#FF7F7F;stroke-width:0.0px;stroke-linecap:butt;stroke-linejoin:miter;stroke-opacity:1;\"/>\n",
       "<path class=\"bond-1 atom-1 atom-2\" d=\"M 178.8,116.7 L 185.8,130.4 L 117.5,165.0 L 118.5,147.2 Z\" style=\"fill:#FF7F7F;fill-rule:evenodd;fill-opacity:1;stroke:#FF7F7F;stroke-width:0.0px;stroke-linecap:butt;stroke-linejoin:miter;stroke-opacity:1;\"/>\n",
       "<ellipse cx=\"47.5\" cy=\"116.8\" rx=\"27.5\" ry=\"14.8\" class=\"atom-0\" style=\"fill:#FF7F7F;fill-rule:evenodd;stroke:#FF7F7F;stroke-width:1.0px;stroke-linecap:butt;stroke-linejoin:miter;stroke-opacity:1\"/>\n",
       "<ellipse cx=\"118.0\" cy=\"156.1\" rx=\"14.4\" ry=\"14.4\" class=\"atom-1\" style=\"fill:#FF7F7F;fill-rule:evenodd;stroke:#FF7F7F;stroke-width:1.0px;stroke-linecap:butt;stroke-linejoin:miter;stroke-opacity:1\"/>\n",
       "<ellipse cx=\"182.3\" cy=\"123.5\" rx=\"14.4\" ry=\"14.4\" class=\"atom-2\" style=\"fill:#FF7F7F;fill-rule:evenodd;stroke:#FF7F7F;stroke-width:1.0px;stroke-linecap:butt;stroke-linejoin:miter;stroke-opacity:1\"/>\n",
       "<path class=\"bond-0 atom-0 atom-1\" d=\"M 69.4,124.3 L 93.7,140.2\" style=\"fill:none;fill-rule:evenodd;stroke:#FF0000;stroke-width:2.0px;stroke-linecap:butt;stroke-linejoin:miter;stroke-opacity:1\"/>\n",
       "<path class=\"bond-0 atom-0 atom-1\" d=\"M 93.7,140.2 L 118.0,156.1\" style=\"fill:none;fill-rule:evenodd;stroke:#000000;stroke-width:2.0px;stroke-linecap:butt;stroke-linejoin:miter;stroke-opacity:1\"/>\n",
       "<path class=\"bond-1 atom-1 atom-2\" d=\"M 118.0,156.1 L 182.3,123.5\" style=\"fill:none;fill-rule:evenodd;stroke:#000000;stroke-width:2.0px;stroke-linecap:butt;stroke-linejoin:miter;stroke-opacity:1\"/>\n",
       "<path class=\"bond-2 atom-2 atom-3\" d=\"M 182.3,123.5 L 186.3,51.5\" style=\"fill:none;fill-rule:evenodd;stroke:#000000;stroke-width:2.0px;stroke-linecap:butt;stroke-linejoin:miter;stroke-opacity:1\"/>\n",
       "<path class=\"bond-2 atom-2 atom-3\" d=\"M 193.5,117.9 L 196.7,58.4\" style=\"fill:none;fill-rule:evenodd;stroke:#000000;stroke-width:2.0px;stroke-linecap:butt;stroke-linejoin:miter;stroke-opacity:1\"/>\n",
       "<path class=\"bond-3 atom-3 atom-4\" d=\"M 186.3,51.5 L 250.6,19.0\" style=\"fill:none;fill-rule:evenodd;stroke:#000000;stroke-width:2.0px;stroke-linecap:butt;stroke-linejoin:miter;stroke-opacity:1\"/>\n",
       "<path class=\"bond-4 atom-4 atom-5\" d=\"M 250.6,19.0 L 311.0,58.4\" style=\"fill:none;fill-rule:evenodd;stroke:#000000;stroke-width:2.0px;stroke-linecap:butt;stroke-linejoin:miter;stroke-opacity:1\"/>\n",
       "<path class=\"bond-4 atom-4 atom-5\" d=\"M 249.9,31.4 L 299.9,64.0\" style=\"fill:none;fill-rule:evenodd;stroke:#000000;stroke-width:2.0px;stroke-linecap:butt;stroke-linejoin:miter;stroke-opacity:1\"/>\n",
       "<path class=\"bond-5 atom-5 atom-6\" d=\"M 311.0,58.4 L 307.0,130.4\" style=\"fill:none;fill-rule:evenodd;stroke:#000000;stroke-width:2.0px;stroke-linecap:butt;stroke-linejoin:miter;stroke-opacity:1\"/>\n",
       "<path class=\"bond-6 atom-6 atom-7\" d=\"M 307.0,130.4 L 332.1,146.8\" style=\"fill:none;fill-rule:evenodd;stroke:#000000;stroke-width:2.0px;stroke-linecap:butt;stroke-linejoin:miter;stroke-opacity:1\"/>\n",
       "<path class=\"bond-6 atom-6 atom-7\" d=\"M 332.1,146.8 L 357.1,163.1\" style=\"fill:none;fill-rule:evenodd;stroke:#00CC00;stroke-width:2.0px;stroke-linecap:butt;stroke-linejoin:miter;stroke-opacity:1\"/>\n",
       "<path class=\"bond-7 atom-6 atom-8\" d=\"M 307.0,130.4 L 242.7,163.0\" style=\"fill:none;fill-rule:evenodd;stroke:#000000;stroke-width:2.0px;stroke-linecap:butt;stroke-linejoin:miter;stroke-opacity:1\"/>\n",
       "<path class=\"bond-7 atom-6 atom-8\" d=\"M 296.6,123.6 L 243.4,150.5\" style=\"fill:none;fill-rule:evenodd;stroke:#000000;stroke-width:2.0px;stroke-linecap:butt;stroke-linejoin:miter;stroke-opacity:1\"/>\n",
       "<path class=\"bond-8 atom-8 atom-2\" d=\"M 242.7,163.0 L 182.3,123.5\" style=\"fill:none;fill-rule:evenodd;stroke:#000000;stroke-width:2.0px;stroke-linecap:butt;stroke-linejoin:miter;stroke-opacity:1\"/>\n",
       "<path d=\"M 116.8,155.3 L 118.0,156.1 L 121.2,154.5\" style=\"fill:none;stroke:#000000;stroke-width:2.0px;stroke-linecap:butt;stroke-linejoin:miter;stroke-opacity:1;\"/>\n",
       "<path d=\"M 186.1,55.1 L 186.3,51.5 L 189.5,49.9\" style=\"fill:none;stroke:#000000;stroke-width:2.0px;stroke-linecap:butt;stroke-linejoin:miter;stroke-opacity:1;\"/>\n",
       "<path d=\"M 247.4,20.6 L 250.6,19.0 L 253.6,20.9\" style=\"fill:none;stroke:#000000;stroke-width:2.0px;stroke-linecap:butt;stroke-linejoin:miter;stroke-opacity:1;\"/>\n",
       "<path d=\"M 308.0,56.4 L 311.0,58.4 L 310.8,62.0\" style=\"fill:none;stroke:#000000;stroke-width:2.0px;stroke-linecap:butt;stroke-linejoin:miter;stroke-opacity:1;\"/>\n",
       "<path d=\"M 245.9,161.3 L 242.7,163.0 L 239.7,161.0\" style=\"fill:none;stroke:#000000;stroke-width:2.0px;stroke-linecap:butt;stroke-linejoin:miter;stroke-opacity:1;\"/>\n",
       "<path class=\"atom-0\" d=\"M 28.1 106.6 L 30.8 106.6 L 30.8 115.2 L 41.3 115.2 L 41.3 106.6 L 44.0 106.6 L 44.0 127.0 L 41.3 127.0 L 41.3 117.5 L 30.8 117.5 L 30.8 127.0 L 28.1 127.0 L 28.1 106.6 \" fill=\"#FF0000\"/>\n",
       "<path class=\"atom-0\" d=\"M 48.2 116.7 Q 48.2 111.8, 50.7 109.1 Q 53.1 106.3, 57.6 106.3 Q 62.1 106.3, 64.6 109.1 Q 67.0 111.8, 67.0 116.7 Q 67.0 121.7, 64.5 124.5 Q 62.1 127.3, 57.6 127.3 Q 53.1 127.3, 50.7 124.5 Q 48.2 121.7, 48.2 116.7 M 57.6 125.0 Q 60.7 125.0, 62.4 122.9 Q 64.1 120.8, 64.1 116.7 Q 64.1 112.7, 62.4 110.7 Q 60.7 108.6, 57.6 108.6 Q 54.5 108.6, 52.8 110.7 Q 51.1 112.7, 51.1 116.7 Q 51.1 120.8, 52.8 122.9 Q 54.5 125.0, 57.6 125.0 \" fill=\"#FF0000\"/>\n",
       "<path class=\"atom-7\" d=\"M 359.5 170.5 Q 359.5 165.5, 361.9 162.8 Q 364.3 160.1, 368.8 160.1 Q 373.0 160.1, 375.3 163.1 L 373.4 164.7 Q 371.7 162.5, 368.8 162.5 Q 365.7 162.5, 364.1 164.6 Q 362.5 166.6, 362.5 170.5 Q 362.5 174.6, 364.1 176.7 Q 365.8 178.7, 369.1 178.7 Q 371.4 178.7, 374.0 177.4 L 374.8 179.5 Q 373.7 180.2, 372.1 180.6 Q 370.5 181.0, 368.7 181.0 Q 364.3 181.0, 361.9 178.3 Q 359.5 175.6, 359.5 170.5 \" fill=\"#00CC00\"/>\n",
       "<path class=\"atom-7\" d=\"M 377.3 158.9 L 380.0 158.9 L 380.0 180.8 L 377.3 180.8 L 377.3 158.9 \" fill=\"#00CC00\"/>\n",
       "</svg>"
      ],
      "text/plain": [
       "<IPython.core.display.SVG object>"
      ]
     },
     "execution_count": 40,
     "metadata": {},
     "output_type": "execute_result"
    }
   ],
   "source": [
    "def increase_resolution(mol, substructure, size=(400, 200)):\n",
    "    \n",
    "    mol = deepcopy(mol)\n",
    "    substructure = deepcopy(substructure)\n",
    "    drawer = rdMolDraw2D.MolDraw2DSVG(size[0], size[1])\n",
    "    \n",
    "    # highlightAtoms expects only one tuple, not tuple of tuples. So it needs to be merged into a single tuple\n",
    "    matches = sum(mol.GetSubstructMatches(substructure), ())\n",
    "    drawer.DrawMolecule(mol, highlightAtoms=matches)\n",
    "    \n",
    "    drawer.FinishDrawing()\n",
    "    svg = drawer.GetDrawingText()\n",
    "    \n",
    "    return svg.replace('svg:','')\n",
    "\n",
    "\n",
    "mol = Chem.MolFromSmiles('OCc1cccc(Cl)c1')\n",
    "substructure = Chem.MolFromSmarts('[O&H1:122][C&H2:12][c:13]')\n",
    "SVG(increase_resolution(mol, substructure))"
   ]
  },
  {
   "cell_type": "code",
   "execution_count": null,
   "id": "bdd78163",
   "metadata": {},
   "outputs": [],
   "source": []
  },
  {
   "cell_type": "code",
   "execution_count": null,
   "id": "07cf26ab",
   "metadata": {},
   "outputs": [],
   "source": []
  },
  {
   "cell_type": "code",
   "execution_count": null,
   "id": "4dee43e5",
   "metadata": {},
   "outputs": [],
   "source": []
  },
  {
   "cell_type": "code",
   "execution_count": 41,
   "id": "a6f9d0d4",
   "metadata": {
    "scrolled": false
   },
   "outputs": [
    {
     "name": "stdout",
     "output_type": "stream",
     "text": [
      "['NC(=O)c1ccc[n+]([C@@H]2O[C@H](COP(=O)(O)OP(=O)(O)OC[C@H]3O[C@@H](n4cnc5c(N)ncnc54)[C@H](OP(=O)(O)O)[C@@H]3O)[C@@H](O)[C@H]2O)c1', 'O=C([O-])[C@H](O)[C@@H](O)[C@H](O)[C@@H](O)CO']\n",
      "['CC(=O)[C@H]1CC[C@H]2[C@@H]3CC[C@@H]4C[C@@H](O)CC[C@]4(C)[C@H]3CC[C@]12C', 'NC(=O)c1ccc[n+]([C@@H]2O[C@H](COP(=O)(O)OP(=O)(O)OC[C@H]3O[C@@H](n4cnc5c(N)ncnc54)[C@H](OP(=O)(O)O)[C@@H]3O)[C@@H](O)[C@H]2O)c1']\n"
     ]
    }
   ],
   "source": [
    "group_num = 1\n",
    "row_indices = groups[group_num]\n",
    "for r in list(AdH_rxns_df.iloc[row_indices,:]['unmapped']):\n",
    "    print(r.split('>>')[0].split('.'))"
   ]
  },
  {
   "cell_type": "code",
   "execution_count": 42,
   "id": "e48eb0a1",
   "metadata": {
    "scrolled": false
   },
   "outputs": [
    {
     "data": {
      "text/html": [
       "<div>\n",
       "<style scoped>\n",
       "    .dataframe tbody tr th:only-of-type {\n",
       "        vertical-align: middle;\n",
       "    }\n",
       "\n",
       "    .dataframe tbody tr th {\n",
       "        vertical-align: top;\n",
       "    }\n",
       "\n",
       "    .dataframe thead th {\n",
       "        text-align: right;\n",
       "    }\n",
       "</style>\n",
       "<table border=\"1\" class=\"dataframe\">\n",
       "  <thead>\n",
       "    <tr style=\"text-align: right;\">\n",
       "      <th></th>\n",
       "      <th>rxn_idx</th>\n",
       "      <th>mapped</th>\n",
       "      <th>unmapped</th>\n",
       "      <th>orig_rxn_text</th>\n",
       "      <th>rule</th>\n",
       "      <th>rule_id</th>\n",
       "      <th>source</th>\n",
       "      <th>steps</th>\n",
       "      <th>quality</th>\n",
       "      <th>natural</th>\n",
       "      <th>organism</th>\n",
       "      <th>protein_refs</th>\n",
       "      <th>protein_db</th>\n",
       "      <th>ec_num</th>\n",
       "      <th>JN_labelled_rule</th>\n",
       "      <th>Reaction_site_idx</th>\n",
       "    </tr>\n",
       "  </thead>\n",
       "  <tbody>\n",
       "    <tr>\n",
       "      <th>357</th>\n",
       "      <td>63</td>\n",
       "      <td>[NH2:1][C:2](=[O:3])[c:4]1[cH:5][cH:6][cH:7][n...</td>\n",
       "      <td>NC(=O)c1ccc[n+]([C@@H]2O[C@H](COP(=O)(O)OP(=O)...</td>\n",
       "      <td>1.1.1.264-RXN</td>\n",
       "      <td>[#6:1]-[#8:2].[#6:3]1:[#6:4]:[#6:5]:[#6:6]:[#7...</td>\n",
       "      <td>1</td>\n",
       "      <td>direct</td>\n",
       "      <td>single</td>\n",
       "      <td>1.0</td>\n",
       "      <td>NaN</td>\n",
       "      <td>NaN</td>\n",
       "      <td>[]</td>\n",
       "      <td>NaN</td>\n",
       "      <td>1.1.1.264</td>\n",
       "      <td>rule0002</td>\n",
       "      <td>58</td>\n",
       "    </tr>\n",
       "    <tr>\n",
       "      <th>391</th>\n",
       "      <td>73</td>\n",
       "      <td>[CH3:1][C:2](=[O:3])[C@H:4]1[CH2:5][CH2:6][C@H...</td>\n",
       "      <td>CC(=O)[C@H]1CC[C@H]2[C@@H]3CC[C@@H]4C[C@@H](O)...</td>\n",
       "      <td>1.1.1.277-RXN</td>\n",
       "      <td>[#6:1]-[#8:2].[#6:3]1:[#6:4]:[#6:5]:[#6:6]:[#7...</td>\n",
       "      <td>1</td>\n",
       "      <td>direct</td>\n",
       "      <td>single</td>\n",
       "      <td>1.0</td>\n",
       "      <td>NaN</td>\n",
       "      <td>NaN</td>\n",
       "      <td>[]</td>\n",
       "      <td>NaN</td>\n",
       "      <td>1.1.1.277</td>\n",
       "      <td>rule0002</td>\n",
       "      <td>13</td>\n",
       "    </tr>\n",
       "  </tbody>\n",
       "</table>\n",
       "</div>"
      ],
      "text/plain": [
       "     rxn_idx                                             mapped  \\\n",
       "357       63  [NH2:1][C:2](=[O:3])[c:4]1[cH:5][cH:6][cH:7][n...   \n",
       "391       73  [CH3:1][C:2](=[O:3])[C@H:4]1[CH2:5][CH2:6][C@H...   \n",
       "\n",
       "                                              unmapped  orig_rxn_text  \\\n",
       "357  NC(=O)c1ccc[n+]([C@@H]2O[C@H](COP(=O)(O)OP(=O)...  1.1.1.264-RXN   \n",
       "391  CC(=O)[C@H]1CC[C@H]2[C@@H]3CC[C@@H]4C[C@@H](O)...  1.1.1.277-RXN   \n",
       "\n",
       "                                                  rule  rule_id  source  \\\n",
       "357  [#6:1]-[#8:2].[#6:3]1:[#6:4]:[#6:5]:[#6:6]:[#7...        1  direct   \n",
       "391  [#6:1]-[#8:2].[#6:3]1:[#6:4]:[#6:5]:[#6:6]:[#7...        1  direct   \n",
       "\n",
       "      steps  quality  natural  organism protein_refs  protein_db     ec_num  \\\n",
       "357  single      1.0      NaN       NaN           []         NaN  1.1.1.264   \n",
       "391  single      1.0      NaN       NaN           []         NaN  1.1.1.277   \n",
       "\n",
       "    JN_labelled_rule  Reaction_site_idx  \n",
       "357         rule0002                 58  \n",
       "391         rule0002                 13  "
      ]
     },
     "execution_count": 42,
     "metadata": {},
     "output_type": "execute_result"
    }
   ],
   "source": [
    "AdH_rxns_df.iloc[row_indices,:]"
   ]
  },
  {
   "cell_type": "code",
   "execution_count": 43,
   "id": "0d870254",
   "metadata": {},
   "outputs": [
    {
     "name": "stdout",
     "output_type": "stream",
     "text": [
      "Standardized SMARTS 1: [C&H2:1][C@@&H1:2]([O&H1:3])[C@&H1:4]\n",
      "Standardized SMARTS 2: [C&H3:1][C@@&H1:2]([O&H1:3])[C@&H1:4]\n",
      "Standardized SMARTS 3: [C&H2:1][C@&H1:2]([O&H1:3])[C&H2:4]\n"
     ]
    }
   ],
   "source": [
    "from rdkit import Chem\n",
    "\n",
    "# List of atom-mapped SMARTS strings\n",
    "smarts_list = [\n",
    "    '[C&H2:50][C@@&H1:51]([O&H1:52])[C@&H1:53]',\n",
    "    '[C&H3:1][C@@&H1:2]([O&H1:3])[C@&H1:4]',\n",
    "    '[C&H2:49][C@&H1:50]([O&H1:51])[C&H2:52]'\n",
    "]\n",
    "\n",
    "# Function to standardize atom mapping numbers sequentially\n",
    "def standardize_atom_mapping(smarts):\n",
    "    mol = Chem.MolFromSmarts(smarts)\n",
    "    \n",
    "    # Assign new atom mapping numbers in the order of the atom indices\n",
    "    for i, atom in enumerate(mol.GetAtoms()):\n",
    "        atom.SetAtomMapNum(i + 1)  # Sequential mapping starting from 1\n",
    "    \n",
    "    # Convert back to SMARTS\n",
    "    return Chem.MolToSmarts(mol)\n",
    "\n",
    "# Apply standardization to all SMARTS\n",
    "standardized_smarts_list = [standardize_atom_mapping(smarts) for smarts in smarts_list]\n",
    "\n",
    "# Output the standardized SMARTS strings\n",
    "for i, standardized_smarts in enumerate(standardized_smarts_list):\n",
    "    print(f\"Standardized SMARTS {i + 1}: {standardized_smarts}\")\n"
   ]
  },
  {
   "cell_type": "code",
   "execution_count": 44,
   "id": "2583c5eb",
   "metadata": {},
   "outputs": [
    {
     "data": {
      "image/png": "[encoded data removed]",
      "text/plain": [
       "<rdkit.Chem.rdchem.Mol at 0x7fe0c8fe6820>"
      ]
     },
     "execution_count": 44,
     "metadata": {},
     "output_type": "execute_result"
    }
   ],
   "source": [
    "Chem.MolFromSmarts('[C&H2:1][C@&H1:2]([O&H1:3])[C&H2:4]')"
   ]
  },
  {
   "cell_type": "code",
   "execution_count": 45,
   "id": "377d7a79",
   "metadata": {},
   "outputs": [],
   "source": [
    "from rdkit import Chem\n",
    "from rdkit.Chem import Draw\n",
    "\n",
    "# List of atom-mapped SMARTS strings\n",
    "smarts_list = [\n",
    "    '[C&H2:50][C@@&H1:51]([O&H1:52])[C@&H1:53]',\n",
    "    '[C&H3:1][C@@&H1:2]([O&H1:3])[C@&H1:4]',\n",
    "    '[C&H2:49][C@&H1:50]([O&H1:51])[C&H2:52]'\n",
    "]\n",
    "\n",
    "# Convert the SMARTS strings to RDKit molecules\n",
    "molecules = [Chem.MolFromSmarts(smarts) for smarts in smarts_list]\n",
    "\n",
    "# Draw the molecules with stereochemistry and atom mapping visible\n",
    "img = Draw.MolsToGridImage(molecules, molsPerRow=3, subImgSize=(300, 300), useSVG=False)\n"
   ]
  },
  {
   "cell_type": "code",
   "execution_count": 46,
   "id": "f79f3ceb",
   "metadata": {},
   "outputs": [
    {
     "data": {
      "image/png": "[encoded data removed]",
      "text/plain": [
       "<IPython.core.display.Image object>"
      ]
     },
     "execution_count": 46,
     "metadata": {},
     "output_type": "execute_result"
    }
   ],
   "source": [
    "img"
   ]
  },
  {
   "cell_type": "code",
   "execution_count": 47,
   "id": "6515e3a7",
   "metadata": {},
   "outputs": [],
   "source": [
    "from rdkit.Chem import Draw\n",
    "\n",
    "# Function to prepare molecules for drawing and show atom mappings\n",
    "def prepare_molecule_for_drawing(mol):\n",
    "    # Explicitly show atom mapping numbers\n",
    "    for atom in mol.GetAtoms():\n",
    "        if atom.GetAtomMapNum() > 0:\n",
    "            atom.SetProp(\"atomLabel\", f\"{atom.GetSymbol()}:{atom.GetAtomMapNum()}\")\n",
    "    return mol\n",
    "\n",
    "# Prepare molecules for drawing with atom mapping numbers visible\n",
    "prepared_molecules = [prepare_molecule_for_drawing(mol) for mol in molecules]\n",
    "\n",
    "# Draw the molecules in a grid\n",
    "img = Draw.MolsToGridImage(prepared_molecules, molsPerRow=3, subImgSize=(300, 300), useSVG=False)\n"
   ]
  },
  {
   "cell_type": "code",
   "execution_count": 48,
   "id": "b18f6bda",
   "metadata": {},
   "outputs": [
    {
     "data": {
      "image/png": "[encoded data removed]",
      "text/plain": [
       "<IPython.core.display.Image object>"
      ]
     },
     "execution_count": 48,
     "metadata": {},
     "output_type": "execute_result"
    }
   ],
   "source": [
    "img"
   ]
  },
  {
   "cell_type": "code",
   "execution_count": null,
   "id": "2d036afb",
   "metadata": {},
   "outputs": [],
   "source": []
  },
  {
   "cell_type": "code",
   "execution_count": 49,
   "id": "1ecb0278",
   "metadata": {},
   "outputs": [
    {
     "data": {
      "text/plain": [
       "'[C&H2:2][O&H1:3]'"
      ]
     },
     "execution_count": 49,
     "metadata": {},
     "output_type": "execute_result"
    }
   ],
   "source": [
    "get_env_around_reaction_site_single_reactant('[CH3:1][CH2:2][OH:3]', 1, 2)"
   ]
  },
  {
   "cell_type": "code",
   "execution_count": 50,
   "id": "fba2db98",
   "metadata": {},
   "outputs": [
    {
     "ename": "NameError",
     "evalue": "name 'smarts1' is not defined",
     "output_type": "error",
     "traceback": [
      "\u001b[0;31m---------------------------------------------------------------------------\u001b[0m",
      "\u001b[0;31mNameError\u001b[0m                                 Traceback (most recent call last)",
      "Cell \u001b[0;32mIn[50], line 1\u001b[0m\n\u001b[0;32m----> 1\u001b[0m Chem\u001b[38;5;241m.\u001b[39mMolFromSmarts(\u001b[43msmarts1\u001b[49m)\n",
      "\u001b[0;31mNameError\u001b[0m: name 'smarts1' is not defined"
     ]
    }
   ],
   "source": [
    "Chem.MolFromSmarts(smarts1)"
   ]
  },
  {
   "cell_type": "code",
   "execution_count": null,
   "id": "5e206795",
   "metadata": {},
   "outputs": [],
   "source": [
    "mol1 = Chem.MolFromSmarts(smarts1)\n",
    "Chem.SanitizeMol(mol1, Chem.SanitizeFlags.SANITIZE_ALL)\n",
    "fingerprint = AllChem.GetMorganFingerprintAsBitVect(mol1, radius=2, nBits=2048)\n",
    "fingerprint_bits1 = np.array(fingerprint)"
   ]
  },
  {
   "cell_type": "code",
   "execution_count": null,
   "id": "bd1eed17",
   "metadata": {},
   "outputs": [],
   "source": [
    "atom_mapped_substrate_smarts2 = '[OH:49][CH2:50][C@@H:51]([OH:52])[C@H:53]([OH:54])[C@@H:55]([OH:56])[CH2:57][OH:58]'#'[CH3:1][C@@H:2]([OH:3])[CH2:4][CH2:5][OH:6]'\n",
    "radius = 1\n",
    "starting_atom_idx = 51\n",
    "smarts2 = get_env_around_reaction_site_single_reactant(atom_mapped_substrate_smarts2, radius, starting_atom_idx)\n",
    "print(smarts2)"
   ]
  },
  {
   "cell_type": "code",
   "execution_count": null,
   "id": "e84ea811",
   "metadata": {},
   "outputs": [],
   "source": [
    "Chem.MolFromSmarts(smarts2)"
   ]
  },
  {
   "cell_type": "code",
   "execution_count": null,
   "id": "08264c05",
   "metadata": {},
   "outputs": [],
   "source": [
    "mol2 = Chem.MolFromSmarts(smarts2)\n",
    "Chem.SanitizeMol(mol2, Chem.SanitizeFlags.SANITIZE_ALL)\n",
    "fingerprint = AllChem.GetMorganFingerprintAsBitVect(mol2, radius=2, nBits=2048)\n",
    "fingerprint_bits2 = np.array(fingerprint)"
   ]
  },
  {
   "cell_type": "code",
   "execution_count": null,
   "id": "7c4a1c76",
   "metadata": {},
   "outputs": [],
   "source": [
    "np.array_equal(fingerprint_bits1,fingerprint_bits2)"
   ]
  },
  {
   "cell_type": "code",
   "execution_count": null,
   "id": "008c2fac",
   "metadata": {},
   "outputs": [],
   "source": []
  },
  {
   "cell_type": "code",
   "execution_count": null,
   "id": "a038a66e",
   "metadata": {},
   "outputs": [],
   "source": []
  },
  {
   "cell_type": "code",
   "execution_count": null,
   "id": "8a5aab28",
   "metadata": {},
   "outputs": [],
   "source": [
    "substrate_mol = Chem.MolFromSmarts('[CH3:1][O:2][c:3]1[cH:4][c:5]([C@@H:6]([OH:7])[CH:8]=[O:9])[cH:10][cH:11][c:12]1[OH:13]')\n",
    "env = Chem.FindAtomEnvironmentOfRadiusN(mol = substrate_mol, radius = 6, rootedAtAtom = 8)"
   ]
  },
  {
   "cell_type": "code",
   "execution_count": null,
   "id": "a28136c2",
   "metadata": {},
   "outputs": [],
   "source": [
    "bond_indices = list(env)\n",
    "atom_indices = set()\n",
    "for bond_idx in bond_indices:\n",
    "    bond = substrate_mol.GetBondWithIdx(bond_idx)\n",
    "    atom_indices.add(bond.GetBeginAtomIdx())\n",
    "    atom_indices.add(bond.GetEndAtomIdx())\n"
   ]
  },
  {
   "cell_type": "code",
   "execution_count": null,
   "id": "a333988c",
   "metadata": {},
   "outputs": [],
   "source": [
    "# Generate the SMARTS string for the substructure, using the atom indices\n",
    "smarts = Chem.MolFragmentToSmarts(substrate_mol, atomsToUse=list(atom_indices))\n",
    "\n",
    "# Output the corrected SMARTS\n",
    "print(f\"Corrected SMARTS: {smarts}\")"
   ]
  },
  {
   "cell_type": "code",
   "execution_count": null,
   "id": "8c092688",
   "metadata": {},
   "outputs": [],
   "source": [
    "Chem.MolFromSmarts(smarts)"
   ]
  },
  {
   "cell_type": "code",
   "execution_count": null,
   "id": "eedba3ab",
   "metadata": {},
   "outputs": [],
   "source": [
    "list(env)"
   ]
  },
  {
   "cell_type": "code",
   "execution_count": null,
   "id": "4cf2b640",
   "metadata": {},
   "outputs": [],
   "source": [
    "# Convert the RDKit vector of integers to a Python list\n",
    "atom_indices = list(env)\n",
    "    \n",
    "# Generate the SMARTS string for the substructure\n",
    "smarts = Chem.MolFragmentToSmarts(substrate_mol, atomsToUse=atom_indices)\n",
    "    "
   ]
  },
  {
   "cell_type": "code",
   "execution_count": null,
   "id": "a2bf0f46",
   "metadata": {},
   "outputs": [],
   "source": [
    "smarts"
   ]
  },
  {
   "cell_type": "code",
   "execution_count": null,
   "id": "8d7e0ced",
   "metadata": {},
   "outputs": [],
   "source": [
    "Chem.MolFromSmarts(smarts)"
   ]
  },
  {
   "cell_type": "code",
   "execution_count": 2,
   "id": "48a01624",
   "metadata": {},
   "outputs": [],
   "source": [
    "reaction_smarts = '[c&H1:4][c:5][C@@&H1:6]([O&H1:7])[C&H2:8][O&H1:9]>>[c&H1:4][c:5][C@@&H1:6]([O&H1:7])[C&H1:8]=[O:9]'\n",
    "reaction_smiles = 'COc1cc([C@@H](O)CO)ccc1O.NC(=O)c1ccc[n+]([C@@H]2O[C@H](COP(=O)(O)OP(=O)(O)OC[C@H]3O[C@@H](n4cnc5c(N)ncnc54)[C@H](O)[C@@H]3O)[C@@H](O)[C@H]2O)c1>>COc1cc([C@@H](O)C=O)ccc1O.NC(=O)C1=CN([C@@H]2O[C@H](COP(=O)(O)OP(=O)(O)OC[C@H]3O[C@@H](n4cnc5c(N)ncnc54)[C@H](O)[C@@H]3O)[C@@H](O)[C@H]2O)C=CC1'"
   ]
  },
  {
   "cell_type": "code",
   "execution_count": 3,
   "id": "6f8c1abc",
   "metadata": {},
   "outputs": [
    {
     "data": {
      "image/png": "[encoded data removed]",
      "text/plain": [
       "<rdkit.Chem.rdChemReactions.ChemicalReaction at 0x7fd6161feb30>"
      ]
     },
     "execution_count": 3,
     "metadata": {},
     "output_type": "execute_result"
    }
   ],
   "source": [
    "rdChemReactions.ReactionFromSmarts(reaction_smarts)"
   ]
  },
  {
   "cell_type": "code",
   "execution_count": 35,
   "id": "f9e6038f",
   "metadata": {},
   "outputs": [],
   "source": [
    "def show_outcomes(reaction_smarts, reactant_smiles):\n",
    "    \n",
    "    # normal version\n",
    "    outcomes_rdkit_mol = AllChem.ReactionFromSmarts(reaction_smarts).RunReactants((Chem.MolFromSmiles(reactant_smiles),))\n",
    "    outcomes_rdkit = set()\n",
    "    for outcome in outcomes_rdkit_mol:\n",
    "        outcomes_rdkit.add('.'.join(sorted([Chem.MolToSmiles(x) for x in outcome])))\n",
    "    # rdchiral version\n",
    "    outcomes_rdchiral = rdchiralRunText(reaction_smarts, reactant_smiles)\n",
    "    \n",
    "    print('\\nReaction SMARTS: {}'.format(reaction_smarts))\n",
    "    display(Chem.MolFromSmiles(reactant_smiles))\n",
    "    print('\\nInput SMILES: {}'.format(reactant_smiles))\n",
    "    \n",
    "    if outcomes_rdkit:\n",
    "        display(Chem.MolFromSmiles('.'.join(outcomes_rdkit)))\n",
    "    print('\\n{:1d} RDKit outcomes: {}'.format(len(outcomes_rdkit),'.'.join(outcomes_rdkit)))\n",
    "    \n",
    "    if outcomes_rdkit:\n",
    "        display(Chem.MolFromSmiles('.'.join(outcomes_rdchiral)))\n",
    "    print('{:1d} RDChiral outcomes: {}'.format(len(outcomes_rdchiral),'.'.join(outcomes_rdchiral)))"
   ]
  },
  {
   "cell_type": "code",
   "execution_count": 5,
   "id": "b7a76668",
   "metadata": {},
   "outputs": [
    {
     "name": "stdout",
     "output_type": "stream",
     "text": [
      "\n",
      "Reaction SMARTS: [c&H1:4][c:5][C@@&H1:6]([O&H1:7])[C&H2:8][O&H1:9]>>[c&H1:4][c:5][C@@&H1:6]([O&H1:7])[C&H1:8]=[O:9]\n"
     ]
    },
    {
     "data": {
      "image/png": "[encoded data removed]",
      "text/plain": [
       "<rdkit.Chem.rdchem.Mol at 0x7fd6161fe9e0>"
      ]
     },
     "metadata": {},
     "output_type": "display_data"
    },
    {
     "name": "stdout",
     "output_type": "stream",
     "text": [
      "\n",
      "Input SMILES: COc1cc([C@@H](O)CO)ccc1O\n"
     ]
    },
    {
     "data": {
      "image/png": "[encoded data removed]",
      "text/plain": [
       "<rdkit.Chem.rdchem.Mol at 0x7fd6161fe9e0>"
      ]
     },
     "metadata": {},
     "output_type": "display_data"
    },
    {
     "name": "stdout",
     "output_type": "stream",
     "text": [
      "\n",
      "1 RDKit outcomes: COc1cc([C@@H](O)C=O)ccc1O\n"
     ]
    },
    {
     "data": {
      "image/png": "[encoded data removed]",
      "text/plain": [
       "<rdkit.Chem.rdchem.Mol at 0x7fd6161fe9e0>"
      ]
     },
     "metadata": {},
     "output_type": "display_data"
    },
    {
     "name": "stdout",
     "output_type": "stream",
     "text": [
      "1 RDChiral outcomes: COc1cc([C@@H](O)C=O)ccc1O\n"
     ]
    }
   ],
   "source": [
    "show_outcomes(reaction_smarts, reactant_smiles = 'COc1cc([C@@H](O)CO)ccc1O')"
   ]
  },
  {
   "cell_type": "code",
   "execution_count": 6,
   "id": "e1e1e7b5",
   "metadata": {},
   "outputs": [],
   "source": [
    "substructure_mol = Chem.MolFromSmarts('[c&H1:4][c:5][C@@&H1:6]([O&H1:7])[C&H2:8][O&H1:9]')\n",
    "substrate_mol = Chem.MolFromSmiles('COc1cc([C@@H](O)CO)ccc1O')\n",
    "match = rdFMCS.FindMCS([substructure_mol, substrate_mol], matchChiralTag = True)"
   ]
  },
  {
   "cell_type": "code",
   "execution_count": 7,
   "id": "e5d1186e",
   "metadata": {},
   "outputs": [
    {
     "name": "stdout",
     "output_type": "stream",
     "text": [
      "[#6]:[#6]-[#6](-[#8])-[#6]-[#8]\n"
     ]
    }
   ],
   "source": [
    "print(match.smartsString)"
   ]
  },
  {
   "cell_type": "code",
   "execution_count": 8,
   "id": "c36e9386",
   "metadata": {},
   "outputs": [
    {
     "name": "stdout",
     "output_type": "stream",
     "text": [
      "Is the smaller molecule a subset of the larger one? False\n"
     ]
    }
   ],
   "source": [
    "from rdkit import Chem\n",
    "\n",
    "# Define the smaller (query) and larger (target) molecules\n",
    "smaller_molecule = Chem.MolFromSmarts('[c&H1:4][c:5][C@&H1:6]([O&H1:7])[C&H2:8][O&H1:9]')  # e.g., ethanol\n",
    "larger_molecule = Chem.MolFromSmiles('COc1cc([C@@H](O)CO)ccc1O')  # e.g., butanol\n",
    "\n",
    "# Check if the smaller molecule is a substructure of the larger molecule\n",
    "is_subset = larger_molecule.HasSubstructMatch(smaller_molecule, useChirality = True)\n",
    "\n",
    "# Output the result\n",
    "print(f\"Is the smaller molecule a subset of the larger one? {is_subset}\")\n"
   ]
  },
  {
   "cell_type": "code",
   "execution_count": 50,
   "id": "5fd011c6",
   "metadata": {},
   "outputs": [
    {
     "name": "stdout",
     "output_type": "stream",
     "text": [
      "Is the smaller molecule a subset of the larger one? True\n"
     ]
    }
   ],
   "source": [
    "from rdkit import Chem\n",
    "\n",
    "# Define the smaller (query) and larger (target) molecules\n",
    "smaller_molecule = Chem.MolFromSmarts('[c&H1:1][c:2][C@@&H1:3]([O&H1:4])[C&H2:5][O&H1:6]')  # e.g., ethanol\n",
    "larger_molecule = Chem.MolFromSmiles('COc1cc([C@@H](O)CO)ccc1O')  # e.g., butanol\n",
    "\n",
    "# Check if the smaller molecule is a substructure of the larger molecule\n",
    "is_subset = larger_molecule.HasSubstructMatch(smaller_molecule, useChirality = True)\n",
    "\n",
    "# Output the result\n",
    "print(f\"Is the smaller molecule a subset of the larger one? {is_subset}\")\n"
   ]
  },
  {
   "cell_type": "code",
   "execution_count": 47,
   "id": "f500896a",
   "metadata": {},
   "outputs": [
    {
     "data": {
      "image/png": "[encoded data removed]",
      "text/plain": [
       "<rdkit.Chem.rdchem.Mol at 0x7fd616f62e40>"
      ]
     },
     "execution_count": 47,
     "metadata": {},
     "output_type": "execute_result"
    }
   ],
   "source": [
    "Chem.MolFromSmarts('[c&H1:1][c:2][C@@&H1:3]([O&H1:4])[C&H2:5][O&H1:6]')"
   ]
  },
  {
   "cell_type": "code",
   "execution_count": null,
   "id": "623272c8",
   "metadata": {},
   "outputs": [],
   "source": []
  },
  {
   "cell_type": "code",
   "execution_count": 10,
   "id": "4e136184",
   "metadata": {},
   "outputs": [],
   "source": [
    "def are_smarts_equivalent(smarts1, smarts2, use_chirality=False):\n",
    "    # Convert SMARTS strings to RDKit molecule objects\n",
    "    mol1 = Chem.MolFromSmarts(smarts1)\n",
    "    mol2 = Chem.MolFromSmarts(smarts2)\n",
    "    \n",
    "    # Check if mol1 is a substructure of mol2 and mol2 is a substructure of mol1\n",
    "    match1 = mol2.HasSubstructMatch(mol1, useChirality=use_chirality)\n",
    "    match2 = mol1.HasSubstructMatch(mol2, useChirality=use_chirality)\n",
    "    \n",
    "    # If both are true, the two SMARTS patterns describe the same substructure\n",
    "    return match1 and match2"
   ]
  },
  {
   "cell_type": "code",
   "execution_count": 11,
   "id": "976288f0",
   "metadata": {},
   "outputs": [
    {
     "ename": "RuntimeError",
     "evalue": "Pre-condition Violation\n\tgetNumImplicitHs() called without preceding call to calcImplicitValence()\n\tViolation occurred on line 289 in file Code/GraphMol/Atom.cpp\n\tFailed Expression: d_implicitValence > -1\n\tRDKIT: 2024.03.5\n\tBOOST: 1_85\n",
     "output_type": "error",
     "traceback": [
      "\u001b[0;31m---------------------------------------------------------------------------\u001b[0m",
      "\u001b[0;31mRuntimeError\u001b[0m                              Traceback (most recent call last)",
      "Cell \u001b[0;32mIn[11], line 1\u001b[0m\n\u001b[0;32m----> 1\u001b[0m \u001b[43mare_smarts_equivalent\u001b[49m\u001b[43m(\u001b[49m\u001b[38;5;124;43m'\u001b[39;49m\u001b[38;5;124;43m[c&H1:1][c:2][C@@&H1:3]([O&H1:4])[C&H2:5][O&H1:6]\u001b[39;49m\u001b[38;5;124;43m'\u001b[39;49m\u001b[43m,\u001b[49m\n\u001b[1;32m      2\u001b[0m \u001b[43m                      \u001b[49m\u001b[38;5;124;43m'\u001b[39;49m\u001b[38;5;124;43m[c&H1:4][c:5][C@@&H1:6]([O&H1:7])[C&H2:8][O&H1:9]\u001b[39;49m\u001b[38;5;124;43m'\u001b[39;49m\u001b[43m)\u001b[49m\n",
      "Cell \u001b[0;32mIn[10], line 7\u001b[0m, in \u001b[0;36mare_smarts_equivalent\u001b[0;34m(smarts1, smarts2, use_chirality)\u001b[0m\n\u001b[1;32m      4\u001b[0m mol2 \u001b[38;5;241m=\u001b[39m Chem\u001b[38;5;241m.\u001b[39mMolFromSmarts(smarts2)\n\u001b[1;32m      6\u001b[0m \u001b[38;5;66;03m# Check if mol1 is a substructure of mol2 and mol2 is a substructure of mol1\u001b[39;00m\n\u001b[0;32m----> 7\u001b[0m match1 \u001b[38;5;241m=\u001b[39m \u001b[43mmol2\u001b[49m\u001b[38;5;241;43m.\u001b[39;49m\u001b[43mHasSubstructMatch\u001b[49m\u001b[43m(\u001b[49m\u001b[43mmol1\u001b[49m\u001b[43m,\u001b[49m\u001b[43m \u001b[49m\u001b[43museChirality\u001b[49m\u001b[38;5;241;43m=\u001b[39;49m\u001b[43muse_chirality\u001b[49m\u001b[43m)\u001b[49m\n\u001b[1;32m      8\u001b[0m match2 \u001b[38;5;241m=\u001b[39m mol1\u001b[38;5;241m.\u001b[39mHasSubstructMatch(mol2, useChirality\u001b[38;5;241m=\u001b[39muse_chirality)\n\u001b[1;32m     10\u001b[0m \u001b[38;5;66;03m# If both are true, the two SMARTS patterns describe the same substructure\u001b[39;00m\n",
      "\u001b[0;31mRuntimeError\u001b[0m: Pre-condition Violation\n\tgetNumImplicitHs() called without preceding call to calcImplicitValence()\n\tViolation occurred on line 289 in file Code/GraphMol/Atom.cpp\n\tFailed Expression: d_implicitValence > -1\n\tRDKIT: 2024.03.5\n\tBOOST: 1_85\n"
     ]
    }
   ],
   "source": [
    "are_smarts_equivalent('[c&H1:1][c:2][C@@&H1:3]([O&H1:4])[C&H2:5][O&H1:6]',\n",
    "                      '[c&H1:4][c:5][C@@&H1:6]([O&H1:7])[C&H2:8][O&H1:9]')"
   ]
  },
  {
   "cell_type": "code",
   "execution_count": 12,
   "id": "21346d89",
   "metadata": {},
   "outputs": [
    {
     "name": "stdout",
     "output_type": "stream",
     "text": [
      "Are the two SMARTS patterns equivalent? False\n"
     ]
    }
   ],
   "source": [
    "from rdkit import Chem\n",
    "\n",
    "def are_smarts_equivalent(smarts1, smarts2, use_chirality=False):\n",
    "    try:\n",
    "        # Convert SMARTS strings to RDKit molecule objects\n",
    "        mol1 = Chem.MolFromSmarts(smarts1)\n",
    "        mol2 = Chem.MolFromSmarts(smarts2)\n",
    "\n",
    "        # Sanitize the molecules to compute implicit valence and hydrogens\n",
    "        Chem.SanitizeMol(mol1, Chem.SanitizeFlags.SANITIZE_ALL)\n",
    "        Chem.SanitizeMol(mol2, Chem.SanitizeFlags.SANITIZE_ALL)\n",
    "        \n",
    "        # Check if mol1 is a substructure of mol2 and mol2 is a substructure of mol1\n",
    "        match1 = mol2.HasSubstructMatch(mol1, useChirality=use_chirality)\n",
    "        match2 = mol1.HasSubstructMatch(mol2, useChirality=use_chirality)\n",
    "        \n",
    "        # If both are true, the two SMARTS patterns describe the same substructure\n",
    "        return match1 and match2\n",
    "    \n",
    "    except Exception as e:\n",
    "        print(f\"Error during SMARTS comparison: {e}\")\n",
    "        return False\n",
    "\n",
    "# Example SMARTS patterns\n",
    "smarts_pattern_1 = '[c&H1:1][c:2][C@@&H1:3]([O&H1:4])[C&H2:5][O&H1:6]'\n",
    "smarts_pattern_2 = '[c&H1:4][c:5][C@@&H1:6]([O&H1:7])[C&H2:8][O&H1:9]'\n",
    "\n",
    "# Check if the two SMARTS patterns are equivalent (with or without chirality)\n",
    "equivalent = are_smarts_equivalent(smarts_pattern_1, smarts_pattern_2, use_chirality=False)\n",
    "\n",
    "print(f\"Are the two SMARTS patterns equivalent? {equivalent}\")"
   ]
  },
  {
   "cell_type": "code",
   "execution_count": 13,
   "id": "a5b49eaa",
   "metadata": {},
   "outputs": [],
   "source": [
    "# Define a SMARTS pattern and convert it to an RDKit molecule\n",
    "smarts = \"[c&H1:1][c:2][C@@&H1:3]([O&H1:4])[C&H2:5][O&H1:6]\"\n",
    "mol = Chem.MolFromSmarts(smarts)\n",
    "Chem.SanitizeMol(mol, Chem.SanitizeFlags.SANITIZE_ALL)\n",
    "\n",
    "# Generate Morgan fingerprints for the molecule (radius=2, bit vector size=2048)\n",
    "fingerprint = AllChem.GetMorganFingerprintAsBitVect(mol, radius=2, nBits=2048)\n",
    "\n",
    "# Convert the fingerprint to a list of bits\n",
    "fingerprint_bits1 = np.array(fingerprint)"
   ]
  },
  {
   "cell_type": "code",
   "execution_count": 14,
   "id": "47e473e7",
   "metadata": {},
   "outputs": [],
   "source": [
    "# Define a SMARTS pattern and convert it to an RDKit molecule\n",
    "smarts = \"[c&H1:4][c:5][C@@&H1:6]([O&H1:7])[C&H2:8][O&H1:9]\"\n",
    "mol = Chem.MolFromSmarts(smarts)\n",
    "Chem.SanitizeMol(mol, Chem.SanitizeFlags.SANITIZE_ALL)\n",
    "\n",
    "# Generate Morgan fingerprints for the molecule (radius=2, bit vector size=2048)\n",
    "fingerprint = AllChem.GetMorganFingerprintAsBitVect(mol, radius=2, nBits=2048)\n",
    "\n",
    "# Convert the fingerprint to a list of bits\n",
    "fingerprint_bits2 = np.array(fingerprint)"
   ]
  },
  {
   "cell_type": "code",
   "execution_count": 15,
   "id": "2e8a2631",
   "metadata": {},
   "outputs": [
    {
     "data": {
      "text/plain": [
       "True"
      ]
     },
     "execution_count": 15,
     "metadata": {},
     "output_type": "execute_result"
    }
   ],
   "source": [
    "np.array_equal(fingerprint_bits1,fingerprint_bits2)"
   ]
  },
  {
   "cell_type": "code",
   "execution_count": 16,
   "id": "2bfef675",
   "metadata": {},
   "outputs": [
    {
     "ename": "NameError",
     "evalue": "name 'AdH_rxns_df' is not defined",
     "output_type": "error",
     "traceback": [
      "\u001b[0;31m---------------------------------------------------------------------------\u001b[0m",
      "\u001b[0;31mNameError\u001b[0m                                 Traceback (most recent call last)",
      "Cell \u001b[0;32mIn[16], line 1\u001b[0m\n\u001b[0;32m----> 1\u001b[0m \u001b[38;5;28mlist\u001b[39m(\u001b[43mAdH_rxns_df\u001b[49m[\u001b[38;5;124m'\u001b[39m\u001b[38;5;124munmapped\u001b[39m\u001b[38;5;124m'\u001b[39m])[\u001b[38;5;241m12\u001b[39m]\n",
      "\u001b[0;31mNameError\u001b[0m: name 'AdH_rxns_df' is not defined"
     ]
    }
   ],
   "source": [
    "list(AdH_rxns_df['unmapped'])[12]"
   ]
  },
  {
   "cell_type": "code",
   "execution_count": null,
   "id": "47531099",
   "metadata": {},
   "outputs": [],
   "source": [
    "list(AdH_rxns_df['mapped'])[12]"
   ]
  },
  {
   "cell_type": "code",
   "execution_count": null,
   "id": "7fbb6713",
   "metadata": {},
   "outputs": [],
   "source": []
  }
 ],
 "metadata": {
  "kernelspec": {
   "display_name": "comprehensive_env_py38",
   "language": "python",
   "name": "comprehensive_env_py38"
  },
  "language_info": {
   "codemirror_mode": {
    "name": "ipython",
    "version": 3
   },
   "file_extension": ".py",
   "mimetype": "text/x-python",
   "name": "python",
   "nbconvert_exporter": "python",
   "pygments_lexer": "ipython3",
   "version": "3.8.18"
  }
 },
 "nbformat": 4,
 "nbformat_minor": 5
}
