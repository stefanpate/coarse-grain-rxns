{
 "cells": [
  {
   "cell_type": "code",
   "execution_count": 1,
   "metadata": {},
   "outputs": [],
   "source": [
    "from rdkit import Chem\n",
    "from rdkit.Chem.Draw import IPythonConsole, MolsToGridImage\n",
    "from IPython.display import SVG\n",
    "import ipywidgets as widgets\n",
    "from ipywidgets import interact\n",
    "import json\n",
    "from cgr.filepaths import filepaths\n",
    "from cgr.draw import draw_molecule, draw_reaction\n",
    "from itertools import chain"
   ]
  },
  {
   "cell_type": "code",
   "execution_count": 2,
   "metadata": {},
   "outputs": [],
   "source": [
    "def show_highlighted_grid(smiles: str, rcs: list[list], legends: list[str], n_cols: int, sub_img_size: tuple = (200, 200)):\n",
    "    mgrid = MolsToGridImage(\n",
    "        mols=[Chem.MolFromSmiles(smi) for smi in smiles],\n",
    "        highlightAtomLists=rcs,\n",
    "        molsPerRow=n_cols,\n",
    "        legends=legends,\n",
    "        subImgSize=sub_img_size,\n",
    "        maxMols=100\n",
    "    )\n",
    "    display(mgrid)"
   ]
  },
  {
   "cell_type": "code",
   "execution_count": 3,
   "metadata": {},
   "outputs": [],
   "source": [
    "krs = filepaths.data / \"raw\" / \"sprhea_240310_v3_mapped_no_subunits.json\"\n",
    "with open(krs, 'r') as f:\n",
    "    krs = json.load(f)"
   ]
  },
  {
   "cell_type": "code",
   "execution_count": 4,
   "metadata": {},
   "outputs": [],
   "source": [
    "decarb = {k: v for k,v  in krs.items() if v['min_rule'] == 'rule0024'}"
   ]
  },
  {
   "cell_type": "markdown",
   "metadata": {},
   "source": [
    "View all known decarbs"
   ]
  },
  {
   "cell_type": "code",
   "execution_count": 5,
   "metadata": {},
   "outputs": [
    {
     "data": {
      "application/vnd.jupyter.widget-view+json": {
       "model_id": "d9239bc41907409fb60b688fdbccaef6",
       "version_major": 2,
       "version_minor": 0
      },
      "text/plain": [
       "interactive(children=(Dropdown(description='key', options=('14', '55', '121', '734', '1067', '1162', '1565', '…"
      ]
     },
     "metadata": {},
     "output_type": "display_data"
    }
   ],
   "source": [
    "kopts = list(decarb.keys())\n",
    "\n",
    "@interact\n",
    "def show_decarbs(key = widgets.Dropdown(value=kopts[0], options=kopts)):    \n",
    "    rxn = decarb[key]\n",
    "    print(rxn['imt_rules'])\n",
    "    print(rxn['rhea_ids'])\n",
    "    smiles = rxn['smarts'].split('>>')[0]\n",
    "    rc = rxn['reaction_center'][0]\n",
    "    display(SVG(draw_molecule(smiles, hilite_atoms=rc, size=(500, 300))))"
   ]
  },
  {
   "cell_type": "markdown",
   "metadata": {},
   "source": [
    "View reactants grouped by intermediate rule"
   ]
  },
  {
   "cell_type": "code",
   "execution_count": 7,
   "metadata": {},
   "outputs": [
    {
     "data": {
      "application/vnd.jupyter.widget-view+json": {
       "model_id": "f21f9e3cd7a34eeb93940b5f74933051",
       "version_major": 2,
       "version_minor": 0
      },
      "text/plain": [
       "interactive(children=(Dropdown(description='imt', options=('rule0024_46', 'rule0024_51', 'rule0024_29', 'rule0…"
      ]
     },
     "metadata": {},
     "output_type": "display_data"
    }
   ],
   "source": [
    "imt_rules = list(set(chain(*[rxn['imt_rules'] for rxn in decarb.values()])))\n",
    "\n",
    "@interact\n",
    "def show_imt_groups(imt = widgets.Dropdown(value=imt_rules[0], options=imt_rules)):\n",
    "    rxns = {k: v for k, v in decarb.items() if v['imt_rules'][0] == imt}\n",
    "    print(f\"Number reactions: {len(rxns)}\")\n",
    "    stuff = [\n",
    "        (k, rxn['smarts'].split('>>')[0], rxn['reaction_center'][0])\n",
    "        for k, rxn in list(rxns.items())\n",
    "    ]\n",
    "\n",
    "    legends, smiles, rcs = zip(*stuff)\n",
    "    n_cols = 3\n",
    "    sub_img_size = (700, 300)\n",
    "    show_highlighted_grid(smiles, rcs, legends, n_cols, sub_img_size)\n"
   ]
  },
  {
   "cell_type": "markdown",
   "metadata": {},
   "source": [
    "From case study"
   ]
  },
  {
   "cell_type": "code",
   "execution_count": 8,
   "metadata": {},
   "outputs": [
    {
     "name": "stdout",
     "output_type": "stream",
     "text": [
      "['A0A248QE08']\n"
     ]
    },
    {
     "data": {
      "image/svg+xml": [
       "<svg xmlns=\"http://www.w3.org/2000/svg\" xmlns:rdkit=\"http://www.rdkit.org/xml\" xmlns:xlink=\"http://www.w3.org/1999/xlink\" version=\"1.1\" baseProfile=\"full\" xml:space=\"preserve\" width=\"1200px\" height=\"200px\" viewBox=\"0 0 1200 200\">\n",
       "<!-- END OF HEADER -->\n",
       "<rect style=\"opacity:1.0;fill:#FFFFFF;stroke:none\" width=\"1200.0\" height=\"200.0\" x=\"0.0\" y=\"0.0\"> </rect>\n",
       "<path class=\"bond-0 atom-0 atom-1\" d=\"M 151.4,118.0 L 197.1,95.2\" style=\"fill:none;fill-rule:evenodd;stroke:#000000;stroke-width:2.0px;stroke-linecap:butt;stroke-linejoin:miter;stroke-opacity:1\"/>\n",
       "<path class=\"bond-1 atom-1 atom-2\" d=\"M 197.1,95.2 L 239.8,123.4\" style=\"fill:none;fill-rule:evenodd;stroke:#000000;stroke-width:2.0px;stroke-linecap:butt;stroke-linejoin:miter;stroke-opacity:1\"/>\n",
       "<path class=\"bond-2 atom-2 atom-3\" d=\"M 239.8,123.4 L 285.5,100.6\" style=\"fill:none;fill-rule:evenodd;stroke:#000000;stroke-width:2.0px;stroke-linecap:butt;stroke-linejoin:miter;stroke-opacity:1\"/>\n",
       "<path class=\"bond-3 atom-3 atom-4\" d=\"M 285.5,100.6 L 328.2,128.8\" style=\"fill:none;fill-rule:evenodd;stroke:#000000;stroke-width:2.0px;stroke-linecap:butt;stroke-linejoin:miter;stroke-opacity:1\"/>\n",
       "<path class=\"bond-4 atom-4 atom-5\" d=\"M 328.2,128.8 L 373.9,105.9\" style=\"fill:none;fill-rule:evenodd;stroke:#000000;stroke-width:2.0px;stroke-linecap:butt;stroke-linejoin:miter;stroke-opacity:1\"/>\n",
       "<path class=\"bond-5 atom-5 atom-6\" d=\"M 373.9,105.9 L 416.6,134.1\" style=\"fill:none;fill-rule:evenodd;stroke:#000000;stroke-width:2.0px;stroke-linecap:butt;stroke-linejoin:miter;stroke-opacity:1\"/>\n",
       "<path class=\"bond-6 atom-6 atom-7\" d=\"M 416.6,134.1 L 462.3,111.3\" style=\"fill:none;fill-rule:evenodd;stroke:#000000;stroke-width:2.0px;stroke-linecap:butt;stroke-linejoin:miter;stroke-opacity:1\"/>\n",
       "<path class=\"bond-7 atom-7 atom-8\" d=\"M 458.4,113.3 L 476.4,125.2\" style=\"fill:none;fill-rule:evenodd;stroke:#000000;stroke-width:2.0px;stroke-linecap:butt;stroke-linejoin:miter;stroke-opacity:1\"/>\n",
       "<path class=\"bond-7 atom-7 atom-8\" d=\"M 476.4,125.2 L 494.5,137.2\" style=\"fill:none;fill-rule:evenodd;stroke:#FF0000;stroke-width:2.0px;stroke-linecap:butt;stroke-linejoin:miter;stroke-opacity:1\"/>\n",
       "<path class=\"bond-7 atom-7 atom-8\" d=\"M 462.6,106.9 L 480.7,118.8\" style=\"fill:none;fill-rule:evenodd;stroke:#000000;stroke-width:2.0px;stroke-linecap:butt;stroke-linejoin:miter;stroke-opacity:1\"/>\n",
       "<path class=\"bond-7 atom-7 atom-8\" d=\"M 480.7,118.8 L 498.8,130.8\" style=\"fill:none;fill-rule:evenodd;stroke:#FF0000;stroke-width:2.0px;stroke-linecap:butt;stroke-linejoin:miter;stroke-opacity:1\"/>\n",
       "<path class=\"bond-8 atom-7 atom-9\" d=\"M 462.3,111.3 L 463.6,90.4\" style=\"fill:none;fill-rule:evenodd;stroke:#000000;stroke-width:2.0px;stroke-linecap:butt;stroke-linejoin:miter;stroke-opacity:1\"/>\n",
       "<path class=\"bond-8 atom-7 atom-9\" d=\"M 463.6,90.4 L 464.9,69.5\" style=\"fill:none;fill-rule:evenodd;stroke:#FF0000;stroke-width:2.0px;stroke-linecap:butt;stroke-linejoin:miter;stroke-opacity:1\"/>\n",
       "<path d=\"M 194.8,96.4 L 197.1,95.2 L 199.3,96.6\" style=\"fill:none;stroke:#000000;stroke-width:2.0px;stroke-linecap:butt;stroke-linejoin:miter;stroke-opacity:1;\"/>\n",
       "<path d=\"M 237.6,122.0 L 239.8,123.4 L 242.1,122.3\" style=\"fill:none;stroke:#000000;stroke-width:2.0px;stroke-linecap:butt;stroke-linejoin:miter;stroke-opacity:1;\"/>\n",
       "<path d=\"M 283.2,101.7 L 285.5,100.6 L 287.7,102.0\" style=\"fill:none;stroke:#000000;stroke-width:2.0px;stroke-linecap:butt;stroke-linejoin:miter;stroke-opacity:1;\"/>\n",
       "<path d=\"M 326.0,127.4 L 328.2,128.8 L 330.5,127.6\" style=\"fill:none;stroke:#000000;stroke-width:2.0px;stroke-linecap:butt;stroke-linejoin:miter;stroke-opacity:1;\"/>\n",
       "<path d=\"M 371.6,107.1 L 373.9,105.9 L 376.1,107.4\" style=\"fill:none;stroke:#000000;stroke-width:2.0px;stroke-linecap:butt;stroke-linejoin:miter;stroke-opacity:1;\"/>\n",
       "<path d=\"M 414.4,132.7 L 416.6,134.1 L 418.9,133.0\" style=\"fill:none;stroke:#000000;stroke-width:2.0px;stroke-linecap:butt;stroke-linejoin:miter;stroke-opacity:1;\"/>\n",
       "<path d=\"M 460.0,112.4 L 462.3,111.3 L 462.4,110.3\" style=\"fill:none;stroke:#000000;stroke-width:2.0px;stroke-linecap:butt;stroke-linejoin:miter;stroke-opacity:1;\"/>\n",
       "<path class=\"atom-8\" d=\"M 498.3 139.5 Q 498.3 136.1, 500.0 134.1 Q 501.8 132.2, 505.0 132.2 Q 508.2 132.2, 509.9 134.1 Q 511.6 136.1, 511.6 139.5 Q 511.6 143.1, 509.9 145.1 Q 508.1 147.1, 505.0 147.1 Q 501.8 147.1, 500.0 145.1 Q 498.3 143.1, 498.3 139.5 M 505.0 145.4 Q 507.2 145.4, 508.4 143.9 Q 509.6 142.5, 509.6 139.5 Q 509.6 136.7, 508.4 135.3 Q 507.2 133.8, 505.0 133.8 Q 502.8 133.8, 501.6 135.3 Q 500.4 136.7, 500.4 139.5 Q 500.4 142.5, 501.6 143.9 Q 502.8 145.4, 505.0 145.4 \" fill=\"#FF0000\"/>\n",
       "<path class=\"atom-9\" d=\"M 458.8 60.3 Q 458.8 56.8, 460.5 54.9 Q 462.2 52.9, 465.4 52.9 Q 468.6 52.9, 470.3 54.9 Q 472.1 56.8, 472.1 60.3 Q 472.1 63.8, 470.3 65.8 Q 468.6 67.8, 465.4 67.8 Q 462.2 67.8, 460.5 65.8 Q 458.8 63.8, 458.8 60.3 M 465.4 66.2 Q 467.6 66.2, 468.8 64.7 Q 470.0 63.2, 470.0 60.3 Q 470.0 57.5, 468.8 56.0 Q 467.6 54.6, 465.4 54.6 Q 463.2 54.6, 462.0 56.0 Q 460.8 57.4, 460.8 60.3 Q 460.8 63.2, 462.0 64.7 Q 463.2 66.2, 465.4 66.2 \" fill=\"#FF0000\"/>\n",
       "<path class=\"atom-9\" d=\"M 474.3 53.1 L 476.3 53.1 L 476.3 59.3 L 483.7 59.3 L 483.7 53.1 L 485.6 53.1 L 485.6 67.6 L 483.7 67.6 L 483.7 60.9 L 476.3 60.9 L 476.3 67.6 L 474.3 67.6 L 474.3 53.1 \" fill=\"#FF0000\"/>\n",
       "<path class=\"bond-9 atom-10 atom-11\" d=\"M 628.2,112.8 L 672.4,87.2\" style=\"fill:none;fill-rule:evenodd;stroke:#000000;stroke-width:2.0px;stroke-linecap:butt;stroke-linejoin:miter;stroke-opacity:1\"/>\n",
       "<path class=\"bond-10 atom-11 atom-12\" d=\"M 672.4,87.2 L 716.7,112.8\" style=\"fill:none;fill-rule:evenodd;stroke:#000000;stroke-width:2.0px;stroke-linecap:butt;stroke-linejoin:miter;stroke-opacity:1\"/>\n",
       "<path class=\"bond-11 atom-12 atom-13\" d=\"M 716.7,112.8 L 761.0,87.2\" style=\"fill:none;fill-rule:evenodd;stroke:#000000;stroke-width:2.0px;stroke-linecap:butt;stroke-linejoin:miter;stroke-opacity:1\"/>\n",
       "<path class=\"bond-12 atom-13 atom-14\" d=\"M 761.0,87.2 L 805.3,112.8\" style=\"fill:none;fill-rule:evenodd;stroke:#000000;stroke-width:2.0px;stroke-linecap:butt;stroke-linejoin:miter;stroke-opacity:1\"/>\n",
       "<path class=\"bond-13 atom-14 atom-15\" d=\"M 805.3,112.8 L 849.6,87.2\" style=\"fill:none;fill-rule:evenodd;stroke:#000000;stroke-width:2.0px;stroke-linecap:butt;stroke-linejoin:miter;stroke-opacity:1\"/>\n",
       "<path class=\"bond-14 atom-15 atom-16\" d=\"M 849.6,87.2 L 893.8,112.8\" style=\"fill:none;fill-rule:evenodd;stroke:#000000;stroke-width:2.0px;stroke-linecap:butt;stroke-linejoin:miter;stroke-opacity:1\"/>\n",
       "<path d=\"M 913.5,90.0 L 913.5,110.0\" style=\"fill:none;fill-rule:evenodd;stroke:#000000;stroke-width:2.0px;stroke-linecap:butt;stroke-linejoin:miter;stroke-opacity:1\"/>\n",
       "<path d=\"M 903.5,100.0 L 923.5,100.0\" style=\"fill:none;fill-rule:evenodd;stroke:#000000;stroke-width:2.0px;stroke-linecap:butt;stroke-linejoin:miter;stroke-opacity:1\"/>\n",
       "<path class=\"bond-15 atom-17 atom-18\" d=\"M 1033.8,103.7 L 1016.0,103.7\" style=\"fill:none;fill-rule:evenodd;stroke:#FF0000;stroke-width:2.0px;stroke-linecap:butt;stroke-linejoin:miter;stroke-opacity:1\"/>\n",
       "<path class=\"bond-15 atom-17 atom-18\" d=\"M 1016.0,103.7 L 998.3,103.7\" style=\"fill:none;fill-rule:evenodd;stroke:#000000;stroke-width:2.0px;stroke-linecap:butt;stroke-linejoin:miter;stroke-opacity:1\"/>\n",
       "<path class=\"bond-15 atom-17 atom-18\" d=\"M 1033.8,96.1 L 1016.0,96.1\" style=\"fill:none;fill-rule:evenodd;stroke:#FF0000;stroke-width:2.0px;stroke-linecap:butt;stroke-linejoin:miter;stroke-opacity:1\"/>\n",
       "<path class=\"bond-15 atom-17 atom-18\" d=\"M 1016.0,96.1 L 998.3,96.1\" style=\"fill:none;fill-rule:evenodd;stroke:#000000;stroke-width:2.0px;stroke-linecap:butt;stroke-linejoin:miter;stroke-opacity:1\"/>\n",
       "<path class=\"bond-16 atom-18 atom-19\" d=\"M 983.7,103.7 L 966.0,103.7\" style=\"fill:none;fill-rule:evenodd;stroke:#000000;stroke-width:2.0px;stroke-linecap:butt;stroke-linejoin:miter;stroke-opacity:1\"/>\n",
       "<path class=\"bond-16 atom-18 atom-19\" d=\"M 966.0,103.7 L 948.2,103.7\" style=\"fill:none;fill-rule:evenodd;stroke:#FF0000;stroke-width:2.0px;stroke-linecap:butt;stroke-linejoin:miter;stroke-opacity:1\"/>\n",
       "<path class=\"bond-16 atom-18 atom-19\" d=\"M 983.7,96.1 L 966.0,96.1\" style=\"fill:none;fill-rule:evenodd;stroke:#000000;stroke-width:2.0px;stroke-linecap:butt;stroke-linejoin:miter;stroke-opacity:1\"/>\n",
       "<path class=\"bond-16 atom-18 atom-19\" d=\"M 966.0,96.1 L 948.2,96.1\" style=\"fill:none;fill-rule:evenodd;stroke:#FF0000;stroke-width:2.0px;stroke-linecap:butt;stroke-linejoin:miter;stroke-opacity:1\"/>\n",
       "<path class=\"atom-0\" d=\"M 1035.5 99.9 Q 1035.5 96.5, 1037.2 94.5 Q 1038.9 92.6, 1042.1 92.6 Q 1045.3 92.6, 1047.1 94.5 Q 1048.8 96.5, 1048.8 99.9 Q 1048.8 103.4, 1047.0 105.5 Q 1045.3 107.4, 1042.1 107.4 Q 1038.9 107.4, 1037.2 105.5 Q 1035.5 103.5, 1035.5 99.9 M 1042.1 105.8 Q 1044.3 105.8, 1045.5 104.3 Q 1046.7 102.8, 1046.7 99.9 Q 1046.7 97.1, 1045.5 95.7 Q 1044.3 94.2, 1042.1 94.2 Q 1039.9 94.2, 1038.7 95.6 Q 1037.5 97.1, 1037.5 99.9 Q 1037.5 102.9, 1038.7 104.3 Q 1039.9 105.8, 1042.1 105.8 \" fill=\"#FF0000\"/>\n",
       "<path class=\"atom-1\" d=\"M 985.4 99.9 Q 985.4 96.3, 987.1 94.5 Q 988.8 92.6, 992.0 92.6 Q 995.0 92.6, 996.6 94.7 L 995.2 95.8 Q 994.1 94.2, 992.0 94.2 Q 989.8 94.2, 988.6 95.7 Q 987.5 97.2, 987.5 99.9 Q 987.5 102.8, 988.7 104.3 Q 989.9 105.8, 992.2 105.8 Q 993.8 105.8, 995.7 104.8 L 996.3 106.3 Q 995.5 106.8, 994.4 107.1 Q 993.2 107.4, 991.9 107.4 Q 988.8 107.4, 987.1 105.5 Q 985.4 103.5, 985.4 99.9 \" fill=\"#000000\"/>\n",
       "<path class=\"atom-2\" d=\"M 933.2 99.9 Q 933.2 96.5, 934.9 94.5 Q 936.7 92.6, 939.9 92.6 Q 943.1 92.6, 944.8 94.5 Q 946.5 96.5, 946.5 99.9 Q 946.5 103.4, 944.8 105.5 Q 943.0 107.4, 939.9 107.4 Q 936.7 107.4, 934.9 105.5 Q 933.2 103.5, 933.2 99.9 M 939.9 105.8 Q 942.1 105.8, 943.3 104.3 Q 944.5 102.8, 944.5 99.9 Q 944.5 97.1, 943.3 95.7 Q 942.1 94.2, 939.9 94.2 Q 937.7 94.2, 936.5 95.6 Q 935.3 97.1, 935.3 99.9 Q 935.3 102.9, 936.5 104.3 Q 937.7 105.8, 939.9 105.8 \" fill=\"#FF0000\"/>\n",
       "<path d=\"M 531.0,100.0 L 609.0,100.0\" style=\"fill:none;fill-rule:evenodd;stroke:#000000;stroke-width:2.0px;stroke-linecap:butt;stroke-linejoin:miter;stroke-opacity:1\"/>\n",
       "<path d=\"M 609.0,100.0 L 604.0,102.9\" style=\"fill:none;fill-rule:evenodd;stroke:#000000;stroke-width:2.0px;stroke-linecap:butt;stroke-linejoin:miter;stroke-opacity:1\"/>\n",
       "<path d=\"M 609.0,100.0 L 604.0,97.1\" style=\"fill:none;fill-rule:evenodd;stroke:#000000;stroke-width:2.0px;stroke-linecap:butt;stroke-linejoin:miter;stroke-opacity:1\"/>\n",
       "</svg>"
      ],
      "text/plain": [
       "<IPython.core.display.SVG object>"
      ]
     },
     "execution_count": 8,
     "metadata": {},
     "output_type": "execute_result"
    }
   ],
   "source": [
    "print([e['uniprot_id'] for e in krs['17305']['enzymes']])\n",
    "SVG(draw_reaction(krs['17305']['smarts']))"
   ]
  },
  {
   "cell_type": "code",
   "execution_count": 9,
   "metadata": {},
   "outputs": [
    {
     "name": "stdout",
     "output_type": "stream",
     "text": [
      "['Q05115']\n"
     ]
    },
    {
     "data": {
      "image/svg+xml": [
       "<svg xmlns=\"http://www.w3.org/2000/svg\" xmlns:rdkit=\"http://www.rdkit.org/xml\" xmlns:xlink=\"http://www.w3.org/1999/xlink\" version=\"1.1\" baseProfile=\"full\" xml:space=\"preserve\" width=\"1200px\" height=\"200px\" viewBox=\"0 0 1200 200\">\n",
       "<!-- END OF HEADER -->\n",
       "<rect style=\"opacity:1.0;fill:#FFFFFF;stroke:none\" width=\"1200.0\" height=\"200.0\" x=\"0.0\" y=\"0.0\"> </rect>\n",
       "<path class=\"bond-0 atom-0 atom-1\" d=\"M 283.1,23.7 L 283.1,64.6\" style=\"fill:none;fill-rule:evenodd;stroke:#191919;stroke-width:2.0px;stroke-linecap:butt;stroke-linejoin:miter;stroke-opacity:1\"/>\n",
       "<path class=\"bond-0 atom-0 atom-1\" d=\"M 283.1,64.6 L 283.1,105.4\" style=\"fill:none;fill-rule:evenodd;stroke:#000000;stroke-width:2.0px;stroke-linecap:butt;stroke-linejoin:miter;stroke-opacity:1\"/>\n",
       "<path class=\"bond-1 atom-1 atom-2\" d=\"M 283.1,105.4 L 283.1,188.7\" style=\"fill:none;fill-rule:evenodd;stroke:#000000;stroke-width:2.0px;stroke-linecap:butt;stroke-linejoin:miter;stroke-opacity:1\"/>\n",
       "<path class=\"bond-2 atom-1 atom-3\" d=\"M 283.1,105.4 L 199.8,105.4\" style=\"fill:none;fill-rule:evenodd;stroke:#000000;stroke-width:2.0px;stroke-linecap:butt;stroke-linejoin:miter;stroke-opacity:1\"/>\n",
       "<path class=\"bond-3 atom-3 atom-4\" d=\"M 196.2,99.2 L 178.7,129.5\" style=\"fill:none;fill-rule:evenodd;stroke:#000000;stroke-width:2.0px;stroke-linecap:butt;stroke-linejoin:miter;stroke-opacity:1\"/>\n",
       "<path class=\"bond-3 atom-3 atom-4\" d=\"M 178.7,129.5 L 161.2,159.8\" style=\"fill:none;fill-rule:evenodd;stroke:#FF0000;stroke-width:2.0px;stroke-linecap:butt;stroke-linejoin:miter;stroke-opacity:1\"/>\n",
       "<path class=\"bond-3 atom-3 atom-4\" d=\"M 207.0,105.4 L 189.5,135.7\" style=\"fill:none;fill-rule:evenodd;stroke:#000000;stroke-width:2.0px;stroke-linecap:butt;stroke-linejoin:miter;stroke-opacity:1\"/>\n",
       "<path class=\"bond-3 atom-3 atom-4\" d=\"M 189.5,135.7 L 172.0,166.0\" style=\"fill:none;fill-rule:evenodd;stroke:#FF0000;stroke-width:2.0px;stroke-linecap:butt;stroke-linejoin:miter;stroke-opacity:1\"/>\n",
       "<path class=\"bond-4 atom-3 atom-5\" d=\"M 199.8,105.4 L 183.3,76.9\" style=\"fill:none;fill-rule:evenodd;stroke:#000000;stroke-width:2.0px;stroke-linecap:butt;stroke-linejoin:miter;stroke-opacity:1\"/>\n",
       "<path class=\"bond-4 atom-3 atom-5\" d=\"M 183.3,76.9 L 166.8,48.3\" style=\"fill:none;fill-rule:evenodd;stroke:#FF0000;stroke-width:2.0px;stroke-linecap:butt;stroke-linejoin:miter;stroke-opacity:1\"/>\n",
       "<path class=\"bond-5 atom-1 atom-6\" d=\"M 283.1,105.4 L 366.4,105.4\" style=\"fill:none;fill-rule:evenodd;stroke:#000000;stroke-width:2.0px;stroke-linecap:butt;stroke-linejoin:miter;stroke-opacity:1\"/>\n",
       "<path class=\"bond-6 atom-6 atom-7\" d=\"M 359.2,105.4 L 376.7,135.7\" style=\"fill:none;fill-rule:evenodd;stroke:#000000;stroke-width:2.0px;stroke-linecap:butt;stroke-linejoin:miter;stroke-opacity:1\"/>\n",
       "<path class=\"bond-6 atom-6 atom-7\" d=\"M 376.7,135.7 L 394.2,166.0\" style=\"fill:none;fill-rule:evenodd;stroke:#FF0000;stroke-width:2.0px;stroke-linecap:butt;stroke-linejoin:miter;stroke-opacity:1\"/>\n",
       "<path class=\"bond-6 atom-6 atom-7\" d=\"M 370.0,99.2 L 387.5,129.5\" style=\"fill:none;fill-rule:evenodd;stroke:#000000;stroke-width:2.0px;stroke-linecap:butt;stroke-linejoin:miter;stroke-opacity:1\"/>\n",
       "<path class=\"bond-6 atom-6 atom-7\" d=\"M 387.5,129.5 L 405.0,159.8\" style=\"fill:none;fill-rule:evenodd;stroke:#FF0000;stroke-width:2.0px;stroke-linecap:butt;stroke-linejoin:miter;stroke-opacity:1\"/>\n",
       "<path class=\"bond-7 atom-6 atom-8\" d=\"M 366.4,105.4 L 382.9,76.9\" style=\"fill:none;fill-rule:evenodd;stroke:#000000;stroke-width:2.0px;stroke-linecap:butt;stroke-linejoin:miter;stroke-opacity:1\"/>\n",
       "<path class=\"bond-7 atom-6 atom-8\" d=\"M 382.9,76.9 L 399.4,48.3\" style=\"fill:none;fill-rule:evenodd;stroke:#FF0000;stroke-width:2.0px;stroke-linecap:butt;stroke-linejoin:miter;stroke-opacity:1\"/>\n",
       "<path d=\"M 203.9,105.4 L 199.8,105.4 L 199.0,104.0\" style=\"fill:none;stroke:#000000;stroke-width:2.0px;stroke-linecap:butt;stroke-linejoin:miter;stroke-opacity:1;\"/>\n",
       "<path d=\"M 362.2,105.4 L 366.4,105.4 L 367.2,104.0\" style=\"fill:none;stroke:#000000;stroke-width:2.0px;stroke-linecap:butt;stroke-linejoin:miter;stroke-opacity:1;\"/>\n",
       "<path class=\"atom-0\" d=\"M 278.6 19.5 L 282.1 16.0 L 277.5 15.0 L 278.2 12.7 L 282.4 14.8 L 281.8 10.2 L 284.3 10.1 L 283.6 14.8 L 287.9 12.8 L 288.7 15.0 L 284.0 15.9 L 287.3 19.5 L 285.3 20.9 L 283.0 16.5 L 280.7 20.9 L 278.6 19.5 \" fill=\"#191919\"/>\n",
       "<path class=\"atom-4\" d=\"M 147.3 177.6 Q 147.3 172.0, 150.1 168.8 Q 152.9 165.6, 158.1 165.6 Q 163.4 165.6, 166.2 168.8 Q 169.0 172.0, 169.0 177.6 Q 169.0 183.4, 166.1 186.6 Q 163.3 189.9, 158.1 189.9 Q 152.9 189.9, 150.1 186.6 Q 147.3 183.4, 147.3 177.6 M 158.1 187.2 Q 161.7 187.2, 163.7 184.8 Q 165.6 182.4, 165.6 177.6 Q 165.6 173.0, 163.7 170.7 Q 161.7 168.3, 158.1 168.3 Q 154.5 168.3, 152.6 170.6 Q 150.6 173.0, 150.6 177.6 Q 150.6 182.4, 152.6 184.8 Q 154.5 187.2, 158.1 187.2 \" fill=\"#FF0000\"/>\n",
       "<path class=\"atom-5\" d=\"M 124.0 21.6 L 127.2 21.6 L 127.2 31.7 L 139.3 31.7 L 139.3 21.6 L 142.5 21.6 L 142.5 45.2 L 139.3 45.2 L 139.3 34.3 L 127.2 34.3 L 127.2 45.2 L 124.0 45.2 L 124.0 21.6 \" fill=\"#FF0000\"/>\n",
       "<path class=\"atom-5\" d=\"M 147.3 33.4 Q 147.3 27.7, 150.1 24.5 Q 152.9 21.4, 158.1 21.4 Q 163.4 21.4, 166.2 24.5 Q 169.0 27.7, 169.0 33.4 Q 169.0 39.1, 166.1 42.4 Q 163.3 45.6, 158.1 45.6 Q 152.9 45.6, 150.1 42.4 Q 147.3 39.1, 147.3 33.4 M 158.1 42.9 Q 161.7 42.9, 163.7 40.5 Q 165.6 38.1, 165.6 33.4 Q 165.6 28.7, 163.7 26.4 Q 161.7 24.0, 158.1 24.0 Q 154.5 24.0, 152.6 26.4 Q 150.6 28.7, 150.6 33.4 Q 150.6 38.1, 152.6 40.5 Q 154.5 42.9, 158.1 42.9 \" fill=\"#FF0000\"/>\n",
       "<path class=\"atom-7\" d=\"M 397.2 177.6 Q 397.2 172.0, 400.0 168.8 Q 402.8 165.6, 408.0 165.6 Q 413.3 165.6, 416.1 168.8 Q 418.9 172.0, 418.9 177.6 Q 418.9 183.4, 416.0 186.6 Q 413.2 189.9, 408.0 189.9 Q 402.8 189.9, 400.0 186.6 Q 397.2 183.4, 397.2 177.6 M 408.0 187.2 Q 411.6 187.2, 413.6 184.8 Q 415.5 182.4, 415.5 177.6 Q 415.5 173.0, 413.6 170.7 Q 411.6 168.3, 408.0 168.3 Q 404.4 168.3, 402.5 170.6 Q 400.5 173.0, 400.5 177.6 Q 400.5 182.4, 402.5 184.8 Q 404.4 187.2, 408.0 187.2 \" fill=\"#FF0000\"/>\n",
       "<path class=\"atom-8\" d=\"M 397.2 33.4 Q 397.2 27.7, 400.0 24.5 Q 402.8 21.4, 408.0 21.4 Q 413.3 21.4, 416.1 24.5 Q 418.9 27.7, 418.9 33.4 Q 418.9 39.1, 416.0 42.4 Q 413.2 45.6, 408.0 45.6 Q 402.8 45.6, 400.0 42.4 Q 397.2 39.1, 397.2 33.4 M 408.0 42.9 Q 411.6 42.9, 413.6 40.5 Q 415.5 38.1, 415.5 33.4 Q 415.5 28.7, 413.6 26.4 Q 411.6 24.0, 408.0 24.0 Q 404.4 24.0, 402.5 26.4 Q 400.5 28.7, 400.5 33.4 Q 400.5 38.1, 402.5 40.5 Q 404.4 42.9, 408.0 42.9 \" fill=\"#FF0000\"/>\n",
       "<path class=\"atom-8\" d=\"M 422.5 21.6 L 425.7 21.6 L 425.7 31.7 L 437.8 31.7 L 437.8 21.6 L 441.0 21.6 L 441.0 45.2 L 437.8 45.2 L 437.8 34.3 L 425.7 34.3 L 425.7 45.2 L 422.5 45.2 L 422.5 21.6 \" fill=\"#FF0000\"/>\n",
       "<path class=\"bond-0 atom-0 atom-1\" d=\"M 627.9,29.3 L 648.3,64.6\" style=\"fill:none;fill-rule:evenodd;stroke:#191919;stroke-width:2.0px;stroke-linecap:butt;stroke-linejoin:miter;stroke-opacity:1\"/>\n",
       "<path class=\"bond-0 atom-0 atom-1\" d=\"M 648.3,64.6 L 668.7,99.9\" style=\"fill:none;fill-rule:evenodd;stroke:#000000;stroke-width:2.0px;stroke-linecap:butt;stroke-linejoin:miter;stroke-opacity:1\"/>\n",
       "<path class=\"bond-1 atom-1 atom-2\" d=\"M 668.7,99.9 L 627.0,172.0\" style=\"fill:none;fill-rule:evenodd;stroke:#000000;stroke-width:2.0px;stroke-linecap:butt;stroke-linejoin:miter;stroke-opacity:1\"/>\n",
       "<path class=\"bond-2 atom-1 atom-3\" d=\"M 668.7,99.9 L 752.0,99.9\" style=\"fill:none;fill-rule:evenodd;stroke:#000000;stroke-width:2.0px;stroke-linecap:butt;stroke-linejoin:miter;stroke-opacity:1\"/>\n",
       "<path class=\"bond-3 atom-3 atom-4\" d=\"M 744.7,99.9 L 762.2,130.1\" style=\"fill:none;fill-rule:evenodd;stroke:#000000;stroke-width:2.0px;stroke-linecap:butt;stroke-linejoin:miter;stroke-opacity:1\"/>\n",
       "<path class=\"bond-3 atom-3 atom-4\" d=\"M 762.2,130.1 L 779.7,160.4\" style=\"fill:none;fill-rule:evenodd;stroke:#FF0000;stroke-width:2.0px;stroke-linecap:butt;stroke-linejoin:miter;stroke-opacity:1\"/>\n",
       "<path class=\"bond-3 atom-3 atom-4\" d=\"M 755.6,93.6 L 773.1,123.9\" style=\"fill:none;fill-rule:evenodd;stroke:#000000;stroke-width:2.0px;stroke-linecap:butt;stroke-linejoin:miter;stroke-opacity:1\"/>\n",
       "<path class=\"bond-3 atom-3 atom-4\" d=\"M 773.1,123.9 L 790.5,154.2\" style=\"fill:none;fill-rule:evenodd;stroke:#FF0000;stroke-width:2.0px;stroke-linecap:butt;stroke-linejoin:miter;stroke-opacity:1\"/>\n",
       "<path class=\"bond-4 atom-3 atom-5\" d=\"M 752.0,99.9 L 768.4,71.3\" style=\"fill:none;fill-rule:evenodd;stroke:#000000;stroke-width:2.0px;stroke-linecap:butt;stroke-linejoin:miter;stroke-opacity:1\"/>\n",
       "<path class=\"bond-4 atom-3 atom-5\" d=\"M 768.4,71.3 L 784.9,42.8\" style=\"fill:none;fill-rule:evenodd;stroke:#FF0000;stroke-width:2.0px;stroke-linecap:butt;stroke-linejoin:miter;stroke-opacity:1\"/>\n",
       "<path d=\"M 747.8,99.9 L 752.0,99.9 L 752.8,98.4\" style=\"fill:none;stroke:#000000;stroke-width:2.0px;stroke-linecap:butt;stroke-linejoin:miter;stroke-opacity:1;\"/>\n",
       "<path class=\"atom-0\" d=\"M 622.6 25.1 L 626.0 21.5 L 621.4 20.6 L 622.1 18.2 L 626.4 20.4 L 625.8 15.7 L 628.3 15.7 L 627.6 20.3 L 631.9 18.3 L 632.6 20.6 L 627.9 21.5 L 631.3 25.0 L 629.2 26.5 L 626.9 22.1 L 624.6 26.5 L 622.6 25.1 \" fill=\"#191919\"/>\n",
       "<path class=\"atom-4\" d=\"M 782.8 172.1 Q 782.8 166.4, 785.6 163.2 Q 788.4 160.1, 793.6 160.1 Q 798.8 160.1, 801.6 163.2 Q 804.4 166.4, 804.4 172.1 Q 804.4 177.8, 801.6 181.1 Q 798.8 184.3, 793.6 184.3 Q 788.4 184.3, 785.6 181.1 Q 782.8 177.8, 782.8 172.1 M 793.6 181.6 Q 797.2 181.6, 799.1 179.2 Q 801.1 176.8, 801.1 172.1 Q 801.1 167.4, 799.1 165.1 Q 797.2 162.7, 793.6 162.7 Q 790.0 162.7, 788.0 165.1 Q 786.1 167.4, 786.1 172.1 Q 786.1 176.8, 788.0 179.2 Q 790.0 181.6, 793.6 181.6 \" fill=\"#FF0000\"/>\n",
       "<path class=\"atom-5\" d=\"M 782.8 27.8 Q 782.8 22.1, 785.6 18.9 Q 788.4 15.8, 793.6 15.8 Q 798.8 15.8, 801.6 18.9 Q 804.4 22.1, 804.4 27.8 Q 804.4 33.5, 801.6 36.8 Q 798.8 40.0, 793.6 40.0 Q 788.4 40.0, 785.6 36.8 Q 782.8 33.5, 782.8 27.8 M 793.6 37.3 Q 797.2 37.3, 799.1 34.9 Q 801.1 32.5, 801.1 27.8 Q 801.1 23.1, 799.1 20.8 Q 797.2 18.4, 793.6 18.4 Q 790.0 18.4, 788.0 20.8 Q 786.1 23.1, 786.1 27.8 Q 786.1 32.5, 788.0 34.9 Q 790.0 37.3, 793.6 37.3 \" fill=\"#FF0000\"/>\n",
       "<path class=\"atom-5\" d=\"M 808.1 16.0 L 811.3 16.0 L 811.3 26.1 L 823.4 26.1 L 823.4 16.0 L 826.6 16.0 L 826.6 39.6 L 823.4 39.6 L 823.4 28.7 L 811.3 28.7 L 811.3 39.6 L 808.1 39.6 L 808.1 16.0 \" fill=\"#FF0000\"/>\n",
       "<path d=\"M 857.0,90.0 L 857.0,110.0\" style=\"fill:none;fill-rule:evenodd;stroke:#000000;stroke-width:2.0px;stroke-linecap:butt;stroke-linejoin:miter;stroke-opacity:1\"/>\n",
       "<path d=\"M 847.0,100.0 L 867.0,100.0\" style=\"fill:none;fill-rule:evenodd;stroke:#000000;stroke-width:2.0px;stroke-linecap:butt;stroke-linejoin:miter;stroke-opacity:1\"/>\n",
       "<path class=\"bond-0 atom-0 atom-1\" d=\"M 1051.2,106.1 L 1022.3,106.1\" style=\"fill:none;fill-rule:evenodd;stroke:#FF0000;stroke-width:2.0px;stroke-linecap:butt;stroke-linejoin:miter;stroke-opacity:1\"/>\n",
       "<path class=\"bond-0 atom-0 atom-1\" d=\"M 1022.3,106.1 L 993.3,106.1\" style=\"fill:none;fill-rule:evenodd;stroke:#000000;stroke-width:2.0px;stroke-linecap:butt;stroke-linejoin:miter;stroke-opacity:1\"/>\n",
       "<path class=\"bond-0 atom-0 atom-1\" d=\"M 1051.2,93.6 L 1022.3,93.6\" style=\"fill:none;fill-rule:evenodd;stroke:#FF0000;stroke-width:2.0px;stroke-linecap:butt;stroke-linejoin:miter;stroke-opacity:1\"/>\n",
       "<path class=\"bond-0 atom-0 atom-1\" d=\"M 1022.3,93.6 L 993.3,93.6\" style=\"fill:none;fill-rule:evenodd;stroke:#000000;stroke-width:2.0px;stroke-linecap:butt;stroke-linejoin:miter;stroke-opacity:1\"/>\n",
       "<path class=\"bond-1 atom-1 atom-2\" d=\"M 969.7,106.1 L 940.7,106.1\" style=\"fill:none;fill-rule:evenodd;stroke:#000000;stroke-width:2.0px;stroke-linecap:butt;stroke-linejoin:miter;stroke-opacity:1\"/>\n",
       "<path class=\"bond-1 atom-1 atom-2\" d=\"M 940.7,106.1 L 911.8,106.1\" style=\"fill:none;fill-rule:evenodd;stroke:#FF0000;stroke-width:2.0px;stroke-linecap:butt;stroke-linejoin:miter;stroke-opacity:1\"/>\n",
       "<path class=\"bond-1 atom-1 atom-2\" d=\"M 969.7,93.6 L 940.7,93.6\" style=\"fill:none;fill-rule:evenodd;stroke:#000000;stroke-width:2.0px;stroke-linecap:butt;stroke-linejoin:miter;stroke-opacity:1\"/>\n",
       "<path class=\"bond-1 atom-1 atom-2\" d=\"M 940.7,93.6 L 911.8,93.6\" style=\"fill:none;fill-rule:evenodd;stroke:#FF0000;stroke-width:2.0px;stroke-linecap:butt;stroke-linejoin:miter;stroke-opacity:1\"/>\n",
       "<path class=\"atom-0\" d=\"M 1054.0 99.9 Q 1054.0 94.2, 1056.8 91.1 Q 1059.6 87.9, 1064.8 87.9 Q 1070.0 87.9, 1072.8 91.1 Q 1075.6 94.2, 1075.6 99.9 Q 1075.6 105.6, 1072.8 108.9 Q 1070.0 112.1, 1064.8 112.1 Q 1059.6 112.1, 1056.8 108.9 Q 1054.0 105.6, 1054.0 99.9 M 1064.8 109.4 Q 1068.4 109.4, 1070.3 107.0 Q 1072.3 104.6, 1072.3 99.9 Q 1072.3 95.3, 1070.3 92.9 Q 1068.4 90.6, 1064.8 90.6 Q 1061.2 90.6, 1059.2 92.9 Q 1057.3 95.2, 1057.3 99.9 Q 1057.3 104.6, 1059.2 107.0 Q 1061.2 109.4, 1064.8 109.4 \" fill=\"#FF0000\"/>\n",
       "<path class=\"atom-1\" d=\"M 972.4 99.9 Q 972.4 94.1, 975.1 91.0 Q 977.9 87.9, 983.1 87.9 Q 988.0 87.9, 990.6 91.3 L 988.4 93.1 Q 986.5 90.6, 983.1 90.6 Q 979.6 90.6, 977.7 93.0 Q 975.8 95.4, 975.8 99.9 Q 975.8 104.6, 977.7 107.0 Q 979.7 109.4, 983.5 109.4 Q 986.1 109.4, 989.1 107.8 L 990.1 110.3 Q 988.8 111.1, 987.0 111.6 Q 985.1 112.0, 983.0 112.0 Q 977.9 112.0, 975.1 108.9 Q 972.4 105.8, 972.4 99.9 \" fill=\"#000000\"/>\n",
       "<path class=\"atom-2\" d=\"M 887.4 99.9 Q 887.4 94.2, 890.2 91.1 Q 893.0 87.9, 898.2 87.9 Q 903.4 87.9, 906.2 91.1 Q 909.0 94.2, 909.0 99.9 Q 909.0 105.6, 906.2 108.9 Q 903.4 112.1, 898.2 112.1 Q 893.0 112.1, 890.2 108.9 Q 887.4 105.6, 887.4 99.9 M 898.2 109.4 Q 901.8 109.4, 903.7 107.0 Q 905.7 104.6, 905.7 99.9 Q 905.7 95.3, 903.7 92.9 Q 901.8 90.6, 898.2 90.6 Q 894.6 90.6, 892.6 92.9 Q 890.7 95.2, 890.7 99.9 Q 890.7 104.6, 892.6 107.0 Q 894.6 109.4, 898.2 109.4 \" fill=\"#FF0000\"/>\n",
       "<path d=\"M 471.0,100.0 L 591.0,100.0\" style=\"fill:none;fill-rule:evenodd;stroke:#000000;stroke-width:2.0px;stroke-linecap:butt;stroke-linejoin:miter;stroke-opacity:1\"/>\n",
       "<path d=\"M 591.0,100.0 L 585.0,103.5\" style=\"fill:none;fill-rule:evenodd;stroke:#000000;stroke-width:2.0px;stroke-linecap:butt;stroke-linejoin:miter;stroke-opacity:1\"/>\n",
       "<path d=\"M 591.0,100.0 L 585.0,96.5\" style=\"fill:none;fill-rule:evenodd;stroke:#000000;stroke-width:2.0px;stroke-linecap:butt;stroke-linejoin:miter;stroke-opacity:1\"/>\n",
       "</svg>"
      ],
      "text/plain": [
       "<IPython.core.display.SVG object>"
      ]
     },
     "execution_count": 9,
     "metadata": {},
     "output_type": "execute_result"
    }
   ],
   "source": [
    "print([e['uniprot_id'] for e in krs['15876']['enzymes']])\n",
    "SVG(draw_reaction(krs['15876']['smarts']))"
   ]
  }
 ],
 "metadata": {
  "kernelspec": {
   "display_name": "cgr-ltW6jZuu-py3.12",
   "language": "python",
   "name": "python3"
  },
  "language_info": {
   "codemirror_mode": {
    "name": "ipython",
    "version": 3
   },
   "file_extension": ".py",
   "mimetype": "text/x-python",
   "name": "python",
   "nbconvert_exporter": "python",
   "pygments_lexer": "ipython3",
   "version": "3.12.7"
  }
 },
 "nbformat": 4,
 "nbformat_minor": 2
}
