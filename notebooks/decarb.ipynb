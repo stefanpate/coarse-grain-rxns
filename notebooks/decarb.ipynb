{
 "cells": [
  {
   "cell_type": "code",
   "execution_count": 53,
   "metadata": {},
   "outputs": [],
   "source": [
    "import rdkit\n",
    "from rdkit import Chem\n",
    "from rdkit.Chem import Draw\n",
    "from rdkit.Chem.Draw import IPythonConsole, MolsToGridImage\n",
    "from IPython.display import SVG\n",
    "import ipywidgets as widgets\n",
    "from ipywidgets import interact\n",
    "from pathlib import Path\n",
    "import json\n",
    "from cgr.filepaths import filepaths\n",
    "from itertools import chain"
   ]
  },
  {
   "cell_type": "code",
   "execution_count": null,
   "metadata": {},
   "outputs": [],
   "source": [
    "def draw_reaction(rxn: str, sub_img_size: tuple = (300, 200), use_smiles: bool = True):    \n",
    "    rxn = Chem.rdChemReactions.ReactionFromSmarts(rxn, useSmiles=use_smiles)\n",
    "    return Draw.ReactionToImage(rxn, useSVG=True, subImgSize=sub_img_size)\n",
    "\n",
    "def draw_molecule(smiles: str, size: tuple = (200, 200), hilite_atoms : tuple = tuple()) -> str:\n",
    "    '''\n",
    "    Draw molecule to svg string\n",
    "\n",
    "    Args\n",
    "    ----\n",
    "    mol:str\n",
    "        Molecule SMILES\n",
    "    stoich:int\n",
    "        Stoichiometric coefficient\n",
    "    size:tuple\n",
    "        (width, height)\n",
    "    hilite_atoms:tuple\n",
    "        Atom indices to highlight\n",
    "    auto_scl:bool\n",
    "        If True, scales molecule image width proportional\n",
    "        to log(# of atoms)\n",
    "    '''\n",
    "    mol = Chem.MolFromSmiles(smiles)\n",
    "    \n",
    "    # Catch failed MolFromSmiles\n",
    "    if mol is None: \n",
    "        mol = Chem.MolFromSmiles(smiles, sanitize=False)\n",
    "\n",
    "    drawer = Draw.MolDraw2DSVG(*size)\n",
    "    drawer.DrawMolecule(mol, highlightAtoms=hilite_atoms)\n",
    "    \n",
    "    drawer.FinishDrawing()\n",
    "    img = drawer.GetDrawingText()\n",
    "\n",
    "    return img\n",
    "\n",
    "def show_highlighted_grid(smiles: str, rcs: list[list], legends: list[str], n_cols: int, sub_img_size: tuple = (200, 200)):\n",
    "    mgrid = MolsToGridImage(\n",
    "        mols=[Chem.MolFromSmiles(smi) for smi in smiles],\n",
    "        highlightAtomLists=rcs,\n",
    "        molsPerRow=n_cols,\n",
    "        legends=legends,\n",
    "        subImgSize=sub_img_size\n",
    "    )\n",
    "    display(mgrid)"
   ]
  },
  {
   "cell_type": "code",
   "execution_count": 10,
   "metadata": {},
   "outputs": [],
   "source": [
    "krs = Path(filepaths.data) / \"raw\" / \"sprhea_240310_v3_mapped_no_subunits.json\"\n",
    "with open(krs, 'r') as f:\n",
    "    krs = json.load(f)"
   ]
  },
  {
   "cell_type": "code",
   "execution_count": 11,
   "metadata": {},
   "outputs": [],
   "source": [
    "decarb = {k: v for k,v  in krs.items() if v['min_rule'] == 'rule0024'}"
   ]
  },
  {
   "cell_type": "code",
   "execution_count": 49,
   "metadata": {},
   "outputs": [
    {
     "data": {
      "application/vnd.jupyter.widget-view+json": {
       "model_id": "8686352f72fb4a23a77f120a193c678e",
       "version_major": 2,
       "version_minor": 0
      },
      "text/plain": [
       "interactive(children=(Dropdown(description='key', options=('14', '55', '121', '734', '1067', '1162', '1565', '…"
      ]
     },
     "metadata": {},
     "output_type": "display_data"
    }
   ],
   "source": [
    "kopts = list(decarb.keys())\n",
    "\n",
    "@interact\n",
    "def show_decarbs(key = widgets.Dropdown(value=kopts[0], options=kopts)):    \n",
    "    rxn = decarb[key]\n",
    "    print(rxn['imt_rules'])\n",
    "    print(rxn['rhea_ids'])\n",
    "    smiles = rxn['smarts'].split('>>')[0]\n",
    "    rc = rxn['reaction_center'][0]\n",
    "    display(SVG(draw_molecule(smiles, hilite_atoms=rc, size=(500, 300))))"
   ]
  },
  {
   "cell_type": "code",
   "execution_count": null,
   "metadata": {},
   "outputs": [],
   "source": [
    "# stuff = [\n",
    "#     (k, rxn['smarts'].split('>>')[0], rxn['reaction_center'][0])\n",
    "#      for k, rxn in list(decarb.items())\n",
    "# ]\n",
    "\n",
    "# legends, smiles, rcs = zip(*stuff)\n",
    "# n_cols = 4\n",
    "# sub_img_size = (500, 300)\n",
    "# show_highlighted_grid(smiles, rcs, legends, n_cols, sub_img_size)\n"
   ]
  },
  {
   "cell_type": "code",
   "execution_count": null,
   "metadata": {},
   "outputs": [
    {
     "data": {
      "application/vnd.jupyter.widget-view+json": {
       "model_id": "9f4ffb28bccd4296be6c52f153a5ef34",
       "version_major": 2,
       "version_minor": 0
      },
      "text/plain": [
       "interactive(children=(Dropdown(description='imt', options=('rule0024_22', 'rule0024_44', 'rule0024_36', 'rule0…"
      ]
     },
     "metadata": {},
     "output_type": "display_data"
    }
   ],
   "source": [
    "imt_rules = list(set(chain(*[rxn['imt_rules'] for rxn in decarb.values()])))\n",
    "\n",
    "@interact\n",
    "def show_imt_groups(imt = widgets.Dropdown(value=imt_rules[0], options=imt_rules)):\n",
    "    rxns = {k: v for k, v in decarb.items() if v['imt_rules'][0] == imt}\n",
    "    print(f\"Number reactions: {len(rxns)}\")\n",
    "    stuff = [\n",
    "        (k, rxn['smarts'].split('>>')[0], rxn['reaction_center'][0])\n",
    "        for k, rxn in list(rxns.items())\n",
    "    ]\n",
    "\n",
    "    legends, smiles, rcs = zip(*stuff)\n",
    "    n_cols = 3\n",
    "    sub_img_size = (700, 300)\n",
    "    show_highlighted_grid(smiles, rcs, legends, n_cols, sub_img_size)\n"
   ]
  },
  {
   "cell_type": "code",
   "execution_count": null,
   "metadata": {},
   "outputs": [],
   "source": [
    "# '''\n",
    "# mol to nx\n",
    "# get k hop ego graph for all rc atoms\n",
    "# take union of ego graphs\n",
    "# convert back to mol / smiles\n",
    "\n",
    "\n",
    "# Worth converting to networkx at all?,\n",
    "\n",
    "# What does equal mean? Isomorphic?\n",
    "# How much flexibility to I want in determining equal?\n",
    "\n",
    "# '''\n",
    "\n",
    "# def mol_to_nx(mol):\n",
    "#     G = nx.Graph()\n",
    "\n",
    "#     for atom in mol.GetAtoms():\n",
    "#         G.add_node(atom.GetIdx(),\n",
    "#                    atomic_num=atom.GetAtomicNum(),\n",
    "#                    is_aromatic=atom.GetIsAromatic(),\n",
    "#                    atom_symbol=atom.GetSymbol())\n",
    "        \n",
    "#     for bond in mol.GetBonds():\n",
    "#         G.add_edge(bond.GetBeginAtomIdx(),\n",
    "#                    bond.GetEndAtomIdx(),\n",
    "#                    bond_type=bond.GetBondType())\n",
    "        \n",
    "#     return G"
   ]
  }
 ],
 "metadata": {
  "kernelspec": {
   "display_name": "cgr-ltW6jZuu-py3.12",
   "language": "python",
   "name": "python3"
  },
  "language_info": {
   "codemirror_mode": {
    "name": "ipython",
    "version": 3
   },
   "file_extension": ".py",
   "mimetype": "text/x-python",
   "name": "python",
   "nbconvert_exporter": "python",
   "pygments_lexer": "ipython3",
   "version": "3.12.7"
  }
 },
 "nbformat": 4,
 "nbformat_minor": 2
}
