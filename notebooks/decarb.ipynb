{
 "cells": [
  {
   "cell_type": "code",
   "execution_count": 1,
   "metadata": {},
   "outputs": [],
   "source": [
    "import rdkit\n",
    "from rdkit import Chem\n",
    "from rdkit.Chem import Draw\n",
    "from IPython.display import SVG\n",
    "import ipywidgets as widgets\n",
    "from ipywidgets import interact\n",
    "from pathlib import Path\n",
    "import json"
   ]
  },
  {
   "cell_type": "code",
   "execution_count": 2,
   "metadata": {},
   "outputs": [],
   "source": [
    "def draw_reaction(rxn: str, sub_img_size: tuple = (300, 200), use_smiles: bool = True):    \n",
    "    rxn = Chem.rdChemReactions.ReactionFromSmarts(rxn, useSmiles=use_smiles)\n",
    "    return Draw.ReactionToImage(rxn, useSVG=True, subImgSize=sub_img_size)"
   ]
  },
  {
   "cell_type": "code",
   "execution_count": 3,
   "metadata": {},
   "outputs": [],
   "source": [
    "krs = Path('/home/stef/quest_data/bottle/data') / 'sprhea' / 'sprhea_240310_v3_mapped_no_subunits.json'\n",
    "with open(krs, 'r') as f:\n",
    "    krs = json.load(f)"
   ]
  },
  {
   "cell_type": "code",
   "execution_count": 4,
   "metadata": {},
   "outputs": [],
   "source": [
    "decarb = {k: v for k,v  in krs.items() if v['min_rule'] == 'rule0024'}"
   ]
  },
  {
   "cell_type": "code",
   "execution_count": null,
   "metadata": {},
   "outputs": [
    {
     "data": {
      "application/vnd.jupyter.widget-view+json": {
       "model_id": "8bff42d7fbbc4c68a76d8d9abb38a0d3",
       "version_major": 2,
       "version_minor": 0
      },
      "text/plain": [
       "interactive(children=(Dropdown(description='key', options=('14', '55', '121', '734', '1067', '1162', '1565', '…"
      ]
     },
     "metadata": {},
     "output_type": "display_data"
    }
   ],
   "source": [
    "kopts = list(decarb.keys())\n",
    "\n",
    "@interact\n",
    "def show_decarbs(key = widgets.Dropdown(value=kopts[0], options=kopts)):    \n",
    "    rxn = decarb[key]\n",
    "    print(rxn['imt_rules'])\n",
    "    print(rxn['rhea_ids'])\n",
    "    display(SVG(draw_reaction(rxn['smarts'])))"
   ]
  },
  {
   "cell_type": "code",
   "execution_count": null,
   "metadata": {},
   "outputs": [],
   "source": [
    "'''\n",
    "mol to nx\n",
    "get k hop ego graph for all rc atoms\n",
    "take union of ego graphs\n",
    "convert back to mol / smiles\n",
    "\n",
    "\n",
    "Worth converting to networkx at all?\n",
    "What does equal mean? Isomorphic?\n",
    "How much flexibility to I want in determining equal?\n",
    "\n",
    "'''\n",
    "\n",
    "def mol_to_nx(mol):\n",
    "    G = nx.Graph()\n",
    "\n",
    "    for atom in mol.GetAtoms():\n",
    "        G.add_node(atom.GetIdx(),\n",
    "                   atomic_num=atom.GetAtomicNum(),\n",
    "                   is_aromatic=atom.GetIsAromatic(),\n",
    "                   atom_symbol=atom.GetSymbol())\n",
    "        \n",
    "    for bond in mol.GetBonds():\n",
    "        G.add_edge(bond.GetBeginAtomIdx(),\n",
    "                   bond.GetEndAtomIdx(),\n",
    "                   bond_type=bond.GetBondType())\n",
    "        \n",
    "    return G"
   ]
  }
 ],
 "metadata": {
  "kernelspec": {
   "display_name": "rxn-clstr-bcraEms2-py3.12",
   "language": "python",
   "name": "python3"
  },
  "language_info": {
   "codemirror_mode": {
    "name": "ipython",
    "version": 3
   },
   "file_extension": ".py",
   "mimetype": "text/x-python",
   "name": "python",
   "nbconvert_exporter": "python",
   "pygments_lexer": "ipython3",
   "version": "3.12.7"
  }
 },
 "nbformat": 4,
 "nbformat_minor": 2
}
