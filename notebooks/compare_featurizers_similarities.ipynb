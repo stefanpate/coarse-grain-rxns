{
 "cells": [
  {
   "cell_type": "code",
   "execution_count": 1,
   "metadata": {},
   "outputs": [],
   "source": [
    "from rdkit import Chem\n",
    "from cgr.draw import draw_molecule\n",
    "from cgr.cheminfo import calc_molecule_rcmcs\n",
    "from IPython.display import SVG\n",
    "from cgr.filepaths import filepaths\n",
    "import json\n",
    "import numpy as np\n",
    "from cgr.cheminfo import MorganFingerprinter\n",
    "import ipywidgets as widgets\n",
    "from ipywidgets import interact"
   ]
  },
  {
   "cell_type": "code",
   "execution_count": 2,
   "metadata": {},
   "outputs": [],
   "source": [
    "krs = filepaths.data / \"raw\" / \"sprhea_240310_v3_mapped_no_subunits.json\"\n",
    "with open(krs, 'r') as f:\n",
    "    krs = json.load(f)\n",
    "\n",
    "decarb = {k: v for k,v  in krs.items() if v['min_rule'] == 'rule0024'}"
   ]
  },
  {
   "cell_type": "code",
   "execution_count": 3,
   "metadata": {},
   "outputs": [],
   "source": [
    "# From the decarb bottle case study\n",
    "\n",
    "rids = [\n",
    "    '1162',\n",
    "    '10184',\n",
    "    '15374',\n",
    "    '17157'\n",
    "]\n",
    "\n",
    "smiles = []\n",
    "mols = []\n",
    "rcs = []\n",
    "for rid in rids:\n",
    "    smi = decarb[rid]['smarts'].split('>>')[0]\n",
    "    mol = Chem.MolFromSmiles(smi)\n",
    "    rc = decarb[rid]['reaction_center'][0]\n",
    "\n",
    "    smiles.append(smi)\n",
    "    mols.append(mol)\n",
    "    rcs.append(rc)\n",
    "\n"
   ]
  },
  {
   "cell_type": "code",
   "execution_count": 4,
   "metadata": {},
   "outputs": [
    {
     "data": {
      "image/svg+xml": [
       "<svg xmlns=\"http://www.w3.org/2000/svg\" xmlns:rdkit=\"http://www.rdkit.org/xml\" xmlns:xlink=\"http://www.w3.org/1999/xlink\" version=\"1.1\" baseProfile=\"full\" xml:space=\"preserve\" width=\"200px\" height=\"200px\" viewBox=\"0 0 200 200\">\n",
       "<!-- END OF HEADER -->\n",
       "<rect style=\"opacity:1.0;fill:#FFFFFF;stroke:none\" width=\"200.0\" height=\"200.0\" x=\"0.0\" y=\"0.0\"> </rect>\n",
       "<path class=\"bond-0 atom-0 atom-1\" d=\"M 32.0,90.5 L 47.6,94.1\" style=\"fill:none;fill-rule:evenodd;stroke:#FF0000;stroke-width:2.0px;stroke-linecap:butt;stroke-linejoin:miter;stroke-opacity:1\"/>\n",
       "<path class=\"bond-0 atom-0 atom-1\" d=\"M 47.6,94.1 L 63.3,97.8\" style=\"fill:none;fill-rule:evenodd;stroke:#000000;stroke-width:2.0px;stroke-linecap:butt;stroke-linejoin:miter;stroke-opacity:1\"/>\n",
       "<path class=\"bond-1 atom-1 atom-2\" d=\"M 60.0,97.0 L 64.8,112.8\" style=\"fill:none;fill-rule:evenodd;stroke:#000000;stroke-width:2.0px;stroke-linecap:butt;stroke-linejoin:miter;stroke-opacity:1\"/>\n",
       "<path class=\"bond-1 atom-1 atom-2\" d=\"M 64.8,112.8 L 69.6,128.6\" style=\"fill:none;fill-rule:evenodd;stroke:#FF0000;stroke-width:2.0px;stroke-linecap:butt;stroke-linejoin:miter;stroke-opacity:1\"/>\n",
       "<path class=\"bond-1 atom-1 atom-2\" d=\"M 65.5,95.3 L 70.3,111.1\" style=\"fill:none;fill-rule:evenodd;stroke:#000000;stroke-width:2.0px;stroke-linecap:butt;stroke-linejoin:miter;stroke-opacity:1\"/>\n",
       "<path class=\"bond-1 atom-1 atom-2\" d=\"M 70.3,111.1 L 75.1,127.0\" style=\"fill:none;fill-rule:evenodd;stroke:#FF0000;stroke-width:2.0px;stroke-linecap:butt;stroke-linejoin:miter;stroke-opacity:1\"/>\n",
       "<path class=\"bond-2 atom-1 atom-3\" d=\"M 63.3,97.8 L 89.6,69.7\" style=\"fill:none;fill-rule:evenodd;stroke:#000000;stroke-width:2.0px;stroke-linecap:butt;stroke-linejoin:miter;stroke-opacity:1\"/>\n",
       "<path class=\"bond-3 atom-3 atom-4\" d=\"M 89.6,69.7 L 127.1,78.4\" style=\"fill:none;fill-rule:evenodd;stroke:#000000;stroke-width:2.0px;stroke-linecap:butt;stroke-linejoin:miter;stroke-opacity:1\"/>\n",
       "<path class=\"bond-4 atom-4 atom-5\" d=\"M 127.1,78.4 L 153.4,50.4\" style=\"fill:none;fill-rule:evenodd;stroke:#000000;stroke-width:2.0px;stroke-linecap:butt;stroke-linejoin:miter;stroke-opacity:1\"/>\n",
       "<path class=\"bond-5 atom-4 atom-6\" d=\"M 127.1,78.4 L 138.2,115.3\" style=\"fill:none;fill-rule:evenodd;stroke:#000000;stroke-width:2.0px;stroke-linecap:butt;stroke-linejoin:miter;stroke-opacity:1\"/>\n",
       "<path class=\"bond-6 atom-6 atom-7\" d=\"M 135.9,117.7 L 152.3,121.6\" style=\"fill:none;fill-rule:evenodd;stroke:#000000;stroke-width:2.0px;stroke-linecap:butt;stroke-linejoin:miter;stroke-opacity:1\"/>\n",
       "<path class=\"bond-6 atom-6 atom-7\" d=\"M 152.3,121.6 L 168.8,125.4\" style=\"fill:none;fill-rule:evenodd;stroke:#FF0000;stroke-width:2.0px;stroke-linecap:butt;stroke-linejoin:miter;stroke-opacity:1\"/>\n",
       "<path class=\"bond-6 atom-6 atom-7\" d=\"M 137.2,112.1 L 153.7,115.9\" style=\"fill:none;fill-rule:evenodd;stroke:#000000;stroke-width:2.0px;stroke-linecap:butt;stroke-linejoin:miter;stroke-opacity:1\"/>\n",
       "<path class=\"bond-6 atom-6 atom-7\" d=\"M 153.7,115.9 L 170.1,119.8\" style=\"fill:none;fill-rule:evenodd;stroke:#FF0000;stroke-width:2.0px;stroke-linecap:butt;stroke-linejoin:miter;stroke-opacity:1\"/>\n",
       "<path class=\"bond-7 atom-6 atom-8\" d=\"M 138.2,115.3 L 128.2,126.0\" style=\"fill:none;fill-rule:evenodd;stroke:#000000;stroke-width:2.0px;stroke-linecap:butt;stroke-linejoin:miter;stroke-opacity:1\"/>\n",
       "<path class=\"bond-7 atom-6 atom-8\" d=\"M 128.2,126.0 L 118.2,136.7\" style=\"fill:none;fill-rule:evenodd;stroke:#FF0000;stroke-width:2.0px;stroke-linecap:butt;stroke-linejoin:miter;stroke-opacity:1\"/>\n",
       "<path d=\"M 62.5,97.6 L 63.3,97.8 L 64.6,96.3\" style=\"fill:none;stroke:#000000;stroke-width:2.0px;stroke-linecap:butt;stroke-linejoin:miter;stroke-opacity:1;\"/>\n",
       "<path d=\"M 88.3,71.1 L 89.6,69.7 L 91.5,70.1\" style=\"fill:none;stroke:#000000;stroke-width:2.0px;stroke-linecap:butt;stroke-linejoin:miter;stroke-opacity:1;\"/>\n",
       "<path d=\"M 137.7,113.4 L 138.2,115.3 L 137.7,115.8\" style=\"fill:none;stroke:#000000;stroke-width:2.0px;stroke-linecap:butt;stroke-linejoin:miter;stroke-opacity:1;\"/>\n",
       "<path class=\"atom-0\" d=\"M 10.0 83.6 L 11.5 83.6 L 11.5 88.2 L 17.1 88.2 L 17.1 83.6 L 18.5 83.6 L 18.5 94.5 L 17.1 94.5 L 17.1 89.5 L 11.5 89.5 L 11.5 94.5 L 10.0 94.5 L 10.0 83.6 \" fill=\"#FF0000\"/>\n",
       "<path class=\"atom-0\" d=\"M 20.8 89.0 Q 20.8 86.4, 22.1 84.9 Q 23.4 83.5, 25.8 83.5 Q 28.2 83.5, 29.5 84.9 Q 30.8 86.4, 30.8 89.0 Q 30.8 91.7, 29.5 93.2 Q 28.2 94.7, 25.8 94.7 Q 23.4 94.7, 22.1 93.2 Q 20.8 91.7, 20.8 89.0 M 25.8 93.4 Q 27.4 93.4, 28.3 92.3 Q 29.2 91.2, 29.2 89.0 Q 29.2 86.9, 28.3 85.8 Q 27.4 84.7, 25.8 84.7 Q 24.1 84.7, 23.2 85.8 Q 22.3 86.9, 22.3 89.0 Q 22.3 91.2, 23.2 92.3 Q 24.1 93.4, 25.8 93.4 \" fill=\"#FF0000\"/>\n",
       "<path class=\"atom-2\" d=\"M 69.4 134.6 Q 69.4 132.0, 70.7 130.5 Q 72.0 129.1, 74.4 129.1 Q 76.8 129.1, 78.1 130.5 Q 79.4 132.0, 79.4 134.6 Q 79.4 137.3, 78.1 138.8 Q 76.8 140.3, 74.4 140.3 Q 72.0 140.3, 70.7 138.8 Q 69.4 137.3, 69.4 134.6 M 74.4 139.0 Q 76.1 139.0, 77.0 137.9 Q 77.9 136.8, 77.9 134.6 Q 77.9 132.5, 77.0 131.4 Q 76.1 130.3, 74.4 130.3 Q 72.7 130.3, 71.8 131.4 Q 70.9 132.5, 70.9 134.6 Q 70.9 136.8, 71.8 137.9 Q 72.7 139.0, 74.4 139.0 \" fill=\"#FF0000\"/>\n",
       "<path class=\"atom-7\" d=\"M 170.7 124.1 Q 170.7 121.5, 172.0 120.0 Q 173.3 118.5, 175.7 118.5 Q 178.1 118.5, 179.4 120.0 Q 180.7 121.5, 180.7 124.1 Q 180.7 126.7, 179.4 128.2 Q 178.1 129.7, 175.7 129.7 Q 173.3 129.7, 172.0 128.2 Q 170.7 126.7, 170.7 124.1 M 175.7 128.5 Q 177.4 128.5, 178.3 127.4 Q 179.2 126.3, 179.2 124.1 Q 179.2 121.9, 178.3 120.9 Q 177.4 119.8, 175.7 119.8 Q 174.0 119.8, 173.1 120.9 Q 172.2 121.9, 172.2 124.1 Q 172.2 126.3, 173.1 127.4 Q 174.0 128.5, 175.7 128.5 \" fill=\"#FF0000\"/>\n",
       "<path class=\"atom-8\" d=\"M 96.1 138.0 L 97.6 138.0 L 97.6 142.6 L 103.2 142.6 L 103.2 138.0 L 104.6 138.0 L 104.6 148.9 L 103.2 148.9 L 103.2 143.8 L 97.6 143.8 L 97.6 148.9 L 96.1 148.9 L 96.1 138.0 \" fill=\"#FF0000\"/>\n",
       "<path class=\"atom-8\" d=\"M 106.9 143.4 Q 106.9 140.8, 108.2 139.3 Q 109.5 137.9, 111.9 137.9 Q 114.3 137.9, 115.6 139.3 Q 116.9 140.8, 116.9 143.4 Q 116.9 146.0, 115.6 147.6 Q 114.3 149.0, 111.9 149.0 Q 109.5 149.0, 108.2 147.6 Q 106.9 146.1, 106.9 143.4 M 111.9 147.8 Q 113.5 147.8, 114.4 146.7 Q 115.3 145.6, 115.3 143.4 Q 115.3 141.3, 114.4 140.2 Q 113.5 139.1, 111.9 139.1 Q 110.2 139.1, 109.3 140.2 Q 108.4 141.2, 108.4 143.4 Q 108.4 145.6, 109.3 146.7 Q 110.2 147.8, 111.9 147.8 \" fill=\"#FF0000\"/>\n",
       "<path class=\"note\" d=\"M 22.1 79.5 Q 21.1 79.5, 20.6 78.8 Q 20.1 78.0, 20.1 76.7 Q 20.1 75.4, 20.6 74.7 Q 21.0 73.9, 22.1 73.9 Q 23.1 73.9, 23.6 74.7 Q 24.0 75.4, 24.0 76.7 Q 24.0 78.0, 23.5 78.8 Q 23.1 79.5, 22.1 79.5 M 22.1 78.9 Q 22.6 78.9, 23.0 78.4 Q 23.3 77.8, 23.3 76.7 Q 23.3 75.7, 23.0 75.1 Q 22.6 74.6, 22.1 74.6 Q 21.5 74.6, 21.1 75.1 Q 20.8 75.7, 20.8 76.7 Q 20.8 77.8, 21.1 78.4 Q 21.5 78.9, 22.1 78.9 \" fill=\"#000000\"/>\n",
       "<path class=\"note\" d=\"M 60.1 93.7 L 61.2 93.7 L 61.2 89.7 L 59.9 90.1 L 59.7 89.6 L 61.4 88.9 L 62.0 89.0 L 62.0 93.7 L 63.0 93.7 L 63.0 94.4 L 60.1 94.4 L 60.1 93.7 \" fill=\"#000000\"/>\n",
       "<path class=\"note\" d=\"M 76.3 145.2 Q 76.5 144.7, 77.0 144.4 Q 77.5 144.1, 78.1 144.1 Q 78.9 144.1, 79.4 144.6 Q 79.9 145.0, 79.9 145.8 Q 79.9 146.6, 79.3 147.4 Q 78.7 148.1, 77.4 149.0 L 80.0 149.0 L 80.0 149.6 L 76.3 149.6 L 76.3 149.1 Q 77.3 148.4, 77.9 147.9 Q 78.5 147.3, 78.8 146.8 Q 79.1 146.3, 79.1 145.8 Q 79.1 145.3, 78.8 145.0 Q 78.6 144.7, 78.1 144.7 Q 77.7 144.7, 77.4 144.9 Q 77.1 145.1, 76.9 145.5 L 76.3 145.2 \" fill=\"#000000\"/>\n",
       "<path class=\"note\" d=\"M 88.5 63.4 Q 89.0 63.6, 89.3 63.9 Q 89.6 64.3, 89.6 64.8 Q 89.6 65.3, 89.3 65.6 Q 89.1 66.0, 88.7 66.2 Q 88.3 66.4, 87.7 66.4 Q 87.1 66.4, 86.7 66.2 Q 86.2 66.0, 85.9 65.5 L 86.3 65.1 Q 86.7 65.5, 87.0 65.6 Q 87.2 65.8, 87.7 65.8 Q 88.2 65.8, 88.5 65.5 Q 88.8 65.2, 88.8 64.8 Q 88.8 64.2, 88.5 64.0 Q 88.2 63.7, 87.5 63.7 L 87.1 63.7 L 87.1 63.2 L 87.4 63.2 Q 88.0 63.2, 88.4 62.9 Q 88.7 62.7, 88.7 62.2 Q 88.7 61.8, 88.4 61.6 Q 88.2 61.4, 87.7 61.4 Q 87.2 61.4, 87.0 61.6 Q 86.7 61.7, 86.5 62.1 L 85.9 61.8 Q 86.1 61.4, 86.6 61.1 Q 87.1 60.8, 87.7 60.8 Q 88.5 60.8, 89.0 61.2 Q 89.4 61.5, 89.4 62.2 Q 89.4 62.6, 89.2 62.9 Q 89.0 63.2, 88.5 63.4 \" fill=\"#000000\"/>\n",
       "<path class=\"note\" d=\"M 126.7 73.2 L 127.3 73.2 L 127.3 73.8 L 126.7 73.8 L 126.7 75.0 L 125.9 75.0 L 125.9 73.8 L 123.1 73.8 L 123.1 73.3 L 125.5 69.6 L 126.7 69.6 L 126.7 73.2 M 124.0 73.2 L 125.9 73.2 L 125.9 70.1 L 124.0 73.2 \" fill=\"#000000\"/>\n",
       "<path class=\"note\" d=\"M 158.2 54.1 Q 158.7 54.1, 159.1 54.3 Q 159.5 54.5, 159.7 54.9 Q 159.9 55.2, 159.9 55.8 Q 159.9 56.3, 159.6 56.7 Q 159.4 57.1, 158.9 57.3 Q 158.5 57.5, 158.0 57.5 Q 157.5 57.5, 157.0 57.4 Q 156.6 57.2, 156.2 56.8 L 156.7 56.3 Q 157.0 56.6, 157.3 56.8 Q 157.6 56.9, 158.0 56.9 Q 158.5 56.9, 158.8 56.6 Q 159.2 56.3, 159.2 55.8 Q 159.2 55.2, 158.8 54.9 Q 158.5 54.6, 158.0 54.6 Q 157.5 54.6, 156.9 54.9 L 156.5 54.7 L 156.8 52.0 L 159.6 52.0 L 159.5 52.6 L 157.4 52.6 L 157.3 54.3 Q 157.7 54.1, 158.2 54.1 \" fill=\"#000000\"/>\n",
       "<path class=\"note\" d=\"M 132.2 113.2 Q 132.7 113.2, 133.1 113.4 Q 133.4 113.6, 133.7 114.0 Q 133.9 114.3, 133.9 114.8 Q 133.9 115.4, 133.6 115.8 Q 133.4 116.2, 133.0 116.4 Q 132.6 116.6, 132.0 116.6 Q 131.1 116.6, 130.6 116.0 Q 130.1 115.3, 130.1 114.0 Q 130.1 112.6, 130.7 111.8 Q 131.3 111.1, 132.4 111.1 Q 132.8 111.1, 133.1 111.1 Q 133.4 111.2, 133.6 111.4 L 133.3 111.9 Q 132.9 111.7, 132.5 111.7 Q 131.7 111.7, 131.3 112.2 Q 130.9 112.7, 130.9 113.7 Q 131.1 113.4, 131.5 113.3 Q 131.8 113.2, 132.2 113.2 M 132.0 116.0 Q 132.3 116.0, 132.6 115.9 Q 132.8 115.7, 132.9 115.4 Q 133.1 115.2, 133.1 114.8 Q 133.1 114.3, 132.8 114.1 Q 132.5 113.8, 132.1 113.8 Q 131.7 113.8, 131.4 113.9 Q 131.1 114.1, 130.9 114.3 Q 130.9 115.2, 131.2 115.6 Q 131.5 116.0, 132.0 116.0 \" fill=\"#000000\"/>\n",
       "<path class=\"note\" d=\"M 189.2 124.9 L 186.4 124.9 L 186.4 124.3 L 190.0 124.3 L 190.0 124.8 L 187.8 129.7 L 187.1 129.7 L 189.2 124.9 \" fill=\"#000000\"/>\n",
       "<path class=\"note\" d=\"M 109.0 131.0 Q 109.5 131.2, 109.8 131.5 Q 110.1 131.8, 110.1 132.3 Q 110.1 132.8, 109.9 133.2 Q 109.6 133.5, 109.2 133.7 Q 108.8 133.9, 108.2 133.9 Q 107.3 133.9, 106.8 133.5 Q 106.2 133.1, 106.2 132.3 Q 106.2 131.9, 106.5 131.6 Q 106.7 131.2, 107.2 131.0 Q 106.8 130.8, 106.6 130.5 Q 106.4 130.2, 106.4 129.7 Q 106.4 129.1, 106.9 128.7 Q 107.4 128.3, 108.2 128.3 Q 109.0 128.3, 109.4 128.7 Q 109.9 129.1, 109.9 129.7 Q 109.9 130.1, 109.7 130.4 Q 109.5 130.7, 109.0 131.0 M 108.2 128.9 Q 107.7 128.9, 107.5 129.1 Q 107.2 129.3, 107.2 129.7 Q 107.2 130.0, 107.4 130.2 Q 107.5 130.4, 107.8 130.5 Q 108.0 130.6, 108.5 130.8 Q 108.8 130.5, 109.0 130.3 Q 109.1 130.0, 109.1 129.7 Q 109.1 129.3, 108.9 129.1 Q 108.6 128.9, 108.2 128.9 M 108.2 133.3 Q 108.7 133.3, 109.0 133.1 Q 109.3 132.8, 109.3 132.3 Q 109.3 132.0, 109.2 131.9 Q 109.0 131.7, 108.8 131.6 Q 108.5 131.5, 108.1 131.3 L 107.7 131.2 Q 107.3 131.4, 107.2 131.7 Q 107.0 132.0, 107.0 132.3 Q 107.0 132.8, 107.3 133.1 Q 107.7 133.3, 108.2 133.3 \" fill=\"#000000\"/>\n",
       "</svg>"
      ],
      "text/plain": [
       "<IPython.core.display.SVG object>"
      ]
     },
     "metadata": {},
     "output_type": "display_data"
    }
   ],
   "source": [
    "pred_smi = 'OC(=O)CC(C)C(=O)O'\n",
    "pred_mol = Chem.MolFromSmiles(pred_smi)\n",
    "display(SVG(draw_molecule(pred_mol, draw_options={'addAtomIndices': True})))"
   ]
  },
  {
   "cell_type": "code",
   "execution_count": 5,
   "metadata": {},
   "outputs": [],
   "source": [
    "pred_rc = [0, 1, 3]\n",
    "\n",
    "smiles.append(pred_smi)\n",
    "mols.append(pred_mol)\n",
    "rcs.append(pred_rc)"
   ]
  },
  {
   "cell_type": "code",
   "execution_count": 6,
   "metadata": {},
   "outputs": [
    {
     "name": "stdout",
     "output_type": "stream",
     "text": [
      "NC(CC(=O)O)C(=O)O\n"
     ]
    },
    {
     "data": {
      "image/svg+xml": [
       "<svg xmlns=\"http://www.w3.org/2000/svg\" xmlns:rdkit=\"http://www.rdkit.org/xml\" xmlns:xlink=\"http://www.w3.org/1999/xlink\" version=\"1.1\" baseProfile=\"full\" xml:space=\"preserve\" width=\"200px\" height=\"200px\" viewBox=\"0 0 200 200\">\n",
       "<!-- END OF HEADER -->\n",
       "<rect style=\"opacity:1.0;fill:#FFFFFF;stroke:none\" width=\"200.0\" height=\"200.0\" x=\"0.0\" y=\"0.0\"> </rect>\n",
       "<path class=\"bond-5 atom-1 atom-6\" d=\"M 54.8,87.2 L 90.0,100.1 L 87.4,107.1 L 56.3,95.7 Z\" style=\"fill:#FF7F7F;fill-rule:evenodd;fill-opacity:1;stroke:#FF7F7F;stroke-width:0.0px;stroke-linecap:butt;stroke-linejoin:miter;stroke-opacity:1;\"/>\n",
       "<path class=\"bond-7 atom-6 atom-8\" d=\"M 54.8,87.2 L 56.3,95.7 L 30.8,117.0 L 26.0,111.2 Z\" style=\"fill:#FF7F7F;fill-rule:evenodd;fill-opacity:1;stroke:#FF7F7F;stroke-width:0.0px;stroke-linecap:butt;stroke-linejoin:miter;stroke-opacity:1;\"/>\n",
       "<ellipse cx=\"88.7\" cy=\"103.6\" rx=\"7.1\" ry=\"7.1\" class=\"atom-1\" style=\"fill:#FF7F7F;fill-rule:evenodd;stroke:#FF7F7F;stroke-width:1.0px;stroke-linecap:butt;stroke-linejoin:miter;stroke-opacity:1\"/>\n",
       "<ellipse cx=\"55.5\" cy=\"91.5\" rx=\"7.1\" ry=\"7.1\" class=\"atom-6\" style=\"fill:#FF7F7F;fill-rule:evenodd;stroke:#FF7F7F;stroke-width:1.0px;stroke-linecap:butt;stroke-linejoin:miter;stroke-opacity:1\"/>\n",
       "<ellipse cx=\"23.5\" cy=\"114.2\" rx=\"13.5\" ry=\"7.3\" class=\"atom-8\" style=\"fill:#FF7F7F;fill-rule:evenodd;stroke:#FF7F7F;stroke-width:1.0px;stroke-linecap:butt;stroke-linejoin:miter;stroke-opacity:1\"/>\n",
       "<path class=\"bond-0 atom-0 atom-1\" d=\"M 93.7,132.2 L 91.2,117.9\" style=\"fill:none;fill-rule:evenodd;stroke:#0000FF;stroke-width:2.0px;stroke-linecap:butt;stroke-linejoin:miter;stroke-opacity:1\"/>\n",
       "<path class=\"bond-0 atom-0 atom-1\" d=\"M 91.2,117.9 L 88.7,103.6\" style=\"fill:none;fill-rule:evenodd;stroke:#000000;stroke-width:2.0px;stroke-linecap:butt;stroke-linejoin:miter;stroke-opacity:1\"/>\n",
       "<path class=\"bond-1 atom-1 atom-2\" d=\"M 88.7,103.6 L 115.8,81.0\" style=\"fill:none;fill-rule:evenodd;stroke:#000000;stroke-width:2.0px;stroke-linecap:butt;stroke-linejoin:miter;stroke-opacity:1\"/>\n",
       "<path class=\"bond-2 atom-2 atom-3\" d=\"M 115.8,81.0 L 148.9,93.1\" style=\"fill:none;fill-rule:evenodd;stroke:#000000;stroke-width:2.0px;stroke-linecap:butt;stroke-linejoin:miter;stroke-opacity:1\"/>\n",
       "<path class=\"bond-3 atom-3 atom-4\" d=\"M 146.1,92.0 L 148.7,107.1\" style=\"fill:none;fill-rule:evenodd;stroke:#000000;stroke-width:2.0px;stroke-linecap:butt;stroke-linejoin:miter;stroke-opacity:1\"/>\n",
       "<path class=\"bond-3 atom-3 atom-4\" d=\"M 148.7,107.1 L 151.3,122.1\" style=\"fill:none;fill-rule:evenodd;stroke:#FF0000;stroke-width:2.0px;stroke-linecap:butt;stroke-linejoin:miter;stroke-opacity:1\"/>\n",
       "<path class=\"bond-3 atom-3 atom-4\" d=\"M 151.3,91.1 L 153.9,106.2\" style=\"fill:none;fill-rule:evenodd;stroke:#000000;stroke-width:2.0px;stroke-linecap:butt;stroke-linejoin:miter;stroke-opacity:1\"/>\n",
       "<path class=\"bond-3 atom-3 atom-4\" d=\"M 153.9,106.2 L 156.5,121.2\" style=\"fill:none;fill-rule:evenodd;stroke:#FF0000;stroke-width:2.0px;stroke-linecap:butt;stroke-linejoin:miter;stroke-opacity:1\"/>\n",
       "<path class=\"bond-4 atom-3 atom-5\" d=\"M 148.9,93.1 L 159.6,84.2\" style=\"fill:none;fill-rule:evenodd;stroke:#000000;stroke-width:2.0px;stroke-linecap:butt;stroke-linejoin:miter;stroke-opacity:1\"/>\n",
       "<path class=\"bond-4 atom-3 atom-5\" d=\"M 159.6,84.2 L 170.3,75.3\" style=\"fill:none;fill-rule:evenodd;stroke:#FF0000;stroke-width:2.0px;stroke-linecap:butt;stroke-linejoin:miter;stroke-opacity:1\"/>\n",
       "<path class=\"bond-5 atom-1 atom-6\" d=\"M 88.7,103.6 L 55.5,91.5\" style=\"fill:none;fill-rule:evenodd;stroke:#000000;stroke-width:2.0px;stroke-linecap:butt;stroke-linejoin:miter;stroke-opacity:1\"/>\n",
       "<path class=\"bond-6 atom-6 atom-7\" d=\"M 58.4,92.5 L 55.8,77.5\" style=\"fill:none;fill-rule:evenodd;stroke:#000000;stroke-width:2.0px;stroke-linecap:butt;stroke-linejoin:miter;stroke-opacity:1\"/>\n",
       "<path class=\"bond-6 atom-6 atom-7\" d=\"M 55.8,77.5 L 53.2,62.6\" style=\"fill:none;fill-rule:evenodd;stroke:#FF0000;stroke-width:2.0px;stroke-linecap:butt;stroke-linejoin:miter;stroke-opacity:1\"/>\n",
       "<path class=\"bond-6 atom-6 atom-7\" d=\"M 53.2,93.4 L 50.6,78.5\" style=\"fill:none;fill-rule:evenodd;stroke:#000000;stroke-width:2.0px;stroke-linecap:butt;stroke-linejoin:miter;stroke-opacity:1\"/>\n",
       "<path class=\"bond-6 atom-6 atom-7\" d=\"M 50.6,78.5 L 48.0,63.5\" style=\"fill:none;fill-rule:evenodd;stroke:#FF0000;stroke-width:2.0px;stroke-linecap:butt;stroke-linejoin:miter;stroke-opacity:1\"/>\n",
       "<path class=\"bond-7 atom-6 atom-8\" d=\"M 55.5,91.5 L 44.8,100.4\" style=\"fill:none;fill-rule:evenodd;stroke:#000000;stroke-width:2.0px;stroke-linecap:butt;stroke-linejoin:miter;stroke-opacity:1\"/>\n",
       "<path class=\"bond-7 atom-6 atom-8\" d=\"M 44.8,100.4 L 34.2,109.3\" style=\"fill:none;fill-rule:evenodd;stroke:#FF0000;stroke-width:2.0px;stroke-linecap:butt;stroke-linejoin:miter;stroke-opacity:1\"/>\n",
       "<path d=\"M 114.4,82.1 L 115.8,81.0 L 117.4,81.6\" style=\"fill:none;stroke:#000000;stroke-width:2.0px;stroke-linecap:butt;stroke-linejoin:miter;stroke-opacity:1;\"/>\n",
       "<path d=\"M 147.3,92.5 L 148.9,93.1 L 149.5,92.7\" style=\"fill:none;stroke:#000000;stroke-width:2.0px;stroke-linecap:butt;stroke-linejoin:miter;stroke-opacity:1;\"/>\n",
       "<path d=\"M 57.2,92.1 L 55.5,91.5 L 55.0,91.9\" style=\"fill:none;stroke:#000000;stroke-width:2.0px;stroke-linecap:butt;stroke-linejoin:miter;stroke-opacity:1;\"/>\n",
       "<path class=\"atom-0\" d=\"M 92.5 133.4 L 95.8 138.7 Q 96.1 139.2, 96.6 140.2 Q 97.2 141.1, 97.2 141.2 L 97.2 133.4 L 98.5 133.4 L 98.5 143.4 L 97.2 143.4 L 93.6 137.6 Q 93.2 136.9, 92.8 136.1 Q 92.4 135.4, 92.2 135.1 L 92.2 143.4 L 90.9 143.4 L 90.9 133.4 L 92.5 133.4 \" fill=\"#0000FF\"/>\n",
       "<path class=\"atom-0\" d=\"M 100.4 133.4 L 101.8 133.4 L 101.8 137.6 L 106.9 137.6 L 106.9 133.4 L 108.3 133.4 L 108.3 143.4 L 106.9 143.4 L 106.9 138.8 L 101.8 138.8 L 101.8 143.4 L 100.4 143.4 L 100.4 133.4 \" fill=\"#0000FF\"/>\n",
       "<path class=\"atom-0\" d=\"M 110.2 143.0 Q 110.5 142.4, 111.0 142.1 Q 111.6 141.7, 112.4 141.7 Q 113.4 141.7, 114.0 142.3 Q 114.5 142.8, 114.5 143.8 Q 114.5 144.7, 113.8 145.6 Q 113.1 146.6, 111.6 147.6 L 114.7 147.6 L 114.7 148.4 L 110.2 148.4 L 110.2 147.8 Q 111.4 146.9, 112.2 146.2 Q 112.9 145.6, 113.3 145.0 Q 113.6 144.4, 113.6 143.8 Q 113.6 143.2, 113.3 142.8 Q 113.0 142.5, 112.4 142.5 Q 111.9 142.5, 111.5 142.7 Q 111.2 142.9, 110.9 143.4 L 110.2 143.0 \" fill=\"#0000FF\"/>\n",
       "<path class=\"atom-4\" d=\"M 150.4 127.9 Q 150.4 125.5, 151.6 124.2 Q 152.8 122.8, 155.0 122.8 Q 157.2 122.8, 158.4 124.2 Q 159.6 125.5, 159.6 127.9 Q 159.6 130.3, 158.4 131.7 Q 157.2 133.1, 155.0 133.1 Q 152.8 133.1, 151.6 131.7 Q 150.4 130.4, 150.4 127.9 M 155.0 132.0 Q 156.5 132.0, 157.3 131.0 Q 158.2 129.9, 158.2 127.9 Q 158.2 126.0, 157.3 125.0 Q 156.5 124.0, 155.0 124.0 Q 153.5 124.0, 152.6 124.9 Q 151.8 125.9, 151.8 127.9 Q 151.8 129.9, 152.6 131.0 Q 153.5 132.0, 155.0 132.0 \" fill=\"#FF0000\"/>\n",
       "<path class=\"atom-5\" d=\"M 171.4 70.5 Q 171.4 68.1, 172.6 66.7 Q 173.8 65.4, 176.0 65.4 Q 178.2 65.4, 179.4 66.7 Q 180.6 68.1, 180.6 70.5 Q 180.6 72.9, 179.4 74.3 Q 178.2 75.7, 176.0 75.7 Q 173.8 75.7, 172.6 74.3 Q 171.4 72.9, 171.4 70.5 M 176.0 74.5 Q 177.6 74.5, 178.4 73.5 Q 179.2 72.5, 179.2 70.5 Q 179.2 68.5, 178.4 67.5 Q 177.6 66.5, 176.0 66.5 Q 174.5 66.5, 173.7 67.5 Q 172.8 68.5, 172.8 70.5 Q 172.8 72.5, 173.7 73.5 Q 174.5 74.5, 176.0 74.5 \" fill=\"#FF0000\"/>\n",
       "<path class=\"atom-5\" d=\"M 182.2 65.5 L 183.5 65.5 L 183.5 69.8 L 188.6 69.8 L 188.6 65.5 L 190.0 65.5 L 190.0 75.5 L 188.6 75.5 L 188.6 70.9 L 183.5 70.9 L 183.5 75.5 L 182.2 75.5 L 182.2 65.5 \" fill=\"#FF0000\"/>\n",
       "<path class=\"atom-7\" d=\"M 44.9 56.7 Q 44.9 54.3, 46.0 53.0 Q 47.2 51.6, 49.4 51.6 Q 51.7 51.6, 52.9 53.0 Q 54.0 54.3, 54.0 56.7 Q 54.0 59.1, 52.8 60.5 Q 51.6 61.9, 49.4 61.9 Q 47.2 61.9, 46.0 60.5 Q 44.9 59.1, 44.9 56.7 M 49.4 60.7 Q 51.0 60.7, 51.8 59.7 Q 52.6 58.7, 52.6 56.7 Q 52.6 54.7, 51.8 53.7 Q 51.0 52.7, 49.4 52.7 Q 47.9 52.7, 47.1 53.7 Q 46.3 54.7, 46.3 56.7 Q 46.3 58.7, 47.1 59.7 Q 47.9 60.7, 49.4 60.7 \" fill=\"#FF0000\"/>\n",
       "<path class=\"atom-8\" d=\"M 13.9 109.2 L 15.3 109.2 L 15.3 113.4 L 20.4 113.4 L 20.4 109.2 L 21.8 109.2 L 21.8 119.2 L 20.4 119.2 L 20.4 114.5 L 15.3 114.5 L 15.3 119.2 L 13.9 119.2 L 13.9 109.2 \" fill=\"#FF0000\"/>\n",
       "<path class=\"atom-8\" d=\"M 23.8 114.1 Q 23.8 111.7, 25.0 110.4 Q 26.2 109.0, 28.4 109.0 Q 30.6 109.0, 31.8 110.4 Q 33.0 111.7, 33.0 114.1 Q 33.0 116.6, 31.8 117.9 Q 30.6 119.3, 28.4 119.3 Q 26.2 119.3, 25.0 117.9 Q 23.8 116.6, 23.8 114.1 M 28.4 118.2 Q 29.9 118.2, 30.8 117.2 Q 31.6 116.1, 31.6 114.1 Q 31.6 112.2, 30.8 111.2 Q 29.9 110.2, 28.4 110.2 Q 26.9 110.2, 26.1 111.2 Q 25.2 112.2, 25.2 114.1 Q 25.2 116.2, 26.1 117.2 Q 26.9 118.2, 28.4 118.2 \" fill=\"#FF0000\"/>\n",
       "</svg>"
      ],
      "text/plain": [
       "<IPython.core.display.SVG object>"
      ]
     },
     "metadata": {},
     "output_type": "display_data"
    },
    {
     "name": "stdout",
     "output_type": "stream",
     "text": [
      "O=C(O)C(O)C(O)C(=O)O\n"
     ]
    },
    {
     "data": {
      "image/svg+xml": [
       "<svg xmlns=\"http://www.w3.org/2000/svg\" xmlns:rdkit=\"http://www.rdkit.org/xml\" xmlns:xlink=\"http://www.w3.org/1999/xlink\" version=\"1.1\" baseProfile=\"full\" xml:space=\"preserve\" width=\"200px\" height=\"200px\" viewBox=\"0 0 200 200\">\n",
       "<!-- END OF HEADER -->\n",
       "<rect style=\"opacity:1.0;fill:#FFFFFF;stroke:none\" width=\"200.0\" height=\"200.0\" x=\"0.0\" y=\"0.0\"> </rect>\n",
       "<path class=\"bond-1 atom-1 atom-2\" d=\"M 30.6,77.4 L 56.5,97.8 L 55.2,106.4 L 26.0,83.3 Z\" style=\"fill:#FF7F7F;fill-rule:evenodd;fill-opacity:1;stroke:#FF7F7F;stroke-width:0.0px;stroke-linecap:butt;stroke-linejoin:miter;stroke-opacity:1;\"/>\n",
       "<path class=\"bond-2 atom-1 atom-3\" d=\"M 87.0,85.6 L 89.8,92.5 L 55.2,106.4 L 56.5,97.8 Z\" style=\"fill:#FF7F7F;fill-rule:evenodd;fill-opacity:1;stroke:#FF7F7F;stroke-width:0.0px;stroke-linecap:butt;stroke-linejoin:miter;stroke-opacity:1;\"/>\n",
       "<ellipse cx=\"55.8\" cy=\"102.1\" rx=\"7.0\" ry=\"7.0\" class=\"atom-1\" style=\"fill:#FF7F7F;fill-rule:evenodd;stroke:#FF7F7F;stroke-width:1.0px;stroke-linecap:butt;stroke-linejoin:miter;stroke-opacity:1\"/>\n",
       "<ellipse cx=\"23.4\" cy=\"80.4\" rx=\"13.4\" ry=\"7.2\" class=\"atom-2\" style=\"fill:#FF7F7F;fill-rule:evenodd;stroke:#FF7F7F;stroke-width:1.0px;stroke-linecap:butt;stroke-linejoin:miter;stroke-opacity:1\"/>\n",
       "<ellipse cx=\"88.4\" cy=\"89.1\" rx=\"7.0\" ry=\"7.0\" class=\"atom-3\" style=\"fill:#FF7F7F;fill-rule:evenodd;stroke:#FF7F7F;stroke-width:1.0px;stroke-linecap:butt;stroke-linejoin:miter;stroke-opacity:1\"/>\n",
       "<path class=\"bond-0 atom-0 atom-1\" d=\"M 49.1,130.2 L 51.3,115.2\" style=\"fill:none;fill-rule:evenodd;stroke:#FF0000;stroke-width:2.0px;stroke-linecap:butt;stroke-linejoin:miter;stroke-opacity:1\"/>\n",
       "<path class=\"bond-0 atom-0 atom-1\" d=\"M 51.3,115.2 L 53.5,100.2\" style=\"fill:none;fill-rule:evenodd;stroke:#000000;stroke-width:2.0px;stroke-linecap:butt;stroke-linejoin:miter;stroke-opacity:1\"/>\n",
       "<path class=\"bond-0 atom-0 atom-1\" d=\"M 54.3,131.0 L 56.5,116.0\" style=\"fill:none;fill-rule:evenodd;stroke:#FF0000;stroke-width:2.0px;stroke-linecap:butt;stroke-linejoin:miter;stroke-opacity:1\"/>\n",
       "<path class=\"bond-0 atom-0 atom-1\" d=\"M 56.5,116.0 L 58.7,100.9\" style=\"fill:none;fill-rule:evenodd;stroke:#000000;stroke-width:2.0px;stroke-linecap:butt;stroke-linejoin:miter;stroke-opacity:1\"/>\n",
       "<path class=\"bond-1 atom-1 atom-2\" d=\"M 55.8,102.1 L 44.9,93.5\" style=\"fill:none;fill-rule:evenodd;stroke:#000000;stroke-width:2.0px;stroke-linecap:butt;stroke-linejoin:miter;stroke-opacity:1\"/>\n",
       "<path class=\"bond-1 atom-1 atom-2\" d=\"M 44.9,93.5 L 34.0,84.9\" style=\"fill:none;fill-rule:evenodd;stroke:#FF0000;stroke-width:2.0px;stroke-linecap:butt;stroke-linejoin:miter;stroke-opacity:1\"/>\n",
       "<path class=\"bond-2 atom-1 atom-3\" d=\"M 55.8,102.1 L 88.4,89.1\" style=\"fill:none;fill-rule:evenodd;stroke:#000000;stroke-width:2.0px;stroke-linecap:butt;stroke-linejoin:miter;stroke-opacity:1\"/>\n",
       "<path class=\"bond-3 atom-3 atom-4\" d=\"M 88.4,89.1 L 90.5,74.9\" style=\"fill:none;fill-rule:evenodd;stroke:#000000;stroke-width:2.0px;stroke-linecap:butt;stroke-linejoin:miter;stroke-opacity:1\"/>\n",
       "<path class=\"bond-3 atom-3 atom-4\" d=\"M 90.5,74.9 L 92.5,60.7\" style=\"fill:none;fill-rule:evenodd;stroke:#FF0000;stroke-width:2.0px;stroke-linecap:butt;stroke-linejoin:miter;stroke-opacity:1\"/>\n",
       "<path class=\"bond-4 atom-3 atom-5\" d=\"M 88.4,89.1 L 116.0,110.8\" style=\"fill:none;fill-rule:evenodd;stroke:#000000;stroke-width:2.0px;stroke-linecap:butt;stroke-linejoin:miter;stroke-opacity:1\"/>\n",
       "<path class=\"bond-5 atom-5 atom-6\" d=\"M 116.0,110.8 L 113.9,125.0\" style=\"fill:none;fill-rule:evenodd;stroke:#000000;stroke-width:2.0px;stroke-linecap:butt;stroke-linejoin:miter;stroke-opacity:1\"/>\n",
       "<path class=\"bond-5 atom-5 atom-6\" d=\"M 113.9,125.0 L 111.9,139.3\" style=\"fill:none;fill-rule:evenodd;stroke:#FF0000;stroke-width:2.0px;stroke-linecap:butt;stroke-linejoin:miter;stroke-opacity:1\"/>\n",
       "<path class=\"bond-6 atom-5 atom-7\" d=\"M 116.0,110.8 L 148.6,97.8\" style=\"fill:none;fill-rule:evenodd;stroke:#000000;stroke-width:2.0px;stroke-linecap:butt;stroke-linejoin:miter;stroke-opacity:1\"/>\n",
       "<path class=\"bond-7 atom-7 atom-8\" d=\"M 151.0,99.7 L 153.1,84.7\" style=\"fill:none;fill-rule:evenodd;stroke:#000000;stroke-width:2.0px;stroke-linecap:butt;stroke-linejoin:miter;stroke-opacity:1\"/>\n",
       "<path class=\"bond-7 atom-7 atom-8\" d=\"M 153.1,84.7 L 155.3,69.8\" style=\"fill:none;fill-rule:evenodd;stroke:#FF0000;stroke-width:2.0px;stroke-linecap:butt;stroke-linejoin:miter;stroke-opacity:1\"/>\n",
       "<path class=\"bond-7 atom-7 atom-8\" d=\"M 145.7,98.9 L 147.9,84.0\" style=\"fill:none;fill-rule:evenodd;stroke:#000000;stroke-width:2.0px;stroke-linecap:butt;stroke-linejoin:miter;stroke-opacity:1\"/>\n",
       "<path class=\"bond-7 atom-7 atom-8\" d=\"M 147.9,84.0 L 150.1,69.0\" style=\"fill:none;fill-rule:evenodd;stroke:#FF0000;stroke-width:2.0px;stroke-linecap:butt;stroke-linejoin:miter;stroke-opacity:1\"/>\n",
       "<path class=\"bond-8 atom-7 atom-9\" d=\"M 148.6,97.8 L 159.5,106.4\" style=\"fill:none;fill-rule:evenodd;stroke:#000000;stroke-width:2.0px;stroke-linecap:butt;stroke-linejoin:miter;stroke-opacity:1\"/>\n",
       "<path class=\"bond-8 atom-7 atom-9\" d=\"M 159.5,106.4 L 170.4,115.0\" style=\"fill:none;fill-rule:evenodd;stroke:#FF0000;stroke-width:2.0px;stroke-linecap:butt;stroke-linejoin:miter;stroke-opacity:1\"/>\n",
       "<path d=\"M 55.3,101.6 L 55.8,102.1 L 57.5,101.4\" style=\"fill:none;stroke:#000000;stroke-width:2.0px;stroke-linecap:butt;stroke-linejoin:miter;stroke-opacity:1;\"/>\n",
       "<path d=\"M 146.9,98.4 L 148.6,97.8 L 149.1,98.2\" style=\"fill:none;stroke:#000000;stroke-width:2.0px;stroke-linecap:butt;stroke-linejoin:miter;stroke-opacity:1;\"/>\n",
       "<path class=\"atom-0\" d=\"M 46.3 136.8 Q 46.3 134.4, 47.4 133.1 Q 48.6 131.8, 50.8 131.8 Q 53.0 131.8, 54.2 133.1 Q 55.4 134.4, 55.4 136.8 Q 55.4 139.2, 54.2 140.6 Q 53.0 142.0, 50.8 142.0 Q 48.6 142.0, 47.4 140.6 Q 46.3 139.2, 46.3 136.8 M 50.8 140.8 Q 52.3 140.8, 53.2 139.8 Q 54.0 138.8, 54.0 136.8 Q 54.0 134.9, 53.2 133.9 Q 52.3 132.9, 50.8 132.9 Q 49.3 132.9, 48.5 133.9 Q 47.7 134.9, 47.7 136.8 Q 47.7 138.8, 48.5 139.8 Q 49.3 140.8, 50.8 140.8 \" fill=\"#FF0000\"/>\n",
       "<path class=\"atom-2\" d=\"M 13.9 75.5 L 15.3 75.5 L 15.3 79.7 L 20.3 79.7 L 20.3 75.5 L 21.7 75.5 L 21.7 85.4 L 20.3 85.4 L 20.3 80.8 L 15.3 80.8 L 15.3 85.4 L 13.9 85.4 L 13.9 75.5 \" fill=\"#FF0000\"/>\n",
       "<path class=\"atom-2\" d=\"M 23.7 80.4 Q 23.7 78.0, 24.9 76.7 Q 26.1 75.3, 28.3 75.3 Q 30.5 75.3, 31.7 76.7 Q 32.9 78.0, 32.9 80.4 Q 32.9 82.8, 31.7 84.2 Q 30.5 85.5, 28.3 85.5 Q 26.1 85.5, 24.9 84.2 Q 23.7 82.8, 23.7 80.4 M 28.3 84.4 Q 29.8 84.4, 30.6 83.4 Q 31.5 82.4, 31.5 80.4 Q 31.5 78.4, 30.6 77.5 Q 29.8 76.5, 28.3 76.5 Q 26.8 76.5, 25.9 77.4 Q 25.1 78.4, 25.1 80.4 Q 25.1 82.4, 25.9 83.4 Q 26.8 84.4, 28.3 84.4 \" fill=\"#FF0000\"/>\n",
       "<path class=\"atom-4\" d=\"M 88.9 54.4 Q 88.9 52.0, 90.1 50.7 Q 91.3 49.3, 93.5 49.3 Q 95.7 49.3, 96.8 50.7 Q 98.0 52.0, 98.0 54.4 Q 98.0 56.8, 96.8 58.2 Q 95.6 59.5, 93.5 59.5 Q 91.3 59.5, 90.1 58.2 Q 88.9 56.8, 88.9 54.4 M 93.5 58.4 Q 95.0 58.4, 95.8 57.4 Q 96.6 56.4, 96.6 54.4 Q 96.6 52.4, 95.8 51.4 Q 95.0 50.4, 93.5 50.4 Q 91.9 50.4, 91.1 51.4 Q 90.3 52.4, 90.3 54.4 Q 90.3 56.4, 91.1 57.4 Q 91.9 58.4, 93.5 58.4 \" fill=\"#FF0000\"/>\n",
       "<path class=\"atom-4\" d=\"M 99.6 49.4 L 100.9 49.4 L 100.9 53.7 L 106.0 53.7 L 106.0 49.4 L 107.3 49.4 L 107.3 59.4 L 106.0 59.4 L 106.0 54.8 L 100.9 54.8 L 100.9 59.4 L 99.6 59.4 L 99.6 49.4 \" fill=\"#FF0000\"/>\n",
       "<path class=\"atom-6\" d=\"M 106.4 145.5 Q 106.4 143.1, 107.6 141.8 Q 108.8 140.5, 111.0 140.5 Q 113.2 140.5, 114.3 141.8 Q 115.5 143.1, 115.5 145.5 Q 115.5 147.9, 114.3 149.3 Q 113.1 150.7, 111.0 150.7 Q 108.8 150.7, 107.6 149.3 Q 106.4 148.0, 106.4 145.5 M 111.0 149.6 Q 112.5 149.6, 113.3 148.5 Q 114.1 147.5, 114.1 145.5 Q 114.1 143.6, 113.3 142.6 Q 112.5 141.6, 111.0 141.6 Q 109.4 141.6, 108.6 142.6 Q 107.8 143.6, 107.8 145.5 Q 107.8 147.5, 108.6 148.5 Q 109.4 149.6, 111.0 149.6 \" fill=\"#FF0000\"/>\n",
       "<path class=\"atom-6\" d=\"M 117.1 140.6 L 118.4 140.6 L 118.4 144.8 L 123.5 144.8 L 123.5 140.6 L 124.8 140.6 L 124.8 150.5 L 123.5 150.5 L 123.5 145.9 L 118.4 145.9 L 118.4 150.5 L 117.1 150.5 L 117.1 140.6 \" fill=\"#FF0000\"/>\n",
       "<path class=\"atom-8\" d=\"M 149.0 63.1 Q 149.0 60.7, 150.2 59.4 Q 151.4 58.0, 153.6 58.0 Q 155.8 58.0, 157.0 59.4 Q 158.2 60.7, 158.2 63.1 Q 158.2 65.5, 157.0 66.9 Q 155.8 68.2, 153.6 68.2 Q 151.4 68.2, 150.2 66.9 Q 149.0 65.5, 149.0 63.1 M 153.6 67.1 Q 155.1 67.1, 155.9 66.1 Q 156.7 65.1, 156.7 63.1 Q 156.7 61.1, 155.9 60.1 Q 155.1 59.2, 153.6 59.2 Q 152.1 59.2, 151.2 60.1 Q 150.4 61.1, 150.4 63.1 Q 150.4 65.1, 151.2 66.1 Q 152.1 67.1, 153.6 67.1 \" fill=\"#FF0000\"/>\n",
       "<path class=\"atom-9\" d=\"M 171.6 119.5 Q 171.6 117.1, 172.7 115.8 Q 173.9 114.5, 176.1 114.5 Q 178.3 114.5, 179.5 115.8 Q 180.7 117.1, 180.7 119.5 Q 180.7 121.9, 179.5 123.3 Q 178.3 124.7, 176.1 124.7 Q 173.9 124.7, 172.7 123.3 Q 171.6 121.9, 171.6 119.5 M 176.1 123.5 Q 177.6 123.5, 178.4 122.5 Q 179.3 121.5, 179.3 119.5 Q 179.3 117.6, 178.4 116.6 Q 177.6 115.6, 176.1 115.6 Q 174.6 115.6, 173.8 116.6 Q 173.0 117.5, 173.0 119.5 Q 173.0 121.5, 173.8 122.5 Q 174.6 123.5, 176.1 123.5 \" fill=\"#FF0000\"/>\n",
       "<path class=\"atom-9\" d=\"M 182.2 114.6 L 183.6 114.6 L 183.6 118.8 L 188.7 118.8 L 188.7 114.6 L 190.0 114.6 L 190.0 124.5 L 188.7 124.5 L 188.7 119.9 L 183.6 119.9 L 183.6 124.5 L 182.2 124.5 L 182.2 114.6 \" fill=\"#FF0000\"/>\n",
       "</svg>"
      ],
      "text/plain": [
       "<IPython.core.display.SVG object>"
      ]
     },
     "metadata": {},
     "output_type": "display_data"
    },
    {
     "name": "stdout",
     "output_type": "stream",
     "text": [
      "O=C(O)CC(O)C(=O)O\n"
     ]
    },
    {
     "data": {
      "image/svg+xml": [
       "<svg xmlns=\"http://www.w3.org/2000/svg\" xmlns:rdkit=\"http://www.rdkit.org/xml\" xmlns:xlink=\"http://www.w3.org/1999/xlink\" version=\"1.1\" baseProfile=\"full\" xml:space=\"preserve\" width=\"200px\" height=\"200px\" viewBox=\"0 0 200 200\">\n",
       "<!-- END OF HEADER -->\n",
       "<rect style=\"opacity:1.0;fill:#FFFFFF;stroke:none\" width=\"200.0\" height=\"200.0\" x=\"0.0\" y=\"0.0\"> </rect>\n",
       "<path class=\"bond-1 atom-1 atom-2\" d=\"M 169.8,69.9 L 174.6,75.7 L 145.8,99.8 L 144.3,91.2 Z\" style=\"fill:#FF7F7F;fill-rule:evenodd;fill-opacity:1;stroke:#FF7F7F;stroke-width:0.0px;stroke-linecap:butt;stroke-linejoin:miter;stroke-opacity:1;\"/>\n",
       "<path class=\"bond-2 atom-1 atom-3\" d=\"M 113.2,79.8 L 144.3,91.2 L 145.8,99.8 L 110.6,86.9 Z\" style=\"fill:#FF7F7F;fill-rule:evenodd;fill-opacity:1;stroke:#FF7F7F;stroke-width:0.0px;stroke-linecap:butt;stroke-linejoin:miter;stroke-opacity:1;\"/>\n",
       "<ellipse cx=\"145.1\" cy=\"95.5\" rx=\"7.1\" ry=\"7.1\" class=\"atom-1\" style=\"fill:#FF7F7F;fill-rule:evenodd;stroke:#FF7F7F;stroke-width:1.0px;stroke-linecap:butt;stroke-linejoin:miter;stroke-opacity:1\"/>\n",
       "<ellipse cx=\"176.9\" cy=\"72.9\" rx=\"13.1\" ry=\"7.3\" class=\"atom-2\" style=\"fill:#FF7F7F;fill-rule:evenodd;stroke:#FF7F7F;stroke-width:1.0px;stroke-linecap:butt;stroke-linejoin:miter;stroke-opacity:1\"/>\n",
       "<ellipse cx=\"111.9\" cy=\"83.3\" rx=\"7.1\" ry=\"7.1\" class=\"atom-3\" style=\"fill:#FF7F7F;fill-rule:evenodd;stroke:#FF7F7F;stroke-width:1.0px;stroke-linecap:butt;stroke-linejoin:miter;stroke-opacity:1\"/>\n",
       "<path class=\"bond-0 atom-0 atom-1\" d=\"M 147.4,124.5 L 144.8,109.5\" style=\"fill:none;fill-rule:evenodd;stroke:#FF0000;stroke-width:2.0px;stroke-linecap:butt;stroke-linejoin:miter;stroke-opacity:1\"/>\n",
       "<path class=\"bond-0 atom-0 atom-1\" d=\"M 144.8,109.5 L 142.2,94.4\" style=\"fill:none;fill-rule:evenodd;stroke:#000000;stroke-width:2.0px;stroke-linecap:butt;stroke-linejoin:miter;stroke-opacity:1\"/>\n",
       "<path class=\"bond-0 atom-0 atom-1\" d=\"M 152.7,123.6 L 150.0,108.6\" style=\"fill:none;fill-rule:evenodd;stroke:#FF0000;stroke-width:2.0px;stroke-linecap:butt;stroke-linejoin:miter;stroke-opacity:1\"/>\n",
       "<path class=\"bond-0 atom-0 atom-1\" d=\"M 150.0,108.6 L 147.4,93.5\" style=\"fill:none;fill-rule:evenodd;stroke:#000000;stroke-width:2.0px;stroke-linecap:butt;stroke-linejoin:miter;stroke-opacity:1\"/>\n",
       "<path class=\"bond-1 atom-1 atom-2\" d=\"M 145.1,95.5 L 155.7,86.6\" style=\"fill:none;fill-rule:evenodd;stroke:#000000;stroke-width:2.0px;stroke-linecap:butt;stroke-linejoin:miter;stroke-opacity:1\"/>\n",
       "<path class=\"bond-1 atom-1 atom-2\" d=\"M 155.7,86.6 L 166.4,77.6\" style=\"fill:none;fill-rule:evenodd;stroke:#FF0000;stroke-width:2.0px;stroke-linecap:butt;stroke-linejoin:miter;stroke-opacity:1\"/>\n",
       "<path class=\"bond-2 atom-1 atom-3\" d=\"M 145.1,95.5 L 111.9,83.3\" style=\"fill:none;fill-rule:evenodd;stroke:#000000;stroke-width:2.0px;stroke-linecap:butt;stroke-linejoin:miter;stroke-opacity:1\"/>\n",
       "<path class=\"bond-3 atom-3 atom-4\" d=\"M 111.9,83.3 L 84.8,106.0\" style=\"fill:none;fill-rule:evenodd;stroke:#000000;stroke-width:2.0px;stroke-linecap:butt;stroke-linejoin:miter;stroke-opacity:1\"/>\n",
       "<path class=\"bond-4 atom-4 atom-5\" d=\"M 84.8,106.0 L 87.3,120.3\" style=\"fill:none;fill-rule:evenodd;stroke:#000000;stroke-width:2.0px;stroke-linecap:butt;stroke-linejoin:miter;stroke-opacity:1\"/>\n",
       "<path class=\"bond-4 atom-4 atom-5\" d=\"M 87.3,120.3 L 89.7,134.6\" style=\"fill:none;fill-rule:evenodd;stroke:#FF0000;stroke-width:2.0px;stroke-linecap:butt;stroke-linejoin:miter;stroke-opacity:1\"/>\n",
       "<path class=\"bond-5 atom-4 atom-6\" d=\"M 84.8,106.0 L 51.6,93.8\" style=\"fill:none;fill-rule:evenodd;stroke:#000000;stroke-width:2.0px;stroke-linecap:butt;stroke-linejoin:miter;stroke-opacity:1\"/>\n",
       "<path class=\"bond-6 atom-6 atom-7\" d=\"M 54.5,94.9 L 51.9,79.9\" style=\"fill:none;fill-rule:evenodd;stroke:#000000;stroke-width:2.0px;stroke-linecap:butt;stroke-linejoin:miter;stroke-opacity:1\"/>\n",
       "<path class=\"bond-6 atom-6 atom-7\" d=\"M 51.9,79.9 L 49.2,65.0\" style=\"fill:none;fill-rule:evenodd;stroke:#FF0000;stroke-width:2.0px;stroke-linecap:butt;stroke-linejoin:miter;stroke-opacity:1\"/>\n",
       "<path class=\"bond-6 atom-6 atom-7\" d=\"M 49.2,95.8 L 46.6,80.8\" style=\"fill:none;fill-rule:evenodd;stroke:#000000;stroke-width:2.0px;stroke-linecap:butt;stroke-linejoin:miter;stroke-opacity:1\"/>\n",
       "<path class=\"bond-6 atom-6 atom-7\" d=\"M 46.6,80.8 L 44.0,65.9\" style=\"fill:none;fill-rule:evenodd;stroke:#FF0000;stroke-width:2.0px;stroke-linecap:butt;stroke-linejoin:miter;stroke-opacity:1\"/>\n",
       "<path class=\"bond-7 atom-6 atom-8\" d=\"M 51.6,93.8 L 40.9,102.8\" style=\"fill:none;fill-rule:evenodd;stroke:#000000;stroke-width:2.0px;stroke-linecap:butt;stroke-linejoin:miter;stroke-opacity:1\"/>\n",
       "<path class=\"bond-7 atom-6 atom-8\" d=\"M 40.9,102.8 L 30.2,111.7\" style=\"fill:none;fill-rule:evenodd;stroke:#FF0000;stroke-width:2.0px;stroke-linecap:butt;stroke-linejoin:miter;stroke-opacity:1\"/>\n",
       "<path d=\"M 145.6,95.0 L 145.1,95.5 L 143.4,94.9\" style=\"fill:none;stroke:#000000;stroke-width:2.0px;stroke-linecap:butt;stroke-linejoin:miter;stroke-opacity:1;\"/>\n",
       "<path d=\"M 113.5,83.9 L 111.9,83.3 L 110.5,84.5\" style=\"fill:none;stroke:#000000;stroke-width:2.0px;stroke-linecap:butt;stroke-linejoin:miter;stroke-opacity:1;\"/>\n",
       "<path d=\"M 53.2,94.5 L 51.6,93.8 L 51.1,94.3\" style=\"fill:none;stroke:#000000;stroke-width:2.0px;stroke-linecap:butt;stroke-linejoin:miter;stroke-opacity:1;\"/>\n",
       "<path class=\"atom-0\" d=\"M 146.5 130.3 Q 146.5 127.9, 147.7 126.6 Q 148.9 125.2, 151.1 125.2 Q 153.3 125.2, 154.5 126.6 Q 155.7 127.9, 155.7 130.3 Q 155.7 132.8, 154.5 134.1 Q 153.3 135.5, 151.1 135.5 Q 148.9 135.5, 147.7 134.1 Q 146.5 132.8, 146.5 130.3 M 151.1 134.4 Q 152.7 134.4, 153.5 133.4 Q 154.3 132.3, 154.3 130.3 Q 154.3 128.4, 153.5 127.4 Q 152.7 126.4, 151.1 126.4 Q 149.6 126.4, 148.8 127.4 Q 147.9 128.3, 147.9 130.3 Q 147.9 132.3, 148.8 133.4 Q 149.6 134.4, 151.1 134.4 \" fill=\"#FF0000\"/>\n",
       "<path class=\"atom-2\" d=\"M 167.6 72.9 Q 167.6 70.5, 168.8 69.1 Q 170.0 67.8, 172.2 67.8 Q 174.4 67.8, 175.6 69.1 Q 176.8 70.5, 176.8 72.9 Q 176.8 75.3, 175.6 76.7 Q 174.4 78.0, 172.2 78.0 Q 170.0 78.0, 168.8 76.7 Q 167.6 75.3, 167.6 72.9 M 172.2 76.9 Q 173.7 76.9, 174.5 75.9 Q 175.4 74.9, 175.4 72.9 Q 175.4 70.9, 174.5 69.9 Q 173.7 68.9, 172.2 68.9 Q 170.6 68.9, 169.8 69.9 Q 169.0 70.9, 169.0 72.9 Q 169.0 74.9, 169.8 75.9 Q 170.6 76.9, 172.2 76.9 \" fill=\"#FF0000\"/>\n",
       "<path class=\"atom-2\" d=\"M 178.3 67.9 L 179.7 67.9 L 179.7 72.1 L 184.8 72.1 L 184.8 67.9 L 186.2 67.9 L 186.2 77.9 L 184.8 77.9 L 184.8 73.3 L 179.7 73.3 L 179.7 77.9 L 178.3 77.9 L 178.3 67.9 \" fill=\"#FF0000\"/>\n",
       "<path class=\"atom-5\" d=\"M 86.2 140.8 Q 86.2 138.4, 87.4 137.1 Q 88.6 135.7, 90.8 135.7 Q 93.1 135.7, 94.2 137.1 Q 95.4 138.4, 95.4 140.8 Q 95.4 143.3, 94.2 144.7 Q 93.0 146.0, 90.8 146.0 Q 88.6 146.0, 87.4 144.7 Q 86.2 143.3, 86.2 140.8 M 90.8 144.9 Q 92.4 144.9, 93.2 143.9 Q 94.0 142.8, 94.0 140.8 Q 94.0 138.9, 93.2 137.9 Q 92.4 136.9, 90.8 136.9 Q 89.3 136.9, 88.5 137.9 Q 87.7 138.9, 87.7 140.8 Q 87.7 142.9, 88.5 143.9 Q 89.3 144.9, 90.8 144.9 \" fill=\"#FF0000\"/>\n",
       "<path class=\"atom-5\" d=\"M 97.0 135.9 L 98.3 135.9 L 98.3 140.1 L 103.5 140.1 L 103.5 135.9 L 104.8 135.9 L 104.8 145.9 L 103.5 145.9 L 103.5 141.2 L 98.3 141.2 L 98.3 145.9 L 97.0 145.9 L 97.0 135.9 \" fill=\"#FF0000\"/>\n",
       "<path class=\"atom-7\" d=\"M 40.9 59.1 Q 40.9 56.7, 42.1 55.3 Q 43.3 54.0, 45.5 54.0 Q 47.7 54.0, 48.9 55.3 Q 50.1 56.7, 50.1 59.1 Q 50.1 61.5, 48.9 62.9 Q 47.7 64.3, 45.5 64.3 Q 43.3 64.3, 42.1 62.9 Q 40.9 61.5, 40.9 59.1 M 45.5 63.1 Q 47.0 63.1, 47.9 62.1 Q 48.7 61.1, 48.7 59.1 Q 48.7 57.1, 47.9 56.1 Q 47.0 55.1, 45.5 55.1 Q 44.0 55.1, 43.2 56.1 Q 42.3 57.1, 42.3 59.1 Q 42.3 61.1, 43.2 62.1 Q 44.0 63.1, 45.5 63.1 \" fill=\"#FF0000\"/>\n",
       "<path class=\"atom-8\" d=\"M 10.0 111.6 L 11.4 111.6 L 11.4 115.8 L 16.5 115.8 L 16.5 111.6 L 17.8 111.6 L 17.8 121.6 L 16.5 121.6 L 16.5 116.9 L 11.4 116.9 L 11.4 121.6 L 10.0 121.6 L 10.0 111.6 \" fill=\"#FF0000\"/>\n",
       "<path class=\"atom-8\" d=\"M 19.9 116.5 Q 19.9 114.1, 21.1 112.8 Q 22.3 111.4, 24.5 111.4 Q 26.7 111.4, 27.9 112.8 Q 29.1 114.1, 29.1 116.5 Q 29.1 119.0, 27.9 120.3 Q 26.7 121.7, 24.5 121.7 Q 22.3 121.7, 21.1 120.3 Q 19.9 119.0, 19.9 116.5 M 24.5 120.6 Q 26.0 120.6, 26.8 119.6 Q 27.7 118.5, 27.7 116.5 Q 27.7 114.6, 26.8 113.6 Q 26.0 112.6, 24.5 112.6 Q 22.9 112.6, 22.1 113.6 Q 21.3 114.6, 21.3 116.5 Q 21.3 118.6, 22.1 119.6 Q 22.9 120.6, 24.5 120.6 \" fill=\"#FF0000\"/>\n",
       "</svg>"
      ],
      "text/plain": [
       "<IPython.core.display.SVG object>"
      ]
     },
     "metadata": {},
     "output_type": "display_data"
    },
    {
     "name": "stdout",
     "output_type": "stream",
     "text": [
      "NC(CC(=O)O)C(=O)O\n"
     ]
    },
    {
     "data": {
      "image/svg+xml": [
       "<svg xmlns=\"http://www.w3.org/2000/svg\" xmlns:rdkit=\"http://www.rdkit.org/xml\" xmlns:xlink=\"http://www.w3.org/1999/xlink\" version=\"1.1\" baseProfile=\"full\" xml:space=\"preserve\" width=\"200px\" height=\"200px\" viewBox=\"0 0 200 200\">\n",
       "<!-- END OF HEADER -->\n",
       "<rect style=\"opacity:1.0;fill:#FFFFFF;stroke:none\" width=\"200.0\" height=\"200.0\" x=\"0.0\" y=\"0.0\"> </rect>\n",
       "<path class=\"bond-2 atom-2 atom-3\" d=\"M 113.2,77.4 L 144.3,88.8 L 145.8,97.4 L 110.6,84.5 Z\" style=\"fill:#FF7F7F;fill-rule:evenodd;fill-opacity:1;stroke:#FF7F7F;stroke-width:0.0px;stroke-linecap:butt;stroke-linejoin:miter;stroke-opacity:1;\"/>\n",
       "<path class=\"bond-4 atom-3 atom-5\" d=\"M 169.8,67.5 L 174.6,73.3 L 145.8,97.4 L 144.3,88.8 Z\" style=\"fill:#FF7F7F;fill-rule:evenodd;fill-opacity:1;stroke:#FF7F7F;stroke-width:0.0px;stroke-linecap:butt;stroke-linejoin:miter;stroke-opacity:1;\"/>\n",
       "<ellipse cx=\"111.9\" cy=\"80.9\" rx=\"7.1\" ry=\"7.1\" class=\"atom-2\" style=\"fill:#FF7F7F;fill-rule:evenodd;stroke:#FF7F7F;stroke-width:1.0px;stroke-linecap:butt;stroke-linejoin:miter;stroke-opacity:1\"/>\n",
       "<ellipse cx=\"145.1\" cy=\"93.1\" rx=\"7.1\" ry=\"7.1\" class=\"atom-3\" style=\"fill:#FF7F7F;fill-rule:evenodd;stroke:#FF7F7F;stroke-width:1.0px;stroke-linecap:butt;stroke-linejoin:miter;stroke-opacity:1\"/>\n",
       "<ellipse cx=\"176.9\" cy=\"70.5\" rx=\"13.1\" ry=\"7.3\" class=\"atom-5\" style=\"fill:#FF7F7F;fill-rule:evenodd;stroke:#FF7F7F;stroke-width:1.0px;stroke-linecap:butt;stroke-linejoin:miter;stroke-opacity:1\"/>\n",
       "<path class=\"bond-0 atom-0 atom-1\" d=\"M 89.8,132.2 L 87.3,117.9\" style=\"fill:none;fill-rule:evenodd;stroke:#0000FF;stroke-width:2.0px;stroke-linecap:butt;stroke-linejoin:miter;stroke-opacity:1\"/>\n",
       "<path class=\"bond-0 atom-0 atom-1\" d=\"M 87.3,117.9 L 84.8,103.6\" style=\"fill:none;fill-rule:evenodd;stroke:#000000;stroke-width:2.0px;stroke-linecap:butt;stroke-linejoin:miter;stroke-opacity:1\"/>\n",
       "<path class=\"bond-1 atom-1 atom-2\" d=\"M 84.8,103.6 L 111.9,80.9\" style=\"fill:none;fill-rule:evenodd;stroke:#000000;stroke-width:2.0px;stroke-linecap:butt;stroke-linejoin:miter;stroke-opacity:1\"/>\n",
       "<path class=\"bond-2 atom-2 atom-3\" d=\"M 111.9,80.9 L 145.1,93.1\" style=\"fill:none;fill-rule:evenodd;stroke:#000000;stroke-width:2.0px;stroke-linecap:butt;stroke-linejoin:miter;stroke-opacity:1\"/>\n",
       "<path class=\"bond-3 atom-3 atom-4\" d=\"M 142.2,92.0 L 144.8,107.1\" style=\"fill:none;fill-rule:evenodd;stroke:#000000;stroke-width:2.0px;stroke-linecap:butt;stroke-linejoin:miter;stroke-opacity:1\"/>\n",
       "<path class=\"bond-3 atom-3 atom-4\" d=\"M 144.8,107.1 L 147.4,122.1\" style=\"fill:none;fill-rule:evenodd;stroke:#FF0000;stroke-width:2.0px;stroke-linecap:butt;stroke-linejoin:miter;stroke-opacity:1\"/>\n",
       "<path class=\"bond-3 atom-3 atom-4\" d=\"M 147.4,91.1 L 150.0,106.2\" style=\"fill:none;fill-rule:evenodd;stroke:#000000;stroke-width:2.0px;stroke-linecap:butt;stroke-linejoin:miter;stroke-opacity:1\"/>\n",
       "<path class=\"bond-3 atom-3 atom-4\" d=\"M 150.0,106.2 L 152.7,121.2\" style=\"fill:none;fill-rule:evenodd;stroke:#FF0000;stroke-width:2.0px;stroke-linecap:butt;stroke-linejoin:miter;stroke-opacity:1\"/>\n",
       "<path class=\"bond-4 atom-3 atom-5\" d=\"M 145.1,93.1 L 155.7,84.2\" style=\"fill:none;fill-rule:evenodd;stroke:#000000;stroke-width:2.0px;stroke-linecap:butt;stroke-linejoin:miter;stroke-opacity:1\"/>\n",
       "<path class=\"bond-4 atom-3 atom-5\" d=\"M 155.7,84.2 L 166.4,75.2\" style=\"fill:none;fill-rule:evenodd;stroke:#FF0000;stroke-width:2.0px;stroke-linecap:butt;stroke-linejoin:miter;stroke-opacity:1\"/>\n",
       "<path class=\"bond-5 atom-1 atom-6\" d=\"M 84.8,103.6 L 51.6,91.5\" style=\"fill:none;fill-rule:evenodd;stroke:#000000;stroke-width:2.0px;stroke-linecap:butt;stroke-linejoin:miter;stroke-opacity:1\"/>\n",
       "<path class=\"bond-6 atom-6 atom-7\" d=\"M 54.5,92.5 L 51.9,77.5\" style=\"fill:none;fill-rule:evenodd;stroke:#000000;stroke-width:2.0px;stroke-linecap:butt;stroke-linejoin:miter;stroke-opacity:1\"/>\n",
       "<path class=\"bond-6 atom-6 atom-7\" d=\"M 51.9,77.5 L 49.2,62.6\" style=\"fill:none;fill-rule:evenodd;stroke:#FF0000;stroke-width:2.0px;stroke-linecap:butt;stroke-linejoin:miter;stroke-opacity:1\"/>\n",
       "<path class=\"bond-6 atom-6 atom-7\" d=\"M 49.2,93.4 L 46.6,78.4\" style=\"fill:none;fill-rule:evenodd;stroke:#000000;stroke-width:2.0px;stroke-linecap:butt;stroke-linejoin:miter;stroke-opacity:1\"/>\n",
       "<path class=\"bond-6 atom-6 atom-7\" d=\"M 46.6,78.4 L 44.0,63.5\" style=\"fill:none;fill-rule:evenodd;stroke:#FF0000;stroke-width:2.0px;stroke-linecap:butt;stroke-linejoin:miter;stroke-opacity:1\"/>\n",
       "<path class=\"bond-7 atom-6 atom-8\" d=\"M 51.6,91.5 L 40.9,100.4\" style=\"fill:none;fill-rule:evenodd;stroke:#000000;stroke-width:2.0px;stroke-linecap:butt;stroke-linejoin:miter;stroke-opacity:1\"/>\n",
       "<path class=\"bond-7 atom-6 atom-8\" d=\"M 40.9,100.4 L 30.2,109.3\" style=\"fill:none;fill-rule:evenodd;stroke:#FF0000;stroke-width:2.0px;stroke-linecap:butt;stroke-linejoin:miter;stroke-opacity:1\"/>\n",
       "<path d=\"M 110.5,82.1 L 111.9,80.9 L 113.5,81.6\" style=\"fill:none;stroke:#000000;stroke-width:2.0px;stroke-linecap:butt;stroke-linejoin:miter;stroke-opacity:1;\"/>\n",
       "<path d=\"M 143.4,92.5 L 145.1,93.1 L 145.6,92.6\" style=\"fill:none;stroke:#000000;stroke-width:2.0px;stroke-linecap:butt;stroke-linejoin:miter;stroke-opacity:1;\"/>\n",
       "<path d=\"M 53.2,92.1 L 51.6,91.5 L 51.1,91.9\" style=\"fill:none;stroke:#000000;stroke-width:2.0px;stroke-linecap:butt;stroke-linejoin:miter;stroke-opacity:1;\"/>\n",
       "<path class=\"atom-0\" d=\"M 88.6 133.4 L 91.9 138.7 Q 92.2 139.2, 92.7 140.2 Q 93.3 141.1, 93.3 141.2 L 93.3 133.4 L 94.6 133.4 L 94.6 143.4 L 93.3 143.4 L 89.7 137.6 Q 89.3 136.9, 88.9 136.2 Q 88.5 135.4, 88.3 135.1 L 88.3 143.4 L 87.0 143.4 L 87.0 133.4 L 88.6 133.4 \" fill=\"#0000FF\"/>\n",
       "<path class=\"atom-0\" d=\"M 96.5 133.4 L 97.9 133.4 L 97.9 137.7 L 103.0 137.7 L 103.0 133.4 L 104.4 133.4 L 104.4 143.4 L 103.0 143.4 L 103.0 138.8 L 97.9 138.8 L 97.9 143.4 L 96.5 143.4 L 96.5 133.4 \" fill=\"#0000FF\"/>\n",
       "<path class=\"atom-0\" d=\"M 106.3 143.1 Q 106.6 142.4, 107.2 142.1 Q 107.7 141.7, 108.5 141.7 Q 109.5 141.7, 110.1 142.3 Q 110.6 142.8, 110.6 143.8 Q 110.6 144.8, 109.9 145.7 Q 109.2 146.6, 107.7 147.7 L 110.8 147.7 L 110.8 148.4 L 106.3 148.4 L 106.3 147.8 Q 107.5 146.9, 108.3 146.3 Q 109.0 145.6, 109.4 145.0 Q 109.7 144.4, 109.7 143.8 Q 109.7 143.2, 109.4 142.8 Q 109.1 142.5, 108.5 142.5 Q 108.0 142.5, 107.6 142.7 Q 107.3 142.9, 107.0 143.4 L 106.3 143.1 \" fill=\"#0000FF\"/>\n",
       "<path class=\"atom-4\" d=\"M 146.5 127.9 Q 146.5 125.5, 147.7 124.2 Q 148.9 122.8, 151.1 122.8 Q 153.3 122.8, 154.5 124.2 Q 155.7 125.5, 155.7 127.9 Q 155.7 130.4, 154.5 131.7 Q 153.3 133.1, 151.1 133.1 Q 148.9 133.1, 147.7 131.7 Q 146.5 130.4, 146.5 127.9 M 151.1 132.0 Q 152.7 132.0, 153.5 131.0 Q 154.3 129.9, 154.3 127.9 Q 154.3 126.0, 153.5 125.0 Q 152.7 124.0, 151.1 124.0 Q 149.6 124.0, 148.8 125.0 Q 147.9 126.0, 147.9 127.9 Q 147.9 130.0, 148.8 131.0 Q 149.6 132.0, 151.1 132.0 \" fill=\"#FF0000\"/>\n",
       "<path class=\"atom-5\" d=\"M 167.6 70.5 Q 167.6 68.1, 168.8 66.7 Q 170.0 65.4, 172.2 65.4 Q 174.4 65.4, 175.6 66.7 Q 176.8 68.1, 176.8 70.5 Q 176.8 72.9, 175.6 74.3 Q 174.4 75.7, 172.2 75.7 Q 170.0 75.7, 168.8 74.3 Q 167.6 72.9, 167.6 70.5 M 172.2 74.5 Q 173.7 74.5, 174.5 73.5 Q 175.4 72.5, 175.4 70.5 Q 175.4 68.5, 174.5 67.5 Q 173.7 66.5, 172.2 66.5 Q 170.6 66.5, 169.8 67.5 Q 169.0 68.5, 169.0 70.5 Q 169.0 72.5, 169.8 73.5 Q 170.6 74.5, 172.2 74.5 \" fill=\"#FF0000\"/>\n",
       "<path class=\"atom-5\" d=\"M 178.3 65.5 L 179.7 65.5 L 179.7 69.7 L 184.8 69.7 L 184.8 65.5 L 186.2 65.5 L 186.2 75.5 L 184.8 75.5 L 184.8 70.9 L 179.7 70.9 L 179.7 75.5 L 178.3 75.5 L 178.3 65.5 \" fill=\"#FF0000\"/>\n",
       "<path class=\"atom-7\" d=\"M 40.9 56.7 Q 40.9 54.3, 42.1 52.9 Q 43.3 51.6, 45.5 51.6 Q 47.7 51.6, 48.9 52.9 Q 50.1 54.3, 50.1 56.7 Q 50.1 59.1, 48.9 60.5 Q 47.7 61.9, 45.5 61.9 Q 43.3 61.9, 42.1 60.5 Q 40.9 59.1, 40.9 56.7 M 45.5 60.7 Q 47.0 60.7, 47.9 59.7 Q 48.7 58.7, 48.7 56.7 Q 48.7 54.7, 47.9 53.7 Q 47.0 52.7, 45.5 52.7 Q 44.0 52.7, 43.2 53.7 Q 42.3 54.7, 42.3 56.7 Q 42.3 58.7, 43.2 59.7 Q 44.0 60.7, 45.5 60.7 \" fill=\"#FF0000\"/>\n",
       "<path class=\"atom-8\" d=\"M 10.0 109.2 L 11.4 109.2 L 11.4 113.4 L 16.5 113.4 L 16.5 109.2 L 17.8 109.2 L 17.8 119.2 L 16.5 119.2 L 16.5 114.5 L 11.4 114.5 L 11.4 119.2 L 10.0 119.2 L 10.0 109.2 \" fill=\"#FF0000\"/>\n",
       "<path class=\"atom-8\" d=\"M 19.9 114.1 Q 19.9 111.7, 21.1 110.4 Q 22.3 109.0, 24.5 109.0 Q 26.7 109.0, 27.9 110.4 Q 29.1 111.7, 29.1 114.1 Q 29.1 116.6, 27.9 118.0 Q 26.7 119.3, 24.5 119.3 Q 22.3 119.3, 21.1 118.0 Q 19.9 116.6, 19.9 114.1 M 24.5 118.2 Q 26.0 118.2, 26.8 117.2 Q 27.7 116.1, 27.7 114.1 Q 27.7 112.2, 26.8 111.2 Q 26.0 110.2, 24.5 110.2 Q 22.9 110.2, 22.1 111.2 Q 21.3 112.2, 21.3 114.1 Q 21.3 116.2, 22.1 117.2 Q 22.9 118.2, 24.5 118.2 \" fill=\"#FF0000\"/>\n",
       "</svg>"
      ],
      "text/plain": [
       "<IPython.core.display.SVG object>"
      ]
     },
     "metadata": {},
     "output_type": "display_data"
    },
    {
     "name": "stdout",
     "output_type": "stream",
     "text": [
      "OC(=O)CC(C)C(=O)O\n"
     ]
    },
    {
     "data": {
      "image/svg+xml": [
       "<svg xmlns=\"http://www.w3.org/2000/svg\" xmlns:rdkit=\"http://www.rdkit.org/xml\" xmlns:xlink=\"http://www.w3.org/1999/xlink\" version=\"1.1\" baseProfile=\"full\" xml:space=\"preserve\" width=\"200px\" height=\"200px\" viewBox=\"0 0 200 200\">\n",
       "<!-- END OF HEADER -->\n",
       "<rect style=\"opacity:1.0;fill:#FFFFFF;stroke:none\" width=\"200.0\" height=\"200.0\" x=\"0.0\" y=\"0.0\"> </rect>\n",
       "<path class=\"bond-0 atom-0 atom-1\" d=\"M 31.6,84.9 L 67.8,93.3 L 70.6,102.7 L 29.7,93.1 Z\" style=\"fill:#FF7F7F;fill-rule:evenodd;fill-opacity:1;stroke:#FF7F7F;stroke-width:0.0px;stroke-linecap:butt;stroke-linejoin:miter;stroke-opacity:1;\"/>\n",
       "<path class=\"bond-2 atom-1 atom-3\" d=\"M 93.2,66.2 L 99.4,72.0 L 70.6,102.7 L 67.8,93.3 Z\" style=\"fill:#FF7F7F;fill-rule:evenodd;fill-opacity:1;stroke:#FF7F7F;stroke-width:0.0px;stroke-linecap:butt;stroke-linejoin:miter;stroke-opacity:1;\"/>\n",
       "<ellipse cx=\"25.1\" cy=\"89.1\" rx=\"15.1\" ry=\"8.1\" class=\"atom-0\" style=\"fill:#FF7F7F;fill-rule:evenodd;stroke:#FF7F7F;stroke-width:1.0px;stroke-linecap:butt;stroke-linejoin:miter;stroke-opacity:1\"/>\n",
       "<ellipse cx=\"69.2\" cy=\"98.0\" rx=\"7.9\" ry=\"7.9\" class=\"atom-1\" style=\"fill:#FF7F7F;fill-rule:evenodd;stroke:#FF7F7F;stroke-width:1.0px;stroke-linecap:butt;stroke-linejoin:miter;stroke-opacity:1\"/>\n",
       "<ellipse cx=\"96.3\" cy=\"69.1\" rx=\"7.9\" ry=\"7.9\" class=\"atom-3\" style=\"fill:#FF7F7F;fill-rule:evenodd;stroke:#FF7F7F;stroke-width:1.0px;stroke-linecap:butt;stroke-linejoin:miter;stroke-opacity:1\"/>\n",
       "<path class=\"bond-0 atom-0 atom-1\" d=\"M 37.1,90.5 L 53.1,94.2\" style=\"fill:none;fill-rule:evenodd;stroke:#FF0000;stroke-width:2.0px;stroke-linecap:butt;stroke-linejoin:miter;stroke-opacity:1\"/>\n",
       "<path class=\"bond-0 atom-0 atom-1\" d=\"M 53.1,94.2 L 69.2,98.0\" style=\"fill:none;fill-rule:evenodd;stroke:#000000;stroke-width:2.0px;stroke-linecap:butt;stroke-linejoin:miter;stroke-opacity:1\"/>\n",
       "<path class=\"bond-1 atom-1 atom-2\" d=\"M 65.9,97.2 L 70.8,113.5\" style=\"fill:none;fill-rule:evenodd;stroke:#000000;stroke-width:2.0px;stroke-linecap:butt;stroke-linejoin:miter;stroke-opacity:1\"/>\n",
       "<path class=\"bond-1 atom-1 atom-2\" d=\"M 70.8,113.5 L 75.7,129.8\" style=\"fill:none;fill-rule:evenodd;stroke:#FF0000;stroke-width:2.0px;stroke-linecap:butt;stroke-linejoin:miter;stroke-opacity:1\"/>\n",
       "<path class=\"bond-1 atom-1 atom-2\" d=\"M 71.5,95.5 L 76.5,111.8\" style=\"fill:none;fill-rule:evenodd;stroke:#000000;stroke-width:2.0px;stroke-linecap:butt;stroke-linejoin:miter;stroke-opacity:1\"/>\n",
       "<path class=\"bond-1 atom-1 atom-2\" d=\"M 76.5,111.8 L 81.4,128.1\" style=\"fill:none;fill-rule:evenodd;stroke:#FF0000;stroke-width:2.0px;stroke-linecap:butt;stroke-linejoin:miter;stroke-opacity:1\"/>\n",
       "<path class=\"bond-2 atom-1 atom-3\" d=\"M 69.2,98.0 L 96.3,69.1\" style=\"fill:none;fill-rule:evenodd;stroke:#000000;stroke-width:2.0px;stroke-linecap:butt;stroke-linejoin:miter;stroke-opacity:1\"/>\n",
       "<path class=\"bond-3 atom-3 atom-4\" d=\"M 96.3,69.1 L 134.8,78.1\" style=\"fill:none;fill-rule:evenodd;stroke:#000000;stroke-width:2.0px;stroke-linecap:butt;stroke-linejoin:miter;stroke-opacity:1\"/>\n",
       "<path class=\"bond-4 atom-4 atom-5\" d=\"M 134.8,78.1 L 161.9,49.3\" style=\"fill:none;fill-rule:evenodd;stroke:#000000;stroke-width:2.0px;stroke-linecap:butt;stroke-linejoin:miter;stroke-opacity:1\"/>\n",
       "<path class=\"bond-5 atom-4 atom-6\" d=\"M 134.8,78.1 L 146.3,116.0\" style=\"fill:none;fill-rule:evenodd;stroke:#000000;stroke-width:2.0px;stroke-linecap:butt;stroke-linejoin:miter;stroke-opacity:1\"/>\n",
       "<path class=\"bond-6 atom-6 atom-7\" d=\"M 144.0,118.5 L 160.8,122.5\" style=\"fill:none;fill-rule:evenodd;stroke:#000000;stroke-width:2.0px;stroke-linecap:butt;stroke-linejoin:miter;stroke-opacity:1\"/>\n",
       "<path class=\"bond-6 atom-6 atom-7\" d=\"M 160.8,122.5 L 177.7,126.4\" style=\"fill:none;fill-rule:evenodd;stroke:#FF0000;stroke-width:2.0px;stroke-linecap:butt;stroke-linejoin:miter;stroke-opacity:1\"/>\n",
       "<path class=\"bond-6 atom-6 atom-7\" d=\"M 145.3,112.7 L 162.2,116.7\" style=\"fill:none;fill-rule:evenodd;stroke:#000000;stroke-width:2.0px;stroke-linecap:butt;stroke-linejoin:miter;stroke-opacity:1\"/>\n",
       "<path class=\"bond-6 atom-6 atom-7\" d=\"M 162.2,116.7 L 179.1,120.6\" style=\"fill:none;fill-rule:evenodd;stroke:#FF0000;stroke-width:2.0px;stroke-linecap:butt;stroke-linejoin:miter;stroke-opacity:1\"/>\n",
       "<path class=\"bond-7 atom-6 atom-8\" d=\"M 146.3,116.0 L 136.0,127.0\" style=\"fill:none;fill-rule:evenodd;stroke:#000000;stroke-width:2.0px;stroke-linecap:butt;stroke-linejoin:miter;stroke-opacity:1\"/>\n",
       "<path class=\"bond-7 atom-6 atom-8\" d=\"M 136.0,127.0 L 125.7,138.0\" style=\"fill:none;fill-rule:evenodd;stroke:#FF0000;stroke-width:2.0px;stroke-linecap:butt;stroke-linejoin:miter;stroke-opacity:1\"/>\n",
       "<path d=\"M 68.4,97.8 L 69.2,98.0 L 70.6,96.5\" style=\"fill:none;stroke:#000000;stroke-width:2.0px;stroke-linecap:butt;stroke-linejoin:miter;stroke-opacity:1;\"/>\n",
       "<path d=\"M 94.9,70.6 L 96.3,69.1 L 98.2,69.6\" style=\"fill:none;stroke:#000000;stroke-width:2.0px;stroke-linecap:butt;stroke-linejoin:miter;stroke-opacity:1;\"/>\n",
       "<path d=\"M 145.7,114.1 L 146.3,116.0 L 145.8,116.6\" style=\"fill:none;stroke:#000000;stroke-width:2.0px;stroke-linecap:butt;stroke-linejoin:miter;stroke-opacity:1;\"/>\n",
       "<path class=\"atom-0\" d=\"M 14.4 83.4 L 15.9 83.4 L 15.9 88.2 L 21.7 88.2 L 21.7 83.4 L 23.2 83.4 L 23.2 94.6 L 21.7 94.6 L 21.7 89.5 L 15.9 89.5 L 15.9 94.6 L 14.4 94.6 L 14.4 83.4 \" fill=\"#FF0000\"/>\n",
       "<path class=\"atom-0\" d=\"M 25.5 89.0 Q 25.5 86.3, 26.8 84.8 Q 28.2 83.3, 30.6 83.3 Q 33.1 83.3, 34.5 84.8 Q 35.8 86.3, 35.8 89.0 Q 35.8 91.7, 34.4 93.3 Q 33.1 94.8, 30.6 94.8 Q 28.2 94.8, 26.8 93.3 Q 25.5 91.7, 25.5 89.0 M 30.6 93.6 Q 32.4 93.6, 33.3 92.4 Q 34.2 91.3, 34.2 89.0 Q 34.2 86.8, 33.3 85.7 Q 32.4 84.6, 30.6 84.6 Q 28.9 84.6, 28.0 85.7 Q 27.1 86.8, 27.1 89.0 Q 27.1 91.3, 28.0 92.4 Q 28.9 93.6, 30.6 93.6 \" fill=\"#FF0000\"/>\n",
       "<path class=\"atom-2\" d=\"M 75.5 135.9 Q 75.5 133.2, 76.8 131.7 Q 78.2 130.2, 80.7 130.2 Q 83.2 130.2, 84.5 131.7 Q 85.8 133.2, 85.8 135.9 Q 85.8 138.6, 84.5 140.2 Q 83.1 141.7, 80.7 141.7 Q 78.2 141.7, 76.8 140.2 Q 75.5 138.7, 75.5 135.9 M 80.7 140.5 Q 82.4 140.5, 83.3 139.3 Q 84.2 138.2, 84.2 135.9 Q 84.2 133.7, 83.3 132.6 Q 82.4 131.5, 80.7 131.5 Q 79.0 131.5, 78.0 132.6 Q 77.1 133.7, 77.1 135.9 Q 77.1 138.2, 78.0 139.3 Q 79.0 140.5, 80.7 140.5 \" fill=\"#FF0000\"/>\n",
       "<path class=\"atom-7\" d=\"M 179.7 125.1 Q 179.7 122.4, 181.0 120.9 Q 182.4 119.4, 184.9 119.4 Q 187.3 119.4, 188.7 120.9 Q 190.0 122.4, 190.0 125.1 Q 190.0 127.8, 188.7 129.4 Q 187.3 130.9, 184.9 130.9 Q 182.4 130.9, 181.0 129.4 Q 179.7 127.8, 179.7 125.1 M 184.9 129.6 Q 186.6 129.6, 187.5 128.5 Q 188.4 127.3, 188.4 125.1 Q 188.4 122.9, 187.5 121.8 Q 186.6 120.6, 184.9 120.6 Q 183.1 120.6, 182.2 121.7 Q 181.3 122.9, 181.3 125.1 Q 181.3 127.3, 182.2 128.5 Q 183.1 129.6, 184.9 129.6 \" fill=\"#FF0000\"/>\n",
       "<path class=\"atom-8\" d=\"M 103.0 139.4 L 104.5 139.4 L 104.5 144.1 L 110.2 144.1 L 110.2 139.4 L 111.8 139.4 L 111.8 150.6 L 110.2 150.6 L 110.2 145.4 L 104.5 145.4 L 104.5 150.6 L 103.0 150.6 L 103.0 139.4 \" fill=\"#FF0000\"/>\n",
       "<path class=\"atom-8\" d=\"M 114.1 144.9 Q 114.1 142.2, 115.4 140.7 Q 116.7 139.2, 119.2 139.2 Q 121.7 139.2, 123.0 140.7 Q 124.4 142.2, 124.4 144.9 Q 124.4 147.7, 123.0 149.2 Q 121.7 150.7, 119.2 150.7 Q 116.7 150.7, 115.4 149.2 Q 114.1 147.7, 114.1 144.9 M 119.2 149.5 Q 120.9 149.5, 121.8 148.3 Q 122.8 147.2, 122.8 144.9 Q 122.8 142.7, 121.8 141.6 Q 120.9 140.5, 119.2 140.5 Q 117.5 140.5, 116.6 141.6 Q 115.7 142.7, 115.7 144.9 Q 115.7 147.2, 116.6 148.3 Q 117.5 149.5, 119.2 149.5 \" fill=\"#FF0000\"/>\n",
       "</svg>"
      ],
      "text/plain": [
       "<IPython.core.display.SVG object>"
      ]
     },
     "metadata": {},
     "output_type": "display_data"
    }
   ],
   "source": [
    "for smi, mol, rc in zip(smiles, mols, rcs):\n",
    "    print(smi)\n",
    "    display(SVG(draw_molecule(mol, hilite_atoms=rc)))"
   ]
  },
  {
   "cell_type": "code",
   "execution_count": 7,
   "metadata": {},
   "outputs": [],
   "source": [
    "patt = '[#6:1]-[#6:2]-[#8:3]'\n",
    "\n",
    "rc_sims = {}\n",
    "for i in range(len(smiles) - 1):\n",
    "    for j in range(i + 1, len(smiles)):\n",
    "        key = (i, j)\n",
    "        arg1 = (mols[i], rcs[i])\n",
    "        arg2 = (mols[j], rcs[j])\n",
    "        sim = calc_molecule_rcmcs(arg1, arg2, patt)\n",
    "        rc_sims[key] = sim"
   ]
  },
  {
   "cell_type": "code",
   "execution_count": 8,
   "metadata": {},
   "outputs": [
    {
     "data": {
      "text/plain": [
       "{(0, 1): 0.8,\n",
       " (0, 2): 0.8888888888888888,\n",
       " (0, 3): 0.8888888888888888,\n",
       " (0, 4): 0.8888888888888888,\n",
       " (1, 2): 0.9,\n",
       " (1, 3): 0.8,\n",
       " (1, 4): 0.8,\n",
       " (2, 3): 0.8888888888888888,\n",
       " (2, 4): 0.8888888888888888,\n",
       " (3, 4): 0.8888888888888888}"
      ]
     },
     "execution_count": 8,
     "metadata": {},
     "output_type": "execute_result"
    }
   ],
   "source": [
    "rc_sims"
   ]
  },
  {
   "cell_type": "code",
   "execution_count": 31,
   "metadata": {},
   "outputs": [],
   "source": [
    "radius = 3\n",
    "length = 2**12\n",
    "mfper = MorganFingerprinter(radius=radius, length=length)\n",
    "rc_dist_ub = 0\n",
    "\n",
    "mols = [Chem.MolFromSmiles(smi) for smi in smiles]\n",
    "\n",
    "M = [] # Trad morgan\n",
    "L = [] # w/ location info\n",
    "R = [] # w/ loc info and rooted at peri-rc substructure\n",
    "\n",
    "query_M = []\n",
    "query_L = []\n",
    "query_R = []\n",
    "\n",
    "for smi, mol, rc in zip(smiles, mols, rcs):\n",
    "    query_M.append(mfper.fingerprint(mol))\n",
    "    query_L.append(mfper.fingerprint(mol, reaction_center=rc))\n",
    "    query_R.append(mfper.fingerprint(mol, reaction_center=rc, rc_dist_ub=rc_dist_ub))\n",
    "\n",
    "for key, rxn in decarb.items():\n",
    "    rc = rxn['reaction_center'][0]\n",
    "    smi = rxn['smarts'].split('>>')[0]\n",
    "    mol = Chem.MolFromSmiles(smi)\n",
    "    M.append(mfper.fingerprint(mol))\n",
    "    L.append(mfper.fingerprint(mol, reaction_center=rc))\n",
    "    R.append(mfper.fingerprint(mol, reaction_center=rc, rc_dist_ub=rc_dist_ub))\n",
    "\n",
    "M = np.vstack(M)\n",
    "L = np.vstack(L)\n",
    "R = np.vstack(R)\n",
    "query_M = np.vstack(query_M)\n",
    "query_L = np.vstack(query_L)\n",
    "query_R = np.vstack(query_R)\n",
    "\n",
    "tmp = []\n",
    "for q_mat, bank_mat in zip([query_M, query_L, query_R], [M, L, R]):\n",
    "    mat = np.vstack((q_mat, bank_mat))\n",
    "    c = mat.sum(axis=1) # Cardinality\n",
    "    D = np.matmul(mat, mat.T)\n",
    "    T = D / (c.reshape(1, -1) + c.reshape(-1, 1) - D) # Tanimoto similarity\n",
    "    tmp.append(T[:5, 5:])\n",
    "\n",
    "Sm, Sl, Sr = tmp\n",
    "\n",
    "patt = '[#6:1]-[#6:2]-[#8:3]'\n",
    "\n",
    "Sc = np.zeros_like(Sm) # RCMCS sim\n",
    "for i, q_smi in enumerate(smiles):\n",
    "    for j, (key, rxn) in enumerate(decarb.items()):\n",
    "        bank_rc = rxn['reaction_center'][0]\n",
    "        bank_smi = rxn['smarts'].split('>>')[0]\n",
    "        bank_mol = Chem.MolFromSmiles(bank_smi)\n",
    "        q_mol = Chem.MolFromSmiles(q_smi)\n",
    "        arg1 = (q_mol, rcs[i])\n",
    "        arg2 = (bank_mol, bank_rc)\n",
    "        sim = calc_molecule_rcmcs(arg1, arg2, patt)\n",
    "        Sc[i, j] = sim"
   ]
  },
  {
   "cell_type": "code",
   "execution_count": 32,
   "metadata": {},
   "outputs": [
    {
     "data": {
      "application/vnd.jupyter.widget-view+json": {
       "model_id": "aa415379e0424e73bd3e6f8a50653a30",
       "version_major": 2,
       "version_minor": 0
      },
      "text/plain": [
       "interactive(children=(Dropdown(description='query', options=(np.int64(0), np.int64(1), np.int64(2), np.int64(3…"
      ]
     },
     "metadata": {},
     "output_type": "display_data"
    }
   ],
   "source": [
    "opts = np.arange(Sm.shape[0])\n",
    "sim_mats = {\n",
    "    'traditional': Sm,\n",
    "    'location': Sl,\n",
    "    'location_rooted': Sr,\n",
    "    'rcmcs': Sc\n",
    "}\n",
    "stopts = list(sim_mats.keys())\n",
    "\n",
    "@interact\n",
    "def rank_by_one(\n",
    "    query = widgets.Dropdown(value=opts[0], options=opts),\n",
    "    sim_type = widgets.Dropdown(value=stopts[0], options=stopts),\n",
    "    topk: int = 10\n",
    "):    \n",
    "\n",
    "    bank_keys = list(decarb.keys())\n",
    "    sim_row = sim_mats[sim_type][query, :]\n",
    "    srt_idxs = np.argsort(sim_row)[::-1]\n",
    "\n",
    "    print(\"Query\")\n",
    "    display(SVG(draw_molecule(mols[query], hilite_atoms=rcs[query], size=(400, 250))))\n",
    "    print('-' * 50)\n",
    "\n",
    "    for i, idx in enumerate(srt_idxs):\n",
    "        k = bank_keys[idx]\n",
    "        sim = sim_row[idx]\n",
    "        print(f\"ID: {k}\")\n",
    "        print(f\"Similarity score: {sim}\")\n",
    "        rxn = decarb[k]\n",
    "        rc = rxn['reaction_center'][0]\n",
    "        smi = rxn['smarts'].split('>>')[0]\n",
    "        display(SVG(draw_molecule(smi, hilite_atoms=rc, size=(300, 200))))\n",
    "\n",
    "        if i > topk:\n",
    "            break"
   ]
  },
  {
   "cell_type": "code",
   "execution_count": 29,
   "metadata": {},
   "outputs": [
    {
     "data": {
      "text/plain": [
       "array([1.        , 0.46666667, 0.46666667, 0.46153846, 0.44444444,\n",
       "       0.4       , 0.36363636, 0.35294118, 0.35294118, 0.34285714,\n",
       "       0.33333333, 0.32432432, 0.30769231, 0.30769231, 0.3       ,\n",
       "       0.29411765, 0.29411765, 0.29411765, 0.29268293, 0.28571429,\n",
       "       0.27906977, 0.26666667, 0.26086957, 0.23809524, 0.23529412,\n",
       "       0.225     , 0.22222222, 0.22222222, 0.22222222, 0.22222222,\n",
       "       0.21276596, 0.21276596, 0.21052632, 0.19512195, 0.19117647,\n",
       "       0.18461538, 0.18181818, 0.16666667, 0.16666667, 0.16666667,\n",
       "       0.16666667, 0.16666667, 0.16216216, 0.16129032, 0.16049383,\n",
       "       0.15555556, 0.15384615, 0.15      , 0.14814815, 0.14705882,\n",
       "       0.14705882, 0.14634146, 0.14285714, 0.14285714, 0.14      ,\n",
       "       0.13953488, 0.13636364, 0.13333333, 0.13333333, 0.13157895,\n",
       "       0.13157895, 0.13157895, 0.12820513, 0.12765957, 0.12195122,\n",
       "       0.11904762, 0.11627907, 0.11627907, 0.11538462, 0.11363636,\n",
       "       0.10526316, 0.1       , 0.0952381 , 0.09433962, 0.09259259,\n",
       "       0.09090909, 0.08695652, 0.08450704, 0.08333333, 0.07042254,\n",
       "       0.06849315, 0.05714286, 0.05357143, 0.05263158, 0.04635762,\n",
       "       0.03289474])"
      ]
     },
     "execution_count": 29,
     "metadata": {},
     "output_type": "execute_result"
    }
   ],
   "source": [
    "sim_row = sim_mats['location'][0, :]\n",
    "srt_idxs = np.argsort(sim_row)[::-1]\n",
    "sim_row[srt_idxs]"
   ]
  }
 ],
 "metadata": {
  "kernelspec": {
   "display_name": "cgr-ltW6jZuu-py3.12",
   "language": "python",
   "name": "python3"
  },
  "language_info": {
   "codemirror_mode": {
    "name": "ipython",
    "version": 3
   },
   "file_extension": ".py",
   "mimetype": "text/x-python",
   "name": "python",
   "nbconvert_exporter": "python",
   "pygments_lexer": "ipython3",
   "version": "3.12.7"
  }
 },
 "nbformat": 4,
 "nbformat_minor": 2
}
