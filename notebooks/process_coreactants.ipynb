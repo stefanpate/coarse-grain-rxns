{
 "cells": [
  {
   "cell_type": "code",
   "execution_count": 9,
   "id": "58e343dd",
   "metadata": {},
   "outputs": [],
   "source": [
    "from ergochemics.standardize import standardize_smiles, fast_tautomerize\n",
    "from itertools import product\n",
    "import pandas as pd\n",
    "from functools import partial"
   ]
  },
  {
   "cell_type": "code",
   "execution_count": 10,
   "id": "7625f42c",
   "metadata": {},
   "outputs": [],
   "source": [
    "out_path = \"../artifacts/coreactants\"\n",
    "in_path = \"../data/raw\""
   ]
  },
  {
   "cell_type": "code",
   "execution_count": 12,
   "id": "7df53df8",
   "metadata": {},
   "outputs": [
    {
     "name": "stderr",
     "output_type": "stream",
     "text": [
      "[15:57:46] WARNING: not removing hydrogen atom without neighbors\n",
      "[15:57:46] WARNING: not removing hydrogen atom without neighbors\n"
     ]
    }
   ],
   "source": [
    "fns = [\n",
    "    \"paired_coreactants_reference.tsv\",\n",
    "    \"unpaired_coreactants_reference.tsv\",\n",
    "]\n",
    "\n",
    "stdsmi = partial(standardize_smiles, quiet=True, neutralization_method='simple')\n",
    "\n",
    "for fn in fns:\n",
    "    df = pd.read_csv(f\"{in_path}/{fn}\", sep=\"\\t\")\n",
    "    expanded_coreactants = []\n",
    "\n",
    "    if fn.startswith(\"paired_\"):\n",
    "        for i, row in df.iterrows():\n",
    "            coreactant_1 = stdsmi(row[\"Smiles 1\"])\n",
    "            coreactant_2 = stdsmi(row[\"Smiles 2\"])\n",
    "            taut_combos = product(\n",
    "                fast_tautomerize(coreactant_1),\n",
    "                fast_tautomerize(coreactant_2),\n",
    "            )\n",
    "            for combo in taut_combos:\n",
    "                expanded_coreactants.append(\n",
    "                    [\n",
    "                        row[\"Class 1\"],\n",
    "                        row[\"Class 2\"],\n",
    "                        combo[0],\n",
    "                        combo[1],\n",
    "                        row[\"Name 1\"],\n",
    "                        row[\"Name 2\"],\n",
    "                    ]\n",
    "                )\n",
    "        cols = [\"class_1\", \"class_2\", \"smiles_1\", \"smiles_2\", \"name_1\", \"name_2\"]\n",
    "        new = pd.DataFrame(\n",
    "            expanded_coreactants, columns=cols\n",
    "        )\n",
    "    elif fn.startswith(\"unpaired_\"):\n",
    "        for i, row in df.iterrows():\n",
    "            coreactant = stdsmi(row[\"Smiles\"])\n",
    "            taut_combos = fast_tautomerize(coreactant)\n",
    "            for combo in taut_combos:\n",
    "                expanded_coreactants.append(\n",
    "                    [\n",
    "                        row[\"Class\"],\n",
    "                        combo[0],\n",
    "                        row[\"Name\"],\n",
    "                    ]\n",
    "                )\n",
    "        cols = [\"class\", \"smiles\", \"name\"]\n",
    "        new = pd.DataFrame(\n",
    "            expanded_coreactants, columns=cols\n",
    "        )\n",
    "    \n",
    "    new.to_csv(f\"{out_path}/{fn.split('_')[0]}.tsv\", sep=\"\\t\", index=False)\n"
   ]
  }
 ],
 "metadata": {
  "kernelspec": {
   "display_name": ".venv",
   "language": "python",
   "name": "python3"
  },
  "language_info": {
   "codemirror_mode": {
    "name": "ipython",
    "version": 3
   },
   "file_extension": ".py",
   "mimetype": "text/x-python",
   "name": "python",
   "nbconvert_exporter": "python",
   "pygments_lexer": "ipython3",
   "version": "3.13.0"
  }
 },
 "nbformat": 4,
 "nbformat_minor": 5
}
