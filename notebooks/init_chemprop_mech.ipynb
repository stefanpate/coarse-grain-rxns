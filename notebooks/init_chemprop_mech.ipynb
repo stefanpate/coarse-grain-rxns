{
 "cells": [
  {
   "cell_type": "code",
   "execution_count": 1,
   "id": "e71e941d",
   "metadata": {},
   "outputs": [],
   "source": [
    "from hydra import compose, initialize\n",
    "from pathlib import Path\n",
    "from chemprop import data, featurizers, models\n",
    "from chemprop.nn.message_passing import BondMessagePassing\n",
    "import torch\n",
    "from lightning import pytorch as pl\n",
    "import pandas as pd\n",
    "import numpy as np\n",
    "from ergochemics.mapping import rc_to_nest\n",
    "from rdkit import Chem\n",
    "\n",
    "with initialize(version_base=None, config_path=\"../configs/filepaths\"):\n",
    "    filepaths = compose(config_name=\"filepaths\")\n"
   ]
  },
  {
   "cell_type": "code",
   "execution_count": 2,
   "id": "554f652d",
   "metadata": {},
   "outputs": [
    {
     "data": {
      "text/html": [
       "<div>\n",
       "<style scoped>\n",
       "    .dataframe tbody tr th:only-of-type {\n",
       "        vertical-align: middle;\n",
       "    }\n",
       "\n",
       "    .dataframe tbody tr th {\n",
       "        vertical-align: top;\n",
       "    }\n",
       "\n",
       "    .dataframe thead th {\n",
       "        text-align: right;\n",
       "    }\n",
       "</style>\n",
       "<table border=\"1\" class=\"dataframe\">\n",
       "  <thead>\n",
       "    <tr style=\"text-align: right;\">\n",
       "      <th></th>\n",
       "      <th>rxn_id</th>\n",
       "      <th>smarts</th>\n",
       "      <th>am_smarts</th>\n",
       "      <th>rule</th>\n",
       "      <th>reaction_center</th>\n",
       "      <th>rule_id</th>\n",
       "    </tr>\n",
       "  </thead>\n",
       "  <tbody>\n",
       "    <tr>\n",
       "      <th>0</th>\n",
       "      <td>1</td>\n",
       "      <td>CC(O)C(O)C(O)C(O)C(=O)O&gt;&gt;O.CC(O)C(O)CC(=O)C(=O)O</td>\n",
       "      <td>[CH3:11][CH:9]([OH:12])[CH:8]([OH:10])[CH:7]([...</td>\n",
       "      <td>[O&amp;D1&amp;v2&amp;H0&amp;0*&amp;!R:1]=[C&amp;D3&amp;v4&amp;H0&amp;0*&amp;!R&amp;z2:2](-...</td>\n",
       "      <td>(((10, 9, 11, 7, 8, 5, 6),), ((0,), (0, 1, 2, ...</td>\n",
       "      <td>841</td>\n",
       "    </tr>\n",
       "    <tr>\n",
       "      <th>1</th>\n",
       "      <td>10</td>\n",
       "      <td>O=P(O)(O)OP(=O)(O)O.CCCCCCCCCCCC(=O)OP(=O)(O)O...</td>\n",
       "      <td>[O:10]=[P:1]([OH:2])([OH:11])[O:3][P:4](=[O:5]...</td>\n",
       "      <td>[*:1](~[O&amp;D1&amp;v2&amp;H1&amp;0*&amp;!R:2])~[*:3]~[*:4](~[O&amp;D...</td>\n",
       "      <td>(((1, 2, 4, 5, 6, 7, 8), (14, 16, 13)), ((0, 1...</td>\n",
       "      <td>632</td>\n",
       "    </tr>\n",
       "    <tr>\n",
       "      <th>2</th>\n",
       "      <td>100</td>\n",
       "      <td>*C(=O)OCC(COP(=O)(O)OC1C(O)C(OP(=O)(O)O)C(O)C(...</td>\n",
       "      <td>[*:30][C:27](=[O:31])[O:25][CH2:23][CH:22]([CH...</td>\n",
       "      <td>[*:1](~[O&amp;D2&amp;v2&amp;H0&amp;0*&amp;!R:2]-[P&amp;D4&amp;v5&amp;H0&amp;0*&amp;!R:...</td>\n",
       "      <td>(((15, 16, 17, 19, 13, 14), (0,)), ((0, 1, 2, ...</td>\n",
       "      <td>813</td>\n",
       "    </tr>\n",
       "    <tr>\n",
       "      <th>3</th>\n",
       "      <td>10001</td>\n",
       "      <td>Nc1c(NCC(O)C(O)C(O)CO)[nH]c(=O)[nH]c1=O.Cc1cc2...</td>\n",
       "      <td>[NH2:25][c:26]1[c:27]([NH:29][CH2:36][CH:37]([...</td>\n",
       "      <td>[N&amp;D1&amp;v3&amp;H2&amp;0*&amp;!R:1]-[c&amp;D3&amp;v4&amp;H0&amp;0*&amp;R&amp;z1:2]:[c...</td>\n",
       "      <td>(((0, 1, 2, 3, 13), (1, 2, 3, 4, 5, 12, 11, 9,...</td>\n",
       "      <td>338</td>\n",
       "    </tr>\n",
       "    <tr>\n",
       "      <th>4</th>\n",
       "      <td>10008</td>\n",
       "      <td>O.O=[N+]([O-])c1ccc(OP(=O)(O)O)cc1&gt;&gt;O=P(O)(O)O...</td>\n",
       "      <td>[OH2:5].[O:14]=[N+:13]([O-:15])[c:12]1[cH:10][...</td>\n",
       "      <td>[O&amp;D0&amp;v2&amp;H2&amp;0*&amp;!R:1].[O&amp;D2&amp;v2&amp;H0&amp;0*&amp;!R:2]-[P&amp;D...</td>\n",
       "      <td>(((0,), (7, 8, 9, 10, 11)), ((0, 1, 2, 3, 4), ...</td>\n",
       "      <td>585</td>\n",
       "    </tr>\n",
       "  </tbody>\n",
       "</table>\n",
       "</div>"
      ],
      "text/plain": [
       "  rxn_id                                             smarts  \\\n",
       "0      1   CC(O)C(O)C(O)C(O)C(=O)O>>O.CC(O)C(O)CC(=O)C(=O)O   \n",
       "1     10  O=P(O)(O)OP(=O)(O)O.CCCCCCCCCCCC(=O)OP(=O)(O)O...   \n",
       "2    100  *C(=O)OCC(COP(=O)(O)OC1C(O)C(OP(=O)(O)O)C(O)C(...   \n",
       "3  10001  Nc1c(NCC(O)C(O)C(O)CO)[nH]c(=O)[nH]c1=O.Cc1cc2...   \n",
       "4  10008  O.O=[N+]([O-])c1ccc(OP(=O)(O)O)cc1>>O=P(O)(O)O...   \n",
       "\n",
       "                                           am_smarts  \\\n",
       "0  [CH3:11][CH:9]([OH:12])[CH:8]([OH:10])[CH:7]([...   \n",
       "1  [O:10]=[P:1]([OH:2])([OH:11])[O:3][P:4](=[O:5]...   \n",
       "2  [*:30][C:27](=[O:31])[O:25][CH2:23][CH:22]([CH...   \n",
       "3  [NH2:25][c:26]1[c:27]([NH:29][CH2:36][CH:37]([...   \n",
       "4  [OH2:5].[O:14]=[N+:13]([O-:15])[c:12]1[cH:10][...   \n",
       "\n",
       "                                                rule  \\\n",
       "0  [O&D1&v2&H0&0*&!R:1]=[C&D3&v4&H0&0*&!R&z2:2](-...   \n",
       "1  [*:1](~[O&D1&v2&H1&0*&!R:2])~[*:3]~[*:4](~[O&D...   \n",
       "2  [*:1](~[O&D2&v2&H0&0*&!R:2]-[P&D4&v5&H0&0*&!R:...   \n",
       "3  [N&D1&v3&H2&0*&!R:1]-[c&D3&v4&H0&0*&R&z1:2]:[c...   \n",
       "4  [O&D0&v2&H2&0*&!R:1].[O&D2&v2&H0&0*&!R:2]-[P&D...   \n",
       "\n",
       "                                     reaction_center  rule_id  \n",
       "0  (((10, 9, 11, 7, 8, 5, 6),), ((0,), (0, 1, 2, ...      841  \n",
       "1  (((1, 2, 4, 5, 6, 7, 8), (14, 16, 13)), ((0, 1...      632  \n",
       "2  (((15, 16, 17, 19, 13, 14), (0,)), ((0, 1, 2, ...      813  \n",
       "3  (((0, 1, 2, 3, 13), (1, 2, 3, 4, 5, 12, 11, 9,...      338  \n",
       "4  (((0,), (7, 8, 9, 10, 11)), ((0, 1, 2, 3, 4), ...      585  "
      ]
     },
     "execution_count": 2,
     "metadata": {},
     "output_type": "execute_result"
    }
   ],
   "source": [
    "df = pd.read_parquet(\n",
    "    Path(filepaths.raw_data) / \"mapped_sprhea_240310_v3_mapped_no_subunits_x_mechanistic_rules.parquet\"\n",
    ")\n",
    "df[\"reaction_center\"] = df[\"reaction_center\"].apply(rc_to_nest)\n",
    "df.head()"
   ]
  },
  {
   "cell_type": "code",
   "execution_count": 11,
   "id": "1c32299f",
   "metadata": {},
   "outputs": [
    {
     "data": {
      "text/plain": [
       "['[CH3:11][CH:9]([OH:12])[CH:8]([OH:10])[CH:7]([OH:1])[CH:5]([OH:6])[C:3](=[O:4])[OH:2]>>[OH2:1].[CH3:11][CH:9]([OH:12])[CH:8]([OH:10])[CH2:7][C:5](=[O:6])[C:3](=[O:2])[OH:4]',\n",
       " '[O:10]=[P:1]([OH:2])([OH:11])[O:3][P:4](=[O:5])([OH:6])[OH:7].[CH3:45][CH2:44][CH2:43][CH2:42][CH2:41][CH2:40][CH2:39][CH2:38][CH2:37][CH2:36][CH2:34][C:33](=[O:35])[O:32][P:8](=[O:12])([OH:9])[O:13][CH2:14][CH:15]1[O:16][CH:18]([n:21]2[cH:23][n:25][c:27]3[c:29]([NH2:31])[n:30][cH:28][n:26][c:24]32)[CH:19]([OH:22])[CH:17]1[OH:20]>>[NH2:31][c:29]1[n:30][cH:28][n:26][c:24]2[c:27]1[n:25][cH:23][n:21]2[CH:18]1[O:16][CH:15]([CH2:14][O:13][P:8](=[O:12])([OH:9])[O:7][P:4](=[O:5])([OH:6])[O:3][P:1](=[O:10])([OH:2])[OH:11])[CH:17]([OH:20])[CH:19]1[OH:22].[CH3:45][CH2:44][CH2:43][CH2:42][CH2:41][CH2:40][CH2:39][CH2:38][CH2:37][CH2:36][CH2:34][C:33](=[O:35])[OH:32]',\n",
       " '[*:30][C:27](=[O:31])[O:25][CH2:23][CH:22]([CH2:21][O:18][P:17](=[O:19])([OH:20])[O:16][CH:12]1[CH:3]([OH:4])[CH:1]([O:2][P:32](=[O:35])([OH:33])[OH:36])[CH:5]([OH:6])[CH:7]([O:8][P:10](=[O:13])([OH:14])[OH:15])[CH:9]1[OH:11])[O:24][C:26]([*:28])=[O:29].[OH2:34]>>[*:30][C:27](=[O:31])[O:25][CH2:23][CH:22]([CH2:21][O:18][P:17](=[O:19])([OH:20])[O:16][CH:12]1[CH:3]([OH:4])[CH:1]([OH:2])[CH:5]([OH:6])[CH:7]([O:8][P:10](=[O:13])([OH:14])[OH:15])[CH:9]1[OH:11])[O:24][C:26]([*:28])=[O:29].[O:35]=[P:32]([OH:33])([OH:34])[OH:36]',\n",
       " '[NH2:25][c:26]1[c:27]([NH:29][CH2:36][CH:37]([OH:38])[CH:39]([OH:40])[CH:41]([OH:42])[CH2:43][OH:44])[nH:28][c:34](=[O:35])[nH:32][c:31]1=[O:33].[CH3:45][c:30]1[cH:1][c:2]2[n:3][c:4]3[c:11](=[O:12])[nH:13][c:7](=[O:8])[n:6][c:5]-3[n:14]([CH2:15][CH:16]([OH:17])[CH:18]([OH:19])[CH:20]([OH:21])[CH2:22][OH:23])[c:9]2[cH:10][c:24]1[CH3:46]>>[CH3:1][c:2]1[n:3][c:4]2[c:11](=[O:12])[nH:13][c:7](=[O:8])[n:6][c:5]-2[n:14]([CH2:15][CH:16]([OH:17])[CH:18]([OH:19])[CH:20]([OH:21])[CH2:22][OH:23])[c:9]1[CH3:10].[CH3:46][c:24]1[n:25][c:26]2[c:31](=[O:33])[nH:32][c:34](=[O:35])[n:28][c:27]-2[n:29]([CH2:36][CH:37]([OH:38])[CH:39]([OH:40])[CH:41]([OH:42])[CH2:43][OH:44])[c:30]1[CH3:45]',\n",
       " '[OH2:5].[O:14]=[N+:13]([O-:15])[c:12]1[cH:10][cH:8][c:7]([O:6][P:2](=[O:4])([OH:3])[OH:1])[cH:9][cH:11]1>>[O:1]=[P:2]([OH:3])([OH:4])[OH:5].[O:14]=[N+:13]([O-:15])[c:12]1[cH:10][cH:8][c:7]([OH:6])[cH:9][cH:11]1']"
      ]
     },
     "execution_count": 11,
     "metadata": {},
     "output_type": "execute_result"
    }
   ],
   "source": [
    "smis = df[\"am_smarts\"].tolist()\n",
    "smis[:5]"
   ]
  },
  {
   "cell_type": "code",
   "execution_count": 4,
   "id": "ce513714",
   "metadata": {},
   "outputs": [],
   "source": [
    "test_data = [data.ReactionDatapoint.from_smi(smi, y=np.random.rand(1, 3)) for smi in smis]\n",
    "featurizer = featurizers.CondensedGraphOfReactionFeaturizer(mode_=\"PROD_DIFF\", atom_featurizer=featurizers.MultiHotAtomFeaturizer.v2())\n",
    "test_dataset = data.ReactionDataset(test_data, featurizer=featurizer)\n",
    "test_dataloader = data.build_dataloader(test_dataset, shuffle=False)"
   ]
  },
  {
   "cell_type": "code",
   "execution_count": 5,
   "id": "490529e2",
   "metadata": {},
   "outputs": [
    {
     "data": {
      "text/plain": [
       "36"
      ]
     },
     "execution_count": 5,
     "metadata": {},
     "output_type": "execute_result"
    }
   ],
   "source": [
    "test_data[2].rct.GetNumAtoms()"
   ]
  },
  {
   "cell_type": "code",
   "execution_count": 6,
   "id": "b6418aac",
   "metadata": {},
   "outputs": [],
   "source": [
    "mp = BondMessagePassing(d_v=featurizer.atom_fdim, d_e=featurizer.bond_fdim)"
   ]
  },
  {
   "cell_type": "code",
   "execution_count": 7,
   "id": "bbc683ea",
   "metadata": {},
   "outputs": [
    {
     "data": {
      "text/plain": [
       "torch.Size([1110, 300])"
      ]
     },
     "execution_count": 7,
     "metadata": {},
     "output_type": "execute_result"
    }
   ],
   "source": [
    "Ha = mp(next(iter(test_dataloader)).bmg)\n",
    "Ha.shape"
   ]
  },
  {
   "cell_type": "code",
   "execution_count": 8,
   "id": "a6a168c8",
   "metadata": {},
   "outputs": [
    {
     "name": "stdout",
     "output_type": "stream",
     "text": [
      "(12, 106)\n",
      "[[0. 0. 0. 0. 0. 1. 0. 0. 0.]\n",
      " [0. 0. 0. 0. 0. 1. 0. 0. 0.]\n",
      " [0. 0. 0. 0. 0. 0. 0. 1. 0.]\n",
      " [0. 0. 0. 0. 0. 1. 0. 0. 0.]\n",
      " [0. 0. 0. 0. 0. 0. 0. 1. 0.]\n",
      " [0. 0. 0. 0. 0. 1. 0. 0. 0.]\n",
      " [0. 0. 0. 0. 0. 0. 0. 1. 0.]\n",
      " [0. 0. 0. 0. 0. 1. 0. 0. 0.]\n",
      " [0. 0. 0. 0. 0. 0. 0. 1. 0.]\n",
      " [0. 0. 0. 0. 0. 1. 0. 0. 0.]\n",
      " [0. 0. 0. 0. 0. 0. 0. 1. 0.]\n",
      " [0. 0. 0. 0. 0. 0. 0. 1. 0.]]\n"
     ]
    }
   ],
   "source": [
    "for elt in test_dataset:\n",
    "    print(elt.mg.V.shape)\n",
    "    print(elt.mg.V[:, :9])\n",
    "    break"
   ]
  },
  {
   "cell_type": "code",
   "execution_count": 9,
   "id": "2eb32a26",
   "metadata": {},
   "outputs": [],
   "source": [
    "for smi, elt in zip(smis, test_dataset):\n",
    "    mol = Chem.MolFromSmiles(smi.split(\">>\")[0])\n",
    "    cp_ans = np.nonzero(elt.mg.V[:, :38])[1] + 1\n",
    "    rd_ans = [a.GetAtomicNum() for a in mol.GetAtoms()]\n",
    "    amns = [a.GetAtomMapNum() for a in mol.GetAtoms()]\n",
    "\n",
    "    for c, r, am in zip(cp_ans, rd_ans, amns):\n",
    "        assert c == r or (c == 38) and (r == 0), f\"CP: {c}, RDKit: {r}, AM: {am} for SMILES: {smi}\""
   ]
  }
 ],
 "metadata": {
  "kernelspec": {
   "display_name": ".venv",
   "language": "python",
   "name": "python3"
  },
  "language_info": {
   "codemirror_mode": {
    "name": "ipython",
    "version": 3
   },
   "file_extension": ".py",
   "mimetype": "text/x-python",
   "name": "python",
   "nbconvert_exporter": "python",
   "pygments_lexer": "ipython3",
   "version": "3.13.0"
  }
 },
 "nbformat": 4,
 "nbformat_minor": 5
}
