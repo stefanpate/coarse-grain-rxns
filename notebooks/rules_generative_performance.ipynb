{
 "cells": [
  {
   "cell_type": "code",
   "execution_count": null,
   "id": "5e9e6c18",
   "metadata": {},
   "outputs": [],
   "source": [
    "from pathlib import Path\n",
    "import numpy as np\n",
    "import pandas as pd\n",
    "import matplotlib.pyplot as plt\n",
    "import matplotlib.colors\n",
    "from matplotlib.patches import Patch\n",
    "from hydra import initialize, compose\n",
    "from rdkit import Chem\n",
    "from ergochemics.draw import draw_reaction, draw_molecule\n",
    "from ergochemics.standardize import standardize_smiles\n",
    "from ipywidgets import interact\n",
    "import ipywidgets as widgets\n",
    "from IPython.display import SVG\n",
    "from minedatabase.pickaxe import Pickaxe\n",
    "\n",
    "with initialize(version_base=None, config_path=\"../configs/filepaths\"):\n",
    "    cfg = compose(config_name=\"filepaths\")"
   ]
  },
  {
   "cell_type": "code",
   "execution_count": null,
   "id": "05c2a053",
   "metadata": {},
   "outputs": [
    {
     "data": {
      "text/html": [
       "<div>\n",
       "<style scoped>\n",
       "    .dataframe tbody tr th:only-of-type {\n",
       "        vertical-align: middle;\n",
       "    }\n",
       "\n",
       "    .dataframe tbody tr th {\n",
       "        vertical-align: top;\n",
       "    }\n",
       "\n",
       "    .dataframe thead tr th {\n",
       "        text-align: left;\n",
       "    }\n",
       "</style>\n",
       "<table border=\"1\" class=\"dataframe\">\n",
       "  <thead>\n",
       "    <tr>\n",
       "      <th></th>\n",
       "      <th>expansion</th>\n",
       "      <th>gen</th>\n",
       "      <th colspan=\"2\" halign=\"left\">fan_out</th>\n",
       "    </tr>\n",
       "    <tr>\n",
       "      <th></th>\n",
       "      <th></th>\n",
       "      <th></th>\n",
       "      <th>mean</th>\n",
       "      <th>std</th>\n",
       "    </tr>\n",
       "  </thead>\n",
       "  <tbody>\n",
       "    <tr>\n",
       "      <th>0</th>\n",
       "      <td>2_steps_ccm_aa_rules_mechinformed_rules_w_core...</td>\n",
       "      <td>0</td>\n",
       "      <td>111.896552</td>\n",
       "      <td>194.829659</td>\n",
       "    </tr>\n",
       "    <tr>\n",
       "      <th>1</th>\n",
       "      <td>2_steps_ccm_aa_rules_mechinformed_rules_w_core...</td>\n",
       "      <td>1</td>\n",
       "      <td>26.923077</td>\n",
       "      <td>20.073932</td>\n",
       "    </tr>\n",
       "  </tbody>\n",
       "</table>\n",
       "</div>"
      ],
      "text/plain": [
       "                                           expansion gen     fan_out  \\\n",
       "                                                                mean   \n",
       "0  2_steps_ccm_aa_rules_mechinformed_rules_w_core...   0  111.896552   \n",
       "1  2_steps_ccm_aa_rules_mechinformed_rules_w_core...   1   26.923077   \n",
       "\n",
       "               \n",
       "          std  \n",
       "0  194.829659  \n",
       "1   20.073932  "
      ]
     },
     "execution_count": 289,
     "metadata": {},
     "output_type": "execute_result"
    }
   ],
   "source": [
    "expansion_name = \"2_steps_ccm_aa_aplusb_True\"\n",
    "cpd_df = pd.read_parquet(Path(cfg.processed_data) / f\"{expansion_name}_compound_metrics.parquet\")\n",
    "cpd_df = cpd_df.groupby([\"expansion\", \"gen\"]).agg({\"fan_out\": [\"mean\", \"std\"]}).reset_index()\n",
    "cpd_df.head(24)"
   ]
  },
  {
   "cell_type": "code",
   "execution_count": null,
   "id": "722ff37e",
   "metadata": {},
   "outputs": [
    {
     "data": {
      "text/html": [
       "<div>\n",
       "<style scoped>\n",
       "    .dataframe tbody tr th:only-of-type {\n",
       "        vertical-align: middle;\n",
       "    }\n",
       "\n",
       "    .dataframe tbody tr th {\n",
       "        vertical-align: top;\n",
       "    }\n",
       "\n",
       "    .dataframe thead th {\n",
       "        text-align: right;\n",
       "    }\n",
       "</style>\n",
       "<table border=\"1\" class=\"dataframe\">\n",
       "  <thead>\n",
       "    <tr style=\"text-align: right;\">\n",
       "      <th></th>\n",
       "      <th>smarts</th>\n",
       "      <th>dxgb_label</th>\n",
       "      <th>max_rxn_sim</th>\n",
       "      <th>nearest_analogue</th>\n",
       "      <th>nearest_analogue_id</th>\n",
       "      <th>id</th>\n",
       "      <th>rules</th>\n",
       "      <th>expansion</th>\n",
       "    </tr>\n",
       "  </thead>\n",
       "  <tbody>\n",
       "    <tr>\n",
       "      <th>0</th>\n",
       "      <td>O=c1ccn(C2OC(COP(=O)(O)OP(=O)(O)OC3OC(CO)C(O)C...</td>\n",
       "      <td>1</td>\n",
       "      <td>0.134802</td>\n",
       "      <td>NC(=O)C1=CN(C2OC(COP(=O)(O)OP(=O)(O)OCC3OC(n4c...</td>\n",
       "      <td>6848</td>\n",
       "      <td>Ra5466f30b2eff8d962354506782f3c774e2dbccfeabcc...</td>\n",
       "      <td>[813_1]</td>\n",
       "      <td>2_steps_ccm_aa_rules_mechinformed_rules_w_core...</td>\n",
       "    </tr>\n",
       "    <tr>\n",
       "      <th>1</th>\n",
       "      <td>COC(=O)CCC(=O)O.Nc1ncnc2c1ncn2C1OC(CSCCC(N)C(=...</td>\n",
       "      <td>1</td>\n",
       "      <td>0.159809</td>\n",
       "      <td>*C1C(COP(=O)(O)OC2C(COP(=O)(O)OC3C(COP(=O)(O)O...</td>\n",
       "      <td>378</td>\n",
       "      <td>R5c55dfe0b19ad6176370398dd4dafc2d961191a71de1b...</td>\n",
       "      <td>[602_0]</td>\n",
       "      <td>2_steps_ccm_aa_rules_mechinformed_rules_w_core...</td>\n",
       "    </tr>\n",
       "    <tr>\n",
       "      <th>2</th>\n",
       "      <td>Nc1ncnc2c1ncn2C1OC(COP(=O)(O)OP(=O)(O)OP(=O)(O...</td>\n",
       "      <td>0</td>\n",
       "      <td>0.240908</td>\n",
       "      <td>CC(C)=CCCC(C)=CCCC(C)=CCCC(C)=CCCC(C)=CCCC(C)=...</td>\n",
       "      <td>14751</td>\n",
       "      <td>R5b28ffe52136897a55d8462059e51a3e64423152d06a8...</td>\n",
       "      <td>[863_2, 382_1, 631_1, 383_1, 333_1]</td>\n",
       "      <td>2_steps_ccm_aa_rules_mechinformed_rules_w_core...</td>\n",
       "    </tr>\n",
       "    <tr>\n",
       "      <th>3</th>\n",
       "      <td>O=C(O)CCC(=O)O.O=C(CCC(=O)C(=O)O)OP(=O)(O)OP(=...</td>\n",
       "      <td>0</td>\n",
       "      <td>0.073985</td>\n",
       "      <td>O=P(O)(O)O.O=P(O)(O)O.O=c1ccn(C2OC(COP(=O)(O)O...</td>\n",
       "      <td>8106</td>\n",
       "      <td>R287317fd5f7e4b93e5e9d67e6c4fcad2becf1a4ce76b2...</td>\n",
       "      <td>[876_0_0, 876_0]</td>\n",
       "      <td>2_steps_ccm_aa_rules_mechinformed_rules_w_core...</td>\n",
       "    </tr>\n",
       "    <tr>\n",
       "      <th>4</th>\n",
       "      <td>NC(N)=NCCC(N)CC(=O)O&gt;&gt;NC(N)=NCC(N)CCC(=O)O</td>\n",
       "      <td>0</td>\n",
       "      <td>0.063500</td>\n",
       "      <td>NC(Cc1ccccc1)C(=O)O&gt;&gt;NC(CC(=O)O)c1ccccc1</td>\n",
       "      <td>10221</td>\n",
       "      <td>R30789c1c99e259bf2763a3562fef90e4e2f2abe2cc726...</td>\n",
       "      <td>[330_0]</td>\n",
       "      <td>2_steps_ccm_aa_rules_mechinformed_rules_w_core...</td>\n",
       "    </tr>\n",
       "    <tr>\n",
       "      <th>5</th>\n",
       "      <td>NC(=O)CC(N)C(=O)OP(=O)(O)OP(=O)(O)O.NC(=O)CC(N...</td>\n",
       "      <td>0</td>\n",
       "      <td>0.166831</td>\n",
       "      <td>Nc1ncnc2c1ncn2C1OC(COP(=O)(O)OP(=O)(O)O)C(O)C1...</td>\n",
       "      <td>4249</td>\n",
       "      <td>Rb6752962e0f7d9a3b72690017ff2a5a6bc86c8783d519...</td>\n",
       "      <td>[336_0, 632_0]</td>\n",
       "      <td>2_steps_ccm_aa_rules_mechinformed_rules_w_core...</td>\n",
       "    </tr>\n",
       "    <tr>\n",
       "      <th>6</th>\n",
       "      <td>O=C(O)CC(O)C(=O)O.CCC(C)C(N)C(=O)OP(=O)(O)O&gt;&gt;C...</td>\n",
       "      <td>1</td>\n",
       "      <td>0.119898</td>\n",
       "      <td>*C(=O)OCC(COP(=O)(O)OCC(O)CO)OC(*)=O.*C(=O)OCC...</td>\n",
       "      <td>4123</td>\n",
       "      <td>R8e47f448382bf72c94d2ab8b8b021d8c8f0d4b95c12a3...</td>\n",
       "      <td>[814_0, 236_0, 236_0_0, 814_0_0]</td>\n",
       "      <td>2_steps_ccm_aa_rules_mechinformed_rules_w_core...</td>\n",
       "    </tr>\n",
       "    <tr>\n",
       "      <th>7</th>\n",
       "      <td>O=C(O)CCC(=O)O.NC(Cc1ccccc1)C(=O)O[C@H]1O[C@H]...</td>\n",
       "      <td>0</td>\n",
       "      <td>0.070430</td>\n",
       "      <td>O=S(=O)(O)O.CC12CCC3C(CC=C4CC(O)CCC43C)C1CCC2=...</td>\n",
       "      <td>9832</td>\n",
       "      <td>Rec43c4e0093f3238ee1c78030325f07510d6501e6fefb...</td>\n",
       "      <td>[547_0, 547_0_0]</td>\n",
       "      <td>2_steps_ccm_aa_rules_mechinformed_rules_w_core...</td>\n",
       "    </tr>\n",
       "    <tr>\n",
       "      <th>8</th>\n",
       "      <td>NC(=O)C1=CN(C2OC(COP(=O)(O)OP(=O)(O)OCC3OC(n4c...</td>\n",
       "      <td>0</td>\n",
       "      <td>0.124684</td>\n",
       "      <td>NC(=O)C1=CN(C2OC(COP(=O)(O)OP(=O)(O)OCC3OC(n4c...</td>\n",
       "      <td>9698</td>\n",
       "      <td>R6a494df03824d1fa2f0cfd39e60002e0acc3be3b140ab...</td>\n",
       "      <td>[874_0]</td>\n",
       "      <td>2_steps_ccm_aa_rules_mechinformed_rules_w_core...</td>\n",
       "    </tr>\n",
       "    <tr>\n",
       "      <th>9</th>\n",
       "      <td>CC(=O)CC(=O)OP(=O)(O)O&gt;&gt;CC(=O)CC(=O)O.[O][P](=O)O</td>\n",
       "      <td>0</td>\n",
       "      <td>0.093073</td>\n",
       "      <td>CC(CO)(OP(=O)(O)O)C(O)COP(=O)(O)OP(=O)(O)OCC1O...</td>\n",
       "      <td>1165</td>\n",
       "      <td>Rf105eac78c6e6a2a5b1e6587b0c4633d890f9d9d8edd1...</td>\n",
       "      <td>[45_0]</td>\n",
       "      <td>2_steps_ccm_aa_rules_mechinformed_rules_w_core...</td>\n",
       "    </tr>\n",
       "    <tr>\n",
       "      <th>10</th>\n",
       "      <td>NC(=O)C1=CN(C2OC(COP(=O)(O)OP(=O)(O)OCC3OC(n4c...</td>\n",
       "      <td>1</td>\n",
       "      <td>0.173344</td>\n",
       "      <td>NC(=O)C1=CN(C2OC(COP(=O)(O)OP(=O)(O)OCC3OC(n4c...</td>\n",
       "      <td>1252</td>\n",
       "      <td>R35fa905f900cc57eaa08b6be061cb44de1bda5ec194a0...</td>\n",
       "      <td>[598_0]</td>\n",
       "      <td>2_steps_ccm_aa_rules_mechinformed_rules_w_core...</td>\n",
       "    </tr>\n",
       "    <tr>\n",
       "      <th>11</th>\n",
       "      <td>NC(CC(=O)O)CC(=O)O.N.Nc1ncnc2c1ncn2C1OC(COP(=O...</td>\n",
       "      <td>1</td>\n",
       "      <td>0.108315</td>\n",
       "      <td>Nc1ncnc2c1ncn2C1OC(COP(=O)(O)OP(=O)(O)OCC2OC([...</td>\n",
       "      <td>1320</td>\n",
       "      <td>R4b32fc92f5e3f3160755e9137448976cbcb14d737d7b5...</td>\n",
       "      <td>[266_0]</td>\n",
       "      <td>2_steps_ccm_aa_rules_mechinformed_rules_w_core...</td>\n",
       "    </tr>\n",
       "  </tbody>\n",
       "</table>\n",
       "</div>"
      ],
      "text/plain": [
       "                                               smarts  dxgb_label  \\\n",
       "0   O=c1ccn(C2OC(COP(=O)(O)OP(=O)(O)OC3OC(CO)C(O)C...           1   \n",
       "1   COC(=O)CCC(=O)O.Nc1ncnc2c1ncn2C1OC(CSCCC(N)C(=...           1   \n",
       "2   Nc1ncnc2c1ncn2C1OC(COP(=O)(O)OP(=O)(O)OP(=O)(O...           0   \n",
       "3   O=C(O)CCC(=O)O.O=C(CCC(=O)C(=O)O)OP(=O)(O)OP(=...           0   \n",
       "4          NC(N)=NCCC(N)CC(=O)O>>NC(N)=NCC(N)CCC(=O)O           0   \n",
       "5   NC(=O)CC(N)C(=O)OP(=O)(O)OP(=O)(O)O.NC(=O)CC(N...           0   \n",
       "6   O=C(O)CC(O)C(=O)O.CCC(C)C(N)C(=O)OP(=O)(O)O>>C...           1   \n",
       "7   O=C(O)CCC(=O)O.NC(Cc1ccccc1)C(=O)O[C@H]1O[C@H]...           0   \n",
       "8   NC(=O)C1=CN(C2OC(COP(=O)(O)OP(=O)(O)OCC3OC(n4c...           0   \n",
       "9   CC(=O)CC(=O)OP(=O)(O)O>>CC(=O)CC(=O)O.[O][P](=O)O           0   \n",
       "10  NC(=O)C1=CN(C2OC(COP(=O)(O)OP(=O)(O)OCC3OC(n4c...           1   \n",
       "11  NC(CC(=O)O)CC(=O)O.N.Nc1ncnc2c1ncn2C1OC(COP(=O...           1   \n",
       "\n",
       "    max_rxn_sim                                   nearest_analogue  \\\n",
       "0      0.134802  NC(=O)C1=CN(C2OC(COP(=O)(O)OP(=O)(O)OCC3OC(n4c...   \n",
       "1      0.159809  *C1C(COP(=O)(O)OC2C(COP(=O)(O)OC3C(COP(=O)(O)O...   \n",
       "2      0.240908  CC(C)=CCCC(C)=CCCC(C)=CCCC(C)=CCCC(C)=CCCC(C)=...   \n",
       "3      0.073985  O=P(O)(O)O.O=P(O)(O)O.O=c1ccn(C2OC(COP(=O)(O)O...   \n",
       "4      0.063500           NC(Cc1ccccc1)C(=O)O>>NC(CC(=O)O)c1ccccc1   \n",
       "5      0.166831  Nc1ncnc2c1ncn2C1OC(COP(=O)(O)OP(=O)(O)O)C(O)C1...   \n",
       "6      0.119898  *C(=O)OCC(COP(=O)(O)OCC(O)CO)OC(*)=O.*C(=O)OCC...   \n",
       "7      0.070430  O=S(=O)(O)O.CC12CCC3C(CC=C4CC(O)CCC43C)C1CCC2=...   \n",
       "8      0.124684  NC(=O)C1=CN(C2OC(COP(=O)(O)OP(=O)(O)OCC3OC(n4c...   \n",
       "9      0.093073  CC(CO)(OP(=O)(O)O)C(O)COP(=O)(O)OP(=O)(O)OCC1O...   \n",
       "10     0.173344  NC(=O)C1=CN(C2OC(COP(=O)(O)OP(=O)(O)OCC3OC(n4c...   \n",
       "11     0.108315  Nc1ncnc2c1ncn2C1OC(COP(=O)(O)OP(=O)(O)OCC2OC([...   \n",
       "\n",
       "   nearest_analogue_id                                                 id  \\\n",
       "0                 6848  Ra5466f30b2eff8d962354506782f3c774e2dbccfeabcc...   \n",
       "1                  378  R5c55dfe0b19ad6176370398dd4dafc2d961191a71de1b...   \n",
       "2                14751  R5b28ffe52136897a55d8462059e51a3e64423152d06a8...   \n",
       "3                 8106  R287317fd5f7e4b93e5e9d67e6c4fcad2becf1a4ce76b2...   \n",
       "4                10221  R30789c1c99e259bf2763a3562fef90e4e2f2abe2cc726...   \n",
       "5                 4249  Rb6752962e0f7d9a3b72690017ff2a5a6bc86c8783d519...   \n",
       "6                 4123  R8e47f448382bf72c94d2ab8b8b021d8c8f0d4b95c12a3...   \n",
       "7                 9832  Rec43c4e0093f3238ee1c78030325f07510d6501e6fefb...   \n",
       "8                 9698  R6a494df03824d1fa2f0cfd39e60002e0acc3be3b140ab...   \n",
       "9                 1165  Rf105eac78c6e6a2a5b1e6587b0c4633d890f9d9d8edd1...   \n",
       "10                1252  R35fa905f900cc57eaa08b6be061cb44de1bda5ec194a0...   \n",
       "11                1320  R4b32fc92f5e3f3160755e9137448976cbcb14d737d7b5...   \n",
       "\n",
       "                                  rules  \\\n",
       "0                               [813_1]   \n",
       "1                               [602_0]   \n",
       "2   [863_2, 382_1, 631_1, 383_1, 333_1]   \n",
       "3                      [876_0_0, 876_0]   \n",
       "4                               [330_0]   \n",
       "5                        [336_0, 632_0]   \n",
       "6      [814_0, 236_0, 236_0_0, 814_0_0]   \n",
       "7                      [547_0, 547_0_0]   \n",
       "8                               [874_0]   \n",
       "9                                [45_0]   \n",
       "10                              [598_0]   \n",
       "11                              [266_0]   \n",
       "\n",
       "                                            expansion  \n",
       "0   2_steps_ccm_aa_rules_mechinformed_rules_w_core...  \n",
       "1   2_steps_ccm_aa_rules_mechinformed_rules_w_core...  \n",
       "2   2_steps_ccm_aa_rules_mechinformed_rules_w_core...  \n",
       "3   2_steps_ccm_aa_rules_mechinformed_rules_w_core...  \n",
       "4   2_steps_ccm_aa_rules_mechinformed_rules_w_core...  \n",
       "5   2_steps_ccm_aa_rules_mechinformed_rules_w_core...  \n",
       "6   2_steps_ccm_aa_rules_mechinformed_rules_w_core...  \n",
       "7   2_steps_ccm_aa_rules_mechinformed_rules_w_core...  \n",
       "8   2_steps_ccm_aa_rules_mechinformed_rules_w_core...  \n",
       "9   2_steps_ccm_aa_rules_mechinformed_rules_w_core...  \n",
       "10  2_steps_ccm_aa_rules_mechinformed_rules_w_core...  \n",
       "11  2_steps_ccm_aa_rules_mechinformed_rules_w_core...  "
      ]
     },
     "execution_count": 292,
     "metadata": {},
     "output_type": "execute_result"
    }
   ],
   "source": [
    "rxn_df = pd.read_parquet(Path(cfg.processed_data) / f\"{expansion_name}_reaction_metrics.parquet\")\n",
    "rxn_df = rxn_df.groupby(\"expansion\").agg({\"dxgb_label\": \"mean\"}).reset_index()\n",
    "rxn_df.head(12)"
   ]
  },
  {
   "cell_type": "code",
   "execution_count": 166,
   "id": "0b25f4ea",
   "metadata": {},
   "outputs": [
    {
     "name": "stdout",
     "output_type": "stream",
     "text": [
      "----------------------------------------\n",
      "Intializing pickaxe object\n",
      "\n",
      "Done intializing pickaxe object\n",
      "----------------------------------------\n",
      "\n",
      "Loading /home/stef/cgr/data/interim/2_steps_ccm_aa_rules_imt_rules_w_coreactants_aplusb_True.pk pickled data.\n"
     ]
    },
    {
     "name": "stderr",
     "output_type": "stream",
     "text": [
      "[12:48:33] WARNING: not removing hydrogen atom without neighbors\n"
     ]
    },
    {
     "name": "stdout",
     "output_type": "stream",
     "text": [
      "Loaded 49241 compounds\n",
      "Loaded 80395 reactions\n",
      "Loaded 1852 operators\n",
      "Loaded 64 coreactants\n",
      "Loaded 2 generation\n",
      "Took 2.1428401470184326\n",
      "----------------------------------------\n",
      "Intializing pickaxe object\n",
      "\n",
      "Done intializing pickaxe object\n",
      "----------------------------------------\n",
      "\n",
      "Loading /home/stef/cgr/data/interim/2_steps_ccm_aa_rules_mechinferred_dt_15_rules_w_coreactants_aplusb_True.pk pickled data.\n"
     ]
    },
    {
     "name": "stderr",
     "output_type": "stream",
     "text": [
      "[12:48:34] WARNING: not removing hydrogen atom without neighbors\n"
     ]
    },
    {
     "name": "stdout",
     "output_type": "stream",
     "text": [
      "Loaded 13600 compounds\n",
      "Loaded 22671 reactions\n",
      "Loaded 3746 operators\n",
      "Loaded 67 coreactants\n",
      "Loaded 2 generation\n",
      "Took 0.7338380813598633\n",
      "----------------------------------------\n",
      "Intializing pickaxe object\n",
      "\n",
      "Done intializing pickaxe object\n",
      "----------------------------------------\n",
      "\n",
      "Loading /home/stef/cgr/data/interim/2_steps_ccm_aa_rules_mechinferred_dt_2_rules_w_coreactants_aplusb_True.pk pickled data.\n"
     ]
    },
    {
     "name": "stderr",
     "output_type": "stream",
     "text": [
      "[12:48:37] WARNING: not removing hydrogen atom without neighbors\n"
     ]
    },
    {
     "name": "stdout",
     "output_type": "stream",
     "text": [
      "Loaded 6259 compounds\n",
      "Loaded 9809 reactions\n",
      "Loaded 7335 operators\n",
      "Loaded 71 coreactants\n",
      "Loaded 2 generation\n",
      "Took 2.542391300201416\n",
      "----------------------------------------\n",
      "Intializing pickaxe object\n",
      "\n",
      "Done intializing pickaxe object\n",
      "----------------------------------------\n",
      "\n",
      "Loading /home/stef/cgr/data/interim/2_steps_ccm_aa_rules_mechinferred_dt_3_rules_w_coreactants_aplusb_True.pk pickled data.\n"
     ]
    },
    {
     "name": "stderr",
     "output_type": "stream",
     "text": [
      "[12:48:40] WARNING: not removing hydrogen atom without neighbors\n"
     ]
    },
    {
     "name": "stdout",
     "output_type": "stream",
     "text": [
      "Loaded 8066 compounds\n",
      "Loaded 13245 reactions\n",
      "Loaded 6236 operators\n",
      "Loaded 70 coreactants\n",
      "Loaded 2 generation\n",
      "Took 1.9142911434173584\n",
      "----------------------------------------\n",
      "Intializing pickaxe object\n",
      "\n",
      "Done intializing pickaxe object\n",
      "----------------------------------------\n",
      "\n",
      "Loading /home/stef/cgr/data/interim/2_steps_ccm_aa_rules_mechinferred_dt_6_rules_w_coreactants_aplusb_True.pk pickled data.\n"
     ]
    },
    {
     "name": "stderr",
     "output_type": "stream",
     "text": [
      "[12:48:43] WARNING: not removing hydrogen atom without neighbors\n"
     ]
    },
    {
     "name": "stdout",
     "output_type": "stream",
     "text": [
      "Loaded 9248 compounds\n",
      "Loaded 15729 reactions\n",
      "Loaded 5473 operators\n",
      "Loaded 69 coreactants\n",
      "Loaded 2 generation\n",
      "Took 1.9191861152648926\n",
      "----------------------------------------\n",
      "Intializing pickaxe object\n",
      "\n",
      "Done intializing pickaxe object\n",
      "----------------------------------------\n",
      "\n",
      "Loading /home/stef/cgr/data/interim/2_steps_ccm_aa_rules_mechinferred_dt_98_rules_w_coreactants_aplusb_True.pk pickled data.\n"
     ]
    },
    {
     "name": "stderr",
     "output_type": "stream",
     "text": [
      "[12:48:44] WARNING: not removing hydrogen atom without neighbors\n",
      "[12:48:44] WARNING: not removing hydrogen atom without neighbors\n"
     ]
    },
    {
     "name": "stdout",
     "output_type": "stream",
     "text": [
      "Loaded 20312 compounds\n",
      "Loaded 32908 reactions\n",
      "Loaded 2207 operators\n",
      "Loaded 65 coreactants\n",
      "Loaded 2 generation\n",
      "Took 0.7548308372497559\n",
      "----------------------------------------\n",
      "Intializing pickaxe object\n",
      "\n",
      "Done intializing pickaxe object\n",
      "----------------------------------------\n",
      "\n",
      "Loading /home/stef/cgr/data/interim/2_steps_ccm_aa_rules_mechinformed_rules_w_coreactants_aplusb_True.pk pickled data.\n",
      "Loaded 6629 compounds\n",
      "Loaded 11711 reactions\n",
      "Loaded 757 operators\n",
      "Loaded 66 coreactants\n",
      "Loaded 2 generation\n",
      "Took 0.20459961891174316\n",
      "----------------------------------------\n",
      "Intializing pickaxe object\n",
      "\n",
      "Done intializing pickaxe object\n",
      "----------------------------------------\n",
      "\n",
      "Loading /home/stef/cgr/data/interim/2_steps_ccm_aa_rules_rc_plus_0_rules_w_coreactants_aplusb_True.pk pickled data.\n"
     ]
    },
    {
     "name": "stderr",
     "output_type": "stream",
     "text": [
      "[12:48:56] WARNING: not removing hydrogen atom without neighbors\n"
     ]
    },
    {
     "name": "stdout",
     "output_type": "stream",
     "text": [
      "Loaded 372224 compounds\n",
      "Loaded 702208 reactions\n",
      "Loaded 1453 operators\n",
      "Loaded 58 coreactants\n",
      "Loaded 2 generation\n",
      "Took 11.377429485321045\n",
      "----------------------------------------\n",
      "Intializing pickaxe object\n",
      "\n",
      "Done intializing pickaxe object\n",
      "----------------------------------------\n",
      "\n",
      "Loading /home/stef/cgr/data/interim/2_steps_ccm_aa_rules_rc_plus_1_rules_w_coreactants_aplusb_True.pk pickled data.\n"
     ]
    },
    {
     "name": "stderr",
     "output_type": "stream",
     "text": [
      "[12:48:57] WARNING: not removing hydrogen atom without neighbors\n"
     ]
    },
    {
     "name": "stdout",
     "output_type": "stream",
     "text": [
      "Loaded 5756 compounds\n",
      "Loaded 9210 reactions\n",
      "Loaded 3853 operators\n",
      "Loaded 71 coreactants\n",
      "Loaded 2 generation\n",
      "Took 0.6674985885620117\n",
      "----------------------------------------\n",
      "Intializing pickaxe object\n",
      "\n",
      "Done intializing pickaxe object\n",
      "----------------------------------------\n",
      "\n",
      "Loading /home/stef/cgr/data/interim/2_steps_ccm_aa_rules_rc_plus_2_rules_w_coreactants_aplusb_True.pk pickled data.\n"
     ]
    },
    {
     "name": "stderr",
     "output_type": "stream",
     "text": [
      "[12:48:58] WARNING: not removing hydrogen atom without neighbors\n"
     ]
    },
    {
     "name": "stdout",
     "output_type": "stream",
     "text": [
      "Loaded 2273 compounds\n",
      "Loaded 3477 reactions\n",
      "Loaded 5266 operators\n",
      "Loaded 72 coreactants\n",
      "Loaded 2 generation\n",
      "Took 1.3737273216247559\n",
      "----------------------------------------\n",
      "Intializing pickaxe object\n",
      "\n",
      "Done intializing pickaxe object\n",
      "----------------------------------------\n",
      "\n",
      "Loading /home/stef/cgr/data/interim/2_steps_ccm_aa_rules_rc_plus_3_rules_w_coreactants_aplusb_True.pk pickled data.\n"
     ]
    },
    {
     "name": "stderr",
     "output_type": "stream",
     "text": [
      "[12:49:01] WARNING: not removing hydrogen atom without neighbors\n"
     ]
    },
    {
     "name": "stdout",
     "output_type": "stream",
     "text": [
      "Loaded 1373 compounds\n",
      "Loaded 1881 reactions\n",
      "Loaded 6351 operators\n",
      "Loaded 74 coreactants\n",
      "Loaded 2 generation\n",
      "Took 1.8340682983398438\n",
      "----------------------------------------\n",
      "Intializing pickaxe object\n",
      "\n",
      "Done intializing pickaxe object\n",
      "----------------------------------------\n",
      "\n",
      "Loading /home/stef/cgr/data/interim/2_steps_ccm_aa_rules_rc_plus_4_rules_w_coreactants_aplusb_True.pk pickled data.\n",
      "Loaded 1176 compounds\n",
      "Loaded 1597 reactions\n",
      "Loaded 7204 operators\n",
      "Loaded 74 coreactants\n",
      "Loaded 2 generation\n",
      "Took 2.596092700958252\n"
     ]
    },
    {
     "name": "stderr",
     "output_type": "stream",
     "text": [
      "[12:49:04] WARNING: not removing hydrogen atom without neighbors\n"
     ]
    },
    {
     "data": {
      "text/html": [
       "<div>\n",
       "<style scoped>\n",
       "    .dataframe tbody tr th:only-of-type {\n",
       "        vertical-align: middle;\n",
       "    }\n",
       "\n",
       "    .dataframe tbody tr th {\n",
       "        vertical-align: top;\n",
       "    }\n",
       "\n",
       "    .dataframe thead th {\n",
       "        text-align: right;\n",
       "    }\n",
       "</style>\n",
       "<table border=\"1\" class=\"dataframe\">\n",
       "  <thead>\n",
       "    <tr style=\"text-align: right;\">\n",
       "      <th></th>\n",
       "      <th>expansion</th>\n",
       "      <th>n_rxns</th>\n",
       "      <th>n_cpds</th>\n",
       "    </tr>\n",
       "  </thead>\n",
       "  <tbody>\n",
       "    <tr>\n",
       "      <th>0</th>\n",
       "      <td>2_steps_ccm_aa_rules_imt_rules_w_coreactants_a...</td>\n",
       "      <td>80395</td>\n",
       "      <td>49241</td>\n",
       "    </tr>\n",
       "    <tr>\n",
       "      <th>1</th>\n",
       "      <td>2_steps_ccm_aa_rules_mechinferred_dt_15_rules_...</td>\n",
       "      <td>22671</td>\n",
       "      <td>13600</td>\n",
       "    </tr>\n",
       "    <tr>\n",
       "      <th>2</th>\n",
       "      <td>2_steps_ccm_aa_rules_mechinferred_dt_2_rules_w...</td>\n",
       "      <td>9809</td>\n",
       "      <td>6259</td>\n",
       "    </tr>\n",
       "    <tr>\n",
       "      <th>3</th>\n",
       "      <td>2_steps_ccm_aa_rules_mechinferred_dt_3_rules_w...</td>\n",
       "      <td>13245</td>\n",
       "      <td>8066</td>\n",
       "    </tr>\n",
       "    <tr>\n",
       "      <th>4</th>\n",
       "      <td>2_steps_ccm_aa_rules_mechinferred_dt_6_rules_w...</td>\n",
       "      <td>15729</td>\n",
       "      <td>9248</td>\n",
       "    </tr>\n",
       "  </tbody>\n",
       "</table>\n",
       "</div>"
      ],
      "text/plain": [
       "                                           expansion  n_rxns  n_cpds\n",
       "0  2_steps_ccm_aa_rules_imt_rules_w_coreactants_a...   80395   49241\n",
       "1  2_steps_ccm_aa_rules_mechinferred_dt_15_rules_...   22671   13600\n",
       "2  2_steps_ccm_aa_rules_mechinferred_dt_2_rules_w...    9809    6259\n",
       "3  2_steps_ccm_aa_rules_mechinferred_dt_3_rules_w...   13245    8066\n",
       "4  2_steps_ccm_aa_rules_mechinferred_dt_6_rules_w...   15729    9248"
      ]
     },
     "execution_count": 166,
     "metadata": {},
     "output_type": "execute_result"
    }
   ],
   "source": [
    "ct_data = []\n",
    "for exp in rxn_df.expansion:\n",
    "    pk = Pickaxe()\n",
    "    pk.load_pickled_pickaxe(Path(cfg.interim_data) / exp)\n",
    "    ct_data.append([exp, len(pk.reactions), len(pk.compounds)])\n",
    "\n",
    "ct_df = pd.DataFrame(\n",
    "    data=ct_data,\n",
    "    columns=[\"expansion\", \"n_rxns\", \"n_cpds\"]\n",
    ")\n",
    "ct_df.head()"
   ]
  },
  {
   "cell_type": "code",
   "execution_count": 167,
   "id": "9480c2d9",
   "metadata": {},
   "outputs": [],
   "source": [
    "exp_names = rxn_df.expansion.to_list()\n",
    "perm = [6, 0, 7, 8, 9, 10, 11, 5, 1, 4, 3, 2]\n",
    "exp_names = [exp_names[p] for p in perm]\n",
    "exp_labels = {\n",
    "    '2_steps_ccm_aa_rules_mechinformed_rules_w_coreactants_aplusb_True.pk': \"Mechinformed\",\n",
    "    '2_steps_ccm_aa_rules_imt_rules_w_coreactants_aplusb_True.pk': \"Ni intermediate\",\n",
    "    '2_steps_ccm_aa_rules_rc_plus_0_rules_w_coreactants_aplusb_True.pk': \"RC + 0\",\n",
    "    '2_steps_ccm_aa_rules_rc_plus_1_rules_w_coreactants_aplusb_True.pk': \"RC + 1\",\n",
    "    '2_steps_ccm_aa_rules_rc_plus_2_rules_w_coreactants_aplusb_True.pk': \"RC + 2\",\n",
    "    '2_steps_ccm_aa_rules_rc_plus_3_rules_w_coreactants_aplusb_True.pk': \"RC + 3\",\n",
    "    '2_steps_ccm_aa_rules_rc_plus_4_rules_w_coreactants_aplusb_True.pk': \"RC + 4\",\n",
    "    '2_steps_ccm_aa_rules_mechinferred_dt_98_rules_w_coreactants_aplusb_True.pk': \"Mechinferred >0.98\",\n",
    "    '2_steps_ccm_aa_rules_mechinferred_dt_15_rules_w_coreactants_aplusb_True.pk': \"Mechinferred >0.15\",\n",
    "    '2_steps_ccm_aa_rules_mechinferred_dt_6_rules_w_coreactants_aplusb_True.pk': \"Mechinferred >0.06\",\n",
    "    '2_steps_ccm_aa_rules_mechinferred_dt_3_rules_w_coreactants_aplusb_True.pk': \"Mechinferred >0.03\",\n",
    "    '2_steps_ccm_aa_rules_mechinferred_dt_2_rules_w_coreactants_aplusb_True.pk': \"Mechinferred >0.02\"\n",
    "}\n",
    "\n",
    "colors = {\n",
    "    '2_steps_ccm_aa_rules_mechinformed_rules_w_coreactants_aplusb_True.pk': matplotlib.colors.to_rgba(\"green\"),\n",
    "    '2_steps_ccm_aa_rules_imt_rules_w_coreactants_aplusb_True.pk': matplotlib.colors.to_rgba(\"blue\"),\n",
    "    '2_steps_ccm_aa_rules_rc_plus_0_rules_w_coreactants_aplusb_True.pk': matplotlib.colors.to_rgba(\"black\", alpha=0.3),\n",
    "    '2_steps_ccm_aa_rules_rc_plus_1_rules_w_coreactants_aplusb_True.pk':matplotlib.colors.to_rgba(\"black\", alpha=0.45),\n",
    "    '2_steps_ccm_aa_rules_rc_plus_2_rules_w_coreactants_aplusb_True.pk': matplotlib.colors.to_rgba(\"black\", alpha=0.6),\n",
    "    '2_steps_ccm_aa_rules_rc_plus_3_rules_w_coreactants_aplusb_True.pk': matplotlib.colors.to_rgba(\"black\", alpha=0.85),\n",
    "    '2_steps_ccm_aa_rules_rc_plus_4_rules_w_coreactants_aplusb_True.pk': matplotlib.colors.to_rgba(\"black\", alpha=1.0),\n",
    "    '2_steps_ccm_aa_rules_mechinferred_dt_98_rules_w_coreactants_aplusb_True.pk': matplotlib.colors.to_rgba(\"purple\", alpha=0.3),\n",
    "    '2_steps_ccm_aa_rules_mechinferred_dt_15_rules_w_coreactants_aplusb_True.pk': matplotlib.colors.to_rgba(\"purple\", alpha=0.45),\n",
    "    '2_steps_ccm_aa_rules_mechinferred_dt_6_rules_w_coreactants_aplusb_True.pk': matplotlib.colors.to_rgba(\"purple\", alpha=0.6),\n",
    "    '2_steps_ccm_aa_rules_mechinferred_dt_3_rules_w_coreactants_aplusb_True.pk': matplotlib.colors.to_rgba(\"purple\", alpha=0.85),\n",
    "    '2_steps_ccm_aa_rules_mechinferred_dt_2_rules_w_coreactants_aplusb_True.pk': matplotlib.colors.to_rgba(\"purple\", alpha=1.0)\n",
    "}\n",
    "\n",
    "legend_elements = [\n",
    "    Patch(facecolor=col, edgecolor='w', label=exp_labels[name])\n",
    "    for name, col in colors.items()\n",
    "]"
   ]
  },
  {
   "cell_type": "code",
   "execution_count": 168,
   "id": "11b7cea0",
   "metadata": {},
   "outputs": [
    {
     "name": "stdout",
     "output_type": "stream",
     "text": [
      "(0.0, 0.0, 1.0, 1.0)\n",
      "(0.5019607843137255, 0.0, 0.5019607843137255, 1.0)\n",
      "(0.0, 0.0, 0.0, 1.0)\n",
      "(0.0, 0.5019607843137255, 0.0, 1.0)\n"
     ]
    }
   ],
   "source": [
    "print(matplotlib.colors.to_rgba(\"blue\"))\n",
    "print(matplotlib.colors.to_rgba(\"purple\"))\n",
    "print(matplotlib.colors.to_rgba(\"black\"))\n",
    "print(matplotlib.colors.to_rgba(\"green\"))"
   ]
  },
  {
   "cell_type": "code",
   "execution_count": 169,
   "id": "4bd5ad90",
   "metadata": {},
   "outputs": [
    {
     "data": {
      "image/png": "[encoded data removed]",
      "text/plain": [
       "<Figure size 1000x500 with 1 Axes>"
      ]
     },
     "metadata": {},
     "output_type": "display_data"
    }
   ],
   "source": [
    "# Fan out clustered bar graph\n",
    "\n",
    "gens = cpd_df.gen.unique()\n",
    "scl_space = 1.5\n",
    "n_bars = len(exp_labels)\n",
    "width = 0.1\n",
    "\n",
    "fig, ax = plt.subplots(figsize=(10, 5))\n",
    "\n",
    "for gen in gens:\n",
    "    ctr = gen * scl_space\n",
    "    for i in range(n_bars):\n",
    "        tick = ctr - ((n_bars * width) / 2) + (i * width)\n",
    "        exp_name = exp_names[i]\n",
    "        mean_fan_out = cpd_df.loc[(cpd_df[\"gen\"] == gen) & (cpd_df[\"expansion\"] == exp_name), \"fan_out\"][\"mean\"].values[0]\n",
    "        label = exp_labels[exp_name]\n",
    "        color = colors[exp_name]\n",
    "        ax.bar(tick, height=mean_fan_out, width=width, color=color, label=label)\n",
    "ax.set_xticks(gens * scl_space)\n",
    "ax.set_xticklabels(gens.astype(int))\n",
    "\n",
    "ax.set_xlabel(\"Generation\")\n",
    "ax.set_ylabel(\"Compound outdegree\")\n",
    "ax.legend(handles=legend_elements, loc='upper right', ncol=2, frameon=False, fontsize=10)\n",
    "plt.show()\n",
    "        "
   ]
  },
  {
   "cell_type": "code",
   "execution_count": 202,
   "id": "1ccd99c1",
   "metadata": {},
   "outputs": [
    {
     "data": {
      "image/png": "[encoded data removed]",
      "text/plain": [
       "<Figure size 700x600 with 1 Axes>"
      ]
     },
     "metadata": {},
     "output_type": "display_data"
    }
   ],
   "source": [
    "fig, ax = plt.subplots(figsize=(7, 6))\n",
    "width = 0.8\n",
    "for exp_name in exp_names:\n",
    "    feas_frac = rxn_df.loc[rxn_df[\"expansion\"] == exp_name, \"dxgb_label\"].values[0]\n",
    "    color = colors[exp_name]\n",
    "    ax.bar(x=exp_name, height=feas_frac, width=width, color=color)\n",
    "\n",
    "ax.axhline(y=0.67, color='red', linestyle='--', linewidth=1)\n",
    "ax.set_xticklabels(labels=[])\n",
    "ax.legend(handles=legend_elements, loc='upper right', ncol=2, frameon=False, fontsize=10)\n",
    "ax.set_ylim(0, 1.0)\n",
    "ax.set_ylabel(\"Fraction DORA-XGB feasible reactions\")\n",
    "plt.show()"
   ]
  },
  {
   "cell_type": "code",
   "execution_count": 171,
   "id": "8bb0a345",
   "metadata": {},
   "outputs": [
    {
     "data": {
      "image/png": "[encoded data removed]",
      "text/plain": [
       "<Figure size 700x600 with 1 Axes>"
      ]
     },
     "metadata": {},
     "output_type": "display_data"
    }
   ],
   "source": [
    "fig, ax = plt.subplots(figsize=(7, 6))\n",
    "width = 0.8\n",
    "for exp_name in exp_names:\n",
    "    feas_frac = rxn_df.loc[rxn_df[\"expansion\"] == exp_name, \"dxgb_label\"].values[0]\n",
    "    tot_rxns = ct_df.loc[ct_df[\"expansion\"] == exp_name, \"n_rxns\"].values[0]\n",
    "    color = colors[exp_name]\n",
    "    ax.bar(x=exp_name, height=feas_frac * tot_rxns, width=width, color=color)\n",
    "\n",
    "ax.set_xticklabels(labels=[])\n",
    "ax.legend(handles=legend_elements, loc='upper right', ncol=2, frameon=False, fontsize=10)\n",
    "ax.set_ylabel(\"Number of DORA-XGB feasible reactions\")\n",
    "ax.set_yscale('log')\n",
    "plt.show()"
   ]
  },
  {
   "cell_type": "code",
   "execution_count": 203,
   "id": "59f66827",
   "metadata": {},
   "outputs": [
    {
     "data": {
      "image/png": "[encoded data removed]",
      "text/plain": [
       "<Figure size 700x600 with 1 Axes>"
      ]
     },
     "metadata": {},
     "output_type": "display_data"
    }
   ],
   "source": [
    "fig, ax = plt.subplots(figsize=(7, 6))\n",
    "width = 0.8\n",
    "for exp_name in exp_names:\n",
    "    tot_rxns = ct_df.loc[ct_df[\"expansion\"] == exp_name, \"n_rxns\"].values[0]\n",
    "    color = colors[exp_name]\n",
    "    ax.bar(x=exp_name, height=tot_rxns, width=width, color=color)\n",
    "\n",
    "ax.axhline(y=4723, color='red', linestyle='--', linewidth=1)\n",
    "ax.set_xticklabels(labels=[])\n",
    "ax.legend(handles=legend_elements, loc='upper right', ncol=2, frameon=False, fontsize=10)\n",
    "ax.set_ylabel(\"Total number of reactions\")\n",
    "ax.set_yscale('log')\n",
    "plt.show()"
   ]
  },
  {
   "cell_type": "code",
   "execution_count": 194,
   "id": "5fd1b401",
   "metadata": {},
   "outputs": [
    {
     "data": {
      "image/png": "[encoded data removed]",
      "text/plain": [
       "<Figure size 640x480 with 1 Axes>"
      ]
     },
     "metadata": {},
     "output_type": "display_data"
    }
   ],
   "source": [
    "fig, ax = plt.subplots()\n",
    "for exp_name in exp_names:\n",
    "    feas_frac = rxn_df.loc[rxn_df[\"expansion\"] == exp_name, \"dxgb_label\"].values[0]\n",
    "    tot_rxns = ct_df.loc[ct_df[\"expansion\"] == exp_name, \"n_rxns\"].values[0]\n",
    "    color = colors[exp_name]\n",
    "    label = exp_labels[exp_name]\n",
    "    ax.plot(feas_frac, tot_rxns, \"o\", color=color, label=label)\n",
    "\n",
    "ax.plot(0.67, 4723, 'x', color='red', label=\"Known\")\n",
    "ax.legend(handles=legend_elements, loc='upper right', ncol=2, frameon=False, fontsize=10)\n",
    "ax.set_ylabel(\"# predicted reactions\")\n",
    "ax.set_xlabel(\"Fraction DORA-XGB feasible reactions\")\n",
    "ax.set_yscale('log')\n",
    "plt.show()"
   ]
  },
  {
   "cell_type": "code",
   "execution_count": 94,
   "id": "4e230b06",
   "metadata": {},
   "outputs": [
    {
     "data": {
      "text/html": [
       "<div>\n",
       "<style scoped>\n",
       "    .dataframe tbody tr th:only-of-type {\n",
       "        vertical-align: middle;\n",
       "    }\n",
       "\n",
       "    .dataframe tbody tr th {\n",
       "        vertical-align: top;\n",
       "    }\n",
       "\n",
       "    .dataframe thead th {\n",
       "        text-align: right;\n",
       "    }\n",
       "</style>\n",
       "<table border=\"1\" class=\"dataframe\">\n",
       "  <thead>\n",
       "    <tr style=\"text-align: right;\">\n",
       "      <th></th>\n",
       "      <th>smarts</th>\n",
       "      <th>dxgb_label</th>\n",
       "      <th>id</th>\n",
       "      <th>rules</th>\n",
       "      <th>expansion</th>\n",
       "    </tr>\n",
       "  </thead>\n",
       "  <tbody>\n",
       "    <tr>\n",
       "      <th>0</th>\n",
       "      <td>O=c1ccn(C2OC(COP(=O)(O)OP(=O)(O)OC3OC(CO)C(O)C...</td>\n",
       "      <td>1</td>\n",
       "      <td>Ra5466f30b2eff8d962354506782f3c774e2dbccfeabcc...</td>\n",
       "      <td>[813_1]</td>\n",
       "      <td>2_steps_ccm_aa_rules_mechinformed_rules_w_core...</td>\n",
       "    </tr>\n",
       "    <tr>\n",
       "      <th>1</th>\n",
       "      <td>O=C(O)CCC(=O)O.CC(N)C(=O)O&gt;&gt;CC(NC(=O)CCC(=O)O)...</td>\n",
       "      <td>1</td>\n",
       "      <td>R1a6f3d7e229c81ffd5e77b63a4191e793232130cbc0e0...</td>\n",
       "      <td>[8_0, 8_0_0, 8_0_0_0]</td>\n",
       "      <td>2_steps_ccm_aa_rules_mechinformed_rules_w_core...</td>\n",
       "    </tr>\n",
       "    <tr>\n",
       "      <th>2</th>\n",
       "      <td>O=c1ccn(C2OC(COP(=O)(O)OP(=O)(O)OC3OC(CO)C(O)C...</td>\n",
       "      <td>1</td>\n",
       "      <td>Ra9e6706c0b8df38fa1056bb4ad1ac443a60e95f3e02f1...</td>\n",
       "      <td>[558_1]</td>\n",
       "      <td>2_steps_ccm_aa_rules_mechinformed_rules_w_core...</td>\n",
       "    </tr>\n",
       "    <tr>\n",
       "      <th>3</th>\n",
       "      <td>O=C(O)CCC(=O)O.O=C(O)CCC(=O)O&gt;&gt;O.O=C(O)CCC(=O)...</td>\n",
       "      <td>0</td>\n",
       "      <td>Rec6d7525917f77e5f6c7a5942c1b7197b67be650c7476...</td>\n",
       "      <td>[167_0, 167_0_1, 167_0_0]</td>\n",
       "      <td>2_steps_ccm_aa_rules_mechinformed_rules_w_core...</td>\n",
       "    </tr>\n",
       "    <tr>\n",
       "      <th>4</th>\n",
       "      <td>Nc1ncnc2c1ncn2C1OC(COP(=O)(O)OP(=O)(O)OP(=O)(O...</td>\n",
       "      <td>0</td>\n",
       "      <td>R3b25a7e0bed159020e2a34dc51c3cf7529c6ec4038177...</td>\n",
       "      <td>[382_1, 333_1, 631_1]</td>\n",
       "      <td>2_steps_ccm_aa_rules_mechinformed_rules_w_core...</td>\n",
       "    </tr>\n",
       "    <tr>\n",
       "      <th>5</th>\n",
       "      <td>O=C(O)CCC(=O)O.NC(=O)C1=CN(C2OC(COP(=O)(O)OP(=...</td>\n",
       "      <td>0</td>\n",
       "      <td>Rdda1a22bada4082a3d67c1cd21dc3a233ae59012560a3...</td>\n",
       "      <td>[177_0]</td>\n",
       "      <td>2_steps_ccm_aa_rules_mechinformed_rules_w_core...</td>\n",
       "    </tr>\n",
       "    <tr>\n",
       "      <th>6</th>\n",
       "      <td>O=C(O)CC(O)C(=O)O.O=C(O)CCC(=O)O&gt;&gt;O=C(O)CCC(=O...</td>\n",
       "      <td>0</td>\n",
       "      <td>R6dc78a68eef458cf00438747bfce2c91d2d4bd21a1da9...</td>\n",
       "      <td>[703_0, 703_0_0_0, 703_0_0]</td>\n",
       "      <td>2_steps_ccm_aa_rules_mechinformed_rules_w_core...</td>\n",
       "    </tr>\n",
       "    <tr>\n",
       "      <th>7</th>\n",
       "      <td>O=C(O)CC(O)C(=O)O.O=C(O)CCC(=O)O&gt;&gt;O=C(O)CCC(=O...</td>\n",
       "      <td>0</td>\n",
       "      <td>Rf38295782a37516f50c0a439e1529a53e2a9c6a384178...</td>\n",
       "      <td>[703_0, 703_0_0_0, 703_0_0]</td>\n",
       "      <td>2_steps_ccm_aa_rules_mechinformed_rules_w_core...</td>\n",
       "    </tr>\n",
       "    <tr>\n",
       "      <th>8</th>\n",
       "      <td>O=C(O)CCC(=O)O.NC(CS)C(=O)O&gt;&gt;NC(CSC(=O)CCC(=O)...</td>\n",
       "      <td>1</td>\n",
       "      <td>Rd5f9bc7f1dff6d19cd8c03152d4455d66d5bedf22be69...</td>\n",
       "      <td>[216_0_0, 216_0_0_0, 216_0]</td>\n",
       "      <td>2_steps_ccm_aa_rules_mechinformed_rules_w_core...</td>\n",
       "    </tr>\n",
       "    <tr>\n",
       "      <th>9</th>\n",
       "      <td>O=C(O)CCC(=O)O.Nc1ncnc2c1ncn2C1OC(COP(=O)(O)OS...</td>\n",
       "      <td>0</td>\n",
       "      <td>Rd09eb66e0f70c16c4039f1c963e3916e3bdc2b673aac4...</td>\n",
       "      <td>[891_0]</td>\n",
       "      <td>2_steps_ccm_aa_rules_mechinformed_rules_w_core...</td>\n",
       "    </tr>\n",
       "    <tr>\n",
       "      <th>10</th>\n",
       "      <td>O=C(O)C=CC(=O)O.CC(N)C(=O)O&gt;&gt;CC(NC(CC(=O)O)C(=...</td>\n",
       "      <td>1</td>\n",
       "      <td>R1f90375dbbc784155f76feb1008fd4268adacf22f75ca...</td>\n",
       "      <td>[140_0_0, 140_0, 140_0_0_0]</td>\n",
       "      <td>2_steps_ccm_aa_rules_mechinformed_rules_w_core...</td>\n",
       "    </tr>\n",
       "    <tr>\n",
       "      <th>11</th>\n",
       "      <td>O=C(O)CCC(=O)O.N&gt;&gt;NC(=O)CCC(=O)O.O</td>\n",
       "      <td>0</td>\n",
       "      <td>R27e0413e700ccbc850256ce9614b6ef9fe878d955c6d7...</td>\n",
       "      <td>[52_0]</td>\n",
       "      <td>2_steps_ccm_aa_rules_mechinformed_rules_w_core...</td>\n",
       "    </tr>\n",
       "  </tbody>\n",
       "</table>\n",
       "</div>"
      ],
      "text/plain": [
       "                                               smarts  dxgb_label  \\\n",
       "0   O=c1ccn(C2OC(COP(=O)(O)OP(=O)(O)OC3OC(CO)C(O)C...           1   \n",
       "1   O=C(O)CCC(=O)O.CC(N)C(=O)O>>CC(NC(=O)CCC(=O)O)...           1   \n",
       "2   O=c1ccn(C2OC(COP(=O)(O)OP(=O)(O)OC3OC(CO)C(O)C...           1   \n",
       "3   O=C(O)CCC(=O)O.O=C(O)CCC(=O)O>>O.O=C(O)CCC(=O)...           0   \n",
       "4   Nc1ncnc2c1ncn2C1OC(COP(=O)(O)OP(=O)(O)OP(=O)(O...           0   \n",
       "5   O=C(O)CCC(=O)O.NC(=O)C1=CN(C2OC(COP(=O)(O)OP(=...           0   \n",
       "6   O=C(O)CC(O)C(=O)O.O=C(O)CCC(=O)O>>O=C(O)CCC(=O...           0   \n",
       "7   O=C(O)CC(O)C(=O)O.O=C(O)CCC(=O)O>>O=C(O)CCC(=O...           0   \n",
       "8   O=C(O)CCC(=O)O.NC(CS)C(=O)O>>NC(CSC(=O)CCC(=O)...           1   \n",
       "9   O=C(O)CCC(=O)O.Nc1ncnc2c1ncn2C1OC(COP(=O)(O)OS...           0   \n",
       "10  O=C(O)C=CC(=O)O.CC(N)C(=O)O>>CC(NC(CC(=O)O)C(=...           1   \n",
       "11                 O=C(O)CCC(=O)O.N>>NC(=O)CCC(=O)O.O           0   \n",
       "\n",
       "                                                   id  \\\n",
       "0   Ra5466f30b2eff8d962354506782f3c774e2dbccfeabcc...   \n",
       "1   R1a6f3d7e229c81ffd5e77b63a4191e793232130cbc0e0...   \n",
       "2   Ra9e6706c0b8df38fa1056bb4ad1ac443a60e95f3e02f1...   \n",
       "3   Rec6d7525917f77e5f6c7a5942c1b7197b67be650c7476...   \n",
       "4   R3b25a7e0bed159020e2a34dc51c3cf7529c6ec4038177...   \n",
       "5   Rdda1a22bada4082a3d67c1cd21dc3a233ae59012560a3...   \n",
       "6   R6dc78a68eef458cf00438747bfce2c91d2d4bd21a1da9...   \n",
       "7   Rf38295782a37516f50c0a439e1529a53e2a9c6a384178...   \n",
       "8   Rd5f9bc7f1dff6d19cd8c03152d4455d66d5bedf22be69...   \n",
       "9   Rd09eb66e0f70c16c4039f1c963e3916e3bdc2b673aac4...   \n",
       "10  R1f90375dbbc784155f76feb1008fd4268adacf22f75ca...   \n",
       "11  R27e0413e700ccbc850256ce9614b6ef9fe878d955c6d7...   \n",
       "\n",
       "                          rules  \\\n",
       "0                       [813_1]   \n",
       "1         [8_0, 8_0_0, 8_0_0_0]   \n",
       "2                       [558_1]   \n",
       "3     [167_0, 167_0_1, 167_0_0]   \n",
       "4         [382_1, 333_1, 631_1]   \n",
       "5                       [177_0]   \n",
       "6   [703_0, 703_0_0_0, 703_0_0]   \n",
       "7   [703_0, 703_0_0_0, 703_0_0]   \n",
       "8   [216_0_0, 216_0_0_0, 216_0]   \n",
       "9                       [891_0]   \n",
       "10  [140_0_0, 140_0, 140_0_0_0]   \n",
       "11                       [52_0]   \n",
       "\n",
       "                                            expansion  \n",
       "0   2_steps_ccm_aa_rules_mechinformed_rules_w_core...  \n",
       "1   2_steps_ccm_aa_rules_mechinformed_rules_w_core...  \n",
       "2   2_steps_ccm_aa_rules_mechinformed_rules_w_core...  \n",
       "3   2_steps_ccm_aa_rules_mechinformed_rules_w_core...  \n",
       "4   2_steps_ccm_aa_rules_mechinformed_rules_w_core...  \n",
       "5   2_steps_ccm_aa_rules_mechinformed_rules_w_core...  \n",
       "6   2_steps_ccm_aa_rules_mechinformed_rules_w_core...  \n",
       "7   2_steps_ccm_aa_rules_mechinformed_rules_w_core...  \n",
       "8   2_steps_ccm_aa_rules_mechinformed_rules_w_core...  \n",
       "9   2_steps_ccm_aa_rules_mechinformed_rules_w_core...  \n",
       "10  2_steps_ccm_aa_rules_mechinformed_rules_w_core...  \n",
       "11  2_steps_ccm_aa_rules_mechinformed_rules_w_core...  "
      ]
     },
     "execution_count": 94,
     "metadata": {},
     "output_type": "execute_result"
    }
   ],
   "source": [
    "rxn_df = pd.read_parquet(Path(cfg.processed_data) / f\"{expansion_name}_reaction_metrics.parquet\")\n",
    "rxn_df.head(12)"
   ]
  },
  {
   "cell_type": "markdown",
   "id": "6ee478fe",
   "metadata": {},
   "source": [
    "Spot check"
   ]
  },
  {
   "cell_type": "code",
   "execution_count": null,
   "id": "b7872931",
   "metadata": {},
   "outputs": [],
   "source": [
    "kr_feas_df = pd.read_parquet(Path(cfg.processed_data) / \"sprhea_v3_dxgb_ac.parquet\")"
   ]
  },
  {
   "cell_type": "code",
   "execution_count": 114,
   "id": "b22f5181",
   "metadata": {},
   "outputs": [],
   "source": [
    "mechinformed = rxn_df.loc[rxn_df.expansion == '2_steps_ccm_aa_rules_mechinformed_rules_w_coreactants_aplusb_True.pk']"
   ]
  },
  {
   "cell_type": "code",
   "execution_count": null,
   "id": "dce52ac6",
   "metadata": {},
   "outputs": [
    {
     "data": {
      "application/vnd.jupyter.widget-view+json": {
       "model_id": "b54059e0c12f48488a5ffd7c0831b9aa",
       "version_major": 2,
       "version_minor": 0
      },
      "text/plain": [
       "interactive(children=(IntSlider(value=0, description='idx', max=11708), Output()), _dom_classes=('widget-inter…"
      ]
     },
     "metadata": {},
     "output_type": "display_data"
    },
    {
     "data": {
      "text/plain": [
       "<function __main__.show_mechinformed_reaction(idx)>"
      ]
     },
     "execution_count": 115,
     "metadata": {},
     "output_type": "execute_result"
    }
   ],
   "source": [
    "def show_mechinformed_reaction(idx):\n",
    "    row = mechinformed.iloc[idx]\n",
    "    print(f\"dxgb_label: {row['dxgb_label']}\")\n",
    "    print(f\"rule: {row[\"rules\"]}\")\n",
    "    display(SVG(draw_reaction(row['smarts'])))\n",
    "\n",
    "interact(show_mechinformed_reaction, idx=widgets.IntSlider(min=0, max=len(mechinformed)-1, step=1, value=0))"
   ]
  },
  {
   "cell_type": "code",
   "execution_count": 116,
   "id": "9b8fbf47",
   "metadata": {},
   "outputs": [
    {
     "data": {
      "text/html": [
       "<div>\n",
       "<style scoped>\n",
       "    .dataframe tbody tr th:only-of-type {\n",
       "        vertical-align: middle;\n",
       "    }\n",
       "\n",
       "    .dataframe tbody tr th {\n",
       "        vertical-align: top;\n",
       "    }\n",
       "\n",
       "    .dataframe thead th {\n",
       "        text-align: right;\n",
       "    }\n",
       "</style>\n",
       "<table border=\"1\" class=\"dataframe\">\n",
       "  <thead>\n",
       "    <tr style=\"text-align: right;\">\n",
       "      <th></th>\n",
       "      <th>rxn_id</th>\n",
       "      <th>smarts</th>\n",
       "      <th>am_smarts</th>\n",
       "      <th>rule</th>\n",
       "      <th>template_aidxs</th>\n",
       "      <th>rule_id</th>\n",
       "    </tr>\n",
       "  </thead>\n",
       "  <tbody>\n",
       "    <tr>\n",
       "      <th>0</th>\n",
       "      <td>1</td>\n",
       "      <td>CC(O)C(O)C(O)C(O)C(=O)O&gt;&gt;O.CC(O)C(O)CC(=O)C(=O)O</td>\n",
       "      <td>[CH3:11][CH:9]([OH:12])[CH:8]([OH:10])[CH:7]([...</td>\n",
       "      <td>[O&amp;D1&amp;v2&amp;H0&amp;0*&amp;!R:1]=[C&amp;D3&amp;v4&amp;H0&amp;0*&amp;!R&amp;z2:2](-...</td>\n",
       "      <td>10,9,11,7,8,5,6&gt;&gt;0;5,6,7,8,9,10</td>\n",
       "      <td>841</td>\n",
       "    </tr>\n",
       "    <tr>\n",
       "      <th>1</th>\n",
       "      <td>10</td>\n",
       "      <td>O=P(O)(O)OP(=O)(O)O.CCCCCCCCCCCC(=O)OP(=O)(O)O...</td>\n",
       "      <td>[O:10]=[P:1]([OH:2])([OH:11])[O:3][P:4](=[O:5]...</td>\n",
       "      <td>[*:1](~[O&amp;D1&amp;v2&amp;H1&amp;0*&amp;!R:2])~[*:3]~[*:4](~[O&amp;D...</td>\n",
       "      <td>1,2,4,5,6,7,8;14,16,13&gt;&gt;15,17,18,19,20,21,22,2...</td>\n",
       "      <td>632</td>\n",
       "    </tr>\n",
       "    <tr>\n",
       "      <th>2</th>\n",
       "      <td>100</td>\n",
       "      <td>*C(=O)OCC(COP(=O)(O)OC1C(O)C(OP(=O)(O)O)C(O)C(...</td>\n",
       "      <td>[*:30][C:27](=[O:31])[O:25][CH2:23][CH:22]([CH...</td>\n",
       "      <td>[*:1](~[O&amp;D2&amp;v2&amp;H0&amp;0*&amp;!R:2]-[P&amp;D4&amp;v5&amp;H0&amp;0*&amp;!R:...</td>\n",
       "      <td>15,16,17,19,13,14;0&gt;&gt;13,14,15,16;1,2,3</td>\n",
       "      <td>813</td>\n",
       "    </tr>\n",
       "    <tr>\n",
       "      <th>3</th>\n",
       "      <td>10001</td>\n",
       "      <td>Nc1c(NCC(O)C(O)C(O)CO)[nH]c(=O)[nH]c1=O.Cc1cc2...</td>\n",
       "      <td>[NH2:25][c:26]1[c:27]([NH:29][CH2:36][CH:37]([...</td>\n",
       "      <td>[N&amp;D1&amp;v3&amp;H2&amp;0*&amp;!R:1]-[c&amp;D3&amp;v4&amp;H0&amp;0*&amp;R&amp;z1:2]:[c...</td>\n",
       "      <td>0,1,2,3,13;1,2,3,4,5,12,11,9,10,23,24,25&gt;&gt;0,1,...</td>\n",
       "      <td>338</td>\n",
       "    </tr>\n",
       "    <tr>\n",
       "      <th>4</th>\n",
       "      <td>10008</td>\n",
       "      <td>O.O=[N+]([O-])c1ccc(OP(=O)(O)O)cc1&gt;&gt;O=P(O)(O)O...</td>\n",
       "      <td>[OH2:5].[O:14]=[N+:13]([O-:15])[c:12]1[cH:10][...</td>\n",
       "      <td>[O&amp;D0&amp;v2&amp;H2&amp;0*&amp;!R:1].[O&amp;D2&amp;v2&amp;H0&amp;0*&amp;!R:2]-[P&amp;D...</td>\n",
       "      <td>0;7,8,9,10,11&gt;&gt;0,1,2,3,4;7</td>\n",
       "      <td>585</td>\n",
       "    </tr>\n",
       "  </tbody>\n",
       "</table>\n",
       "</div>"
      ],
      "text/plain": [
       "  rxn_id                                             smarts  \\\n",
       "0      1   CC(O)C(O)C(O)C(O)C(=O)O>>O.CC(O)C(O)CC(=O)C(=O)O   \n",
       "1     10  O=P(O)(O)OP(=O)(O)O.CCCCCCCCCCCC(=O)OP(=O)(O)O...   \n",
       "2    100  *C(=O)OCC(COP(=O)(O)OC1C(O)C(OP(=O)(O)O)C(O)C(...   \n",
       "3  10001  Nc1c(NCC(O)C(O)C(O)CO)[nH]c(=O)[nH]c1=O.Cc1cc2...   \n",
       "4  10008  O.O=[N+]([O-])c1ccc(OP(=O)(O)O)cc1>>O=P(O)(O)O...   \n",
       "\n",
       "                                           am_smarts  \\\n",
       "0  [CH3:11][CH:9]([OH:12])[CH:8]([OH:10])[CH:7]([...   \n",
       "1  [O:10]=[P:1]([OH:2])([OH:11])[O:3][P:4](=[O:5]...   \n",
       "2  [*:30][C:27](=[O:31])[O:25][CH2:23][CH:22]([CH...   \n",
       "3  [NH2:25][c:26]1[c:27]([NH:29][CH2:36][CH:37]([...   \n",
       "4  [OH2:5].[O:14]=[N+:13]([O-:15])[c:12]1[cH:10][...   \n",
       "\n",
       "                                                rule  \\\n",
       "0  [O&D1&v2&H0&0*&!R:1]=[C&D3&v4&H0&0*&!R&z2:2](-...   \n",
       "1  [*:1](~[O&D1&v2&H1&0*&!R:2])~[*:3]~[*:4](~[O&D...   \n",
       "2  [*:1](~[O&D2&v2&H0&0*&!R:2]-[P&D4&v5&H0&0*&!R:...   \n",
       "3  [N&D1&v3&H2&0*&!R:1]-[c&D3&v4&H0&0*&R&z1:2]:[c...   \n",
       "4  [O&D0&v2&H2&0*&!R:1].[O&D2&v2&H0&0*&!R:2]-[P&D...   \n",
       "\n",
       "                                      template_aidxs  rule_id  \n",
       "0                    10,9,11,7,8,5,6>>0;5,6,7,8,9,10      841  \n",
       "1  1,2,4,5,6,7,8;14,16,13>>15,17,18,19,20,21,22,2...      632  \n",
       "2             15,16,17,19,13,14;0>>13,14,15,16;1,2,3      813  \n",
       "3  0,1,2,3,13;1,2,3,4,5,12,11,9,10,23,24,25>>0,1,...      338  \n",
       "4                         0;7,8,9,10,11>>0,1,2,3,4;7      585  "
      ]
     },
     "execution_count": 116,
     "metadata": {},
     "output_type": "execute_result"
    }
   ],
   "source": [
    "sprhea_x_mechinformed = pd.read_parquet(Path(cfg.raw_data) / \"mapped_sprhea_240310_v3_mapped_no_subunits_x_mechinformed_rules.parquet\")\n",
    "sprhea_x_mechinformed.head()"
   ]
  },
  {
   "cell_type": "code",
   "execution_count": 159,
   "id": "4d58991a",
   "metadata": {},
   "outputs": [],
   "source": [
    "mapped = sprhea_x_mechinformed.loc[sprhea_x_mechinformed.rule_id == 703]"
   ]
  },
  {
   "cell_type": "code",
   "execution_count": 161,
   "id": "85cb4d7f",
   "metadata": {},
   "outputs": [
    {
     "data": {
      "application/vnd.jupyter.widget-view+json": {
       "model_id": "2036f1177d364b3ead7ec11c82bb4d85",
       "version_major": 2,
       "version_minor": 0
      },
      "text/plain": [
       "interactive(children=(IntSlider(value=0, description='idx', max=67), Output()), _dom_classes=('widget-interact…"
      ]
     },
     "metadata": {},
     "output_type": "display_data"
    },
    {
     "data": {
      "text/plain": [
       "<function __main__.show_mapped_reaction(idx)>"
      ]
     },
     "execution_count": 161,
     "metadata": {},
     "output_type": "execute_result"
    }
   ],
   "source": [
    "def show_mapped_reaction(idx):\n",
    "    row = mapped.iloc[idx]\n",
    "    rxn_id = row[\"rxn_id\"]\n",
    "    feas = kr_feas_df.loc[kr_feas_df.id == str(rxn_id), \"dxgb_label\"].values[0]\n",
    "    print(f\"feas: {feas}\")\n",
    "    display(SVG(draw_reaction(row['smarts'])))\n",
    "\n",
    "interact(show_mapped_reaction, idx=widgets.IntSlider(min=0, max=len(mapped)-1, step=1, value=0))"
   ]
  },
  {
   "cell_type": "code",
   "execution_count": 177,
   "id": "4c5dde94",
   "metadata": {},
   "outputs": [],
   "source": [
    "with open(Path(cfg.raw_data) / \"sprhea_240310_v3_mapped_no_subunits.json\", 'r') as f:\n",
    "    krs = json.load(f)"
   ]
  },
  {
   "cell_type": "code",
   "execution_count": 179,
   "id": "01688042",
   "metadata": {},
   "outputs": [],
   "source": [
    "tmp = pd.read_csv(Path(cfg.starters) / \"ccm_aa.csv\", sep=',')\n",
    "starters = [standardize_smiles(smi, neutralization_method='simple', quiet=True) for smi in tmp[\"smiles\"]]"
   ]
  },
  {
   "cell_type": "code",
   "execution_count": 181,
   "id": "6c0b14d7",
   "metadata": {},
   "outputs": [],
   "source": [
    "tmp_up = pd.read_csv(Path(cfg.coreactants) / \"unpaired.tsv\", sep='\\t')\n",
    "tmp_p = pd.read_csv(Path(cfg.coreactants) / \"paired.tsv\", sep='\\t')\n",
    "\n",
    "currency = tmp_up[\"smiles\"].tolist() + tmp_p[\"smiles_1\"].to_list() + tmp_p[\"smiles_2\"].to_list()\n",
    "currency = set(currency)"
   ]
  },
  {
   "cell_type": "code",
   "execution_count": 189,
   "id": "66e4d7b4",
   "metadata": {},
   "outputs": [],
   "source": [
    "ccm_aa_1_hop = set()\n",
    "products = set()\n",
    "for k, v in krs.items():\n",
    "    if v[\"min_rule\"] is None:\n",
    "        continue\n",
    "    reactants = v['smarts'].split('>>')[0].split(\".\")\n",
    "    if any([elt in reactants for elt in starters]):\n",
    "        ccm_aa_1_hop.add(k)\n",
    "\n",
    "        for prod in v['smarts'].split('>>')[1].split(\".\"):\n",
    "            products.add(prod)\n",
    "\n",
    "products = products - currency\n",
    "\n",
    "for k, v in krs.items():\n",
    "    if v[\"min_rule\"] is None:\n",
    "        continue\n",
    "    reactants = v['smarts'].split('>>')[0].split(\".\")\n",
    "    if any([elt in reactants for elt in products]):\n",
    "        ccm_aa_1_hop.add(k)"
   ]
  },
  {
   "cell_type": "code",
   "execution_count": 190,
   "id": "238962b8",
   "metadata": {},
   "outputs": [
    {
     "data": {
      "text/plain": [
       "4723"
      ]
     },
     "execution_count": 190,
     "metadata": {},
     "output_type": "execute_result"
    }
   ],
   "source": [
    "len(ccm_aa_1_hop)"
   ]
  },
  {
   "cell_type": "code",
   "execution_count": 191,
   "id": "f706d67e",
   "metadata": {},
   "outputs": [
    {
     "data": {
      "text/plain": [
       "np.float64(0.6677958924412449)"
      ]
     },
     "execution_count": 191,
     "metadata": {},
     "output_type": "execute_result"
    }
   ],
   "source": [
    "subset_feas = []\n",
    "for elt in ccm_aa_1_hop:\n",
    "    subset_feas.append(kr_feas_df.loc[kr_feas_df.id == elt, \"dxgb_label\"].values[0])\n",
    "np.mean(subset_feas)"
   ]
  }
 ],
 "metadata": {
  "kernelspec": {
   "display_name": ".venv",
   "language": "python",
   "name": "python3"
  },
  "language_info": {
   "codemirror_mode": {
    "name": "ipython",
    "version": 3
   },
   "file_extension": ".py",
   "mimetype": "text/x-python",
   "name": "python",
   "nbconvert_exporter": "python",
   "pygments_lexer": "ipython3",
   "version": "3.13.0"
  }
 },
 "nbformat": 4,
 "nbformat_minor": 5
}
