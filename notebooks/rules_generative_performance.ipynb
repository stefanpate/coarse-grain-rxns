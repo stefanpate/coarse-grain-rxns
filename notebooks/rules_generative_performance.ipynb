{
 "cells": [
  {
   "cell_type": "code",
   "execution_count": 25,
   "id": "5e9e6c18",
   "metadata": {},
   "outputs": [],
   "source": [
    "from pathlib import Path\n",
    "import numpy as np\n",
    "import pandas as pd\n",
    "import matplotlib.pyplot as plt\n",
    "from hydra import initialize, compose\n",
    "from rdkit import Chem\n",
    "from ergochemics.mapping import rc_to_nest, get_reaction_center\n",
    "from ergochemics.draw import draw_reaction, draw_molecule\n",
    "from minedatabase.pickaxe import Pickaxe\n",
    "from DORA_XGB import DORA_XGB\n",
    "from tqdm import tqdm\n",
    "\n",
    "with initialize(version_base=None, config_path=\"../configs/filepaths\"):\n",
    "    cfg = compose(config_name=\"filepaths\")"
   ]
  },
  {
   "cell_type": "code",
   "execution_count": 26,
   "id": "05c2a053",
   "metadata": {},
   "outputs": [
    {
     "data": {
      "text/html": [
       "<div>\n",
       "<style scoped>\n",
       "    .dataframe tbody tr th:only-of-type {\n",
       "        vertical-align: middle;\n",
       "    }\n",
       "\n",
       "    .dataframe tbody tr th {\n",
       "        vertical-align: top;\n",
       "    }\n",
       "\n",
       "    .dataframe thead tr th {\n",
       "        text-align: left;\n",
       "    }\n",
       "\n",
       "    .dataframe thead tr:last-of-type th {\n",
       "        text-align: right;\n",
       "    }\n",
       "</style>\n",
       "<table border=\"1\" class=\"dataframe\">\n",
       "  <thead>\n",
       "    <tr>\n",
       "      <th></th>\n",
       "      <th></th>\n",
       "      <th colspan=\"2\" halign=\"left\">fan_out</th>\n",
       "    </tr>\n",
       "    <tr>\n",
       "      <th></th>\n",
       "      <th></th>\n",
       "      <th>mean</th>\n",
       "      <th>std</th>\n",
       "    </tr>\n",
       "    <tr>\n",
       "      <th>expansion</th>\n",
       "      <th>gen</th>\n",
       "      <th></th>\n",
       "      <th></th>\n",
       "    </tr>\n",
       "  </thead>\n",
       "  <tbody>\n",
       "    <tr>\n",
       "      <th rowspan=\"2\" valign=\"top\">2_steps_ccm_aa_rules_mechinferred_dt_2_rules_w_coreactants_aplusb_True.pk</th>\n",
       "      <th>0</th>\n",
       "      <td>86.724138</td>\n",
       "      <td>117.871570</td>\n",
       "    </tr>\n",
       "    <tr>\n",
       "      <th>1</th>\n",
       "      <td>21.681499</td>\n",
       "      <td>15.475309</td>\n",
       "    </tr>\n",
       "    <tr>\n",
       "      <th rowspan=\"2\" valign=\"top\">2_steps_ccm_aa_rules_mechinferred_dt_3_rules_w_coreactants_aplusb_True.pk</th>\n",
       "      <th>0</th>\n",
       "      <td>119.310345</td>\n",
       "      <td>154.962231</td>\n",
       "    </tr>\n",
       "    <tr>\n",
       "      <th>1</th>\n",
       "      <td>26.777070</td>\n",
       "      <td>20.730161</td>\n",
       "    </tr>\n",
       "    <tr>\n",
       "      <th>2_steps_ccm_aa_rules_rc_plus_3_rules_w_coreactants_aplusb_True.pk</th>\n",
       "      <th>0</th>\n",
       "      <td>13.758621</td>\n",
       "      <td>6.711691</td>\n",
       "    </tr>\n",
       "  </tbody>\n",
       "</table>\n",
       "</div>"
      ],
      "text/plain": [
       "                                                           fan_out            \n",
       "                                                              mean         std\n",
       "expansion                                          gen                        \n",
       "2_steps_ccm_aa_rules_mechinferred_dt_2_rules_w_... 0     86.724138  117.871570\n",
       "                                                   1     21.681499   15.475309\n",
       "2_steps_ccm_aa_rules_mechinferred_dt_3_rules_w_... 0    119.310345  154.962231\n",
       "                                                   1     26.777070   20.730161\n",
       "2_steps_ccm_aa_rules_rc_plus_3_rules_w_coreacta... 0     13.758621    6.711691"
      ]
     },
     "execution_count": 26,
     "metadata": {},
     "output_type": "execute_result"
    }
   ],
   "source": [
    "expansion_name = \"two_least_permissive\"\n",
    "cpd_df = pd.read_parquet(Path(cfg.processed_data) / f\"{expansion_name}_compound_metrics.parquet\")\n",
    "cpd_df = cpd_df.groupby([\"expansion\", \"gen\"]).agg({\"fan_out\": [\"mean\", \"std\"]})\n",
    "cpd_df.head()"
   ]
  },
  {
   "cell_type": "code",
   "execution_count": 27,
   "id": "722ff37e",
   "metadata": {},
   "outputs": [
    {
     "data": {
      "text/html": [
       "<div>\n",
       "<style scoped>\n",
       "    .dataframe tbody tr th:only-of-type {\n",
       "        vertical-align: middle;\n",
       "    }\n",
       "\n",
       "    .dataframe tbody tr th {\n",
       "        vertical-align: top;\n",
       "    }\n",
       "\n",
       "    .dataframe thead th {\n",
       "        text-align: right;\n",
       "    }\n",
       "</style>\n",
       "<table border=\"1\" class=\"dataframe\">\n",
       "  <thead>\n",
       "    <tr style=\"text-align: right;\">\n",
       "      <th></th>\n",
       "      <th>dxgb_label</th>\n",
       "    </tr>\n",
       "    <tr>\n",
       "      <th>expansion</th>\n",
       "      <th></th>\n",
       "    </tr>\n",
       "  </thead>\n",
       "  <tbody>\n",
       "    <tr>\n",
       "      <th>2_steps_ccm_aa_rules_mechinferred_dt_2_rules_w_coreactants_aplusb_True.pk</th>\n",
       "      <td>0.544323</td>\n",
       "    </tr>\n",
       "    <tr>\n",
       "      <th>2_steps_ccm_aa_rules_mechinferred_dt_3_rules_w_coreactants_aplusb_True.pk</th>\n",
       "      <td>0.515559</td>\n",
       "    </tr>\n",
       "    <tr>\n",
       "      <th>2_steps_ccm_aa_rules_rc_plus_3_rules_w_coreactants_aplusb_True.pk</th>\n",
       "      <td>0.648188</td>\n",
       "    </tr>\n",
       "    <tr>\n",
       "      <th>2_steps_ccm_aa_rules_rc_plus_4_rules_w_coreactants_aplusb_True.pk</th>\n",
       "      <td>0.658920</td>\n",
       "    </tr>\n",
       "  </tbody>\n",
       "</table>\n",
       "</div>"
      ],
      "text/plain": [
       "                                                    dxgb_label\n",
       "expansion                                                     \n",
       "2_steps_ccm_aa_rules_mechinferred_dt_2_rules_w_...    0.544323\n",
       "2_steps_ccm_aa_rules_mechinferred_dt_3_rules_w_...    0.515559\n",
       "2_steps_ccm_aa_rules_rc_plus_3_rules_w_coreacta...    0.648188\n",
       "2_steps_ccm_aa_rules_rc_plus_4_rules_w_coreacta...    0.658920"
      ]
     },
     "execution_count": 27,
     "metadata": {},
     "output_type": "execute_result"
    }
   ],
   "source": [
    "rxn_df = pd.read_parquet(Path(cfg.processed_data) / f\"{expansion_name}_reaction_metrics.parquet\")\n",
    "rxn_df = rxn_df.groupby(\"expansion\").agg({\"dxgb_label\": \"mean\"})\n",
    "rxn_df.head()"
   ]
  }
 ],
 "metadata": {
  "kernelspec": {
   "display_name": ".venv",
   "language": "python",
   "name": "python3"
  },
  "language_info": {
   "codemirror_mode": {
    "name": "ipython",
    "version": 3
   },
   "file_extension": ".py",
   "mimetype": "text/x-python",
   "name": "python",
   "nbconvert_exporter": "python",
   "pygments_lexer": "ipython3",
   "version": "3.13.0"
  }
 },
 "nbformat": 4,
 "nbformat_minor": 5
}
