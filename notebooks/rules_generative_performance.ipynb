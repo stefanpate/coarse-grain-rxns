{
 "cells": [
  {
   "cell_type": "code",
   "execution_count": 102,
   "id": "5e9e6c18",
   "metadata": {},
   "outputs": [],
   "source": [
    "from pathlib import Path\n",
    "import numpy as np\n",
    "import pandas as pd\n",
    "import matplotlib.pyplot as plt\n",
    "import matplotlib.colors\n",
    "from matplotlib.patches import Patch\n",
    "from hydra import initialize, compose\n",
    "from rdkit import Chem\n",
    "from ergochemics.mapping import rc_to_nest, get_reaction_center\n",
    "from ergochemics.draw import draw_reaction, draw_molecule\n",
    "from ipywidgets import interact\n",
    "import ipywidgets as widgets\n",
    "from IPython.display import SVG\n",
    "from minedatabase.pickaxe import Pickaxe\n",
    "\n",
    "with initialize(version_base=None, config_path=\"../configs/filepaths\"):\n",
    "    cfg = compose(config_name=\"filepaths\")"
   ]
  },
  {
   "cell_type": "code",
   "execution_count": 8,
   "id": "05c2a053",
   "metadata": {},
   "outputs": [
    {
     "data": {
      "text/html": [
       "<div>\n",
       "<style scoped>\n",
       "    .dataframe tbody tr th:only-of-type {\n",
       "        vertical-align: middle;\n",
       "    }\n",
       "\n",
       "    .dataframe tbody tr th {\n",
       "        vertical-align: top;\n",
       "    }\n",
       "\n",
       "    .dataframe thead tr th {\n",
       "        text-align: left;\n",
       "    }\n",
       "</style>\n",
       "<table border=\"1\" class=\"dataframe\">\n",
       "  <thead>\n",
       "    <tr>\n",
       "      <th></th>\n",
       "      <th>expansion</th>\n",
       "      <th>gen</th>\n",
       "      <th colspan=\"2\" halign=\"left\">fan_out</th>\n",
       "    </tr>\n",
       "    <tr>\n",
       "      <th></th>\n",
       "      <th></th>\n",
       "      <th></th>\n",
       "      <th>mean</th>\n",
       "      <th>std</th>\n",
       "    </tr>\n",
       "  </thead>\n",
       "  <tbody>\n",
       "    <tr>\n",
       "      <th>0</th>\n",
       "      <td>2_steps_ccm_aa_rules_imt_rules_w_coreactants_a...</td>\n",
       "      <td>0</td>\n",
       "      <td>164.793103</td>\n",
       "      <td>292.132110</td>\n",
       "    </tr>\n",
       "    <tr>\n",
       "      <th>1</th>\n",
       "      <td>2_steps_ccm_aa_rules_imt_rules_w_coreactants_a...</td>\n",
       "      <td>1</td>\n",
       "      <td>60.500000</td>\n",
       "      <td>40.682036</td>\n",
       "    </tr>\n",
       "    <tr>\n",
       "      <th>2</th>\n",
       "      <td>2_steps_ccm_aa_rules_mechinferred_dt_15_rules_...</td>\n",
       "      <td>0</td>\n",
       "      <td>166.689655</td>\n",
       "      <td>204.523855</td>\n",
       "    </tr>\n",
       "    <tr>\n",
       "      <th>3</th>\n",
       "      <td>2_steps_ccm_aa_rules_mechinferred_dt_15_rules_...</td>\n",
       "      <td>1</td>\n",
       "      <td>36.062603</td>\n",
       "      <td>27.235182</td>\n",
       "    </tr>\n",
       "    <tr>\n",
       "      <th>4</th>\n",
       "      <td>2_steps_ccm_aa_rules_mechinferred_dt_2_rules_w...</td>\n",
       "      <td>0</td>\n",
       "      <td>86.724138</td>\n",
       "      <td>117.871570</td>\n",
       "    </tr>\n",
       "    <tr>\n",
       "      <th>5</th>\n",
       "      <td>2_steps_ccm_aa_rules_mechinferred_dt_2_rules_w...</td>\n",
       "      <td>1</td>\n",
       "      <td>21.681499</td>\n",
       "      <td>15.475309</td>\n",
       "    </tr>\n",
       "    <tr>\n",
       "      <th>6</th>\n",
       "      <td>2_steps_ccm_aa_rules_mechinferred_dt_3_rules_w...</td>\n",
       "      <td>0</td>\n",
       "      <td>119.310345</td>\n",
       "      <td>154.962231</td>\n",
       "    </tr>\n",
       "    <tr>\n",
       "      <th>7</th>\n",
       "      <td>2_steps_ccm_aa_rules_mechinferred_dt_3_rules_w...</td>\n",
       "      <td>1</td>\n",
       "      <td>26.777070</td>\n",
       "      <td>20.730161</td>\n",
       "    </tr>\n",
       "    <tr>\n",
       "      <th>8</th>\n",
       "      <td>2_steps_ccm_aa_rules_mechinferred_dt_6_rules_w...</td>\n",
       "      <td>0</td>\n",
       "      <td>137.034483</td>\n",
       "      <td>191.619877</td>\n",
       "    </tr>\n",
       "    <tr>\n",
       "      <th>9</th>\n",
       "      <td>2_steps_ccm_aa_rules_mechinferred_dt_6_rules_w...</td>\n",
       "      <td>1</td>\n",
       "      <td>28.583650</td>\n",
       "      <td>21.224775</td>\n",
       "    </tr>\n",
       "    <tr>\n",
       "      <th>10</th>\n",
       "      <td>2_steps_ccm_aa_rules_mechinferred_dt_98_rules_...</td>\n",
       "      <td>0</td>\n",
       "      <td>186.724138</td>\n",
       "      <td>261.401429</td>\n",
       "    </tr>\n",
       "    <tr>\n",
       "      <th>11</th>\n",
       "      <td>2_steps_ccm_aa_rules_mechinferred_dt_98_rules_...</td>\n",
       "      <td>1</td>\n",
       "      <td>44.057851</td>\n",
       "      <td>37.749986</td>\n",
       "    </tr>\n",
       "    <tr>\n",
       "      <th>12</th>\n",
       "      <td>2_steps_ccm_aa_rules_mechinformed_rules_w_core...</td>\n",
       "      <td>0</td>\n",
       "      <td>111.896552</td>\n",
       "      <td>194.829659</td>\n",
       "    </tr>\n",
       "    <tr>\n",
       "      <th>13</th>\n",
       "      <td>2_steps_ccm_aa_rules_mechinformed_rules_w_core...</td>\n",
       "      <td>1</td>\n",
       "      <td>26.923077</td>\n",
       "      <td>20.073932</td>\n",
       "    </tr>\n",
       "    <tr>\n",
       "      <th>14</th>\n",
       "      <td>2_steps_ccm_aa_rules_rc_plus_0_rules_w_coreact...</td>\n",
       "      <td>0</td>\n",
       "      <td>387.931034</td>\n",
       "      <td>1015.279094</td>\n",
       "    </tr>\n",
       "    <tr>\n",
       "      <th>15</th>\n",
       "      <td>2_steps_ccm_aa_rules_rc_plus_0_rules_w_coreact...</td>\n",
       "      <td>1</td>\n",
       "      <td>211.192738</td>\n",
       "      <td>183.280402</td>\n",
       "    </tr>\n",
       "    <tr>\n",
       "      <th>16</th>\n",
       "      <td>2_steps_ccm_aa_rules_rc_plus_1_rules_w_coreact...</td>\n",
       "      <td>0</td>\n",
       "      <td>68.068966</td>\n",
       "      <td>75.831548</td>\n",
       "    </tr>\n",
       "    <tr>\n",
       "      <th>17</th>\n",
       "      <td>2_steps_ccm_aa_rules_rc_plus_1_rules_w_coreact...</td>\n",
       "      <td>1</td>\n",
       "      <td>20.415094</td>\n",
       "      <td>13.402387</td>\n",
       "    </tr>\n",
       "    <tr>\n",
       "      <th>18</th>\n",
       "      <td>2_steps_ccm_aa_rules_rc_plus_2_rules_w_coreact...</td>\n",
       "      <td>0</td>\n",
       "      <td>30.034483</td>\n",
       "      <td>35.764590</td>\n",
       "    </tr>\n",
       "    <tr>\n",
       "      <th>19</th>\n",
       "      <td>2_steps_ccm_aa_rules_rc_plus_2_rules_w_coreact...</td>\n",
       "      <td>1</td>\n",
       "      <td>11.021053</td>\n",
       "      <td>5.461734</td>\n",
       "    </tr>\n",
       "    <tr>\n",
       "      <th>20</th>\n",
       "      <td>2_steps_ccm_aa_rules_rc_plus_3_rules_w_coreact...</td>\n",
       "      <td>0</td>\n",
       "      <td>13.758621</td>\n",
       "      <td>6.711691</td>\n",
       "    </tr>\n",
       "    <tr>\n",
       "      <th>21</th>\n",
       "      <td>2_steps_ccm_aa_rules_rc_plus_3_rules_w_coreact...</td>\n",
       "      <td>1</td>\n",
       "      <td>7.352941</td>\n",
       "      <td>3.603326</td>\n",
       "    </tr>\n",
       "    <tr>\n",
       "      <th>22</th>\n",
       "      <td>2_steps_ccm_aa_rules_rc_plus_4_rules_w_coreact...</td>\n",
       "      <td>0</td>\n",
       "      <td>13.137931</td>\n",
       "      <td>7.740082</td>\n",
       "    </tr>\n",
       "    <tr>\n",
       "      <th>23</th>\n",
       "      <td>2_steps_ccm_aa_rules_rc_plus_4_rules_w_coreact...</td>\n",
       "      <td>1</td>\n",
       "      <td>6.560386</td>\n",
       "      <td>3.122884</td>\n",
       "    </tr>\n",
       "  </tbody>\n",
       "</table>\n",
       "</div>"
      ],
      "text/plain": [
       "                                            expansion gen     fan_out  \\\n",
       "                                                                 mean   \n",
       "0   2_steps_ccm_aa_rules_imt_rules_w_coreactants_a...   0  164.793103   \n",
       "1   2_steps_ccm_aa_rules_imt_rules_w_coreactants_a...   1   60.500000   \n",
       "2   2_steps_ccm_aa_rules_mechinferred_dt_15_rules_...   0  166.689655   \n",
       "3   2_steps_ccm_aa_rules_mechinferred_dt_15_rules_...   1   36.062603   \n",
       "4   2_steps_ccm_aa_rules_mechinferred_dt_2_rules_w...   0   86.724138   \n",
       "5   2_steps_ccm_aa_rules_mechinferred_dt_2_rules_w...   1   21.681499   \n",
       "6   2_steps_ccm_aa_rules_mechinferred_dt_3_rules_w...   0  119.310345   \n",
       "7   2_steps_ccm_aa_rules_mechinferred_dt_3_rules_w...   1   26.777070   \n",
       "8   2_steps_ccm_aa_rules_mechinferred_dt_6_rules_w...   0  137.034483   \n",
       "9   2_steps_ccm_aa_rules_mechinferred_dt_6_rules_w...   1   28.583650   \n",
       "10  2_steps_ccm_aa_rules_mechinferred_dt_98_rules_...   0  186.724138   \n",
       "11  2_steps_ccm_aa_rules_mechinferred_dt_98_rules_...   1   44.057851   \n",
       "12  2_steps_ccm_aa_rules_mechinformed_rules_w_core...   0  111.896552   \n",
       "13  2_steps_ccm_aa_rules_mechinformed_rules_w_core...   1   26.923077   \n",
       "14  2_steps_ccm_aa_rules_rc_plus_0_rules_w_coreact...   0  387.931034   \n",
       "15  2_steps_ccm_aa_rules_rc_plus_0_rules_w_coreact...   1  211.192738   \n",
       "16  2_steps_ccm_aa_rules_rc_plus_1_rules_w_coreact...   0   68.068966   \n",
       "17  2_steps_ccm_aa_rules_rc_plus_1_rules_w_coreact...   1   20.415094   \n",
       "18  2_steps_ccm_aa_rules_rc_plus_2_rules_w_coreact...   0   30.034483   \n",
       "19  2_steps_ccm_aa_rules_rc_plus_2_rules_w_coreact...   1   11.021053   \n",
       "20  2_steps_ccm_aa_rules_rc_plus_3_rules_w_coreact...   0   13.758621   \n",
       "21  2_steps_ccm_aa_rules_rc_plus_3_rules_w_coreact...   1    7.352941   \n",
       "22  2_steps_ccm_aa_rules_rc_plus_4_rules_w_coreact...   0   13.137931   \n",
       "23  2_steps_ccm_aa_rules_rc_plus_4_rules_w_coreact...   1    6.560386   \n",
       "\n",
       "                 \n",
       "            std  \n",
       "0    292.132110  \n",
       "1     40.682036  \n",
       "2    204.523855  \n",
       "3     27.235182  \n",
       "4    117.871570  \n",
       "5     15.475309  \n",
       "6    154.962231  \n",
       "7     20.730161  \n",
       "8    191.619877  \n",
       "9     21.224775  \n",
       "10   261.401429  \n",
       "11    37.749986  \n",
       "12   194.829659  \n",
       "13    20.073932  \n",
       "14  1015.279094  \n",
       "15   183.280402  \n",
       "16    75.831548  \n",
       "17    13.402387  \n",
       "18    35.764590  \n",
       "19     5.461734  \n",
       "20     6.711691  \n",
       "21     3.603326  \n",
       "22     7.740082  \n",
       "23     3.122884  "
      ]
     },
     "execution_count": 8,
     "metadata": {},
     "output_type": "execute_result"
    }
   ],
   "source": [
    "expansion_name = \"2_steps_ccm_aa_aplusb_True\"\n",
    "cpd_df = pd.read_parquet(Path(cfg.processed_data) / f\"{expansion_name}_compound_metrics.parquet\")\n",
    "cpd_df = cpd_df.groupby([\"expansion\", \"gen\"]).agg({\"fan_out\": [\"mean\", \"std\"]}).reset_index()\n",
    "cpd_df.head(24)"
   ]
  },
  {
   "cell_type": "code",
   "execution_count": 11,
   "id": "722ff37e",
   "metadata": {},
   "outputs": [
    {
     "data": {
      "text/html": [
       "<div>\n",
       "<style scoped>\n",
       "    .dataframe tbody tr th:only-of-type {\n",
       "        vertical-align: middle;\n",
       "    }\n",
       "\n",
       "    .dataframe tbody tr th {\n",
       "        vertical-align: top;\n",
       "    }\n",
       "\n",
       "    .dataframe thead th {\n",
       "        text-align: right;\n",
       "    }\n",
       "</style>\n",
       "<table border=\"1\" class=\"dataframe\">\n",
       "  <thead>\n",
       "    <tr style=\"text-align: right;\">\n",
       "      <th></th>\n",
       "      <th>expansion</th>\n",
       "      <th>dxgb_label</th>\n",
       "    </tr>\n",
       "  </thead>\n",
       "  <tbody>\n",
       "    <tr>\n",
       "      <th>0</th>\n",
       "      <td>2_steps_ccm_aa_rules_imt_rules_w_coreactants_a...</td>\n",
       "      <td>0.284289</td>\n",
       "    </tr>\n",
       "    <tr>\n",
       "      <th>1</th>\n",
       "      <td>2_steps_ccm_aa_rules_mechinferred_dt_15_rules_...</td>\n",
       "      <td>0.452857</td>\n",
       "    </tr>\n",
       "    <tr>\n",
       "      <th>2</th>\n",
       "      <td>2_steps_ccm_aa_rules_mechinferred_dt_2_rules_w...</td>\n",
       "      <td>0.544323</td>\n",
       "    </tr>\n",
       "    <tr>\n",
       "      <th>3</th>\n",
       "      <td>2_steps_ccm_aa_rules_mechinferred_dt_3_rules_w...</td>\n",
       "      <td>0.515559</td>\n",
       "    </tr>\n",
       "    <tr>\n",
       "      <th>4</th>\n",
       "      <td>2_steps_ccm_aa_rules_mechinferred_dt_6_rules_w...</td>\n",
       "      <td>0.489283</td>\n",
       "    </tr>\n",
       "    <tr>\n",
       "      <th>5</th>\n",
       "      <td>2_steps_ccm_aa_rules_mechinferred_dt_98_rules_...</td>\n",
       "      <td>0.442432</td>\n",
       "    </tr>\n",
       "    <tr>\n",
       "      <th>6</th>\n",
       "      <td>2_steps_ccm_aa_rules_mechinformed_rules_w_core...</td>\n",
       "      <td>0.402511</td>\n",
       "    </tr>\n",
       "    <tr>\n",
       "      <th>7</th>\n",
       "      <td>2_steps_ccm_aa_rules_rc_plus_0_rules_w_coreact...</td>\n",
       "      <td>0.226116</td>\n",
       "    </tr>\n",
       "    <tr>\n",
       "      <th>8</th>\n",
       "      <td>2_steps_ccm_aa_rules_rc_plus_1_rules_w_coreact...</td>\n",
       "      <td>0.502010</td>\n",
       "    </tr>\n",
       "    <tr>\n",
       "      <th>9</th>\n",
       "      <td>2_steps_ccm_aa_rules_rc_plus_2_rules_w_coreact...</td>\n",
       "      <td>0.640449</td>\n",
       "    </tr>\n",
       "    <tr>\n",
       "      <th>10</th>\n",
       "      <td>2_steps_ccm_aa_rules_rc_plus_3_rules_w_coreact...</td>\n",
       "      <td>0.648188</td>\n",
       "    </tr>\n",
       "    <tr>\n",
       "      <th>11</th>\n",
       "      <td>2_steps_ccm_aa_rules_rc_plus_4_rules_w_coreact...</td>\n",
       "      <td>0.658920</td>\n",
       "    </tr>\n",
       "  </tbody>\n",
       "</table>\n",
       "</div>"
      ],
      "text/plain": [
       "                                            expansion  dxgb_label\n",
       "0   2_steps_ccm_aa_rules_imt_rules_w_coreactants_a...    0.284289\n",
       "1   2_steps_ccm_aa_rules_mechinferred_dt_15_rules_...    0.452857\n",
       "2   2_steps_ccm_aa_rules_mechinferred_dt_2_rules_w...    0.544323\n",
       "3   2_steps_ccm_aa_rules_mechinferred_dt_3_rules_w...    0.515559\n",
       "4   2_steps_ccm_aa_rules_mechinferred_dt_6_rules_w...    0.489283\n",
       "5   2_steps_ccm_aa_rules_mechinferred_dt_98_rules_...    0.442432\n",
       "6   2_steps_ccm_aa_rules_mechinformed_rules_w_core...    0.402511\n",
       "7   2_steps_ccm_aa_rules_rc_plus_0_rules_w_coreact...    0.226116\n",
       "8   2_steps_ccm_aa_rules_rc_plus_1_rules_w_coreact...    0.502010\n",
       "9   2_steps_ccm_aa_rules_rc_plus_2_rules_w_coreact...    0.640449\n",
       "10  2_steps_ccm_aa_rules_rc_plus_3_rules_w_coreact...    0.648188\n",
       "11  2_steps_ccm_aa_rules_rc_plus_4_rules_w_coreact...    0.658920"
      ]
     },
     "execution_count": 11,
     "metadata": {},
     "output_type": "execute_result"
    }
   ],
   "source": [
    "rxn_df = pd.read_parquet(Path(cfg.processed_data) / f\"{expansion_name}_reaction_metrics.parquet\")\n",
    "rxn_df = rxn_df.groupby(\"expansion\").agg({\"dxgb_label\": \"mean\"}).reset_index()\n",
    "rxn_df.head(12)"
   ]
  },
  {
   "cell_type": "code",
   "execution_count": null,
   "id": "0b25f4ea",
   "metadata": {},
   "outputs": [
    {
     "name": "stdout",
     "output_type": "stream",
     "text": [
      "----------------------------------------\n",
      "Intializing pickaxe object\n",
      "\n",
      "Done intializing pickaxe object\n",
      "----------------------------------------\n",
      "\n",
      "Loading /home/stef/cgr/data/interim/2_steps_ccm_aa_rules_imt_rules_w_coreactants_aplusb_True.pk pickled data.\n"
     ]
    },
    {
     "name": "stderr",
     "output_type": "stream",
     "text": [
      "[15:30:43] WARNING: not removing hydrogen atom without neighbors\n"
     ]
    },
    {
     "name": "stdout",
     "output_type": "stream",
     "text": [
      "Loaded 49241 compounds\n",
      "Loaded 80395 reactions\n",
      "Loaded 1852 operators\n",
      "Loaded 64 coreactants\n",
      "Loaded 2 generation\n",
      "Took -1.504957675933838\n",
      "----------------------------------------\n",
      "Intializing pickaxe object\n",
      "\n",
      "Done intializing pickaxe object\n",
      "----------------------------------------\n",
      "\n",
      "Loading /home/stef/cgr/data/interim/2_steps_ccm_aa_rules_mechinferred_dt_15_rules_w_coreactants_aplusb_True.pk pickled data.\n"
     ]
    },
    {
     "name": "stderr",
     "output_type": "stream",
     "text": [
      "[15:30:44] WARNING: not removing hydrogen atom without neighbors\n"
     ]
    },
    {
     "name": "stdout",
     "output_type": "stream",
     "text": [
      "Loaded 13600 compounds\n",
      "Loaded 22671 reactions\n",
      "Loaded 3746 operators\n",
      "Loaded 67 coreactants\n",
      "Loaded 2 generation\n",
      "Took 0.5755565166473389\n",
      "----------------------------------------\n",
      "Intializing pickaxe object\n",
      "\n",
      "Done intializing pickaxe object\n",
      "----------------------------------------\n",
      "\n",
      "Loading /home/stef/cgr/data/interim/2_steps_ccm_aa_rules_mechinferred_dt_2_rules_w_coreactants_aplusb_True.pk pickled data.\n"
     ]
    },
    {
     "name": "stderr",
     "output_type": "stream",
     "text": [
      "[15:30:46] WARNING: not removing hydrogen atom without neighbors\n"
     ]
    },
    {
     "name": "stdout",
     "output_type": "stream",
     "text": [
      "Loaded 6259 compounds\n",
      "Loaded 9809 reactions\n",
      "Loaded 7335 operators\n",
      "Loaded 71 coreactants\n",
      "Loaded 2 generation\n",
      "Took 1.7194411754608154\n",
      "----------------------------------------\n",
      "Intializing pickaxe object\n",
      "\n",
      "Done intializing pickaxe object\n",
      "----------------------------------------\n",
      "\n",
      "Loading /home/stef/cgr/data/interim/2_steps_ccm_aa_rules_mechinferred_dt_3_rules_w_coreactants_aplusb_True.pk pickled data.\n"
     ]
    },
    {
     "name": "stderr",
     "output_type": "stream",
     "text": [
      "[15:30:47] WARNING: not removing hydrogen atom without neighbors\n"
     ]
    },
    {
     "name": "stdout",
     "output_type": "stream",
     "text": [
      "Loaded 8066 compounds\n",
      "Loaded 13245 reactions\n",
      "Loaded 6236 operators\n",
      "Loaded 70 coreactants\n",
      "Loaded 2 generation\n",
      "Took 0.9897189140319824\n",
      "----------------------------------------\n",
      "Intializing pickaxe object\n",
      "\n",
      "Done intializing pickaxe object\n",
      "----------------------------------------\n",
      "\n",
      "Loading /home/stef/cgr/data/interim/2_steps_ccm_aa_rules_mechinferred_dt_6_rules_w_coreactants_aplusb_True.pk pickled data.\n"
     ]
    },
    {
     "name": "stderr",
     "output_type": "stream",
     "text": [
      "[15:30:48] WARNING: not removing hydrogen atom without neighbors\n"
     ]
    },
    {
     "name": "stdout",
     "output_type": "stream",
     "text": [
      "Loaded 9248 compounds\n",
      "Loaded 15729 reactions\n",
      "Loaded 5473 operators\n",
      "Loaded 69 coreactants\n",
      "Loaded 2 generation\n",
      "Took 0.7596230506896973\n",
      "----------------------------------------\n",
      "Intializing pickaxe object\n",
      "\n",
      "Done intializing pickaxe object\n",
      "----------------------------------------\n",
      "\n",
      "Loading /home/stef/cgr/data/interim/2_steps_ccm_aa_rules_mechinferred_dt_98_rules_w_coreactants_aplusb_True.pk pickled data.\n"
     ]
    },
    {
     "name": "stderr",
     "output_type": "stream",
     "text": [
      "[15:30:49] WARNING: not removing hydrogen atom without neighbors\n",
      "[15:30:49] WARNING: not removing hydrogen atom without neighbors\n"
     ]
    },
    {
     "name": "stdout",
     "output_type": "stream",
     "text": [
      "Loaded 20312 compounds\n",
      "Loaded 32908 reactions\n",
      "Loaded 2207 operators\n",
      "Loaded 65 coreactants\n",
      "Loaded 2 generation\n",
      "Took 0.3739199638366699\n",
      "----------------------------------------\n",
      "Intializing pickaxe object\n",
      "\n",
      "Done intializing pickaxe object\n",
      "----------------------------------------\n",
      "\n",
      "Loading /home/stef/cgr/data/interim/2_steps_ccm_aa_rules_mechinformed_rules_w_coreactants_aplusb_True.pk pickled data.\n",
      "Loaded 6629 compounds\n",
      "Loaded 11711 reactions\n",
      "Loaded 757 operators\n",
      "Loaded 66 coreactants\n",
      "Loaded 2 generation\n",
      "Took 0.10900306701660156\n",
      "----------------------------------------\n",
      "Intializing pickaxe object\n",
      "\n",
      "Done intializing pickaxe object\n",
      "----------------------------------------\n",
      "\n",
      "Loading /home/stef/cgr/data/interim/2_steps_ccm_aa_rules_rc_plus_0_rules_w_coreactants_aplusb_True.pk pickled data.\n"
     ]
    },
    {
     "name": "stderr",
     "output_type": "stream",
     "text": [
      "[15:30:54] WARNING: not removing hydrogen atom without neighbors\n"
     ]
    },
    {
     "name": "stdout",
     "output_type": "stream",
     "text": [
      "Loaded 372224 compounds\n",
      "Loaded 702208 reactions\n",
      "Loaded 1453 operators\n",
      "Loaded 58 coreactants\n",
      "Loaded 2 generation\n",
      "Took 4.9638097286224365\n",
      "----------------------------------------\n",
      "Intializing pickaxe object\n",
      "\n",
      "Done intializing pickaxe object\n",
      "----------------------------------------\n",
      "\n",
      "Loading /home/stef/cgr/data/interim/2_steps_ccm_aa_rules_rc_plus_1_rules_w_coreactants_aplusb_True.pk pickled data.\n"
     ]
    },
    {
     "name": "stderr",
     "output_type": "stream",
     "text": [
      "[15:30:55] WARNING: not removing hydrogen atom without neighbors\n"
     ]
    },
    {
     "name": "stdout",
     "output_type": "stream",
     "text": [
      "Loaded 5756 compounds\n",
      "Loaded 9210 reactions\n",
      "Loaded 3853 operators\n",
      "Loaded 71 coreactants\n",
      "Loaded 2 generation\n",
      "Took 0.3560037612915039\n",
      "----------------------------------------\n",
      "Intializing pickaxe object\n",
      "\n",
      "Done intializing pickaxe object\n",
      "----------------------------------------\n",
      "\n",
      "Loading /home/stef/cgr/data/interim/2_steps_ccm_aa_rules_rc_plus_2_rules_w_coreactants_aplusb_True.pk pickled data.\n"
     ]
    },
    {
     "name": "stderr",
     "output_type": "stream",
     "text": [
      "[15:30:56] WARNING: not removing hydrogen atom without neighbors\n"
     ]
    },
    {
     "name": "stdout",
     "output_type": "stream",
     "text": [
      "Loaded 2273 compounds\n",
      "Loaded 3477 reactions\n",
      "Loaded 5266 operators\n",
      "Loaded 72 coreactants\n",
      "Loaded 2 generation\n",
      "Took 0.6313655376434326\n",
      "----------------------------------------\n",
      "Intializing pickaxe object\n",
      "\n",
      "Done intializing pickaxe object\n",
      "----------------------------------------\n",
      "\n",
      "Loading /home/stef/cgr/data/interim/2_steps_ccm_aa_rules_rc_plus_3_rules_w_coreactants_aplusb_True.pk pickled data.\n"
     ]
    },
    {
     "name": "stderr",
     "output_type": "stream",
     "text": [
      "[15:30:57] WARNING: not removing hydrogen atom without neighbors\n"
     ]
    },
    {
     "name": "stdout",
     "output_type": "stream",
     "text": [
      "Loaded 1373 compounds\n",
      "Loaded 1881 reactions\n",
      "Loaded 6351 operators\n",
      "Loaded 74 coreactants\n",
      "Loaded 2 generation\n",
      "Took 0.9942317008972168\n",
      "----------------------------------------\n",
      "Intializing pickaxe object\n",
      "\n",
      "Done intializing pickaxe object\n",
      "----------------------------------------\n",
      "\n",
      "Loading /home/stef/cgr/data/interim/2_steps_ccm_aa_rules_rc_plus_4_rules_w_coreactants_aplusb_True.pk pickled data.\n",
      "Loaded 1176 compounds\n",
      "Loaded 1597 reactions\n",
      "Loaded 7204 operators\n",
      "Loaded 74 coreactants\n",
      "Loaded 2 generation\n",
      "Took 1.3396260738372803\n"
     ]
    },
    {
     "name": "stderr",
     "output_type": "stream",
     "text": [
      "[15:30:59] WARNING: not removing hydrogen atom without neighbors\n"
     ]
    },
    {
     "data": {
      "text/html": [
       "<div>\n",
       "<style scoped>\n",
       "    .dataframe tbody tr th:only-of-type {\n",
       "        vertical-align: middle;\n",
       "    }\n",
       "\n",
       "    .dataframe tbody tr th {\n",
       "        vertical-align: top;\n",
       "    }\n",
       "\n",
       "    .dataframe thead th {\n",
       "        text-align: right;\n",
       "    }\n",
       "</style>\n",
       "<table border=\"1\" class=\"dataframe\">\n",
       "  <thead>\n",
       "    <tr style=\"text-align: right;\">\n",
       "      <th></th>\n",
       "      <th>expansion</th>\n",
       "      <th>n_rxns</th>\n",
       "      <th>n_cpds</th>\n",
       "    </tr>\n",
       "  </thead>\n",
       "  <tbody>\n",
       "    <tr>\n",
       "      <th>0</th>\n",
       "      <td>2_steps_ccm_aa_rules_imt_rules_w_coreactants_a...</td>\n",
       "      <td>80395</td>\n",
       "      <td>49241</td>\n",
       "    </tr>\n",
       "    <tr>\n",
       "      <th>1</th>\n",
       "      <td>2_steps_ccm_aa_rules_mechinferred_dt_15_rules_...</td>\n",
       "      <td>22671</td>\n",
       "      <td>13600</td>\n",
       "    </tr>\n",
       "    <tr>\n",
       "      <th>2</th>\n",
       "      <td>2_steps_ccm_aa_rules_mechinferred_dt_2_rules_w...</td>\n",
       "      <td>9809</td>\n",
       "      <td>6259</td>\n",
       "    </tr>\n",
       "    <tr>\n",
       "      <th>3</th>\n",
       "      <td>2_steps_ccm_aa_rules_mechinferred_dt_3_rules_w...</td>\n",
       "      <td>13245</td>\n",
       "      <td>8066</td>\n",
       "    </tr>\n",
       "    <tr>\n",
       "      <th>4</th>\n",
       "      <td>2_steps_ccm_aa_rules_mechinferred_dt_6_rules_w...</td>\n",
       "      <td>15729</td>\n",
       "      <td>9248</td>\n",
       "    </tr>\n",
       "  </tbody>\n",
       "</table>\n",
       "</div>"
      ],
      "text/plain": [
       "                                           expansion  n_rxns  n_cpds\n",
       "0  2_steps_ccm_aa_rules_imt_rules_w_coreactants_a...   80395   49241\n",
       "1  2_steps_ccm_aa_rules_mechinferred_dt_15_rules_...   22671   13600\n",
       "2  2_steps_ccm_aa_rules_mechinferred_dt_2_rules_w...    9809    6259\n",
       "3  2_steps_ccm_aa_rules_mechinferred_dt_3_rules_w...   13245    8066\n",
       "4  2_steps_ccm_aa_rules_mechinferred_dt_6_rules_w...   15729    9248"
      ]
     },
     "execution_count": 6,
     "metadata": {},
     "output_type": "execute_result"
    }
   ],
   "source": [
    "ct_data = []\n",
    "for exp in rxn_df.expansion:\n",
    "    pk = Pickaxe()\n",
    "    pk.load_pickled_pickaxe(Path(cfg.interim_data) / exp)\n",
    "    ct_data.append([exp, len(pk.reactions), len(pk.compounds)])\n",
    "\n",
    "ct_df = pd.DataFrame(\n",
    "    data=ct_data,\n",
    "    columns=[\"expansion\", \"n_rxns\", \"n_cpds\"]\n",
    ")\n",
    "ct_df.head()"
   ]
  },
  {
   "cell_type": "code",
   "execution_count": 63,
   "id": "9480c2d9",
   "metadata": {},
   "outputs": [],
   "source": [
    "exp_names = rxn_df.expansion.to_list()\n",
    "perm = [6, 0, 7, 8, 9, 10, 11, 5, 1, 4, 3, 2]\n",
    "exp_names = [exp_names[p] for p in perm]\n",
    "exp_labels = {\n",
    "    '2_steps_ccm_aa_rules_mechinformed_rules_w_coreactants_aplusb_True.pk': \"Mechinformed\",\n",
    "    '2_steps_ccm_aa_rules_imt_rules_w_coreactants_aplusb_True.pk': \"Ni intermediate\",\n",
    "    '2_steps_ccm_aa_rules_rc_plus_0_rules_w_coreactants_aplusb_True.pk': \"RC + 0\",\n",
    "    '2_steps_ccm_aa_rules_rc_plus_1_rules_w_coreactants_aplusb_True.pk': \"RC + 1\",\n",
    "    '2_steps_ccm_aa_rules_rc_plus_2_rules_w_coreactants_aplusb_True.pk': \"RC + 2\",\n",
    "    '2_steps_ccm_aa_rules_rc_plus_3_rules_w_coreactants_aplusb_True.pk': \"RC + 3\",\n",
    "    '2_steps_ccm_aa_rules_rc_plus_4_rules_w_coreactants_aplusb_True.pk': \"RC + 4\",\n",
    "    '2_steps_ccm_aa_rules_mechinferred_dt_98_rules_w_coreactants_aplusb_True.pk': \"Mechinferred >0.98\",\n",
    "    '2_steps_ccm_aa_rules_mechinferred_dt_15_rules_w_coreactants_aplusb_True.pk': \"Mechinferred >0.15\",\n",
    "    '2_steps_ccm_aa_rules_mechinferred_dt_6_rules_w_coreactants_aplusb_True.pk': \"Mechinferred >0.06\",\n",
    "    '2_steps_ccm_aa_rules_mechinferred_dt_3_rules_w_coreactants_aplusb_True.pk': \"Mechinferred >0.03\",\n",
    "    '2_steps_ccm_aa_rules_mechinferred_dt_2_rules_w_coreactants_aplusb_True.pk': \"Mechinferred >0.02\"\n",
    "}\n",
    "\n",
    "colors = {\n",
    "    '2_steps_ccm_aa_rules_mechinformed_rules_w_coreactants_aplusb_True.pk': matplotlib.colors.to_rgba(\"green\"),\n",
    "    '2_steps_ccm_aa_rules_imt_rules_w_coreactants_aplusb_True.pk': matplotlib.colors.to_rgba(\"blue\"),\n",
    "    '2_steps_ccm_aa_rules_rc_plus_0_rules_w_coreactants_aplusb_True.pk': matplotlib.colors.to_rgba(\"black\", alpha=0.3),\n",
    "    '2_steps_ccm_aa_rules_rc_plus_1_rules_w_coreactants_aplusb_True.pk':matplotlib.colors.to_rgba(\"black\", alpha=0.45),\n",
    "    '2_steps_ccm_aa_rules_rc_plus_2_rules_w_coreactants_aplusb_True.pk': matplotlib.colors.to_rgba(\"black\", alpha=0.6),\n",
    "    '2_steps_ccm_aa_rules_rc_plus_3_rules_w_coreactants_aplusb_True.pk': matplotlib.colors.to_rgba(\"black\", alpha=0.85),\n",
    "    '2_steps_ccm_aa_rules_rc_plus_4_rules_w_coreactants_aplusb_True.pk': matplotlib.colors.to_rgba(\"black\", alpha=1.0),\n",
    "    '2_steps_ccm_aa_rules_mechinferred_dt_98_rules_w_coreactants_aplusb_True.pk': matplotlib.colors.to_rgba(\"purple\", alpha=0.3),\n",
    "    '2_steps_ccm_aa_rules_mechinferred_dt_15_rules_w_coreactants_aplusb_True.pk': matplotlib.colors.to_rgba(\"purple\", alpha=0.45),\n",
    "    '2_steps_ccm_aa_rules_mechinferred_dt_6_rules_w_coreactants_aplusb_True.pk': matplotlib.colors.to_rgba(\"purple\", alpha=0.6),\n",
    "    '2_steps_ccm_aa_rules_mechinferred_dt_3_rules_w_coreactants_aplusb_True.pk': matplotlib.colors.to_rgba(\"purple\", alpha=0.85),\n",
    "    '2_steps_ccm_aa_rules_mechinferred_dt_2_rules_w_coreactants_aplusb_True.pk': matplotlib.colors.to_rgba(\"purple\", alpha=1.0)\n",
    "}\n",
    "\n",
    "legend_elements = [\n",
    "    Patch(facecolor=col, edgecolor='w', label=exp_labels[name])\n",
    "    for name, col in colors.items()\n",
    "]"
   ]
  },
  {
   "cell_type": "code",
   "execution_count": 58,
   "id": "11b7cea0",
   "metadata": {},
   "outputs": [
    {
     "name": "stdout",
     "output_type": "stream",
     "text": [
      "(0.0, 0.0, 1.0, 1.0)\n",
      "(0.5019607843137255, 0.0, 0.5019607843137255, 1.0)\n",
      "(0.0, 0.0, 0.0, 1.0)\n",
      "(0.0, 0.5019607843137255, 0.0, 1.0)\n"
     ]
    }
   ],
   "source": [
    "print(matplotlib.colors.to_rgba(\"blue\"))\n",
    "print(matplotlib.colors.to_rgba(\"purple\"))\n",
    "print(matplotlib.colors.to_rgba(\"black\"))\n",
    "print(matplotlib.colors.to_rgba(\"green\"))"
   ]
  },
  {
   "cell_type": "code",
   "execution_count": 86,
   "id": "4bd5ad90",
   "metadata": {},
   "outputs": [
    {
     "data": {
      "image/png": "[encoded data removed]",
      "text/plain": [
       "<Figure size 1000x500 with 1 Axes>"
      ]
     },
     "metadata": {},
     "output_type": "display_data"
    }
   ],
   "source": [
    "# Fan out clustered bar graph\n",
    "\n",
    "gens = cpd_df.gen.unique()\n",
    "scl_space = 1.5\n",
    "n_bars = len(exp_labels)\n",
    "width = 0.1\n",
    "\n",
    "fig, ax = plt.subplots(figsize=(10, 5))\n",
    "\n",
    "for gen in gens:\n",
    "    ctr = gen * scl_space\n",
    "    for i in range(n_bars):\n",
    "        tick = ctr - ((n_bars * width) / 2) + (i * width)\n",
    "        exp_name = exp_names[i]\n",
    "        mean_fan_out = cpd_df.loc[(cpd_df[\"gen\"] == gen) & (cpd_df[\"expansion\"] == exp_name), \"fan_out\"][\"mean\"].values[0]\n",
    "        label = exp_labels[exp_name]\n",
    "        color = colors[exp_name]\n",
    "        ax.bar(tick, height=mean_fan_out, width=width, color=color, label=label)\n",
    "ax.set_xticks(gens * scl_space)\n",
    "ax.set_xticklabels(gens.astype(int))\n",
    "\n",
    "ax.set_xlabel(\"Generation\")\n",
    "ax.set_ylabel(\"Compound outdegree\")\n",
    "ax.legend(handles=legend_elements, loc='upper right', ncol=2, frameon=False, fontsize=10)\n",
    "plt.show()\n",
    "        "
   ]
  },
  {
   "cell_type": "code",
   "execution_count": 88,
   "id": "1ccd99c1",
   "metadata": {},
   "outputs": [
    {
     "data": {
      "image/png": "[encoded data removed]",
      "text/plain": [
       "<Figure size 700x600 with 1 Axes>"
      ]
     },
     "metadata": {},
     "output_type": "display_data"
    }
   ],
   "source": [
    "fig, ax = plt.subplots(figsize=(7, 6))\n",
    "width = 0.8\n",
    "for exp_name in exp_names:\n",
    "    feas_frac = rxn_df.loc[rxn_df[\"expansion\"] == exp_name, \"dxgb_label\"].values[0]\n",
    "    color = colors[exp_name]\n",
    "    ax.bar(x=exp_name, height=feas_frac, width=width, color=color)\n",
    "\n",
    "ax.set_xticklabels(labels=[])\n",
    "ax.legend(handles=legend_elements, loc='upper right', ncol=2, frameon=False, fontsize=10)\n",
    "ax.set_ylim(0, 1.0)\n",
    "ax.set_ylabel(\"Fraction DORA-XGB feasible reactions\")\n",
    "plt.show()"
   ]
  },
  {
   "cell_type": "code",
   "execution_count": 92,
   "id": "8bb0a345",
   "metadata": {},
   "outputs": [
    {
     "data": {
      "image/png": "[encoded data removed]",
      "text/plain": [
       "<Figure size 700x600 with 1 Axes>"
      ]
     },
     "metadata": {},
     "output_type": "display_data"
    }
   ],
   "source": [
    "fig, ax = plt.subplots(figsize=(7, 6))\n",
    "width = 0.8\n",
    "for exp_name in exp_names:\n",
    "    feas_frac = rxn_df.loc[rxn_df[\"expansion\"] == exp_name, \"dxgb_label\"].values[0]\n",
    "    tot_rxns = ct_df.loc[ct_df[\"expansion\"] == exp_name, \"n_rxns\"].values[0]\n",
    "    color = colors[exp_name]\n",
    "    ax.bar(x=exp_name, height=feas_frac * tot_rxns, width=width, color=color)\n",
    "\n",
    "ax.set_xticklabels(labels=[])\n",
    "ax.legend(handles=legend_elements, loc='upper right', ncol=2, frameon=False, fontsize=10)\n",
    "ax.set_ylabel(\"Number of DORA-XGB feasible reactions\")\n",
    "ax.set_yscale('log')\n",
    "plt.show()"
   ]
  },
  {
   "cell_type": "code",
   "execution_count": 93,
   "id": "59f66827",
   "metadata": {},
   "outputs": [
    {
     "data": {
      "image/png": "[encoded data removed]",
      "text/plain": [
       "<Figure size 700x600 with 1 Axes>"
      ]
     },
     "metadata": {},
     "output_type": "display_data"
    }
   ],
   "source": [
    "fig, ax = plt.subplots(figsize=(7, 6))\n",
    "width = 0.8\n",
    "for exp_name in exp_names:\n",
    "    tot_rxns = ct_df.loc[ct_df[\"expansion\"] == exp_name, \"n_rxns\"].values[0]\n",
    "    color = colors[exp_name]\n",
    "    ax.bar(x=exp_name, height=tot_rxns, width=width, color=color)\n",
    "\n",
    "ax.set_xticklabels(labels=[])\n",
    "ax.legend(handles=legend_elements, loc='upper right', ncol=2, frameon=False, fontsize=10)\n",
    "ax.set_ylabel(\"Total number of reactions\")\n",
    "ax.set_yscale('log')\n",
    "plt.show()"
   ]
  },
  {
   "cell_type": "code",
   "execution_count": 94,
   "id": "4e230b06",
   "metadata": {},
   "outputs": [
    {
     "data": {
      "text/html": [
       "<div>\n",
       "<style scoped>\n",
       "    .dataframe tbody tr th:only-of-type {\n",
       "        vertical-align: middle;\n",
       "    }\n",
       "\n",
       "    .dataframe tbody tr th {\n",
       "        vertical-align: top;\n",
       "    }\n",
       "\n",
       "    .dataframe thead th {\n",
       "        text-align: right;\n",
       "    }\n",
       "</style>\n",
       "<table border=\"1\" class=\"dataframe\">\n",
       "  <thead>\n",
       "    <tr style=\"text-align: right;\">\n",
       "      <th></th>\n",
       "      <th>smarts</th>\n",
       "      <th>dxgb_label</th>\n",
       "      <th>id</th>\n",
       "      <th>rules</th>\n",
       "      <th>expansion</th>\n",
       "    </tr>\n",
       "  </thead>\n",
       "  <tbody>\n",
       "    <tr>\n",
       "      <th>0</th>\n",
       "      <td>O=c1ccn(C2OC(COP(=O)(O)OP(=O)(O)OC3OC(CO)C(O)C...</td>\n",
       "      <td>1</td>\n",
       "      <td>Ra5466f30b2eff8d962354506782f3c774e2dbccfeabcc...</td>\n",
       "      <td>[813_1]</td>\n",
       "      <td>2_steps_ccm_aa_rules_mechinformed_rules_w_core...</td>\n",
       "    </tr>\n",
       "    <tr>\n",
       "      <th>1</th>\n",
       "      <td>O=C(O)CCC(=O)O.CC(N)C(=O)O&gt;&gt;CC(NC(=O)CCC(=O)O)...</td>\n",
       "      <td>1</td>\n",
       "      <td>R1a6f3d7e229c81ffd5e77b63a4191e793232130cbc0e0...</td>\n",
       "      <td>[8_0, 8_0_0, 8_0_0_0]</td>\n",
       "      <td>2_steps_ccm_aa_rules_mechinformed_rules_w_core...</td>\n",
       "    </tr>\n",
       "    <tr>\n",
       "      <th>2</th>\n",
       "      <td>O=c1ccn(C2OC(COP(=O)(O)OP(=O)(O)OC3OC(CO)C(O)C...</td>\n",
       "      <td>1</td>\n",
       "      <td>Ra9e6706c0b8df38fa1056bb4ad1ac443a60e95f3e02f1...</td>\n",
       "      <td>[558_1]</td>\n",
       "      <td>2_steps_ccm_aa_rules_mechinformed_rules_w_core...</td>\n",
       "    </tr>\n",
       "    <tr>\n",
       "      <th>3</th>\n",
       "      <td>O=C(O)CCC(=O)O.O=C(O)CCC(=O)O&gt;&gt;O.O=C(O)CCC(=O)...</td>\n",
       "      <td>0</td>\n",
       "      <td>Rec6d7525917f77e5f6c7a5942c1b7197b67be650c7476...</td>\n",
       "      <td>[167_0, 167_0_1, 167_0_0]</td>\n",
       "      <td>2_steps_ccm_aa_rules_mechinformed_rules_w_core...</td>\n",
       "    </tr>\n",
       "    <tr>\n",
       "      <th>4</th>\n",
       "      <td>Nc1ncnc2c1ncn2C1OC(COP(=O)(O)OP(=O)(O)OP(=O)(O...</td>\n",
       "      <td>0</td>\n",
       "      <td>R3b25a7e0bed159020e2a34dc51c3cf7529c6ec4038177...</td>\n",
       "      <td>[382_1, 333_1, 631_1]</td>\n",
       "      <td>2_steps_ccm_aa_rules_mechinformed_rules_w_core...</td>\n",
       "    </tr>\n",
       "    <tr>\n",
       "      <th>5</th>\n",
       "      <td>O=C(O)CCC(=O)O.NC(=O)C1=CN(C2OC(COP(=O)(O)OP(=...</td>\n",
       "      <td>0</td>\n",
       "      <td>Rdda1a22bada4082a3d67c1cd21dc3a233ae59012560a3...</td>\n",
       "      <td>[177_0]</td>\n",
       "      <td>2_steps_ccm_aa_rules_mechinformed_rules_w_core...</td>\n",
       "    </tr>\n",
       "    <tr>\n",
       "      <th>6</th>\n",
       "      <td>O=C(O)CC(O)C(=O)O.O=C(O)CCC(=O)O&gt;&gt;O=C(O)CCC(=O...</td>\n",
       "      <td>0</td>\n",
       "      <td>R6dc78a68eef458cf00438747bfce2c91d2d4bd21a1da9...</td>\n",
       "      <td>[703_0, 703_0_0_0, 703_0_0]</td>\n",
       "      <td>2_steps_ccm_aa_rules_mechinformed_rules_w_core...</td>\n",
       "    </tr>\n",
       "    <tr>\n",
       "      <th>7</th>\n",
       "      <td>O=C(O)CC(O)C(=O)O.O=C(O)CCC(=O)O&gt;&gt;O=C(O)CCC(=O...</td>\n",
       "      <td>0</td>\n",
       "      <td>Rf38295782a37516f50c0a439e1529a53e2a9c6a384178...</td>\n",
       "      <td>[703_0, 703_0_0_0, 703_0_0]</td>\n",
       "      <td>2_steps_ccm_aa_rules_mechinformed_rules_w_core...</td>\n",
       "    </tr>\n",
       "    <tr>\n",
       "      <th>8</th>\n",
       "      <td>O=C(O)CCC(=O)O.NC(CS)C(=O)O&gt;&gt;NC(CSC(=O)CCC(=O)...</td>\n",
       "      <td>1</td>\n",
       "      <td>Rd5f9bc7f1dff6d19cd8c03152d4455d66d5bedf22be69...</td>\n",
       "      <td>[216_0_0, 216_0_0_0, 216_0]</td>\n",
       "      <td>2_steps_ccm_aa_rules_mechinformed_rules_w_core...</td>\n",
       "    </tr>\n",
       "    <tr>\n",
       "      <th>9</th>\n",
       "      <td>O=C(O)CCC(=O)O.Nc1ncnc2c1ncn2C1OC(COP(=O)(O)OS...</td>\n",
       "      <td>0</td>\n",
       "      <td>Rd09eb66e0f70c16c4039f1c963e3916e3bdc2b673aac4...</td>\n",
       "      <td>[891_0]</td>\n",
       "      <td>2_steps_ccm_aa_rules_mechinformed_rules_w_core...</td>\n",
       "    </tr>\n",
       "    <tr>\n",
       "      <th>10</th>\n",
       "      <td>O=C(O)C=CC(=O)O.CC(N)C(=O)O&gt;&gt;CC(NC(CC(=O)O)C(=...</td>\n",
       "      <td>1</td>\n",
       "      <td>R1f90375dbbc784155f76feb1008fd4268adacf22f75ca...</td>\n",
       "      <td>[140_0_0, 140_0, 140_0_0_0]</td>\n",
       "      <td>2_steps_ccm_aa_rules_mechinformed_rules_w_core...</td>\n",
       "    </tr>\n",
       "    <tr>\n",
       "      <th>11</th>\n",
       "      <td>O=C(O)CCC(=O)O.N&gt;&gt;NC(=O)CCC(=O)O.O</td>\n",
       "      <td>0</td>\n",
       "      <td>R27e0413e700ccbc850256ce9614b6ef9fe878d955c6d7...</td>\n",
       "      <td>[52_0]</td>\n",
       "      <td>2_steps_ccm_aa_rules_mechinformed_rules_w_core...</td>\n",
       "    </tr>\n",
       "  </tbody>\n",
       "</table>\n",
       "</div>"
      ],
      "text/plain": [
       "                                               smarts  dxgb_label  \\\n",
       "0   O=c1ccn(C2OC(COP(=O)(O)OP(=O)(O)OC3OC(CO)C(O)C...           1   \n",
       "1   O=C(O)CCC(=O)O.CC(N)C(=O)O>>CC(NC(=O)CCC(=O)O)...           1   \n",
       "2   O=c1ccn(C2OC(COP(=O)(O)OP(=O)(O)OC3OC(CO)C(O)C...           1   \n",
       "3   O=C(O)CCC(=O)O.O=C(O)CCC(=O)O>>O.O=C(O)CCC(=O)...           0   \n",
       "4   Nc1ncnc2c1ncn2C1OC(COP(=O)(O)OP(=O)(O)OP(=O)(O...           0   \n",
       "5   O=C(O)CCC(=O)O.NC(=O)C1=CN(C2OC(COP(=O)(O)OP(=...           0   \n",
       "6   O=C(O)CC(O)C(=O)O.O=C(O)CCC(=O)O>>O=C(O)CCC(=O...           0   \n",
       "7   O=C(O)CC(O)C(=O)O.O=C(O)CCC(=O)O>>O=C(O)CCC(=O...           0   \n",
       "8   O=C(O)CCC(=O)O.NC(CS)C(=O)O>>NC(CSC(=O)CCC(=O)...           1   \n",
       "9   O=C(O)CCC(=O)O.Nc1ncnc2c1ncn2C1OC(COP(=O)(O)OS...           0   \n",
       "10  O=C(O)C=CC(=O)O.CC(N)C(=O)O>>CC(NC(CC(=O)O)C(=...           1   \n",
       "11                 O=C(O)CCC(=O)O.N>>NC(=O)CCC(=O)O.O           0   \n",
       "\n",
       "                                                   id  \\\n",
       "0   Ra5466f30b2eff8d962354506782f3c774e2dbccfeabcc...   \n",
       "1   R1a6f3d7e229c81ffd5e77b63a4191e793232130cbc0e0...   \n",
       "2   Ra9e6706c0b8df38fa1056bb4ad1ac443a60e95f3e02f1...   \n",
       "3   Rec6d7525917f77e5f6c7a5942c1b7197b67be650c7476...   \n",
       "4   R3b25a7e0bed159020e2a34dc51c3cf7529c6ec4038177...   \n",
       "5   Rdda1a22bada4082a3d67c1cd21dc3a233ae59012560a3...   \n",
       "6   R6dc78a68eef458cf00438747bfce2c91d2d4bd21a1da9...   \n",
       "7   Rf38295782a37516f50c0a439e1529a53e2a9c6a384178...   \n",
       "8   Rd5f9bc7f1dff6d19cd8c03152d4455d66d5bedf22be69...   \n",
       "9   Rd09eb66e0f70c16c4039f1c963e3916e3bdc2b673aac4...   \n",
       "10  R1f90375dbbc784155f76feb1008fd4268adacf22f75ca...   \n",
       "11  R27e0413e700ccbc850256ce9614b6ef9fe878d955c6d7...   \n",
       "\n",
       "                          rules  \\\n",
       "0                       [813_1]   \n",
       "1         [8_0, 8_0_0, 8_0_0_0]   \n",
       "2                       [558_1]   \n",
       "3     [167_0, 167_0_1, 167_0_0]   \n",
       "4         [382_1, 333_1, 631_1]   \n",
       "5                       [177_0]   \n",
       "6   [703_0, 703_0_0_0, 703_0_0]   \n",
       "7   [703_0, 703_0_0_0, 703_0_0]   \n",
       "8   [216_0_0, 216_0_0_0, 216_0]   \n",
       "9                       [891_0]   \n",
       "10  [140_0_0, 140_0, 140_0_0_0]   \n",
       "11                       [52_0]   \n",
       "\n",
       "                                            expansion  \n",
       "0   2_steps_ccm_aa_rules_mechinformed_rules_w_core...  \n",
       "1   2_steps_ccm_aa_rules_mechinformed_rules_w_core...  \n",
       "2   2_steps_ccm_aa_rules_mechinformed_rules_w_core...  \n",
       "3   2_steps_ccm_aa_rules_mechinformed_rules_w_core...  \n",
       "4   2_steps_ccm_aa_rules_mechinformed_rules_w_core...  \n",
       "5   2_steps_ccm_aa_rules_mechinformed_rules_w_core...  \n",
       "6   2_steps_ccm_aa_rules_mechinformed_rules_w_core...  \n",
       "7   2_steps_ccm_aa_rules_mechinformed_rules_w_core...  \n",
       "8   2_steps_ccm_aa_rules_mechinformed_rules_w_core...  \n",
       "9   2_steps_ccm_aa_rules_mechinformed_rules_w_core...  \n",
       "10  2_steps_ccm_aa_rules_mechinformed_rules_w_core...  \n",
       "11  2_steps_ccm_aa_rules_mechinformed_rules_w_core...  "
      ]
     },
     "execution_count": 94,
     "metadata": {},
     "output_type": "execute_result"
    }
   ],
   "source": [
    "rxn_df = pd.read_parquet(Path(cfg.processed_data) / f\"{expansion_name}_reaction_metrics.parquet\")\n",
    "rxn_df.head(12)"
   ]
  },
  {
   "cell_type": "code",
   "execution_count": 114,
   "id": "b22f5181",
   "metadata": {},
   "outputs": [],
   "source": [
    "mechinformed = rxn_df.loc[rxn_df.expansion == '2_steps_ccm_aa_rules_mechinformed_rules_w_coreactants_aplusb_True.pk']"
   ]
  },
  {
   "cell_type": "code",
   "execution_count": null,
   "id": "dce52ac6",
   "metadata": {},
   "outputs": [
    {
     "data": {
      "application/vnd.jupyter.widget-view+json": {
       "model_id": "b54059e0c12f48488a5ffd7c0831b9aa",
       "version_major": 2,
       "version_minor": 0
      },
      "text/plain": [
       "interactive(children=(IntSlider(value=0, description='idx', max=11708), Output()), _dom_classes=('widget-inter…"
      ]
     },
     "metadata": {},
     "output_type": "display_data"
    },
    {
     "data": {
      "text/plain": [
       "<function __main__.show_mechinformed_reaction(idx)>"
      ]
     },
     "execution_count": 115,
     "metadata": {},
     "output_type": "execute_result"
    }
   ],
   "source": [
    "def show_mechinformed_reaction(idx):\n",
    "    row = mechinformed.iloc[idx]\n",
    "    print(f\"dxgb_label: {row['dxgb_label']}\")\n",
    "    print(f\"rule: {row[\"rules\"]}\")\n",
    "    display(SVG(draw_reaction(row['smarts'])))\n",
    "\n",
    "interact(show_mechinformed_reaction, idx=widgets.IntSlider(min=0, max=len(mechinformed)-1, step=1, value=0))"
   ]
  },
  {
   "cell_type": "code",
   "execution_count": 116,
   "id": "9b8fbf47",
   "metadata": {},
   "outputs": [
    {
     "data": {
      "text/html": [
       "<div>\n",
       "<style scoped>\n",
       "    .dataframe tbody tr th:only-of-type {\n",
       "        vertical-align: middle;\n",
       "    }\n",
       "\n",
       "    .dataframe tbody tr th {\n",
       "        vertical-align: top;\n",
       "    }\n",
       "\n",
       "    .dataframe thead th {\n",
       "        text-align: right;\n",
       "    }\n",
       "</style>\n",
       "<table border=\"1\" class=\"dataframe\">\n",
       "  <thead>\n",
       "    <tr style=\"text-align: right;\">\n",
       "      <th></th>\n",
       "      <th>rxn_id</th>\n",
       "      <th>smarts</th>\n",
       "      <th>am_smarts</th>\n",
       "      <th>rule</th>\n",
       "      <th>template_aidxs</th>\n",
       "      <th>rule_id</th>\n",
       "    </tr>\n",
       "  </thead>\n",
       "  <tbody>\n",
       "    <tr>\n",
       "      <th>0</th>\n",
       "      <td>1</td>\n",
       "      <td>CC(O)C(O)C(O)C(O)C(=O)O&gt;&gt;O.CC(O)C(O)CC(=O)C(=O)O</td>\n",
       "      <td>[CH3:11][CH:9]([OH:12])[CH:8]([OH:10])[CH:7]([...</td>\n",
       "      <td>[O&amp;D1&amp;v2&amp;H0&amp;0*&amp;!R:1]=[C&amp;D3&amp;v4&amp;H0&amp;0*&amp;!R&amp;z2:2](-...</td>\n",
       "      <td>10,9,11,7,8,5,6&gt;&gt;0;5,6,7,8,9,10</td>\n",
       "      <td>841</td>\n",
       "    </tr>\n",
       "    <tr>\n",
       "      <th>1</th>\n",
       "      <td>10</td>\n",
       "      <td>O=P(O)(O)OP(=O)(O)O.CCCCCCCCCCCC(=O)OP(=O)(O)O...</td>\n",
       "      <td>[O:10]=[P:1]([OH:2])([OH:11])[O:3][P:4](=[O:5]...</td>\n",
       "      <td>[*:1](~[O&amp;D1&amp;v2&amp;H1&amp;0*&amp;!R:2])~[*:3]~[*:4](~[O&amp;D...</td>\n",
       "      <td>1,2,4,5,6,7,8;14,16,13&gt;&gt;15,17,18,19,20,21,22,2...</td>\n",
       "      <td>632</td>\n",
       "    </tr>\n",
       "    <tr>\n",
       "      <th>2</th>\n",
       "      <td>100</td>\n",
       "      <td>*C(=O)OCC(COP(=O)(O)OC1C(O)C(OP(=O)(O)O)C(O)C(...</td>\n",
       "      <td>[*:30][C:27](=[O:31])[O:25][CH2:23][CH:22]([CH...</td>\n",
       "      <td>[*:1](~[O&amp;D2&amp;v2&amp;H0&amp;0*&amp;!R:2]-[P&amp;D4&amp;v5&amp;H0&amp;0*&amp;!R:...</td>\n",
       "      <td>15,16,17,19,13,14;0&gt;&gt;13,14,15,16;1,2,3</td>\n",
       "      <td>813</td>\n",
       "    </tr>\n",
       "    <tr>\n",
       "      <th>3</th>\n",
       "      <td>10001</td>\n",
       "      <td>Nc1c(NCC(O)C(O)C(O)CO)[nH]c(=O)[nH]c1=O.Cc1cc2...</td>\n",
       "      <td>[NH2:25][c:26]1[c:27]([NH:29][CH2:36][CH:37]([...</td>\n",
       "      <td>[N&amp;D1&amp;v3&amp;H2&amp;0*&amp;!R:1]-[c&amp;D3&amp;v4&amp;H0&amp;0*&amp;R&amp;z1:2]:[c...</td>\n",
       "      <td>0,1,2,3,13;1,2,3,4,5,12,11,9,10,23,24,25&gt;&gt;0,1,...</td>\n",
       "      <td>338</td>\n",
       "    </tr>\n",
       "    <tr>\n",
       "      <th>4</th>\n",
       "      <td>10008</td>\n",
       "      <td>O.O=[N+]([O-])c1ccc(OP(=O)(O)O)cc1&gt;&gt;O=P(O)(O)O...</td>\n",
       "      <td>[OH2:5].[O:14]=[N+:13]([O-:15])[c:12]1[cH:10][...</td>\n",
       "      <td>[O&amp;D0&amp;v2&amp;H2&amp;0*&amp;!R:1].[O&amp;D2&amp;v2&amp;H0&amp;0*&amp;!R:2]-[P&amp;D...</td>\n",
       "      <td>0;7,8,9,10,11&gt;&gt;0,1,2,3,4;7</td>\n",
       "      <td>585</td>\n",
       "    </tr>\n",
       "  </tbody>\n",
       "</table>\n",
       "</div>"
      ],
      "text/plain": [
       "  rxn_id                                             smarts  \\\n",
       "0      1   CC(O)C(O)C(O)C(O)C(=O)O>>O.CC(O)C(O)CC(=O)C(=O)O   \n",
       "1     10  O=P(O)(O)OP(=O)(O)O.CCCCCCCCCCCC(=O)OP(=O)(O)O...   \n",
       "2    100  *C(=O)OCC(COP(=O)(O)OC1C(O)C(OP(=O)(O)O)C(O)C(...   \n",
       "3  10001  Nc1c(NCC(O)C(O)C(O)CO)[nH]c(=O)[nH]c1=O.Cc1cc2...   \n",
       "4  10008  O.O=[N+]([O-])c1ccc(OP(=O)(O)O)cc1>>O=P(O)(O)O...   \n",
       "\n",
       "                                           am_smarts  \\\n",
       "0  [CH3:11][CH:9]([OH:12])[CH:8]([OH:10])[CH:7]([...   \n",
       "1  [O:10]=[P:1]([OH:2])([OH:11])[O:3][P:4](=[O:5]...   \n",
       "2  [*:30][C:27](=[O:31])[O:25][CH2:23][CH:22]([CH...   \n",
       "3  [NH2:25][c:26]1[c:27]([NH:29][CH2:36][CH:37]([...   \n",
       "4  [OH2:5].[O:14]=[N+:13]([O-:15])[c:12]1[cH:10][...   \n",
       "\n",
       "                                                rule  \\\n",
       "0  [O&D1&v2&H0&0*&!R:1]=[C&D3&v4&H0&0*&!R&z2:2](-...   \n",
       "1  [*:1](~[O&D1&v2&H1&0*&!R:2])~[*:3]~[*:4](~[O&D...   \n",
       "2  [*:1](~[O&D2&v2&H0&0*&!R:2]-[P&D4&v5&H0&0*&!R:...   \n",
       "3  [N&D1&v3&H2&0*&!R:1]-[c&D3&v4&H0&0*&R&z1:2]:[c...   \n",
       "4  [O&D0&v2&H2&0*&!R:1].[O&D2&v2&H0&0*&!R:2]-[P&D...   \n",
       "\n",
       "                                      template_aidxs  rule_id  \n",
       "0                    10,9,11,7,8,5,6>>0;5,6,7,8,9,10      841  \n",
       "1  1,2,4,5,6,7,8;14,16,13>>15,17,18,19,20,21,22,2...      632  \n",
       "2             15,16,17,19,13,14;0>>13,14,15,16;1,2,3      813  \n",
       "3  0,1,2,3,13;1,2,3,4,5,12,11,9,10,23,24,25>>0,1,...      338  \n",
       "4                         0;7,8,9,10,11>>0,1,2,3,4;7      585  "
      ]
     },
     "execution_count": 116,
     "metadata": {},
     "output_type": "execute_result"
    }
   ],
   "source": [
    "sprhea_x_mechinformed = pd.read_parquet(Path(cfg.raw_data) / \"mapped_sprhea_240310_v3_mapped_no_subunits_x_mechinformed_rules.parquet\")\n",
    "sprhea_x_mechinformed.head()"
   ]
  },
  {
   "cell_type": "code",
   "execution_count": 120,
   "id": "4d58991a",
   "metadata": {},
   "outputs": [],
   "source": [
    "mapped = sprhea_x_mechinformed.loc[sprhea_x_mechinformed.rule_id == 208]"
   ]
  },
  {
   "cell_type": "code",
   "execution_count": 121,
   "id": "85cb4d7f",
   "metadata": {},
   "outputs": [
    {
     "data": {
      "application/vnd.jupyter.widget-view+json": {
       "model_id": "4587575214484cc68aa11e3a75f725dc",
       "version_major": 2,
       "version_minor": 0
      },
      "text/plain": [
       "interactive(children=(IntSlider(value=0, description='idx', max=9), Output()), _dom_classes=('widget-interact'…"
      ]
     },
     "metadata": {},
     "output_type": "display_data"
    },
    {
     "data": {
      "text/plain": [
       "<function __main__.show_mapped_reaction(idx)>"
      ]
     },
     "execution_count": 121,
     "metadata": {},
     "output_type": "execute_result"
    }
   ],
   "source": [
    "def show_mapped_reaction(idx):\n",
    "    row = mapped.iloc[idx]\n",
    "    display(SVG(draw_reaction(row['smarts'])))\n",
    "\n",
    "interact(show_mapped_reaction, idx=widgets.IntSlider(min=0, max=len(mapped)-1, step=1, value=0))"
   ]
  },
  {
   "cell_type": "code",
   "execution_count": 125,
   "id": "a872e8e0",
   "metadata": {},
   "outputs": [],
   "source": [
    "import json\n",
    "from DORA_XGB import DORA_XGB\n",
    "from tqdm import tqdm"
   ]
  },
  {
   "cell_type": "code",
   "execution_count": 123,
   "id": "4c5dde94",
   "metadata": {},
   "outputs": [],
   "source": [
    "with open(Path(cfg.raw_data) / \"sprhea_240310_v3_mapped_no_subunits.json\", 'r') as f:\n",
    "    krs = json.load(f)"
   ]
  },
  {
   "cell_type": "code",
   "execution_count": 129,
   "id": "c9eb1d0f",
   "metadata": {},
   "outputs": [],
   "source": [
    "krxns = [v[\"smarts\"] for v in krs.values()]\n",
    "dxgb = DORA_XGB.feasibility_classifier(cofactor_positioning=\"add_concat\")"
   ]
  },
  {
   "cell_type": "code",
   "execution_count": 130,
   "id": "320366e9",
   "metadata": {},
   "outputs": [
    {
     "name": "stderr",
     "output_type": "stream",
     "text": [
      "100%|██████████| 18954/18954 [05:22<00:00, 58.71it/s]\n"
     ]
    }
   ],
   "source": [
    "feas_labels = []\n",
    "\n",
    "for rxn in tqdm(krxns, total=len(krxns)):\n",
    "    feas_labels.append(dxgb.predict_label(rxn))"
   ]
  },
  {
   "cell_type": "code",
   "execution_count": 131,
   "id": "26c3b5c8",
   "metadata": {},
   "outputs": [
    {
     "data": {
      "text/plain": [
       "np.float64(0.5367204811649257)"
      ]
     },
     "execution_count": 131,
     "metadata": {},
     "output_type": "execute_result"
    }
   ],
   "source": [
    "kr_feas_frac = np.mean(feas_labels)\n",
    "kr_feas_frac"
   ]
  },
  {
   "cell_type": "code",
   "execution_count": 132,
   "id": "00132797",
   "metadata": {},
   "outputs": [
    {
     "data": {
      "text/html": [
       "<div>\n",
       "<style scoped>\n",
       "    .dataframe tbody tr th:only-of-type {\n",
       "        vertical-align: middle;\n",
       "    }\n",
       "\n",
       "    .dataframe tbody tr th {\n",
       "        vertical-align: top;\n",
       "    }\n",
       "\n",
       "    .dataframe thead th {\n",
       "        text-align: right;\n",
       "    }\n",
       "</style>\n",
       "<table border=\"1\" class=\"dataframe\">\n",
       "  <thead>\n",
       "    <tr style=\"text-align: right;\">\n",
       "      <th></th>\n",
       "      <th>id</th>\n",
       "      <th>smarts</th>\n",
       "      <th>dxgb_label</th>\n",
       "    </tr>\n",
       "  </thead>\n",
       "  <tbody>\n",
       "    <tr>\n",
       "      <th>0</th>\n",
       "      <td>0</td>\n",
       "      <td>NC(CCC=O)C(=O)O.NC(=O)c1ccc[n+](C2OC(COP(=O)(O...</td>\n",
       "      <td>0</td>\n",
       "    </tr>\n",
       "    <tr>\n",
       "      <th>1</th>\n",
       "      <td>1</td>\n",
       "      <td>CC(O)C(O)C(O)C(O)C(=O)O&gt;&gt;CC(O)C(O)CC(=O)C(=O)O.O</td>\n",
       "      <td>1</td>\n",
       "    </tr>\n",
       "    <tr>\n",
       "      <th>2</th>\n",
       "      <td>3</td>\n",
       "      <td>CSCCC(=O)C(=O)O.O=CO&gt;&gt;CSCCC(=O)C(O)=CO.O=O</td>\n",
       "      <td>0</td>\n",
       "    </tr>\n",
       "    <tr>\n",
       "      <th>3</th>\n",
       "      <td>4</td>\n",
       "      <td>O.O.[Fe+3].[Fe+3]&gt;&gt;OO.[Fe+2].[Fe+2]</td>\n",
       "      <td>0</td>\n",
       "    </tr>\n",
       "    <tr>\n",
       "      <th>4</th>\n",
       "      <td>5</td>\n",
       "      <td>Nc1nc2c(ncn2C2OC(COP(=O)(O)OP(=O)(O)OC3OC(CO)C...</td>\n",
       "      <td>0</td>\n",
       "    </tr>\n",
       "  </tbody>\n",
       "</table>\n",
       "</div>"
      ],
      "text/plain": [
       "  id                                             smarts  dxgb_label\n",
       "0  0  NC(CCC=O)C(=O)O.NC(=O)c1ccc[n+](C2OC(COP(=O)(O...           0\n",
       "1  1   CC(O)C(O)C(O)C(O)C(=O)O>>CC(O)C(O)CC(=O)C(=O)O.O           1\n",
       "2  3         CSCCC(=O)C(=O)O.O=CO>>CSCCC(=O)C(O)=CO.O=O           0\n",
       "3  4                O.O.[Fe+3].[Fe+3]>>OO.[Fe+2].[Fe+2]           0\n",
       "4  5  Nc1nc2c(ncn2C2OC(COP(=O)(O)OP(=O)(O)OC3OC(CO)C...           0"
      ]
     },
     "execution_count": 132,
     "metadata": {},
     "output_type": "execute_result"
    }
   ],
   "source": [
    "cols = [\"id\", \"smarts\", \"dxgb_label\"]\n",
    "krids = list(krs.keys())\n",
    "data = zip(krids, krxns, feas_labels)\n",
    "kr_feas_df = pd.DataFrame(data=data, columns=cols)\n",
    "kr_feas_df.head()"
   ]
  },
  {
   "cell_type": "code",
   "execution_count": 139,
   "id": "813cd2f4",
   "metadata": {},
   "outputs": [],
   "source": [
    "kr_feas_df.to_parquet(Path(cfg.processed_data) / \"sprhea_v3_dxgb_ac.parquet\")"
   ]
  }
 ],
 "metadata": {
  "kernelspec": {
   "display_name": ".venv",
   "language": "python",
   "name": "python3"
  },
  "language_info": {
   "codemirror_mode": {
    "name": "ipython",
    "version": 3
   },
   "file_extension": ".py",
   "mimetype": "text/x-python",
   "name": "python",
   "nbconvert_exporter": "python",
   "pygments_lexer": "ipython3",
   "version": "3.13.0"
  }
 },
 "nbformat": 4,
 "nbformat_minor": 5
}
