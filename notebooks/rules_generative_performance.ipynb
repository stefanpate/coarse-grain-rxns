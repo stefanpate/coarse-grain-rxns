{
 "cells": [
  {
   "cell_type": "code",
   "execution_count": 1,
   "id": "5e9e6c18",
   "metadata": {},
   "outputs": [],
   "source": [
    "from pathlib import Path\n",
    "import numpy as np\n",
    "import pandas as pd\n",
    "import matplotlib.pyplot as plt\n",
    "from hydra import initialize, compose\n",
    "from rdkit import Chem\n",
    "from ergochemics.mapping import rc_to_nest, get_reaction_center\n",
    "from ergochemics.draw import draw_reaction, draw_molecule\n",
    "from minedatabase.pickaxe import Pickaxe\n",
    "from DORA_XGB import DORA_XGB\n",
    "from tqdm import tqdm\n",
    "\n",
    "with initialize(version_base=None, config_path=\"../configs/filepaths\"):\n",
    "    cfg = compose(config_name=\"filepaths\")"
   ]
  },
  {
   "cell_type": "code",
   "execution_count": 14,
   "id": "3ccbcb10",
   "metadata": {},
   "outputs": [
    {
     "data": {
      "text/html": [
       "<div>\n",
       "<style scoped>\n",
       "    .dataframe tbody tr th:only-of-type {\n",
       "        vertical-align: middle;\n",
       "    }\n",
       "\n",
       "    .dataframe tbody tr th {\n",
       "        vertical-align: top;\n",
       "    }\n",
       "\n",
       "    .dataframe thead th {\n",
       "        text-align: right;\n",
       "    }\n",
       "</style>\n",
       "<table border=\"1\" class=\"dataframe\">\n",
       "  <thead>\n",
       "    <tr style=\"text-align: right;\">\n",
       "      <th></th>\n",
       "      <th>smiles</th>\n",
       "      <th>fan_out</th>\n",
       "      <th>gen</th>\n",
       "      <th>id</th>\n",
       "      <th>expansion</th>\n",
       "    </tr>\n",
       "  </thead>\n",
       "  <tbody>\n",
       "    <tr>\n",
       "      <th>0</th>\n",
       "      <td>O=C(O)CCC(=O)O</td>\n",
       "      <td>73</td>\n",
       "      <td>0</td>\n",
       "      <td>C4fe83a533b208e245e45b74e0967d7b8e9aad361</td>\n",
       "      <td>2_steps_ccm_aa_rules_mechinferred_dt_2_rules_w...</td>\n",
       "    </tr>\n",
       "    <tr>\n",
       "      <th>1</th>\n",
       "      <td>O=C(O)C=CC(=O)O</td>\n",
       "      <td>23</td>\n",
       "      <td>0</td>\n",
       "      <td>Cd2c8451fbe5563b9a086b59c26af17772205613a</td>\n",
       "      <td>2_steps_ccm_aa_rules_mechinferred_dt_2_rules_w...</td>\n",
       "    </tr>\n",
       "    <tr>\n",
       "      <th>2</th>\n",
       "      <td>O=C(O)CC(O)C(=O)O</td>\n",
       "      <td>35</td>\n",
       "      <td>0</td>\n",
       "      <td>Cc522b49cc542f782eb7779a6c90ac1a255334bfa</td>\n",
       "      <td>2_steps_ccm_aa_rules_mechinferred_dt_2_rules_w...</td>\n",
       "    </tr>\n",
       "    <tr>\n",
       "      <th>3</th>\n",
       "      <td>O=C(O)CC(=O)C(=O)O</td>\n",
       "      <td>51</td>\n",
       "      <td>0</td>\n",
       "      <td>C086e98dbf2ac460c91ac1a991badef07eb497a72</td>\n",
       "      <td>2_steps_ccm_aa_rules_mechinferred_dt_2_rules_w...</td>\n",
       "    </tr>\n",
       "    <tr>\n",
       "      <th>4</th>\n",
       "      <td>O=C(O)CCC(=O)C(=O)O</td>\n",
       "      <td>26</td>\n",
       "      <td>0</td>\n",
       "      <td>Ce264bf1bbd482e436995855afdf2170ce7229f1d</td>\n",
       "      <td>2_steps_ccm_aa_rules_mechinferred_dt_2_rules_w...</td>\n",
       "    </tr>\n",
       "  </tbody>\n",
       "</table>\n",
       "</div>"
      ],
      "text/plain": [
       "                smiles  fan_out  gen  \\\n",
       "0       O=C(O)CCC(=O)O       73    0   \n",
       "1      O=C(O)C=CC(=O)O       23    0   \n",
       "2    O=C(O)CC(O)C(=O)O       35    0   \n",
       "3   O=C(O)CC(=O)C(=O)O       51    0   \n",
       "4  O=C(O)CCC(=O)C(=O)O       26    0   \n",
       "\n",
       "                                          id  \\\n",
       "0  C4fe83a533b208e245e45b74e0967d7b8e9aad361   \n",
       "1  Cd2c8451fbe5563b9a086b59c26af17772205613a   \n",
       "2  Cc522b49cc542f782eb7779a6c90ac1a255334bfa   \n",
       "3  C086e98dbf2ac460c91ac1a991badef07eb497a72   \n",
       "4  Ce264bf1bbd482e436995855afdf2170ce7229f1d   \n",
       "\n",
       "                                           expansion  \n",
       "0  2_steps_ccm_aa_rules_mechinferred_dt_2_rules_w...  \n",
       "1  2_steps_ccm_aa_rules_mechinferred_dt_2_rules_w...  \n",
       "2  2_steps_ccm_aa_rules_mechinferred_dt_2_rules_w...  \n",
       "3  2_steps_ccm_aa_rules_mechinferred_dt_2_rules_w...  \n",
       "4  2_steps_ccm_aa_rules_mechinferred_dt_2_rules_w...  "
      ]
     },
     "execution_count": 14,
     "metadata": {},
     "output_type": "execute_result"
    }
   ],
   "source": [
    "cpd_df = pd.read_parquet(Path(cfg.processed_data) / \"2_steps_ccm_aa_aplusb_True_compound_metrics.parquet\")\n",
    "cpd_df.head()"
   ]
  },
  {
   "cell_type": "code",
   "execution_count": 16,
   "id": "53260a6f",
   "metadata": {},
   "outputs": [
    {
     "data": {
      "text/html": [
       "<div>\n",
       "<style scoped>\n",
       "    .dataframe tbody tr th:only-of-type {\n",
       "        vertical-align: middle;\n",
       "    }\n",
       "\n",
       "    .dataframe tbody tr th {\n",
       "        vertical-align: top;\n",
       "    }\n",
       "\n",
       "    .dataframe thead tr th {\n",
       "        text-align: left;\n",
       "    }\n",
       "\n",
       "    .dataframe thead tr:last-of-type th {\n",
       "        text-align: right;\n",
       "    }\n",
       "</style>\n",
       "<table border=\"1\" class=\"dataframe\">\n",
       "  <thead>\n",
       "    <tr>\n",
       "      <th></th>\n",
       "      <th></th>\n",
       "      <th colspan=\"2\" halign=\"left\">fan_out</th>\n",
       "    </tr>\n",
       "    <tr>\n",
       "      <th></th>\n",
       "      <th></th>\n",
       "      <th>mean</th>\n",
       "      <th>std</th>\n",
       "    </tr>\n",
       "    <tr>\n",
       "      <th>expansion</th>\n",
       "      <th>gen</th>\n",
       "      <th></th>\n",
       "      <th></th>\n",
       "    </tr>\n",
       "  </thead>\n",
       "  <tbody>\n",
       "    <tr>\n",
       "      <th rowspan=\"2\" valign=\"top\">2_steps_ccm_aa_rules_mechinferred_dt_2_rules_w_coreactants_aplusb_True.pk</th>\n",
       "      <th>0</th>\n",
       "      <td>86.724138</td>\n",
       "      <td>117.871570</td>\n",
       "    </tr>\n",
       "    <tr>\n",
       "      <th>1</th>\n",
       "      <td>21.681499</td>\n",
       "      <td>15.475309</td>\n",
       "    </tr>\n",
       "    <tr>\n",
       "      <th rowspan=\"2\" valign=\"top\">2_steps_ccm_aa_rules_mechinferred_dt_3_rules_w_coreactants_aplusb_True.pk</th>\n",
       "      <th>0</th>\n",
       "      <td>119.310345</td>\n",
       "      <td>154.962231</td>\n",
       "    </tr>\n",
       "    <tr>\n",
       "      <th>1</th>\n",
       "      <td>26.777070</td>\n",
       "      <td>20.730161</td>\n",
       "    </tr>\n",
       "    <tr>\n",
       "      <th rowspan=\"2\" valign=\"top\">2_steps_ccm_aa_rules_rc_plus_3_rules_w_coreactants_aplusb_True.pk</th>\n",
       "      <th>0</th>\n",
       "      <td>13.758621</td>\n",
       "      <td>6.711691</td>\n",
       "    </tr>\n",
       "    <tr>\n",
       "      <th>1</th>\n",
       "      <td>7.352941</td>\n",
       "      <td>3.603326</td>\n",
       "    </tr>\n",
       "    <tr>\n",
       "      <th rowspan=\"2\" valign=\"top\">2_steps_ccm_aa_rules_rc_plus_4_rules_w_coreactants_aplusb_True.pk</th>\n",
       "      <th>0</th>\n",
       "      <td>13.137931</td>\n",
       "      <td>7.740082</td>\n",
       "    </tr>\n",
       "    <tr>\n",
       "      <th>1</th>\n",
       "      <td>6.560386</td>\n",
       "      <td>3.122884</td>\n",
       "    </tr>\n",
       "  </tbody>\n",
       "</table>\n",
       "</div>"
      ],
      "text/plain": [
       "                                                           fan_out            \n",
       "                                                              mean         std\n",
       "expansion                                          gen                        \n",
       "2_steps_ccm_aa_rules_mechinferred_dt_2_rules_w_... 0     86.724138  117.871570\n",
       "                                                   1     21.681499   15.475309\n",
       "2_steps_ccm_aa_rules_mechinferred_dt_3_rules_w_... 0    119.310345  154.962231\n",
       "                                                   1     26.777070   20.730161\n",
       "2_steps_ccm_aa_rules_rc_plus_3_rules_w_coreacta... 0     13.758621    6.711691\n",
       "                                                   1      7.352941    3.603326\n",
       "2_steps_ccm_aa_rules_rc_plus_4_rules_w_coreacta... 0     13.137931    7.740082\n",
       "                                                   1      6.560386    3.122884"
      ]
     },
     "execution_count": 16,
     "metadata": {},
     "output_type": "execute_result"
    }
   ],
   "source": [
    "cpd_df.groupby([\"expansion\", \"gen\"]).agg({\"fan_out\": [\"mean\", \"std\"]})"
   ]
  },
  {
   "cell_type": "code",
   "execution_count": 3,
   "id": "8da2e344",
   "metadata": {},
   "outputs": [],
   "source": [
    "dxgb_ac = DORA_XGB.feasibility_classifier(cofactor_positioning='add_concat')"
   ]
  },
  {
   "cell_type": "code",
   "execution_count": null,
   "id": "d0d6d3a2",
   "metadata": {},
   "outputs": [
    {
     "name": "stderr",
     "output_type": "stream",
     "text": [
      "  0%|          | 0/4 [00:00<?, ?it/s]"
     ]
    },
    {
     "name": "stdout",
     "output_type": "stream",
     "text": [
      "----------------------------------------\n",
      "Intializing pickaxe object\n",
      "\n",
      "Done intializing pickaxe object\n",
      "----------------------------------------\n",
      "\n",
      "Loading /home/stef/cgr/data/interim/2_steps_ccm_aa_rules_mechinferred_dt_2_rules_w_coreactants_aplusb_True.pk pickled data.\n"
     ]
    },
    {
     "name": "stderr",
     "output_type": "stream",
     "text": [
      "[16:17:36] WARNING: not removing hydrogen atom without neighbors\n",
      " 25%|██▌       | 1/4 [00:01<00:03,  1.16s/it]"
     ]
    },
    {
     "name": "stdout",
     "output_type": "stream",
     "text": [
      "Loaded 6259 compounds\n",
      "Loaded 9809 reactions\n",
      "Loaded 7335 operators\n",
      "Loaded 71 coreactants\n",
      "Loaded 2 generation\n",
      "Took 1.1585707664489746\n",
      "----------------------------------------\n",
      "Intializing pickaxe object\n",
      "\n",
      "Done intializing pickaxe object\n",
      "----------------------------------------\n",
      "\n",
      "Loading /home/stef/cgr/data/interim/2_steps_ccm_aa_rules_mechinferred_dt_3_rules_w_coreactants_aplusb_True.pk pickled data.\n"
     ]
    },
    {
     "name": "stderr",
     "output_type": "stream",
     "text": [
      "[16:17:38] WARNING: not removing hydrogen atom without neighbors\n",
      " 50%|█████     | 2/4 [00:02<00:02,  1.27s/it]"
     ]
    },
    {
     "name": "stdout",
     "output_type": "stream",
     "text": [
      "Loaded 8066 compounds\n",
      "Loaded 13245 reactions\n",
      "Loaded 6236 operators\n",
      "Loaded 70 coreactants\n",
      "Loaded 2 generation\n",
      "Took 0.9358837604522705\n",
      "----------------------------------------\n",
      "Intializing pickaxe object\n",
      "\n",
      "Done intializing pickaxe object\n",
      "----------------------------------------\n",
      "\n",
      "Loading /home/stef/cgr/data/interim/2_steps_ccm_aa_rules_rc_plus_3_rules_w_coreactants_aplusb_True.pk pickled data.\n"
     ]
    },
    {
     "name": "stderr",
     "output_type": "stream",
     "text": [
      "[16:17:39] WARNING: not removing hydrogen atom without neighbors\n",
      " 75%|███████▌  | 3/4 [00:03<00:01,  1.23s/it]"
     ]
    },
    {
     "name": "stdout",
     "output_type": "stream",
     "text": [
      "Loaded 1373 compounds\n",
      "Loaded 1881 reactions\n",
      "Loaded 6351 operators\n",
      "Loaded 74 coreactants\n",
      "Loaded 2 generation\n",
      "Took 0.8810744285583496\n",
      "----------------------------------------\n",
      "Intializing pickaxe object\n",
      "\n",
      "Done intializing pickaxe object\n",
      "----------------------------------------\n",
      "\n",
      "Loading /home/stef/cgr/data/interim/2_steps_ccm_aa_rules_rc_plus_4_rules_w_coreactants_aplusb_True.pk pickled data.\n"
     ]
    },
    {
     "name": "stderr",
     "output_type": "stream",
     "text": [
      "[16:17:40] WARNING: not removing hydrogen atom without neighbors\n",
      "100%|██████████| 4/4 [00:05<00:00,  1.32s/it]"
     ]
    },
    {
     "name": "stdout",
     "output_type": "stream",
     "text": [
      "Loaded 1176 compounds\n",
      "Loaded 1597 reactions\n",
      "Loaded 7204 operators\n",
      "Loaded 74 coreactants\n",
      "Loaded 2 generation\n",
      "Took 1.1998097896575928\n"
     ]
    },
    {
     "name": "stderr",
     "output_type": "stream",
     "text": [
      "\n"
     ]
    },
    {
     "data": {
      "text/html": [
       "<div>\n",
       "<style scoped>\n",
       "    .dataframe tbody tr th:only-of-type {\n",
       "        vertical-align: middle;\n",
       "    }\n",
       "\n",
       "    .dataframe tbody tr th {\n",
       "        vertical-align: top;\n",
       "    }\n",
       "\n",
       "    .dataframe thead th {\n",
       "        text-align: right;\n",
       "    }\n",
       "</style>\n",
       "<table border=\"1\" class=\"dataframe\">\n",
       "  <thead>\n",
       "    <tr style=\"text-align: right;\">\n",
       "      <th></th>\n",
       "      <th>expansion</th>\n",
       "      <th>generation</th>\n",
       "      <th>fan_out</th>\n",
       "      <th>fan_out_std</th>\n",
       "    </tr>\n",
       "  </thead>\n",
       "  <tbody>\n",
       "    <tr>\n",
       "      <th>0</th>\n",
       "      <td>2_steps_ccm_aa_rules_mechinferred_dt_2_rules_w...</td>\n",
       "      <td>0</td>\n",
       "      <td>86.724138</td>\n",
       "      <td>115.821473</td>\n",
       "    </tr>\n",
       "    <tr>\n",
       "      <th>1</th>\n",
       "      <td>2_steps_ccm_aa_rules_mechinferred_dt_2_rules_w...</td>\n",
       "      <td>1</td>\n",
       "      <td>21.681499</td>\n",
       "      <td>15.457177</td>\n",
       "    </tr>\n",
       "    <tr>\n",
       "      <th>2</th>\n",
       "      <td>2_steps_ccm_aa_rules_mechinferred_dt_3_rules_w...</td>\n",
       "      <td>0</td>\n",
       "      <td>119.310345</td>\n",
       "      <td>152.267030</td>\n",
       "    </tr>\n",
       "    <tr>\n",
       "      <th>3</th>\n",
       "      <td>2_steps_ccm_aa_rules_mechinferred_dt_3_rules_w...</td>\n",
       "      <td>1</td>\n",
       "      <td>26.777070</td>\n",
       "      <td>20.708142</td>\n",
       "    </tr>\n",
       "    <tr>\n",
       "      <th>4</th>\n",
       "      <td>2_steps_ccm_aa_rules_rc_plus_3_rules_w_coreact...</td>\n",
       "      <td>0</td>\n",
       "      <td>13.758621</td>\n",
       "      <td>6.594957</td>\n",
       "    </tr>\n",
       "  </tbody>\n",
       "</table>\n",
       "</div>"
      ],
      "text/plain": [
       "                                           expansion  generation     fan_out  \\\n",
       "0  2_steps_ccm_aa_rules_mechinferred_dt_2_rules_w...           0   86.724138   \n",
       "1  2_steps_ccm_aa_rules_mechinferred_dt_2_rules_w...           1   21.681499   \n",
       "2  2_steps_ccm_aa_rules_mechinferred_dt_3_rules_w...           0  119.310345   \n",
       "3  2_steps_ccm_aa_rules_mechinferred_dt_3_rules_w...           1   26.777070   \n",
       "4  2_steps_ccm_aa_rules_rc_plus_3_rules_w_coreact...           0   13.758621   \n",
       "\n",
       "   fan_out_std  \n",
       "0   115.821473  \n",
       "1    15.457177  \n",
       "2   152.267030  \n",
       "3    20.708142  \n",
       "4     6.594957  "
      ]
     },
     "execution_count": 4,
     "metadata": {},
     "output_type": "execute_result"
    }
   ],
   "source": [
    "expansions = [\n",
    "    \"2_steps_ccm_aa_rules_mechinferred_dt_2_rules_w_coreactants_aplusb_True.pk\",\n",
    "    \"2_steps_ccm_aa_rules_mechinferred_dt_3_rules_w_coreactants_aplusb_True.pk\",\n",
    "    \"2_steps_ccm_aa_rules_rc_plus_3_rules_w_coreactants_aplusb_True.pk\",\n",
    "    \"2_steps_ccm_aa_rules_rc_plus_4_rules_w_coreactants_aplusb_True.pk\"\n",
    "]\n",
    "\n",
    "\n",
    "rxn_data = {\n",
    "    \"expansion\": [],\n",
    "    \"fraction_dxgb_feasible\": [],\n",
    "}\n",
    "\n",
    "for exp in tqdm(expansions, total=len(expansions)):\n",
    "    pk = Pickaxe()\n",
    "    pk.load_pickled_pickaxe(Path(cfg.interim_data) / exp)\n",
    "    # feas_frac = calculate_dxgb_feas_frac(rxns=pk.reactions, dxgb=dxgb_ac)\n",
    "    # rxn_data[\"expansion\"].append(exp)\n",
    "    # rxn_data[\"fraction_dxgb_feasible\"].append(feas_frac)"
   ]
  },
  {
   "cell_type": "code",
   "execution_count": 12,
   "id": "9aaf799e",
   "metadata": {},
   "outputs": [
    {
     "data": {
      "text/html": [
       "<div>\n",
       "<style scoped>\n",
       "    .dataframe tbody tr th:only-of-type {\n",
       "        vertical-align: middle;\n",
       "    }\n",
       "\n",
       "    .dataframe tbody tr th {\n",
       "        vertical-align: top;\n",
       "    }\n",
       "\n",
       "    .dataframe thead th {\n",
       "        text-align: right;\n",
       "    }\n",
       "</style>\n",
       "<table border=\"1\" class=\"dataframe\">\n",
       "  <thead>\n",
       "    <tr style=\"text-align: right;\">\n",
       "      <th></th>\n",
       "      <th>expansion</th>\n",
       "      <th>generation</th>\n",
       "      <th>fan_out</th>\n",
       "      <th>fan_out_std</th>\n",
       "    </tr>\n",
       "  </thead>\n",
       "  <tbody>\n",
       "    <tr>\n",
       "      <th>0</th>\n",
       "      <td>2_steps_ccm_aa_rules_mechinferred_dt_2_rules_w...</td>\n",
       "      <td>0</td>\n",
       "      <td>86.724138</td>\n",
       "      <td>115.821473</td>\n",
       "    </tr>\n",
       "    <tr>\n",
       "      <th>1</th>\n",
       "      <td>2_steps_ccm_aa_rules_mechinferred_dt_2_rules_w...</td>\n",
       "      <td>1</td>\n",
       "      <td>21.681499</td>\n",
       "      <td>15.457177</td>\n",
       "    </tr>\n",
       "    <tr>\n",
       "      <th>2</th>\n",
       "      <td>2_steps_ccm_aa_rules_mechinferred_dt_3_rules_w...</td>\n",
       "      <td>0</td>\n",
       "      <td>119.310345</td>\n",
       "      <td>152.267030</td>\n",
       "    </tr>\n",
       "    <tr>\n",
       "      <th>3</th>\n",
       "      <td>2_steps_ccm_aa_rules_mechinferred_dt_3_rules_w...</td>\n",
       "      <td>1</td>\n",
       "      <td>26.777070</td>\n",
       "      <td>20.708142</td>\n",
       "    </tr>\n",
       "    <tr>\n",
       "      <th>4</th>\n",
       "      <td>2_steps_ccm_aa_rules_rc_plus_3_rules_w_coreact...</td>\n",
       "      <td>0</td>\n",
       "      <td>13.758621</td>\n",
       "      <td>6.594957</td>\n",
       "    </tr>\n",
       "    <tr>\n",
       "      <th>5</th>\n",
       "      <td>2_steps_ccm_aa_rules_rc_plus_3_rules_w_coreact...</td>\n",
       "      <td>1</td>\n",
       "      <td>7.352941</td>\n",
       "      <td>3.595164</td>\n",
       "    </tr>\n",
       "    <tr>\n",
       "      <th>6</th>\n",
       "      <td>2_steps_ccm_aa_rules_rc_plus_4_rules_w_coreact...</td>\n",
       "      <td>0</td>\n",
       "      <td>13.137931</td>\n",
       "      <td>7.605461</td>\n",
       "    </tr>\n",
       "    <tr>\n",
       "      <th>7</th>\n",
       "      <td>2_steps_ccm_aa_rules_rc_plus_4_rules_w_coreact...</td>\n",
       "      <td>1</td>\n",
       "      <td>6.560386</td>\n",
       "      <td>3.115332</td>\n",
       "    </tr>\n",
       "  </tbody>\n",
       "</table>\n",
       "</div>"
      ],
      "text/plain": [
       "                                           expansion  generation     fan_out  \\\n",
       "0  2_steps_ccm_aa_rules_mechinferred_dt_2_rules_w...           0   86.724138   \n",
       "1  2_steps_ccm_aa_rules_mechinferred_dt_2_rules_w...           1   21.681499   \n",
       "2  2_steps_ccm_aa_rules_mechinferred_dt_3_rules_w...           0  119.310345   \n",
       "3  2_steps_ccm_aa_rules_mechinferred_dt_3_rules_w...           1   26.777070   \n",
       "4  2_steps_ccm_aa_rules_rc_plus_3_rules_w_coreact...           0   13.758621   \n",
       "5  2_steps_ccm_aa_rules_rc_plus_3_rules_w_coreact...           1    7.352941   \n",
       "6  2_steps_ccm_aa_rules_rc_plus_4_rules_w_coreact...           0   13.137931   \n",
       "7  2_steps_ccm_aa_rules_rc_plus_4_rules_w_coreact...           1    6.560386   \n",
       "\n",
       "   fan_out_std  \n",
       "0   115.821473  \n",
       "1    15.457177  \n",
       "2   152.267030  \n",
       "3    20.708142  \n",
       "4     6.594957  \n",
       "5     3.595164  \n",
       "6     7.605461  \n",
       "7     3.115332  "
      ]
     },
     "execution_count": 12,
     "metadata": {},
     "output_type": "execute_result"
    }
   ],
   "source": [
    "cpd_df"
   ]
  },
  {
   "cell_type": "code",
   "execution_count": 5,
   "id": "be72cf7f",
   "metadata": {},
   "outputs": [],
   "source": [
    "# rxn_df = pd.DataFrame(rxn_data)\n",
    "# rxn_df.head()"
   ]
  },
  {
   "cell_type": "code",
   "execution_count": 17,
   "id": "75005394",
   "metadata": {},
   "outputs": [
    {
     "data": {
      "text/plain": [
       "{'_id': 'R953be8145dab070edb7e9b51374151c1a8a599882693243281f0081daf7f4b8a',\n",
       " 'Reactants': [(1, 'Xc9b0df14e690ee411edec0aad2286b732e431b96'),\n",
       "  (1, 'X281e38d790b809dc908f7c9749d5274a6d8280c4')],\n",
       " 'Products': [(1, 'X85753d94c72a1ae851d34ac6ac8b0c9828cfc734'),\n",
       "  (1, 'X151d45ce062c088336cff9e45bc138b6a63626fe')],\n",
       " 'Operators': {'991_2'},\n",
       " 'SMILES_rxn': '(1) NC(=O)C1=CN(C2OC(COP(=O)(O)OP(=O)(O)OCC3OC(n4cnc5c(N)ncnc54)C(OP(=O)(O)O)C3O)C(O)C2O)C=CC1 + (1) *C1=C(*)C(=O)C(*)=C(*)C1=O => (1) NC(=O)c1ccc[n+](C2OC(COP(=O)(O)OP(=O)(O)OCC3OC(n4cnc5c(N)ncnc54)C(OP(=O)(O)O)C3O)C(O)C2O)c1 + (1) *c1c(*)c(O)c(*)c(*)c1O',\n",
       " 'Operator_aligned_smarts': '*C1=C(*)C(=O)C(*)=C(*)C1=O.NC(=O)C1=CN(C2OC(COP(=O)(O)OP(=O)(O)OCC3OC(n4cnc5c(N)ncnc54)C(OP(=O)(O)O)C3O)C(O)C2O)C=CC1>>*c1c(*)c(O)c(*)c(*)c1O.NC(=O)c1ccc[n+](C2OC(COP(=O)(O)OP(=O)(O)OCC3OC(n4cnc5c(N)ncnc54)C(OP(=O)(O)O)C3O)C(O)C2O)c1'}"
      ]
     },
     "execution_count": 17,
     "metadata": {},
     "output_type": "execute_result"
    }
   ],
   "source": [
    "pk.reactions[list(pk.reactions.keys())[6]]"
   ]
  },
  {
   "cell_type": "code",
   "execution_count": 18,
   "id": "240386c6",
   "metadata": {},
   "outputs": [
    {
     "data": {
      "text/plain": [
       "{'ID': 'Ubiquinones_CoF',\n",
       " '_id': 'Xc9b0df14e690ee411edec0aad2286b732e431b96',\n",
       " 'SMILES': '*C1=C(*)C(=O)C(*)=C(*)C1=O',\n",
       " 'InChI_key': '*C1=C(*)C(=O)C(*)=C(*)C1=O',\n",
       " 'Type': 'Coreactant',\n",
       " 'Generation': 0,\n",
       " 'atom_count': Counter({'C': 6, 'O': 2}),\n",
       " 'Expand': False,\n",
       " 'Formula': 'C6*4O2',\n",
       " 'last_tani': 0}"
      ]
     },
     "execution_count": 18,
     "metadata": {},
     "output_type": "execute_result"
    }
   ],
   "source": [
    "pk.compounds['Xc9b0df14e690ee411edec0aad2286b732e431b96']"
   ]
  },
  {
   "cell_type": "code",
   "execution_count": 19,
   "id": "f9a60193",
   "metadata": {},
   "outputs": [
    {
     "data": {
      "text/plain": [
       "{'ID': 'NADH_CoF',\n",
       " '_id': 'X281e38d790b809dc908f7c9749d5274a6d8280c4',\n",
       " 'SMILES': 'NC(=O)C1=CN(C2OC(COP(=O)(O)OP(=O)(O)OCC3OC(n4cnc5c(N)ncnc54)C(OP(=O)(O)O)C3O)C(O)C2O)C=CC1',\n",
       " 'InChI_key': 'ACFIXJIJDZMPPO',\n",
       " 'Type': 'Coreactant',\n",
       " 'Generation': 0,\n",
       " 'atom_count': Counter({'H': 30, 'C': 21, 'O': 17, 'N': 7, 'P': 3}),\n",
       " 'Expand': False,\n",
       " 'Formula': 'C21H30N7O17P3',\n",
       " 'last_tani': 0}"
      ]
     },
     "execution_count": 19,
     "metadata": {},
     "output_type": "execute_result"
    }
   ],
   "source": [
    "pk.compounds['X281e38d790b809dc908f7c9749d5274a6d8280c4']"
   ]
  },
  {
   "cell_type": "code",
   "execution_count": 13,
   "id": "a9148c5f",
   "metadata": {},
   "outputs": [
    {
     "data": {
      "text/plain": [
       "{'ID': None,\n",
       " '_id': 'C7713642c8502d10c15ed646e480d558027f0aa65',\n",
       " 'SMILES': 'O=CCc1c[nH]c2ccccc12',\n",
       " 'InChI_key': 'WHOOUMGHGSPMGR-UHFFFAOYSA-N',\n",
       " 'Type': 'Predicted',\n",
       " 'Generation': 2,\n",
       " 'atom_count': Counter({'C': 10, 'H': 9, 'N': 1, 'O': 1}),\n",
       " 'Reactant_in': [],\n",
       " 'Product_of': ['Rb05092315db9db1930a80d339cafb6ad66581031809e49f05b8bf95602061346'],\n",
       " 'Expand': True,\n",
       " 'Formula': 'C10H9NO',\n",
       " 'last_tani': 0}"
      ]
     },
     "execution_count": 13,
     "metadata": {},
     "output_type": "execute_result"
    }
   ],
   "source": [
    "pk.compounds[list(pk.compounds.keys())[-1]]"
   ]
  },
  {
   "cell_type": "code",
   "execution_count": 23,
   "id": "9da41b4f",
   "metadata": {},
   "outputs": [
    {
     "data": {
      "text/plain": [
       "{'C4fe83a533b208e245e45b74e0967d7b8e9aad361': 'succinate',\n",
       " 'Cd2c8451fbe5563b9a086b59c26af17772205613a': 'fumarate',\n",
       " 'Cc522b49cc542f782eb7779a6c90ac1a255334bfa': 'malate',\n",
       " 'C086e98dbf2ac460c91ac1a991badef07eb497a72': 'oxaloacetate',\n",
       " 'Ce264bf1bbd482e436995855afdf2170ce7229f1d': 'ketoglutarate',\n",
       " 'C7846bd0a566d52f5c266777c7322ec392a887a5d': 'citrate',\n",
       " 'Cf7e036e330ad26caa66bb458faad18fa684af921': 'pyruvate',\n",
       " 'C69bd7ab90d3f972909c038af169917ec6eb194ea': 'acetate',\n",
       " 'C24f799b65f77e5bef0585b5d5138bb22868a8c16': 'alanine',\n",
       " 'Cbf56a9b3278f03e28b7f543d3a085d30c2ec9cb9': 'arginine',\n",
       " 'C4d9cf891ab210715f541dea6745e33e3035be0e8': 'asparagine',\n",
       " 'Ca1d054c7d7e3878e86b47d369fade7983641c7f9': 'aspartic_acid',\n",
       " 'Ce05a63be50137c094d61a4b4a198659d78b4c589': 'cysteine',\n",
       " 'C65d64c67d323a06f303bafc48646dd8cc2aca598': 'glutamine',\n",
       " 'C8302328f8b370d8cde446ba182c879b9a9d28b76': 'glycine',\n",
       " 'C0ea9546187e45fbb47e0466c75193007351c34db': 'histidine',\n",
       " 'C0b1a113de475b725c076698562e4e7b571a039a2': 'isoleucine',\n",
       " 'C956d002473b19ff7a4720e3c0795066ec6ed8a4e': 'leucine',\n",
       " 'Ca93a2b94e7952edfbf8d84ed5639552cb3f1f0bf': 'methionine',\n",
       " 'Ce05fd0830701afff578b3a5ce1dff5ed8005993a': 'phenylalanine',\n",
       " 'C431e48c1facac282544763f27164fac94c2801c6': 'serine',\n",
       " 'Cecbcb1901469fadc256252b4ed3f627ae859e156': 'threonine',\n",
       " 'C74926ad4fc893fa7aacbb6f409fdf72fdc1c2c35': 'tryptophan',\n",
       " 'C0f0bc81b021350db6512f6d1aa2885d2cbaea229': 'tyrosine',\n",
       " 'C2c0fd88a16e4b0a0e7eb28210b991db433f6ed60': 'valine',\n",
       " 'Ca8471382a237a8774ec571ee00944cbf33463cb3': 'proline',\n",
       " 'C9f30306adf96a8e3dc807ad40541777a8df3d8b3': 'lysine',\n",
       " 'C87786109ddfaf26b1b2b7f94e186203ed53d02e0': 'glutamic_acid',\n",
       " 'C6099a312c33b72389526f79746fab2b69bda5702': 'acetoacetate'}"
      ]
     },
     "execution_count": 23,
     "metadata": {},
     "output_type": "execute_result"
    }
   ],
   "source": [
    "starters = {}\n",
    "for v in pk.compounds.values():\n",
    "    if v[\"Type\"].startswith(\"Start\"):\n",
    "        starters[v['_id']] = v[\"ID\"]\n",
    "starters"
   ]
  },
  {
   "cell_type": "code",
   "execution_count": 27,
   "id": "341d7f3c",
   "metadata": {},
   "outputs": [],
   "source": [
    "def construct_network(half_expansion: dict, starters: dict[str, str]):\n",
    "        '''\n",
    "        Constructs bipartite (compounds and reactions) directed graph\n",
    "        in the order of real-world synthesis\n",
    "\n",
    "        Args\n",
    "        ----\n",
    "        half_expansion\n",
    "        '''\n",
    "        cpd_nodes = []\n",
    "        rxn_nodes = []\n",
    "        edge_list = []\n",
    "\n",
    "        # Get compound information\n",
    "        for i, cpd in half_expansion.compounds.items():\n",
    "\n",
    "            if i[0] == \"X\": # Skip coreactants\n",
    "                 continue\n",
    "\n",
    "            cpd_nodes.append(\n",
    "                (\n",
    "                    i,\n",
    "                    {\n",
    "                        \"SMILES\": cpd[\"SMILES\"],\n",
    "                        \"InChIKey\": cpd[\"InChI_key\"],\n",
    "                        \"Type\": cpd[\"Type\"],\n",
    "                    }\n",
    "                )\n",
    "            )\n",
    "\n",
    "        # Get reaction information\n",
    "        for i, rxn in half_expansion.reactions.items():\n",
    "            in_linked = False\n",
    "            out_linked = False\n",
    "\n",
    "            rxn_nodes.append(\n",
    "                (\n",
    "                    i,\n",
    "                    {\n",
    "                        \"Rule\": rxn[\"Operators\"],\n",
    "                        \"Type\": \"Reaction\",\n",
    "                    }\n",
    "                )\n",
    "            )\n",
    "            \n",
    "            # Neither starter, (mass source) nor X coreactant (non-mass-contributing source)\n",
    "            non_sources = [\n",
    "                c_id for _, c_id in rxn[\"Reactants\"]\n",
    "                if c_id[0] == 'C' and c_id not in starters\n",
    "            ]\n",
    "\n",
    "            mass_sources = [\n",
    "                c_id for _, c_id in rxn[\"Reactants\"]\n",
    "                if c_id in starters\n",
    "            ]\n",
    "\n",
    "            if len(non_sources) == 1: # Other requirements for reaction are all sources\n",
    "                edge_list.append((non_sources[0], i))\n",
    "            elif len(non_sources) == 0: # Only sources required for reaction\n",
    "                for ms in mass_sources:\n",
    "                    edge_list.append((ms, i))\n",
    "            else: # Currently don't support \"extended branching\" in synthesis paths\n",
    "                pass\n",
    "\n",
    "            for _, c_id in rxn[\"Products\"]:\n",
    "\n",
    "                # Don't outlink to non-mass-carrying coproducts\n",
    "                # in order to approximately conserve mass along\n",
    "                # synthesis paths\n",
    "                if c_id[0] == 'X':\n",
    "                     continue\n",
    "                \n",
    "                edge_list.append((i, c_id))\n",
    "        \n",
    "        return cpd_nodes, rxn_nodes \n",
    "\n",
    "before = construct_network(pk, starters)[1]"
   ]
  },
  {
   "cell_type": "code",
   "execution_count": null,
   "id": "5c34809f",
   "metadata": {},
   "outputs": [],
   "source": [
    "def filter_reactions(pk: dict, starters: dict[str, str]):\n",
    "        '''\n",
    "        Constructs bipartite (compounds and reactions) directed graph\n",
    "        in the order of real-world synthesis\n",
    "\n",
    "        Args\n",
    "        ----\n",
    "\n",
    "        '''\n",
    "        rxn_nodes = []\n",
    "\n",
    "        # Get reaction information\n",
    "        for i, rxn in pk.reactions.items():\n",
    "            in_linked = False\n",
    "            out_linked = False\n",
    "\n",
    "            \n",
    "            # Neither starter, (mass source) nor X coreactant (non-mass-contributing source)\n",
    "            non_sources = [\n",
    "                c_id for _, c_id in rxn[\"Reactants\"]\n",
    "                if c_id[0] == 'C' and c_id not in starters\n",
    "            ]\n",
    "\n",
    "            if len(non_sources) == 1: # Other requirements for reaction are all sources\n",
    "                in_linked = True\n",
    "            elif len(non_sources) == 0: # Only sources required for reaction\n",
    "                in_linked = True\n",
    "\n",
    "            if any([elt[1][0] != 'X' for elt in rxn[\"Products\"]]):\n",
    "                 out_linked = True\n",
    "\n",
    "            if in_linked and out_linked:\n",
    "                rxn_nodes.append(\n",
    "                    (i, {\"Rule\": rxn[\"Operators\"], \"Type\": \"Reaction\"})\n",
    "                )\n",
    "        \n",
    "        \n",
    "        return rxn_nodes \n",
    "\n",
    "after = construct_network(pk, starters)"
   ]
  },
  {
   "cell_type": "code",
   "execution_count": 30,
   "id": "33520aa3",
   "metadata": {},
   "outputs": [],
   "source": [
    "before = set([elt[0] for elt in before])\n",
    "after = set([elt[0] for elt in after])"
   ]
  },
  {
   "cell_type": "code",
   "execution_count": 31,
   "id": "0100909f",
   "metadata": {},
   "outputs": [
    {
     "data": {
      "text/plain": [
       "{'R0d8049cd52e69e381c707a3b72e899448bb124b3524abae8ff5225cdffcad645',\n",
       " 'R953be8145dab070edb7e9b51374151c1a8a599882693243281f0081daf7f4b8a',\n",
       " 'Rb3aec664b8debc1052c418472dd77c3baa2d97f6525cdd689b2dacc7b2031fe1',\n",
       " 'Rda8a35db9d42b06a4b1df754568d73428d818058a2748843e923a0a0e3e94653',\n",
       " 'Reeca2cd1dc09365a6647088d721d47dc31b3134d1a1a25c49959c13ae85fd0fc'}"
      ]
     },
     "execution_count": 31,
     "metadata": {},
     "output_type": "execute_result"
    }
   ],
   "source": [
    "before - after"
   ]
  },
  {
   "cell_type": "code",
   "execution_count": 32,
   "id": "511a17ac",
   "metadata": {},
   "outputs": [
    {
     "data": {
      "text/plain": [
       "{'_id': 'Reeca2cd1dc09365a6647088d721d47dc31b3134d1a1a25c49959c13ae85fd0fc',\n",
       " 'Reactants': [(1, 'C7d84cb0b4995d01cf776bed183b74ab096417297'),\n",
       "  (1, 'Xa2a868d3f3866d6bfbbe78b615e42f81511ebff8')],\n",
       " 'Products': [(1, 'Xf4a7855630639e93324efbcfa9adb1b6a80e8b62')],\n",
       " 'Operators': {'2328_0'},\n",
       " 'SMILES_rxn': '(1) C=CC(=C)C + (1) O=P(O)(O)OP(=O)(O)O => (1) CC(C)=CCOP(=O)(O)OP(=O)(O)O',\n",
       " 'Operator_aligned_smarts': 'C=CC(=C)C.O=P(O)(O)OP(=O)(O)O>>CC(C)=CCOP(=O)(O)OP(=O)(O)O'}"
      ]
     },
     "execution_count": 32,
     "metadata": {},
     "output_type": "execute_result"
    }
   ],
   "source": [
    "pk.reactions['Reeca2cd1dc09365a6647088d721d47dc31b3134d1a1a25c49959c13ae85fd0fc']"
   ]
  },
  {
   "cell_type": "code",
   "execution_count": null,
   "id": "05c2a053",
   "metadata": {},
   "outputs": [],
   "source": [
    "cpd_df = pd.read_parquet(Path(cfg.processed_data) / \"test_compound_metrics.parquet\")\n",
    "cpd_df.head()"
   ]
  },
  {
   "cell_type": "code",
   "execution_count": null,
   "id": "722ff37e",
   "metadata": {},
   "outputs": [],
   "source": [
    "rxn_df = pd.read_parquet(Path(cfg.processed_data) / \"test_reaction_metrics.parquet\")\n",
    "rxn_df.head()"
   ]
  }
 ],
 "metadata": {
  "kernelspec": {
   "display_name": ".venv",
   "language": "python",
   "name": "python3"
  },
  "language_info": {
   "codemirror_mode": {
    "name": "ipython",
    "version": 3
   },
   "file_extension": ".py",
   "mimetype": "text/x-python",
   "name": "python",
   "nbconvert_exporter": "python",
   "pygments_lexer": "ipython3",
   "version": "3.13.0"
  }
 },
 "nbformat": 4,
 "nbformat_minor": 5
}
