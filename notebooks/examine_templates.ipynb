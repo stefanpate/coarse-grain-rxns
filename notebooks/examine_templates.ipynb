{
 "cells": [
  {
   "cell_type": "code",
   "execution_count": 95,
   "metadata": {},
   "outputs": [],
   "source": [
    "from ergochemics.mapping import operator_map_reaction, rc_to_nest\n",
    "from ergochemics.draw import draw_reaction, draw_molecule\n",
    "from rdkit import Chem\n",
    "from rdkit.Chem import AllChem\n",
    "from rdkit.Chem.Draw import IPythonConsole\n",
    "import pandas as pd\n",
    "import matplotlib.pyplot as plt\n",
    "from hydra import initialize, compose\n",
    "from pathlib import Path\n",
    "from IPython.display import SVG\n",
    "from ast import literal_eval\n",
    "from itertools import chain"
   ]
  },
  {
   "cell_type": "code",
   "execution_count": 96,
   "metadata": {},
   "outputs": [],
   "source": [
    "with initialize(version_base=None, config_path=\"../configs/filepaths\", ):\n",
    "    filepaths = compose(config_name=\"filepaths\")"
   ]
  },
  {
   "cell_type": "code",
   "execution_count": 97,
   "metadata": {},
   "outputs": [
    {
     "data": {
      "text/html": [
       "<div>\n",
       "<style scoped>\n",
       "    .dataframe tbody tr th:only-of-type {\n",
       "        vertical-align: middle;\n",
       "    }\n",
       "\n",
       "    .dataframe tbody tr th {\n",
       "        vertical-align: top;\n",
       "    }\n",
       "\n",
       "    .dataframe thead th {\n",
       "        text-align: right;\n",
       "    }\n",
       "</style>\n",
       "<table border=\"1\" class=\"dataframe\">\n",
       "  <thead>\n",
       "    <tr style=\"text-align: right;\">\n",
       "      <th></th>\n",
       "      <th>template</th>\n",
       "      <th>entry_id</th>\n",
       "      <th>mechanism_id</th>\n",
       "    </tr>\n",
       "  </thead>\n",
       "  <tbody>\n",
       "    <tr>\n",
       "      <th>0</th>\n",
       "      <td>[C&amp;D3&amp;v4&amp;H1&amp;0*&amp;!R&amp;z1:1](-[C&amp;D2&amp;v4&amp;H2&amp;0*&amp;!R&amp;z0:...</td>\n",
       "      <td>[1, 957]</td>\n",
       "      <td>[1, 1]</td>\n",
       "    </tr>\n",
       "    <tr>\n",
       "      <th>1</th>\n",
       "      <td>[C&amp;D3&amp;v4&amp;H0&amp;0*&amp;R&amp;z2:1](=[O&amp;D1&amp;v2&amp;H0&amp;0*&amp;!R:2])-...</td>\n",
       "      <td>[2, 2, 16, 210, 257, 258]</td>\n",
       "      <td>[2, 1, 1, 1, 1, 1]</td>\n",
       "    </tr>\n",
       "    <tr>\n",
       "      <th>2</th>\n",
       "      <td>[C&amp;D3&amp;v4&amp;H0&amp;0*&amp;R&amp;z0:1]1=[C&amp;D2&amp;v4&amp;H1&amp;0*&amp;R&amp;z1:2]...</td>\n",
       "      <td>[6, 627]</td>\n",
       "      <td>[1, 1]</td>\n",
       "    </tr>\n",
       "    <tr>\n",
       "      <th>3</th>\n",
       "      <td>[C&amp;D3&amp;v4&amp;H1&amp;0*&amp;!R&amp;z0:1](-[C&amp;D3&amp;v4&amp;H0&amp;0*&amp;!R&amp;z2:...</td>\n",
       "      <td>[7, 7, 7]</td>\n",
       "      <td>[2, 1, 3]</td>\n",
       "    </tr>\n",
       "    <tr>\n",
       "      <th>4</th>\n",
       "      <td>[O&amp;D2&amp;v2&amp;H0&amp;0*&amp;R:1]-[C&amp;D3&amp;v4&amp;H1&amp;0*&amp;R&amp;z3:2](-[O...</td>\n",
       "      <td>[8]</td>\n",
       "      <td>[2]</td>\n",
       "    </tr>\n",
       "  </tbody>\n",
       "</table>\n",
       "</div>"
      ],
      "text/plain": [
       "                                            template  \\\n",
       "0  [C&D3&v4&H1&0*&!R&z1:1](-[C&D2&v4&H2&0*&!R&z0:...   \n",
       "1  [C&D3&v4&H0&0*&R&z2:1](=[O&D1&v2&H0&0*&!R:2])-...   \n",
       "2  [C&D3&v4&H0&0*&R&z0:1]1=[C&D2&v4&H1&0*&R&z1:2]...   \n",
       "3  [C&D3&v4&H1&0*&!R&z0:1](-[C&D3&v4&H0&0*&!R&z2:...   \n",
       "4  [O&D2&v2&H0&0*&R:1]-[C&D3&v4&H1&0*&R&z3:2](-[O...   \n",
       "\n",
       "                    entry_id        mechanism_id  \n",
       "0                   [1, 957]              [1, 1]  \n",
       "1  [2, 2, 16, 210, 257, 258]  [2, 1, 1, 1, 1, 1]  \n",
       "2                   [6, 627]              [1, 1]  \n",
       "3                  [7, 7, 7]           [2, 1, 3]  \n",
       "4                        [8]                 [2]  "
      ]
     },
     "execution_count": 97,
     "metadata": {},
     "output_type": "execute_result"
    }
   ],
   "source": [
    "mech_templates = pd.read_csv(\n",
    "    filepath_or_buffer=Path(filepaths.processed_data) / \"mechanistic_reaction_templates.csv\",\n",
    "    sep=\",\",\n",
    ")\n",
    "\n",
    "mech_templates.head()"
   ]
  },
  {
   "cell_type": "code",
   "execution_count": 98,
   "metadata": {},
   "outputs": [
    {
     "data": {
      "text/html": [
       "<div>\n",
       "<style scoped>\n",
       "    .dataframe tbody tr th:only-of-type {\n",
       "        vertical-align: middle;\n",
       "    }\n",
       "\n",
       "    .dataframe tbody tr th {\n",
       "        vertical-align: top;\n",
       "    }\n",
       "\n",
       "    .dataframe thead th {\n",
       "        text-align: right;\n",
       "    }\n",
       "</style>\n",
       "<table border=\"1\" class=\"dataframe\">\n",
       "  <thead>\n",
       "    <tr style=\"text-align: right;\">\n",
       "      <th></th>\n",
       "      <th>template</th>\n",
       "      <th>rxn_id</th>\n",
       "    </tr>\n",
       "  </thead>\n",
       "  <tbody>\n",
       "    <tr>\n",
       "      <th>0</th>\n",
       "      <td>[O&amp;D1&amp;v2&amp;H0&amp;0*&amp;!R:1]=[C&amp;D3&amp;v4&amp;H0&amp;0*&amp;!R&amp;z2:2](-...</td>\n",
       "      <td>[10184]</td>\n",
       "    </tr>\n",
       "    <tr>\n",
       "      <th>1</th>\n",
       "      <td>[C&amp;D2&amp;v4&amp;H2&amp;0*&amp;!R&amp;z0:1]-[C&amp;D2&amp;v4&amp;H2&amp;0*&amp;!R&amp;z0:2...</td>\n",
       "      <td>[10213, 5645]</td>\n",
       "    </tr>\n",
       "    <tr>\n",
       "      <th>2</th>\n",
       "      <td>[O&amp;D1&amp;v2&amp;H0&amp;0*&amp;!R:1]~[*:2](~[O&amp;D1&amp;v2&amp;H1&amp;0*&amp;!R:...</td>\n",
       "      <td>[10234]</td>\n",
       "    </tr>\n",
       "    <tr>\n",
       "      <th>3</th>\n",
       "      <td>[C&amp;D2&amp;v4&amp;H2&amp;0*&amp;!R&amp;z0:1]~[*:2]~[C&amp;D3&amp;v4&amp;H0&amp;0*&amp;!...</td>\n",
       "      <td>[10268]</td>\n",
       "    </tr>\n",
       "    <tr>\n",
       "      <th>4</th>\n",
       "      <td>[O&amp;D1&amp;v2&amp;H0&amp;0*&amp;!R:1]=[C&amp;D3&amp;v4&amp;H0&amp;0*&amp;!R&amp;z2:2](-...</td>\n",
       "      <td>[10549]</td>\n",
       "    </tr>\n",
       "  </tbody>\n",
       "</table>\n",
       "</div>"
      ],
      "text/plain": [
       "                                            template         rxn_id\n",
       "0  [O&D1&v2&H0&0*&!R:1]=[C&D3&v4&H0&0*&!R&z2:2](-...        [10184]\n",
       "1  [C&D2&v4&H2&0*&!R&z0:1]-[C&D2&v4&H2&0*&!R&z0:2...  [10213, 5645]\n",
       "2  [O&D1&v2&H0&0*&!R:1]~[*:2](~[O&D1&v2&H1&0*&!R:...        [10234]\n",
       "3  [C&D2&v4&H2&0*&!R&z0:1]~[*:2]~[C&D3&v4&H0&0*&!...        [10268]\n",
       "4  [O&D1&v2&H0&0*&!R:1]=[C&D3&v4&H0&0*&!R&z2:2](-...        [10549]"
      ]
     },
     "execution_count": 98,
     "metadata": {},
     "output_type": "execute_result"
    }
   ],
   "source": [
    "inferred_templates = pd.read_csv(\n",
    "    filepath_or_buffer=Path(filepaths.processed_data) / \"inferred_reaction_templates.csv\",\n",
    "    sep=\",\",\n",
    ")\n",
    "inferred_templates['rxn_id'] = inferred_templates['rxn_id'].apply(literal_eval) # TODO:can I save a list to csv w/ pandas? \n",
    "inferred_templates.head()"
   ]
  },
  {
   "cell_type": "code",
   "execution_count": 99,
   "metadata": {},
   "outputs": [
    {
     "data": {
      "text/plain": [
       "['10184']"
      ]
     },
     "execution_count": 99,
     "metadata": {},
     "output_type": "execute_result"
    }
   ],
   "source": [
    "inferred_templates.loc[0, 'rxn_id']"
   ]
  },
  {
   "cell_type": "code",
   "execution_count": 100,
   "metadata": {},
   "outputs": [
    {
     "data": {
      "text/html": [
       "<div>\n",
       "<style scoped>\n",
       "    .dataframe tbody tr th:only-of-type {\n",
       "        vertical-align: middle;\n",
       "    }\n",
       "\n",
       "    .dataframe tbody tr th {\n",
       "        vertical-align: top;\n",
       "    }\n",
       "\n",
       "    .dataframe thead th {\n",
       "        text-align: right;\n",
       "    }\n",
       "</style>\n",
       "<table border=\"1\" class=\"dataframe\">\n",
       "  <thead>\n",
       "    <tr style=\"text-align: right;\">\n",
       "      <th></th>\n",
       "      <th>smarts</th>\n",
       "      <th>am_smarts</th>\n",
       "      <th>rule</th>\n",
       "      <th>reaction_center</th>\n",
       "    </tr>\n",
       "    <tr>\n",
       "      <th>id</th>\n",
       "      <th></th>\n",
       "      <th></th>\n",
       "      <th></th>\n",
       "      <th></th>\n",
       "    </tr>\n",
       "  </thead>\n",
       "  <tbody>\n",
       "    <tr>\n",
       "      <th>10184</th>\n",
       "      <td>O=C(O)C(O)C(O)C(=O)O&gt;&gt;O=C(O)C(O)CO.O=C=O</td>\n",
       "      <td>[O:10]=[C:8]([OH:9])[CH:1]([OH:2])[CH:3]([OH:4...</td>\n",
       "      <td>[#6:1]-[#6:2]-[#8:3]&gt;&gt;[#6:1].[#6:2]=[#8:3]</td>\n",
       "      <td>(((3, 1, 2),), ((0,), (0, 1)))</td>\n",
       "    </tr>\n",
       "    <tr>\n",
       "      <th>10213</th>\n",
       "      <td>CCCC(=O)C(=O)O&gt;&gt;CCCC=O.O=C=O</td>\n",
       "      <td>[CH3:5][CH2:4][CH2:2][C:1](=[O:3])[C:6](=[O:8]...</td>\n",
       "      <td>[#6:1]-[#6:2]-[#8:3]&gt;&gt;[#6:1].[#6:2]=[#8:3]</td>\n",
       "      <td>(((3, 5, 7),), ((0,), (0, 1)))</td>\n",
       "    </tr>\n",
       "    <tr>\n",
       "      <th>10234</th>\n",
       "      <td>O=C(O)CCC(=O)C(=O)O&gt;&gt;O=CCCC(=O)O.O=C=O</td>\n",
       "      <td>[O:6]=[C:5]([OH:7])[CH2:4][CH2:2][C:1](=[O:3])...</td>\n",
       "      <td>[#6:1]-[#6:2]-[#8:3]&gt;&gt;[#6:1].[#6:2]=[#8:3]</td>\n",
       "      <td>(((5, 7, 9),), ((0,), (0, 1)))</td>\n",
       "    </tr>\n",
       "    <tr>\n",
       "      <th>10268</th>\n",
       "      <td>CCC(C)C(=O)C(=O)O&gt;&gt;CCC(C)C=O.O=C=O</td>\n",
       "      <td>[CH3:6][CH2:4][CH:2]([CH3:5])[C:1](=[O:3])[C:7...</td>\n",
       "      <td>[#6:1]-[#6:2]-[#8:3]&gt;&gt;[#6:1].[#6:2]=[#8:3]</td>\n",
       "      <td>(((4, 6, 8),), ((0,), (0, 1)))</td>\n",
       "    </tr>\n",
       "    <tr>\n",
       "      <th>10549</th>\n",
       "      <td>O=C(O)c1cc(O)c(O)cc1C(=O)O&gt;&gt;O=C(O)c1ccc(O)c(O)...</td>\n",
       "      <td>[O:14]=[C:12]([OH:13])[c:1]1[cH:2][c:4]([OH:7]...</td>\n",
       "      <td>[#6:1]-[#6:2]-[#8:3]&gt;&gt;[#6:1].[#6:2]=[#8:3]</td>\n",
       "      <td>(((3, 1, 2),), ((0,), (0, 1)))</td>\n",
       "    </tr>\n",
       "  </tbody>\n",
       "</table>\n",
       "</div>"
      ],
      "text/plain": [
       "                                                  smarts  \\\n",
       "id                                                         \n",
       "10184           O=C(O)C(O)C(O)C(=O)O>>O=C(O)C(O)CO.O=C=O   \n",
       "10213                       CCCC(=O)C(=O)O>>CCCC=O.O=C=O   \n",
       "10234             O=C(O)CCC(=O)C(=O)O>>O=CCCC(=O)O.O=C=O   \n",
       "10268                 CCC(C)C(=O)C(=O)O>>CCC(C)C=O.O=C=O   \n",
       "10549  O=C(O)c1cc(O)c(O)cc1C(=O)O>>O=C(O)c1ccc(O)c(O)...   \n",
       "\n",
       "                                               am_smarts  \\\n",
       "id                                                         \n",
       "10184  [O:10]=[C:8]([OH:9])[CH:1]([OH:2])[CH:3]([OH:4...   \n",
       "10213  [CH3:5][CH2:4][CH2:2][C:1](=[O:3])[C:6](=[O:8]...   \n",
       "10234  [O:6]=[C:5]([OH:7])[CH2:4][CH2:2][C:1](=[O:3])...   \n",
       "10268  [CH3:6][CH2:4][CH:2]([CH3:5])[C:1](=[O:3])[C:7...   \n",
       "10549  [O:14]=[C:12]([OH:13])[c:1]1[cH:2][c:4]([OH:7]...   \n",
       "\n",
       "                                             rule  \\\n",
       "id                                                  \n",
       "10184  [#6:1]-[#6:2]-[#8:3]>>[#6:1].[#6:2]=[#8:3]   \n",
       "10213  [#6:1]-[#6:2]-[#8:3]>>[#6:1].[#6:2]=[#8:3]   \n",
       "10234  [#6:1]-[#6:2]-[#8:3]>>[#6:1].[#6:2]=[#8:3]   \n",
       "10268  [#6:1]-[#6:2]-[#8:3]>>[#6:1].[#6:2]=[#8:3]   \n",
       "10549  [#6:1]-[#6:2]-[#8:3]>>[#6:1].[#6:2]=[#8:3]   \n",
       "\n",
       "                      reaction_center  \n",
       "id                                     \n",
       "10184  (((3, 1, 2),), ((0,), (0, 1)))  \n",
       "10213  (((3, 5, 7),), ((0,), (0, 1)))  \n",
       "10234  (((5, 7, 9),), ((0,), (0, 1)))  \n",
       "10268  (((4, 6, 8),), ((0,), (0, 1)))  \n",
       "10549  (((3, 1, 2),), ((0,), (0, 1)))  "
      ]
     },
     "execution_count": 100,
     "metadata": {},
     "output_type": "execute_result"
    }
   ],
   "source": [
    "decarbs = pd.read_parquet(\n",
    "    path=Path(filepaths.raw_data) / \"decarbs.parquet\",\n",
    ")\n",
    "decarbs.set_index(\"id\", inplace=True)\n",
    "decarbs[\"reaction_center\"] = decarbs[\"reaction_center\"].apply(rc_to_nest)\n",
    "\n",
    "decarbs.head()"
   ]
  },
  {
   "cell_type": "code",
   "execution_count": 101,
   "metadata": {},
   "outputs": [],
   "source": [
    "bad_templates = []\n",
    "for _, row in inferred_templates.iterrows():\n",
    "    for rid in row[\"rxn_id\"]:\n",
    "        res = operator_map_reaction(\n",
    "            rxn=decarbs.loc[rid, 'smarts'],\n",
    "            operator=row[\"template\"],\n",
    "        )\n",
    "        if not res.did_map:\n",
    "            bad_templates.append((decarbs.loc[rid, 'smarts'], row[\"template\"]))\n",
    "    "
   ]
  },
  {
   "cell_type": "code",
   "execution_count": 102,
   "metadata": {},
   "outputs": [
    {
     "data": {
      "text/plain": [
       "0"
      ]
     },
     "execution_count": 102,
     "metadata": {},
     "output_type": "execute_result"
    }
   ],
   "source": [
    "len(bad_templates)"
   ]
  },
  {
   "cell_type": "code",
   "execution_count": 103,
   "metadata": {},
   "outputs": [
    {
     "ename": "IndexError",
     "evalue": "list index out of range",
     "output_type": "error",
     "traceback": [
      "\u001b[31m---------------------------------------------------------------------------\u001b[39m",
      "\u001b[31mIndexError\u001b[39m                                Traceback (most recent call last)",
      "\u001b[36mCell\u001b[39m\u001b[36m \u001b[39m\u001b[32mIn[103]\u001b[39m\u001b[32m, line 1\u001b[39m\n\u001b[32m----> \u001b[39m\u001b[32m1\u001b[39m \u001b[43mbad_templates\u001b[49m\u001b[43m[\u001b[49m\u001b[32;43m0\u001b[39;49m\u001b[43m]\u001b[49m\n",
      "\u001b[31mIndexError\u001b[39m: list index out of range"
     ]
    }
   ],
   "source": [
    "bad_templates[0]"
   ]
  },
  {
   "cell_type": "code",
   "execution_count": null,
   "metadata": {},
   "outputs": [
    {
     "name": "stdout",
     "output_type": "stream",
     "text": [
      "O=C(O)C(O)C(O)C(=O)O>>O=C(O)C(O)CO.O=C=O\n"
     ]
    },
    {
     "data": {
      "image/svg+xml": [
       "<svg xmlns=\"http://www.w3.org/2000/svg\" xmlns:rdkit=\"http://www.rdkit.org/xml\" xmlns:xlink=\"http://www.w3.org/1999/xlink\" version=\"1.1\" baseProfile=\"full\" xml:space=\"preserve\" width=\"1200px\" height=\"200px\" viewBox=\"0 0 1200 200\">\n",
       "<!-- END OF HEADER -->\n",
       "<rect style=\"opacity:1.0;fill:#FFFFFF;stroke:none\" width=\"1200.0\" height=\"200.0\" x=\"0.0\" y=\"0.0\"> </rect>\n",
       "<path class=\"bond-0 atom-0 atom-1\" d=\"M 198.1,69.5 L 218.5,85.6\" style=\"fill:none;fill-rule:evenodd;stroke:#FF0000;stroke-width:2.0px;stroke-linecap:butt;stroke-linejoin:miter;stroke-opacity:1\"/>\n",
       "<path class=\"bond-0 atom-0 atom-1\" d=\"M 218.5,85.6 L 238.9,101.7\" style=\"fill:none;fill-rule:evenodd;stroke:#000000;stroke-width:2.0px;stroke-linecap:butt;stroke-linejoin:miter;stroke-opacity:1\"/>\n",
       "<path class=\"bond-0 atom-0 atom-1\" d=\"M 192.3,76.9 L 212.7,92.9\" style=\"fill:none;fill-rule:evenodd;stroke:#FF0000;stroke-width:2.0px;stroke-linecap:butt;stroke-linejoin:miter;stroke-opacity:1\"/>\n",
       "<path class=\"bond-0 atom-0 atom-1\" d=\"M 212.7,92.9 L 233.1,109.0\" style=\"fill:none;fill-rule:evenodd;stroke:#000000;stroke-width:2.0px;stroke-linecap:butt;stroke-linejoin:miter;stroke-opacity:1\"/>\n",
       "<path class=\"bond-1 atom-1 atom-2\" d=\"M 233.9,103.7 L 230.2,128.9\" style=\"fill:none;fill-rule:evenodd;stroke:#000000;stroke-width:2.0px;stroke-linecap:butt;stroke-linejoin:miter;stroke-opacity:1\"/>\n",
       "<path class=\"bond-1 atom-1 atom-2\" d=\"M 230.2,128.9 L 226.6,154.2\" style=\"fill:none;fill-rule:evenodd;stroke:#FF0000;stroke-width:2.0px;stroke-linecap:butt;stroke-linejoin:miter;stroke-opacity:1\"/>\n",
       "<path class=\"bond-2 atom-1 atom-3\" d=\"M 233.9,103.7 L 291.6,80.6\" style=\"fill:none;fill-rule:evenodd;stroke:#000000;stroke-width:2.0px;stroke-linecap:butt;stroke-linejoin:miter;stroke-opacity:1\"/>\n",
       "<path class=\"bond-3 atom-3 atom-4\" d=\"M 291.6,80.6 L 295.2,55.5\" style=\"fill:none;fill-rule:evenodd;stroke:#000000;stroke-width:2.0px;stroke-linecap:butt;stroke-linejoin:miter;stroke-opacity:1\"/>\n",
       "<path class=\"bond-3 atom-3 atom-4\" d=\"M 295.2,55.5 L 298.9,30.4\" style=\"fill:none;fill-rule:evenodd;stroke:#FF0000;stroke-width:2.0px;stroke-linecap:butt;stroke-linejoin:miter;stroke-opacity:1\"/>\n",
       "<path class=\"bond-4 atom-3 atom-5\" d=\"M 291.6,80.6 L 340.4,119.1\" style=\"fill:none;fill-rule:evenodd;stroke:#000000;stroke-width:2.0px;stroke-linecap:butt;stroke-linejoin:miter;stroke-opacity:1\"/>\n",
       "<path class=\"bond-5 atom-5 atom-6\" d=\"M 340.4,119.1 L 336.7,144.4\" style=\"fill:none;fill-rule:evenodd;stroke:#000000;stroke-width:2.0px;stroke-linecap:butt;stroke-linejoin:miter;stroke-opacity:1\"/>\n",
       "<path class=\"bond-5 atom-5 atom-6\" d=\"M 336.7,144.4 L 333.1,169.6\" style=\"fill:none;fill-rule:evenodd;stroke:#FF0000;stroke-width:2.0px;stroke-linecap:butt;stroke-linejoin:miter;stroke-opacity:1\"/>\n",
       "<path class=\"bond-6 atom-5 atom-7\" d=\"M 340.4,119.1 L 398.1,96.1\" style=\"fill:none;fill-rule:evenodd;stroke:#000000;stroke-width:2.0px;stroke-linecap:butt;stroke-linejoin:miter;stroke-opacity:1\"/>\n",
       "<path class=\"bond-7 atom-7 atom-8\" d=\"M 393.1,98.0 L 413.5,114.1\" style=\"fill:none;fill-rule:evenodd;stroke:#000000;stroke-width:2.0px;stroke-linecap:butt;stroke-linejoin:miter;stroke-opacity:1\"/>\n",
       "<path class=\"bond-7 atom-7 atom-8\" d=\"M 413.5,114.1 L 433.9,130.2\" style=\"fill:none;fill-rule:evenodd;stroke:#FF0000;stroke-width:2.0px;stroke-linecap:butt;stroke-linejoin:miter;stroke-opacity:1\"/>\n",
       "<path class=\"bond-7 atom-7 atom-8\" d=\"M 398.9,90.7 L 419.3,106.8\" style=\"fill:none;fill-rule:evenodd;stroke:#000000;stroke-width:2.0px;stroke-linecap:butt;stroke-linejoin:miter;stroke-opacity:1\"/>\n",
       "<path class=\"bond-7 atom-7 atom-8\" d=\"M 419.3,106.8 L 439.7,122.9\" style=\"fill:none;fill-rule:evenodd;stroke:#FF0000;stroke-width:2.0px;stroke-linecap:butt;stroke-linejoin:miter;stroke-opacity:1\"/>\n",
       "<path class=\"bond-8 atom-7 atom-9\" d=\"M 398.1,96.1 L 401.8,70.9\" style=\"fill:none;fill-rule:evenodd;stroke:#000000;stroke-width:2.0px;stroke-linecap:butt;stroke-linejoin:miter;stroke-opacity:1\"/>\n",
       "<path class=\"bond-8 atom-7 atom-9\" d=\"M 401.8,70.9 L 405.4,45.8\" style=\"fill:none;fill-rule:evenodd;stroke:#FF0000;stroke-width:2.0px;stroke-linecap:butt;stroke-linejoin:miter;stroke-opacity:1\"/>\n",
       "<path d=\"M 233.7,104.9 L 233.9,103.7 L 236.8,102.5\" style=\"fill:none;stroke:#000000;stroke-width:2.0px;stroke-linecap:butt;stroke-linejoin:miter;stroke-opacity:1;\"/>\n",
       "<path d=\"M 395.2,97.2 L 398.1,96.1 L 398.3,94.8\" style=\"fill:none;stroke:#000000;stroke-width:2.0px;stroke-linecap:butt;stroke-linejoin:miter;stroke-opacity:1;\"/>\n",
       "<path class=\"atom-0\" d=\"M 177.0 65.3 Q 177.0 61.0, 179.1 58.7 Q 181.2 56.3, 185.1 56.3 Q 189.0 56.3, 191.1 58.7 Q 193.2 61.0, 193.2 65.3 Q 193.2 69.5, 191.0 72.0 Q 188.9 74.4, 185.1 74.4 Q 181.2 74.4, 179.1 72.0 Q 177.0 69.6, 177.0 65.3 M 185.1 72.4 Q 187.8 72.4, 189.2 70.6 Q 190.7 68.8, 190.7 65.3 Q 190.7 61.8, 189.2 60.1 Q 187.8 58.3, 185.1 58.3 Q 182.4 58.3, 180.9 60.0 Q 179.5 61.8, 179.5 65.3 Q 179.5 68.8, 180.9 70.6 Q 182.4 72.4, 185.1 72.4 \" fill=\"#FF0000\"/>\n",
       "<path class=\"atom-2\" d=\"M 216.9 165.2 Q 216.9 161.0, 219.0 158.6 Q 221.1 156.3, 225.0 156.3 Q 228.9 156.3, 231.0 158.6 Q 233.1 161.0, 233.1 165.2 Q 233.1 169.5, 230.9 171.9 Q 228.8 174.3, 225.0 174.3 Q 221.1 174.3, 219.0 171.9 Q 216.9 169.5, 216.9 165.2 M 225.0 172.4 Q 227.7 172.4, 229.1 170.6 Q 230.6 168.8, 230.6 165.2 Q 230.6 161.8, 229.1 160.0 Q 227.7 158.3, 225.0 158.3 Q 222.3 158.3, 220.8 160.0 Q 219.4 161.7, 219.4 165.2 Q 219.4 168.8, 220.8 170.6 Q 222.3 172.4, 225.0 172.4 \" fill=\"#FF0000\"/>\n",
       "<path class=\"atom-2\" d=\"M 235.8 156.5 L 238.2 156.5 L 238.2 164.0 L 247.2 164.0 L 247.2 156.5 L 249.6 156.5 L 249.6 174.1 L 247.2 174.1 L 247.2 165.9 L 238.2 165.9 L 238.2 174.1 L 235.8 174.1 L 235.8 156.5 \" fill=\"#FF0000\"/>\n",
       "<path class=\"atom-4\" d=\"M 292.4 19.2 Q 292.4 15.0, 294.5 12.6 Q 296.6 10.2, 300.5 10.2 Q 304.4 10.2, 306.5 12.6 Q 308.6 15.0, 308.6 19.2 Q 308.6 23.5, 306.5 25.9 Q 304.4 28.3, 300.5 28.3 Q 296.6 28.3, 294.5 25.9 Q 292.4 23.5, 292.4 19.2 M 300.5 26.3 Q 303.2 26.3, 304.6 24.5 Q 306.1 22.7, 306.1 19.2 Q 306.1 15.7, 304.6 14.0 Q 303.2 12.2, 300.5 12.2 Q 297.8 12.2, 296.3 14.0 Q 294.9 15.7, 294.9 19.2 Q 294.9 22.7, 296.3 24.5 Q 297.8 26.3, 300.5 26.3 \" fill=\"#FF0000\"/>\n",
       "<path class=\"atom-4\" d=\"M 311.3 10.4 L 313.7 10.4 L 313.7 17.9 L 322.7 17.9 L 322.7 10.4 L 325.1 10.4 L 325.1 28.0 L 322.7 28.0 L 322.7 19.9 L 313.7 19.9 L 313.7 28.0 L 311.3 28.0 L 311.3 10.4 \" fill=\"#FF0000\"/>\n",
       "<path class=\"atom-6\" d=\"M 323.4 180.6 Q 323.4 176.4, 325.5 174.1 Q 327.6 171.7, 331.5 171.7 Q 335.4 171.7, 337.5 174.1 Q 339.6 176.4, 339.6 180.6 Q 339.6 184.9, 337.5 187.4 Q 335.4 189.8, 331.5 189.8 Q 327.6 189.8, 325.5 187.4 Q 323.4 184.9, 323.4 180.6 M 331.5 187.8 Q 334.2 187.8, 335.6 186.0 Q 337.1 184.2, 337.1 180.6 Q 337.1 177.2, 335.6 175.4 Q 334.2 173.7, 331.5 173.7 Q 328.8 173.7, 327.4 175.4 Q 325.9 177.2, 325.9 180.6 Q 325.9 184.2, 327.4 186.0 Q 328.8 187.8, 331.5 187.8 \" fill=\"#FF0000\"/>\n",
       "<path class=\"atom-6\" d=\"M 342.3 171.9 L 344.7 171.9 L 344.7 179.4 L 353.7 179.4 L 353.7 171.9 L 356.1 171.9 L 356.1 189.5 L 353.7 189.5 L 353.7 181.4 L 344.7 181.4 L 344.7 189.5 L 342.3 189.5 L 342.3 171.9 \" fill=\"#FF0000\"/>\n",
       "<path class=\"atom-8\" d=\"M 438.8 134.6 Q 438.8 130.3, 440.9 128.0 Q 443.0 125.6, 446.9 125.6 Q 450.8 125.6, 452.9 128.0 Q 455.0 130.3, 455.0 134.6 Q 455.0 138.8, 452.9 141.3 Q 450.8 143.7, 446.9 143.7 Q 443.0 143.7, 440.9 141.3 Q 438.8 138.9, 438.8 134.6 M 446.9 141.7 Q 449.6 141.7, 451.0 139.9 Q 452.5 138.1, 452.5 134.6 Q 452.5 131.1, 451.0 129.4 Q 449.6 127.6, 446.9 127.6 Q 444.2 127.6, 442.8 129.3 Q 441.3 131.1, 441.3 134.6 Q 441.3 138.1, 442.8 139.9 Q 444.2 141.7, 446.9 141.7 \" fill=\"#FF0000\"/>\n",
       "<path class=\"atom-9\" d=\"M 398.9 34.6 Q 398.9 30.4, 401.0 28.0 Q 403.1 25.7, 407.0 25.7 Q 410.9 25.7, 413.0 28.0 Q 415.1 30.4, 415.1 34.6 Q 415.1 38.9, 413.0 41.3 Q 410.9 43.7, 407.0 43.7 Q 403.1 43.7, 401.0 41.3 Q 398.9 38.9, 398.9 34.6 M 407.0 41.7 Q 409.7 41.7, 411.1 39.9 Q 412.6 38.1, 412.6 34.6 Q 412.6 31.1, 411.1 29.4 Q 409.7 27.6, 407.0 27.6 Q 404.3 27.6, 402.9 29.4 Q 401.4 31.1, 401.4 34.6 Q 401.4 38.2, 402.9 39.9 Q 404.3 41.7, 407.0 41.7 \" fill=\"#FF0000\"/>\n",
       "<path class=\"atom-9\" d=\"M 417.8 25.9 L 420.2 25.9 L 420.2 33.3 L 429.2 33.3 L 429.2 25.9 L 431.6 25.9 L 431.6 43.5 L 429.2 43.5 L 429.2 35.3 L 420.2 35.3 L 420.2 43.5 L 417.8 43.5 L 417.8 25.9 \" fill=\"#FF0000\"/>\n",
       "<path class=\"bond-9 atom-10 atom-11\" d=\"M 608.2,119.9 L 627.0,102.6\" style=\"fill:none;fill-rule:evenodd;stroke:#FF0000;stroke-width:2.0px;stroke-linecap:butt;stroke-linejoin:miter;stroke-opacity:1\"/>\n",
       "<path class=\"bond-9 atom-10 atom-11\" d=\"M 627.0,102.6 L 645.8,85.3\" style=\"fill:none;fill-rule:evenodd;stroke:#000000;stroke-width:2.0px;stroke-linecap:butt;stroke-linejoin:miter;stroke-opacity:1\"/>\n",
       "<path class=\"bond-9 atom-10 atom-11\" d=\"M 614.5,126.8 L 633.3,109.5\" style=\"fill:none;fill-rule:evenodd;stroke:#FF0000;stroke-width:2.0px;stroke-linecap:butt;stroke-linejoin:miter;stroke-opacity:1\"/>\n",
       "<path class=\"bond-9 atom-10 atom-11\" d=\"M 633.3,109.5 L 652.1,92.2\" style=\"fill:none;fill-rule:evenodd;stroke:#000000;stroke-width:2.0px;stroke-linecap:butt;stroke-linejoin:miter;stroke-opacity:1\"/>\n",
       "<path class=\"bond-10 atom-11 atom-12\" d=\"M 646.9,90.6 L 641.4,65.9\" style=\"fill:none;fill-rule:evenodd;stroke:#000000;stroke-width:2.0px;stroke-linecap:butt;stroke-linejoin:miter;stroke-opacity:1\"/>\n",
       "<path class=\"bond-10 atom-11 atom-12\" d=\"M 641.4,65.9 L 635.9,41.2\" style=\"fill:none;fill-rule:evenodd;stroke:#FF0000;stroke-width:2.0px;stroke-linecap:butt;stroke-linejoin:miter;stroke-opacity:1\"/>\n",
       "<path class=\"bond-11 atom-11 atom-13\" d=\"M 646.9,90.6 L 706.2,109.1\" style=\"fill:none;fill-rule:evenodd;stroke:#000000;stroke-width:2.0px;stroke-linecap:butt;stroke-linejoin:miter;stroke-opacity:1\"/>\n",
       "<path class=\"bond-12 atom-13 atom-14\" d=\"M 706.2,109.1 L 711.8,134.0\" style=\"fill:none;fill-rule:evenodd;stroke:#000000;stroke-width:2.0px;stroke-linecap:butt;stroke-linejoin:miter;stroke-opacity:1\"/>\n",
       "<path class=\"bond-12 atom-13 atom-14\" d=\"M 711.8,134.0 L 717.4,158.8\" style=\"fill:none;fill-rule:evenodd;stroke:#FF0000;stroke-width:2.0px;stroke-linecap:butt;stroke-linejoin:miter;stroke-opacity:1\"/>\n",
       "<path class=\"bond-13 atom-13 atom-15\" d=\"M 706.2,109.1 L 752.0,67.0\" style=\"fill:none;fill-rule:evenodd;stroke:#000000;stroke-width:2.0px;stroke-linecap:butt;stroke-linejoin:miter;stroke-opacity:1\"/>\n",
       "<path class=\"bond-14 atom-15 atom-16\" d=\"M 752.0,67.0 L 776.5,74.7\" style=\"fill:none;fill-rule:evenodd;stroke:#000000;stroke-width:2.0px;stroke-linecap:butt;stroke-linejoin:miter;stroke-opacity:1\"/>\n",
       "<path class=\"bond-14 atom-15 atom-16\" d=\"M 776.5,74.7 L 801.1,82.4\" style=\"fill:none;fill-rule:evenodd;stroke:#FF0000;stroke-width:2.0px;stroke-linecap:butt;stroke-linejoin:miter;stroke-opacity:1\"/>\n",
       "<path d=\"M 646.7,89.4 L 646.9,90.6 L 649.9,91.5\" style=\"fill:none;stroke:#000000;stroke-width:2.0px;stroke-linecap:butt;stroke-linejoin:miter;stroke-opacity:1;\"/>\n",
       "<path d=\"M 749.7,69.1 L 752.0,67.0 L 753.2,67.4\" style=\"fill:none;stroke:#000000;stroke-width:2.0px;stroke-linecap:butt;stroke-linejoin:miter;stroke-opacity:1;\"/>\n",
       "<path class=\"atom-0\" d=\"M 593.1 132.7 Q 593.1 128.5, 595.2 126.2 Q 597.3 123.8, 601.2 123.8 Q 605.1 123.8, 607.2 126.2 Q 609.3 128.5, 609.3 132.7 Q 609.3 137.0, 607.2 139.4 Q 605.1 141.9, 601.2 141.9 Q 597.3 141.9, 595.2 139.4 Q 593.1 137.0, 593.1 132.7 M 601.2 139.9 Q 603.9 139.9, 605.4 138.1 Q 606.8 136.3, 606.8 132.7 Q 606.8 129.3, 605.4 127.5 Q 603.9 125.8, 601.2 125.8 Q 598.5 125.8, 597.1 127.5 Q 595.6 129.3, 595.6 132.7 Q 595.6 136.3, 597.1 138.1 Q 598.5 139.9, 601.2 139.9 \" fill=\"#FF0000\"/>\n",
       "<path class=\"atom-2\" d=\"M 625.3 30.0 Q 625.3 25.8, 627.3 23.4 Q 629.4 21.1, 633.3 21.1 Q 637.2 21.1, 639.3 23.4 Q 641.4 25.8, 641.4 30.0 Q 641.4 34.3, 639.3 36.7 Q 637.2 39.1, 633.3 39.1 Q 629.5 39.1, 627.3 36.7 Q 625.3 34.3, 625.3 30.0 M 633.3 37.1 Q 636.0 37.1, 637.5 35.4 Q 638.9 33.5, 638.9 30.0 Q 638.9 26.6, 637.5 24.8 Q 636.0 23.1, 633.3 23.1 Q 630.7 23.1, 629.2 24.8 Q 627.7 26.5, 627.7 30.0 Q 627.7 33.6, 629.2 35.4 Q 630.7 37.1, 633.3 37.1 \" fill=\"#FF0000\"/>\n",
       "<path class=\"atom-2\" d=\"M 644.2 21.3 L 646.5 21.3 L 646.5 28.7 L 655.5 28.7 L 655.5 21.3 L 657.9 21.3 L 657.9 38.9 L 655.5 38.9 L 655.5 30.7 L 646.5 30.7 L 646.5 38.9 L 644.2 38.9 L 644.2 21.3 \" fill=\"#FF0000\"/>\n",
       "<path class=\"atom-4\" d=\"M 711.8 169.8 Q 711.8 165.6, 713.9 163.2 Q 715.9 160.9, 719.8 160.9 Q 723.7 160.9, 725.8 163.2 Q 727.9 165.6, 727.9 169.8 Q 727.9 174.1, 725.8 176.5 Q 723.7 178.9, 719.8 178.9 Q 716.0 178.9, 713.9 176.5 Q 711.8 174.1, 711.8 169.8 M 719.8 176.9 Q 722.5 176.9, 724.0 175.2 Q 725.4 173.3, 725.4 169.8 Q 725.4 166.4, 724.0 164.6 Q 722.5 162.9, 719.8 162.9 Q 717.2 162.9, 715.7 164.6 Q 714.3 166.3, 714.3 169.8 Q 714.3 173.4, 715.7 175.2 Q 717.2 176.9, 719.8 176.9 \" fill=\"#FF0000\"/>\n",
       "<path class=\"atom-4\" d=\"M 730.7 161.1 L 733.0 161.1 L 733.0 168.5 L 742.0 168.5 L 742.0 161.1 L 744.4 161.1 L 744.4 178.7 L 742.0 178.7 L 742.0 170.5 L 733.0 170.5 L 733.0 178.7 L 730.7 178.7 L 730.7 161.1 \" fill=\"#FF0000\"/>\n",
       "<path class=\"atom-6\" d=\"M 803.2 85.6 Q 803.2 81.4, 805.3 79.0 Q 807.4 76.7, 811.3 76.7 Q 815.2 76.7, 817.3 79.0 Q 819.3 81.4, 819.3 85.6 Q 819.3 89.9, 817.2 92.3 Q 815.1 94.7, 811.3 94.7 Q 807.4 94.7, 805.3 92.3 Q 803.2 89.9, 803.2 85.6 M 811.3 92.8 Q 813.9 92.8, 815.4 91.0 Q 816.9 89.2, 816.9 85.6 Q 816.9 82.2, 815.4 80.4 Q 813.9 78.7, 811.3 78.7 Q 808.6 78.7, 807.1 80.4 Q 805.7 82.1, 805.7 85.6 Q 805.7 89.2, 807.1 91.0 Q 808.6 92.8, 811.3 92.8 \" fill=\"#FF0000\"/>\n",
       "<path class=\"atom-6\" d=\"M 822.1 76.9 L 824.5 76.9 L 824.5 84.4 L 833.5 84.4 L 833.5 76.9 L 835.9 76.9 L 835.9 94.5 L 833.5 94.5 L 833.5 86.3 L 824.5 86.3 L 824.5 94.5 L 822.1 94.5 L 822.1 76.9 \" fill=\"#FF0000\"/>\n",
       "<path d=\"M 859.0,90.0 L 859.0,110.0\" style=\"fill:none;fill-rule:evenodd;stroke:#000000;stroke-width:2.0px;stroke-linecap:butt;stroke-linejoin:miter;stroke-opacity:1\"/>\n",
       "<path d=\"M 849.0,100.0 L 869.0,100.0\" style=\"fill:none;fill-rule:evenodd;stroke:#000000;stroke-width:2.0px;stroke-linecap:butt;stroke-linejoin:miter;stroke-opacity:1\"/>\n",
       "<path class=\"bond-15 atom-17 atom-18\" d=\"M 1004.5,104.5 L 982.9,104.5\" style=\"fill:none;fill-rule:evenodd;stroke:#FF0000;stroke-width:2.0px;stroke-linecap:butt;stroke-linejoin:miter;stroke-opacity:1\"/>\n",
       "<path class=\"bond-15 atom-17 atom-18\" d=\"M 982.9,104.5 L 961.3,104.5\" style=\"fill:none;fill-rule:evenodd;stroke:#000000;stroke-width:2.0px;stroke-linecap:butt;stroke-linejoin:miter;stroke-opacity:1\"/>\n",
       "<path class=\"bond-15 atom-17 atom-18\" d=\"M 1004.5,95.2 L 982.9,95.2\" style=\"fill:none;fill-rule:evenodd;stroke:#FF0000;stroke-width:2.0px;stroke-linecap:butt;stroke-linejoin:miter;stroke-opacity:1\"/>\n",
       "<path class=\"bond-15 atom-17 atom-18\" d=\"M 982.9,95.2 L 961.3,95.2\" style=\"fill:none;fill-rule:evenodd;stroke:#000000;stroke-width:2.0px;stroke-linecap:butt;stroke-linejoin:miter;stroke-opacity:1\"/>\n",
       "<path class=\"bond-16 atom-18 atom-19\" d=\"M 943.7,104.5 L 922.1,104.5\" style=\"fill:none;fill-rule:evenodd;stroke:#000000;stroke-width:2.0px;stroke-linecap:butt;stroke-linejoin:miter;stroke-opacity:1\"/>\n",
       "<path class=\"bond-16 atom-18 atom-19\" d=\"M 922.1,104.5 L 900.5,104.5\" style=\"fill:none;fill-rule:evenodd;stroke:#FF0000;stroke-width:2.0px;stroke-linecap:butt;stroke-linejoin:miter;stroke-opacity:1\"/>\n",
       "<path class=\"bond-16 atom-18 atom-19\" d=\"M 943.7,95.2 L 922.1,95.2\" style=\"fill:none;fill-rule:evenodd;stroke:#000000;stroke-width:2.0px;stroke-linecap:butt;stroke-linejoin:miter;stroke-opacity:1\"/>\n",
       "<path class=\"bond-16 atom-18 atom-19\" d=\"M 922.1,95.2 L 900.5,95.2\" style=\"fill:none;fill-rule:evenodd;stroke:#FF0000;stroke-width:2.0px;stroke-linecap:butt;stroke-linejoin:miter;stroke-opacity:1\"/>\n",
       "<path class=\"atom-0\" d=\"M 1006.6 99.9 Q 1006.6 95.7, 1008.6 93.3 Q 1010.7 91.0, 1014.6 91.0 Q 1018.5 91.0, 1020.6 93.3 Q 1022.7 95.7, 1022.7 99.9 Q 1022.7 104.2, 1020.6 106.6 Q 1018.5 109.0, 1014.6 109.0 Q 1010.8 109.0, 1008.6 106.6 Q 1006.6 104.2, 1006.6 99.9 M 1014.6 107.0 Q 1017.3 107.0, 1018.8 105.3 Q 1020.2 103.4, 1020.2 99.9 Q 1020.2 96.5, 1018.8 94.7 Q 1017.3 93.0, 1014.6 93.0 Q 1012.0 93.0, 1010.5 94.7 Q 1009.0 96.4, 1009.0 99.9 Q 1009.0 103.5, 1010.5 105.3 Q 1012.0 107.0, 1014.6 107.0 \" fill=\"#FF0000\"/>\n",
       "<path class=\"atom-1\" d=\"M 945.7 99.9 Q 945.7 95.6, 947.8 93.3 Q 949.8 91.0, 953.7 91.0 Q 957.3 91.0, 959.3 93.5 L 957.6 94.9 Q 956.2 93.0, 953.7 93.0 Q 951.1 93.0, 949.6 94.8 Q 948.2 96.6, 948.2 99.9 Q 948.2 103.4, 949.7 105.2 Q 951.2 107.0, 954.0 107.0 Q 955.9 107.0, 958.2 105.8 L 958.9 107.7 Q 958.0 108.3, 956.6 108.6 Q 955.2 109.0, 953.6 109.0 Q 949.8 109.0, 947.8 106.6 Q 945.7 104.3, 945.7 99.9 \" fill=\"#000000\"/>\n",
       "<path class=\"atom-2\" d=\"M 882.3 99.9 Q 882.3 95.7, 884.4 93.3 Q 886.5 91.0, 890.4 91.0 Q 894.3 91.0, 896.4 93.3 Q 898.4 95.7, 898.4 99.9 Q 898.4 104.2, 896.3 106.6 Q 894.2 109.0, 890.4 109.0 Q 886.5 109.0, 884.4 106.6 Q 882.3 104.2, 882.3 99.9 M 890.4 107.0 Q 893.0 107.0, 894.5 105.3 Q 896.0 103.4, 896.0 99.9 Q 896.0 96.5, 894.5 94.7 Q 893.0 93.0, 890.4 93.0 Q 887.7 93.0, 886.2 94.7 Q 884.8 96.4, 884.8 99.9 Q 884.8 103.5, 886.2 105.3 Q 887.7 107.0, 890.4 107.0 \" fill=\"#FF0000\"/>\n",
       "<path d=\"M 478.0,100.0 L 570.0,100.0\" style=\"fill:none;fill-rule:evenodd;stroke:#000000;stroke-width:2.0px;stroke-linecap:butt;stroke-linejoin:miter;stroke-opacity:1\"/>\n",
       "<path d=\"M 570.0,100.0 L 565.0,102.9\" style=\"fill:none;fill-rule:evenodd;stroke:#000000;stroke-width:2.0px;stroke-linecap:butt;stroke-linejoin:miter;stroke-opacity:1\"/>\n",
       "<path d=\"M 570.0,100.0 L 565.0,97.1\" style=\"fill:none;fill-rule:evenodd;stroke:#000000;stroke-width:2.0px;stroke-linecap:butt;stroke-linejoin:miter;stroke-opacity:1\"/>\n",
       "</svg>"
      ],
      "text/plain": [
       "<IPython.core.display.SVG object>"
      ]
     },
     "execution_count": 63,
     "metadata": {},
     "output_type": "execute_result"
    }
   ],
   "source": [
    "print(bad_templates[0][0])\n",
    "SVG(draw_reaction(bad_templates[0][0]))"
   ]
  },
  {
   "cell_type": "code",
   "execution_count": null,
   "metadata": {},
   "outputs": [
    {
     "data": {
      "image/png": "[encoded data removed]",
      "text/plain": [
       "<rdkit.Chem.rdChemReactions.ChemicalReaction at 0x7f2375f9fd80>"
      ]
     },
     "execution_count": 68,
     "metadata": {},
     "output_type": "execute_result"
    }
   ],
   "source": [
    "AllChem.ReactionFromSmarts(bad_templates[0][1])"
   ]
  },
  {
   "cell_type": "code",
   "execution_count": null,
   "metadata": {},
   "outputs": [
    {
     "name": "stdout",
     "output_type": "stream",
     "text": [
      "[O&D1&v2&H0&0*&!R:1]=[C&D3&v4&H0&0*&!R&z2:2](-[O&D1&v2&H1&0*&!R:3])-[C&D3&v4&H1&0*&!R&z2:4]~[*:5](~[O&D1&v2&H1&0*&!R:6])~[*:7](~[O&D1&v2&H0&0*&!R:8])~[O&D1&v2&H1&0*&!R:9]\n",
      "[O&D1&v2&H0&0*&!R:3]=[C&D2&v4&H0&0*&!R&z2:2]=[O&D1&v2&H0&0*&!R:1]\n",
      "[O&D1&v2&H0&0*&!R:8]~[*:7](~[O&D1&v2&H1&0*&!R:9])~[*:5](~[O&D1&v2&H1&0*&!R:6])~[C&D2&v4&H2&0*&!R&z2:4]\n"
     ]
    }
   ],
   "source": [
    "for elt in bad_templates[0][1].split('>>'):\n",
    "    for mol in elt.split('.'):\n",
    "        print(mol)"
   ]
  },
  {
   "cell_type": "code",
   "execution_count": null,
   "metadata": {},
   "outputs": [
    {
     "data": {
      "text/plain": [
       "0"
      ]
     },
     "execution_count": 70,
     "metadata": {},
     "output_type": "execute_result"
    }
   ],
   "source": [
    "Chem.MolFromSmarts('[O&D1&v2&H0&0*&!R:3]=[C&D2&v4&H0&0*&!R&z2:2]=[O&D1&v2&H0&0*&!R:1]').GetAtomWithIdx(0).GetFormalCharge()"
   ]
  },
  {
   "cell_type": "code",
   "execution_count": null,
   "metadata": {},
   "outputs": [],
   "source": [
    "real_mols = [Chem.MolFromSmiles(elt) for elt in chain(*[elt.split('.') for elt in bad_templates[0][0].split('>>')])]\n",
    "query_mols = [Chem.MolFromSmarts(elt) for elt in chain(*[elt.split('.') for elt in bad_templates[0][1].split('>>')])]"
   ]
  },
  {
   "cell_type": "code",
   "execution_count": null,
   "metadata": {},
   "outputs": [
    {
     "data": {
      "text/plain": [
       "()"
      ]
     },
     "execution_count": 78,
     "metadata": {},
     "output_type": "execute_result"
    }
   ],
   "source": [
    "real_mols[0].GetSubstructMatches(query_mols[0])"
   ]
  },
  {
   "cell_type": "code",
   "execution_count": null,
   "metadata": {},
   "outputs": [
    {
     "data": {
      "text/plain": [
       "()"
      ]
     },
     "execution_count": 82,
     "metadata": {},
     "output_type": "execute_result"
    }
   ],
   "source": [
    "real_mols[0].GetSubstructMatches(query_mols[1])"
   ]
  },
  {
   "cell_type": "code",
   "execution_count": null,
   "metadata": {},
   "outputs": [
    {
     "data": {
      "image/svg+xml": [
       "<svg xmlns=\"http://www.w3.org/2000/svg\" xmlns:rdkit=\"http://www.rdkit.org/xml\" xmlns:xlink=\"http://www.w3.org/1999/xlink\" version=\"1.1\" baseProfile=\"full\" xml:space=\"preserve\" width=\"200px\" height=\"200px\" viewBox=\"0 0 200 200\">\n",
       "<!-- END OF HEADER -->\n",
       "<rect style=\"opacity:1.0;fill:#FFFFFF;stroke:none\" width=\"200.0\" height=\"200.0\" x=\"0.0\" y=\"0.0\"> </rect>\n",
       "<path class=\"bond-0 atom-0 atom-1\" d=\"M 46.0,130.9 L 48.2,115.6\" style=\"fill:none;fill-rule:evenodd;stroke:#FF0000;stroke-width:2.0px;stroke-linecap:butt;stroke-linejoin:miter;stroke-opacity:1\"/>\n",
       "<path class=\"bond-0 atom-0 atom-1\" d=\"M 48.2,115.6 L 50.4,100.2\" style=\"fill:none;fill-rule:evenodd;stroke:#000000;stroke-width:2.0px;stroke-linecap:butt;stroke-linejoin:miter;stroke-opacity:1\"/>\n",
       "<path class=\"bond-0 atom-0 atom-1\" d=\"M 51.3,131.7 L 53.5,116.4\" style=\"fill:none;fill-rule:evenodd;stroke:#FF0000;stroke-width:2.0px;stroke-linecap:butt;stroke-linejoin:miter;stroke-opacity:1\"/>\n",
       "<path class=\"bond-0 atom-0 atom-1\" d=\"M 53.5,116.4 L 55.7,101.0\" style=\"fill:none;fill-rule:evenodd;stroke:#000000;stroke-width:2.0px;stroke-linecap:butt;stroke-linejoin:miter;stroke-opacity:1\"/>\n",
       "<path class=\"bond-1 atom-1 atom-2\" d=\"M 52.9,102.2 L 41.7,93.4\" style=\"fill:none;fill-rule:evenodd;stroke:#000000;stroke-width:2.0px;stroke-linecap:butt;stroke-linejoin:miter;stroke-opacity:1\"/>\n",
       "<path class=\"bond-1 atom-1 atom-2\" d=\"M 41.7,93.4 L 30.5,84.6\" style=\"fill:none;fill-rule:evenodd;stroke:#FF0000;stroke-width:2.0px;stroke-linecap:butt;stroke-linejoin:miter;stroke-opacity:1\"/>\n",
       "<path class=\"bond-2 atom-1 atom-3\" d=\"M 52.9,102.2 L 86.2,88.9\" style=\"fill:none;fill-rule:evenodd;stroke:#000000;stroke-width:2.0px;stroke-linecap:butt;stroke-linejoin:miter;stroke-opacity:1\"/>\n",
       "<path class=\"bond-3 atom-3 atom-4\" d=\"M 86.2,88.9 L 88.3,74.4\" style=\"fill:none;fill-rule:evenodd;stroke:#000000;stroke-width:2.0px;stroke-linecap:butt;stroke-linejoin:miter;stroke-opacity:1\"/>\n",
       "<path class=\"bond-3 atom-3 atom-4\" d=\"M 88.3,74.4 L 90.4,59.8\" style=\"fill:none;fill-rule:evenodd;stroke:#FF0000;stroke-width:2.0px;stroke-linecap:butt;stroke-linejoin:miter;stroke-opacity:1\"/>\n",
       "<path class=\"bond-4 atom-3 atom-5\" d=\"M 86.2,88.9 L 114.3,111.1\" style=\"fill:none;fill-rule:evenodd;stroke:#000000;stroke-width:2.0px;stroke-linecap:butt;stroke-linejoin:miter;stroke-opacity:1\"/>\n",
       "<path class=\"bond-5 atom-5 atom-6\" d=\"M 114.3,111.1 L 112.2,125.6\" style=\"fill:none;fill-rule:evenodd;stroke:#000000;stroke-width:2.0px;stroke-linecap:butt;stroke-linejoin:miter;stroke-opacity:1\"/>\n",
       "<path class=\"bond-5 atom-5 atom-6\" d=\"M 112.2,125.6 L 110.1,140.2\" style=\"fill:none;fill-rule:evenodd;stroke:#FF0000;stroke-width:2.0px;stroke-linecap:butt;stroke-linejoin:miter;stroke-opacity:1\"/>\n",
       "<path class=\"bond-6 atom-5 atom-7\" d=\"M 114.3,111.1 L 147.6,97.8\" style=\"fill:none;fill-rule:evenodd;stroke:#000000;stroke-width:2.0px;stroke-linecap:butt;stroke-linejoin:miter;stroke-opacity:1\"/>\n",
       "<path class=\"bond-7 atom-7 atom-8\" d=\"M 150.1,99.7 L 152.3,84.4\" style=\"fill:none;fill-rule:evenodd;stroke:#000000;stroke-width:2.0px;stroke-linecap:butt;stroke-linejoin:miter;stroke-opacity:1\"/>\n",
       "<path class=\"bond-7 atom-7 atom-8\" d=\"M 152.3,84.4 L 154.5,69.1\" style=\"fill:none;fill-rule:evenodd;stroke:#FF0000;stroke-width:2.0px;stroke-linecap:butt;stroke-linejoin:miter;stroke-opacity:1\"/>\n",
       "<path class=\"bond-7 atom-7 atom-8\" d=\"M 144.8,98.9 L 147.0,83.6\" style=\"fill:none;fill-rule:evenodd;stroke:#000000;stroke-width:2.0px;stroke-linecap:butt;stroke-linejoin:miter;stroke-opacity:1\"/>\n",
       "<path class=\"bond-7 atom-7 atom-8\" d=\"M 147.0,83.6 L 149.2,68.4\" style=\"fill:none;fill-rule:evenodd;stroke:#FF0000;stroke-width:2.0px;stroke-linecap:butt;stroke-linejoin:miter;stroke-opacity:1\"/>\n",
       "<path class=\"bond-8 atom-7 atom-9\" d=\"M 147.6,97.8 L 158.8,106.6\" style=\"fill:none;fill-rule:evenodd;stroke:#000000;stroke-width:2.0px;stroke-linecap:butt;stroke-linejoin:miter;stroke-opacity:1\"/>\n",
       "<path class=\"bond-8 atom-7 atom-9\" d=\"M 158.8,106.6 L 170.0,115.3\" style=\"fill:none;fill-rule:evenodd;stroke:#FF0000;stroke-width:2.0px;stroke-linecap:butt;stroke-linejoin:miter;stroke-opacity:1\"/>\n",
       "<path d=\"M 52.3,101.7 L 52.9,102.2 L 54.5,101.5\" style=\"fill:none;stroke:#000000;stroke-width:2.0px;stroke-linecap:butt;stroke-linejoin:miter;stroke-opacity:1;\"/>\n",
       "<path d=\"M 146.0,98.4 L 147.6,97.8 L 148.2,98.2\" style=\"fill:none;stroke:#000000;stroke-width:2.0px;stroke-linecap:butt;stroke-linejoin:miter;stroke-opacity:1;\"/>\n",
       "<path class=\"atom-0\" d=\"M 43.1 137.7 Q 43.1 135.2, 44.3 133.9 Q 45.5 132.5, 47.7 132.5 Q 50.0 132.5, 51.2 133.9 Q 52.4 135.2, 52.4 137.7 Q 52.4 140.1, 51.2 141.6 Q 49.9 142.9, 47.7 142.9 Q 45.5 142.9, 44.3 141.6 Q 43.1 140.2, 43.1 137.7 M 47.7 141.8 Q 49.3 141.8, 50.1 140.8 Q 51.0 139.7, 51.0 137.7 Q 51.0 135.7, 50.1 134.7 Q 49.3 133.7, 47.7 133.7 Q 46.2 133.7, 45.3 134.7 Q 44.5 135.7, 44.5 137.7 Q 44.5 139.7, 45.3 140.8 Q 46.2 141.8, 47.7 141.8 \" fill=\"#FF0000\"/>\n",
       "<path class=\"atom-2\" d=\"M 10.0 74.9 L 11.4 74.9 L 11.4 79.3 L 16.6 79.3 L 16.6 74.9 L 17.9 74.9 L 17.9 85.1 L 16.6 85.1 L 16.6 80.4 L 11.4 80.4 L 11.4 85.1 L 10.0 85.1 L 10.0 74.9 \" fill=\"#FF0000\"/>\n",
       "<path class=\"atom-2\" d=\"M 20.0 80.0 Q 20.0 77.6, 21.2 76.2 Q 22.4 74.8, 24.7 74.8 Q 26.9 74.8, 28.1 76.2 Q 29.4 77.6, 29.4 80.0 Q 29.4 82.5, 28.1 83.9 Q 26.9 85.3, 24.7 85.3 Q 22.5 85.3, 21.2 83.9 Q 20.0 82.5, 20.0 80.0 M 24.7 84.1 Q 26.2 84.1, 27.1 83.1 Q 27.9 82.0, 27.9 80.0 Q 27.9 78.0, 27.1 77.0 Q 26.2 76.0, 24.7 76.0 Q 23.1 76.0, 22.3 77.0 Q 21.5 78.0, 21.5 80.0 Q 21.5 82.0, 22.3 83.1 Q 23.1 84.1, 24.7 84.1 \" fill=\"#FF0000\"/>\n",
       "<path class=\"atom-4\" d=\"M 86.6 53.4 Q 86.6 51.0, 87.8 49.6 Q 89.1 48.2, 91.3 48.2 Q 93.6 48.2, 94.8 49.6 Q 96.0 51.0, 96.0 53.4 Q 96.0 55.9, 94.7 57.3 Q 93.5 58.7, 91.3 58.7 Q 89.1 58.7, 87.8 57.3 Q 86.6 55.9, 86.6 53.4 M 91.3 57.5 Q 92.9 57.5, 93.7 56.5 Q 94.5 55.4, 94.5 53.4 Q 94.5 51.4, 93.7 50.4 Q 92.9 49.4, 91.3 49.4 Q 89.8 49.4, 88.9 50.4 Q 88.1 51.4, 88.1 53.4 Q 88.1 55.4, 88.9 56.5 Q 89.8 57.5, 91.3 57.5 \" fill=\"#FF0000\"/>\n",
       "<path class=\"atom-4\" d=\"M 97.5 48.3 L 98.9 48.3 L 98.9 52.7 L 104.1 52.7 L 104.1 48.3 L 105.5 48.3 L 105.5 58.5 L 104.1 58.5 L 104.1 53.8 L 98.9 53.8 L 98.9 58.5 L 97.5 58.5 L 97.5 48.3 \" fill=\"#FF0000\"/>\n",
       "<path class=\"atom-6\" d=\"M 104.5 146.6 Q 104.5 144.1, 105.7 142.8 Q 106.9 141.4, 109.2 141.4 Q 111.4 141.4, 112.7 142.8 Q 113.9 144.1, 113.9 146.6 Q 113.9 149.0, 112.6 150.4 Q 111.4 151.8, 109.2 151.8 Q 107.0 151.8, 105.7 150.4 Q 104.5 149.1, 104.5 146.6 M 109.2 150.7 Q 110.7 150.7, 111.6 149.7 Q 112.4 148.6, 112.4 146.6 Q 112.4 144.6, 111.6 143.6 Q 110.7 142.6, 109.2 142.6 Q 107.6 142.6, 106.8 143.6 Q 106.0 144.6, 106.0 146.6 Q 106.0 148.6, 106.8 149.7 Q 107.6 150.7, 109.2 150.7 \" fill=\"#FF0000\"/>\n",
       "<path class=\"atom-6\" d=\"M 115.4 141.5 L 116.8 141.5 L 116.8 145.8 L 122.0 145.8 L 122.0 141.5 L 123.4 141.5 L 123.4 151.7 L 122.0 151.7 L 122.0 147.0 L 116.8 147.0 L 116.8 151.7 L 115.4 151.7 L 115.4 141.5 \" fill=\"#FF0000\"/>\n",
       "<path class=\"atom-8\" d=\"M 148.1 62.3 Q 148.1 59.9, 149.3 58.5 Q 150.5 57.1, 152.8 57.1 Q 155.0 57.1, 156.2 58.5 Q 157.4 59.9, 157.4 62.3 Q 157.4 64.8, 156.2 66.2 Q 155.0 67.6, 152.8 67.6 Q 150.5 67.6, 149.3 66.2 Q 148.1 64.8, 148.1 62.3 M 152.8 66.4 Q 154.3 66.4, 155.2 65.4 Q 156.0 64.3, 156.0 62.3 Q 156.0 60.3, 155.2 59.3 Q 154.3 58.3, 152.8 58.3 Q 151.2 58.3, 150.4 59.3 Q 149.6 60.3, 149.6 62.3 Q 149.6 64.3, 150.4 65.4 Q 151.2 66.4, 152.8 66.4 \" fill=\"#FF0000\"/>\n",
       "<path class=\"atom-9\" d=\"M 171.1 120.0 Q 171.1 117.5, 172.4 116.2 Q 173.6 114.8, 175.8 114.8 Q 178.1 114.8, 179.3 116.2 Q 180.5 117.5, 180.5 120.0 Q 180.5 122.4, 179.3 123.9 Q 178.0 125.2, 175.8 125.2 Q 173.6 125.2, 172.4 123.9 Q 171.1 122.5, 171.1 120.0 M 175.8 124.1 Q 177.4 124.1, 178.2 123.1 Q 179.0 122.0, 179.0 120.0 Q 179.0 118.0, 178.2 117.0 Q 177.4 116.0, 175.8 116.0 Q 174.3 116.0, 173.4 117.0 Q 172.6 118.0, 172.6 120.0 Q 172.6 122.0, 173.4 123.1 Q 174.3 124.1, 175.8 124.1 \" fill=\"#FF0000\"/>\n",
       "<path class=\"atom-9\" d=\"M 182.1 114.9 L 183.4 114.9 L 183.4 119.3 L 188.6 119.3 L 188.6 114.9 L 190.0 114.9 L 190.0 125.1 L 188.6 125.1 L 188.6 120.4 L 183.4 120.4 L 183.4 125.1 L 182.1 125.1 L 182.1 114.9 \" fill=\"#FF0000\"/>\n",
       "<path class=\"note\" d=\"M 46.0 152.1 Q 45.1 152.1, 44.6 151.4 Q 44.2 150.7, 44.2 149.5 Q 44.2 148.3, 44.6 147.6 Q 45.1 146.9, 46.0 146.9 Q 46.9 146.9, 47.4 147.6 Q 47.9 148.3, 47.9 149.5 Q 47.9 150.7, 47.4 151.4 Q 46.9 152.1, 46.0 152.1 M 46.0 151.5 Q 46.6 151.5, 46.9 151.0 Q 47.2 150.5, 47.2 149.5 Q 47.2 148.5, 46.9 148.0 Q 46.6 147.5, 46.0 147.5 Q 45.5 147.5, 45.2 148.0 Q 44.9 148.5, 44.9 149.5 Q 44.9 150.5, 45.2 151.0 Q 45.5 151.5, 46.0 151.5 \" fill=\"#000000\"/>\n",
       "<path class=\"note\" d=\"M 52.5 98.2 L 53.6 98.2 L 53.6 94.4 L 52.4 94.8 L 52.2 94.4 L 53.7 93.7 L 54.3 93.8 L 54.3 98.2 L 55.2 98.2 L 55.2 98.8 L 52.5 98.8 L 52.5 98.2 \" fill=\"#000000\"/>\n",
       "<path class=\"note\" d=\"M 18.6 67.3 Q 18.8 66.8, 19.2 66.6 Q 19.6 66.3, 20.3 66.3 Q 21.0 66.3, 21.5 66.7 Q 21.9 67.1, 21.9 67.9 Q 21.9 68.6, 21.3 69.3 Q 20.8 70.0, 19.6 70.9 L 22.0 70.9 L 22.0 71.4 L 18.5 71.4 L 18.5 70.9 Q 19.5 70.3, 20.1 69.8 Q 20.6 69.3, 20.9 68.8 Q 21.2 68.4, 21.2 67.9 Q 21.2 67.4, 20.9 67.1 Q 20.7 66.9, 20.3 66.9 Q 19.8 66.9, 19.6 67.0 Q 19.3 67.2, 19.1 67.6 L 18.6 67.3 \" fill=\"#000000\"/>\n",
       "<path class=\"note\" d=\"M 82.2 85.1 Q 82.7 85.2, 82.9 85.5 Q 83.2 85.8, 83.2 86.3 Q 83.2 86.8, 83.0 87.1 Q 82.7 87.4, 82.4 87.6 Q 82.0 87.8, 81.4 87.8 Q 80.9 87.8, 80.5 87.6 Q 80.1 87.4, 79.8 87.0 L 80.2 86.6 Q 80.5 87.0, 80.8 87.1 Q 81.0 87.2, 81.4 87.2 Q 81.9 87.2, 82.2 87.0 Q 82.5 86.7, 82.5 86.3 Q 82.5 85.8, 82.2 85.6 Q 81.9 85.3, 81.3 85.3 L 80.9 85.3 L 80.9 84.8 L 81.2 84.8 Q 81.8 84.8, 82.1 84.6 Q 82.4 84.3, 82.4 83.9 Q 82.4 83.6, 82.1 83.4 Q 81.9 83.2, 81.5 83.2 Q 81.0 83.2, 80.8 83.3 Q 80.5 83.5, 80.3 83.8 L 79.8 83.6 Q 80.0 83.2, 80.4 82.9 Q 80.8 82.6, 81.5 82.6 Q 82.2 82.6, 82.6 82.9 Q 83.1 83.3, 83.1 83.9 Q 83.1 84.3, 82.8 84.6 Q 82.6 84.9, 82.2 85.1 \" fill=\"#000000\"/>\n",
       "<path class=\"note\" d=\"M 94.4 42.3 L 95.0 42.3 L 95.0 42.9 L 94.4 42.9 L 94.4 44.1 L 93.7 44.1 L 93.7 42.9 L 91.1 42.9 L 91.1 42.5 L 93.3 39.0 L 94.4 39.0 L 94.4 42.3 M 91.9 42.3 L 93.7 42.3 L 93.7 39.5 L 91.9 42.3 \" fill=\"#000000\"/>\n",
       "<path class=\"note\" d=\"M 108.9 112.6 Q 109.4 112.6, 109.7 112.8 Q 110.1 113.0, 110.3 113.4 Q 110.5 113.7, 110.5 114.2 Q 110.5 114.7, 110.2 115.1 Q 110.0 115.5, 109.6 115.7 Q 109.2 115.9, 108.7 115.9 Q 108.2 115.9, 107.8 115.7 Q 107.4 115.5, 107.1 115.2 L 107.5 114.7 Q 107.7 115.0, 108.1 115.2 Q 108.4 115.3, 108.7 115.3 Q 109.2 115.3, 109.5 115.0 Q 109.8 114.7, 109.8 114.2 Q 109.8 113.7, 109.5 113.4 Q 109.2 113.2, 108.7 113.2 Q 108.2 113.2, 107.7 113.4 L 107.3 113.2 L 107.6 110.7 L 110.2 110.7 L 110.1 111.3 L 108.2 111.3 L 108.0 112.8 Q 108.5 112.6, 108.9 112.6 \" fill=\"#000000\"/>\n",
       "<path class=\"note\" d=\"M 107.7 157.8 Q 108.2 157.8, 108.5 158.0 Q 108.9 158.2, 109.1 158.5 Q 109.2 158.9, 109.2 159.3 Q 109.2 159.8, 109.0 160.2 Q 108.8 160.6, 108.4 160.8 Q 108.0 161.0, 107.5 161.0 Q 106.6 161.0, 106.2 160.4 Q 105.7 159.8, 105.7 158.6 Q 105.7 157.2, 106.3 156.5 Q 106.8 155.8, 107.9 155.8 Q 108.2 155.8, 108.5 155.9 Q 108.8 156.0, 109.0 156.1 L 108.8 156.6 Q 108.4 156.4, 107.9 156.4 Q 107.2 156.4, 106.9 156.9 Q 106.5 157.3, 106.4 158.3 Q 106.7 158.0, 107.0 157.9 Q 107.4 157.8, 107.7 157.8 M 107.5 160.4 Q 107.8 160.4, 108.0 160.3 Q 108.3 160.1, 108.4 159.9 Q 108.5 159.6, 108.5 159.3 Q 108.5 158.9, 108.3 158.6 Q 108.0 158.3, 107.6 158.3 Q 107.3 158.3, 107.0 158.5 Q 106.7 158.6, 106.4 158.8 Q 106.5 159.7, 106.7 160.0 Q 107.0 160.4, 107.5 160.4 \" fill=\"#000000\"/>\n",
       "<path class=\"note\" d=\"M 147.8 101.7 L 145.1 101.7 L 145.1 101.1 L 148.5 101.1 L 148.5 101.6 L 146.4 106.2 L 145.7 106.2 L 147.8 101.7 \" fill=\"#000000\"/>\n",
       "<path class=\"note\" d=\"M 155.3 50.3 Q 155.8 50.5, 156.0 50.8 Q 156.3 51.1, 156.3 51.6 Q 156.3 52.0, 156.1 52.4 Q 155.8 52.7, 155.4 52.9 Q 155.0 53.1, 154.5 53.1 Q 153.7 53.1, 153.2 52.7 Q 152.7 52.3, 152.7 51.6 Q 152.7 51.2, 152.9 50.9 Q 153.1 50.6, 153.6 50.3 Q 153.2 50.1, 153.1 49.9 Q 152.9 49.6, 152.9 49.2 Q 152.9 48.6, 153.3 48.2 Q 153.8 47.9, 154.5 47.9 Q 155.2 47.9, 155.7 48.2 Q 156.1 48.6, 156.1 49.2 Q 156.1 49.5, 155.9 49.8 Q 155.7 50.1, 155.3 50.3 M 154.5 48.4 Q 154.1 48.4, 153.8 48.6 Q 153.6 48.8, 153.6 49.2 Q 153.6 49.4, 153.8 49.6 Q 153.9 49.8, 154.1 49.9 Q 154.4 50.0, 154.8 50.1 Q 155.1 49.9, 155.2 49.7 Q 155.4 49.5, 155.4 49.2 Q 155.4 48.8, 155.1 48.6 Q 154.9 48.4, 154.5 48.4 M 154.5 52.5 Q 155.0 52.5, 155.3 52.3 Q 155.6 52.0, 155.6 51.6 Q 155.6 51.3, 155.4 51.2 Q 155.3 51.0, 155.0 50.9 Q 154.8 50.8, 154.4 50.7 L 154.1 50.5 Q 153.7 50.8, 153.6 51.0 Q 153.4 51.3, 153.4 51.6 Q 153.4 52.0, 153.7 52.3 Q 154.0 52.5, 154.5 52.5 \" fill=\"#000000\"/>\n",
       "<path class=\"note\" d=\"M 180.2 128.5 Q 181.1 128.5, 181.5 129.1 Q 182.0 129.7, 182.0 130.9 Q 182.0 132.3, 181.4 133.0 Q 180.9 133.7, 179.8 133.7 Q 179.5 133.7, 179.2 133.6 Q 178.9 133.5, 178.7 133.4 L 179.0 132.9 Q 179.3 133.1, 179.8 133.1 Q 180.5 133.1, 180.9 132.6 Q 181.2 132.2, 181.3 131.2 Q 181.0 131.5, 180.7 131.6 Q 180.4 131.7, 180.0 131.7 Q 179.6 131.7, 179.2 131.5 Q 178.9 131.3, 178.7 131.0 Q 178.5 130.6, 178.5 130.2 Q 178.5 129.7, 178.7 129.3 Q 178.9 128.9, 179.3 128.7 Q 179.7 128.5, 180.2 128.5 M 179.2 130.2 Q 179.2 130.6, 179.4 130.9 Q 179.7 131.1, 180.1 131.1 Q 180.5 131.1, 180.8 131.0 Q 181.1 130.9, 181.3 130.7 Q 181.2 129.8, 181.0 129.5 Q 180.7 129.1, 180.2 129.1 Q 179.9 129.1, 179.7 129.2 Q 179.5 129.4, 179.3 129.6 Q 179.2 129.9, 179.2 130.2 \" fill=\"#000000\"/>\n",
       "</svg>"
      ],
      "text/plain": [
       "<IPython.core.display.SVG object>"
      ]
     },
     "execution_count": 87,
     "metadata": {},
     "output_type": "execute_result"
    }
   ],
   "source": [
    "SVG(draw_molecule(real_mols[0], draw_options={\"addAtomIndices\": True}))"
   ]
  },
  {
   "cell_type": "code",
   "execution_count": null,
   "metadata": {},
   "outputs": [
    {
     "data": {
      "text/plain": [
       "()"
      ]
     },
     "execution_count": 93,
     "metadata": {},
     "output_type": "execute_result"
    }
   ],
   "source": [
    "real_mols[0].GetSubstructMatches(Chem.MolFromSmarts('[C&D3&v4&H1&0*&!R&z2:4]'))"
   ]
  },
  {
   "cell_type": "code",
   "execution_count": null,
   "metadata": {},
   "outputs": [
    {
     "name": "stdout",
     "output_type": "stream",
     "text": [
      "1 C 0\n",
      "4 O 0\n",
      "5 C 0\n"
     ]
    }
   ],
   "source": [
    "for neighbor in real_mols[0].GetAtomWithIdx(3).GetNeighbors():\n",
    "    print(neighbor.GetIdx(), neighbor.GetSymbol(), neighbor.GetFormalCharge())"
   ]
  }
 ],
 "metadata": {
  "kernelspec": {
   "display_name": ".venv",
   "language": "python",
   "name": "python3"
  },
  "language_info": {
   "codemirror_mode": {
    "name": "ipython",
    "version": 3
   },
   "file_extension": ".py",
   "mimetype": "text/x-python",
   "name": "python",
   "nbconvert_exporter": "python",
   "pygments_lexer": "ipython3",
   "version": "3.13.0"
  }
 },
 "nbformat": 4,
 "nbformat_minor": 2
}
