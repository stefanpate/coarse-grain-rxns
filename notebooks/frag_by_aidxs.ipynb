{
 "cells": [
  {
   "cell_type": "code",
   "execution_count": 42,
   "metadata": {},
   "outputs": [],
   "source": [
    "import pandas as pd\n",
    "from hydra import initialize, compose\n",
    "from pathlib import Path\n",
    "import json\n",
    "from ergochemics.draw import draw_reaction, draw_molecule\n",
    "from ergochemics.mapping import operator_map_reaction\n",
    "from IPython.display import SVG\n",
    "from rdkit import Chem\n",
    "from rdkit.Chem import AllChem"
   ]
  },
  {
   "cell_type": "code",
   "execution_count": 2,
   "metadata": {},
   "outputs": [],
   "source": [
    "with initialize(version_base=None, config_path=\"../configs/filepaths\"):\n",
    "    cfg = compose(config_name=\"filepaths\")"
   ]
  },
  {
   "cell_type": "code",
   "execution_count": 4,
   "metadata": {},
   "outputs": [
    {
     "data": {
      "text/html": [
       "<div>\n",
       "<style scoped>\n",
       "    .dataframe tbody tr th:only-of-type {\n",
       "        vertical-align: middle;\n",
       "    }\n",
       "\n",
       "    .dataframe tbody tr th {\n",
       "        vertical-align: top;\n",
       "    }\n",
       "\n",
       "    .dataframe thead th {\n",
       "        text-align: right;\n",
       "    }\n",
       "</style>\n",
       "<table border=\"1\" class=\"dataframe\">\n",
       "  <thead>\n",
       "    <tr style=\"text-align: right;\">\n",
       "      <th></th>\n",
       "      <th>entry_id</th>\n",
       "      <th>mechanism_id</th>\n",
       "      <th>smarts</th>\n",
       "      <th>am_smarts</th>\n",
       "      <th>rule</th>\n",
       "      <th>reaction_center</th>\n",
       "      <th>mech_atoms</th>\n",
       "      <th>enzyme_name</th>\n",
       "      <th>uniprot_id</th>\n",
       "      <th>ec</th>\n",
       "    </tr>\n",
       "  </thead>\n",
       "  <tbody>\n",
       "    <tr>\n",
       "      <th>0</th>\n",
       "      <td>1</td>\n",
       "      <td>1</td>\n",
       "      <td>NC(CCC(=O)O)C(=O)O&gt;&gt;NC(CCC(=O)O)C(=O)O</td>\n",
       "      <td>[CH:1]([CH2:3][CH2:2][C:4](=[O:9])[OH:10])([NH...</td>\n",
       "      <td>[#6:1]-[#6:2]-[#6:3]-[#6:4]&gt;&gt;[#6:1]-[#6:3]-[#6...</td>\n",
       "      <td>[[[1, 2, 3, 4]], [[0, 1, 2, 3]]]</td>\n",
       "      <td>[[0, 1, 2, 3]]</td>\n",
       "      <td>glutamate racemase</td>\n",
       "      <td>P56868</td>\n",
       "      <td>5.1.1.3</td>\n",
       "    </tr>\n",
       "    <tr>\n",
       "      <th>1</th>\n",
       "      <td>2</td>\n",
       "      <td>2</td>\n",
       "      <td>*C(=O)NC1C(=O)N2C1SC(C)(C)C2C(=O)O.O&gt;&gt;*C(=O)NC...</td>\n",
       "      <td>[N:1]12[C:2](=[O:5])[CH:4]([NH:6][C:8]([*:10])...</td>\n",
       "      <td>[#6:1]-[#7:2].[#8:3]&gt;&gt;([#7:2].[#6:1]-[#8:3])</td>\n",
       "      <td>[[[5, 7], [0]], [[0, 1, 2]]]</td>\n",
       "      <td>[[5, 6, 7], [0]]</td>\n",
       "      <td>beta-lactamase (Class A)</td>\n",
       "      <td>P62593</td>\n",
       "      <td>3.5.2.6</td>\n",
       "    </tr>\n",
       "    <tr>\n",
       "      <th>2</th>\n",
       "      <td>2</td>\n",
       "      <td>1</td>\n",
       "      <td>*C(=O)NC1C(=O)N2C1SC(C)(C)C2C(=O)O.O&gt;&gt;*C(=O)NC...</td>\n",
       "      <td>[N:1]12[C:2](=[O:5])[CH:4]([NH:6][C:8]([*:10])...</td>\n",
       "      <td>[#6:1]-[#7:2].[#8:3]&gt;&gt;([#7:2].[#6:1]-[#8:3])</td>\n",
       "      <td>[[[5, 7], [0]], [[0, 1, 2]]]</td>\n",
       "      <td>[[5, 6, 7], [0]]</td>\n",
       "      <td>beta-lactamase (Class A)</td>\n",
       "      <td>P62593</td>\n",
       "      <td>3.5.2.6</td>\n",
       "    </tr>\n",
       "    <tr>\n",
       "      <th>3</th>\n",
       "      <td>6</td>\n",
       "      <td>1</td>\n",
       "      <td>NC(CCC(=O)NC(CSSCC(NC(=O)CCC(N)C(=O)O)C(=O)NCC...</td>\n",
       "      <td>[S:1]([CH2:2][CH:3]([NH:4][C:6]([CH2:9][CH2:12...</td>\n",
       "      <td>[#16:1]-[#16:2].[#6:3]1=[#6:4]-[#7:5]-[#6:6]=[...</td>\n",
       "      <td>[[[9, 10], [3, 4, 5, 45, 46, 47]], [[0], [0], ...</td>\n",
       "      <td>[[9, 10], [14, 15, 16, 20]]</td>\n",
       "      <td>glutathione-disulfide reductase</td>\n",
       "      <td>P00390</td>\n",
       "      <td>1.8.1.7</td>\n",
       "    </tr>\n",
       "    <tr>\n",
       "      <th>4</th>\n",
       "      <td>7</td>\n",
       "      <td>2</td>\n",
       "      <td>NC(=O)c1ccc[n+](C2OC(COP(=O)(O)OP(=O)(O)OCC3OC...</td>\n",
       "      <td>[c:11]1([C:17]([NH2:18])=[O:19])[cH:12][n+:13]...</td>\n",
       "      <td>[#6:1]1:[#6:2]:[#6:3]:[#6:4]:[#7+:5]:[#6:6]:1....</td>\n",
       "      <td>[[[3, 4, 5, 6, 7, 47], [7, 5, 4, 8, 9]], [[0, ...</td>\n",
       "      <td>[[14, 15, 16, 20], [3, 4, 6, 8, 9, 10]]</td>\n",
       "      <td>isocitrate dehydrogenase (NADP+)</td>\n",
       "      <td>P08200</td>\n",
       "      <td>1.1.1.42</td>\n",
       "    </tr>\n",
       "  </tbody>\n",
       "</table>\n",
       "</div>"
      ],
      "text/plain": [
       "   entry_id  mechanism_id                                             smarts  \\\n",
       "0         1             1             NC(CCC(=O)O)C(=O)O>>NC(CCC(=O)O)C(=O)O   \n",
       "1         2             2  *C(=O)NC1C(=O)N2C1SC(C)(C)C2C(=O)O.O>>*C(=O)NC...   \n",
       "2         2             1  *C(=O)NC1C(=O)N2C1SC(C)(C)C2C(=O)O.O>>*C(=O)NC...   \n",
       "3         6             1  NC(CCC(=O)NC(CSSCC(NC(=O)CCC(N)C(=O)O)C(=O)NCC...   \n",
       "4         7             2  NC(=O)c1ccc[n+](C2OC(COP(=O)(O)OP(=O)(O)OCC3OC...   \n",
       "\n",
       "                                           am_smarts  \\\n",
       "0  [CH:1]([CH2:3][CH2:2][C:4](=[O:9])[OH:10])([NH...   \n",
       "1  [N:1]12[C:2](=[O:5])[CH:4]([NH:6][C:8]([*:10])...   \n",
       "2  [N:1]12[C:2](=[O:5])[CH:4]([NH:6][C:8]([*:10])...   \n",
       "3  [S:1]([CH2:2][CH:3]([NH:4][C:6]([CH2:9][CH2:12...   \n",
       "4  [c:11]1([C:17]([NH2:18])=[O:19])[cH:12][n+:13]...   \n",
       "\n",
       "                                                rule  \\\n",
       "0  [#6:1]-[#6:2]-[#6:3]-[#6:4]>>[#6:1]-[#6:3]-[#6...   \n",
       "1       [#6:1]-[#7:2].[#8:3]>>([#7:2].[#6:1]-[#8:3])   \n",
       "2       [#6:1]-[#7:2].[#8:3]>>([#7:2].[#6:1]-[#8:3])   \n",
       "3  [#16:1]-[#16:2].[#6:3]1=[#6:4]-[#7:5]-[#6:6]=[...   \n",
       "4  [#6:1]1:[#6:2]:[#6:3]:[#6:4]:[#7+:5]:[#6:6]:1....   \n",
       "\n",
       "                                     reaction_center  \\\n",
       "0                   [[[1, 2, 3, 4]], [[0, 1, 2, 3]]]   \n",
       "1                       [[[5, 7], [0]], [[0, 1, 2]]]   \n",
       "2                       [[[5, 7], [0]], [[0, 1, 2]]]   \n",
       "3  [[[9, 10], [3, 4, 5, 45, 46, 47]], [[0], [0], ...   \n",
       "4  [[[3, 4, 5, 6, 7, 47], [7, 5, 4, 8, 9]], [[0, ...   \n",
       "\n",
       "                                mech_atoms                       enzyme_name  \\\n",
       "0                           [[0, 1, 2, 3]]                glutamate racemase   \n",
       "1                         [[5, 6, 7], [0]]          beta-lactamase (Class A)   \n",
       "2                         [[5, 6, 7], [0]]          beta-lactamase (Class A)   \n",
       "3              [[9, 10], [14, 15, 16, 20]]   glutathione-disulfide reductase   \n",
       "4  [[14, 15, 16, 20], [3, 4, 6, 8, 9, 10]]  isocitrate dehydrogenase (NADP+)   \n",
       "\n",
       "  uniprot_id        ec  \n",
       "0     P56868   5.1.1.3  \n",
       "1     P62593   3.5.2.6  \n",
       "2     P62593   3.5.2.6  \n",
       "3     P00390   1.8.1.7  \n",
       "4     P08200  1.1.1.42  "
      ]
     },
     "execution_count": 4,
     "metadata": {},
     "output_type": "execute_result"
    }
   ],
   "source": [
    "mm = pd.read_parquet(\n",
    "    Path(cfg.raw_data) / \"mapped_mech_labeled_reactions.parquet\"\n",
    ")\n",
    "mm.head()"
   ]
  },
  {
   "cell_type": "code",
   "execution_count": 54,
   "metadata": {},
   "outputs": [
    {
     "data": {
      "image/svg+xml": [
       "<svg xmlns=\"http://www.w3.org/2000/svg\" xmlns:rdkit=\"http://www.rdkit.org/xml\" xmlns:xlink=\"http://www.w3.org/1999/xlink\" version=\"1.1\" baseProfile=\"full\" xml:space=\"preserve\" width=\"300px\" height=\"150px\" viewBox=\"0 0 300 150\">\n",
       "<!-- END OF HEADER -->\n",
       "<rect style=\"opacity:1.0;fill:#FFFFFF;stroke:none\" width=\"300.0\" height=\"150.0\" x=\"0.0\" y=\"0.0\"> </rect>\n",
       "<path class=\"bond-0 atom-0 atom-1\" d=\"M 248.2,61.1 L 234.6,69.9\" style=\"fill:none;fill-rule:evenodd;stroke:#FF0000;stroke-width:2.0px;stroke-linecap:butt;stroke-linejoin:miter;stroke-opacity:1\"/>\n",
       "<path class=\"bond-0 atom-0 atom-1\" d=\"M 234.6,69.9 L 221.0,78.7\" style=\"fill:none;fill-rule:evenodd;stroke:#000000;stroke-width:2.0px;stroke-linecap:butt;stroke-linejoin:miter;stroke-opacity:1\"/>\n",
       "<path class=\"bond-1 atom-1 atom-2\" d=\"M 217.9,77.2 L 218.8,94.6\" style=\"fill:none;fill-rule:evenodd;stroke:#000000;stroke-width:2.0px;stroke-linecap:butt;stroke-linejoin:miter;stroke-opacity:1\"/>\n",
       "<path class=\"bond-1 atom-1 atom-2\" d=\"M 218.8,94.6 L 219.7,112.0\" style=\"fill:none;fill-rule:evenodd;stroke:#FF0000;stroke-width:2.0px;stroke-linecap:butt;stroke-linejoin:miter;stroke-opacity:1\"/>\n",
       "<path class=\"bond-1 atom-1 atom-2\" d=\"M 223.9,76.8 L 224.8,94.3\" style=\"fill:none;fill-rule:evenodd;stroke:#000000;stroke-width:2.0px;stroke-linecap:butt;stroke-linejoin:miter;stroke-opacity:1\"/>\n",
       "<path class=\"bond-1 atom-1 atom-2\" d=\"M 224.8,94.3 L 225.7,111.7\" style=\"fill:none;fill-rule:evenodd;stroke:#FF0000;stroke-width:2.0px;stroke-linecap:butt;stroke-linejoin:miter;stroke-opacity:1\"/>\n",
       "<path class=\"bond-2 atom-1 atom-3\" d=\"M 221.0,78.7 L 185.1,60.4\" style=\"fill:none;fill-rule:evenodd;stroke:#000000;stroke-width:2.0px;stroke-linecap:butt;stroke-linejoin:miter;stroke-opacity:1\"/>\n",
       "<path class=\"bond-3 atom-3 atom-4\" d=\"M 185.1,60.4 L 151.3,82.3\" style=\"fill:none;fill-rule:evenodd;stroke:#000000;stroke-width:2.0px;stroke-linecap:butt;stroke-linejoin:miter;stroke-opacity:1\"/>\n",
       "<path class=\"bond-4 atom-4 atom-5\" d=\"M 151.3,82.3 L 115.5,64.0\" style=\"fill:none;fill-rule:evenodd;stroke:#000000;stroke-width:2.0px;stroke-linecap:butt;stroke-linejoin:miter;stroke-opacity:1\"/>\n",
       "<path class=\"bond-5 atom-5 atom-6\" d=\"M 115.5,64.0 L 114.6,47.4\" style=\"fill:none;fill-rule:evenodd;stroke:#000000;stroke-width:2.0px;stroke-linecap:butt;stroke-linejoin:miter;stroke-opacity:1\"/>\n",
       "<path class=\"bond-5 atom-5 atom-6\" d=\"M 114.6,47.4 L 113.7,30.8\" style=\"fill:none;fill-rule:evenodd;stroke:#0000FF;stroke-width:2.0px;stroke-linecap:butt;stroke-linejoin:miter;stroke-opacity:1\"/>\n",
       "<path class=\"bond-6 atom-5 atom-7\" d=\"M 115.5,64.0 L 81.7,85.9\" style=\"fill:none;fill-rule:evenodd;stroke:#000000;stroke-width:2.0px;stroke-linecap:butt;stroke-linejoin:miter;stroke-opacity:1\"/>\n",
       "<path class=\"bond-7 atom-7 atom-8\" d=\"M 78.6,84.3 L 79.4,101.8\" style=\"fill:none;fill-rule:evenodd;stroke:#000000;stroke-width:2.0px;stroke-linecap:butt;stroke-linejoin:miter;stroke-opacity:1\"/>\n",
       "<path class=\"bond-7 atom-7 atom-8\" d=\"M 79.4,101.8 L 80.3,119.2\" style=\"fill:none;fill-rule:evenodd;stroke:#FF0000;stroke-width:2.0px;stroke-linecap:butt;stroke-linejoin:miter;stroke-opacity:1\"/>\n",
       "<path class=\"bond-7 atom-7 atom-8\" d=\"M 84.6,84.0 L 85.5,101.4\" style=\"fill:none;fill-rule:evenodd;stroke:#000000;stroke-width:2.0px;stroke-linecap:butt;stroke-linejoin:miter;stroke-opacity:1\"/>\n",
       "<path class=\"bond-7 atom-7 atom-8\" d=\"M 85.5,101.4 L 86.4,118.9\" style=\"fill:none;fill-rule:evenodd;stroke:#FF0000;stroke-width:2.0px;stroke-linecap:butt;stroke-linejoin:miter;stroke-opacity:1\"/>\n",
       "<path class=\"bond-8 atom-7 atom-9\" d=\"M 81.7,85.9 L 67.0,78.4\" style=\"fill:none;fill-rule:evenodd;stroke:#000000;stroke-width:2.0px;stroke-linecap:butt;stroke-linejoin:miter;stroke-opacity:1\"/>\n",
       "<path class=\"bond-8 atom-7 atom-9\" d=\"M 67.0,78.4 L 52.4,70.9\" style=\"fill:none;fill-rule:evenodd;stroke:#FF0000;stroke-width:2.0px;stroke-linecap:butt;stroke-linejoin:miter;stroke-opacity:1\"/>\n",
       "<path d=\"M 221.7,78.3 L 221.0,78.7 L 219.2,77.8\" style=\"fill:none;stroke:#000000;stroke-width:2.0px;stroke-linecap:butt;stroke-linejoin:miter;stroke-opacity:1;\"/>\n",
       "<path d=\"M 186.9,61.3 L 185.1,60.4 L 183.4,61.5\" style=\"fill:none;stroke:#000000;stroke-width:2.0px;stroke-linecap:butt;stroke-linejoin:miter;stroke-opacity:1;\"/>\n",
       "<path d=\"M 153.0,81.2 L 151.3,82.3 L 149.5,81.4\" style=\"fill:none;stroke:#000000;stroke-width:2.0px;stroke-linecap:butt;stroke-linejoin:miter;stroke-opacity:1;\"/>\n",
       "<path d=\"M 83.3,84.8 L 81.7,85.9 L 80.9,85.5\" style=\"fill:none;stroke:#000000;stroke-width:2.0px;stroke-linecap:butt;stroke-linejoin:miter;stroke-opacity:1;\"/>\n",
       "<path class=\"atom-0\" d=\"M 249.5 56.9 Q 249.5 54.1, 250.9 52.6 Q 252.2 51.1, 254.8 51.1 Q 257.3 51.1, 258.7 52.6 Q 260.0 54.1, 260.0 56.9 Q 260.0 59.6, 258.6 61.2 Q 257.3 62.8, 254.8 62.8 Q 252.3 62.8, 250.9 61.2 Q 249.5 59.7, 249.5 56.9 M 254.8 61.5 Q 256.5 61.5, 257.4 60.3 Q 258.4 59.2, 258.4 56.9 Q 258.4 54.6, 257.4 53.5 Q 256.5 52.4, 254.8 52.4 Q 253.0 52.4, 252.1 53.5 Q 251.1 54.6, 251.1 56.9 Q 251.1 59.2, 252.1 60.3 Q 253.0 61.5, 254.8 61.5 \" fill=\"#FF0000\"/>\n",
       "<path class=\"atom-0\" d=\"M 261.8 51.2 L 263.3 51.2 L 263.3 56.0 L 269.2 56.0 L 269.2 51.2 L 270.7 51.2 L 270.7 62.6 L 269.2 62.6 L 269.2 57.3 L 263.3 57.3 L 263.3 62.6 L 261.8 62.6 L 261.8 51.2 \" fill=\"#FF0000\"/>\n",
       "<path class=\"atom-2\" d=\"M 217.8 119.0 Q 217.8 116.3, 219.2 114.7 Q 220.5 113.2, 223.0 113.2 Q 225.6 113.2, 226.9 114.7 Q 228.3 116.3, 228.3 119.0 Q 228.3 121.8, 226.9 123.3 Q 225.5 124.9, 223.0 124.9 Q 220.5 124.9, 219.2 123.3 Q 217.8 121.8, 217.8 119.0 M 223.0 123.6 Q 224.8 123.6, 225.7 122.5 Q 226.7 121.3, 226.7 119.0 Q 226.7 116.8, 225.7 115.6 Q 224.8 114.5, 223.0 114.5 Q 221.3 114.5, 220.4 115.6 Q 219.4 116.7, 219.4 119.0 Q 219.4 121.3, 220.4 122.5 Q 221.3 123.6, 223.0 123.6 \" fill=\"#FF0000\"/>\n",
       "<path class=\"atom-6\" d=\"M 110.9 18.1 L 114.6 24.1 Q 115.0 24.7, 115.6 25.8 Q 116.2 26.9, 116.2 26.9 L 116.2 18.1 L 117.7 18.1 L 117.7 29.5 L 116.1 29.5 L 112.1 22.9 Q 111.7 22.1, 111.2 21.2 Q 110.7 20.3, 110.5 20.1 L 110.5 29.5 L 109.1 29.5 L 109.1 18.1 L 110.9 18.1 \" fill=\"#0000FF\"/>\n",
       "<path class=\"atom-6\" d=\"M 119.9 18.1 L 121.4 18.1 L 121.4 22.9 L 127.3 22.9 L 127.3 18.1 L 128.8 18.1 L 128.8 29.5 L 127.3 29.5 L 127.3 24.2 L 121.4 24.2 L 121.4 29.5 L 119.9 29.5 L 119.9 18.1 \" fill=\"#0000FF\"/>\n",
       "<path class=\"atom-6\" d=\"M 131.0 29.1 Q 131.3 28.4, 132.0 28.0 Q 132.6 27.6, 133.6 27.6 Q 134.7 27.6, 135.3 28.2 Q 136.0 28.8, 136.0 29.9 Q 136.0 31.0, 135.1 32.1 Q 134.3 33.1, 132.6 34.3 L 136.1 34.3 L 136.1 35.2 L 131.0 35.2 L 131.0 34.5 Q 132.4 33.5, 133.3 32.7 Q 134.1 32.0, 134.5 31.3 Q 134.9 30.7, 134.9 30.0 Q 134.9 29.2, 134.5 28.8 Q 134.2 28.4, 133.6 28.4 Q 132.9 28.4, 132.5 28.7 Q 132.1 28.9, 131.8 29.5 L 131.0 29.1 \" fill=\"#0000FF\"/>\n",
       "<path class=\"atom-8\" d=\"M 78.5 126.2 Q 78.5 123.4, 79.8 121.9 Q 81.2 120.4, 83.7 120.4 Q 86.3 120.4, 87.6 121.9 Q 89.0 123.4, 89.0 126.2 Q 89.0 128.9, 87.6 130.5 Q 86.2 132.1, 83.7 132.1 Q 81.2 132.1, 79.8 130.5 Q 78.5 128.9, 78.5 126.2 M 83.7 130.8 Q 85.5 130.8, 86.4 129.6 Q 87.4 128.4, 87.4 126.2 Q 87.4 123.9, 86.4 122.8 Q 85.5 121.7, 83.7 121.7 Q 82.0 121.7, 81.0 122.8 Q 80.1 123.9, 80.1 126.2 Q 80.1 128.5, 81.0 129.6 Q 82.0 130.8, 83.7 130.8 \" fill=\"#FF0000\"/>\n",
       "<path class=\"atom-9\" d=\"M 29.3 62.0 L 30.8 62.0 L 30.8 66.8 L 36.7 66.8 L 36.7 62.0 L 38.2 62.0 L 38.2 73.4 L 36.7 73.4 L 36.7 68.1 L 30.8 68.1 L 30.8 73.4 L 29.3 73.4 L 29.3 62.0 \" fill=\"#FF0000\"/>\n",
       "<path class=\"atom-9\" d=\"M 40.6 67.6 Q 40.6 64.9, 41.9 63.4 Q 43.3 61.8, 45.8 61.8 Q 48.3 61.8, 49.7 63.4 Q 51.0 64.9, 51.0 67.6 Q 51.0 70.4, 49.7 72.0 Q 48.3 73.5, 45.8 73.5 Q 43.3 73.5, 41.9 72.0 Q 40.6 70.4, 40.6 67.6 M 45.8 72.3 Q 47.5 72.3, 48.5 71.1 Q 49.4 69.9, 49.4 67.6 Q 49.4 65.4, 48.5 64.3 Q 47.5 63.1, 45.8 63.1 Q 44.1 63.1, 43.1 64.2 Q 42.2 65.4, 42.2 67.6 Q 42.2 69.9, 43.1 71.1 Q 44.1 72.3, 45.8 72.3 \" fill=\"#FF0000\"/>\n",
       "<path class=\"note\" d=\"M 262.1 71.0 Q 261.0 71.0, 260.5 70.3 Q 260.0 69.5, 260.0 68.1 Q 260.0 66.7, 260.5 66.0 Q 261.0 65.2, 262.1 65.2 Q 263.1 65.2, 263.6 66.0 Q 264.2 66.7, 264.2 68.1 Q 264.2 69.5, 263.6 70.3 Q 263.1 71.0, 262.1 71.0 M 262.1 70.4 Q 262.7 70.4, 263.0 69.8 Q 263.4 69.3, 263.4 68.1 Q 263.4 67.0, 263.0 66.4 Q 262.7 65.9, 262.1 65.9 Q 261.5 65.9, 261.1 66.4 Q 260.8 67.0, 260.8 68.1 Q 260.8 69.3, 261.1 69.8 Q 261.5 70.4, 262.1 70.4 \" fill=\"#000000\"/>\n",
       "<path class=\"note\" d=\"M 219.2 74.3 L 220.5 74.3 L 220.5 70.0 L 219.1 70.4 L 218.9 69.9 L 220.7 69.2 L 221.2 69.3 L 221.2 74.3 L 222.4 74.3 L 222.4 74.9 L 219.2 74.9 L 219.2 74.3 \" fill=\"#000000\"/>\n",
       "<path class=\"note\" d=\"M 221.8 130.6 Q 222.0 130.1, 222.5 129.8 Q 223.0 129.5, 223.7 129.5 Q 224.6 129.5, 225.1 129.9 Q 225.6 130.4, 225.6 131.2 Q 225.6 132.1, 224.9 132.9 Q 224.3 133.7, 223.0 134.6 L 225.7 134.6 L 225.7 135.2 L 221.8 135.2 L 221.8 134.7 Q 222.9 134.0, 223.5 133.4 Q 224.1 132.8, 224.5 132.3 Q 224.8 131.8, 224.8 131.3 Q 224.8 130.7, 224.5 130.4 Q 224.2 130.1, 223.7 130.1 Q 223.3 130.1, 223.0 130.3 Q 222.7 130.5, 222.4 130.9 L 221.8 130.6 \" fill=\"#000000\"/>\n",
       "<path class=\"note\" d=\"M 185.6 53.6 Q 186.1 53.8, 186.4 54.1 Q 186.7 54.5, 186.7 55.0 Q 186.7 55.5, 186.4 55.9 Q 186.2 56.3, 185.8 56.5 Q 185.3 56.7, 184.7 56.7 Q 184.1 56.7, 183.7 56.5 Q 183.2 56.3, 182.9 55.8 L 183.3 55.4 Q 183.7 55.7, 184.0 55.9 Q 184.3 56.0, 184.7 56.0 Q 185.3 56.0, 185.6 55.8 Q 185.9 55.5, 185.9 55.0 Q 185.9 54.5, 185.5 54.2 Q 185.2 53.9, 184.5 53.9 L 184.1 53.9 L 184.1 53.3 L 184.5 53.3 Q 185.1 53.3, 185.4 53.1 Q 185.8 52.8, 185.8 52.3 Q 185.8 51.9, 185.5 51.7 Q 185.2 51.5, 184.7 51.5 Q 184.3 51.5, 184.0 51.6 Q 183.7 51.8, 183.5 52.2 L 182.9 51.9 Q 183.1 51.5, 183.6 51.2 Q 184.1 50.8, 184.7 50.8 Q 185.6 50.8, 186.1 51.2 Q 186.6 51.6, 186.6 52.3 Q 186.6 52.8, 186.3 53.1 Q 186.1 53.4, 185.6 53.6 \" fill=\"#000000\"/>\n",
       "<path class=\"note\" d=\"M 153.2 89.9 L 153.9 89.9 L 153.9 90.6 L 153.2 90.6 L 153.2 91.9 L 152.4 91.9 L 152.4 90.6 L 149.5 90.6 L 149.5 90.1 L 152.0 86.2 L 153.2 86.2 L 153.2 89.9 M 150.4 89.9 L 152.4 89.9 L 152.4 86.7 L 150.4 89.9 \" fill=\"#000000\"/>\n",
       "<path class=\"note\" d=\"M 121.2 59.6 Q 121.7 59.6, 122.1 59.9 Q 122.5 60.1, 122.8 60.5 Q 123.0 60.9, 123.0 61.4 Q 123.0 62.0, 122.7 62.4 Q 122.4 62.8, 122.0 63.1 Q 121.5 63.3, 121.0 63.3 Q 120.5 63.3, 120.0 63.1 Q 119.5 62.9, 119.2 62.5 L 119.6 62.0 Q 119.9 62.3, 120.3 62.5 Q 120.6 62.6, 121.0 62.6 Q 121.5 62.6, 121.9 62.3 Q 122.2 62.0, 122.2 61.4 Q 122.2 60.8, 121.9 60.5 Q 121.5 60.2, 121.0 60.2 Q 120.5 60.2, 119.9 60.5 L 119.5 60.3 L 119.7 57.5 L 122.7 57.5 L 122.6 58.2 L 120.4 58.2 L 120.2 59.8 Q 120.7 59.6, 121.2 59.6 \" fill=\"#000000\"/>\n",
       "<path class=\"note\" d=\"M 112.9 9.7 Q 113.4 9.7, 113.8 9.9 Q 114.2 10.1, 114.5 10.5 Q 114.7 10.9, 114.7 11.4 Q 114.7 12.0, 114.4 12.4 Q 114.2 12.8, 113.7 13.1 Q 113.3 13.3, 112.8 13.3 Q 111.7 13.3, 111.2 12.6 Q 110.7 12.0, 110.7 10.6 Q 110.7 9.1, 111.3 8.3 Q 112.0 7.5, 113.2 7.5 Q 113.5 7.5, 113.8 7.6 Q 114.2 7.7, 114.4 7.8 L 114.1 8.4 Q 113.7 8.1, 113.2 8.1 Q 112.4 8.1, 112.0 8.7 Q 111.6 9.2, 111.5 10.3 Q 111.8 10.0, 112.2 9.9 Q 112.5 9.7, 112.9 9.7 M 112.8 12.7 Q 113.1 12.7, 113.3 12.5 Q 113.6 12.3, 113.7 12.1 Q 113.9 11.8, 113.9 11.4 Q 113.9 10.9, 113.6 10.6 Q 113.3 10.4, 112.8 10.4 Q 112.5 10.4, 112.1 10.5 Q 111.8 10.6, 111.5 10.9 Q 111.6 11.8, 111.9 12.2 Q 112.2 12.7, 112.8 12.7 \" fill=\"#000000\"/>\n",
       "<path class=\"note\" d=\"M 82.4 77.0 L 79.4 77.0 L 79.4 76.4 L 83.2 76.4 L 83.2 76.9 L 80.9 82.1 L 80.1 82.1 L 82.4 77.0 \" fill=\"#000000\"/>\n",
       "<path class=\"note\" d=\"M 85.3 139.4 Q 85.8 139.6, 86.1 140.0 Q 86.4 140.3, 86.4 140.9 Q 86.4 141.3, 86.2 141.7 Q 85.9 142.1, 85.5 142.3 Q 85.0 142.5, 84.4 142.5 Q 83.5 142.5, 83.0 142.1 Q 82.4 141.6, 82.4 140.9 Q 82.4 140.4, 82.6 140.0 Q 82.9 139.7, 83.4 139.4 Q 83.0 139.2, 82.8 138.9 Q 82.6 138.6, 82.6 138.1 Q 82.6 137.4, 83.1 137.0 Q 83.6 136.7, 84.4 136.7 Q 85.2 136.7, 85.7 137.0 Q 86.2 137.4, 86.2 138.1 Q 86.2 138.5, 86.0 138.8 Q 85.8 139.1, 85.3 139.4 M 84.4 137.3 Q 83.9 137.3, 83.7 137.5 Q 83.4 137.7, 83.4 138.1 Q 83.4 138.4, 83.6 138.6 Q 83.8 138.8, 84.0 138.9 Q 84.3 139.0, 84.8 139.2 Q 85.1 139.0, 85.3 138.7 Q 85.4 138.4, 85.4 138.1 Q 85.4 137.7, 85.1 137.5 Q 84.9 137.3, 84.4 137.3 M 84.4 141.9 Q 85.0 141.9, 85.3 141.6 Q 85.6 141.3, 85.6 140.8 Q 85.6 140.5, 85.5 140.3 Q 85.3 140.2, 85.0 140.0 Q 84.8 139.9, 84.3 139.8 L 84.0 139.7 Q 83.6 139.9, 83.4 140.2 Q 83.2 140.5, 83.2 140.8 Q 83.2 141.3, 83.5 141.6 Q 83.9 141.9, 84.4 141.9 \" fill=\"#000000\"/>\n",
       "<path class=\"note\" d=\"M 38.4 53.4 Q 39.4 53.4, 40.0 54.1 Q 40.5 54.8, 40.5 56.2 Q 40.5 57.7, 39.8 58.5 Q 39.2 59.3, 38.0 59.3 Q 37.6 59.3, 37.3 59.2 Q 37.0 59.1, 36.7 58.9 L 37.1 58.4 Q 37.5 58.6, 38.0 58.6 Q 38.8 58.6, 39.2 58.1 Q 39.6 57.6, 39.7 56.5 Q 39.4 56.8, 39.0 56.9 Q 38.6 57.1, 38.2 57.1 Q 37.7 57.1, 37.3 56.9 Q 36.9 56.6, 36.7 56.2 Q 36.5 55.8, 36.5 55.3 Q 36.5 54.8, 36.8 54.4 Q 37.0 53.9, 37.4 53.7 Q 37.9 53.4, 38.4 53.4 M 37.3 55.3 Q 37.3 55.8, 37.6 56.1 Q 37.9 56.4, 38.4 56.4 Q 38.7 56.4, 39.1 56.3 Q 39.4 56.1, 39.7 55.9 Q 39.6 55.0, 39.3 54.5 Q 39.0 54.1, 38.4 54.1 Q 38.1 54.1, 37.9 54.3 Q 37.6 54.4, 37.5 54.7 Q 37.3 55.0, 37.3 55.3 \" fill=\"#000000\"/>\n",
       "</svg>"
      ],
      "text/plain": [
       "<IPython.core.display.SVG object>"
      ]
     },
     "execution_count": 54,
     "metadata": {},
     "output_type": "execute_result"
    }
   ],
   "source": [
    "smi = 'OC(=O)CCC(N)C(=O)O'\n",
    "mol = Chem.MolFromSmiles(smi)\n",
    "SVG(draw_molecule(mol, size=(300, 150), draw_options={\"addAtomIndices\": True}))"
   ]
  },
  {
   "cell_type": "code",
   "execution_count": 55,
   "metadata": {},
   "outputs": [
    {
     "data": {
      "text/plain": [
       "'[#8]-[#6]-[#6].[#6]-[#7]'"
      ]
     },
     "execution_count": 55,
     "metadata": {},
     "output_type": "execute_result"
    }
   ],
   "source": [
    "Chem.MolFragmentToSmarts(mol, atomsToUse=[0, 1, 3, 5, 6])"
   ]
  },
  {
   "cell_type": "code",
   "execution_count": 56,
   "metadata": {},
   "outputs": [
    {
     "data": {
      "text/plain": [
       "(3, 4, 5)"
      ]
     },
     "execution_count": 56,
     "metadata": {},
     "output_type": "execute_result"
    }
   ],
   "source": [
    "Chem.GetShortestPath(mol, 3, 5)"
   ]
  },
  {
   "cell_type": "code",
   "execution_count": 57,
   "metadata": {},
   "outputs": [
    {
     "data": {
      "text/plain": [
       "array([[0., 1., 0., 0., 0.],\n",
       "       [1., 0., 1., 0., 0.],\n",
       "       [0., 1., 0., 0., 0.],\n",
       "       [0., 0., 0., 0., 1.],\n",
       "       [0., 0., 0., 1., 0.]])"
      ]
     },
     "execution_count": 57,
     "metadata": {},
     "output_type": "execute_result"
    }
   ],
   "source": [
    "Chem.GetAdjacencyMatrix(mol, useBO=True)[[0, 1, 3, 5, 6]][:, [0, 1, 3, 5, 6]]"
   ]
  },
  {
   "cell_type": "code",
   "execution_count": 58,
   "metadata": {},
   "outputs": [
    {
     "name": "stderr",
     "output_type": "stream",
     "text": [
      "[16:57:34] mapped atoms in the reactants were not mapped in the products.\n",
      "  unmapped numbers are: 4 \n"
     ]
    },
    {
     "data": {
      "image/svg+xml": [
       "<svg xmlns=\"http://www.w3.org/2000/svg\" xmlns:rdkit=\"http://www.rdkit.org/xml\" xmlns:xlink=\"http://www.w3.org/1999/xlink\" version=\"1.1\" baseProfile=\"full\" xml:space=\"preserve\" width=\"300px\" height=\"150px\" viewBox=\"0 0 300 150\">\n",
       "<!-- END OF HEADER -->\n",
       "<rect style=\"opacity:1.0;fill:#FFFFFF;stroke:none\" width=\"300.0\" height=\"150.0\" x=\"0.0\" y=\"0.0\"> </rect>\n",
       "<path class=\"bond-0 atom-0 atom-1\" d=\"M 74.6,64.0 L 113.5,86.5\" style=\"fill:none;fill-rule:evenodd;stroke:#FF0000;stroke-width:2.0px;stroke-linecap:butt;stroke-linejoin:miter;stroke-opacity:1\"/>\n",
       "<path class=\"bond-0 atom-0 atom-1\" d=\"M 113.5,86.5 L 152.4,108.9\" style=\"fill:none;fill-rule:evenodd;stroke:#000000;stroke-width:2.0px;stroke-linecap:butt;stroke-linejoin:miter;stroke-opacity:1\"/>\n",
       "<path class=\"bond-1 atom-1 atom-2\" d=\"M 152.4,108.9 L 191.3,86.5\" style=\"fill:none;fill-rule:evenodd;stroke:#000000;stroke-width:2.0px;stroke-linecap:butt;stroke-linejoin:miter;stroke-opacity:1\"/>\n",
       "<path class=\"bond-1 atom-1 atom-2\" d=\"M 191.3,86.5 L 230.1,64.0\" style=\"fill:none;fill-rule:evenodd;stroke:#FF0000;stroke-width:2.0px;stroke-linecap:butt;stroke-linejoin:miter;stroke-opacity:1\"/>\n",
       "<path class=\"bond-1 atom-1 atom-2\" d=\"M 152.4,90.0 L 183.1,72.3\" style=\"fill:none;fill-rule:evenodd;stroke:#000000;stroke-width:2.0px;stroke-linecap:butt;stroke-linejoin:miter;stroke-opacity:1\"/>\n",
       "<path class=\"bond-1 atom-1 atom-2\" d=\"M 183.1,72.3 L 222.0,49.9\" style=\"fill:none;fill-rule:evenodd;stroke:#FF0000;stroke-width:2.0px;stroke-linecap:butt;stroke-linejoin:miter;stroke-opacity:1\"/>\n",
       "<path d=\"M 150.4,107.8 L 152.4,108.9 L 154.3,107.8\" style=\"fill:none;stroke:#000000;stroke-width:2.0px;stroke-linecap:butt;stroke-linejoin:miter;stroke-opacity:1;\"/>\n",
       "<path class=\"atom-0\" d=\"M 17.0 40.4 L 20.9 40.4 L 20.9 52.5 L 35.4 52.5 L 35.4 40.4 L 39.2 40.4 L 39.2 68.7 L 35.4 68.7 L 35.4 55.7 L 20.9 55.7 L 20.9 68.7 L 17.0 68.7 L 17.0 40.4 \" fill=\"#FF0000\"/>\n",
       "<path class=\"atom-0\" d=\"M 45.0 54.5 Q 45.0 47.7, 48.4 43.9 Q 51.7 40.1, 58.0 40.1 Q 64.3 40.1, 67.7 43.9 Q 71.0 47.7, 71.0 54.5 Q 71.0 61.4, 67.6 65.3 Q 64.2 69.2, 58.0 69.2 Q 51.8 69.2, 48.4 65.3 Q 45.0 61.4, 45.0 54.5 M 58.0 66.0 Q 62.3 66.0, 64.7 63.1 Q 67.0 60.2, 67.0 54.5 Q 67.0 48.9, 64.7 46.1 Q 62.3 43.3, 58.0 43.3 Q 53.7 43.3, 51.3 46.1 Q 49.0 48.9, 49.0 54.5 Q 49.0 60.2, 51.3 63.1 Q 53.7 66.0, 58.0 66.0 \" fill=\"#FF0000\"/>\n",
       "<path class=\"atom-2\" d=\"M 229.6 47.4 Q 229.6 40.6, 233.0 36.8 Q 236.4 33.0, 242.6 33.0 Q 248.9 33.0, 252.3 36.8 Q 255.6 40.6, 255.6 47.4 Q 255.6 54.3, 252.2 58.2 Q 248.8 62.1, 242.6 62.1 Q 236.4 62.1, 233.0 58.2 Q 229.6 54.4, 229.6 47.4 M 242.6 58.9 Q 247.0 58.9, 249.3 56.0 Q 251.6 53.1, 251.6 47.4 Q 251.6 41.9, 249.3 39.1 Q 247.0 36.2, 242.6 36.2 Q 238.3 36.2, 236.0 39.0 Q 233.6 41.8, 233.6 47.4 Q 233.6 53.2, 236.0 56.0 Q 238.3 58.9, 242.6 58.9 \" fill=\"#FF0000\"/>\n",
       "<path class=\"note\" d=\"M 39.9 30.3 Q 37.3 30.3, 36.0 28.4 Q 34.7 26.5, 34.7 23.0 Q 34.7 19.6, 36.0 17.7 Q 37.2 15.8, 39.9 15.8 Q 42.5 15.8, 43.8 17.7 Q 45.0 19.6, 45.0 23.0 Q 45.0 26.5, 43.7 28.4 Q 42.5 30.3, 39.9 30.3 M 39.9 28.7 Q 41.4 28.7, 42.2 27.3 Q 43.0 25.8, 43.0 23.0 Q 43.0 20.3, 42.2 18.8 Q 41.4 17.4, 39.9 17.4 Q 38.3 17.4, 37.5 18.8 Q 36.7 20.3, 36.7 23.0 Q 36.7 25.8, 37.5 27.3 Q 38.3 28.7, 39.9 28.7 \" fill=\"#000000\"/>\n",
       "<path class=\"note\" d=\"M 148.9 132.6 L 152.0 132.6 L 152.0 122.0 L 148.6 123.1 L 148.1 121.9 L 152.4 119.9 L 153.9 120.2 L 153.9 132.6 L 156.6 132.6 L 156.6 134.2 L 148.9 134.2 L 148.9 132.6 \" fill=\"#000000\"/>\n",
       "<path class=\"note\" d=\"M 273.5 31.9 Q 274.0 30.6, 275.2 29.9 Q 276.5 29.1, 278.2 29.1 Q 280.3 29.1, 281.5 30.3 Q 282.7 31.4, 282.7 33.5 Q 282.7 35.6, 281.2 37.5 Q 279.6 39.5, 276.4 41.8 L 283.0 41.8 L 283.0 43.4 L 273.4 43.4 L 273.4 42.1 Q 276.1 40.2, 277.6 38.8 Q 279.2 37.4, 280.0 36.1 Q 280.7 34.9, 280.7 33.6 Q 280.7 32.2, 280.0 31.5 Q 279.4 30.7, 278.2 30.7 Q 277.0 30.7, 276.3 31.2 Q 275.5 31.6, 275.0 32.6 L 273.5 31.9 \" fill=\"#000000\"/>\n",
       "</svg>"
      ],
      "text/plain": [
       "<IPython.core.display.SVG object>"
      ]
     },
     "metadata": {},
     "output_type": "display_data"
    },
    {
     "data": {
      "image/svg+xml": [
       "<svg xmlns=\"http://www.w3.org/2000/svg\" xmlns:rdkit=\"http://www.rdkit.org/xml\" xmlns:xlink=\"http://www.w3.org/1999/xlink\" version=\"1.1\" baseProfile=\"full\" xml:space=\"preserve\" width=\"300px\" height=\"150px\" viewBox=\"0 0 300 150\">\n",
       "<!-- END OF HEADER -->\n",
       "<rect style=\"opacity:1.0;fill:#FFFFFF;stroke:none\" width=\"300.0\" height=\"150.0\" x=\"0.0\" y=\"0.0\"> </rect>\n",
       "<path class=\"bond-0 atom-0 atom-1\" d=\"M 45.2,93.2 L 97.6,72.2\" style=\"fill:none;fill-rule:evenodd;stroke:#000000;stroke-width:2.0px;stroke-linecap:butt;stroke-linejoin:miter;stroke-opacity:1\"/>\n",
       "<path class=\"bond-1 atom-1 atom-2\" d=\"M 97.6,72.2 L 142.0,107.1\" style=\"fill:none;fill-rule:evenodd;stroke:#000000;stroke-width:2.0px;stroke-linecap:butt;stroke-linejoin:miter;stroke-opacity:1\"/>\n",
       "<path class=\"bond-2 atom-2 atom-3\" d=\"M 142.0,107.1 L 194.5,86.0\" style=\"fill:none;fill-rule:evenodd;stroke:#000000;stroke-width:2.0px;stroke-linecap:butt;stroke-linejoin:miter;stroke-opacity:1\"/>\n",
       "<path class=\"bond-3 atom-3 atom-4\" d=\"M 198.3,89.1 L 201.8,65.0\" style=\"fill:none;fill-rule:evenodd;stroke:#000000;stroke-width:2.0px;stroke-linecap:butt;stroke-linejoin:miter;stroke-opacity:1\"/>\n",
       "<path class=\"bond-3 atom-3 atom-4\" d=\"M 201.8,65.0 L 205.2,40.9\" style=\"fill:none;fill-rule:evenodd;stroke:#FF0000;stroke-width:2.0px;stroke-linecap:butt;stroke-linejoin:miter;stroke-opacity:1\"/>\n",
       "<path class=\"bond-3 atom-3 atom-4\" d=\"M 189.9,87.9 L 193.4,63.8\" style=\"fill:none;fill-rule:evenodd;stroke:#000000;stroke-width:2.0px;stroke-linecap:butt;stroke-linejoin:miter;stroke-opacity:1\"/>\n",
       "<path class=\"bond-3 atom-3 atom-4\" d=\"M 193.4,63.8 L 196.8,39.7\" style=\"fill:none;fill-rule:evenodd;stroke:#FF0000;stroke-width:2.0px;stroke-linecap:butt;stroke-linejoin:miter;stroke-opacity:1\"/>\n",
       "<path class=\"bond-4 atom-3 atom-5\" d=\"M 194.5,86.0 L 212.1,99.9\" style=\"fill:none;fill-rule:evenodd;stroke:#000000;stroke-width:2.0px;stroke-linecap:butt;stroke-linejoin:miter;stroke-opacity:1\"/>\n",
       "<path class=\"bond-4 atom-3 atom-5\" d=\"M 212.1,99.9 L 229.7,113.7\" style=\"fill:none;fill-rule:evenodd;stroke:#FF0000;stroke-width:2.0px;stroke-linecap:butt;stroke-linejoin:miter;stroke-opacity:1\"/>\n",
       "<path d=\"M 95.0,73.2 L 97.6,72.2 L 99.8,73.9\" style=\"fill:none;stroke:#000000;stroke-width:2.0px;stroke-linecap:butt;stroke-linejoin:miter;stroke-opacity:1;\"/>\n",
       "<path d=\"M 139.8,105.3 L 142.0,107.1 L 144.7,106.0\" style=\"fill:none;stroke:#000000;stroke-width:2.0px;stroke-linecap:butt;stroke-linejoin:miter;stroke-opacity:1;\"/>\n",
       "<path d=\"M 191.8,87.1 L 194.5,86.0 L 195.3,86.7\" style=\"fill:none;stroke:#000000;stroke-width:2.0px;stroke-linecap:butt;stroke-linejoin:miter;stroke-opacity:1;\"/>\n",
       "<path class=\"atom-4\" d=\"M 195.1 30.2 Q 195.1 26.3, 197.0 24.2 Q 198.9 22.0, 202.5 22.0 Q 206.0 22.0, 207.9 24.2 Q 209.8 26.3, 209.8 30.2 Q 209.8 34.1, 207.9 36.3 Q 206.0 38.5, 202.5 38.5 Q 198.9 38.5, 197.0 36.3 Q 195.1 34.1, 195.1 30.2 M 202.5 36.7 Q 204.9 36.7, 206.2 35.0 Q 207.6 33.4, 207.6 30.2 Q 207.6 27.0, 206.2 25.5 Q 204.9 23.9, 202.5 23.9 Q 200.0 23.9, 198.7 25.4 Q 197.4 27.0, 197.4 30.2 Q 197.4 33.4, 198.7 35.0 Q 200.0 36.7, 202.5 36.7 \" fill=\"#FF0000\"/>\n",
       "<path class=\"atom-5\" d=\"M 231.5 121.0 Q 231.5 117.1, 233.4 115.0 Q 235.3 112.8, 238.9 112.8 Q 242.4 112.8, 244.3 115.0 Q 246.2 117.1, 246.2 121.0 Q 246.2 124.9, 244.3 127.1 Q 242.4 129.3, 238.9 129.3 Q 235.4 129.3, 233.4 127.1 Q 231.5 124.9, 231.5 121.0 M 238.9 127.5 Q 241.3 127.5, 242.6 125.8 Q 244.0 124.2, 244.0 121.0 Q 244.0 117.8, 242.6 116.3 Q 241.3 114.7, 238.9 114.7 Q 236.4 114.7, 235.1 116.2 Q 233.8 117.8, 233.8 121.0 Q 233.8 124.2, 235.1 125.8 Q 236.4 127.5, 238.9 127.5 \" fill=\"#FF0000\"/>\n",
       "<path class=\"atom-5\" d=\"M 248.7 113.0 L 250.9 113.0 L 250.9 119.8 L 259.1 119.8 L 259.1 113.0 L 261.2 113.0 L 261.2 129.0 L 259.1 129.0 L 259.1 121.6 L 250.9 121.6 L 250.9 129.0 L 248.7 129.0 L 248.7 113.0 \" fill=\"#FF0000\"/>\n",
       "<path class=\"note\" d=\"M 41.7 88.6 Q 40.2 88.6, 39.5 87.5 Q 38.8 86.4, 38.8 84.5 Q 38.8 82.6, 39.5 81.5 Q 40.2 80.4, 41.7 80.4 Q 43.2 80.4, 43.9 81.5 Q 44.6 82.6, 44.6 84.5 Q 44.6 86.4, 43.9 87.5 Q 43.2 88.6, 41.7 88.6 M 41.7 87.7 Q 42.6 87.7, 43.0 86.9 Q 43.5 86.1, 43.5 84.5 Q 43.5 82.9, 43.0 82.1 Q 42.6 81.3, 41.7 81.3 Q 40.8 81.3, 40.4 82.1 Q 39.9 82.9, 39.9 84.5 Q 39.9 86.1, 40.4 86.9 Q 40.8 87.7, 41.7 87.7 \" fill=\"#000000\"/>\n",
       "<path class=\"note\" d=\"M 97.0 66.0 L 98.7 66.0 L 98.7 60.0 L 96.8 60.6 L 96.5 59.9 L 99.0 58.8 L 99.8 59.0 L 99.8 66.0 L 101.4 66.0 L 101.4 66.9 L 97.0 66.9 L 97.0 66.0 \" fill=\"#000000\"/>\n",
       "<path class=\"note\" d=\"M 138.0 113.9 Q 138.3 113.2, 139.0 112.8 Q 139.7 112.3, 140.7 112.3 Q 141.9 112.3, 142.6 113.0 Q 143.3 113.7, 143.3 114.8 Q 143.3 116.0, 142.4 117.1 Q 141.5 118.2, 139.7 119.5 L 143.4 119.5 L 143.4 120.4 L 138.0 120.4 L 138.0 119.7 Q 139.5 118.6, 140.4 117.8 Q 141.3 117.0, 141.7 116.3 Q 142.1 115.6, 142.1 114.9 Q 142.1 114.1, 141.8 113.7 Q 141.4 113.2, 140.7 113.2 Q 140.1 113.2, 139.6 113.5 Q 139.2 113.8, 138.9 114.3 L 138.0 113.9 \" fill=\"#000000\"/>\n",
       "<path class=\"note\" d=\"M 194.3 95.2 Q 195.1 95.4, 195.4 95.9 Q 195.8 96.4, 195.8 97.2 Q 195.8 97.9, 195.5 98.4 Q 195.1 98.9, 194.5 99.2 Q 193.9 99.5, 193.1 99.5 Q 192.2 99.5, 191.6 99.2 Q 190.9 98.9, 190.4 98.3 L 191.1 97.7 Q 191.6 98.2, 192.0 98.4 Q 192.4 98.6, 193.1 98.6 Q 193.8 98.6, 194.2 98.2 Q 194.7 97.8, 194.7 97.2 Q 194.7 96.4, 194.2 96.0 Q 193.8 95.7, 192.8 95.7 L 192.2 95.7 L 192.2 94.8 L 192.7 94.8 Q 193.6 94.8, 194.1 94.5 Q 194.5 94.1, 194.5 93.4 Q 194.5 92.8, 194.1 92.5 Q 193.8 92.2, 193.1 92.2 Q 192.4 92.2, 192.0 92.5 Q 191.6 92.7, 191.3 93.3 L 190.5 92.9 Q 190.8 92.2, 191.5 91.8 Q 192.1 91.3, 193.1 91.3 Q 194.3 91.3, 195.0 91.9 Q 195.6 92.4, 195.6 93.4 Q 195.6 94.0, 195.3 94.5 Q 194.9 94.9, 194.3 95.2 \" fill=\"#000000\"/>\n",
       "<path class=\"note\" d=\"M 207.3 12.8 L 208.2 12.8 L 208.2 13.7 L 207.3 13.7 L 207.3 15.5 L 206.2 15.5 L 206.2 13.7 L 202.1 13.7 L 202.1 12.9 L 205.6 7.5 L 207.3 7.5 L 207.3 12.8 M 203.4 12.8 L 206.2 12.8 L 206.2 8.2 L 203.4 12.8 \" fill=\"#000000\"/>\n",
       "<path class=\"note\" d=\"M 246.1 137.4 Q 246.8 137.4, 247.4 137.7 Q 247.9 138.0, 248.3 138.6 Q 248.6 139.1, 248.6 139.9 Q 248.6 140.7, 248.2 141.3 Q 247.8 141.9, 247.1 142.2 Q 246.5 142.5, 245.7 142.5 Q 245.0 142.5, 244.3 142.2 Q 243.6 142.0, 243.2 141.4 L 243.9 140.7 Q 244.2 141.1, 244.7 141.4 Q 245.2 141.6, 245.8 141.6 Q 246.5 141.6, 247.0 141.1 Q 247.5 140.7, 247.5 139.9 Q 247.5 139.1, 247.0 138.7 Q 246.5 138.3, 245.7 138.3 Q 245.0 138.3, 244.2 138.6 L 243.6 138.3 L 244.0 134.4 L 248.1 134.4 L 248.0 135.3 L 244.9 135.3 L 244.7 137.7 Q 245.4 137.4, 246.1 137.4 \" fill=\"#000000\"/>\n",
       "</svg>"
      ],
      "text/plain": [
       "<IPython.core.display.SVG object>"
      ]
     },
     "metadata": {},
     "output_type": "display_data"
    }
   ],
   "source": [
    "rule = '([O:1]-[C:2]-[C:3].[N:4])>>[O:1]-[C:2].[C:3]'\n",
    "op = AllChem.ReactionFromSmarts(rule)\n",
    "for elt in op.RunReactants([mol])[0]:\n",
    "    display(SVG(draw_molecule(elt, size=(300, 150), draw_options={\"addAtomIndices\": True})))"
   ]
  },
  {
   "cell_type": "code",
   "execution_count": null,
   "metadata": {},
   "outputs": [
    {
     "data": {
      "image/svg+xml": [
       "<svg xmlns=\"http://www.w3.org/2000/svg\" xmlns:rdkit=\"http://www.rdkit.org/xml\" xmlns:xlink=\"http://www.w3.org/1999/xlink\" version=\"1.1\" baseProfile=\"full\" xml:space=\"preserve\" width=\"300px\" height=\"150px\" viewBox=\"0 0 300 150\">\n",
       "<!-- END OF HEADER -->\n",
       "<rect style=\"opacity:1.0;fill:#FFFFFF;stroke:none\" width=\"300.0\" height=\"150.0\" x=\"0.0\" y=\"0.0\"> </rect>\n",
       "<path class=\"bond-0 atom-0 atom-1\" d=\"M 74.6,64.0 L 113.5,86.5\" style=\"fill:none;fill-rule:evenodd;stroke:#FF0000;stroke-width:2.0px;stroke-linecap:butt;stroke-linejoin:miter;stroke-opacity:1\"/>\n",
       "<path class=\"bond-0 atom-0 atom-1\" d=\"M 113.5,86.5 L 152.4,108.9\" style=\"fill:none;fill-rule:evenodd;stroke:#000000;stroke-width:2.0px;stroke-linecap:butt;stroke-linejoin:miter;stroke-opacity:1\"/>\n",
       "<path class=\"bond-1 atom-1 atom-2\" d=\"M 152.4,108.9 L 191.3,86.5\" style=\"fill:none;fill-rule:evenodd;stroke:#000000;stroke-width:2.0px;stroke-linecap:butt;stroke-linejoin:miter;stroke-opacity:1\"/>\n",
       "<path class=\"bond-1 atom-1 atom-2\" d=\"M 191.3,86.5 L 230.1,64.0\" style=\"fill:none;fill-rule:evenodd;stroke:#FF0000;stroke-width:2.0px;stroke-linecap:butt;stroke-linejoin:miter;stroke-opacity:1\"/>\n",
       "<path class=\"bond-1 atom-1 atom-2\" d=\"M 152.4,90.0 L 183.1,72.3\" style=\"fill:none;fill-rule:evenodd;stroke:#000000;stroke-width:2.0px;stroke-linecap:butt;stroke-linejoin:miter;stroke-opacity:1\"/>\n",
       "<path class=\"bond-1 atom-1 atom-2\" d=\"M 183.1,72.3 L 222.0,49.9\" style=\"fill:none;fill-rule:evenodd;stroke:#FF0000;stroke-width:2.0px;stroke-linecap:butt;stroke-linejoin:miter;stroke-opacity:1\"/>\n",
       "<path d=\"M 150.4,107.8 L 152.4,108.9 L 154.3,107.8\" style=\"fill:none;stroke:#000000;stroke-width:2.0px;stroke-linecap:butt;stroke-linejoin:miter;stroke-opacity:1;\"/>\n",
       "<path class=\"atom-0\" d=\"M 17.0 40.4 L 20.9 40.4 L 20.9 52.5 L 35.4 52.5 L 35.4 40.4 L 39.2 40.4 L 39.2 68.7 L 35.4 68.7 L 35.4 55.7 L 20.9 55.7 L 20.9 68.7 L 17.0 68.7 L 17.0 40.4 \" fill=\"#FF0000\"/>\n",
       "<path class=\"atom-0\" d=\"M 45.0 54.5 Q 45.0 47.7, 48.4 43.9 Q 51.7 40.1, 58.0 40.1 Q 64.3 40.1, 67.7 43.9 Q 71.0 47.7, 71.0 54.5 Q 71.0 61.4, 67.6 65.3 Q 64.2 69.2, 58.0 69.2 Q 51.8 69.2, 48.4 65.3 Q 45.0 61.4, 45.0 54.5 M 58.0 66.0 Q 62.3 66.0, 64.7 63.1 Q 67.0 60.2, 67.0 54.5 Q 67.0 48.9, 64.7 46.1 Q 62.3 43.3, 58.0 43.3 Q 53.7 43.3, 51.3 46.1 Q 49.0 48.9, 49.0 54.5 Q 49.0 60.2, 51.3 63.1 Q 53.7 66.0, 58.0 66.0 \" fill=\"#FF0000\"/>\n",
       "<path class=\"atom-2\" d=\"M 229.6 47.4 Q 229.6 40.6, 233.0 36.8 Q 236.4 33.0, 242.6 33.0 Q 248.9 33.0, 252.3 36.8 Q 255.6 40.6, 255.6 47.4 Q 255.6 54.3, 252.2 58.2 Q 248.8 62.1, 242.6 62.1 Q 236.4 62.1, 233.0 58.2 Q 229.6 54.4, 229.6 47.4 M 242.6 58.9 Q 247.0 58.9, 249.3 56.0 Q 251.6 53.1, 251.6 47.4 Q 251.6 41.9, 249.3 39.1 Q 247.0 36.2, 242.6 36.2 Q 238.3 36.2, 236.0 39.0 Q 233.6 41.8, 233.6 47.4 Q 233.6 53.2, 236.0 56.0 Q 238.3 58.9, 242.6 58.9 \" fill=\"#FF0000\"/>\n",
       "<path class=\"note\" d=\"M 39.9 30.3 Q 37.3 30.3, 36.0 28.4 Q 34.7 26.5, 34.7 23.0 Q 34.7 19.6, 36.0 17.7 Q 37.2 15.8, 39.9 15.8 Q 42.5 15.8, 43.8 17.7 Q 45.0 19.6, 45.0 23.0 Q 45.0 26.5, 43.7 28.4 Q 42.5 30.3, 39.9 30.3 M 39.9 28.7 Q 41.4 28.7, 42.2 27.3 Q 43.0 25.8, 43.0 23.0 Q 43.0 20.3, 42.2 18.8 Q 41.4 17.4, 39.9 17.4 Q 38.3 17.4, 37.5 18.8 Q 36.7 20.3, 36.7 23.0 Q 36.7 25.8, 37.5 27.3 Q 38.3 28.7, 39.9 28.7 \" fill=\"#000000\"/>\n",
       "<path class=\"note\" d=\"M 148.9 132.6 L 152.0 132.6 L 152.0 122.0 L 148.6 123.1 L 148.1 121.9 L 152.4 119.9 L 153.9 120.2 L 153.9 132.6 L 156.6 132.6 L 156.6 134.2 L 148.9 134.2 L 148.9 132.6 \" fill=\"#000000\"/>\n",
       "<path class=\"note\" d=\"M 273.5 31.9 Q 274.0 30.6, 275.2 29.9 Q 276.5 29.1, 278.2 29.1 Q 280.3 29.1, 281.5 30.3 Q 282.7 31.4, 282.7 33.5 Q 282.7 35.6, 281.2 37.5 Q 279.6 39.5, 276.4 41.8 L 283.0 41.8 L 283.0 43.4 L 273.4 43.4 L 273.4 42.1 Q 276.1 40.2, 277.6 38.8 Q 279.2 37.4, 280.0 36.1 Q 280.7 34.9, 280.7 33.6 Q 280.7 32.2, 280.0 31.5 Q 279.4 30.7, 278.2 30.7 Q 277.0 30.7, 276.3 31.2 Q 275.5 31.6, 275.0 32.6 L 273.5 31.9 \" fill=\"#000000\"/>\n",
       "</svg>"
      ],
      "text/plain": [
       "<IPython.core.display.SVG object>"
      ]
     },
     "metadata": {},
     "output_type": "display_data"
    },
    {
     "data": {
      "image/svg+xml": [
       "<svg xmlns=\"http://www.w3.org/2000/svg\" xmlns:rdkit=\"http://www.rdkit.org/xml\" xmlns:xlink=\"http://www.w3.org/1999/xlink\" version=\"1.1\" baseProfile=\"full\" xml:space=\"preserve\" width=\"300px\" height=\"150px\" viewBox=\"0 0 300 150\">\n",
       "<!-- END OF HEADER -->\n",
       "<rect style=\"opacity:1.0;fill:#FFFFFF;stroke:none\" width=\"300.0\" height=\"150.0\" x=\"0.0\" y=\"0.0\"> </rect>\n",
       "<path class=\"bond-0 atom-0 atom-1\" d=\"M 68.5,64.7 L 110.9,51.5\" style=\"fill:none;fill-rule:evenodd;stroke:#000000;stroke-width:2.0px;stroke-linecap:butt;stroke-linejoin:miter;stroke-opacity:1\"/>\n",
       "<path class=\"bond-1 atom-1 atom-2\" d=\"M 110.9,51.5 L 143.5,81.6\" style=\"fill:none;fill-rule:evenodd;stroke:#000000;stroke-width:2.0px;stroke-linecap:butt;stroke-linejoin:miter;stroke-opacity:1\"/>\n",
       "<path class=\"bond-2 atom-2 atom-3\" d=\"M 143.5,81.6 L 139.5,99.3\" style=\"fill:none;fill-rule:evenodd;stroke:#000000;stroke-width:2.0px;stroke-linecap:butt;stroke-linejoin:miter;stroke-opacity:1\"/>\n",
       "<path class=\"bond-2 atom-2 atom-3\" d=\"M 139.5,99.3 L 135.5,117.1\" style=\"fill:none;fill-rule:evenodd;stroke:#0000FF;stroke-width:2.0px;stroke-linecap:butt;stroke-linejoin:miter;stroke-opacity:1\"/>\n",
       "<path class=\"bond-3 atom-2 atom-4\" d=\"M 143.5,81.6 L 185.8,68.3\" style=\"fill:none;fill-rule:evenodd;stroke:#000000;stroke-width:2.0px;stroke-linecap:butt;stroke-linejoin:miter;stroke-opacity:1\"/>\n",
       "<path class=\"bond-4 atom-4 atom-5\" d=\"M 188.6,70.9 L 192.8,52.4\" style=\"fill:none;fill-rule:evenodd;stroke:#000000;stroke-width:2.0px;stroke-linecap:butt;stroke-linejoin:miter;stroke-opacity:1\"/>\n",
       "<path class=\"bond-4 atom-4 atom-5\" d=\"M 192.8,52.4 L 197.0,33.8\" style=\"fill:none;fill-rule:evenodd;stroke:#FF0000;stroke-width:2.0px;stroke-linecap:butt;stroke-linejoin:miter;stroke-opacity:1\"/>\n",
       "<path class=\"bond-4 atom-4 atom-5\" d=\"M 182.1,69.5 L 186.3,50.9\" style=\"fill:none;fill-rule:evenodd;stroke:#000000;stroke-width:2.0px;stroke-linecap:butt;stroke-linejoin:miter;stroke-opacity:1\"/>\n",
       "<path class=\"bond-4 atom-4 atom-5\" d=\"M 186.3,50.9 L 190.5,32.3\" style=\"fill:none;fill-rule:evenodd;stroke:#FF0000;stroke-width:2.0px;stroke-linecap:butt;stroke-linejoin:miter;stroke-opacity:1\"/>\n",
       "<path class=\"bond-5 atom-4 atom-6\" d=\"M 185.8,68.3 L 198.5,80.0\" style=\"fill:none;fill-rule:evenodd;stroke:#000000;stroke-width:2.0px;stroke-linecap:butt;stroke-linejoin:miter;stroke-opacity:1\"/>\n",
       "<path class=\"bond-5 atom-4 atom-6\" d=\"M 198.5,80.0 L 211.2,91.7\" style=\"fill:none;fill-rule:evenodd;stroke:#FF0000;stroke-width:2.0px;stroke-linecap:butt;stroke-linejoin:miter;stroke-opacity:1\"/>\n",
       "<path d=\"M 108.7,52.2 L 110.9,51.5 L 112.5,53.0\" style=\"fill:none;stroke:#000000;stroke-width:2.0px;stroke-linecap:butt;stroke-linejoin:miter;stroke-opacity:1;\"/>\n",
       "<path d=\"M 183.7,69.0 L 185.8,68.3 L 186.4,68.9\" style=\"fill:none;stroke:#000000;stroke-width:2.0px;stroke-linecap:butt;stroke-linejoin:miter;stroke-opacity:1;\"/>\n",
       "<path class=\"atom-3\" d=\"M 131.0 118.5 L 135.1 125.2 Q 135.5 125.8, 136.2 127.0 Q 136.8 128.2, 136.9 128.3 L 136.9 118.5 L 138.5 118.5 L 138.5 131.1 L 136.8 131.1 L 132.4 123.8 Q 131.9 123.0, 131.3 122.0 Q 130.8 121.0, 130.6 120.7 L 130.6 131.1 L 129.0 131.1 L 129.0 118.5 L 131.0 118.5 \" fill=\"#0000FF\"/>\n",
       "<path class=\"atom-3\" d=\"M 140.9 118.5 L 142.6 118.5 L 142.6 123.9 L 149.1 123.9 L 149.1 118.5 L 150.8 118.5 L 150.8 131.1 L 149.1 131.1 L 149.1 125.3 L 142.6 125.3 L 142.6 131.1 L 140.9 131.1 L 140.9 118.5 \" fill=\"#0000FF\"/>\n",
       "<path class=\"atom-3\" d=\"M 153.2 130.7 Q 153.5 129.9, 154.2 129.4 Q 155.0 129.0, 156.0 129.0 Q 157.2 129.0, 157.9 129.7 Q 158.6 130.3, 158.6 131.6 Q 158.6 132.8, 157.7 133.9 Q 156.8 135.1, 155.0 136.4 L 158.8 136.4 L 158.8 137.4 L 153.2 137.4 L 153.2 136.6 Q 154.7 135.5, 155.7 134.7 Q 156.6 133.8, 157.0 133.1 Q 157.5 132.4, 157.5 131.6 Q 157.5 130.8, 157.1 130.4 Q 156.7 129.9, 156.0 129.9 Q 155.3 129.9, 154.9 130.2 Q 154.4 130.5, 154.1 131.1 L 153.2 130.7 \" fill=\"#0000FF\"/>\n",
       "<path class=\"atom-5\" d=\"M 189.7 25.1 Q 189.7 22.1, 191.2 20.4 Q 192.7 18.7, 195.5 18.7 Q 198.3 18.7, 199.8 20.4 Q 201.3 22.1, 201.3 25.1 Q 201.3 28.1, 199.8 29.9 Q 198.3 31.6, 195.5 31.6 Q 192.7 31.6, 191.2 29.9 Q 189.7 28.2, 189.7 25.1 M 195.5 30.2 Q 197.4 30.2, 198.4 28.9 Q 199.5 27.6, 199.5 25.1 Q 199.5 22.6, 198.4 21.4 Q 197.4 20.1, 195.5 20.1 Q 193.6 20.1, 192.5 21.4 Q 191.5 22.6, 191.5 25.1 Q 191.5 27.6, 192.5 28.9 Q 193.6 30.2, 195.5 30.2 \" fill=\"#FF0000\"/>\n",
       "<path class=\"atom-6\" d=\"M 212.6 98.4 Q 212.6 95.4, 214.1 93.7 Q 215.6 92.0, 218.4 92.0 Q 221.2 92.0, 222.7 93.7 Q 224.2 95.4, 224.2 98.4 Q 224.2 101.4, 222.7 103.2 Q 221.2 104.9, 218.4 104.9 Q 215.6 104.9, 214.1 103.2 Q 212.6 101.5, 212.6 98.4 M 218.4 103.5 Q 220.3 103.5, 221.4 102.2 Q 222.4 100.9, 222.4 98.4 Q 222.4 95.9, 221.4 94.7 Q 220.3 93.4, 218.4 93.4 Q 216.5 93.4, 215.5 94.7 Q 214.4 95.9, 214.4 98.4 Q 214.4 100.9, 215.5 102.2 Q 216.5 103.5, 218.4 103.5 \" fill=\"#FF0000\"/>\n",
       "<path class=\"atom-6\" d=\"M 226.1 92.2 L 227.8 92.2 L 227.8 97.5 L 234.3 97.5 L 234.3 92.2 L 236.0 92.2 L 236.0 104.7 L 234.3 104.7 L 234.3 98.9 L 227.8 98.9 L 227.8 104.7 L 226.1 104.7 L 226.1 92.2 \" fill=\"#FF0000\"/>\n",
       "<path class=\"note\" d=\"M 66.3 60.9 Q 65.2 60.9, 64.6 60.1 Q 64.0 59.2, 64.0 57.7 Q 64.0 56.2, 64.6 55.4 Q 65.2 54.5, 66.3 54.5 Q 67.5 54.5, 68.1 55.4 Q 68.6 56.2, 68.6 57.7 Q 68.6 59.2, 68.1 60.1 Q 67.5 60.9, 66.3 60.9 M 66.3 60.2 Q 67.0 60.2, 67.4 59.6 Q 67.7 59.0, 67.7 57.7 Q 67.7 56.5, 67.4 55.9 Q 67.0 55.2, 66.3 55.2 Q 65.7 55.2, 65.3 55.9 Q 64.9 56.5, 64.9 57.7 Q 64.9 59.0, 65.3 59.6 Q 65.7 60.2, 66.3 60.2 \" fill=\"#000000\"/>\n",
       "<path class=\"note\" d=\"M 110.9 46.8 L 112.3 46.8 L 112.3 42.1 L 110.8 42.5 L 110.6 42.0 L 112.5 41.1 L 113.1 41.3 L 113.1 46.8 L 114.4 46.8 L 114.4 47.5 L 110.9 47.5 L 110.9 46.8 \" fill=\"#000000\"/>\n",
       "<path class=\"note\" d=\"M 134.3 81.8 Q 134.6 81.2, 135.1 80.9 Q 135.7 80.6, 136.4 80.6 Q 137.4 80.6, 137.9 81.1 Q 138.4 81.6, 138.4 82.5 Q 138.4 83.5, 137.7 84.3 Q 137.1 85.2, 135.6 86.2 L 138.5 86.2 L 138.5 86.9 L 134.3 86.9 L 134.3 86.3 Q 135.5 85.5, 136.2 84.9 Q 136.9 84.3, 137.2 83.7 Q 137.5 83.1, 137.5 82.6 Q 137.5 82.0, 137.2 81.6 Q 136.9 81.3, 136.4 81.3 Q 135.9 81.3, 135.6 81.5 Q 135.2 81.7, 135.0 82.2 L 134.3 81.8 \" fill=\"#000000\"/>\n",
       "<path class=\"note\" d=\"M 131.4 139.1 Q 132.1 139.3, 132.3 139.7 Q 132.7 140.1, 132.7 140.7 Q 132.7 141.2, 132.4 141.6 Q 132.1 142.0, 131.6 142.3 Q 131.1 142.5, 130.5 142.5 Q 129.8 142.5, 129.3 142.3 Q 128.8 142.0, 128.4 141.6 L 128.9 141.0 Q 129.3 141.5, 129.7 141.6 Q 130.0 141.8, 130.5 141.8 Q 131.1 141.8, 131.4 141.5 Q 131.8 141.2, 131.8 140.7 Q 131.8 140.0, 131.4 139.8 Q 131.0 139.5, 130.3 139.5 L 129.8 139.5 L 129.8 138.8 L 130.2 138.8 Q 130.9 138.8, 131.3 138.5 Q 131.6 138.2, 131.6 137.7 Q 131.6 137.3, 131.3 137.0 Q 131.0 136.8, 130.5 136.8 Q 130.0 136.8, 129.7 137.0 Q 129.3 137.1, 129.1 137.6 L 128.5 137.3 Q 128.7 136.8, 129.2 136.4 Q 129.8 136.1, 130.5 136.1 Q 131.4 136.1, 132.0 136.5 Q 132.5 136.9, 132.5 137.7 Q 132.5 138.2, 132.2 138.5 Q 132.0 138.9, 131.4 139.1 \" fill=\"#000000\"/>\n",
       "<path class=\"note\" d=\"M 185.8 76.5 L 186.6 76.5 L 186.6 77.2 L 185.8 77.2 L 185.8 78.7 L 185.0 78.7 L 185.0 77.2 L 181.8 77.2 L 181.8 76.7 L 184.5 72.4 L 185.8 72.4 L 185.8 76.5 M 182.8 76.5 L 185.0 76.5 L 185.0 73.0 L 182.8 76.5 \" fill=\"#000000\"/>\n",
       "<path class=\"note\" d=\"M 198.9 9.8 Q 199.4 9.8, 199.9 10.1 Q 200.3 10.3, 200.6 10.8 Q 200.9 11.2, 200.9 11.8 Q 200.9 12.4, 200.5 12.9 Q 200.2 13.4, 199.7 13.6 Q 199.2 13.8, 198.6 13.8 Q 198.0 13.8, 197.5 13.6 Q 197.0 13.4, 196.6 13.0 L 197.1 12.5 Q 197.4 12.8, 197.8 13.0 Q 198.2 13.1, 198.6 13.1 Q 199.2 13.1, 199.6 12.8 Q 200.0 12.4, 200.0 11.8 Q 200.0 11.1, 199.6 10.8 Q 199.2 10.5, 198.6 10.5 Q 198.0 10.5, 197.4 10.8 L 196.9 10.5 L 197.2 7.5 L 200.5 7.5 L 200.4 8.2 L 198.0 8.2 L 197.8 10.1 Q 198.3 9.8, 198.9 9.8 \" fill=\"#000000\"/>\n",
       "<path class=\"note\" d=\"M 223.1 111.7 Q 223.7 111.7, 224.1 112.0 Q 224.5 112.2, 224.8 112.6 Q 225.0 113.1, 225.0 113.6 Q 225.0 114.2, 224.7 114.7 Q 224.5 115.2, 224.0 115.4 Q 223.5 115.7, 222.9 115.7 Q 221.8 115.7, 221.2 115.0 Q 220.6 114.2, 220.6 112.7 Q 220.6 111.0, 221.3 110.2 Q 222.0 109.3, 223.4 109.3 Q 223.8 109.3, 224.1 109.4 Q 224.4 109.5, 224.8 109.7 L 224.4 110.2 Q 223.9 110.0, 223.4 110.0 Q 222.5 110.0, 222.0 110.6 Q 221.6 111.1, 221.5 112.3 Q 221.9 112.0, 222.3 111.9 Q 222.7 111.7, 223.1 111.7 M 222.9 115.0 Q 223.2 115.0, 223.5 114.8 Q 223.8 114.6, 224.0 114.3 Q 224.1 114.0, 224.1 113.6 Q 224.1 113.1, 223.8 112.8 Q 223.5 112.4, 222.9 112.4 Q 222.6 112.4, 222.2 112.6 Q 221.8 112.7, 221.5 113.0 Q 221.6 114.0, 221.9 114.5 Q 222.2 115.0, 222.9 115.0 \" fill=\"#000000\"/>\n",
       "</svg>"
      ],
      "text/plain": [
       "<IPython.core.display.SVG object>"
      ]
     },
     "metadata": {},
     "output_type": "display_data"
    }
   ],
   "source": [
    "# This looks like the winner\n",
    "# I will have to be careful about bonds between included atoms\n",
    "# and not included atoms. Depending on the atomic invariants\n",
    "# the order of these bonds may be specified and not wildcard\n",
    "rule = '[O:1]-[C:2]-[C:3]~[*:4]~[*:5]~[N:6]>>[O:1]-[C:2].[C:3]~[*:4]~[*:5]~[N:6]'\n",
    "op = AllChem.ReactionFromSmarts(rule)\n",
    "for elt in op.RunReactants([mol])[0]:\n",
    "    display(SVG(draw_molecule(elt, size=(300, 150), draw_options={\"addAtomIndices\": True})))"
   ]
  },
  {
   "cell_type": "code",
   "execution_count": 60,
   "metadata": {},
   "outputs": [
    {
     "data": {
      "image/svg+xml": [
       "<svg xmlns=\"http://www.w3.org/2000/svg\" xmlns:rdkit=\"http://www.rdkit.org/xml\" xmlns:xlink=\"http://www.w3.org/1999/xlink\" version=\"1.1\" baseProfile=\"full\" xml:space=\"preserve\" width=\"300px\" height=\"150px\" viewBox=\"0 0 300 150\">\n",
       "<!-- END OF HEADER -->\n",
       "<rect style=\"opacity:1.0;fill:#FFFFFF;stroke:none\" width=\"300.0\" height=\"150.0\" x=\"0.0\" y=\"0.0\"> </rect>\n",
       "<path class=\"bond-0 atom-0 atom-1\" d=\"M 74.6,64.0 L 113.5,86.5\" style=\"fill:none;fill-rule:evenodd;stroke:#FF0000;stroke-width:2.0px;stroke-linecap:butt;stroke-linejoin:miter;stroke-opacity:1\"/>\n",
       "<path class=\"bond-0 atom-0 atom-1\" d=\"M 113.5,86.5 L 152.4,108.9\" style=\"fill:none;fill-rule:evenodd;stroke:#000000;stroke-width:2.0px;stroke-linecap:butt;stroke-linejoin:miter;stroke-opacity:1\"/>\n",
       "<path class=\"bond-1 atom-1 atom-2\" d=\"M 152.4,108.9 L 191.3,86.5\" style=\"fill:none;fill-rule:evenodd;stroke:#000000;stroke-width:2.0px;stroke-linecap:butt;stroke-linejoin:miter;stroke-opacity:1\"/>\n",
       "<path class=\"bond-1 atom-1 atom-2\" d=\"M 191.3,86.5 L 230.1,64.0\" style=\"fill:none;fill-rule:evenodd;stroke:#FF0000;stroke-width:2.0px;stroke-linecap:butt;stroke-linejoin:miter;stroke-opacity:1\"/>\n",
       "<path class=\"bond-1 atom-1 atom-2\" d=\"M 152.4,90.0 L 183.1,72.3\" style=\"fill:none;fill-rule:evenodd;stroke:#000000;stroke-width:2.0px;stroke-linecap:butt;stroke-linejoin:miter;stroke-opacity:1\"/>\n",
       "<path class=\"bond-1 atom-1 atom-2\" d=\"M 183.1,72.3 L 222.0,49.9\" style=\"fill:none;fill-rule:evenodd;stroke:#FF0000;stroke-width:2.0px;stroke-linecap:butt;stroke-linejoin:miter;stroke-opacity:1\"/>\n",
       "<path d=\"M 150.4,107.8 L 152.4,108.9 L 154.3,107.8\" style=\"fill:none;stroke:#000000;stroke-width:2.0px;stroke-linecap:butt;stroke-linejoin:miter;stroke-opacity:1;\"/>\n",
       "<path class=\"atom-0\" d=\"M 17.0 40.4 L 20.9 40.4 L 20.9 52.5 L 35.4 52.5 L 35.4 40.4 L 39.2 40.4 L 39.2 68.7 L 35.4 68.7 L 35.4 55.7 L 20.9 55.7 L 20.9 68.7 L 17.0 68.7 L 17.0 40.4 \" fill=\"#FF0000\"/>\n",
       "<path class=\"atom-0\" d=\"M 45.0 54.5 Q 45.0 47.7, 48.4 43.9 Q 51.7 40.1, 58.0 40.1 Q 64.3 40.1, 67.7 43.9 Q 71.0 47.7, 71.0 54.5 Q 71.0 61.4, 67.6 65.3 Q 64.2 69.2, 58.0 69.2 Q 51.8 69.2, 48.4 65.3 Q 45.0 61.4, 45.0 54.5 M 58.0 66.0 Q 62.3 66.0, 64.7 63.1 Q 67.0 60.2, 67.0 54.5 Q 67.0 48.9, 64.7 46.1 Q 62.3 43.3, 58.0 43.3 Q 53.7 43.3, 51.3 46.1 Q 49.0 48.9, 49.0 54.5 Q 49.0 60.2, 51.3 63.1 Q 53.7 66.0, 58.0 66.0 \" fill=\"#FF0000\"/>\n",
       "<path class=\"atom-2\" d=\"M 229.6 47.4 Q 229.6 40.6, 233.0 36.8 Q 236.4 33.0, 242.6 33.0 Q 248.9 33.0, 252.3 36.8 Q 255.6 40.6, 255.6 47.4 Q 255.6 54.3, 252.2 58.2 Q 248.8 62.1, 242.6 62.1 Q 236.4 62.1, 233.0 58.2 Q 229.6 54.4, 229.6 47.4 M 242.6 58.9 Q 247.0 58.9, 249.3 56.0 Q 251.6 53.1, 251.6 47.4 Q 251.6 41.9, 249.3 39.1 Q 247.0 36.2, 242.6 36.2 Q 238.3 36.2, 236.0 39.0 Q 233.6 41.8, 233.6 47.4 Q 233.6 53.2, 236.0 56.0 Q 238.3 58.9, 242.6 58.9 \" fill=\"#FF0000\"/>\n",
       "<path class=\"note\" d=\"M 39.9 30.3 Q 37.3 30.3, 36.0 28.4 Q 34.7 26.5, 34.7 23.0 Q 34.7 19.6, 36.0 17.7 Q 37.2 15.8, 39.9 15.8 Q 42.5 15.8, 43.8 17.7 Q 45.0 19.6, 45.0 23.0 Q 45.0 26.5, 43.7 28.4 Q 42.5 30.3, 39.9 30.3 M 39.9 28.7 Q 41.4 28.7, 42.2 27.3 Q 43.0 25.8, 43.0 23.0 Q 43.0 20.3, 42.2 18.8 Q 41.4 17.4, 39.9 17.4 Q 38.3 17.4, 37.5 18.8 Q 36.7 20.3, 36.7 23.0 Q 36.7 25.8, 37.5 27.3 Q 38.3 28.7, 39.9 28.7 \" fill=\"#000000\"/>\n",
       "<path class=\"note\" d=\"M 148.9 132.6 L 152.0 132.6 L 152.0 122.0 L 148.6 123.1 L 148.1 121.9 L 152.4 119.9 L 153.9 120.2 L 153.9 132.6 L 156.6 132.6 L 156.6 134.2 L 148.9 134.2 L 148.9 132.6 \" fill=\"#000000\"/>\n",
       "<path class=\"note\" d=\"M 273.5 31.9 Q 274.0 30.6, 275.2 29.9 Q 276.5 29.1, 278.2 29.1 Q 280.3 29.1, 281.5 30.3 Q 282.7 31.4, 282.7 33.5 Q 282.7 35.6, 281.2 37.5 Q 279.6 39.5, 276.4 41.8 L 283.0 41.8 L 283.0 43.4 L 273.4 43.4 L 273.4 42.1 Q 276.1 40.2, 277.6 38.8 Q 279.2 37.4, 280.0 36.1 Q 280.7 34.9, 280.7 33.6 Q 280.7 32.2, 280.0 31.5 Q 279.4 30.7, 278.2 30.7 Q 277.0 30.7, 276.3 31.2 Q 275.5 31.6, 275.0 32.6 L 273.5 31.9 \" fill=\"#000000\"/>\n",
       "</svg>"
      ],
      "text/plain": [
       "<IPython.core.display.SVG object>"
      ]
     },
     "metadata": {},
     "output_type": "display_data"
    },
    {
     "data": {
      "image/svg+xml": [
       "<svg xmlns=\"http://www.w3.org/2000/svg\" xmlns:rdkit=\"http://www.rdkit.org/xml\" xmlns:xlink=\"http://www.w3.org/1999/xlink\" version=\"1.1\" baseProfile=\"full\" xml:space=\"preserve\" width=\"300px\" height=\"150px\" viewBox=\"0 0 300 150\">\n",
       "<!-- END OF HEADER -->\n",
       "<rect style=\"opacity:1.0;fill:#FFFFFF;stroke:none\" width=\"300.0\" height=\"150.0\" x=\"0.0\" y=\"0.0\"> </rect>\n",
       "<path class=\"bond-0 atom-0 atom-1\" d=\"M 285.0,82.7 L 247.9,66.9\" style=\"fill:none;fill-rule:evenodd;stroke:#000000;stroke-width:2.0px;stroke-linecap:butt;stroke-linejoin:miter;stroke-opacity:1\"/>\n",
       "<path class=\"bond-0 atom-0 atom-1\" d=\"M 247.9,66.9 L 210.7,51.1\" style=\"fill:none;fill-rule:evenodd;stroke:#191919;stroke-width:2.0px;stroke-linecap:butt;stroke-linejoin:miter;stroke-opacity:1\"/>\n",
       "<path class=\"bond-1 atom-1 atom-2\" d=\"M 204.9,51.1 L 147.7,94.1\" style=\"fill:none;fill-rule:evenodd;stroke:#191919;stroke-width:2.0px;stroke-linecap:butt;stroke-linejoin:miter;stroke-opacity:1\"/>\n",
       "<path class=\"bond-2 atom-2 atom-3\" d=\"M 130.8,96.9 L 102.0,84.6\" style=\"fill:none;fill-rule:evenodd;stroke:#191919;stroke-width:2.0px;stroke-linecap:butt;stroke-linejoin:miter;stroke-opacity:1\"/>\n",
       "<path class=\"bond-2 atom-2 atom-3\" d=\"M 102.0,84.6 L 73.2,72.3\" style=\"fill:none;fill-rule:evenodd;stroke:#0000FF;stroke-width:2.0px;stroke-linecap:butt;stroke-linejoin:miter;stroke-opacity:1\"/>\n",
       "<path class=\"atom-1\" d=\"M 202.5 46.8 L 206.0 43.2 L 201.3 42.3 L 202.0 39.9 L 206.3 42.0 L 205.7 37.3 L 208.3 37.3 L 207.6 42.0 L 211.9 40.0 L 212.7 42.3 L 207.9 43.2 L 211.3 46.8 L 209.3 48.3 L 206.9 43.8 L 204.6 48.3 L 202.5 46.8 \" fill=\"#191919\"/>\n",
       "<path class=\"atom-2\" d=\"M 134.7 97.8 L 138.3 94.2 L 133.6 93.2 L 134.3 90.8 L 138.6 93.0 L 138.0 88.3 L 140.5 88.3 L 139.8 93.0 L 144.2 90.9 L 145.0 93.2 L 140.2 94.1 L 143.6 97.7 L 141.5 99.2 L 139.2 94.8 L 136.8 99.2 L 134.7 97.8 \" fill=\"#191919\"/>\n",
       "<path class=\"atom-3\" d=\"M 15.0 55.3 L 18.3 55.3 L 18.3 65.5 L 30.5 65.5 L 30.5 55.3 L 33.8 55.3 L 33.8 79.3 L 30.5 79.3 L 30.5 68.2 L 18.3 68.2 L 18.3 79.3 L 15.0 79.3 L 15.0 55.3 \" fill=\"#0000FF\"/>\n",
       "<path class=\"atom-3\" d=\"M 46.0 82.9 Q 47.6 83.4, 48.3 84.4 Q 49.1 85.4, 49.1 86.9 Q 49.1 88.3, 48.4 89.3 Q 47.7 90.4, 46.5 90.9 Q 45.3 91.5, 43.7 91.5 Q 42.0 91.5, 40.7 90.9 Q 39.4 90.3, 38.4 89.1 L 39.7 87.8 Q 40.7 88.9, 41.5 89.3 Q 42.4 89.7, 43.7 89.7 Q 45.1 89.7, 46.0 88.9 Q 46.8 88.2, 46.8 86.9 Q 46.8 85.3, 45.9 84.6 Q 45.0 83.8, 43.1 83.8 L 41.9 83.8 L 41.9 82.2 L 43.0 82.2 Q 44.7 82.2, 45.6 81.5 Q 46.5 80.7, 46.5 79.3 Q 46.5 78.3, 45.8 77.7 Q 45.0 77.0, 43.7 77.0 Q 42.4 77.0, 41.5 77.5 Q 40.7 78.0, 40.1 79.2 L 38.6 78.3 Q 39.1 77.0, 40.5 76.1 Q 41.8 75.3, 43.7 75.3 Q 46.0 75.3, 47.4 76.3 Q 48.8 77.4, 48.8 79.3 Q 48.8 80.6, 48.1 81.5 Q 47.4 82.4, 46.0 82.9 \" fill=\"#0000FF\"/>\n",
       "<path class=\"atom-3\" d=\"M 56.0 55.3 L 63.8 68.0 Q 64.6 69.2, 65.9 71.5 Q 67.1 73.8, 67.2 73.9 L 67.2 55.3 L 70.4 55.3 L 70.4 79.3 L 67.1 79.3 L 58.7 65.4 Q 57.7 63.7, 56.6 61.9 Q 55.6 60.0, 55.3 59.4 L 55.3 79.3 L 52.2 79.3 L 52.2 55.3 L 56.0 55.3 \" fill=\"#0000FF\"/>\n",
       "<path class=\"note\" d=\"M 279.5 101.9 Q 277.3 101.9, 276.2 100.3 Q 275.1 98.6, 275.1 95.7 Q 275.1 92.8, 276.2 91.2 Q 277.2 89.6, 279.5 89.6 Q 281.7 89.6, 282.8 91.2 Q 283.9 92.8, 283.9 95.7 Q 283.9 98.6, 282.8 100.3 Q 281.7 101.9, 279.5 101.9 M 279.5 100.5 Q 280.8 100.5, 281.5 99.3 Q 282.2 98.1, 282.2 95.7 Q 282.2 93.4, 281.5 92.2 Q 280.8 91.0, 279.5 91.0 Q 278.2 91.0, 277.5 92.2 Q 276.8 93.4, 276.8 95.7 Q 276.8 98.1, 277.5 99.3 Q 278.2 100.5, 279.5 100.5 \" fill=\"#000000\"/>\n",
       "<path class=\"note\" d=\"M 200.6 26.1 L 203.3 26.1 L 203.3 17.2 L 200.4 18.1 L 200.0 17.1 L 203.6 15.4 L 204.9 15.6 L 204.9 26.1 L 207.2 26.1 L 207.2 27.5 L 200.6 27.5 L 200.6 26.1 \" fill=\"#000000\"/>\n",
       "<path class=\"note\" d=\"M 138.7 124.8 Q 139.1 123.7, 140.2 123.1 Q 141.2 122.4, 142.7 122.4 Q 144.5 122.4, 145.5 123.4 Q 146.5 124.4, 146.5 126.1 Q 146.5 127.9, 145.2 129.6 Q 143.9 131.2, 141.2 133.2 L 146.7 133.2 L 146.7 134.6 L 138.6 134.6 L 138.6 133.4 Q 140.9 131.8, 142.2 130.7 Q 143.5 129.5, 144.2 128.4 Q 144.8 127.3, 144.8 126.2 Q 144.8 125.1, 144.3 124.4 Q 143.7 123.8, 142.7 123.8 Q 141.7 123.8, 141.1 124.2 Q 140.4 124.6, 140.0 125.4 L 138.7 124.8 \" fill=\"#000000\"/>\n",
       "<path class=\"note\" d=\"M 59.6 39.0 Q 60.8 39.3, 61.3 40.1 Q 61.9 40.8, 61.9 42.0 Q 61.9 43.0, 61.4 43.8 Q 60.9 44.6, 59.9 45.0 Q 59.0 45.5, 57.8 45.5 Q 56.5 45.5, 55.5 45.0 Q 54.6 44.6, 53.8 43.6 L 54.8 42.7 Q 55.5 43.5, 56.2 43.8 Q 56.8 44.1, 57.8 44.1 Q 58.9 44.1, 59.5 43.5 Q 60.2 42.9, 60.2 42.0 Q 60.2 40.8, 59.5 40.2 Q 58.8 39.7, 57.4 39.7 L 56.5 39.7 L 56.5 38.4 L 57.3 38.4 Q 58.6 38.4, 59.3 37.9 Q 59.9 37.3, 59.9 36.2 Q 59.9 35.4, 59.4 35.0 Q 58.8 34.5, 57.8 34.5 Q 56.8 34.5, 56.2 34.9 Q 55.6 35.2, 55.1 36.1 L 53.9 35.5 Q 54.4 34.5, 55.4 33.8 Q 56.4 33.2, 57.8 33.2 Q 59.6 33.2, 60.6 34.0 Q 61.6 34.8, 61.6 36.2 Q 61.6 37.2, 61.1 37.9 Q 60.6 38.6, 59.6 39.0 \" fill=\"#000000\"/>\n",
       "</svg>"
      ],
      "text/plain": [
       "<IPython.core.display.SVG object>"
      ]
     },
     "metadata": {},
     "output_type": "display_data"
    }
   ],
   "source": [
    "rule = '[O:1]-[C:2]-[C:3]~*~*~[N:6]>>[O:1]-[C:2].[C:3]~*~*~[N:6]'\n",
    "op = AllChem.ReactionFromSmarts(rule)\n",
    "for elt in op.RunReactants([mol])[0]:\n",
    "    display(SVG(draw_molecule(elt, size=(300, 150), draw_options={\"addAtomIndices\": True})))"
   ]
  },
  {
   "cell_type": "code",
   "execution_count": 61,
   "metadata": {},
   "outputs": [
    {
     "data": {
      "image/svg+xml": [
       "<svg xmlns=\"http://www.w3.org/2000/svg\" xmlns:rdkit=\"http://www.rdkit.org/xml\" xmlns:xlink=\"http://www.w3.org/1999/xlink\" version=\"1.1\" baseProfile=\"full\" xml:space=\"preserve\" width=\"300px\" height=\"150px\" viewBox=\"0 0 300 150\">\n",
       "<!-- END OF HEADER -->\n",
       "<rect style=\"opacity:1.0;fill:#FFFFFF;stroke:none\" width=\"300.0\" height=\"150.0\" x=\"0.0\" y=\"0.0\"> </rect>\n",
       "<path class=\"bond-0 atom-0 atom-1\" d=\"M 74.6,64.0 L 113.5,86.5\" style=\"fill:none;fill-rule:evenodd;stroke:#FF0000;stroke-width:2.0px;stroke-linecap:butt;stroke-linejoin:miter;stroke-opacity:1\"/>\n",
       "<path class=\"bond-0 atom-0 atom-1\" d=\"M 113.5,86.5 L 152.4,108.9\" style=\"fill:none;fill-rule:evenodd;stroke:#000000;stroke-width:2.0px;stroke-linecap:butt;stroke-linejoin:miter;stroke-opacity:1\"/>\n",
       "<path class=\"bond-1 atom-1 atom-2\" d=\"M 152.4,108.9 L 191.3,86.5\" style=\"fill:none;fill-rule:evenodd;stroke:#000000;stroke-width:2.0px;stroke-linecap:butt;stroke-linejoin:miter;stroke-opacity:1\"/>\n",
       "<path class=\"bond-1 atom-1 atom-2\" d=\"M 191.3,86.5 L 230.1,64.0\" style=\"fill:none;fill-rule:evenodd;stroke:#FF0000;stroke-width:2.0px;stroke-linecap:butt;stroke-linejoin:miter;stroke-opacity:1\"/>\n",
       "<path class=\"bond-1 atom-1 atom-2\" d=\"M 152.4,90.0 L 183.1,72.3\" style=\"fill:none;fill-rule:evenodd;stroke:#000000;stroke-width:2.0px;stroke-linecap:butt;stroke-linejoin:miter;stroke-opacity:1\"/>\n",
       "<path class=\"bond-1 atom-1 atom-2\" d=\"M 183.1,72.3 L 222.0,49.9\" style=\"fill:none;fill-rule:evenodd;stroke:#FF0000;stroke-width:2.0px;stroke-linecap:butt;stroke-linejoin:miter;stroke-opacity:1\"/>\n",
       "<path d=\"M 150.4,107.8 L 152.4,108.9 L 154.3,107.8\" style=\"fill:none;stroke:#000000;stroke-width:2.0px;stroke-linecap:butt;stroke-linejoin:miter;stroke-opacity:1;\"/>\n",
       "<path class=\"atom-0\" d=\"M 17.0 40.4 L 20.9 40.4 L 20.9 52.5 L 35.4 52.5 L 35.4 40.4 L 39.2 40.4 L 39.2 68.7 L 35.4 68.7 L 35.4 55.7 L 20.9 55.7 L 20.9 68.7 L 17.0 68.7 L 17.0 40.4 \" fill=\"#FF0000\"/>\n",
       "<path class=\"atom-0\" d=\"M 45.0 54.5 Q 45.0 47.7, 48.4 43.9 Q 51.7 40.1, 58.0 40.1 Q 64.3 40.1, 67.7 43.9 Q 71.0 47.7, 71.0 54.5 Q 71.0 61.4, 67.6 65.3 Q 64.2 69.2, 58.0 69.2 Q 51.8 69.2, 48.4 65.3 Q 45.0 61.4, 45.0 54.5 M 58.0 66.0 Q 62.3 66.0, 64.7 63.1 Q 67.0 60.2, 67.0 54.5 Q 67.0 48.9, 64.7 46.1 Q 62.3 43.3, 58.0 43.3 Q 53.7 43.3, 51.3 46.1 Q 49.0 48.9, 49.0 54.5 Q 49.0 60.2, 51.3 63.1 Q 53.7 66.0, 58.0 66.0 \" fill=\"#FF0000\"/>\n",
       "<path class=\"atom-2\" d=\"M 229.6 47.4 Q 229.6 40.6, 233.0 36.8 Q 236.4 33.0, 242.6 33.0 Q 248.9 33.0, 252.3 36.8 Q 255.6 40.6, 255.6 47.4 Q 255.6 54.3, 252.2 58.2 Q 248.8 62.1, 242.6 62.1 Q 236.4 62.1, 233.0 58.2 Q 229.6 54.4, 229.6 47.4 M 242.6 58.9 Q 247.0 58.9, 249.3 56.0 Q 251.6 53.1, 251.6 47.4 Q 251.6 41.9, 249.3 39.1 Q 247.0 36.2, 242.6 36.2 Q 238.3 36.2, 236.0 39.0 Q 233.6 41.8, 233.6 47.4 Q 233.6 53.2, 236.0 56.0 Q 238.3 58.9, 242.6 58.9 \" fill=\"#FF0000\"/>\n",
       "<path class=\"note\" d=\"M 39.9 30.3 Q 37.3 30.3, 36.0 28.4 Q 34.7 26.5, 34.7 23.0 Q 34.7 19.6, 36.0 17.7 Q 37.2 15.8, 39.9 15.8 Q 42.5 15.8, 43.8 17.7 Q 45.0 19.6, 45.0 23.0 Q 45.0 26.5, 43.7 28.4 Q 42.5 30.3, 39.9 30.3 M 39.9 28.7 Q 41.4 28.7, 42.2 27.3 Q 43.0 25.8, 43.0 23.0 Q 43.0 20.3, 42.2 18.8 Q 41.4 17.4, 39.9 17.4 Q 38.3 17.4, 37.5 18.8 Q 36.7 20.3, 36.7 23.0 Q 36.7 25.8, 37.5 27.3 Q 38.3 28.7, 39.9 28.7 \" fill=\"#000000\"/>\n",
       "<path class=\"note\" d=\"M 148.9 132.6 L 152.0 132.6 L 152.0 122.0 L 148.6 123.1 L 148.1 121.9 L 152.4 119.9 L 153.9 120.2 L 153.9 132.6 L 156.6 132.6 L 156.6 134.2 L 148.9 134.2 L 148.9 132.6 \" fill=\"#000000\"/>\n",
       "<path class=\"note\" d=\"M 273.5 31.9 Q 274.0 30.6, 275.2 29.9 Q 276.5 29.1, 278.2 29.1 Q 280.3 29.1, 281.5 30.3 Q 282.7 31.4, 282.7 33.5 Q 282.7 35.6, 281.2 37.5 Q 279.6 39.5, 276.4 41.8 L 283.0 41.8 L 283.0 43.4 L 273.4 43.4 L 273.4 42.1 Q 276.1 40.2, 277.6 38.8 Q 279.2 37.4, 280.0 36.1 Q 280.7 34.9, 280.7 33.6 Q 280.7 32.2, 280.0 31.5 Q 279.4 30.7, 278.2 30.7 Q 277.0 30.7, 276.3 31.2 Q 275.5 31.6, 275.0 32.6 L 273.5 31.9 \" fill=\"#000000\"/>\n",
       "</svg>"
      ],
      "text/plain": [
       "<IPython.core.display.SVG object>"
      ]
     },
     "metadata": {},
     "output_type": "display_data"
    },
    {
     "data": {
      "image/svg+xml": [
       "<svg xmlns=\"http://www.w3.org/2000/svg\" xmlns:rdkit=\"http://www.rdkit.org/xml\" xmlns:xlink=\"http://www.w3.org/1999/xlink\" version=\"1.1\" baseProfile=\"full\" xml:space=\"preserve\" width=\"300px\" height=\"150px\" viewBox=\"0 0 300 150\">\n",
       "<!-- END OF HEADER -->\n",
       "<rect style=\"opacity:1.0;fill:#FFFFFF;stroke:none\" width=\"300.0\" height=\"150.0\" x=\"0.0\" y=\"0.0\"> </rect>\n",
       "<path class=\"bond-0 atom-0 atom-1\" d=\"M 285.0,82.7 L 247.9,66.9\" style=\"fill:none;fill-rule:evenodd;stroke:#000000;stroke-width:2.0px;stroke-linecap:butt;stroke-linejoin:miter;stroke-opacity:1\"/>\n",
       "<path class=\"bond-0 atom-0 atom-1\" d=\"M 247.9,66.9 L 210.7,51.1\" style=\"fill:none;fill-rule:evenodd;stroke:#191919;stroke-width:2.0px;stroke-linecap:butt;stroke-linejoin:miter;stroke-opacity:1\"/>\n",
       "<path class=\"bond-1 atom-1 atom-2\" d=\"M 204.9,51.1 L 147.7,94.1\" style=\"fill:none;fill-rule:evenodd;stroke:#191919;stroke-width:2.0px;stroke-linecap:butt;stroke-linejoin:miter;stroke-opacity:1\"/>\n",
       "<path class=\"bond-2 atom-2 atom-3\" d=\"M 130.8,96.9 L 102.0,84.6\" style=\"fill:none;fill-rule:evenodd;stroke:#191919;stroke-width:2.0px;stroke-linecap:butt;stroke-linejoin:miter;stroke-opacity:1\"/>\n",
       "<path class=\"bond-2 atom-2 atom-3\" d=\"M 102.0,84.6 L 73.2,72.3\" style=\"fill:none;fill-rule:evenodd;stroke:#0000FF;stroke-width:2.0px;stroke-linecap:butt;stroke-linejoin:miter;stroke-opacity:1\"/>\n",
       "<path class=\"atom-1\" d=\"M 202.5 46.8 L 206.0 43.2 L 201.3 42.3 L 202.0 39.9 L 206.3 42.0 L 205.7 37.3 L 208.3 37.3 L 207.6 42.0 L 211.9 40.0 L 212.7 42.3 L 207.9 43.2 L 211.3 46.8 L 209.3 48.3 L 206.9 43.8 L 204.6 48.3 L 202.5 46.8 \" fill=\"#191919\"/>\n",
       "<path class=\"atom-2\" d=\"M 134.7 97.8 L 138.3 94.2 L 133.6 93.2 L 134.3 90.8 L 138.6 93.0 L 138.0 88.3 L 140.5 88.3 L 139.8 93.0 L 144.2 90.9 L 145.0 93.2 L 140.2 94.1 L 143.6 97.7 L 141.5 99.2 L 139.2 94.8 L 136.8 99.2 L 134.7 97.8 \" fill=\"#191919\"/>\n",
       "<path class=\"atom-3\" d=\"M 15.0 55.3 L 18.3 55.3 L 18.3 65.5 L 30.5 65.5 L 30.5 55.3 L 33.8 55.3 L 33.8 79.3 L 30.5 79.3 L 30.5 68.2 L 18.3 68.2 L 18.3 79.3 L 15.0 79.3 L 15.0 55.3 \" fill=\"#0000FF\"/>\n",
       "<path class=\"atom-3\" d=\"M 46.0 82.9 Q 47.6 83.4, 48.3 84.4 Q 49.1 85.4, 49.1 86.9 Q 49.1 88.3, 48.4 89.3 Q 47.7 90.4, 46.5 90.9 Q 45.3 91.5, 43.7 91.5 Q 42.0 91.5, 40.7 90.9 Q 39.4 90.3, 38.4 89.1 L 39.7 87.8 Q 40.7 88.9, 41.5 89.3 Q 42.4 89.7, 43.7 89.7 Q 45.1 89.7, 46.0 88.9 Q 46.8 88.2, 46.8 86.9 Q 46.8 85.3, 45.9 84.6 Q 45.0 83.8, 43.1 83.8 L 41.9 83.8 L 41.9 82.2 L 43.0 82.2 Q 44.7 82.2, 45.6 81.5 Q 46.5 80.7, 46.5 79.3 Q 46.5 78.3, 45.8 77.7 Q 45.0 77.0, 43.7 77.0 Q 42.4 77.0, 41.5 77.5 Q 40.7 78.0, 40.1 79.2 L 38.6 78.3 Q 39.1 77.0, 40.5 76.1 Q 41.8 75.3, 43.7 75.3 Q 46.0 75.3, 47.4 76.3 Q 48.8 77.4, 48.8 79.3 Q 48.8 80.6, 48.1 81.5 Q 47.4 82.4, 46.0 82.9 \" fill=\"#0000FF\"/>\n",
       "<path class=\"atom-3\" d=\"M 56.0 55.3 L 63.8 68.0 Q 64.6 69.2, 65.9 71.5 Q 67.1 73.8, 67.2 73.9 L 67.2 55.3 L 70.4 55.3 L 70.4 79.3 L 67.1 79.3 L 58.7 65.4 Q 57.7 63.7, 56.6 61.9 Q 55.6 60.0, 55.3 59.4 L 55.3 79.3 L 52.2 79.3 L 52.2 55.3 L 56.0 55.3 \" fill=\"#0000FF\"/>\n",
       "<path class=\"note\" d=\"M 279.5 101.9 Q 277.3 101.9, 276.2 100.3 Q 275.1 98.6, 275.1 95.7 Q 275.1 92.8, 276.2 91.2 Q 277.2 89.6, 279.5 89.6 Q 281.7 89.6, 282.8 91.2 Q 283.9 92.8, 283.9 95.7 Q 283.9 98.6, 282.8 100.3 Q 281.7 101.9, 279.5 101.9 M 279.5 100.5 Q 280.8 100.5, 281.5 99.3 Q 282.2 98.1, 282.2 95.7 Q 282.2 93.4, 281.5 92.2 Q 280.8 91.0, 279.5 91.0 Q 278.2 91.0, 277.5 92.2 Q 276.8 93.4, 276.8 95.7 Q 276.8 98.1, 277.5 99.3 Q 278.2 100.5, 279.5 100.5 \" fill=\"#000000\"/>\n",
       "<path class=\"note\" d=\"M 200.6 26.1 L 203.3 26.1 L 203.3 17.2 L 200.4 18.1 L 200.0 17.1 L 203.6 15.4 L 204.9 15.6 L 204.9 26.1 L 207.2 26.1 L 207.2 27.5 L 200.6 27.5 L 200.6 26.1 \" fill=\"#000000\"/>\n",
       "<path class=\"note\" d=\"M 138.7 124.8 Q 139.1 123.7, 140.2 123.1 Q 141.2 122.4, 142.7 122.4 Q 144.5 122.4, 145.5 123.4 Q 146.5 124.4, 146.5 126.1 Q 146.5 127.9, 145.2 129.6 Q 143.9 131.2, 141.2 133.2 L 146.7 133.2 L 146.7 134.6 L 138.6 134.6 L 138.6 133.4 Q 140.9 131.8, 142.2 130.7 Q 143.5 129.5, 144.2 128.4 Q 144.8 127.3, 144.8 126.2 Q 144.8 125.1, 144.3 124.4 Q 143.7 123.8, 142.7 123.8 Q 141.7 123.8, 141.1 124.2 Q 140.4 124.6, 140.0 125.4 L 138.7 124.8 \" fill=\"#000000\"/>\n",
       "<path class=\"note\" d=\"M 59.6 39.0 Q 60.8 39.3, 61.3 40.1 Q 61.9 40.8, 61.9 42.0 Q 61.9 43.0, 61.4 43.8 Q 60.9 44.6, 59.9 45.0 Q 59.0 45.5, 57.8 45.5 Q 56.5 45.5, 55.5 45.0 Q 54.6 44.6, 53.8 43.6 L 54.8 42.7 Q 55.5 43.5, 56.2 43.8 Q 56.8 44.1, 57.8 44.1 Q 58.9 44.1, 59.5 43.5 Q 60.2 42.9, 60.2 42.0 Q 60.2 40.8, 59.5 40.2 Q 58.8 39.7, 57.4 39.7 L 56.5 39.7 L 56.5 38.4 L 57.3 38.4 Q 58.6 38.4, 59.3 37.9 Q 59.9 37.3, 59.9 36.2 Q 59.9 35.4, 59.4 35.0 Q 58.8 34.5, 57.8 34.5 Q 56.8 34.5, 56.2 34.9 Q 55.6 35.2, 55.1 36.1 L 53.9 35.5 Q 54.4 34.5, 55.4 33.8 Q 56.4 33.2, 57.8 33.2 Q 59.6 33.2, 60.6 34.0 Q 61.6 34.8, 61.6 36.2 Q 61.6 37.2, 61.1 37.9 Q 60.6 38.6, 59.6 39.0 \" fill=\"#000000\"/>\n",
       "</svg>"
      ],
      "text/plain": [
       "<IPython.core.display.SVG object>"
      ]
     },
     "metadata": {},
     "output_type": "display_data"
    }
   ],
   "source": [
    "rule = '[O:1]-[C:2]-[C:3]~*~*~N>>[O:1]-[C:2].[C:3]~*~*~N'\n",
    "op = AllChem.ReactionFromSmarts(rule)\n",
    "for elt in op.RunReactants([mol])[0]:\n",
    "    display(SVG(draw_molecule(elt, size=(300, 150), draw_options={\"addAtomIndices\": True})))"
   ]
  }
 ],
 "metadata": {
  "kernelspec": {
   "display_name": "cgr-ltW6jZuu-py3.12",
   "language": "python",
   "name": "python3"
  },
  "language_info": {
   "codemirror_mode": {
    "name": "ipython",
    "version": 3
   },
   "file_extension": ".py",
   "mimetype": "text/x-python",
   "name": "python",
   "nbconvert_exporter": "python",
   "pygments_lexer": "ipython3",
   "version": "3.12.7"
  }
 },
 "nbformat": 4,
 "nbformat_minor": 2
}
