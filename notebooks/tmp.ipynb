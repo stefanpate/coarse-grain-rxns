{
 "cells": [
  {
   "cell_type": "code",
   "execution_count": 2,
   "id": "58e343dd",
   "metadata": {},
   "outputs": [],
   "source": [
    "from ergochemics.standardize import standardize_smiles\n",
    "import pandas as pd"
   ]
  },
  {
   "cell_type": "code",
   "execution_count": 4,
   "id": "7625f42c",
   "metadata": {},
   "outputs": [],
   "source": [
    "out_path = \"../artifacts/coreactants\"\n",
    "in_path = \"../data/raw\""
   ]
  },
  {
   "cell_type": "code",
   "execution_count": 12,
   "id": "7df53df8",
   "metadata": {},
   "outputs": [
    {
     "name": "stderr",
     "output_type": "stream",
     "text": [
      "[16:36:30] WARNING: not removing hydrogen atom without neighbors\n",
      "[16:36:30] WARNING: not removing hydrogen atom without neighbors\n",
      "[16:36:30] WARNING: not removing hydrogen atom without neighbors\n"
     ]
    }
   ],
   "source": [
    "fns = [\n",
    "    \"paired_coreactants_reference.tsv\",\n",
    "    \"unpaired_coreactants_reference.tsv\",\n",
    "]\n",
    "\n",
    "\n",
    "for fn in fns:\n",
    "    df = pd.read_csv(f\"{in_path}/{fn}\", sep=\"\\t\")\n",
    "\n",
    "    if fn.startswith(\"paired_\"):\n",
    "        df[\"Smiles 1\"] = df[\"Smiles 1\"].apply(standardize_smiles)\n",
    "        df[\"Smiles 2\"] = df[\"Smiles 2\"].apply(standardize_smiles)\n",
    "        df.columns = [\"class_1\", \"class_2\", \"smiles_1\", \"smiles_2\", \"name_1\", \"name_2\"]\n",
    "    elif fn.startswith(\"unpaired_\"):\n",
    "        df[\"Smiles\"] = df[\"Smiles\"].apply(standardize_smiles)\n",
    "        df.columns = [\"class\", \"smiles\", \"name\"]\n",
    "    \n",
    "    df.to_csv(f\"{out_path}/{fn.split('_')[0]}.tsv\", sep=\"\\t\", index=False)\n"
   ]
  }
 ],
 "metadata": {
  "kernelspec": {
   "display_name": ".venv",
   "language": "python",
   "name": "python3"
  },
  "language_info": {
   "codemirror_mode": {
    "name": "ipython",
    "version": 3
   },
   "file_extension": ".py",
   "mimetype": "text/x-python",
   "name": "python",
   "nbconvert_exporter": "python",
   "pygments_lexer": "ipython3",
   "version": "3.13.0"
  }
 },
 "nbformat": 4,
 "nbformat_minor": 5
}
